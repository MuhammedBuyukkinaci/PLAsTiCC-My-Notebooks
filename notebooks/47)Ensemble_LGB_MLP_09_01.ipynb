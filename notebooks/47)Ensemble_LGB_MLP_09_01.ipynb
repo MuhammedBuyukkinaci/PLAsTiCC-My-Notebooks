{
 "cells": [
  {
   "cell_type": "code",
   "execution_count": 1,
   "metadata": {},
   "outputs": [],
   "source": [
    "import numpy as np # linear algebra\n",
    "import pandas as pd # data processing, CSV file I/O (e.g. pd.read_csv)\n",
    "from sklearn.metrics import log_loss\n",
    "from sklearn.model_selection import StratifiedKFold\n",
    "import gc\n",
    "import os\n",
    "import matplotlib.pyplot as plt\n",
    "import seaborn as sns \n",
    "import lightgbm as lgb\n",
    "import itertools\n",
    "import pickle, gzip\n",
    "import glob\n",
    "from sklearn.preprocessing import StandardScaler\n",
    "from tsfresh.feature_extraction import extract_features\n",
    "np.warnings.filterwarnings('ignore')\n",
    "import dask.dataframe as dd\n",
    "import missingno as msno\n",
    "from pandasql import sqldf\n",
    "from sklearn.metrics import mean_squared_error\n",
    "from math import sqrt\n",
    "from sklearn.model_selection import KFold\n",
    "import matplotlib.gridspec as gridspec\n",
    "from sklearn import preprocessing\n",
    "from imblearn.over_sampling import SMOTE\n",
    "from sklearn.model_selection import train_test_split"
   ]
  },
  {
   "cell_type": "code",
   "execution_count": 2,
   "metadata": {},
   "outputs": [],
   "source": [
    "#Always seed the randomness of this universe\n",
    "np.random.seed(51)"
   ]
  },
  {
   "cell_type": "code",
   "execution_count": 3,
   "metadata": {},
   "outputs": [
    {
     "name": "stdout",
     "output_type": "stream",
     "text": [
      "(3492890, 16) (3492890, 16)\n",
      "CPU times: user 34.2 s, sys: 3.15 s, total: 37.3 s\n",
      "Wall time: 9.59 s\n"
     ]
    }
   ],
   "source": [
    "%%time\n",
    "pred1 = dd.read_csv('test_pred_27.csv')\n",
    "pred2 = dd.read_csv('test_pred_28.csv')\n",
    "pred1 = pred1.compute()\n",
    "pred2 = pred2.compute()\n",
    "print(pred1.shape,pred2.shape)"
   ]
  },
  {
   "cell_type": "code",
   "execution_count": 4,
   "metadata": {},
   "outputs": [
    {
     "name": "stdout",
     "output_type": "stream",
     "text": [
      "CPU times: user 153 ms, sys: 297 ms, total: 450 ms\n",
      "Wall time: 448 ms\n"
     ]
    }
   ],
   "source": [
    "%%time\n",
    "pred1 = pred1.reset_index(drop=True)\n",
    "pred2 = pred2.reset_index(drop=True)"
   ]
  },
  {
   "cell_type": "code",
   "execution_count": 5,
   "metadata": {},
   "outputs": [
    {
     "data": {
      "text/plain": [
       "True"
      ]
     },
     "execution_count": 5,
     "metadata": {},
     "output_type": "execute_result"
    }
   ],
   "source": [
    "pred1['object_id'].equals(pred2['object_id'])"
   ]
  },
  {
   "cell_type": "code",
   "execution_count": 6,
   "metadata": {},
   "outputs": [
    {
     "name": "stdout",
     "output_type": "stream",
     "text": [
      "CPU times: user 391 µs, sys: 44 µs, total: 435 µs\n",
      "Wall time: 441 µs\n"
     ]
    }
   ],
   "source": [
    "%%time\n",
    "test_ensemble = pd.DataFrame()"
   ]
  },
  {
   "cell_type": "code",
   "execution_count": 7,
   "metadata": {},
   "outputs": [],
   "source": [
    "coef_lgb = 0.9\n",
    "coef_mlp = 0.1"
   ]
  },
  {
   "cell_type": "code",
   "execution_count": 8,
   "metadata": {},
   "outputs": [
    {
     "name": "stdout",
     "output_type": "stream",
     "text": [
      "CPU times: user 328 ms, sys: 583 ms, total: 911 ms\n",
      "Wall time: 910 ms\n"
     ]
    }
   ],
   "source": [
    "%%time\n",
    "test_ensemble = pred1.iloc[:,1:]*coef_lgb + pred2.iloc[:,1:]*coef_mlp"
   ]
  },
  {
   "cell_type": "code",
   "execution_count": 9,
   "metadata": {},
   "outputs": [
    {
     "name": "stdout",
     "output_type": "stream",
     "text": [
      "(3492890, 15)\n"
     ]
    }
   ],
   "source": [
    "print(test_ensemble.shape)"
   ]
  },
  {
   "cell_type": "code",
   "execution_count": 10,
   "metadata": {},
   "outputs": [
    {
     "name": "stdout",
     "output_type": "stream",
     "text": [
      "(3492890, 16)\n"
     ]
    }
   ],
   "source": [
    "test_ensemble['object_id'] = pred1['object_id']\n",
    "print(test_ensemble.shape)"
   ]
  },
  {
   "cell_type": "code",
   "execution_count": 11,
   "metadata": {},
   "outputs": [],
   "source": [
    "test_ensemble = test_ensemble[list(pred1.columns)]"
   ]
  },
  {
   "cell_type": "code",
   "execution_count": 12,
   "metadata": {},
   "outputs": [
    {
     "data": {
      "text/html": [
       "<div>\n",
       "<style scoped>\n",
       "    .dataframe tbody tr th:only-of-type {\n",
       "        vertical-align: middle;\n",
       "    }\n",
       "\n",
       "    .dataframe tbody tr th {\n",
       "        vertical-align: top;\n",
       "    }\n",
       "\n",
       "    .dataframe thead th {\n",
       "        text-align: right;\n",
       "    }\n",
       "</style>\n",
       "<table border=\"1\" class=\"dataframe\">\n",
       "  <thead>\n",
       "    <tr style=\"text-align: right;\">\n",
       "      <th></th>\n",
       "      <th>object_id</th>\n",
       "      <th>class_6</th>\n",
       "      <th>class_15</th>\n",
       "      <th>class_16</th>\n",
       "      <th>class_42</th>\n",
       "      <th>class_52</th>\n",
       "      <th>class_53</th>\n",
       "      <th>class_62</th>\n",
       "      <th>class_64</th>\n",
       "      <th>class_65</th>\n",
       "      <th>class_67</th>\n",
       "      <th>class_88</th>\n",
       "      <th>class_90</th>\n",
       "      <th>class_92</th>\n",
       "      <th>class_95</th>\n",
       "      <th>class_99</th>\n",
       "    </tr>\n",
       "  </thead>\n",
       "  <tbody>\n",
       "    <tr>\n",
       "      <th>3492885</th>\n",
       "      <td>130787966</td>\n",
       "      <td>0.000292</td>\n",
       "      <td>0.341586</td>\n",
       "      <td>0.000496</td>\n",
       "      <td>0.216301</td>\n",
       "      <td>0.137334</td>\n",
       "      <td>0.000558</td>\n",
       "      <td>0.130544</td>\n",
       "      <td>0.000240</td>\n",
       "      <td>0.002394</td>\n",
       "      <td>0.021009</td>\n",
       "      <td>0.002973</td>\n",
       "      <td>0.145043</td>\n",
       "      <td>0.000372</td>\n",
       "      <td>0.000855</td>\n",
       "      <td>0.247338</td>\n",
       "    </tr>\n",
       "    <tr>\n",
       "      <th>3492886</th>\n",
       "      <td>130787971</td>\n",
       "      <td>0.000214</td>\n",
       "      <td>0.010632</td>\n",
       "      <td>0.000286</td>\n",
       "      <td>0.044801</td>\n",
       "      <td>0.181098</td>\n",
       "      <td>0.000326</td>\n",
       "      <td>0.019420</td>\n",
       "      <td>0.391704</td>\n",
       "      <td>0.000534</td>\n",
       "      <td>0.024561</td>\n",
       "      <td>0.000976</td>\n",
       "      <td>0.322122</td>\n",
       "      <td>0.000318</td>\n",
       "      <td>0.003009</td>\n",
       "      <td>0.239638</td>\n",
       "    </tr>\n",
       "    <tr>\n",
       "      <th>3492887</th>\n",
       "      <td>130787974</td>\n",
       "      <td>0.000660</td>\n",
       "      <td>0.021262</td>\n",
       "      <td>0.000164</td>\n",
       "      <td>0.886955</td>\n",
       "      <td>0.029055</td>\n",
       "      <td>0.000351</td>\n",
       "      <td>0.047300</td>\n",
       "      <td>0.000059</td>\n",
       "      <td>0.000185</td>\n",
       "      <td>0.001050</td>\n",
       "      <td>0.000492</td>\n",
       "      <td>0.010279</td>\n",
       "      <td>0.000225</td>\n",
       "      <td>0.001964</td>\n",
       "      <td>0.079695</td>\n",
       "    </tr>\n",
       "    <tr>\n",
       "      <th>3492888</th>\n",
       "      <td>130788053</td>\n",
       "      <td>0.000085</td>\n",
       "      <td>0.690437</td>\n",
       "      <td>0.000170</td>\n",
       "      <td>0.143561</td>\n",
       "      <td>0.004180</td>\n",
       "      <td>0.000170</td>\n",
       "      <td>0.010292</td>\n",
       "      <td>0.112988</td>\n",
       "      <td>0.000525</td>\n",
       "      <td>0.000336</td>\n",
       "      <td>0.000206</td>\n",
       "      <td>0.036079</td>\n",
       "      <td>0.000174</td>\n",
       "      <td>0.000796</td>\n",
       "      <td>0.175940</td>\n",
       "    </tr>\n",
       "    <tr>\n",
       "      <th>3492889</th>\n",
       "      <td>130788054</td>\n",
       "      <td>0.000258</td>\n",
       "      <td>0.090227</td>\n",
       "      <td>0.000383</td>\n",
       "      <td>0.391595</td>\n",
       "      <td>0.231864</td>\n",
       "      <td>0.000571</td>\n",
       "      <td>0.058434</td>\n",
       "      <td>0.000135</td>\n",
       "      <td>0.000752</td>\n",
       "      <td>0.020261</td>\n",
       "      <td>0.001016</td>\n",
       "      <td>0.202869</td>\n",
       "      <td>0.000771</td>\n",
       "      <td>0.000864</td>\n",
       "      <td>0.239675</td>\n",
       "    </tr>\n",
       "  </tbody>\n",
       "</table>\n",
       "</div>"
      ],
      "text/plain": [
       "         object_id   class_6  class_15  class_16  class_42  class_52  \\\n",
       "3492885  130787966  0.000292  0.341586  0.000496  0.216301  0.137334   \n",
       "3492886  130787971  0.000214  0.010632  0.000286  0.044801  0.181098   \n",
       "3492887  130787974  0.000660  0.021262  0.000164  0.886955  0.029055   \n",
       "3492888  130788053  0.000085  0.690437  0.000170  0.143561  0.004180   \n",
       "3492889  130788054  0.000258  0.090227  0.000383  0.391595  0.231864   \n",
       "\n",
       "         class_53  class_62  class_64  class_65  class_67  class_88  class_90  \\\n",
       "3492885  0.000558  0.130544  0.000240  0.002394  0.021009  0.002973  0.145043   \n",
       "3492886  0.000326  0.019420  0.391704  0.000534  0.024561  0.000976  0.322122   \n",
       "3492887  0.000351  0.047300  0.000059  0.000185  0.001050  0.000492  0.010279   \n",
       "3492888  0.000170  0.010292  0.112988  0.000525  0.000336  0.000206  0.036079   \n",
       "3492889  0.000571  0.058434  0.000135  0.000752  0.020261  0.001016  0.202869   \n",
       "\n",
       "         class_92  class_95  class_99  \n",
       "3492885  0.000372  0.000855  0.247338  \n",
       "3492886  0.000318  0.003009  0.239638  \n",
       "3492887  0.000225  0.001964  0.079695  \n",
       "3492888  0.000174  0.000796  0.175940  \n",
       "3492889  0.000771  0.000864  0.239675  "
      ]
     },
     "execution_count": 12,
     "metadata": {},
     "output_type": "execute_result"
    }
   ],
   "source": [
    "test_ensemble.tail()"
   ]
  },
  {
   "cell_type": "code",
   "execution_count": 13,
   "metadata": {},
   "outputs": [
    {
     "name": "stdout",
     "output_type": "stream",
     "text": [
      "CPU times: user 1min 30s, sys: 1.21 s, total: 1min 31s\n",
      "Wall time: 1min 31s\n"
     ]
    }
   ],
   "source": [
    "%%time\n",
    "test_ensemble.to_csv('test_pred_31.csv',index=False)"
   ]
  },
  {
   "cell_type": "code",
   "execution_count": 14,
   "metadata": {},
   "outputs": [
    {
     "data": {
      "text/plain": [
       "True"
      ]
     },
     "execution_count": 14,
     "metadata": {},
     "output_type": "execute_result"
    }
   ],
   "source": [
    "test_ensemble['object_id'].equals(pred1['object_id'])"
   ]
  },
  {
   "cell_type": "code",
   "execution_count": 15,
   "metadata": {},
   "outputs": [
    {
     "name": "stdout",
     "output_type": "stream",
     "text": [
      "100%|█████████████████████████████████████| 1.06G/1.06G [2:47:42<00:00, 113kB/s]\n",
      "Successfully submitted to PLAsTiCC Astronomical Classification"
     ]
    }
   ],
   "source": [
    "!kaggle competitions submit -c PLAsTiCC-2018 -f test_pred_31.csv -m \"Message\""
   ]
  },
  {
   "cell_type": "code",
   "execution_count": null,
   "metadata": {},
   "outputs": [],
   "source": []
  }
 ],
 "metadata": {
  "kernelspec": {
   "display_name": "Python 3",
   "language": "python",
   "name": "python3"
  },
  "language_info": {
   "codemirror_mode": {
    "name": "ipython",
    "version": 3
   },
   "file_extension": ".py",
   "mimetype": "text/x-python",
   "name": "python",
   "nbconvert_exporter": "python",
   "pygments_lexer": "ipython3",
   "version": "3.6.7"
  }
 },
 "nbformat": 4,
 "nbformat_minor": 2
}
