{
 "cells": [
  {
   "cell_type": "code",
   "execution_count": 1,
   "metadata": {},
   "outputs": [],
   "source": [
    "import numpy as np # linear algebra\n",
    "import pandas as pd # data processing, CSV file I/O (e.g. pd.read_csv)\n",
    "from sklearn.metrics import log_loss\n",
    "from sklearn.model_selection import StratifiedKFold\n",
    "import gc\n",
    "import os\n",
    "import matplotlib.pyplot as plt\n",
    "import seaborn as sns \n",
    "import lightgbm as lgb\n",
    "from catboost import Pool, CatBoostClassifier\n",
    "import itertools\n",
    "import pickle, gzip\n",
    "import glob\n",
    "from sklearn.preprocessing import StandardScaler\n",
    "from tsfresh.feature_extraction import extract_features\n",
    "np.warnings.filterwarnings('ignore')"
   ]
  },
  {
   "cell_type": "code",
   "execution_count": 2,
   "metadata": {},
   "outputs": [],
   "source": [
    "np.random.seed(51)"
   ]
  },
  {
   "cell_type": "code",
   "execution_count": 3,
   "metadata": {},
   "outputs": [],
   "source": [
    "pd.set_option('display.max_columns', None)\n",
    "pd.set_option('display.max_rows', None)"
   ]
  },
  {
   "cell_type": "code",
   "execution_count": 4,
   "metadata": {},
   "outputs": [
    {
     "name": "stderr",
     "output_type": "stream",
     "text": [
      "Feature Extraction: 100%|██████████| 20/20 [00:10<00:00,  2.35it/s]\n",
      "Feature Extraction: 100%|██████████| 20/20 [00:00<00:00, 22.84it/s]\n"
     ]
    },
    {
     "name": "stdout",
     "output_type": "stream",
     "text": [
      "CPU times: user 20.5 s, sys: 706 ms, total: 21.2 s\n",
      "Wall time: 24.4 s\n"
     ]
    }
   ],
   "source": [
    "%%time\n",
    "gc.enable()\n",
    "\n",
    "train = pd.read_csv('training_set.csv')\n",
    "# Features to compute with tsfresh library. Fft coefficient is meant to capture periodicity\n",
    "fcp = {'fft_coefficient': [{'coeff': 0, 'attr': 'abs'},{'coeff': 1, 'attr': 'abs'}],'kurtosis' : None, 'skewness' : None}\n",
    "\n",
    "def featurize(df):\n",
    "    df['flux_ratio_sq'] = np.power(df['flux'] / df['flux_err'], 2.0)\n",
    "    df['flux_by_flux_ratio_sq'] = df['flux'] * df['flux_ratio_sq']\n",
    "    # train[detected==1, mjd_diff:=max(mjd)-min(mjd), by=object_id]\n",
    "\n",
    "\n",
    "    aggs = {\n",
    "        'flux': ['min', 'max', 'mean', 'median', 'std','skew'],\n",
    "        'flux_err': ['min', 'max', 'mean', 'median', 'std','skew'],\n",
    "        'detected': ['mean'],\n",
    "        'flux_ratio_sq':['sum','skew'],\n",
    "        'flux_by_flux_ratio_sq':['sum','skew'],\n",
    "    }\n",
    "\n",
    "    agg_df = df.groupby('object_id').agg(aggs)\n",
    "    new_columns = [\n",
    "        k + '_' + agg for k in aggs.keys() for agg in aggs[k]\n",
    "    ]\n",
    "    agg_df.columns = new_columns\n",
    "    agg_df['flux_diff'] = agg_df['flux_max'] - agg_df['flux_min']\n",
    "    agg_df['flux_dif2'] = (agg_df['flux_max'] - agg_df['flux_min']) / agg_df['flux_mean']\n",
    "    agg_df['flux_w_mean'] = agg_df['flux_by_flux_ratio_sq_sum'] / agg_df['flux_ratio_sq_sum']\n",
    "    agg_df['flux_dif3'] = (agg_df['flux_max'] - agg_df['flux_min']) / agg_df['flux_w_mean']\n",
    "    # Add more features with \n",
    "    agg_df_ts = extract_features(df, column_id='object_id', column_sort='mjd', column_kind='passband', column_value = 'flux', default_fc_parameters = fcp, n_jobs=4)\n",
    "    # Add smart feature that is suggested here https://www.kaggle.com/c/PLAsTiCC-2018/discussion/69696#410538\n",
    "    # dt[detected==1, mjd_diff:=max(mjd)-min(mjd), by=object_id]\n",
    "    df_det = df[df['detected']==1].copy()\n",
    "\n",
    "    agg_df_mjd = extract_features(df_det, column_id='object_id', column_value = 'mjd', default_fc_parameters = {'maximum':None, 'minimum':None}, n_jobs=4)\n",
    "    agg_df_mjd['mjd_diff_det'] = agg_df_mjd['mjd__maximum'] - agg_df_mjd['mjd__minimum']\n",
    "    del agg_df_mjd['mjd__maximum'], agg_df_mjd['mjd__minimum']\n",
    "    agg_df_ts = pd.merge(agg_df_ts, agg_df_mjd, on = 'id')\n",
    "    # tsfresh returns a dataframe with an index name='id'\n",
    "    agg_df_ts.index.rename('object_id',inplace=True)\n",
    "    agg_df = pd.merge(agg_df, agg_df_ts, on='object_id')\n",
    "    return agg_df\n",
    "\n",
    "agg_train = featurize(train)"
   ]
  },
  {
   "cell_type": "code",
   "execution_count": 5,
   "metadata": {},
   "outputs": [
    {
     "name": "stdout",
     "output_type": "stream",
     "text": [
      "Unique classes :  [6, 15, 16, 42, 52, 53, 62, 64, 65, 67, 88, 90, 92, 95]\n",
      "CPU times: user 44.5 ms, sys: 8.05 ms, total: 52.5 ms\n",
      "Wall time: 51.5 ms\n"
     ]
    }
   ],
   "source": [
    "%%time\n",
    "meta_train = pd.read_csv('training_set_metadata.csv')\n",
    "meta_train.head()\n",
    "\n",
    "full_train = agg_train.reset_index().merge(\n",
    "    right=meta_train,\n",
    "    how='outer',\n",
    "    on='object_id'\n",
    ")\n",
    "\n",
    "if 'target' in full_train:\n",
    "    y = full_train['target']\n",
    "    del full_train['target']\n",
    "classes = sorted(y.unique())\n",
    "\n",
    "# Taken from Giba's topic : https://www.kaggle.com/titericz\n",
    "# https://www.kaggle.com/c/PLAsTiCC-2018/discussion/67194\n",
    "# with Kyle Boone's post https://www.kaggle.com/kyleboone\n",
    "class_weight = {\n",
    "    c: 1 for c in classes\n",
    "}\n",
    "for c in [64, 15]:\n",
    "    class_weight[c] = 2\n",
    "\n",
    "print('Unique classes : ', classes)\n",
    "\n",
    "train_id = full_train['object_id']\n",
    "\n",
    "if 'object_id' in full_train:\n",
    "    oof_df = full_train[['object_id']]\n",
    "    del full_train['object_id'], full_train['distmod'], full_train['hostgal_specz']\n",
    "    del full_train['ra'], full_train['decl'], full_train['gal_l'],full_train['gal_b'],full_train['ddf']\n",
    "    \n",
    "train_mean = full_train.mean(axis=0)\n",
    "full_train.fillna(0, inplace=True)"
   ]
  },
  {
   "cell_type": "code",
   "execution_count": 6,
   "metadata": {},
   "outputs": [],
   "source": [
    "# Compute weights\n",
    "w = y.value_counts()\n",
    "weights = {i : np.sum(w) / w[i] for i in w.index}\n",
    "\n",
    "def multi_weighted_logloss(y_true, y_preds):\n",
    "    \"\"\"\n",
    "    @author olivier https://www.kaggle.com/ogrellier\n",
    "    multi logloss for PLAsTiCC challenge\n",
    "    \"\"\"\n",
    "    # class_weights taken from Giba's topic : https://www.kaggle.com/titericz\n",
    "    # https://www.kaggle.com/c/PLAsTiCC-2018/discussion/67194\n",
    "    # with Kyle Boone's post https://www.kaggle.com/kyleboone\n",
    "    classes = [6, 15, 16, 42, 52, 53, 62, 64, 65, 67, 88, 90, 92, 95]\n",
    "    class_weight = {6: 1, 15: 2, 16: 1, 42: 1, 52: 1, 53: 1, 62: 1, 64: 2, 65: 1, 67: 1, 88: 1, 90: 1, 92: 1, 95: 1}\n",
    "    if len(np.unique(y_true)) > 14:\n",
    "        classes.append(99)\n",
    "        class_weight[99] = 2\n",
    "    y_p = y_preds\n",
    "    # Trasform y_true in dummies\n",
    "    y_ohe = pd.get_dummies(y_true)\n",
    "    # Normalize rows and limit y_preds to 1e-15, 1-1e-15\n",
    "    y_p = np.clip(a=y_p, a_min=1e-15, a_max=1 - 1e-15)\n",
    "    # Transform to log\n",
    "    y_p_log = np.log(y_p)\n",
    "    # Get the log for ones, .values is used to drop the index of DataFrames\n",
    "    # Exclude class 99 for now, since there is no class99 in the training set\n",
    "    # we gave a special process for that class\n",
    "    y_log_ones = np.sum(y_ohe.values * y_p_log, axis=0)\n",
    "    # Get the number of positives for each class\n",
    "    nb_pos = y_ohe.sum(axis=0).values.astype(float)\n",
    "    # Weight average and divide by the number of positives\n",
    "    class_arr = np.array([class_weight[k] for k in sorted(class_weight.keys())])\n",
    "    y_w = y_log_ones * class_arr / nb_pos\n",
    "\n",
    "    loss = - np.sum(y_w) / np.sum(class_arr)\n",
    "    return loss\n",
    "\n",
    "\n",
    "def lgb_multi_weighted_logloss(y_true, y_preds):\n",
    "    \"\"\"\n",
    "    @author olivier https://www.kaggle.com/ogrellier\n",
    "    multi logloss for PLAsTiCC challenge\n",
    "    \"\"\"\n",
    "    # class_weights taken from Giba's topic : https://www.kaggle.com/titericz\n",
    "    # https://www.kaggle.com/c/PLAsTiCC-2018/discussion/67194\n",
    "    # with Kyle Boone's post https://www.kaggle.com/kyleboone\n",
    "    classes = [6, 15, 16, 42, 52, 53, 62, 64, 65, 67, 88, 90, 92, 95]\n",
    "    class_weight = {6: 1, 15: 2, 16: 1, 42: 1, 52: 1, 53: 1, 62: 1, 64: 2, 65: 1, 67: 1, 88: 1, 90: 1, 92: 1, 95: 1}\n",
    "    if len(np.unique(y_true)) > 14:\n",
    "        classes.append(99)\n",
    "        class_weight[99] = 2\n",
    "    y_p = y_preds.reshape(y_true.shape[0], len(classes), order='F')\n",
    "\n",
    "    # Trasform y_true in dummies\n",
    "    y_ohe = pd.get_dummies(y_true)\n",
    "    # Normalize rows and limit y_preds to 1e-15, 1-1e-15\n",
    "    y_p = np.clip(a=y_p, a_min=1e-15, a_max=1 - 1e-15)\n",
    "    # Transform to log\n",
    "    y_p_log = np.log(y_p)\n",
    "    # Get the log for ones, .values is used to drop the index of DataFrames\n",
    "    # Exclude class 99 for now, since there is no class99 in the training set\n",
    "    # we gave a special process for that class\n",
    "    y_log_ones = np.sum(y_ohe.values * y_p_log, axis=0)\n",
    "    # Get the number of positives for each class\n",
    "    nb_pos = y_ohe.sum(axis=0).values.astype(float)\n",
    "    # Weight average and divide by the number of positives\n",
    "    class_arr = np.array([class_weight[k] for k in sorted(class_weight.keys())])\n",
    "    y_w = y_log_ones * class_arr / nb_pos\n",
    "\n",
    "    loss = - np.sum(y_w) / np.sum(class_arr)\n",
    "    return 'wloss', loss, False\n",
    "\n",
    "\n",
    "def save_importances(importances_):\n",
    "    mean_gain = importances_[['gain', 'feature']].groupby('feature').mean()\n",
    "    importances_['mean_gain'] = importances_['feature'].map(mean_gain['gain'])\n",
    "    plt.figure(figsize=(8, 12))\n",
    "    sns.barplot(x='gain', y='feature', data=importances_.sort_values('mean_gain', ascending=False))\n",
    "    plt.tight_layout()\n",
    "    plt.savefig('importances.png')"
   ]
  },
  {
   "cell_type": "code",
   "execution_count": 7,
   "metadata": {},
   "outputs": [
    {
     "name": "stdout",
     "output_type": "stream",
     "text": [
      "Training until validation scores don't improve for 50 rounds.\n",
      "[100]\ttraining's multi_logloss: 0.823312\ttraining's wloss: 0.814592\tvalid_1's multi_logloss: 1.17391\tvalid_1's wloss: 0.975378\n",
      "[200]\ttraining's multi_logloss: 0.561937\ttraining's wloss: 0.549992\tvalid_1's multi_logloss: 0.948143\tvalid_1's wloss: 0.779778\n",
      "[300]\ttraining's multi_logloss: 0.443828\ttraining's wloss: 0.431355\tvalid_1's multi_logloss: 0.858464\tvalid_1's wloss: 0.729607\n",
      "[400]\ttraining's multi_logloss: 0.373768\ttraining's wloss: 0.361323\tvalid_1's multi_logloss: 0.812475\tvalid_1's wloss: 0.715619\n",
      "[500]\ttraining's multi_logloss: 0.323574\ttraining's wloss: 0.311564\tvalid_1's multi_logloss: 0.781346\tvalid_1's wloss: 0.709771\n",
      "[600]\ttraining's multi_logloss: 0.285535\ttraining's wloss: 0.274299\tvalid_1's multi_logloss: 0.760263\tvalid_1's wloss: 0.712334\n",
      "Early stopping, best iteration is:\n",
      "[553]\ttraining's multi_logloss: 0.302224\ttraining's wloss: 0.290621\tvalid_1's multi_logloss: 0.769127\tvalid_1's wloss: 0.708526\n",
      "0.7085259848215397\n",
      "Training until validation scores don't improve for 50 rounds.\n",
      "[100]\ttraining's multi_logloss: 0.821221\ttraining's wloss: 0.813159\tvalid_1's multi_logloss: 1.16173\tvalid_1's wloss: 0.976453\n",
      "[200]\ttraining's multi_logloss: 0.559588\ttraining's wloss: 0.548252\tvalid_1's multi_logloss: 0.93869\tvalid_1's wloss: 0.79845\n",
      "[300]\ttraining's multi_logloss: 0.444657\ttraining's wloss: 0.433182\tvalid_1's multi_logloss: 0.857042\tvalid_1's wloss: 0.777664\n",
      "Early stopping, best iteration is:\n",
      "[307]\ttraining's multi_logloss: 0.43869\ttraining's wloss: 0.427189\tvalid_1's multi_logloss: 0.852601\tvalid_1's wloss: 0.777287\n",
      "0.7772867919647374\n",
      "Training until validation scores don't improve for 50 rounds.\n",
      "[100]\ttraining's multi_logloss: 0.818598\ttraining's wloss: 0.810278\tvalid_1's multi_logloss: 1.18265\tvalid_1's wloss: 0.950675\n",
      "[200]\ttraining's multi_logloss: 0.559119\ttraining's wloss: 0.547565\tvalid_1's multi_logloss: 0.952841\tvalid_1's wloss: 0.74279\n",
      "[300]\ttraining's multi_logloss: 0.443854\ttraining's wloss: 0.431409\tvalid_1's multi_logloss: 0.863286\tvalid_1's wloss: 0.685914\n",
      "[400]\ttraining's multi_logloss: 0.374908\ttraining's wloss: 0.362636\tvalid_1's multi_logloss: 0.814248\tvalid_1's wloss: 0.665567\n",
      "[500]\ttraining's multi_logloss: 0.324925\ttraining's wloss: 0.313053\tvalid_1's multi_logloss: 0.781942\tvalid_1's wloss: 0.655721\n",
      "[600]\ttraining's multi_logloss: 0.285361\ttraining's wloss: 0.27418\tvalid_1's multi_logloss: 0.757756\tvalid_1's wloss: 0.652287\n",
      "Early stopping, best iteration is:\n",
      "[615]\ttraining's multi_logloss: 0.279887\ttraining's wloss: 0.268837\tvalid_1's multi_logloss: 0.754394\tvalid_1's wloss: 0.651729\n",
      "0.6517286678209643\n",
      "Training until validation scores don't improve for 50 rounds.\n",
      "[100]\ttraining's multi_logloss: 0.827237\ttraining's wloss: 0.816785\tvalid_1's multi_logloss: 1.17122\tvalid_1's wloss: 0.958252\n",
      "[200]\ttraining's multi_logloss: 0.566541\ttraining's wloss: 0.554152\tvalid_1's multi_logloss: 0.935316\tvalid_1's wloss: 0.746106\n",
      "[300]\ttraining's multi_logloss: 0.448134\ttraining's wloss: 0.435429\tvalid_1's multi_logloss: 0.83982\tvalid_1's wloss: 0.691568\n",
      "[400]\ttraining's multi_logloss: 0.375721\ttraining's wloss: 0.363001\tvalid_1's multi_logloss: 0.78706\tvalid_1's wloss: 0.674225\n",
      "[500]\ttraining's multi_logloss: 0.323193\ttraining's wloss: 0.311127\tvalid_1's multi_logloss: 0.750006\tvalid_1's wloss: 0.667186\n",
      "Early stopping, best iteration is:\n",
      "[496]\ttraining's multi_logloss: 0.325087\ttraining's wloss: 0.313034\tvalid_1's multi_logloss: 0.751392\tvalid_1's wloss: 0.666987\n",
      "0.6669874091229984\n",
      "Training until validation scores don't improve for 50 rounds.\n",
      "[100]\ttraining's multi_logloss: 0.818961\ttraining's wloss: 0.808769\tvalid_1's multi_logloss: 1.17861\tvalid_1's wloss: 0.989761\n",
      "[200]\ttraining's multi_logloss: 0.557831\ttraining's wloss: 0.545567\tvalid_1's multi_logloss: 0.941467\tvalid_1's wloss: 0.78745\n",
      "[300]\ttraining's multi_logloss: 0.441931\ttraining's wloss: 0.429842\tvalid_1's multi_logloss: 0.844614\tvalid_1's wloss: 0.736792\n",
      "[400]\ttraining's multi_logloss: 0.371447\ttraining's wloss: 0.359893\tvalid_1's multi_logloss: 0.790994\tvalid_1's wloss: 0.717406\n",
      "[500]\ttraining's multi_logloss: 0.321764\ttraining's wloss: 0.310645\tvalid_1's multi_logloss: 0.75672\tvalid_1's wloss: 0.713124\n",
      "Early stopping, best iteration is:\n",
      "[476]\ttraining's multi_logloss: 0.33232\ttraining's wloss: 0.321141\tvalid_1's multi_logloss: 0.763383\tvalid_1's wloss: 0.712307\n",
      "0.7123072295493369\n",
      "MULTI WEIGHTED LOG LOSS : 0.70322 \n",
      "CPU times: user 8min 46s, sys: 1.25 s, total: 8min 47s\n",
      "Wall time: 1min 11s\n"
     ]
    }
   ],
   "source": [
    "%%time\n",
    "folds = StratifiedKFold(n_splits=5, shuffle=True, random_state=1)\n",
    "clfs = []\n",
    "importances = pd.DataFrame()\n",
    "lgb_params = {\n",
    "    'boosting_type': 'gbdt',\n",
    "    'objective': 'multiclass',\n",
    "    'num_class': 14,\n",
    "    'metric': 'multi_logloss',\n",
    "    'learning_rate': 0.03,\n",
    "    'subsample': .9,\n",
    "    'colsample_bytree': 0.5,\n",
    "    'reg_alpha': .01,\n",
    "    'reg_lambda': .01,\n",
    "    'min_split_gain': 0.01,\n",
    "    'min_child_weight': 10,\n",
    "    'n_estimators': 1000,\n",
    "    'silent': -1,\n",
    "    'verbose': -1,\n",
    "    'max_depth': 3\n",
    "}\n",
    "\n",
    "# Compute weights\n",
    "w = y.value_counts()\n",
    "weights = {i : np.sum(w) / w[i] for i in w.index}\n",
    "\n",
    "oof_preds = np.zeros((len(full_train), np.unique(y).shape[0]))\n",
    "for fold_, (trn_, val_) in enumerate(folds.split(y, y)):\n",
    "    trn_x, trn_y = full_train.iloc[trn_], y.iloc[trn_]\n",
    "    val_x, val_y = full_train.iloc[val_], y.iloc[val_]\n",
    "\n",
    "    clf = lgb.LGBMClassifier(**lgb_params)\n",
    "    clf.fit(\n",
    "        trn_x, trn_y,\n",
    "        eval_set=[(trn_x, trn_y), (val_x, val_y)],\n",
    "        eval_metric=lgb_multi_weighted_logloss,\n",
    "        verbose=100,\n",
    "        early_stopping_rounds=50,\n",
    "        sample_weight=trn_y.map(weights)\n",
    "    )\n",
    "    oof_preds[val_, :] = clf.predict_proba(val_x, num_iteration=clf.best_iteration_)\n",
    "    print(multi_weighted_logloss(val_y, oof_preds[val_, :]))\n",
    "\n",
    "    imp_df = pd.DataFrame()\n",
    "    imp_df['feature'] = full_train.columns\n",
    "    imp_df['gain'] = clf.feature_importances_\n",
    "    imp_df['fold'] = fold_ + 1\n",
    "    importances = pd.concat([importances, imp_df], axis=0, sort=False)\n",
    "\n",
    "    clfs.append(clf)\n",
    "\n",
    "print('MULTI WEIGHTED LOG LOSS : %.5f ' % multi_weighted_logloss(y_true=y, y_preds=oof_preds))"
   ]
  },
  {
   "cell_type": "code",
   "execution_count": 8,
   "metadata": {},
   "outputs": [
    {
     "data": {
      "text/html": [
       "<div>\n",
       "<style scoped>\n",
       "    .dataframe tbody tr th:only-of-type {\n",
       "        vertical-align: middle;\n",
       "    }\n",
       "\n",
       "    .dataframe tbody tr th {\n",
       "        vertical-align: top;\n",
       "    }\n",
       "\n",
       "    .dataframe thead th {\n",
       "        text-align: right;\n",
       "    }\n",
       "</style>\n",
       "<table border=\"1\" class=\"dataframe\">\n",
       "  <thead>\n",
       "    <tr style=\"text-align: right;\">\n",
       "      <th></th>\n",
       "      <th>flux_min</th>\n",
       "      <th>flux_max</th>\n",
       "      <th>flux_mean</th>\n",
       "      <th>flux_median</th>\n",
       "      <th>flux_std</th>\n",
       "      <th>flux_skew</th>\n",
       "      <th>flux_err_min</th>\n",
       "      <th>flux_err_max</th>\n",
       "      <th>flux_err_mean</th>\n",
       "      <th>flux_err_median</th>\n",
       "      <th>flux_err_std</th>\n",
       "      <th>flux_err_skew</th>\n",
       "      <th>detected_mean</th>\n",
       "      <th>flux_ratio_sq_sum</th>\n",
       "      <th>flux_ratio_sq_skew</th>\n",
       "      <th>flux_by_flux_ratio_sq_sum</th>\n",
       "      <th>flux_by_flux_ratio_sq_skew</th>\n",
       "      <th>flux_diff</th>\n",
       "      <th>flux_dif2</th>\n",
       "      <th>flux_w_mean</th>\n",
       "      <th>flux_dif3</th>\n",
       "      <th>0__fft_coefficient__coeff_0__attr_\"abs\"</th>\n",
       "      <th>0__fft_coefficient__coeff_1__attr_\"abs\"</th>\n",
       "      <th>0__kurtosis</th>\n",
       "      <th>0__skewness</th>\n",
       "      <th>1__fft_coefficient__coeff_0__attr_\"abs\"</th>\n",
       "      <th>1__fft_coefficient__coeff_1__attr_\"abs\"</th>\n",
       "      <th>1__kurtosis</th>\n",
       "      <th>1__skewness</th>\n",
       "      <th>2__fft_coefficient__coeff_0__attr_\"abs\"</th>\n",
       "      <th>2__fft_coefficient__coeff_1__attr_\"abs\"</th>\n",
       "      <th>2__kurtosis</th>\n",
       "      <th>2__skewness</th>\n",
       "      <th>3__fft_coefficient__coeff_0__attr_\"abs\"</th>\n",
       "      <th>3__fft_coefficient__coeff_1__attr_\"abs\"</th>\n",
       "      <th>3__kurtosis</th>\n",
       "      <th>3__skewness</th>\n",
       "      <th>4__fft_coefficient__coeff_0__attr_\"abs\"</th>\n",
       "      <th>4__fft_coefficient__coeff_1__attr_\"abs\"</th>\n",
       "      <th>4__kurtosis</th>\n",
       "      <th>4__skewness</th>\n",
       "      <th>5__fft_coefficient__coeff_0__attr_\"abs\"</th>\n",
       "      <th>5__fft_coefficient__coeff_1__attr_\"abs\"</th>\n",
       "      <th>5__kurtosis</th>\n",
       "      <th>5__skewness</th>\n",
       "      <th>mjd_diff_det</th>\n",
       "      <th>hostgal_photoz</th>\n",
       "      <th>hostgal_photoz_err</th>\n",
       "      <th>mwebv</th>\n",
       "    </tr>\n",
       "  </thead>\n",
       "  <tbody>\n",
       "    <tr>\n",
       "      <th>0</th>\n",
       "      <td>-1100.440063</td>\n",
       "      <td>660.626343</td>\n",
       "      <td>-123.096998</td>\n",
       "      <td>-89.477524</td>\n",
       "      <td>394.109851</td>\n",
       "      <td>-0.349540</td>\n",
       "      <td>2.130510</td>\n",
       "      <td>12.845472</td>\n",
       "      <td>4.482743</td>\n",
       "      <td>3.835269</td>\n",
       "      <td>1.744747</td>\n",
       "      <td>1.623740</td>\n",
       "      <td>0.946023</td>\n",
       "      <td>2.929669e+06</td>\n",
       "      <td>0.812722</td>\n",
       "      <td>-9.601766e+08</td>\n",
       "      <td>-1.414322</td>\n",
       "      <td>1761.066406</td>\n",
       "      <td>-14.306331</td>\n",
       "      <td>-327.742307</td>\n",
       "      <td>-5.373326</td>\n",
       "      <td>205.036926</td>\n",
       "      <td>1628.427737</td>\n",
       "      <td>-1.475181</td>\n",
       "      <td>0.128917</td>\n",
       "      <td>22370.594834</td>\n",
       "      <td>2806.374162</td>\n",
       "      <td>-1.255123</td>\n",
       "      <td>0.415580</td>\n",
       "      <td>7780.500807</td>\n",
       "      <td>2805.598113</td>\n",
       "      <td>-1.409885</td>\n",
       "      <td>0.339918</td>\n",
       "      <td>7024.003068</td>\n",
       "      <td>2536.068846</td>\n",
       "      <td>-1.449858</td>\n",
       "      <td>0.293128</td>\n",
       "      <td>3245.366349</td>\n",
       "      <td>2741.539785</td>\n",
       "      <td>-1.548319</td>\n",
       "      <td>0.200096</td>\n",
       "      <td>2704.641265</td>\n",
       "      <td>2893.344217</td>\n",
       "      <td>-1.592820</td>\n",
       "      <td>0.125268</td>\n",
       "      <td>873.7903</td>\n",
       "      <td>0.0000</td>\n",
       "      <td>0.0000</td>\n",
       "      <td>0.017</td>\n",
       "    </tr>\n",
       "    <tr>\n",
       "      <th>1</th>\n",
       "      <td>-14.735178</td>\n",
       "      <td>14.770886</td>\n",
       "      <td>-1.423351</td>\n",
       "      <td>-0.873033</td>\n",
       "      <td>6.471144</td>\n",
       "      <td>0.014989</td>\n",
       "      <td>0.639458</td>\n",
       "      <td>9.115748</td>\n",
       "      <td>2.359620</td>\n",
       "      <td>1.998217</td>\n",
       "      <td>1.509888</td>\n",
       "      <td>1.633246</td>\n",
       "      <td>0.171429</td>\n",
       "      <td>5.886068e+03</td>\n",
       "      <td>3.439423</td>\n",
       "      <td>-2.875087e+04</td>\n",
       "      <td>-3.454554</td>\n",
       "      <td>29.506064</td>\n",
       "      <td>-20.730002</td>\n",
       "      <td>-4.884564</td>\n",
       "      <td>-6.040676</td>\n",
       "      <td>190.427851</td>\n",
       "      <td>299.586559</td>\n",
       "      <td>-1.014003</td>\n",
       "      <td>0.260052</td>\n",
       "      <td>57.109047</td>\n",
       "      <td>192.539229</td>\n",
       "      <td>-1.097170</td>\n",
       "      <td>-0.087865</td>\n",
       "      <td>44.477327</td>\n",
       "      <td>191.057528</td>\n",
       "      <td>-1.188472</td>\n",
       "      <td>-0.022678</td>\n",
       "      <td>55.270113</td>\n",
       "      <td>212.522263</td>\n",
       "      <td>-1.142896</td>\n",
       "      <td>-0.167176</td>\n",
       "      <td>50.414646</td>\n",
       "      <td>203.892482</td>\n",
       "      <td>-1.190245</td>\n",
       "      <td>-0.064134</td>\n",
       "      <td>100.473776</td>\n",
       "      <td>143.963093</td>\n",
       "      <td>-0.797047</td>\n",
       "      <td>0.218182</td>\n",
       "      <td>846.8017</td>\n",
       "      <td>1.6267</td>\n",
       "      <td>0.2552</td>\n",
       "      <td>0.007</td>\n",
       "    </tr>\n",
       "    <tr>\n",
       "      <th>2</th>\n",
       "      <td>-19.159811</td>\n",
       "      <td>47.310059</td>\n",
       "      <td>2.267434</td>\n",
       "      <td>0.409172</td>\n",
       "      <td>8.022239</td>\n",
       "      <td>3.177854</td>\n",
       "      <td>0.695106</td>\n",
       "      <td>11.281384</td>\n",
       "      <td>2.471061</td>\n",
       "      <td>1.990851</td>\n",
       "      <td>1.721134</td>\n",
       "      <td>1.823726</td>\n",
       "      <td>0.069697</td>\n",
       "      <td>4.124452e+03</td>\n",
       "      <td>5.480405</td>\n",
       "      <td>1.046502e+05</td>\n",
       "      <td>5.989138</td>\n",
       "      <td>66.469870</td>\n",
       "      <td>29.315018</td>\n",
       "      <td>25.373110</td>\n",
       "      <td>2.619697</td>\n",
       "      <td>3.461790</td>\n",
       "      <td>4.729538</td>\n",
       "      <td>0.474215</td>\n",
       "      <td>0.356910</td>\n",
       "      <td>7.334944</td>\n",
       "      <td>13.515895</td>\n",
       "      <td>0.976374</td>\n",
       "      <td>0.471342</td>\n",
       "      <td>124.845250</td>\n",
       "      <td>119.500254</td>\n",
       "      <td>5.131290</td>\n",
       "      <td>2.385066</td>\n",
       "      <td>168.280524</td>\n",
       "      <td>162.799417</td>\n",
       "      <td>7.125665</td>\n",
       "      <td>2.662075</td>\n",
       "      <td>219.745132</td>\n",
       "      <td>202.532898</td>\n",
       "      <td>6.081065</td>\n",
       "      <td>2.537802</td>\n",
       "      <td>231.509177</td>\n",
       "      <td>199.286370</td>\n",
       "      <td>3.583130</td>\n",
       "      <td>1.680352</td>\n",
       "      <td>78.7737</td>\n",
       "      <td>0.2262</td>\n",
       "      <td>0.0157</td>\n",
       "      <td>0.021</td>\n",
       "    </tr>\n",
       "    <tr>\n",
       "      <th>3</th>\n",
       "      <td>-15.494463</td>\n",
       "      <td>220.795212</td>\n",
       "      <td>8.909206</td>\n",
       "      <td>1.035895</td>\n",
       "      <td>27.558208</td>\n",
       "      <td>4.979826</td>\n",
       "      <td>0.567170</td>\n",
       "      <td>55.892746</td>\n",
       "      <td>2.555576</td>\n",
       "      <td>1.819875</td>\n",
       "      <td>3.537324</td>\n",
       "      <td>10.741655</td>\n",
       "      <td>0.173789</td>\n",
       "      <td>9.416165e+04</td>\n",
       "      <td>9.611274</td>\n",
       "      <td>1.439125e+07</td>\n",
       "      <td>11.141069</td>\n",
       "      <td>236.289675</td>\n",
       "      <td>26.521968</td>\n",
       "      <td>152.835617</td>\n",
       "      <td>1.546038</td>\n",
       "      <td>129.421659</td>\n",
       "      <td>123.298327</td>\n",
       "      <td>4.629801</td>\n",
       "      <td>2.023211</td>\n",
       "      <td>320.174052</td>\n",
       "      <td>280.440312</td>\n",
       "      <td>50.868880</td>\n",
       "      <td>7.007099</td>\n",
       "      <td>543.845781</td>\n",
       "      <td>491.548270</td>\n",
       "      <td>36.088137</td>\n",
       "      <td>5.688194</td>\n",
       "      <td>807.123762</td>\n",
       "      <td>710.721942</td>\n",
       "      <td>16.392533</td>\n",
       "      <td>3.751603</td>\n",
       "      <td>735.528417</td>\n",
       "      <td>680.055280</td>\n",
       "      <td>13.747434</td>\n",
       "      <td>3.476420</td>\n",
       "      <td>591.037583</td>\n",
       "      <td>523.503586</td>\n",
       "      <td>12.134629</td>\n",
       "      <td>3.170857</td>\n",
       "      <td>123.6872</td>\n",
       "      <td>0.2813</td>\n",
       "      <td>1.1523</td>\n",
       "      <td>0.007</td>\n",
       "    </tr>\n",
       "    <tr>\n",
       "      <th>4</th>\n",
       "      <td>-16.543753</td>\n",
       "      <td>143.600189</td>\n",
       "      <td>7.145702</td>\n",
       "      <td>1.141288</td>\n",
       "      <td>20.051722</td>\n",
       "      <td>4.406298</td>\n",
       "      <td>0.695277</td>\n",
       "      <td>11.383690</td>\n",
       "      <td>2.753004</td>\n",
       "      <td>2.214854</td>\n",
       "      <td>1.933837</td>\n",
       "      <td>1.794938</td>\n",
       "      <td>0.173295</td>\n",
       "      <td>3.432418e+04</td>\n",
       "      <td>7.868462</td>\n",
       "      <td>3.015599e+06</td>\n",
       "      <td>7.908174</td>\n",
       "      <td>160.143942</td>\n",
       "      <td>22.411225</td>\n",
       "      <td>87.856390</td>\n",
       "      <td>1.822792</td>\n",
       "      <td>41.639721</td>\n",
       "      <td>32.987125</td>\n",
       "      <td>0.822496</td>\n",
       "      <td>-0.332169</td>\n",
       "      <td>268.808929</td>\n",
       "      <td>207.812015</td>\n",
       "      <td>6.112295</td>\n",
       "      <td>2.377222</td>\n",
       "      <td>594.150153</td>\n",
       "      <td>498.509820</td>\n",
       "      <td>10.343254</td>\n",
       "      <td>3.075437</td>\n",
       "      <td>643.020183</td>\n",
       "      <td>555.512641</td>\n",
       "      <td>14.095862</td>\n",
       "      <td>3.603208</td>\n",
       "      <td>574.553907</td>\n",
       "      <td>524.107264</td>\n",
       "      <td>16.377058</td>\n",
       "      <td>3.904008</td>\n",
       "      <td>393.114268</td>\n",
       "      <td>357.907185</td>\n",
       "      <td>14.434470</td>\n",
       "      <td>3.657305</td>\n",
       "      <td>133.9113</td>\n",
       "      <td>0.2415</td>\n",
       "      <td>0.0176</td>\n",
       "      <td>0.024</td>\n",
       "    </tr>\n",
       "  </tbody>\n",
       "</table>\n",
       "</div>"
      ],
      "text/plain": [
       "      flux_min    flux_max   flux_mean  flux_median    flux_std  flux_skew  \\\n",
       "0 -1100.440063  660.626343 -123.096998   -89.477524  394.109851  -0.349540   \n",
       "1   -14.735178   14.770886   -1.423351    -0.873033    6.471144   0.014989   \n",
       "2   -19.159811   47.310059    2.267434     0.409172    8.022239   3.177854   \n",
       "3   -15.494463  220.795212    8.909206     1.035895   27.558208   4.979826   \n",
       "4   -16.543753  143.600189    7.145702     1.141288   20.051722   4.406298   \n",
       "\n",
       "   flux_err_min  flux_err_max  flux_err_mean  flux_err_median  flux_err_std  \\\n",
       "0      2.130510     12.845472       4.482743         3.835269      1.744747   \n",
       "1      0.639458      9.115748       2.359620         1.998217      1.509888   \n",
       "2      0.695106     11.281384       2.471061         1.990851      1.721134   \n",
       "3      0.567170     55.892746       2.555576         1.819875      3.537324   \n",
       "4      0.695277     11.383690       2.753004         2.214854      1.933837   \n",
       "\n",
       "   flux_err_skew  detected_mean  flux_ratio_sq_sum  flux_ratio_sq_skew  \\\n",
       "0       1.623740       0.946023       2.929669e+06            0.812722   \n",
       "1       1.633246       0.171429       5.886068e+03            3.439423   \n",
       "2       1.823726       0.069697       4.124452e+03            5.480405   \n",
       "3      10.741655       0.173789       9.416165e+04            9.611274   \n",
       "4       1.794938       0.173295       3.432418e+04            7.868462   \n",
       "\n",
       "   flux_by_flux_ratio_sq_sum  flux_by_flux_ratio_sq_skew    flux_diff  \\\n",
       "0              -9.601766e+08                   -1.414322  1761.066406   \n",
       "1              -2.875087e+04                   -3.454554    29.506064   \n",
       "2               1.046502e+05                    5.989138    66.469870   \n",
       "3               1.439125e+07                   11.141069   236.289675   \n",
       "4               3.015599e+06                    7.908174   160.143942   \n",
       "\n",
       "   flux_dif2  flux_w_mean  flux_dif3  0__fft_coefficient__coeff_0__attr_\"abs\"  \\\n",
       "0 -14.306331  -327.742307  -5.373326                               205.036926   \n",
       "1 -20.730002    -4.884564  -6.040676                               190.427851   \n",
       "2  29.315018    25.373110   2.619697                                 3.461790   \n",
       "3  26.521968   152.835617   1.546038                               129.421659   \n",
       "4  22.411225    87.856390   1.822792                                41.639721   \n",
       "\n",
       "   0__fft_coefficient__coeff_1__attr_\"abs\"  0__kurtosis  0__skewness  \\\n",
       "0                              1628.427737    -1.475181     0.128917   \n",
       "1                               299.586559    -1.014003     0.260052   \n",
       "2                                 4.729538     0.474215     0.356910   \n",
       "3                               123.298327     4.629801     2.023211   \n",
       "4                                32.987125     0.822496    -0.332169   \n",
       "\n",
       "   1__fft_coefficient__coeff_0__attr_\"abs\"  \\\n",
       "0                             22370.594834   \n",
       "1                                57.109047   \n",
       "2                                 7.334944   \n",
       "3                               320.174052   \n",
       "4                               268.808929   \n",
       "\n",
       "   1__fft_coefficient__coeff_1__attr_\"abs\"  1__kurtosis  1__skewness  \\\n",
       "0                              2806.374162    -1.255123     0.415580   \n",
       "1                               192.539229    -1.097170    -0.087865   \n",
       "2                                13.515895     0.976374     0.471342   \n",
       "3                               280.440312    50.868880     7.007099   \n",
       "4                               207.812015     6.112295     2.377222   \n",
       "\n",
       "   2__fft_coefficient__coeff_0__attr_\"abs\"  \\\n",
       "0                              7780.500807   \n",
       "1                                44.477327   \n",
       "2                               124.845250   \n",
       "3                               543.845781   \n",
       "4                               594.150153   \n",
       "\n",
       "   2__fft_coefficient__coeff_1__attr_\"abs\"  2__kurtosis  2__skewness  \\\n",
       "0                              2805.598113    -1.409885     0.339918   \n",
       "1                               191.057528    -1.188472    -0.022678   \n",
       "2                               119.500254     5.131290     2.385066   \n",
       "3                               491.548270    36.088137     5.688194   \n",
       "4                               498.509820    10.343254     3.075437   \n",
       "\n",
       "   3__fft_coefficient__coeff_0__attr_\"abs\"  \\\n",
       "0                              7024.003068   \n",
       "1                                55.270113   \n",
       "2                               168.280524   \n",
       "3                               807.123762   \n",
       "4                               643.020183   \n",
       "\n",
       "   3__fft_coefficient__coeff_1__attr_\"abs\"  3__kurtosis  3__skewness  \\\n",
       "0                              2536.068846    -1.449858     0.293128   \n",
       "1                               212.522263    -1.142896    -0.167176   \n",
       "2                               162.799417     7.125665     2.662075   \n",
       "3                               710.721942    16.392533     3.751603   \n",
       "4                               555.512641    14.095862     3.603208   \n",
       "\n",
       "   4__fft_coefficient__coeff_0__attr_\"abs\"  \\\n",
       "0                              3245.366349   \n",
       "1                                50.414646   \n",
       "2                               219.745132   \n",
       "3                               735.528417   \n",
       "4                               574.553907   \n",
       "\n",
       "   4__fft_coefficient__coeff_1__attr_\"abs\"  4__kurtosis  4__skewness  \\\n",
       "0                              2741.539785    -1.548319     0.200096   \n",
       "1                               203.892482    -1.190245    -0.064134   \n",
       "2                               202.532898     6.081065     2.537802   \n",
       "3                               680.055280    13.747434     3.476420   \n",
       "4                               524.107264    16.377058     3.904008   \n",
       "\n",
       "   5__fft_coefficient__coeff_0__attr_\"abs\"  \\\n",
       "0                              2704.641265   \n",
       "1                               100.473776   \n",
       "2                               231.509177   \n",
       "3                               591.037583   \n",
       "4                               393.114268   \n",
       "\n",
       "   5__fft_coefficient__coeff_1__attr_\"abs\"  5__kurtosis  5__skewness  \\\n",
       "0                              2893.344217    -1.592820     0.125268   \n",
       "1                               143.963093    -0.797047     0.218182   \n",
       "2                               199.286370     3.583130     1.680352   \n",
       "3                               523.503586    12.134629     3.170857   \n",
       "4                               357.907185    14.434470     3.657305   \n",
       "\n",
       "   mjd_diff_det  hostgal_photoz  hostgal_photoz_err  mwebv  \n",
       "0      873.7903          0.0000              0.0000  0.017  \n",
       "1      846.8017          1.6267              0.2552  0.007  \n",
       "2       78.7737          0.2262              0.0157  0.021  \n",
       "3      123.6872          0.2813              1.1523  0.007  \n",
       "4      133.9113          0.2415              0.0176  0.024  "
      ]
     },
     "execution_count": 8,
     "metadata": {},
     "output_type": "execute_result"
    }
   ],
   "source": [
    "full_train.head()"
   ]
  },
  {
   "cell_type": "code",
   "execution_count": 11,
   "metadata": {},
   "outputs": [],
   "source": [
    "written_train_file = pd.concat([full_train,y,train_id],axis=1)"
   ]
  },
  {
   "cell_type": "code",
   "execution_count": 12,
   "metadata": {},
   "outputs": [
    {
     "name": "stdout",
     "output_type": "stream",
     "text": [
      "(7848, 51)\n"
     ]
    }
   ],
   "source": [
    "print(written_train_file.shape)"
   ]
  },
  {
   "cell_type": "code",
   "execution_count": 13,
   "metadata": {},
   "outputs": [],
   "source": [
    "written_train_file.to_csv(\"train_metadata_kaggle.csv\",index=False)"
   ]
  },
  {
   "cell_type": "code",
   "execution_count": 14,
   "metadata": {},
   "outputs": [
    {
     "data": {
      "text/plain": [
       "823"
      ]
     },
     "execution_count": 14,
     "metadata": {},
     "output_type": "execute_result"
    }
   ],
   "source": [
    "del written_train_file\n",
    "gc.collect()"
   ]
  },
  {
   "cell_type": "code",
   "execution_count": 15,
   "metadata": {},
   "outputs": [
    {
     "name": "stdout",
     "output_type": "stream",
     "text": [
      "Normalized confusion matrix\n"
     ]
    },
    {
     "data": {
      "image/png": "[encoded data removed]",
      "text/plain": [
       "<Figure size 576x864 with 1 Axes>"
      ]
     },
     "metadata": {
      "needs_background": "light"
     },
     "output_type": "display_data"
    },
    {
     "data": {
      "image/png": "[encoded data removed]",
      "text/plain": [
       "<Figure size 864x864 with 2 Axes>"
      ]
     },
     "metadata": {
      "needs_background": "light"
     },
     "output_type": "display_data"
    }
   ],
   "source": [
    "save_importances(importances_=importances)\n",
    "# http://scikit-learn.org/stable/modules/generated/sklearn.metrics.confusion_matrix.html\n",
    "def plot_confusion_matrix(cm, classes,\n",
    "                          normalize=False,\n",
    "                          title='Confusion matrix',\n",
    "                          cmap=plt.cm.Blues):\n",
    "    \"\"\"\n",
    "    This function prints and plots the confusion matrix.\n",
    "    Normalization can be applied by setting `normalize=True`.\n",
    "    \"\"\"\n",
    "    if normalize:\n",
    "        cm = cm.astype('float') / cm.sum(axis=1)[:, np.newaxis]\n",
    "        print(\"Normalized confusion matrix\")\n",
    "    else:\n",
    "        print('Confusion matrix, without normalization')\n",
    "\n",
    "    plt.imshow(cm, interpolation='nearest', cmap=cmap)\n",
    "    plt.title(title)\n",
    "    plt.colorbar()\n",
    "    tick_marks = np.arange(len(classes))\n",
    "    plt.xticks(tick_marks, classes, rotation=45)\n",
    "    plt.yticks(tick_marks, classes)\n",
    "\n",
    "    fmt = '.2f' if normalize else 'd'\n",
    "    thresh = cm.max() / 2.\n",
    "    for i, j in itertools.product(range(cm.shape[0]), range(cm.shape[1])):\n",
    "        plt.text(j, i, format(cm[i, j], fmt),\n",
    "                 horizontalalignment=\"center\",\n",
    "                 color=\"white\" if cm[i, j] > thresh else \"black\")\n",
    "\n",
    "    plt.ylabel('True label')\n",
    "    plt.xlabel('Predicted label')\n",
    "    plt.tight_layout()\n",
    "    \n",
    "unique_y = np.unique(y)\n",
    "class_map = dict()\n",
    "for i,val in enumerate(unique_y):\n",
    "    class_map[val] = i\n",
    "        \n",
    "y_map = np.zeros((y.shape[0],))\n",
    "y_map = np.array([class_map[val] for val in y])\n",
    "\n",
    "# Compute confusion matrix\n",
    "from sklearn.metrics import confusion_matrix\n",
    "cnf_matrix = confusion_matrix(y_map, np.argmax(oof_preds,axis=-1))\n",
    "np.set_printoptions(precision=2)\n",
    "\n",
    "sample_sub = pd.read_csv('sample_submission.csv')\n",
    "class_names = list(sample_sub.columns[1:-1])\n",
    "del sample_sub;gc.collect()\n",
    "\n",
    "# Plot non-normalized confusion matrix\n",
    "plt.figure(figsize=(12,12))\n",
    "foo = plot_confusion_matrix(cnf_matrix, classes=class_names,normalize=True,\n",
    "                      title='Confusion matrix')"
   ]
  },
  {
   "cell_type": "code",
   "execution_count": 16,
   "metadata": {},
   "outputs": [],
   "source": [
    "def predict_chunk(df_, clfs_, meta_, features, train_mean):\n",
    "    # Group by object id    \n",
    "    agg_ = featurize(df_)\n",
    "    # Merge with meta data\n",
    "    full_test = agg_.reset_index().merge(\n",
    "        right=meta_,\n",
    "        how='left',\n",
    "        on='object_id'\n",
    "    )\n",
    "\n",
    "    full_test = full_test.fillna(0)\n",
    "    # Make predictions\n",
    "    preds_ = None\n",
    "    for clf in clfs_:\n",
    "        if preds_ is None:\n",
    "            preds_ = clf.predict_proba(full_test[features]) / len(clfs_)\n",
    "        else:\n",
    "            preds_ += clf.predict_proba(full_test[features]) / len(clfs_)\n",
    "\n",
    "    # Compute preds_99 as the proba of class not being any of the others\n",
    "    # preds_99 = 0.1 gives 1.769\n",
    "    preds_99 = np.ones(preds_.shape[0])\n",
    "    for i in range(preds_.shape[1]):\n",
    "        preds_99 *= (1 - preds_[:, i])\n",
    "\n",
    "    # Create DataFrame from predictions\n",
    "    preds_df_ = pd.DataFrame(preds_, columns=['class_' + str(s) for s in clfs_[0].classes_])\n",
    "    preds_df_['object_id'] = full_test['object_id']\n",
    "    preds_df_['class_99'] = 0.14 * preds_99 / np.mean(preds_99)\n",
    "    print(full_test[['object_id'] + features].shape)\n",
    "    return full_test[['object_id'] + features] , preds_df_"
   ]
  },
  {
   "cell_type": "code",
   "execution_count": 17,
   "metadata": {},
   "outputs": [
    {
     "name": "stderr",
     "output_type": "stream",
     "text": [
      "Feature Extraction: 100%|██████████| 20/20 [00:26<00:00,  1.08it/s]\n",
      "Feature Extraction: 100%|██████████| 20/20 [00:02<00:00,  8.18it/s]\n"
     ]
    },
    {
     "name": "stdout",
     "output_type": "stream",
     "text": [
      "(30320, 50)\n",
      "       10000000 done in   1.5 minutes\n"
     ]
    },
    {
     "name": "stderr",
     "output_type": "stream",
     "text": [
      "Feature Extraction: 100%|██████████| 20/20 [01:05<00:00,  2.78s/it]\n",
      "Feature Extraction: 100%|██████████| 20/20 [00:05<00:00,  3.58it/s]\n"
     ]
    },
    {
     "name": "stdout",
     "output_type": "stream",
     "text": [
      "(74021, 50)\n",
      "       20000000 done in   4.8 minutes\n"
     ]
    },
    {
     "name": "stderr",
     "output_type": "stream",
     "text": [
      "Feature Extraction: 100%|██████████| 20/20 [01:09<00:00,  2.71s/it]\n",
      "Feature Extraction: 100%|██████████| 20/20 [00:06<00:00,  3.39it/s]\n"
     ]
    },
    {
     "name": "stdout",
     "output_type": "stream",
     "text": [
      "(78126, 50)\n",
      "       30000000 done in   8.3 minutes\n"
     ]
    },
    {
     "name": "stderr",
     "output_type": "stream",
     "text": [
      "Feature Extraction: 100%|██████████| 20/20 [01:09<00:00,  2.74s/it]\n",
      "Feature Extraction: 100%|██████████| 20/20 [00:06<00:00,  3.35it/s]\n"
     ]
    },
    {
     "name": "stdout",
     "output_type": "stream",
     "text": [
      "(78147, 50)\n",
      "       40000000 done in  11.9 minutes\n"
     ]
    },
    {
     "name": "stderr",
     "output_type": "stream",
     "text": [
      "Feature Extraction: 100%|██████████| 20/20 [01:09<00:00,  2.72s/it]\n",
      "Feature Extraction: 100%|██████████| 20/20 [00:06<00:00,  3.36it/s]\n"
     ]
    },
    {
     "name": "stdout",
     "output_type": "stream",
     "text": [
      "(78133, 50)\n",
      "       50000000 done in  15.4 minutes\n"
     ]
    },
    {
     "name": "stderr",
     "output_type": "stream",
     "text": [
      "Feature Extraction: 100%|██████████| 20/20 [01:08<00:00,  2.66s/it]\n",
      "Feature Extraction: 100%|██████████| 20/20 [00:06<00:00,  3.43it/s]\n"
     ]
    },
    {
     "name": "stdout",
     "output_type": "stream",
     "text": [
      "(78154, 50)\n",
      "       60000000 done in  18.9 minutes\n"
     ]
    },
    {
     "name": "stderr",
     "output_type": "stream",
     "text": [
      "Feature Extraction: 100%|██████████| 20/20 [01:26<00:00,  2.80s/it]\n",
      "Feature Extraction: 100%|██████████| 20/20 [00:05<00:00,  3.54it/s]\n"
     ]
    },
    {
     "name": "stdout",
     "output_type": "stream",
     "text": [
      "(78194, 50)\n",
      "       70000000 done in  22.7 minutes\n"
     ]
    },
    {
     "name": "stderr",
     "output_type": "stream",
     "text": [
      "Feature Extraction: 100%|██████████| 20/20 [01:10<00:00,  3.22s/it]\n",
      "Feature Extraction: 100%|██████████| 20/20 [00:05<00:00,  3.53it/s]\n"
     ]
    },
    {
     "name": "stdout",
     "output_type": "stream",
     "text": [
      "(78141, 50)\n",
      "       80000000 done in  26.2 minutes\n"
     ]
    },
    {
     "name": "stderr",
     "output_type": "stream",
     "text": [
      "Feature Extraction: 100%|██████████| 20/20 [01:10<00:00,  2.76s/it]\n",
      "Feature Extraction: 100%|██████████| 20/20 [00:06<00:00,  3.47it/s]\n"
     ]
    },
    {
     "name": "stdout",
     "output_type": "stream",
     "text": [
      "(78128, 50)\n",
      "       90000000 done in  29.7 minutes\n"
     ]
    },
    {
     "name": "stderr",
     "output_type": "stream",
     "text": [
      "Feature Extraction: 100%|██████████| 20/20 [01:09<00:00,  2.91s/it]\n",
      "Feature Extraction: 100%|██████████| 20/20 [00:06<00:00,  3.43it/s]\n"
     ]
    },
    {
     "name": "stdout",
     "output_type": "stream",
     "text": [
      "(78188, 50)\n",
      "      100000000 done in  33.3 minutes\n"
     ]
    },
    {
     "name": "stderr",
     "output_type": "stream",
     "text": [
      "Feature Extraction: 100%|██████████| 20/20 [01:09<00:00,  2.78s/it]\n",
      "Feature Extraction: 100%|██████████| 20/20 [00:06<00:00,  3.34it/s]\n"
     ]
    },
    {
     "name": "stdout",
     "output_type": "stream",
     "text": [
      "(78056, 50)\n",
      "      110000000 done in  36.8 minutes\n"
     ]
    },
    {
     "name": "stderr",
     "output_type": "stream",
     "text": [
      "Feature Extraction: 100%|██████████| 20/20 [01:09<00:00,  2.87s/it]\n",
      "Feature Extraction: 100%|██████████| 20/20 [00:06<00:00,  3.37it/s]\n"
     ]
    },
    {
     "name": "stdout",
     "output_type": "stream",
     "text": [
      "(78157, 50)\n",
      "      120000000 done in  40.3 minutes\n"
     ]
    },
    {
     "name": "stderr",
     "output_type": "stream",
     "text": [
      "Feature Extraction: 100%|██████████| 20/20 [01:09<00:00,  2.86s/it]\n",
      "Feature Extraction: 100%|██████████| 20/20 [00:09<00:00,  2.36it/s]\n"
     ]
    },
    {
     "name": "stdout",
     "output_type": "stream",
     "text": [
      "(78178, 50)\n",
      "      130000000 done in  44.5 minutes\n"
     ]
    },
    {
     "name": "stderr",
     "output_type": "stream",
     "text": [
      "Feature Extraction: 100%|██████████| 20/20 [02:03<00:00,  4.64s/it]\n",
      "Feature Extraction: 100%|██████████| 20/20 [00:06<00:00,  3.46it/s]\n"
     ]
    },
    {
     "name": "stdout",
     "output_type": "stream",
     "text": [
      "(78134, 50)\n",
      "      140000000 done in  50.3 minutes\n"
     ]
    },
    {
     "name": "stderr",
     "output_type": "stream",
     "text": [
      "Feature Extraction: 100%|██████████| 20/20 [01:44<00:00,  3.17s/it]\n",
      "Feature Extraction: 100%|██████████| 20/20 [00:05<00:00,  3.49it/s]\n"
     ]
    },
    {
     "name": "stdout",
     "output_type": "stream",
     "text": [
      "(78178, 50)\n",
      "      150000000 done in  55.4 minutes\n"
     ]
    },
    {
     "name": "stderr",
     "output_type": "stream",
     "text": [
      "Feature Extraction: 100%|██████████| 20/20 [01:19<00:00,  2.76s/it]\n",
      "Feature Extraction: 100%|██████████| 20/20 [00:06<00:00,  3.02it/s]\n"
     ]
    },
    {
     "name": "stdout",
     "output_type": "stream",
     "text": [
      "(78142, 50)\n",
      "      160000000 done in  59.7 minutes\n"
     ]
    },
    {
     "name": "stderr",
     "output_type": "stream",
     "text": [
      "Feature Extraction: 100%|██████████| 20/20 [01:47<00:00,  4.83s/it]\n",
      "Feature Extraction: 100%|██████████| 20/20 [00:09<00:00,  2.21it/s]\n"
     ]
    },
    {
     "name": "stdout",
     "output_type": "stream",
     "text": [
      "(78152, 50)\n",
      "      170000000 done in  64.8 minutes\n"
     ]
    },
    {
     "name": "stderr",
     "output_type": "stream",
     "text": [
      "Feature Extraction: 100%|██████████| 20/20 [01:51<00:00,  4.58s/it]\n",
      "Feature Extraction: 100%|██████████| 20/20 [00:09<00:00,  2.33it/s]\n"
     ]
    },
    {
     "name": "stdout",
     "output_type": "stream",
     "text": [
      "(78167, 50)\n",
      "      180000000 done in  69.6 minutes\n"
     ]
    },
    {
     "name": "stderr",
     "output_type": "stream",
     "text": [
      "Feature Extraction: 100%|██████████| 20/20 [01:19<00:00,  2.90s/it]\n",
      "Feature Extraction: 100%|██████████| 20/20 [00:06<00:00,  3.30it/s]\n"
     ]
    },
    {
     "name": "stdout",
     "output_type": "stream",
     "text": [
      "(78160, 50)\n",
      "      190000000 done in  74.3 minutes\n"
     ]
    },
    {
     "name": "stderr",
     "output_type": "stream",
     "text": [
      "Feature Extraction: 100%|██████████| 20/20 [01:09<00:00,  2.65s/it]\n",
      "Feature Extraction: 100%|██████████| 20/20 [00:06<00:00,  3.37it/s]\n"
     ]
    },
    {
     "name": "stdout",
     "output_type": "stream",
     "text": [
      "(78111, 50)\n",
      "      200000000 done in  77.8 minutes\n"
     ]
    },
    {
     "name": "stderr",
     "output_type": "stream",
     "text": [
      "Feature Extraction: 100%|██████████| 20/20 [01:22<00:00,  3.40s/it]\n",
      "Feature Extraction: 100%|██████████| 20/20 [00:06<00:00,  3.08it/s]\n"
     ]
    },
    {
     "name": "stdout",
     "output_type": "stream",
     "text": [
      "(78144, 50)\n",
      "      210000000 done in  82.3 minutes\n"
     ]
    },
    {
     "name": "stderr",
     "output_type": "stream",
     "text": [
      "Feature Extraction: 100%|██████████| 20/20 [02:24<00:00,  5.07s/it]\n",
      "Feature Extraction: 100%|██████████| 20/20 [00:07<00:00,  2.70it/s]\n"
     ]
    },
    {
     "name": "stdout",
     "output_type": "stream",
     "text": [
      "(78024, 50)\n",
      "      220000000 done in  88.1 minutes\n"
     ]
    },
    {
     "name": "stderr",
     "output_type": "stream",
     "text": [
      "Feature Extraction: 100%|██████████| 20/20 [01:27<00:00,  3.44s/it]\n",
      "Feature Extraction: 100%|██████████| 20/20 [00:06<00:00,  3.06it/s]\n"
     ]
    },
    {
     "name": "stdout",
     "output_type": "stream",
     "text": [
      "(78062, 50)\n",
      "      230000000 done in  93.1 minutes\n"
     ]
    },
    {
     "name": "stderr",
     "output_type": "stream",
     "text": [
      "Feature Extraction: 100%|██████████| 20/20 [01:18<00:00,  2.80s/it]\n",
      "Feature Extraction: 100%|██████████| 20/20 [00:06<00:00,  3.31it/s]\n"
     ]
    },
    {
     "name": "stdout",
     "output_type": "stream",
     "text": [
      "(78132, 50)\n",
      "      240000000 done in  97.2 minutes\n"
     ]
    },
    {
     "name": "stderr",
     "output_type": "stream",
     "text": [
      "Feature Extraction: 100%|██████████| 20/20 [01:46<00:00,  4.98s/it]\n",
      "Feature Extraction: 100%|██████████| 20/20 [00:08<00:00,  3.02it/s]\n"
     ]
    },
    {
     "name": "stdout",
     "output_type": "stream",
     "text": [
      "(78169, 50)\n",
      "      250000000 done in 102.1 minutes\n"
     ]
    },
    {
     "name": "stderr",
     "output_type": "stream",
     "text": [
      "Feature Extraction: 100%|██████████| 20/20 [01:24<00:00,  3.02s/it]\n",
      "Feature Extraction: 100%|██████████| 20/20 [00:06<00:00,  2.45it/s]\n"
     ]
    },
    {
     "name": "stdout",
     "output_type": "stream",
     "text": [
      "(78155, 50)\n",
      "      260000000 done in 106.1 minutes\n"
     ]
    },
    {
     "name": "stderr",
     "output_type": "stream",
     "text": [
      "Feature Extraction: 100%|██████████| 20/20 [01:40<00:00,  3.50s/it]\n",
      "Feature Extraction: 100%|██████████| 20/20 [00:06<00:00,  3.14it/s]\n"
     ]
    },
    {
     "name": "stdout",
     "output_type": "stream",
     "text": [
      "(78121, 50)\n",
      "      270000000 done in 110.8 minutes\n"
     ]
    },
    {
     "name": "stderr",
     "output_type": "stream",
     "text": [
      "Feature Extraction: 100%|██████████| 20/20 [01:19<00:00,  2.38s/it]\n",
      "Feature Extraction: 100%|██████████| 20/20 [00:05<00:00,  3.51it/s]\n"
     ]
    },
    {
     "name": "stdout",
     "output_type": "stream",
     "text": [
      "(78132, 50)\n",
      "      280000000 done in 115.5 minutes\n"
     ]
    },
    {
     "name": "stderr",
     "output_type": "stream",
     "text": [
      "Feature Extraction: 100%|██████████| 20/20 [01:09<00:00,  3.00s/it]\n",
      "Feature Extraction: 100%|██████████| 20/20 [00:05<00:00,  3.46it/s]\n"
     ]
    },
    {
     "name": "stdout",
     "output_type": "stream",
     "text": [
      "(78161, 50)\n",
      "      290000000 done in 119.0 minutes\n"
     ]
    },
    {
     "name": "stderr",
     "output_type": "stream",
     "text": [
      "Feature Extraction: 100%|██████████| 20/20 [01:09<00:00,  2.53s/it]\n",
      "Feature Extraction: 100%|██████████| 20/20 [00:05<00:00,  3.42it/s]\n"
     ]
    },
    {
     "name": "stdout",
     "output_type": "stream",
     "text": [
      "(78136, 50)\n",
      "      300000000 done in 122.5 minutes\n"
     ]
    },
    {
     "name": "stderr",
     "output_type": "stream",
     "text": [
      "Feature Extraction: 100%|██████████| 20/20 [01:09<00:00,  2.84s/it]\n",
      "Feature Extraction: 100%|██████████| 20/20 [00:05<00:00,  3.50it/s]\n"
     ]
    },
    {
     "name": "stdout",
     "output_type": "stream",
     "text": [
      "(78180, 50)\n",
      "      310000000 done in 126.0 minutes\n"
     ]
    },
    {
     "name": "stderr",
     "output_type": "stream",
     "text": [
      "Feature Extraction: 100%|██████████| 20/20 [01:09<00:00,  2.80s/it]\n",
      "Feature Extraction: 100%|██████████| 20/20 [00:07<00:00,  2.81it/s]\n"
     ]
    },
    {
     "name": "stdout",
     "output_type": "stream",
     "text": [
      "(78101, 50)\n",
      "      320000000 done in 129.6 minutes\n"
     ]
    },
    {
     "name": "stderr",
     "output_type": "stream",
     "text": [
      "Feature Extraction: 100%|██████████| 20/20 [01:50<00:00,  5.32s/it]\n",
      "Feature Extraction: 100%|██████████| 20/20 [00:13<00:00,  1.65it/s]\n"
     ]
    },
    {
     "name": "stdout",
     "output_type": "stream",
     "text": [
      "(78202, 50)\n",
      "      330000000 done in 134.6 minutes\n"
     ]
    },
    {
     "name": "stderr",
     "output_type": "stream",
     "text": [
      "Feature Extraction: 100%|██████████| 20/20 [01:45<00:00,  3.11s/it]\n",
      "Feature Extraction: 100%|██████████| 20/20 [00:05<00:00,  3.95it/s]\n"
     ]
    },
    {
     "name": "stdout",
     "output_type": "stream",
     "text": [
      "(78220, 50)\n",
      "      340000000 done in 139.6 minutes\n"
     ]
    },
    {
     "name": "stderr",
     "output_type": "stream",
     "text": [
      "Feature Extraction: 100%|██████████| 20/20 [01:09<00:00,  2.87s/it]\n",
      "Feature Extraction: 100%|██████████| 20/20 [00:06<00:00,  3.46it/s]\n"
     ]
    },
    {
     "name": "stdout",
     "output_type": "stream",
     "text": [
      "(78116, 50)\n",
      "      350000000 done in 143.1 minutes\n"
     ]
    },
    {
     "name": "stderr",
     "output_type": "stream",
     "text": [
      "Feature Extraction: 100%|██████████| 20/20 [01:08<00:00,  2.74s/it]\n",
      "Feature Extraction: 100%|██████████| 20/20 [00:05<00:00,  3.51it/s]\n"
     ]
    },
    {
     "name": "stdout",
     "output_type": "stream",
     "text": [
      "(78110, 50)\n",
      "      360000000 done in 146.6 minutes\n"
     ]
    },
    {
     "name": "stderr",
     "output_type": "stream",
     "text": [
      "Feature Extraction: 100%|██████████| 20/20 [01:09<00:00,  2.81s/it]\n",
      "Feature Extraction: 100%|██████████| 20/20 [00:05<00:00,  3.32it/s]\n"
     ]
    },
    {
     "name": "stdout",
     "output_type": "stream",
     "text": [
      "(78147, 50)\n",
      "      370000000 done in 150.1 minutes\n"
     ]
    },
    {
     "name": "stderr",
     "output_type": "stream",
     "text": [
      "Feature Extraction: 100%|██████████| 20/20 [01:08<00:00,  2.63s/it]\n",
      "Feature Extraction: 100%|██████████| 20/20 [00:05<00:00,  3.40it/s]\n"
     ]
    },
    {
     "name": "stdout",
     "output_type": "stream",
     "text": [
      "(78091, 50)\n",
      "      380000000 done in 153.6 minutes\n"
     ]
    },
    {
     "name": "stderr",
     "output_type": "stream",
     "text": [
      "Feature Extraction: 100%|██████████| 20/20 [01:08<00:00,  2.69s/it]\n",
      "Feature Extraction: 100%|██████████| 20/20 [00:05<00:00,  3.42it/s]\n"
     ]
    },
    {
     "name": "stdout",
     "output_type": "stream",
     "text": [
      "(78153, 50)\n",
      "      390000000 done in 157.0 minutes\n"
     ]
    },
    {
     "name": "stderr",
     "output_type": "stream",
     "text": [
      "Feature Extraction: 100%|██████████| 20/20 [01:09<00:00,  2.78s/it]\n",
      "Feature Extraction: 100%|██████████| 20/20 [00:05<00:00,  3.48it/s]\n"
     ]
    },
    {
     "name": "stdout",
     "output_type": "stream",
     "text": [
      "(78118, 50)\n",
      "      400000000 done in 160.5 minutes\n"
     ]
    },
    {
     "name": "stderr",
     "output_type": "stream",
     "text": [
      "Feature Extraction: 100%|██████████| 20/20 [01:09<00:00,  2.76s/it]\n",
      "Feature Extraction: 100%|██████████| 20/20 [00:06<00:00,  3.43it/s]\n"
     ]
    },
    {
     "name": "stdout",
     "output_type": "stream",
     "text": [
      "(78153, 50)\n",
      "      410000000 done in 164.1 minutes\n"
     ]
    },
    {
     "name": "stderr",
     "output_type": "stream",
     "text": [
      "Feature Extraction: 100%|██████████| 20/20 [01:09<00:00,  2.61s/it]\n",
      "Feature Extraction: 100%|██████████| 20/20 [00:05<00:00,  3.43it/s]\n"
     ]
    },
    {
     "name": "stdout",
     "output_type": "stream",
     "text": [
      "(78170, 50)\n",
      "      420000000 done in 167.6 minutes\n"
     ]
    },
    {
     "name": "stderr",
     "output_type": "stream",
     "text": [
      "Feature Extraction: 100%|██████████| 20/20 [01:09<00:00,  2.72s/it]\n",
      "Feature Extraction: 100%|██████████| 20/20 [00:05<00:00,  3.48it/s]\n"
     ]
    },
    {
     "name": "stdout",
     "output_type": "stream",
     "text": [
      "(78127, 50)\n",
      "      430000000 done in 171.1 minutes\n"
     ]
    },
    {
     "name": "stderr",
     "output_type": "stream",
     "text": [
      "Feature Extraction: 100%|██████████| 20/20 [01:19<00:00,  3.10s/it]\n",
      "Feature Extraction: 100%|██████████| 20/20 [00:05<00:00,  3.47it/s]\n"
     ]
    },
    {
     "name": "stdout",
     "output_type": "stream",
     "text": [
      "(78130, 50)\n",
      "      440000000 done in 175.0 minutes\n"
     ]
    },
    {
     "name": "stderr",
     "output_type": "stream",
     "text": [
      "Feature Extraction: 100%|██████████| 20/20 [01:09<00:00,  2.80s/it]\n",
      "Feature Extraction: 100%|██████████| 20/20 [00:06<00:00,  3.41it/s]\n"
     ]
    },
    {
     "name": "stdout",
     "output_type": "stream",
     "text": [
      "(78112, 50)\n",
      "      450000000 done in 178.5 minutes\n"
     ]
    },
    {
     "name": "stderr",
     "output_type": "stream",
     "text": [
      "Feature Extraction: 100%|██████████| 20/20 [00:28<00:00,  1.23s/it]\n",
      "Feature Extraction: 100%|██████████| 20/20 [00:02<00:00,  9.54it/s]\n"
     ]
    },
    {
     "name": "stdout",
     "output_type": "stream",
     "text": [
      "(28537, 50)\n",
      "      460000000 done in 179.9 minutes\n"
     ]
    },
    {
     "name": "stderr",
     "output_type": "stream",
     "text": [
      "Feature Extraction: 100%|██████████| 6/6 [00:00<00:00, 2764.56it/s]\n",
      "Feature Extraction: 100%|██████████| 1/1 [00:00<00:00, 1769.00it/s]\n"
     ]
    },
    {
     "name": "stdout",
     "output_type": "stream",
     "text": [
      "(1, 50)\n",
      "no problem\n",
      "(1, 16) (1, 50)\n",
      "CPU times: user 4h 27min 37s, sys: 4min 58s, total: 4h 32min 35s\n",
      "Wall time: 3h 2s\n"
     ]
    }
   ],
   "source": [
    "%%time\n",
    "meta_test = pd.read_csv('test_set_metadata.csv')\n",
    "# meta_test.set_index('object_id',inplace=True)\n",
    "import time\n",
    "\n",
    "start = time.time()\n",
    "chunks = 10000000\n",
    "remain_df = None\n",
    "\n",
    "for i_c, df in enumerate(pd.read_csv('test_set.csv', chunksize=chunks, iterator=True)):\n",
    "    # Check object_ids\n",
    "    # I believe np.unique keeps the order of group_ids as they appear in the file\n",
    "    unique_ids = np.unique(df['object_id'])\n",
    "    new_remain_df = df.loc[df['object_id'] == unique_ids[-1]].copy()\n",
    "    if remain_df is None:\n",
    "        df = df.loc[df['object_id'].isin(unique_ids[:-1])]\n",
    "    else:\n",
    "        df = pd.concat([remain_df, df.loc[df['object_id'].isin(unique_ids[:-1])]], axis=0)\n",
    "    # Create remaining samples df\n",
    "    remain_df = new_remain_df\n",
    "    full_test2,preds_df = predict_chunk(df_=df,\n",
    "                             clfs_=clfs,\n",
    "                             meta_=meta_test,\n",
    "                             features=list(full_train.columns),\n",
    "                             train_mean=train_mean)\n",
    "\n",
    "    if i_c == 0:\n",
    "        preds_df.to_csv('predictions.csv', header=True, mode='a', index=False)\n",
    "    else:\n",
    "        preds_df.to_csv('predictions.csv', header=False, mode='a', index=False)\n",
    "    if i_c == 0:\n",
    "        full_test2.to_csv('test_metadata_kaggle.csv', header=True, mode='a', index=False)\n",
    "    else:\n",
    "        full_test2.to_csv('test_metadata_kaggle.csv', header=False, mode='a', index=False)\n",
    "\n",
    "    del preds_df,full_test2\n",
    "    gc.collect()\n",
    "    \n",
    "    print('%15d done in %5.1f minutes' % (chunks * (i_c + 1), (time.time() - start) / 60), flush=True)\n",
    "\n",
    "# Compute last object in remain_df\n",
    "full_test2,preds_df = predict_chunk(df_=remain_df,\n",
    "                         clfs_=clfs,\n",
    "                         meta_=meta_test,\n",
    "                         features=list(full_train.columns),\n",
    "                         train_mean=train_mean)\n",
    "print(\"no problem\")\n",
    "print(preds_df.shape,full_test2.shape)\n",
    "preds_df.to_csv('predictions.csv', header=False, mode='a', index=False)\n",
    "full_test2.to_csv('test_metadata_kaggle.csv', header=False, mode='a', index=False)"
   ]
  },
  {
   "cell_type": "code",
   "execution_count": 18,
   "metadata": {},
   "outputs": [
    {
     "name": "stdout",
     "output_type": "stream",
     "text": [
      "Shape BEFORE grouping: (3492891, 16)\n",
      "Shape AFTER grouping: (3492890, 15)\n",
      "CPU times: user 1min 44s, sys: 2.54 s, total: 1min 46s\n",
      "Wall time: 1min 46s\n"
     ]
    }
   ],
   "source": [
    "%%time\n",
    "z = pd.read_csv('predictions.csv')\n",
    "print(\"Shape BEFORE grouping:\",z.shape)\n",
    "z = z.groupby('object_id').mean()\n",
    "print(\"Shape AFTER grouping:\",z.shape)\n",
    "z.to_csv('test_pred_4.csv', index=True)"
   ]
  },
  {
   "cell_type": "code",
   "execution_count": 19,
   "metadata": {},
   "outputs": [
    {
     "name": "stdout",
     "output_type": "stream",
     "text": [
      "CPU times: user 44.3 s, sys: 1.65 s, total: 45.9 s\n",
      "Wall time: 45.9 s\n"
     ]
    }
   ],
   "source": [
    "%%time\n",
    "test_metadata_kaggle = pd.read_csv('test_metadata_kaggle.csv')"
   ]
  },
  {
   "cell_type": "code",
   "execution_count": 26,
   "metadata": {},
   "outputs": [
    {
     "data": {
      "text/html": [
       "<div>\n",
       "<style scoped>\n",
       "    .dataframe tbody tr th:only-of-type {\n",
       "        vertical-align: middle;\n",
       "    }\n",
       "\n",
       "    .dataframe tbody tr th {\n",
       "        vertical-align: top;\n",
       "    }\n",
       "\n",
       "    .dataframe thead th {\n",
       "        text-align: right;\n",
       "    }\n",
       "</style>\n",
       "<table border=\"1\" class=\"dataframe\">\n",
       "  <thead>\n",
       "    <tr style=\"text-align: right;\">\n",
       "      <th></th>\n",
       "      <th>object_id</th>\n",
       "      <th>flux_min</th>\n",
       "      <th>flux_max</th>\n",
       "      <th>flux_mean</th>\n",
       "      <th>flux_median</th>\n",
       "      <th>flux_std</th>\n",
       "      <th>flux_skew</th>\n",
       "      <th>flux_err_min</th>\n",
       "      <th>flux_err_max</th>\n",
       "      <th>flux_err_mean</th>\n",
       "      <th>flux_err_median</th>\n",
       "      <th>flux_err_std</th>\n",
       "      <th>flux_err_skew</th>\n",
       "      <th>detected_mean</th>\n",
       "      <th>flux_ratio_sq_sum</th>\n",
       "      <th>flux_ratio_sq_skew</th>\n",
       "      <th>flux_by_flux_ratio_sq_sum</th>\n",
       "      <th>flux_by_flux_ratio_sq_skew</th>\n",
       "      <th>flux_diff</th>\n",
       "      <th>flux_dif2</th>\n",
       "      <th>flux_w_mean</th>\n",
       "      <th>flux_dif3</th>\n",
       "      <th>0__fft_coefficient__coeff_0__attr_\"abs\"</th>\n",
       "      <th>0__fft_coefficient__coeff_1__attr_\"abs\"</th>\n",
       "      <th>0__kurtosis</th>\n",
       "      <th>0__skewness</th>\n",
       "      <th>1__fft_coefficient__coeff_0__attr_\"abs\"</th>\n",
       "      <th>1__fft_coefficient__coeff_1__attr_\"abs\"</th>\n",
       "      <th>1__kurtosis</th>\n",
       "      <th>1__skewness</th>\n",
       "      <th>2__fft_coefficient__coeff_0__attr_\"abs\"</th>\n",
       "      <th>2__fft_coefficient__coeff_1__attr_\"abs\"</th>\n",
       "      <th>2__kurtosis</th>\n",
       "      <th>2__skewness</th>\n",
       "      <th>3__fft_coefficient__coeff_0__attr_\"abs\"</th>\n",
       "      <th>3__fft_coefficient__coeff_1__attr_\"abs\"</th>\n",
       "      <th>3__kurtosis</th>\n",
       "      <th>3__skewness</th>\n",
       "      <th>4__fft_coefficient__coeff_0__attr_\"abs\"</th>\n",
       "      <th>4__fft_coefficient__coeff_1__attr_\"abs\"</th>\n",
       "      <th>4__kurtosis</th>\n",
       "      <th>4__skewness</th>\n",
       "      <th>5__fft_coefficient__coeff_0__attr_\"abs\"</th>\n",
       "      <th>5__fft_coefficient__coeff_1__attr_\"abs\"</th>\n",
       "      <th>5__kurtosis</th>\n",
       "      <th>5__skewness</th>\n",
       "      <th>mjd_diff_det</th>\n",
       "      <th>hostgal_photoz</th>\n",
       "      <th>hostgal_photoz_err</th>\n",
       "      <th>mwebv</th>\n",
       "    </tr>\n",
       "  </thead>\n",
       "  <tbody>\n",
       "    <tr>\n",
       "      <th>655998</th>\n",
       "      <td>1171843</td>\n",
       "      <td>-43.239304</td>\n",
       "      <td>87.945724</td>\n",
       "      <td>9.878548</td>\n",
       "      <td>4.297537</td>\n",
       "      <td>25.248132</td>\n",
       "      <td>1.205664</td>\n",
       "      <td>1.626278</td>\n",
       "      <td>58.762863</td>\n",
       "      <td>15.319946</td>\n",
       "      <td>12.929250</td>\n",
       "      <td>12.352962</td>\n",
       "      <td>1.111919</td>\n",
       "      <td>0.060000</td>\n",
       "      <td>1179.611954</td>\n",
       "      <td>5.276412</td>\n",
       "      <td>54070.977423</td>\n",
       "      <td>4.601668</td>\n",
       "      <td>131.185028</td>\n",
       "      <td>13.279789</td>\n",
       "      <td>45.837936</td>\n",
       "      <td>2.861931</td>\n",
       "      <td>29.543740</td>\n",
       "      <td>10.528462</td>\n",
       "      <td>2.892583</td>\n",
       "      <td>1.418967</td>\n",
       "      <td>11.813572</td>\n",
       "      <td>11.111491</td>\n",
       "      <td>0.426555</td>\n",
       "      <td>0.738809</td>\n",
       "      <td>65.750540</td>\n",
       "      <td>68.270422</td>\n",
       "      <td>5.648938</td>\n",
       "      <td>2.332189</td>\n",
       "      <td>208.475560</td>\n",
       "      <td>193.288685</td>\n",
       "      <td>2.556040</td>\n",
       "      <td>1.673243</td>\n",
       "      <td>291.860861</td>\n",
       "      <td>369.010501</td>\n",
       "      <td>0.114968</td>\n",
       "      <td>0.982330</td>\n",
       "      <td>380.410484</td>\n",
       "      <td>187.573157</td>\n",
       "      <td>0.593615</td>\n",
       "      <td>0.570881</td>\n",
       "      <td>84.8859</td>\n",
       "      <td>0.2003</td>\n",
       "      <td>0.9714</td>\n",
       "      <td>0.076</td>\n",
       "    </tr>\n",
       "    <tr>\n",
       "      <th>729552</th>\n",
       "      <td>1171843</td>\n",
       "      <td>-4.434452</td>\n",
       "      <td>76.682594</td>\n",
       "      <td>21.616262</td>\n",
       "      <td>18.395049</td>\n",
       "      <td>20.998406</td>\n",
       "      <td>0.818194</td>\n",
       "      <td>1.994868</td>\n",
       "      <td>41.668655</td>\n",
       "      <td>13.830012</td>\n",
       "      <td>9.032417</td>\n",
       "      <td>11.995295</td>\n",
       "      <td>1.063101</td>\n",
       "      <td>0.066667</td>\n",
       "      <td>206.602842</td>\n",
       "      <td>2.131427</td>\n",
       "      <td>6282.744816</td>\n",
       "      <td>2.641575</td>\n",
       "      <td>81.117046</td>\n",
       "      <td>3.752594</td>\n",
       "      <td>30.409770</td>\n",
       "      <td>2.667467</td>\n",
       "      <td>59.816594</td>\n",
       "      <td>29.589778</td>\n",
       "      <td>0.000000</td>\n",
       "      <td>1.636618</td>\n",
       "      <td>19.283468</td>\n",
       "      <td>12.860215</td>\n",
       "      <td>3.353735</td>\n",
       "      <td>1.787064</td>\n",
       "      <td>24.980934</td>\n",
       "      <td>16.528596</td>\n",
       "      <td>-1.094593</td>\n",
       "      <td>-0.388405</td>\n",
       "      <td>140.182843</td>\n",
       "      <td>20.891052</td>\n",
       "      <td>-2.787097</td>\n",
       "      <td>0.568555</td>\n",
       "      <td>182.965174</td>\n",
       "      <td>80.594688</td>\n",
       "      <td>-1.999273</td>\n",
       "      <td>-0.308526</td>\n",
       "      <td>221.258833</td>\n",
       "      <td>43.898283</td>\n",
       "      <td>0.343258</td>\n",
       "      <td>-0.039024</td>\n",
       "      <td>33.1112</td>\n",
       "      <td>0.2003</td>\n",
       "      <td>0.9714</td>\n",
       "      <td>0.076</td>\n",
       "    </tr>\n",
       "  </tbody>\n",
       "</table>\n",
       "</div>"
      ],
      "text/plain": [
       "        object_id   flux_min   flux_max  flux_mean  flux_median   flux_std  \\\n",
       "655998    1171843 -43.239304  87.945724   9.878548     4.297537  25.248132   \n",
       "729552    1171843  -4.434452  76.682594  21.616262    18.395049  20.998406   \n",
       "\n",
       "        flux_skew  flux_err_min  flux_err_max  flux_err_mean  flux_err_median  \\\n",
       "655998   1.205664      1.626278     58.762863      15.319946        12.929250   \n",
       "729552   0.818194      1.994868     41.668655      13.830012         9.032417   \n",
       "\n",
       "        flux_err_std  flux_err_skew  detected_mean  flux_ratio_sq_sum  \\\n",
       "655998     12.352962       1.111919       0.060000        1179.611954   \n",
       "729552     11.995295       1.063101       0.066667         206.602842   \n",
       "\n",
       "        flux_ratio_sq_skew  flux_by_flux_ratio_sq_sum  \\\n",
       "655998            5.276412               54070.977423   \n",
       "729552            2.131427                6282.744816   \n",
       "\n",
       "        flux_by_flux_ratio_sq_skew   flux_diff  flux_dif2  flux_w_mean  \\\n",
       "655998                    4.601668  131.185028  13.279789    45.837936   \n",
       "729552                    2.641575   81.117046   3.752594    30.409770   \n",
       "\n",
       "        flux_dif3  0__fft_coefficient__coeff_0__attr_\"abs\"  \\\n",
       "655998   2.861931                                29.543740   \n",
       "729552   2.667467                                59.816594   \n",
       "\n",
       "        0__fft_coefficient__coeff_1__attr_\"abs\"  0__kurtosis  0__skewness  \\\n",
       "655998                                10.528462     2.892583     1.418967   \n",
       "729552                                29.589778     0.000000     1.636618   \n",
       "\n",
       "        1__fft_coefficient__coeff_0__attr_\"abs\"  \\\n",
       "655998                                11.813572   \n",
       "729552                                19.283468   \n",
       "\n",
       "        1__fft_coefficient__coeff_1__attr_\"abs\"  1__kurtosis  1__skewness  \\\n",
       "655998                                11.111491     0.426555     0.738809   \n",
       "729552                                12.860215     3.353735     1.787064   \n",
       "\n",
       "        2__fft_coefficient__coeff_0__attr_\"abs\"  \\\n",
       "655998                                65.750540   \n",
       "729552                                24.980934   \n",
       "\n",
       "        2__fft_coefficient__coeff_1__attr_\"abs\"  2__kurtosis  2__skewness  \\\n",
       "655998                                68.270422     5.648938     2.332189   \n",
       "729552                                16.528596    -1.094593    -0.388405   \n",
       "\n",
       "        3__fft_coefficient__coeff_0__attr_\"abs\"  \\\n",
       "655998                               208.475560   \n",
       "729552                               140.182843   \n",
       "\n",
       "        3__fft_coefficient__coeff_1__attr_\"abs\"  3__kurtosis  3__skewness  \\\n",
       "655998                               193.288685     2.556040     1.673243   \n",
       "729552                                20.891052    -2.787097     0.568555   \n",
       "\n",
       "        4__fft_coefficient__coeff_0__attr_\"abs\"  \\\n",
       "655998                               291.860861   \n",
       "729552                               182.965174   \n",
       "\n",
       "        4__fft_coefficient__coeff_1__attr_\"abs\"  4__kurtosis  4__skewness  \\\n",
       "655998                               369.010501     0.114968     0.982330   \n",
       "729552                                80.594688    -1.999273    -0.308526   \n",
       "\n",
       "        5__fft_coefficient__coeff_0__attr_\"abs\"  \\\n",
       "655998                               380.410484   \n",
       "729552                               221.258833   \n",
       "\n",
       "        5__fft_coefficient__coeff_1__attr_\"abs\"  5__kurtosis  5__skewness  \\\n",
       "655998                               187.573157     0.593615     0.570881   \n",
       "729552                                43.898283     0.343258    -0.039024   \n",
       "\n",
       "        mjd_diff_det  hostgal_photoz  hostgal_photoz_err  mwebv  \n",
       "655998       84.8859          0.2003              0.9714  0.076  \n",
       "729552       33.1112          0.2003              0.9714  0.076  "
      ]
     },
     "execution_count": 26,
     "metadata": {},
     "output_type": "execute_result"
    }
   ],
   "source": [
    "test_metadata_kaggle[test_metadata_kaggle['object_id'] == 1171843]"
   ]
  }
 ],
 "metadata": {
  "kernelspec": {
   "display_name": "Python 3",
   "language": "python",
   "name": "python3"
  },
  "language_info": {
   "codemirror_mode": {
    "name": "ipython",
    "version": 3
   },
   "file_extension": ".py",
   "mimetype": "text/x-python",
   "name": "python",
   "nbconvert_exporter": "python",
   "pygments_lexer": "ipython3",
   "version": "3.6.6"
  }
 },
 "nbformat": 4,
 "nbformat_minor": 2
}
