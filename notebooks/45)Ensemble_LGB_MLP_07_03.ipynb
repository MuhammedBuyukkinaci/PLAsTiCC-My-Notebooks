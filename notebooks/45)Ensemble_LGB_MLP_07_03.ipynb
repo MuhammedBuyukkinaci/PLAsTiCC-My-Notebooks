{
 "cells": [
  {
   "cell_type": "code",
   "execution_count": 1,
   "metadata": {},
   "outputs": [],
   "source": [
    "import numpy as np # linear algebra\n",
    "import pandas as pd # data processing, CSV file I/O (e.g. pd.read_csv)\n",
    "from sklearn.metrics import log_loss\n",
    "from sklearn.model_selection import StratifiedKFold\n",
    "import gc\n",
    "import os\n",
    "import matplotlib.pyplot as plt\n",
    "import seaborn as sns \n",
    "import lightgbm as lgb\n",
    "import itertools\n",
    "import pickle, gzip\n",
    "import glob\n",
    "from sklearn.preprocessing import StandardScaler\n",
    "from tsfresh.feature_extraction import extract_features\n",
    "np.warnings.filterwarnings('ignore')\n",
    "import dask.dataframe as dd\n",
    "import missingno as msno\n",
    "from pandasql import sqldf\n",
    "from sklearn.metrics import mean_squared_error\n",
    "from math import sqrt\n",
    "from sklearn.model_selection import KFold\n",
    "import matplotlib.gridspec as gridspec\n",
    "from sklearn import preprocessing\n",
    "from imblearn.over_sampling import SMOTE\n",
    "from sklearn.model_selection import train_test_split"
   ]
  },
  {
   "cell_type": "code",
   "execution_count": 2,
   "metadata": {},
   "outputs": [],
   "source": [
    "#Always seed the randomness of this universe\n",
    "np.random.seed(51)"
   ]
  },
  {
   "cell_type": "code",
   "execution_count": 3,
   "metadata": {},
   "outputs": [
    {
     "name": "stdout",
     "output_type": "stream",
     "text": [
      "(3492890, 16) (3492890, 16)\n",
      "CPU times: user 35.6 s, sys: 3.28 s, total: 38.9 s\n",
      "Wall time: 8.39 s\n"
     ]
    }
   ],
   "source": [
    "%%time\n",
    "pred1 = dd.read_csv('test_pred_27.csv')\n",
    "pred2 = dd.read_csv('test_pred_28.csv')\n",
    "pred1 = pred1.compute()\n",
    "pred2 = pred2.compute()\n",
    "print(pred1.shape,pred2.shape)"
   ]
  },
  {
   "cell_type": "code",
   "execution_count": 4,
   "metadata": {},
   "outputs": [
    {
     "name": "stdout",
     "output_type": "stream",
     "text": [
      "CPU times: user 181 ms, sys: 275 ms, total: 456 ms\n",
      "Wall time: 455 ms\n"
     ]
    }
   ],
   "source": [
    "%%time\n",
    "pred1 = pred1.reset_index(drop=True)\n",
    "pred2 = pred2.reset_index(drop=True)"
   ]
  },
  {
   "cell_type": "code",
   "execution_count": 5,
   "metadata": {},
   "outputs": [
    {
     "data": {
      "text/plain": [
       "True"
      ]
     },
     "execution_count": 5,
     "metadata": {},
     "output_type": "execute_result"
    }
   ],
   "source": [
    "pred1['object_id'].equals(pred2['object_id'])"
   ]
  },
  {
   "cell_type": "code",
   "execution_count": 6,
   "metadata": {},
   "outputs": [
    {
     "name": "stdout",
     "output_type": "stream",
     "text": [
      "CPU times: user 283 µs, sys: 36 µs, total: 319 µs\n",
      "Wall time: 323 µs\n"
     ]
    }
   ],
   "source": [
    "%%time\n",
    "test_ensemble = pd.DataFrame()"
   ]
  },
  {
   "cell_type": "code",
   "execution_count": 7,
   "metadata": {},
   "outputs": [],
   "source": [
    "coef_lgb = 0.7\n",
    "coef_mlp = 0.3"
   ]
  },
  {
   "cell_type": "code",
   "execution_count": 8,
   "metadata": {},
   "outputs": [
    {
     "name": "stdout",
     "output_type": "stream",
     "text": [
      "CPU times: user 288 ms, sys: 602 ms, total: 890 ms\n",
      "Wall time: 887 ms\n"
     ]
    }
   ],
   "source": [
    "%%time\n",
    "test_ensemble = pred1.iloc[:,1:]*coef_lgb + pred2.iloc[:,1:]*coef_mlp"
   ]
  },
  {
   "cell_type": "code",
   "execution_count": 9,
   "metadata": {},
   "outputs": [
    {
     "name": "stdout",
     "output_type": "stream",
     "text": [
      "(3492890, 15)\n"
     ]
    }
   ],
   "source": [
    "print(test_ensemble.shape)"
   ]
  },
  {
   "cell_type": "code",
   "execution_count": 10,
   "metadata": {},
   "outputs": [
    {
     "name": "stdout",
     "output_type": "stream",
     "text": [
      "(3492890, 16)\n"
     ]
    }
   ],
   "source": [
    "test_ensemble['object_id'] = pred1['object_id']\n",
    "print(test_ensemble.shape)"
   ]
  },
  {
   "cell_type": "code",
   "execution_count": 11,
   "metadata": {},
   "outputs": [],
   "source": [
    "test_ensemble = test_ensemble[list(pred1.columns)]"
   ]
  },
  {
   "cell_type": "code",
   "execution_count": 12,
   "metadata": {},
   "outputs": [
    {
     "data": {
      "text/html": [
       "<div>\n",
       "<style scoped>\n",
       "    .dataframe tbody tr th:only-of-type {\n",
       "        vertical-align: middle;\n",
       "    }\n",
       "\n",
       "    .dataframe tbody tr th {\n",
       "        vertical-align: top;\n",
       "    }\n",
       "\n",
       "    .dataframe thead th {\n",
       "        text-align: right;\n",
       "    }\n",
       "</style>\n",
       "<table border=\"1\" class=\"dataframe\">\n",
       "  <thead>\n",
       "    <tr style=\"text-align: right;\">\n",
       "      <th></th>\n",
       "      <th>object_id</th>\n",
       "      <th>class_6</th>\n",
       "      <th>class_15</th>\n",
       "      <th>class_16</th>\n",
       "      <th>class_42</th>\n",
       "      <th>class_52</th>\n",
       "      <th>class_53</th>\n",
       "      <th>class_62</th>\n",
       "      <th>class_64</th>\n",
       "      <th>class_65</th>\n",
       "      <th>class_67</th>\n",
       "      <th>class_88</th>\n",
       "      <th>class_90</th>\n",
       "      <th>class_92</th>\n",
       "      <th>class_95</th>\n",
       "      <th>class_99</th>\n",
       "    </tr>\n",
       "  </thead>\n",
       "  <tbody>\n",
       "    <tr>\n",
       "      <th>3492885</th>\n",
       "      <td>130787966</td>\n",
       "      <td>0.000228</td>\n",
       "      <td>0.298213</td>\n",
       "      <td>0.000388</td>\n",
       "      <td>0.206466</td>\n",
       "      <td>0.193364</td>\n",
       "      <td>0.000438</td>\n",
       "      <td>0.106910</td>\n",
       "      <td>0.000194</td>\n",
       "      <td>0.001862</td>\n",
       "      <td>0.018392</td>\n",
       "      <td>0.002771</td>\n",
       "      <td>0.169780</td>\n",
       "      <td>0.000294</td>\n",
       "      <td>0.000700</td>\n",
       "      <td>0.246693</td>\n",
       "    </tr>\n",
       "    <tr>\n",
       "      <th>3492886</th>\n",
       "      <td>130787971</td>\n",
       "      <td>0.000166</td>\n",
       "      <td>0.013110</td>\n",
       "      <td>0.000223</td>\n",
       "      <td>0.055730</td>\n",
       "      <td>0.215129</td>\n",
       "      <td>0.000264</td>\n",
       "      <td>0.019806</td>\n",
       "      <td>0.307609</td>\n",
       "      <td>0.000415</td>\n",
       "      <td>0.029630</td>\n",
       "      <td>0.000814</td>\n",
       "      <td>0.354066</td>\n",
       "      <td>0.000249</td>\n",
       "      <td>0.002787</td>\n",
       "      <td>0.238732</td>\n",
       "    </tr>\n",
       "    <tr>\n",
       "      <th>3492887</th>\n",
       "      <td>130787974</td>\n",
       "      <td>0.000535</td>\n",
       "      <td>0.020342</td>\n",
       "      <td>0.000128</td>\n",
       "      <td>0.826279</td>\n",
       "      <td>0.039241</td>\n",
       "      <td>0.000284</td>\n",
       "      <td>0.089637</td>\n",
       "      <td>0.000048</td>\n",
       "      <td>0.000144</td>\n",
       "      <td>0.001105</td>\n",
       "      <td>0.000403</td>\n",
       "      <td>0.018507</td>\n",
       "      <td>0.000177</td>\n",
       "      <td>0.003171</td>\n",
       "      <td>0.106709</td>\n",
       "    </tr>\n",
       "    <tr>\n",
       "      <th>3492888</th>\n",
       "      <td>130788053</td>\n",
       "      <td>0.000067</td>\n",
       "      <td>0.717149</td>\n",
       "      <td>0.000135</td>\n",
       "      <td>0.133362</td>\n",
       "      <td>0.006420</td>\n",
       "      <td>0.000137</td>\n",
       "      <td>0.009713</td>\n",
       "      <td>0.090632</td>\n",
       "      <td>0.000415</td>\n",
       "      <td>0.000328</td>\n",
       "      <td>0.000192</td>\n",
       "      <td>0.040198</td>\n",
       "      <td>0.000154</td>\n",
       "      <td>0.001100</td>\n",
       "      <td>0.164855</td>\n",
       "    </tr>\n",
       "    <tr>\n",
       "      <th>3492889</th>\n",
       "      <td>130788054</td>\n",
       "      <td>0.000202</td>\n",
       "      <td>0.104326</td>\n",
       "      <td>0.000298</td>\n",
       "      <td>0.360396</td>\n",
       "      <td>0.183922</td>\n",
       "      <td>0.000459</td>\n",
       "      <td>0.049215</td>\n",
       "      <td>0.000141</td>\n",
       "      <td>0.000683</td>\n",
       "      <td>0.016808</td>\n",
       "      <td>0.000854</td>\n",
       "      <td>0.281382</td>\n",
       "      <td>0.000600</td>\n",
       "      <td>0.000713</td>\n",
       "      <td>0.234415</td>\n",
       "    </tr>\n",
       "  </tbody>\n",
       "</table>\n",
       "</div>"
      ],
      "text/plain": [
       "         object_id   class_6  class_15  class_16  class_42  class_52  \\\n",
       "3492885  130787966  0.000228  0.298213  0.000388  0.206466  0.193364   \n",
       "3492886  130787971  0.000166  0.013110  0.000223  0.055730  0.215129   \n",
       "3492887  130787974  0.000535  0.020342  0.000128  0.826279  0.039241   \n",
       "3492888  130788053  0.000067  0.717149  0.000135  0.133362  0.006420   \n",
       "3492889  130788054  0.000202  0.104326  0.000298  0.360396  0.183922   \n",
       "\n",
       "         class_53  class_62  class_64  class_65  class_67  class_88  class_90  \\\n",
       "3492885  0.000438  0.106910  0.000194  0.001862  0.018392  0.002771  0.169780   \n",
       "3492886  0.000264  0.019806  0.307609  0.000415  0.029630  0.000814  0.354066   \n",
       "3492887  0.000284  0.089637  0.000048  0.000144  0.001105  0.000403  0.018507   \n",
       "3492888  0.000137  0.009713  0.090632  0.000415  0.000328  0.000192  0.040198   \n",
       "3492889  0.000459  0.049215  0.000141  0.000683  0.016808  0.000854  0.281382   \n",
       "\n",
       "         class_92  class_95  class_99  \n",
       "3492885  0.000294  0.000700  0.246693  \n",
       "3492886  0.000249  0.002787  0.238732  \n",
       "3492887  0.000177  0.003171  0.106709  \n",
       "3492888  0.000154  0.001100  0.164855  \n",
       "3492889  0.000600  0.000713  0.234415  "
      ]
     },
     "execution_count": 12,
     "metadata": {},
     "output_type": "execute_result"
    }
   ],
   "source": [
    "test_ensemble.tail()"
   ]
  },
  {
   "cell_type": "code",
   "execution_count": 13,
   "metadata": {},
   "outputs": [
    {
     "name": "stdout",
     "output_type": "stream",
     "text": [
      "CPU times: user 1min 34s, sys: 1.47 s, total: 1min 36s\n",
      "Wall time: 1min 36s\n"
     ]
    }
   ],
   "source": [
    "%%time\n",
    "test_ensemble.to_csv('test_pred_29.csv',index=False)"
   ]
  },
  {
   "cell_type": "code",
   "execution_count": 14,
   "metadata": {},
   "outputs": [
    {
     "data": {
      "text/plain": [
       "True"
      ]
     },
     "execution_count": 14,
     "metadata": {},
     "output_type": "execute_result"
    }
   ],
   "source": [
    "test_ensemble['object_id'].equals(pred1['object_id'])"
   ]
  },
  {
   "cell_type": "code",
   "execution_count": 1,
   "metadata": {},
   "outputs": [
    {
     "name": "stdout",
     "output_type": "stream",
     "text": [
      "100%|███████████████████████████████████████| 1.06G/1.06G [40:22<00:00, 471kB/s]\n",
      "Successfully submitted to PLAsTiCC Astronomical Classification"
     ]
    }
   ],
   "source": [
    "!kaggle competitions submit -c PLAsTiCC-2018 -f test_pred_29.csv -m \"Message\""
   ]
  },
  {
   "cell_type": "code",
   "execution_count": null,
   "metadata": {},
   "outputs": [],
   "source": []
  }
 ],
 "metadata": {
  "kernelspec": {
   "display_name": "Python 3",
   "language": "python",
   "name": "python3"
  },
  "language_info": {
   "codemirror_mode": {
    "name": "ipython",
    "version": 3
   },
   "file_extension": ".py",
   "mimetype": "text/x-python",
   "name": "python",
   "nbconvert_exporter": "python",
   "pygments_lexer": "ipython3",
   "version": "3.6.7"
  }
 },
 "nbformat": 4,
 "nbformat_minor": 2
}
