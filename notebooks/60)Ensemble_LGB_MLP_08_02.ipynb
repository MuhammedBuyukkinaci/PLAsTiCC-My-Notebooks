{
 "cells": [
  {
   "cell_type": "code",
   "execution_count": 1,
   "metadata": {},
   "outputs": [],
   "source": [
    "import numpy as np # linear algebra\n",
    "import pandas as pd # data processing, CSV file I/O (e.g. pd.read_csv)\n",
    "from sklearn.metrics import log_loss\n",
    "from sklearn.model_selection import StratifiedKFold\n",
    "import gc\n",
    "import os\n",
    "import matplotlib.pyplot as plt\n",
    "import seaborn as sns \n",
    "import lightgbm as lgb\n",
    "import itertools\n",
    "import pickle, gzip\n",
    "import glob\n",
    "from sklearn.preprocessing import StandardScaler\n",
    "from tsfresh.feature_extraction import extract_features\n",
    "np.warnings.filterwarnings('ignore')\n",
    "import dask.dataframe as dd\n",
    "import missingno as msno\n",
    "from pandasql import sqldf\n",
    "from sklearn.metrics import mean_squared_error\n",
    "from math import sqrt\n",
    "from sklearn.model_selection import KFold\n",
    "import matplotlib.gridspec as gridspec\n",
    "from sklearn import preprocessing\n",
    "from imblearn.over_sampling import SMOTE\n",
    "from sklearn.model_selection import train_test_split"
   ]
  },
  {
   "cell_type": "code",
   "execution_count": 2,
   "metadata": {},
   "outputs": [],
   "source": [
    "#Always seed the randomness of this universe\n",
    "np.random.seed(51)"
   ]
  },
  {
   "cell_type": "code",
   "execution_count": 3,
   "metadata": {},
   "outputs": [
    {
     "name": "stdout",
     "output_type": "stream",
     "text": [
      "(3492890, 16) (3492890, 16)\n",
      "CPU times: user 34.1 s, sys: 2.97 s, total: 37.1 s\n",
      "Wall time: 7.79 s\n"
     ]
    }
   ],
   "source": [
    "%%time\n",
    "pred1 = dd.read_csv('test_pred_40.csv')\n",
    "pred2 = dd.read_csv('test_pred_41.csv')\n",
    "pred1 = pred1.compute()\n",
    "pred2 = pred2.compute()\n",
    "print(pred1.shape,pred2.shape)"
   ]
  },
  {
   "cell_type": "code",
   "execution_count": 4,
   "metadata": {},
   "outputs": [
    {
     "name": "stdout",
     "output_type": "stream",
     "text": [
      "CPU times: user 182 ms, sys: 273 ms, total: 454 ms\n",
      "Wall time: 453 ms\n"
     ]
    }
   ],
   "source": [
    "%%time\n",
    "pred1 = pred1.reset_index(drop=True)\n",
    "pred2 = pred2.reset_index(drop=True)"
   ]
  },
  {
   "cell_type": "code",
   "execution_count": 5,
   "metadata": {},
   "outputs": [
    {
     "data": {
      "text/plain": [
       "True"
      ]
     },
     "execution_count": 5,
     "metadata": {},
     "output_type": "execute_result"
    }
   ],
   "source": [
    "pred1['object_id'].equals(pred2['object_id'])"
   ]
  },
  {
   "cell_type": "code",
   "execution_count": 6,
   "metadata": {},
   "outputs": [
    {
     "name": "stdout",
     "output_type": "stream",
     "text": [
      "CPU times: user 684 µs, sys: 81 µs, total: 765 µs\n",
      "Wall time: 779 µs\n"
     ]
    }
   ],
   "source": [
    "%%time\n",
    "test_ensemble = pd.DataFrame()"
   ]
  },
  {
   "cell_type": "code",
   "execution_count": 7,
   "metadata": {},
   "outputs": [],
   "source": [
    "coef_lgb = 0.8\n",
    "coef_mlp = 0.2"
   ]
  },
  {
   "cell_type": "code",
   "execution_count": 8,
   "metadata": {},
   "outputs": [
    {
     "name": "stdout",
     "output_type": "stream",
     "text": [
      "CPU times: user 326 ms, sys: 570 ms, total: 896 ms\n",
      "Wall time: 893 ms\n"
     ]
    }
   ],
   "source": [
    "%%time\n",
    "test_ensemble = pred1.iloc[:,1:]*coef_lgb + pred2.iloc[:,1:]*coef_mlp"
   ]
  },
  {
   "cell_type": "code",
   "execution_count": 9,
   "metadata": {},
   "outputs": [
    {
     "name": "stdout",
     "output_type": "stream",
     "text": [
      "(3492890, 15)\n"
     ]
    }
   ],
   "source": [
    "print(test_ensemble.shape)"
   ]
  },
  {
   "cell_type": "code",
   "execution_count": 10,
   "metadata": {},
   "outputs": [
    {
     "name": "stdout",
     "output_type": "stream",
     "text": [
      "(3492890, 16)\n"
     ]
    }
   ],
   "source": [
    "test_ensemble['object_id'] = pred1['object_id']\n",
    "print(test_ensemble.shape)"
   ]
  },
  {
   "cell_type": "code",
   "execution_count": 11,
   "metadata": {},
   "outputs": [],
   "source": [
    "test_ensemble = test_ensemble[list(pred1.columns)]"
   ]
  },
  {
   "cell_type": "code",
   "execution_count": 12,
   "metadata": {},
   "outputs": [
    {
     "data": {
      "text/html": [
       "<div>\n",
       "<style scoped>\n",
       "    .dataframe tbody tr th:only-of-type {\n",
       "        vertical-align: middle;\n",
       "    }\n",
       "\n",
       "    .dataframe tbody tr th {\n",
       "        vertical-align: top;\n",
       "    }\n",
       "\n",
       "    .dataframe thead th {\n",
       "        text-align: right;\n",
       "    }\n",
       "</style>\n",
       "<table border=\"1\" class=\"dataframe\">\n",
       "  <thead>\n",
       "    <tr style=\"text-align: right;\">\n",
       "      <th></th>\n",
       "      <th>object_id</th>\n",
       "      <th>class_6</th>\n",
       "      <th>class_15</th>\n",
       "      <th>class_16</th>\n",
       "      <th>class_42</th>\n",
       "      <th>class_52</th>\n",
       "      <th>class_53</th>\n",
       "      <th>class_62</th>\n",
       "      <th>class_64</th>\n",
       "      <th>class_65</th>\n",
       "      <th>class_67</th>\n",
       "      <th>class_88</th>\n",
       "      <th>class_90</th>\n",
       "      <th>class_92</th>\n",
       "      <th>class_95</th>\n",
       "      <th>class_99</th>\n",
       "    </tr>\n",
       "  </thead>\n",
       "  <tbody>\n",
       "    <tr>\n",
       "      <th>3492885</th>\n",
       "      <td>130787966</td>\n",
       "      <td>0.000173</td>\n",
       "      <td>0.368493</td>\n",
       "      <td>0.000349</td>\n",
       "      <td>0.198581</td>\n",
       "      <td>0.108626</td>\n",
       "      <td>0.000398</td>\n",
       "      <td>0.123283</td>\n",
       "      <td>0.000255</td>\n",
       "      <td>0.001475</td>\n",
       "      <td>0.015717</td>\n",
       "      <td>0.002240</td>\n",
       "      <td>0.179606</td>\n",
       "      <td>0.000256</td>\n",
       "      <td>0.000548</td>\n",
       "      <td>0.245786</td>\n",
       "    </tr>\n",
       "    <tr>\n",
       "      <th>3492886</th>\n",
       "      <td>130787971</td>\n",
       "      <td>0.000187</td>\n",
       "      <td>0.013098</td>\n",
       "      <td>0.000165</td>\n",
       "      <td>0.053464</td>\n",
       "      <td>0.169525</td>\n",
       "      <td>0.000225</td>\n",
       "      <td>0.021695</td>\n",
       "      <td>0.367642</td>\n",
       "      <td>0.000362</td>\n",
       "      <td>0.036712</td>\n",
       "      <td>0.000766</td>\n",
       "      <td>0.329667</td>\n",
       "      <td>0.000257</td>\n",
       "      <td>0.006235</td>\n",
       "      <td>0.233158</td>\n",
       "    </tr>\n",
       "    <tr>\n",
       "      <th>3492887</th>\n",
       "      <td>130787974</td>\n",
       "      <td>0.000735</td>\n",
       "      <td>0.022421</td>\n",
       "      <td>0.000135</td>\n",
       "      <td>0.852516</td>\n",
       "      <td>0.031650</td>\n",
       "      <td>0.000326</td>\n",
       "      <td>0.078459</td>\n",
       "      <td>0.000045</td>\n",
       "      <td>0.000142</td>\n",
       "      <td>0.001312</td>\n",
       "      <td>0.000361</td>\n",
       "      <td>0.009741</td>\n",
       "      <td>0.000190</td>\n",
       "      <td>0.001966</td>\n",
       "      <td>0.099989</td>\n",
       "    </tr>\n",
       "    <tr>\n",
       "      <th>3492888</th>\n",
       "      <td>130788053</td>\n",
       "      <td>0.000059</td>\n",
       "      <td>0.724992</td>\n",
       "      <td>0.000074</td>\n",
       "      <td>0.149644</td>\n",
       "      <td>0.003393</td>\n",
       "      <td>0.000110</td>\n",
       "      <td>0.010439</td>\n",
       "      <td>0.080236</td>\n",
       "      <td>0.000433</td>\n",
       "      <td>0.000368</td>\n",
       "      <td>0.000237</td>\n",
       "      <td>0.029257</td>\n",
       "      <td>0.000102</td>\n",
       "      <td>0.000657</td>\n",
       "      <td>0.161684</td>\n",
       "    </tr>\n",
       "    <tr>\n",
       "      <th>3492889</th>\n",
       "      <td>130788054</td>\n",
       "      <td>0.000196</td>\n",
       "      <td>0.084732</td>\n",
       "      <td>0.000288</td>\n",
       "      <td>0.413864</td>\n",
       "      <td>0.189551</td>\n",
       "      <td>0.000477</td>\n",
       "      <td>0.057311</td>\n",
       "      <td>0.000105</td>\n",
       "      <td>0.000509</td>\n",
       "      <td>0.021892</td>\n",
       "      <td>0.001129</td>\n",
       "      <td>0.228524</td>\n",
       "      <td>0.000635</td>\n",
       "      <td>0.000787</td>\n",
       "      <td>0.236733</td>\n",
       "    </tr>\n",
       "  </tbody>\n",
       "</table>\n",
       "</div>"
      ],
      "text/plain": [
       "         object_id   class_6  class_15  class_16  class_42  class_52  \\\n",
       "3492885  130787966  0.000173  0.368493  0.000349  0.198581  0.108626   \n",
       "3492886  130787971  0.000187  0.013098  0.000165  0.053464  0.169525   \n",
       "3492887  130787974  0.000735  0.022421  0.000135  0.852516  0.031650   \n",
       "3492888  130788053  0.000059  0.724992  0.000074  0.149644  0.003393   \n",
       "3492889  130788054  0.000196  0.084732  0.000288  0.413864  0.189551   \n",
       "\n",
       "         class_53  class_62  class_64  class_65  class_67  class_88  class_90  \\\n",
       "3492885  0.000398  0.123283  0.000255  0.001475  0.015717  0.002240  0.179606   \n",
       "3492886  0.000225  0.021695  0.367642  0.000362  0.036712  0.000766  0.329667   \n",
       "3492887  0.000326  0.078459  0.000045  0.000142  0.001312  0.000361  0.009741   \n",
       "3492888  0.000110  0.010439  0.080236  0.000433  0.000368  0.000237  0.029257   \n",
       "3492889  0.000477  0.057311  0.000105  0.000509  0.021892  0.001129  0.228524   \n",
       "\n",
       "         class_92  class_95  class_99  \n",
       "3492885  0.000256  0.000548  0.245786  \n",
       "3492886  0.000257  0.006235  0.233158  \n",
       "3492887  0.000190  0.001966  0.099989  \n",
       "3492888  0.000102  0.000657  0.161684  \n",
       "3492889  0.000635  0.000787  0.236733  "
      ]
     },
     "execution_count": 12,
     "metadata": {},
     "output_type": "execute_result"
    }
   ],
   "source": [
    "test_ensemble.tail()"
   ]
  },
  {
   "cell_type": "code",
   "execution_count": 13,
   "metadata": {},
   "outputs": [
    {
     "name": "stdout",
     "output_type": "stream",
     "text": [
      "CPU times: user 1min 26s, sys: 947 ms, total: 1min 27s\n",
      "Wall time: 1min 27s\n"
     ]
    }
   ],
   "source": [
    "%%time\n",
    "test_ensemble.to_csv('test_pred_42.csv',index=False)"
   ]
  },
  {
   "cell_type": "code",
   "execution_count": 14,
   "metadata": {},
   "outputs": [
    {
     "data": {
      "text/plain": [
       "True"
      ]
     },
     "execution_count": 14,
     "metadata": {},
     "output_type": "execute_result"
    }
   ],
   "source": [
    "test_ensemble['object_id'].equals(pred1['object_id'])"
   ]
  },
  {
   "cell_type": "code",
   "execution_count": 15,
   "metadata": {},
   "outputs": [
    {
     "name": "stdout",
     "output_type": "stream",
     "text": [
      "100%|██████████████████████████████████████| 1.06G/1.06G [04:55<00:00, 3.86MB/s]\n",
      "Successfully submitted to PLAsTiCC Astronomical Classification"
     ]
    }
   ],
   "source": [
    "!kaggle competitions submit -c PLAsTiCC-2018 -f test_pred_42.csv -m \"Message\""
   ]
  },
  {
   "cell_type": "code",
   "execution_count": null,
   "metadata": {},
   "outputs": [],
   "source": []
  }
 ],
 "metadata": {
  "kernelspec": {
   "display_name": "Python 3",
   "language": "python",
   "name": "python3"
  },
  "language_info": {
   "codemirror_mode": {
    "name": "ipython",
    "version": 3
   },
   "file_extension": ".py",
   "mimetype": "text/x-python",
   "name": "python",
   "nbconvert_exporter": "python",
   "pygments_lexer": "ipython3",
   "version": "3.6.7"
  }
 },
 "nbformat": 4,
 "nbformat_minor": 2
}
