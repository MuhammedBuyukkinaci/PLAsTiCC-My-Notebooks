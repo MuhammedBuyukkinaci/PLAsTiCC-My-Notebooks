{
 "cells": [
  {
   "cell_type": "code",
   "execution_count": 1,
   "metadata": {},
   "outputs": [],
   "source": [
    "import numpy as np # linear algebra\n",
    "import pandas as pd # data processing, CSV file I/O (e.g. pd.read_csv)\n",
    "from sklearn.metrics import log_loss\n",
    "from sklearn.model_selection import StratifiedKFold\n",
    "import gc\n",
    "import os\n",
    "import matplotlib.pyplot as plt\n",
    "import seaborn as sns \n",
    "import lightgbm as lgb\n",
    "import itertools\n",
    "import pickle, gzip\n",
    "import glob\n",
    "from sklearn.preprocessing import StandardScaler\n",
    "from tsfresh.feature_extraction import extract_features\n",
    "np.warnings.filterwarnings('ignore')\n",
    "import dask.dataframe as dd\n",
    "import missingno as msno\n",
    "from pandasql import sqldf\n",
    "from sklearn.metrics import mean_squared_error\n",
    "from math import sqrt\n",
    "from sklearn.model_selection import KFold\n",
    "import matplotlib.gridspec as gridspec\n",
    "from sklearn import preprocessing\n",
    "from imblearn.over_sampling import SMOTE\n",
    "from sklearn.model_selection import train_test_split"
   ]
  },
  {
   "cell_type": "code",
   "execution_count": 2,
   "metadata": {},
   "outputs": [],
   "source": [
    "#Always seed the randomness of this universe\n",
    "np.random.seed(51)"
   ]
  },
  {
   "cell_type": "code",
   "execution_count": 3,
   "metadata": {},
   "outputs": [
    {
     "name": "stdout",
     "output_type": "stream",
     "text": [
      "(3492890, 16) (3492890, 16)\n",
      "CPU times: user 33 s, sys: 3.12 s, total: 36.1 s\n",
      "Wall time: 7.61 s\n"
     ]
    }
   ],
   "source": [
    "%%time\n",
    "pred1 = dd.read_csv('test_pred_40.csv')\n",
    "pred2 = dd.read_csv('test_pred_41.csv')\n",
    "pred1 = pred1.compute()\n",
    "pred2 = pred2.compute()\n",
    "print(pred1.shape,pred2.shape)"
   ]
  },
  {
   "cell_type": "code",
   "execution_count": 4,
   "metadata": {},
   "outputs": [
    {
     "name": "stdout",
     "output_type": "stream",
     "text": [
      "CPU times: user 222 ms, sys: 244 ms, total: 466 ms\n",
      "Wall time: 464 ms\n"
     ]
    }
   ],
   "source": [
    "%%time\n",
    "pred1 = pred1.reset_index(drop=True)\n",
    "pred2 = pred2.reset_index(drop=True)"
   ]
  },
  {
   "cell_type": "code",
   "execution_count": 5,
   "metadata": {},
   "outputs": [
    {
     "data": {
      "text/plain": [
       "True"
      ]
     },
     "execution_count": 5,
     "metadata": {},
     "output_type": "execute_result"
    }
   ],
   "source": [
    "pred1['object_id'].equals(pred2['object_id'])"
   ]
  },
  {
   "cell_type": "code",
   "execution_count": 6,
   "metadata": {},
   "outputs": [
    {
     "name": "stdout",
     "output_type": "stream",
     "text": [
      "CPU times: user 766 µs, sys: 97 µs, total: 863 µs\n",
      "Wall time: 878 µs\n"
     ]
    }
   ],
   "source": [
    "%%time\n",
    "test_ensemble = pd.DataFrame()"
   ]
  },
  {
   "cell_type": "code",
   "execution_count": 7,
   "metadata": {},
   "outputs": [],
   "source": [
    "coef_lgb = 0.7\n",
    "coef_mlp = 0.3"
   ]
  },
  {
   "cell_type": "code",
   "execution_count": 8,
   "metadata": {},
   "outputs": [
    {
     "name": "stdout",
     "output_type": "stream",
     "text": [
      "CPU times: user 336 ms, sys: 541 ms, total: 877 ms\n",
      "Wall time: 873 ms\n"
     ]
    }
   ],
   "source": [
    "%%time\n",
    "test_ensemble = pred1.iloc[:,1:]*coef_lgb + pred2.iloc[:,1:]*coef_mlp"
   ]
  },
  {
   "cell_type": "code",
   "execution_count": 9,
   "metadata": {},
   "outputs": [
    {
     "name": "stdout",
     "output_type": "stream",
     "text": [
      "(3492890, 15)\n"
     ]
    }
   ],
   "source": [
    "print(test_ensemble.shape)"
   ]
  },
  {
   "cell_type": "code",
   "execution_count": 10,
   "metadata": {},
   "outputs": [
    {
     "name": "stdout",
     "output_type": "stream",
     "text": [
      "(3492890, 16)\n"
     ]
    }
   ],
   "source": [
    "test_ensemble['object_id'] = pred1['object_id']\n",
    "print(test_ensemble.shape)"
   ]
  },
  {
   "cell_type": "code",
   "execution_count": 11,
   "metadata": {},
   "outputs": [],
   "source": [
    "test_ensemble = test_ensemble[list(pred1.columns)]"
   ]
  },
  {
   "cell_type": "code",
   "execution_count": 12,
   "metadata": {},
   "outputs": [
    {
     "data": {
      "text/html": [
       "<div>\n",
       "<style scoped>\n",
       "    .dataframe tbody tr th:only-of-type {\n",
       "        vertical-align: middle;\n",
       "    }\n",
       "\n",
       "    .dataframe tbody tr th {\n",
       "        vertical-align: top;\n",
       "    }\n",
       "\n",
       "    .dataframe thead th {\n",
       "        text-align: right;\n",
       "    }\n",
       "</style>\n",
       "<table border=\"1\" class=\"dataframe\">\n",
       "  <thead>\n",
       "    <tr style=\"text-align: right;\">\n",
       "      <th></th>\n",
       "      <th>object_id</th>\n",
       "      <th>class_6</th>\n",
       "      <th>class_15</th>\n",
       "      <th>class_16</th>\n",
       "      <th>class_42</th>\n",
       "      <th>class_52</th>\n",
       "      <th>class_53</th>\n",
       "      <th>class_62</th>\n",
       "      <th>class_64</th>\n",
       "      <th>class_65</th>\n",
       "      <th>class_67</th>\n",
       "      <th>class_88</th>\n",
       "      <th>class_90</th>\n",
       "      <th>class_92</th>\n",
       "      <th>class_95</th>\n",
       "      <th>class_99</th>\n",
       "    </tr>\n",
       "  </thead>\n",
       "  <tbody>\n",
       "    <tr>\n",
       "      <th>3492885</th>\n",
       "      <td>130787966</td>\n",
       "      <td>0.000151</td>\n",
       "      <td>0.357796</td>\n",
       "      <td>0.000308</td>\n",
       "      <td>0.198685</td>\n",
       "      <td>0.115433</td>\n",
       "      <td>0.000352</td>\n",
       "      <td>0.109848</td>\n",
       "      <td>0.000250</td>\n",
       "      <td>0.001310</td>\n",
       "      <td>0.014863</td>\n",
       "      <td>0.002204</td>\n",
       "      <td>0.198082</td>\n",
       "      <td>0.000227</td>\n",
       "      <td>0.000488</td>\n",
       "      <td>0.246366</td>\n",
       "    </tr>\n",
       "    <tr>\n",
       "      <th>3492886</th>\n",
       "      <td>130787971</td>\n",
       "      <td>0.000165</td>\n",
       "      <td>0.014352</td>\n",
       "      <td>0.000159</td>\n",
       "      <td>0.058426</td>\n",
       "      <td>0.180788</td>\n",
       "      <td>0.000197</td>\n",
       "      <td>0.022953</td>\n",
       "      <td>0.322159</td>\n",
       "      <td>0.000324</td>\n",
       "      <td>0.036385</td>\n",
       "      <td>0.000748</td>\n",
       "      <td>0.357466</td>\n",
       "      <td>0.000261</td>\n",
       "      <td>0.005617</td>\n",
       "      <td>0.231201</td>\n",
       "    </tr>\n",
       "    <tr>\n",
       "      <th>3492887</th>\n",
       "      <td>130787974</td>\n",
       "      <td>0.000704</td>\n",
       "      <td>0.021592</td>\n",
       "      <td>0.000124</td>\n",
       "      <td>0.831549</td>\n",
       "      <td>0.029592</td>\n",
       "      <td>0.000301</td>\n",
       "      <td>0.102202</td>\n",
       "      <td>0.000043</td>\n",
       "      <td>0.000126</td>\n",
       "      <td>0.001323</td>\n",
       "      <td>0.000318</td>\n",
       "      <td>0.010166</td>\n",
       "      <td>0.000166</td>\n",
       "      <td>0.001792</td>\n",
       "      <td>0.109838</td>\n",
       "    </tr>\n",
       "    <tr>\n",
       "      <th>3492888</th>\n",
       "      <td>130788053</td>\n",
       "      <td>0.000053</td>\n",
       "      <td>0.740299</td>\n",
       "      <td>0.000067</td>\n",
       "      <td>0.141608</td>\n",
       "      <td>0.003562</td>\n",
       "      <td>0.000103</td>\n",
       "      <td>0.010289</td>\n",
       "      <td>0.072028</td>\n",
       "      <td>0.000408</td>\n",
       "      <td>0.000399</td>\n",
       "      <td>0.000258</td>\n",
       "      <td>0.030113</td>\n",
       "      <td>0.000097</td>\n",
       "      <td>0.000715</td>\n",
       "      <td>0.154847</td>\n",
       "    </tr>\n",
       "    <tr>\n",
       "      <th>3492889</th>\n",
       "      <td>130788054</td>\n",
       "      <td>0.000172</td>\n",
       "      <td>0.077831</td>\n",
       "      <td>0.000253</td>\n",
       "      <td>0.396815</td>\n",
       "      <td>0.192522</td>\n",
       "      <td>0.000417</td>\n",
       "      <td>0.053251</td>\n",
       "      <td>0.000109</td>\n",
       "      <td>0.000455</td>\n",
       "      <td>0.020092</td>\n",
       "      <td>0.001007</td>\n",
       "      <td>0.255794</td>\n",
       "      <td>0.000556</td>\n",
       "      <td>0.000725</td>\n",
       "      <td>0.236729</td>\n",
       "    </tr>\n",
       "  </tbody>\n",
       "</table>\n",
       "</div>"
      ],
      "text/plain": [
       "         object_id   class_6  class_15  class_16  class_42  class_52  \\\n",
       "3492885  130787966  0.000151  0.357796  0.000308  0.198685  0.115433   \n",
       "3492886  130787971  0.000165  0.014352  0.000159  0.058426  0.180788   \n",
       "3492887  130787974  0.000704  0.021592  0.000124  0.831549  0.029592   \n",
       "3492888  130788053  0.000053  0.740299  0.000067  0.141608  0.003562   \n",
       "3492889  130788054  0.000172  0.077831  0.000253  0.396815  0.192522   \n",
       "\n",
       "         class_53  class_62  class_64  class_65  class_67  class_88  class_90  \\\n",
       "3492885  0.000352  0.109848  0.000250  0.001310  0.014863  0.002204  0.198082   \n",
       "3492886  0.000197  0.022953  0.322159  0.000324  0.036385  0.000748  0.357466   \n",
       "3492887  0.000301  0.102202  0.000043  0.000126  0.001323  0.000318  0.010166   \n",
       "3492888  0.000103  0.010289  0.072028  0.000408  0.000399  0.000258  0.030113   \n",
       "3492889  0.000417  0.053251  0.000109  0.000455  0.020092  0.001007  0.255794   \n",
       "\n",
       "         class_92  class_95  class_99  \n",
       "3492885  0.000227  0.000488  0.246366  \n",
       "3492886  0.000261  0.005617  0.231201  \n",
       "3492887  0.000166  0.001792  0.109838  \n",
       "3492888  0.000097  0.000715  0.154847  \n",
       "3492889  0.000556  0.000725  0.236729  "
      ]
     },
     "execution_count": 12,
     "metadata": {},
     "output_type": "execute_result"
    }
   ],
   "source": [
    "test_ensemble.tail()"
   ]
  },
  {
   "cell_type": "code",
   "execution_count": 13,
   "metadata": {},
   "outputs": [
    {
     "name": "stdout",
     "output_type": "stream",
     "text": [
      "CPU times: user 1min 31s, sys: 1.17 s, total: 1min 32s\n",
      "Wall time: 1min 32s\n"
     ]
    }
   ],
   "source": [
    "%%time\n",
    "test_ensemble.to_csv('test_pred_48.csv',index=False)"
   ]
  },
  {
   "cell_type": "code",
   "execution_count": null,
   "metadata": {},
   "outputs": [],
   "source": [
    "test_ensemble['object_id'].equals(pred1['object_id'])"
   ]
  },
  {
   "cell_type": "code",
   "execution_count": null,
   "metadata": {},
   "outputs": [],
   "source": [
    "!kaggle competitions submit -c PLAsTiCC-2018 -f test_pred_48.csv -m \"Ensemble_LGB_MLP_07_03\""
   ]
  },
  {
   "cell_type": "code",
   "execution_count": null,
   "metadata": {},
   "outputs": [],
   "source": []
  }
 ],
 "metadata": {
  "kernelspec": {
   "display_name": "Python 3",
   "language": "python",
   "name": "python3"
  },
  "language_info": {
   "codemirror_mode": {
    "name": "ipython",
    "version": 3
   },
   "file_extension": ".py",
   "mimetype": "text/x-python",
   "name": "python",
   "nbconvert_exporter": "python",
   "pygments_lexer": "ipython3",
   "version": "3.6.7"
  }
 },
 "nbformat": 4,
 "nbformat_minor": 2
}
