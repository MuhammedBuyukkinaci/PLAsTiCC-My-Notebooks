{
 "cells": [
  {
   "cell_type": "code",
   "execution_count": 1,
   "metadata": {},
   "outputs": [],
   "source": [
    "import numpy as np # linear algebra\n",
    "import pandas as pd # data processing, CSV file I/O (e.g. pd.read_csv)\n",
    "from sklearn.metrics import log_loss\n",
    "from sklearn.model_selection import StratifiedKFold\n",
    "import gc\n",
    "import os\n",
    "import matplotlib.pyplot as plt\n",
    "import seaborn as sns \n",
    "import lightgbm as lgb\n",
    "import itertools\n",
    "import pickle, gzip\n",
    "import glob\n",
    "from sklearn.preprocessing import StandardScaler\n",
    "from tsfresh.feature_extraction import extract_features\n",
    "np.warnings.filterwarnings('ignore')\n",
    "import dask.dataframe as dd\n",
    "import missingno as msno\n",
    "from pandasql import sqldf\n",
    "from sklearn.metrics import mean_squared_error\n",
    "from math import sqrt\n",
    "from sklearn.model_selection import KFold\n",
    "import matplotlib.gridspec as gridspec\n",
    "from sklearn import preprocessing\n",
    "from imblearn.over_sampling import SMOTE\n",
    "from sklearn.model_selection import train_test_split"
   ]
  },
  {
   "cell_type": "code",
   "execution_count": 2,
   "metadata": {},
   "outputs": [],
   "source": [
    "#Always seed the randomness of this universe\n",
    "np.random.seed(51)"
   ]
  },
  {
   "cell_type": "code",
   "execution_count": 3,
   "metadata": {},
   "outputs": [
    {
     "name": "stdout",
     "output_type": "stream",
     "text": [
      "(3492890, 16) (3492890, 16)\n",
      "CPU times: user 34.3 s, sys: 3.18 s, total: 37.5 s\n",
      "Wall time: 8.07 s\n"
     ]
    }
   ],
   "source": [
    "%%time\n",
    "pred1 = dd.read_csv('test_pred_37.csv')\n",
    "pred2 = dd.read_csv('test_pred_38.csv')\n",
    "pred1 = pred1.compute()\n",
    "pred2 = pred2.compute()\n",
    "print(pred1.shape,pred2.shape)"
   ]
  },
  {
   "cell_type": "code",
   "execution_count": 4,
   "metadata": {},
   "outputs": [
    {
     "name": "stdout",
     "output_type": "stream",
     "text": [
      "CPU times: user 206 ms, sys: 260 ms, total: 466 ms\n",
      "Wall time: 464 ms\n"
     ]
    }
   ],
   "source": [
    "%%time\n",
    "pred1 = pred1.reset_index(drop=True)\n",
    "pred2 = pred2.reset_index(drop=True)"
   ]
  },
  {
   "cell_type": "code",
   "execution_count": 5,
   "metadata": {},
   "outputs": [
    {
     "data": {
      "text/plain": [
       "True"
      ]
     },
     "execution_count": 5,
     "metadata": {},
     "output_type": "execute_result"
    }
   ],
   "source": [
    "pred1['object_id'].equals(pred2['object_id'])"
   ]
  },
  {
   "cell_type": "code",
   "execution_count": 6,
   "metadata": {},
   "outputs": [
    {
     "name": "stdout",
     "output_type": "stream",
     "text": [
      "CPU times: user 286 µs, sys: 35 µs, total: 321 µs\n",
      "Wall time: 326 µs\n"
     ]
    }
   ],
   "source": [
    "%%time\n",
    "test_ensemble = pd.DataFrame()"
   ]
  },
  {
   "cell_type": "code",
   "execution_count": 7,
   "metadata": {},
   "outputs": [],
   "source": [
    "coef_lgb = 0.8\n",
    "coef_mlp = 0.2"
   ]
  },
  {
   "cell_type": "code",
   "execution_count": 8,
   "metadata": {},
   "outputs": [
    {
     "name": "stdout",
     "output_type": "stream",
     "text": [
      "CPU times: user 368 ms, sys: 520 ms, total: 887 ms\n",
      "Wall time: 884 ms\n"
     ]
    }
   ],
   "source": [
    "%%time\n",
    "test_ensemble = pred1.iloc[:,1:]*coef_lgb + pred2.iloc[:,1:]*coef_mlp"
   ]
  },
  {
   "cell_type": "code",
   "execution_count": 9,
   "metadata": {},
   "outputs": [
    {
     "name": "stdout",
     "output_type": "stream",
     "text": [
      "(3492890, 15)\n"
     ]
    }
   ],
   "source": [
    "print(test_ensemble.shape)"
   ]
  },
  {
   "cell_type": "code",
   "execution_count": 10,
   "metadata": {},
   "outputs": [
    {
     "name": "stdout",
     "output_type": "stream",
     "text": [
      "(3492890, 16)\n"
     ]
    }
   ],
   "source": [
    "test_ensemble['object_id'] = pred1['object_id']\n",
    "print(test_ensemble.shape)"
   ]
  },
  {
   "cell_type": "code",
   "execution_count": 11,
   "metadata": {},
   "outputs": [],
   "source": [
    "test_ensemble = test_ensemble[list(pred1.columns)]"
   ]
  },
  {
   "cell_type": "code",
   "execution_count": 12,
   "metadata": {},
   "outputs": [
    {
     "data": {
      "text/html": [
       "<div>\n",
       "<style scoped>\n",
       "    .dataframe tbody tr th:only-of-type {\n",
       "        vertical-align: middle;\n",
       "    }\n",
       "\n",
       "    .dataframe tbody tr th {\n",
       "        vertical-align: top;\n",
       "    }\n",
       "\n",
       "    .dataframe thead th {\n",
       "        text-align: right;\n",
       "    }\n",
       "</style>\n",
       "<table border=\"1\" class=\"dataframe\">\n",
       "  <thead>\n",
       "    <tr style=\"text-align: right;\">\n",
       "      <th></th>\n",
       "      <th>object_id</th>\n",
       "      <th>class_6</th>\n",
       "      <th>class_15</th>\n",
       "      <th>class_16</th>\n",
       "      <th>class_42</th>\n",
       "      <th>class_52</th>\n",
       "      <th>class_53</th>\n",
       "      <th>class_62</th>\n",
       "      <th>class_64</th>\n",
       "      <th>class_65</th>\n",
       "      <th>class_67</th>\n",
       "      <th>class_88</th>\n",
       "      <th>class_90</th>\n",
       "      <th>class_92</th>\n",
       "      <th>class_95</th>\n",
       "      <th>class_99</th>\n",
       "    </tr>\n",
       "  </thead>\n",
       "  <tbody>\n",
       "    <tr>\n",
       "      <th>3492885</th>\n",
       "      <td>130787966</td>\n",
       "      <td>0.000173</td>\n",
       "      <td>0.365915</td>\n",
       "      <td>0.000309</td>\n",
       "      <td>0.188732</td>\n",
       "      <td>0.130489</td>\n",
       "      <td>0.000361</td>\n",
       "      <td>0.107619</td>\n",
       "      <td>0.000257</td>\n",
       "      <td>0.001176</td>\n",
       "      <td>0.016723</td>\n",
       "      <td>0.001749</td>\n",
       "      <td>0.185555</td>\n",
       "      <td>0.000232</td>\n",
       "      <td>0.000710</td>\n",
       "      <td>0.246124</td>\n",
       "    </tr>\n",
       "    <tr>\n",
       "      <th>3492886</th>\n",
       "      <td>130787971</td>\n",
       "      <td>0.000177</td>\n",
       "      <td>0.009494</td>\n",
       "      <td>0.000152</td>\n",
       "      <td>0.047120</td>\n",
       "      <td>0.237996</td>\n",
       "      <td>0.000218</td>\n",
       "      <td>0.015585</td>\n",
       "      <td>0.344344</td>\n",
       "      <td>0.000314</td>\n",
       "      <td>0.028925</td>\n",
       "      <td>0.000793</td>\n",
       "      <td>0.308762</td>\n",
       "      <td>0.000187</td>\n",
       "      <td>0.005932</td>\n",
       "      <td>0.239358</td>\n",
       "    </tr>\n",
       "    <tr>\n",
       "      <th>3492887</th>\n",
       "      <td>130787974</td>\n",
       "      <td>0.000611</td>\n",
       "      <td>0.025076</td>\n",
       "      <td>0.000140</td>\n",
       "      <td>0.825360</td>\n",
       "      <td>0.038703</td>\n",
       "      <td>0.000315</td>\n",
       "      <td>0.092123</td>\n",
       "      <td>0.000058</td>\n",
       "      <td>0.000150</td>\n",
       "      <td>0.001513</td>\n",
       "      <td>0.000373</td>\n",
       "      <td>0.013241</td>\n",
       "      <td>0.000196</td>\n",
       "      <td>0.002141</td>\n",
       "      <td>0.107618</td>\n",
       "    </tr>\n",
       "    <tr>\n",
       "      <th>3492888</th>\n",
       "      <td>130788053</td>\n",
       "      <td>0.000055</td>\n",
       "      <td>0.696708</td>\n",
       "      <td>0.000077</td>\n",
       "      <td>0.145715</td>\n",
       "      <td>0.006306</td>\n",
       "      <td>0.000108</td>\n",
       "      <td>0.011979</td>\n",
       "      <td>0.096263</td>\n",
       "      <td>0.000367</td>\n",
       "      <td>0.000378</td>\n",
       "      <td>0.000184</td>\n",
       "      <td>0.040249</td>\n",
       "      <td>0.000090</td>\n",
       "      <td>0.001519</td>\n",
       "      <td>0.174585</td>\n",
       "    </tr>\n",
       "    <tr>\n",
       "      <th>3492889</th>\n",
       "      <td>130788054</td>\n",
       "      <td>0.000221</td>\n",
       "      <td>0.095495</td>\n",
       "      <td>0.000249</td>\n",
       "      <td>0.412137</td>\n",
       "      <td>0.150778</td>\n",
       "      <td>0.000460</td>\n",
       "      <td>0.056253</td>\n",
       "      <td>0.000134</td>\n",
       "      <td>0.000610</td>\n",
       "      <td>0.023334</td>\n",
       "      <td>0.001154</td>\n",
       "      <td>0.257796</td>\n",
       "      <td>0.000592</td>\n",
       "      <td>0.000787</td>\n",
       "      <td>0.223972</td>\n",
       "    </tr>\n",
       "  </tbody>\n",
       "</table>\n",
       "</div>"
      ],
      "text/plain": [
       "         object_id   class_6  class_15  class_16  class_42  class_52  \\\n",
       "3492885  130787966  0.000173  0.365915  0.000309  0.188732  0.130489   \n",
       "3492886  130787971  0.000177  0.009494  0.000152  0.047120  0.237996   \n",
       "3492887  130787974  0.000611  0.025076  0.000140  0.825360  0.038703   \n",
       "3492888  130788053  0.000055  0.696708  0.000077  0.145715  0.006306   \n",
       "3492889  130788054  0.000221  0.095495  0.000249  0.412137  0.150778   \n",
       "\n",
       "         class_53  class_62  class_64  class_65  class_67  class_88  class_90  \\\n",
       "3492885  0.000361  0.107619  0.000257  0.001176  0.016723  0.001749  0.185555   \n",
       "3492886  0.000218  0.015585  0.344344  0.000314  0.028925  0.000793  0.308762   \n",
       "3492887  0.000315  0.092123  0.000058  0.000150  0.001513  0.000373  0.013241   \n",
       "3492888  0.000108  0.011979  0.096263  0.000367  0.000378  0.000184  0.040249   \n",
       "3492889  0.000460  0.056253  0.000134  0.000610  0.023334  0.001154  0.257796   \n",
       "\n",
       "         class_92  class_95  class_99  \n",
       "3492885  0.000232  0.000710  0.246124  \n",
       "3492886  0.000187  0.005932  0.239358  \n",
       "3492887  0.000196  0.002141  0.107618  \n",
       "3492888  0.000090  0.001519  0.174585  \n",
       "3492889  0.000592  0.000787  0.223972  "
      ]
     },
     "execution_count": 12,
     "metadata": {},
     "output_type": "execute_result"
    }
   ],
   "source": [
    "test_ensemble.tail()"
   ]
  },
  {
   "cell_type": "code",
   "execution_count": 13,
   "metadata": {},
   "outputs": [
    {
     "name": "stdout",
     "output_type": "stream",
     "text": [
      "CPU times: user 1min 33s, sys: 1.38 s, total: 1min 34s\n",
      "Wall time: 1min 34s\n"
     ]
    }
   ],
   "source": [
    "%%time\n",
    "test_ensemble.to_csv('test_pred_39.csv',index=False)"
   ]
  },
  {
   "cell_type": "code",
   "execution_count": 14,
   "metadata": {},
   "outputs": [
    {
     "data": {
      "text/plain": [
       "True"
      ]
     },
     "execution_count": 14,
     "metadata": {},
     "output_type": "execute_result"
    }
   ],
   "source": [
    "test_ensemble['object_id'].equals(pred1['object_id'])"
   ]
  },
  {
   "cell_type": "code",
   "execution_count": 15,
   "metadata": {},
   "outputs": [
    {
     "name": "stdout",
     "output_type": "stream",
     "text": [
      "100%|██████████████████████████████████████| 1.06G/1.06G [03:19<00:00, 5.73MB/s]\n",
      "Successfully submitted to PLAsTiCC Astronomical Classification"
     ]
    }
   ],
   "source": [
    "!kaggle competitions submit -c PLAsTiCC-2018 -f test_pred_39.csv -m \"Message\""
   ]
  },
  {
   "cell_type": "code",
   "execution_count": null,
   "metadata": {},
   "outputs": [],
   "source": []
  }
 ],
 "metadata": {
  "kernelspec": {
   "display_name": "Python 3",
   "language": "python",
   "name": "python3"
  },
  "language_info": {
   "codemirror_mode": {
    "name": "ipython",
    "version": 3
   },
   "file_extension": ".py",
   "mimetype": "text/x-python",
   "name": "python",
   "nbconvert_exporter": "python",
   "pygments_lexer": "ipython3",
   "version": "3.6.7"
  }
 },
 "nbformat": 4,
 "nbformat_minor": 2
}
