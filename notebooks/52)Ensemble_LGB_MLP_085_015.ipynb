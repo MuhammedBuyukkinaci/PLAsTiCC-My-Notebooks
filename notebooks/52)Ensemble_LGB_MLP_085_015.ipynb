{
 "cells": [
  {
   "cell_type": "code",
   "execution_count": 1,
   "metadata": {},
   "outputs": [],
   "source": [
    "import numpy as np # linear algebra\n",
    "import pandas as pd # data processing, CSV file I/O (e.g. pd.read_csv)\n",
    "from sklearn.metrics import log_loss\n",
    "from sklearn.model_selection import StratifiedKFold\n",
    "import gc\n",
    "import os\n",
    "import matplotlib.pyplot as plt\n",
    "import seaborn as sns \n",
    "import lightgbm as lgb\n",
    "import itertools\n",
    "import pickle, gzip\n",
    "import glob\n",
    "from sklearn.preprocessing import StandardScaler\n",
    "from tsfresh.feature_extraction import extract_features\n",
    "np.warnings.filterwarnings('ignore')\n",
    "import dask.dataframe as dd\n",
    "import missingno as msno\n",
    "from pandasql import sqldf\n",
    "from sklearn.metrics import mean_squared_error\n",
    "from math import sqrt\n",
    "from sklearn.model_selection import KFold\n",
    "import matplotlib.gridspec as gridspec\n",
    "from sklearn import preprocessing\n",
    "from imblearn.over_sampling import SMOTE\n",
    "from sklearn.model_selection import train_test_split"
   ]
  },
  {
   "cell_type": "code",
   "execution_count": 2,
   "metadata": {},
   "outputs": [],
   "source": [
    "#Always seed the randomness of this universe\n",
    "np.random.seed(51)"
   ]
  },
  {
   "cell_type": "code",
   "execution_count": 3,
   "metadata": {},
   "outputs": [
    {
     "name": "stdout",
     "output_type": "stream",
     "text": [
      "(3492890, 16) (3492890, 16)\n",
      "CPU times: user 32.4 s, sys: 2.94 s, total: 35.4 s\n",
      "Wall time: 8.61 s\n"
     ]
    }
   ],
   "source": [
    "%%time\n",
    "pred1 = dd.read_csv('test_pred_32.csv')\n",
    "pred2 = dd.read_csv('test_pred_33.csv')\n",
    "pred1 = pred1.compute()\n",
    "pred2 = pred2.compute()\n",
    "print(pred1.shape,pred2.shape)"
   ]
  },
  {
   "cell_type": "code",
   "execution_count": 4,
   "metadata": {},
   "outputs": [
    {
     "name": "stdout",
     "output_type": "stream",
     "text": [
      "CPU times: user 191 ms, sys: 265 ms, total: 456 ms\n",
      "Wall time: 454 ms\n"
     ]
    }
   ],
   "source": [
    "%%time\n",
    "pred1 = pred1.reset_index(drop=True)\n",
    "pred2 = pred2.reset_index(drop=True)"
   ]
  },
  {
   "cell_type": "code",
   "execution_count": 5,
   "metadata": {},
   "outputs": [
    {
     "data": {
      "text/plain": [
       "True"
      ]
     },
     "execution_count": 5,
     "metadata": {},
     "output_type": "execute_result"
    }
   ],
   "source": [
    "pred1['object_id'].equals(pred2['object_id'])"
   ]
  },
  {
   "cell_type": "code",
   "execution_count": 6,
   "metadata": {},
   "outputs": [
    {
     "name": "stdout",
     "output_type": "stream",
     "text": [
      "CPU times: user 397 µs, sys: 47 µs, total: 444 µs\n",
      "Wall time: 452 µs\n"
     ]
    }
   ],
   "source": [
    "%%time\n",
    "test_ensemble = pd.DataFrame()"
   ]
  },
  {
   "cell_type": "code",
   "execution_count": 7,
   "metadata": {},
   "outputs": [],
   "source": [
    "coef_lgb = 0.85\n",
    "coef_mlp = 0.15"
   ]
  },
  {
   "cell_type": "code",
   "execution_count": 8,
   "metadata": {},
   "outputs": [
    {
     "name": "stdout",
     "output_type": "stream",
     "text": [
      "CPU times: user 292 ms, sys: 609 ms, total: 901 ms\n",
      "Wall time: 899 ms\n"
     ]
    }
   ],
   "source": [
    "%%time\n",
    "test_ensemble = pred1.iloc[:,1:]*coef_lgb + pred2.iloc[:,1:]*coef_mlp"
   ]
  },
  {
   "cell_type": "code",
   "execution_count": 9,
   "metadata": {},
   "outputs": [
    {
     "name": "stdout",
     "output_type": "stream",
     "text": [
      "(3492890, 15)\n"
     ]
    }
   ],
   "source": [
    "print(test_ensemble.shape)"
   ]
  },
  {
   "cell_type": "code",
   "execution_count": 10,
   "metadata": {},
   "outputs": [
    {
     "name": "stdout",
     "output_type": "stream",
     "text": [
      "(3492890, 16)\n"
     ]
    }
   ],
   "source": [
    "test_ensemble['object_id'] = pred1['object_id']\n",
    "print(test_ensemble.shape)"
   ]
  },
  {
   "cell_type": "code",
   "execution_count": 11,
   "metadata": {},
   "outputs": [],
   "source": [
    "test_ensemble = test_ensemble[list(pred1.columns)]"
   ]
  },
  {
   "cell_type": "code",
   "execution_count": 12,
   "metadata": {},
   "outputs": [
    {
     "data": {
      "text/html": [
       "<div>\n",
       "<style scoped>\n",
       "    .dataframe tbody tr th:only-of-type {\n",
       "        vertical-align: middle;\n",
       "    }\n",
       "\n",
       "    .dataframe tbody tr th {\n",
       "        vertical-align: top;\n",
       "    }\n",
       "\n",
       "    .dataframe thead th {\n",
       "        text-align: right;\n",
       "    }\n",
       "</style>\n",
       "<table border=\"1\" class=\"dataframe\">\n",
       "  <thead>\n",
       "    <tr style=\"text-align: right;\">\n",
       "      <th></th>\n",
       "      <th>object_id</th>\n",
       "      <th>class_6</th>\n",
       "      <th>class_15</th>\n",
       "      <th>class_16</th>\n",
       "      <th>class_42</th>\n",
       "      <th>class_52</th>\n",
       "      <th>class_53</th>\n",
       "      <th>class_62</th>\n",
       "      <th>class_64</th>\n",
       "      <th>class_65</th>\n",
       "      <th>class_67</th>\n",
       "      <th>class_88</th>\n",
       "      <th>class_90</th>\n",
       "      <th>class_92</th>\n",
       "      <th>class_95</th>\n",
       "      <th>class_99</th>\n",
       "    </tr>\n",
       "  </thead>\n",
       "  <tbody>\n",
       "    <tr>\n",
       "      <th>3492885</th>\n",
       "      <td>130787966</td>\n",
       "      <td>0.000243</td>\n",
       "      <td>0.360808</td>\n",
       "      <td>0.000450</td>\n",
       "      <td>0.197590</td>\n",
       "      <td>0.132574</td>\n",
       "      <td>0.000516</td>\n",
       "      <td>0.105283</td>\n",
       "      <td>0.000267</td>\n",
       "      <td>0.002158</td>\n",
       "      <td>0.016546</td>\n",
       "      <td>0.002678</td>\n",
       "      <td>0.179840</td>\n",
       "      <td>0.000347</td>\n",
       "      <td>0.000701</td>\n",
       "      <td>0.245522</td>\n",
       "    </tr>\n",
       "    <tr>\n",
       "      <th>3492886</th>\n",
       "      <td>130787971</td>\n",
       "      <td>0.000252</td>\n",
       "      <td>0.010714</td>\n",
       "      <td>0.000273</td>\n",
       "      <td>0.044627</td>\n",
       "      <td>0.236696</td>\n",
       "      <td>0.000338</td>\n",
       "      <td>0.018010</td>\n",
       "      <td>0.329932</td>\n",
       "      <td>0.000451</td>\n",
       "      <td>0.022253</td>\n",
       "      <td>0.001048</td>\n",
       "      <td>0.331432</td>\n",
       "      <td>0.000318</td>\n",
       "      <td>0.003656</td>\n",
       "      <td>0.244092</td>\n",
       "    </tr>\n",
       "    <tr>\n",
       "      <th>3492887</th>\n",
       "      <td>130787974</td>\n",
       "      <td>0.000677</td>\n",
       "      <td>0.018175</td>\n",
       "      <td>0.000176</td>\n",
       "      <td>0.896960</td>\n",
       "      <td>0.022306</td>\n",
       "      <td>0.000407</td>\n",
       "      <td>0.047582</td>\n",
       "      <td>0.000068</td>\n",
       "      <td>0.000212</td>\n",
       "      <td>0.001203</td>\n",
       "      <td>0.000446</td>\n",
       "      <td>0.009917</td>\n",
       "      <td>0.000280</td>\n",
       "      <td>0.001592</td>\n",
       "      <td>0.077449</td>\n",
       "    </tr>\n",
       "    <tr>\n",
       "      <th>3492888</th>\n",
       "      <td>130788053</td>\n",
       "      <td>0.000098</td>\n",
       "      <td>0.699977</td>\n",
       "      <td>0.000156</td>\n",
       "      <td>0.139274</td>\n",
       "      <td>0.004244</td>\n",
       "      <td>0.000186</td>\n",
       "      <td>0.010052</td>\n",
       "      <td>0.109660</td>\n",
       "      <td>0.000542</td>\n",
       "      <td>0.000477</td>\n",
       "      <td>0.000332</td>\n",
       "      <td>0.033885</td>\n",
       "      <td>0.000160</td>\n",
       "      <td>0.000956</td>\n",
       "      <td>0.169347</td>\n",
       "    </tr>\n",
       "    <tr>\n",
       "      <th>3492889</th>\n",
       "      <td>130788054</td>\n",
       "      <td>0.000292</td>\n",
       "      <td>0.099141</td>\n",
       "      <td>0.000396</td>\n",
       "      <td>0.467836</td>\n",
       "      <td>0.125158</td>\n",
       "      <td>0.000780</td>\n",
       "      <td>0.055222</td>\n",
       "      <td>0.000393</td>\n",
       "      <td>0.001035</td>\n",
       "      <td>0.022333</td>\n",
       "      <td>0.001994</td>\n",
       "      <td>0.223577</td>\n",
       "      <td>0.000858</td>\n",
       "      <td>0.000985</td>\n",
       "      <td>0.226800</td>\n",
       "    </tr>\n",
       "  </tbody>\n",
       "</table>\n",
       "</div>"
      ],
      "text/plain": [
       "         object_id   class_6  class_15  class_16  class_42  class_52  \\\n",
       "3492885  130787966  0.000243  0.360808  0.000450  0.197590  0.132574   \n",
       "3492886  130787971  0.000252  0.010714  0.000273  0.044627  0.236696   \n",
       "3492887  130787974  0.000677  0.018175  0.000176  0.896960  0.022306   \n",
       "3492888  130788053  0.000098  0.699977  0.000156  0.139274  0.004244   \n",
       "3492889  130788054  0.000292  0.099141  0.000396  0.467836  0.125158   \n",
       "\n",
       "         class_53  class_62  class_64  class_65  class_67  class_88  class_90  \\\n",
       "3492885  0.000516  0.105283  0.000267  0.002158  0.016546  0.002678  0.179840   \n",
       "3492886  0.000338  0.018010  0.329932  0.000451  0.022253  0.001048  0.331432   \n",
       "3492887  0.000407  0.047582  0.000068  0.000212  0.001203  0.000446  0.009917   \n",
       "3492888  0.000186  0.010052  0.109660  0.000542  0.000477  0.000332  0.033885   \n",
       "3492889  0.000780  0.055222  0.000393  0.001035  0.022333  0.001994  0.223577   \n",
       "\n",
       "         class_92  class_95  class_99  \n",
       "3492885  0.000347  0.000701  0.245522  \n",
       "3492886  0.000318  0.003656  0.244092  \n",
       "3492887  0.000280  0.001592  0.077449  \n",
       "3492888  0.000160  0.000956  0.169347  \n",
       "3492889  0.000858  0.000985  0.226800  "
      ]
     },
     "execution_count": 12,
     "metadata": {},
     "output_type": "execute_result"
    }
   ],
   "source": [
    "test_ensemble.tail()"
   ]
  },
  {
   "cell_type": "code",
   "execution_count": 13,
   "metadata": {},
   "outputs": [
    {
     "name": "stdout",
     "output_type": "stream",
     "text": [
      "CPU times: user 1min 26s, sys: 1.02 s, total: 1min 27s\n",
      "Wall time: 1min 28s\n"
     ]
    }
   ],
   "source": [
    "%%time\n",
    "test_ensemble.to_csv('test_pred_36.csv',index=False)"
   ]
  },
  {
   "cell_type": "code",
   "execution_count": 14,
   "metadata": {},
   "outputs": [
    {
     "data": {
      "text/plain": [
       "True"
      ]
     },
     "execution_count": 14,
     "metadata": {},
     "output_type": "execute_result"
    }
   ],
   "source": [
    "test_ensemble['object_id'].equals(pred1['object_id'])"
   ]
  },
  {
   "cell_type": "code",
   "execution_count": 15,
   "metadata": {},
   "outputs": [
    {
     "name": "stdout",
     "output_type": "stream",
     "text": [
      "100%|█████████████████████████████████████| 1.06G/1.06G [2:10:16<00:00, 146kB/s]\n",
      "Successfully submitted to PLAsTiCC Astronomical Classification"
     ]
    }
   ],
   "source": [
    "!kaggle competitions submit -c PLAsTiCC-2018 -f test_pred_36.csv -m \"Message\""
   ]
  }
 ],
 "metadata": {
  "kernelspec": {
   "display_name": "Python 3",
   "language": "python",
   "name": "python3"
  },
  "language_info": {
   "codemirror_mode": {
    "name": "ipython",
    "version": 3
   },
   "file_extension": ".py",
   "mimetype": "text/x-python",
   "name": "python",
   "nbconvert_exporter": "python",
   "pygments_lexer": "ipython3",
   "version": "3.6.7"
  }
 },
 "nbformat": 4,
 "nbformat_minor": 2
}
