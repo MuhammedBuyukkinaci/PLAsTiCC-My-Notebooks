{
 "cells": [
  {
   "cell_type": "code",
   "execution_count": 1,
   "metadata": {},
   "outputs": [],
   "source": [
    "import numpy as np # linear algebra\n",
    "import pandas as pd # data processing, CSV file I/O (e.g. pd.read_csv)\n",
    "from sklearn.metrics import log_loss\n",
    "from sklearn.model_selection import StratifiedKFold\n",
    "import gc\n",
    "import os\n",
    "import matplotlib.pyplot as plt\n",
    "import seaborn as sns \n",
    "import lightgbm as lgb\n",
    "import itertools\n",
    "import pickle, gzip\n",
    "import glob\n",
    "from sklearn.preprocessing import StandardScaler\n",
    "from tsfresh.feature_extraction import extract_features\n",
    "np.warnings.filterwarnings('ignore')\n",
    "import dask.dataframe as dd\n",
    "import missingno as msno\n",
    "from pandasql import sqldf\n",
    "from sklearn.metrics import mean_squared_error\n",
    "from math import sqrt\n",
    "from sklearn.model_selection import KFold\n",
    "import matplotlib.gridspec as gridspec\n",
    "from sklearn import preprocessing\n",
    "from imblearn.over_sampling import SMOTE\n",
    "from sklearn.model_selection import train_test_split"
   ]
  },
  {
   "cell_type": "code",
   "execution_count": 2,
   "metadata": {},
   "outputs": [],
   "source": [
    "#Always seed the randomness of this universe\n",
    "np.random.seed(51)"
   ]
  },
  {
   "cell_type": "code",
   "execution_count": 3,
   "metadata": {},
   "outputs": [
    {
     "name": "stdout",
     "output_type": "stream",
     "text": [
      "(3492890, 16) (3492890, 16)\n",
      "CPU times: user 32.9 s, sys: 3.09 s, total: 36 s\n",
      "Wall time: 7.5 s\n"
     ]
    }
   ],
   "source": [
    "%%time\n",
    "pred1 = dd.read_csv('test_pred_40.csv')\n",
    "pred2 = dd.read_csv('test_pred_46.csv')\n",
    "pred1 = pred1.compute()\n",
    "pred2 = pred2.compute()\n",
    "print(pred1.shape,pred2.shape)"
   ]
  },
  {
   "cell_type": "code",
   "execution_count": 4,
   "metadata": {},
   "outputs": [
    {
     "name": "stdout",
     "output_type": "stream",
     "text": [
      "CPU times: user 197 ms, sys: 272 ms, total: 470 ms\n",
      "Wall time: 468 ms\n"
     ]
    }
   ],
   "source": [
    "%%time\n",
    "pred1 = pred1.reset_index(drop=True)\n",
    "pred2 = pred2.reset_index(drop=True)"
   ]
  },
  {
   "cell_type": "code",
   "execution_count": 5,
   "metadata": {},
   "outputs": [
    {
     "data": {
      "text/plain": [
       "True"
      ]
     },
     "execution_count": 5,
     "metadata": {},
     "output_type": "execute_result"
    }
   ],
   "source": [
    "pred1['object_id'].equals(pred2['object_id'])"
   ]
  },
  {
   "cell_type": "code",
   "execution_count": 6,
   "metadata": {},
   "outputs": [
    {
     "name": "stdout",
     "output_type": "stream",
     "text": [
      "CPU times: user 284 µs, sys: 37 µs, total: 321 µs\n",
      "Wall time: 325 µs\n"
     ]
    }
   ],
   "source": [
    "%%time\n",
    "test_ensemble = pd.DataFrame()"
   ]
  },
  {
   "cell_type": "code",
   "execution_count": 7,
   "metadata": {},
   "outputs": [],
   "source": [
    "coef_lgb = 0.75\n",
    "coef_mlp = 0.25"
   ]
  },
  {
   "cell_type": "code",
   "execution_count": 8,
   "metadata": {},
   "outputs": [
    {
     "name": "stdout",
     "output_type": "stream",
     "text": [
      "CPU times: user 370 ms, sys: 585 ms, total: 955 ms\n",
      "Wall time: 952 ms\n"
     ]
    }
   ],
   "source": [
    "%%time\n",
    "test_ensemble = pred1.iloc[:,1:]*coef_lgb + pred2.iloc[:,1:]*coef_mlp"
   ]
  },
  {
   "cell_type": "code",
   "execution_count": 9,
   "metadata": {},
   "outputs": [
    {
     "name": "stdout",
     "output_type": "stream",
     "text": [
      "(3492890, 15)\n"
     ]
    }
   ],
   "source": [
    "print(test_ensemble.shape)"
   ]
  },
  {
   "cell_type": "code",
   "execution_count": 10,
   "metadata": {},
   "outputs": [
    {
     "name": "stdout",
     "output_type": "stream",
     "text": [
      "(3492890, 16)\n"
     ]
    }
   ],
   "source": [
    "test_ensemble['object_id'] = pred1['object_id']\n",
    "print(test_ensemble.shape)"
   ]
  },
  {
   "cell_type": "code",
   "execution_count": 11,
   "metadata": {},
   "outputs": [],
   "source": [
    "test_ensemble = test_ensemble[list(pred1.columns)]"
   ]
  },
  {
   "cell_type": "code",
   "execution_count": 12,
   "metadata": {},
   "outputs": [
    {
     "data": {
      "text/html": [
       "<div>\n",
       "<style scoped>\n",
       "    .dataframe tbody tr th:only-of-type {\n",
       "        vertical-align: middle;\n",
       "    }\n",
       "\n",
       "    .dataframe tbody tr th {\n",
       "        vertical-align: top;\n",
       "    }\n",
       "\n",
       "    .dataframe thead th {\n",
       "        text-align: right;\n",
       "    }\n",
       "</style>\n",
       "<table border=\"1\" class=\"dataframe\">\n",
       "  <thead>\n",
       "    <tr style=\"text-align: right;\">\n",
       "      <th></th>\n",
       "      <th>object_id</th>\n",
       "      <th>class_6</th>\n",
       "      <th>class_15</th>\n",
       "      <th>class_16</th>\n",
       "      <th>class_42</th>\n",
       "      <th>class_52</th>\n",
       "      <th>class_53</th>\n",
       "      <th>class_62</th>\n",
       "      <th>class_64</th>\n",
       "      <th>class_65</th>\n",
       "      <th>class_67</th>\n",
       "      <th>class_88</th>\n",
       "      <th>class_90</th>\n",
       "      <th>class_92</th>\n",
       "      <th>class_95</th>\n",
       "      <th>class_99</th>\n",
       "    </tr>\n",
       "  </thead>\n",
       "  <tbody>\n",
       "    <tr>\n",
       "      <th>3492885</th>\n",
       "      <td>130787966</td>\n",
       "      <td>0.000162</td>\n",
       "      <td>0.344736</td>\n",
       "      <td>0.000323</td>\n",
       "      <td>0.189512</td>\n",
       "      <td>0.118729</td>\n",
       "      <td>0.000369</td>\n",
       "      <td>0.118128</td>\n",
       "      <td>0.000200</td>\n",
       "      <td>0.001354</td>\n",
       "      <td>0.014931</td>\n",
       "      <td>0.001784</td>\n",
       "      <td>0.209010</td>\n",
       "      <td>0.000236</td>\n",
       "      <td>0.000527</td>\n",
       "      <td>0.243964</td>\n",
       "    </tr>\n",
       "    <tr>\n",
       "      <th>3492886</th>\n",
       "      <td>130787971</td>\n",
       "      <td>0.000175</td>\n",
       "      <td>0.019250</td>\n",
       "      <td>0.000141</td>\n",
       "      <td>0.058373</td>\n",
       "      <td>0.168100</td>\n",
       "      <td>0.000214</td>\n",
       "      <td>0.020772</td>\n",
       "      <td>0.344966</td>\n",
       "      <td>0.000329</td>\n",
       "      <td>0.039863</td>\n",
       "      <td>0.000655</td>\n",
       "      <td>0.340776</td>\n",
       "      <td>0.000190</td>\n",
       "      <td>0.006197</td>\n",
       "      <td>0.232846</td>\n",
       "    </tr>\n",
       "    <tr>\n",
       "      <th>3492887</th>\n",
       "      <td>130787974</td>\n",
       "      <td>0.000600</td>\n",
       "      <td>0.021537</td>\n",
       "      <td>0.000119</td>\n",
       "      <td>0.833345</td>\n",
       "      <td>0.041256</td>\n",
       "      <td>0.000285</td>\n",
       "      <td>0.081527</td>\n",
       "      <td>0.000036</td>\n",
       "      <td>0.000130</td>\n",
       "      <td>0.001254</td>\n",
       "      <td>0.000336</td>\n",
       "      <td>0.017344</td>\n",
       "      <td>0.000179</td>\n",
       "      <td>0.002053</td>\n",
       "      <td>0.107819</td>\n",
       "    </tr>\n",
       "    <tr>\n",
       "      <th>3492888</th>\n",
       "      <td>130788053</td>\n",
       "      <td>0.000053</td>\n",
       "      <td>0.736005</td>\n",
       "      <td>0.000070</td>\n",
       "      <td>0.145347</td>\n",
       "      <td>0.003047</td>\n",
       "      <td>0.000097</td>\n",
       "      <td>0.009522</td>\n",
       "      <td>0.073570</td>\n",
       "      <td>0.000368</td>\n",
       "      <td>0.000282</td>\n",
       "      <td>0.000151</td>\n",
       "      <td>0.030912</td>\n",
       "      <td>0.000088</td>\n",
       "      <td>0.000489</td>\n",
       "      <td>0.156390</td>\n",
       "    </tr>\n",
       "    <tr>\n",
       "      <th>3492889</th>\n",
       "      <td>130788054</td>\n",
       "      <td>0.000184</td>\n",
       "      <td>0.099099</td>\n",
       "      <td>0.000269</td>\n",
       "      <td>0.426298</td>\n",
       "      <td>0.158324</td>\n",
       "      <td>0.000447</td>\n",
       "      <td>0.054113</td>\n",
       "      <td>0.000084</td>\n",
       "      <td>0.000596</td>\n",
       "      <td>0.019611</td>\n",
       "      <td>0.001077</td>\n",
       "      <td>0.238600</td>\n",
       "      <td>0.000596</td>\n",
       "      <td>0.000703</td>\n",
       "      <td>0.237256</td>\n",
       "    </tr>\n",
       "  </tbody>\n",
       "</table>\n",
       "</div>"
      ],
      "text/plain": [
       "         object_id   class_6  class_15  class_16  class_42  class_52  \\\n",
       "3492885  130787966  0.000162  0.344736  0.000323  0.189512  0.118729   \n",
       "3492886  130787971  0.000175  0.019250  0.000141  0.058373  0.168100   \n",
       "3492887  130787974  0.000600  0.021537  0.000119  0.833345  0.041256   \n",
       "3492888  130788053  0.000053  0.736005  0.000070  0.145347  0.003047   \n",
       "3492889  130788054  0.000184  0.099099  0.000269  0.426298  0.158324   \n",
       "\n",
       "         class_53  class_62  class_64  class_65  class_67  class_88  class_90  \\\n",
       "3492885  0.000369  0.118128  0.000200  0.001354  0.014931  0.001784  0.209010   \n",
       "3492886  0.000214  0.020772  0.344966  0.000329  0.039863  0.000655  0.340776   \n",
       "3492887  0.000285  0.081527  0.000036  0.000130  0.001254  0.000336  0.017344   \n",
       "3492888  0.000097  0.009522  0.073570  0.000368  0.000282  0.000151  0.030912   \n",
       "3492889  0.000447  0.054113  0.000084  0.000596  0.019611  0.001077  0.238600   \n",
       "\n",
       "         class_92  class_95  class_99  \n",
       "3492885  0.000236  0.000527  0.243964  \n",
       "3492886  0.000190  0.006197  0.232846  \n",
       "3492887  0.000179  0.002053  0.107819  \n",
       "3492888  0.000088  0.000489  0.156390  \n",
       "3492889  0.000596  0.000703  0.237256  "
      ]
     },
     "execution_count": 12,
     "metadata": {},
     "output_type": "execute_result"
    }
   ],
   "source": [
    "test_ensemble.tail()"
   ]
  },
  {
   "cell_type": "code",
   "execution_count": 13,
   "metadata": {},
   "outputs": [
    {
     "name": "stdout",
     "output_type": "stream",
     "text": [
      "CPU times: user 1min 31s, sys: 1.24 s, total: 1min 32s\n",
      "Wall time: 1min 32s\n"
     ]
    }
   ],
   "source": [
    "%%time\n",
    "test_ensemble.to_csv('test_pred_47.csv',index=False)"
   ]
  },
  {
   "cell_type": "code",
   "execution_count": 14,
   "metadata": {},
   "outputs": [
    {
     "data": {
      "text/plain": [
       "True"
      ]
     },
     "execution_count": 14,
     "metadata": {},
     "output_type": "execute_result"
    }
   ],
   "source": [
    "test_ensemble['object_id'].equals(pred1['object_id'])"
   ]
  },
  {
   "cell_type": "code",
   "execution_count": 15,
   "metadata": {},
   "outputs": [
    {
     "name": "stdout",
     "output_type": "stream",
     "text": [
      "100%|██████████████████████████████████████| 1.06G/1.06G [05:02<00:00, 3.78MB/s]\n",
      "Successfully submitted to PLAsTiCC Astronomical Classification"
     ]
    }
   ],
   "source": [
    "!kaggle competitions submit -c PLAsTiCC-2018 -f test_pred_47.csv -m \"Ensemble_LGB_MLP_075_025\""
   ]
  },
  {
   "cell_type": "code",
   "execution_count": null,
   "metadata": {},
   "outputs": [],
   "source": []
  }
 ],
 "metadata": {
  "kernelspec": {
   "display_name": "Python 3",
   "language": "python",
   "name": "python3"
  },
  "language_info": {
   "codemirror_mode": {
    "name": "ipython",
    "version": 3
   },
   "file_extension": ".py",
   "mimetype": "text/x-python",
   "name": "python",
   "nbconvert_exporter": "python",
   "pygments_lexer": "ipython3",
   "version": "3.6.7"
  }
 },
 "nbformat": 4,
 "nbformat_minor": 2
}
