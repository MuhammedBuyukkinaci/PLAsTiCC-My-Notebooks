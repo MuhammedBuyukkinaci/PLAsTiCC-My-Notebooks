{
 "cells": [
  {
   "cell_type": "code",
   "execution_count": 1,
   "metadata": {},
   "outputs": [],
   "source": [
    "import pandas as pd\n",
    "import numpy as np\n",
    "import seaborn as sns\n",
    "import matplotlib.pyplot as plt\n",
    "from pandasql import sqldf\n",
    "import gc\n",
    "import missingno as msno"
   ]
  },
  {
   "cell_type": "code",
   "execution_count": 2,
   "metadata": {},
   "outputs": [],
   "source": [
    "pd.set_option('display.max_columns', None)\n",
    "pd.set_option('display.max_rows', None)"
   ]
  },
  {
   "cell_type": "code",
   "execution_count": 3,
   "metadata": {},
   "outputs": [
    {
     "name": "stdout",
     "output_type": "stream",
     "text": [
      "CPU times: user 4.15 s, sys: 374 ms, total: 4.53 s\n",
      "Wall time: 4.5 s\n"
     ]
    }
   ],
   "source": [
    "%%time\n",
    "train_metadata = pd.read_csv('training_set_metadata.csv')\n",
    "test_metadata = pd.read_csv('test_set_metadata.csv')"
   ]
  },
  {
   "cell_type": "code",
   "execution_count": 4,
   "metadata": {},
   "outputs": [
    {
     "name": "stdout",
     "output_type": "stream",
     "text": [
      "CPU times: user 2.49 s, sys: 445 ms, total: 2.93 s\n",
      "Wall time: 2.92 s\n"
     ]
    }
   ],
   "source": [
    "%%time\n",
    "sample_submission = pd.read_csv('sample_submission.csv')"
   ]
  },
  {
   "cell_type": "code",
   "execution_count": 5,
   "metadata": {},
   "outputs": [
    {
     "name": "stdout",
     "output_type": "stream",
     "text": [
      "CPU times: user 1min 7s, sys: 4.16 s, total: 1min 11s\n",
      "Wall time: 1min 11s\n"
     ]
    }
   ],
   "source": [
    "%%time\n",
    "train_passband = pd.read_csv('agg_train_passband.csv')\n",
    "test_passband = pd.read_csv('agg_test_passband.csv')\n",
    "train_merged = pd.read_csv('agg_train_merged.csv')\n",
    "test_merged = pd.read_csv('agg_test_merged.csv')"
   ]
  },
  {
   "cell_type": "code",
   "execution_count": 6,
   "metadata": {},
   "outputs": [],
   "source": [
    "def reduce_mem_usage(df):\n",
    "    \"\"\" iterate through all the columns of a dataframe and modify the data type\n",
    "        to reduce memory usage.        \n",
    "    \"\"\"\n",
    "    start_mem = df.memory_usage().sum() / 1024**2\n",
    "    print('Memory usage of dataframe is {:.2f} MB'.format(start_mem))\n",
    "    \n",
    "    for col in df.columns:\n",
    "        col_type = df[col].dtype\n",
    "        \n",
    "        if col_type != object:\n",
    "            c_min = df[col].min()\n",
    "            c_max = df[col].max()\n",
    "            if str(col_type)[:3] == 'int':\n",
    "                if c_min > np.iinfo(np.int8).min and c_max < np.iinfo(np.int8).max:\n",
    "                    df[col] = df[col].astype(np.int8)\n",
    "                elif c_min > np.iinfo(np.int16).min and c_max < np.iinfo(np.int16).max:\n",
    "                    df[col] = df[col].astype(np.int16)\n",
    "                elif c_min > np.iinfo(np.int32).min and c_max < np.iinfo(np.int32).max:\n",
    "                    df[col] = df[col].astype(np.int32)\n",
    "                elif c_min > np.iinfo(np.int64).min and c_max < np.iinfo(np.int64).max:\n",
    "                    df[col] = df[col].astype(np.int64)  \n",
    "            else:\n",
    "                if c_min > np.finfo(np.float16).min and c_max < np.finfo(np.float16).max:\n",
    "                    df[col] = df[col].astype(np.float16)\n",
    "                elif c_min > np.finfo(np.float32).min and c_max < np.finfo(np.float32).max:\n",
    "                    df[col] = df[col].astype(np.float32)\n",
    "                else:\n",
    "                    df[col] = df[col].astype(np.float64)\n",
    "        else:\n",
    "            df[col] = df[col].astype('category')\n",
    "\n",
    "    end_mem = df.memory_usage().sum() / 1024**2\n",
    "    print('Memory usage after optimization is: {:.2f} MB'.format(end_mem))\n",
    "    print('Decreased by {:.1f}%'.format(100 * (start_mem - end_mem) / start_mem))\n",
    "    \n",
    "    return df"
   ]
  },
  {
   "cell_type": "code",
   "execution_count": 7,
   "metadata": {},
   "outputs": [
    {
     "name": "stdout",
     "output_type": "stream",
     "text": [
      "Memory usage of dataframe is 0.72 MB\n",
      "Memory usage after optimization is: 0.18 MB\n",
      "Decreased by 75.0%\n",
      "Memory usage of dataframe is 293.14 MB\n",
      "Memory usage after optimization is: 76.61 MB\n",
      "Decreased by 73.9%\n",
      "Memory usage of dataframe is 7.54 MB\n",
      "Memory usage after optimization is: 2.83 MB\n",
      "Decreased by 62.5%\n",
      "Memory usage of dataframe is 3357.73 MB\n",
      "Memory usage after optimization is: 1339.09 MB\n",
      "Decreased by 60.1%\n",
      "Memory usage of dataframe is 1.20 MB\n",
      "Memory usage after optimization is: 0.45 MB\n",
      "Decreased by 62.5%\n",
      "Memory usage of dataframe is 532.97 MB\n",
      "Memory usage after optimization is: 206.53 MB\n",
      "Decreased by 61.2%\n",
      "CPU times: user 14 s, sys: 11.3 s, total: 25.4 s\n",
      "Wall time: 25.4 s\n"
     ]
    }
   ],
   "source": [
    "%%time\n",
    "train_metadata = reduce_mem_usage(train_metadata)\n",
    "test_metadata = reduce_mem_usage(test_metadata)\n",
    "train_passband = reduce_mem_usage(train_passband)\n",
    "test_passband = reduce_mem_usage(test_passband)\n",
    "train_merged = reduce_mem_usage(train_merged)\n",
    "test_merged = reduce_mem_usage(test_merged)"
   ]
  },
  {
   "cell_type": "code",
   "execution_count": 8,
   "metadata": {},
   "outputs": [],
   "source": [
    "train_temp0 = train_passband[train_passband['passband'] == 0]\n",
    "train_temp1 = train_passband[train_passband['passband'] == 1]\n",
    "train_temp2 = train_passband[train_passband['passband'] == 2]\n",
    "train_temp3 = train_passband[train_passband['passband'] == 3]\n",
    "train_temp4 = train_passband[train_passband['passband'] == 4]\n",
    "train_temp5 = train_passband[train_passband['passband'] == 5]"
   ]
  },
  {
   "cell_type": "code",
   "execution_count": 9,
   "metadata": {},
   "outputs": [],
   "source": [
    "test_temp0 = test_passband[test_passband['passband'] == 0]\n",
    "test_temp1 = test_passband[test_passband['passband'] == 1]\n",
    "test_temp2 = test_passband[test_passband['passband'] == 2]\n",
    "test_temp3 = test_passband[test_passband['passband'] == 3]\n",
    "test_temp4 = test_passband[test_passband['passband'] == 4]\n",
    "test_temp5 = test_passband[test_passband['passband'] == 5]"
   ]
  },
  {
   "cell_type": "code",
   "execution_count": 10,
   "metadata": {},
   "outputs": [
    {
     "data": {
      "text/plain": [
       "7"
      ]
     },
     "execution_count": 10,
     "metadata": {},
     "output_type": "execute_result"
    }
   ],
   "source": [
    "del train_passband\n",
    "del test_passband\n",
    "gc.collect()"
   ]
  },
  {
   "cell_type": "markdown",
   "metadata": {},
   "source": [
    "# NO GROUPED LEFT JOIN"
   ]
  },
  {
   "cell_type": "code",
   "execution_count": null,
   "metadata": {},
   "outputs": [],
   "source": [
    "train_merged.head()"
   ]
  },
  {
   "cell_type": "code",
   "execution_count": null,
   "metadata": {},
   "outputs": [],
   "source": [
    "for i in list(train_merged):\n",
    "    print(\"B.{} AS NG_{},\".format(i,i))"
   ]
  },
  {
   "cell_type": "code",
   "execution_count": null,
   "metadata": {},
   "outputs": [],
   "source": [
    "%%time\n",
    "train_metadata = sqldf(\"\"\"SELECT A.*,B.count_flux_err AS NG_count_flux_err,\n",
    "B.min_flux_err AS NG_min_flux_err,\n",
    "B.max_flux_err AS NG_max_flux_err,\n",
    "B.std_flux_err AS NG_std_flux_err,\n",
    "B.sum_flux_err AS NG_sum_flux_err,\n",
    "B.mean_flux_err AS NG_mean_flux_err,\n",
    "B.median_flux_err AS NG_median_flux_err,\n",
    "B.count_flux AS NG_count_flux,\n",
    "B.min_flux AS NG_min_flux,\n",
    "B.max_flux AS NG_max_flux,\n",
    "B.std_flux AS NG_std_flux,\n",
    "B.sum_flux AS NG_sum_flux,\n",
    "B.mean_flux AS NG_mean_flux,\n",
    "B.median_flux AS NG_median_flux,\n",
    "B.count_detected AS NG_count_detected,\n",
    "B.std_detected AS NG_std_detected,\n",
    "B.sum_detected AS NG_sum_detected,\n",
    "B.mean_detected AS NG_mean_detected,\n",
    "B.median_detected AS NG_median_detected FROM train_metadata A LEFT JOIN train_merged B ON A.object_id = B.object_id\"\"\")"
   ]
  },
  {
   "cell_type": "code",
   "execution_count": null,
   "metadata": {},
   "outputs": [],
   "source": [
    "train_metadata.head()"
   ]
  },
  {
   "cell_type": "code",
   "execution_count": null,
   "metadata": {},
   "outputs": [],
   "source": [
    "train_metadata.shape"
   ]
  },
  {
   "cell_type": "code",
   "execution_count": null,
   "metadata": {},
   "outputs": [],
   "source": [
    "%%time\n",
    "test_metadata = sqldf(\"\"\"SELECT A.*,B.count_flux_err AS NG_count_flux_err,\n",
    "B.min_flux_err AS NG_min_flux_err,\n",
    "B.max_flux_err AS NG_max_flux_err,\n",
    "B.std_flux_err AS NG_std_flux_err,\n",
    "B.sum_flux_err AS NG_sum_flux_err,\n",
    "B.mean_flux_err AS NG_mean_flux_err,\n",
    "B.median_flux_err AS NG_median_flux_err,\n",
    "B.count_flux AS NG_count_flux,\n",
    "B.min_flux AS NG_min_flux,\n",
    "B.max_flux AS NG_max_flux,\n",
    "B.std_flux AS NG_std_flux,\n",
    "B.sum_flux AS NG_sum_flux,\n",
    "B.mean_flux AS NG_mean_flux,\n",
    "B.median_flux AS NG_median_flux,\n",
    "B.count_detected AS NG_count_detected,\n",
    "B.std_detected AS NG_std_detected,\n",
    "B.sum_detected AS NG_sum_detected,\n",
    "B.mean_detected AS NG_mean_detected,\n",
    "B.median_detected AS NG_median_detected FROM test_metadata A LEFT JOIN test_merged B ON A.object_id = B.object_id\"\"\")"
   ]
  },
  {
   "cell_type": "code",
   "execution_count": null,
   "metadata": {},
   "outputs": [],
   "source": [
    "test_metadata.shape"
   ]
  },
  {
   "cell_type": "code",
   "execution_count": null,
   "metadata": {},
   "outputs": [],
   "source": [
    "del train_merged\n",
    "del test_merged\n",
    "gc.collect()"
   ]
  },
  {
   "cell_type": "code",
   "execution_count": null,
   "metadata": {},
   "outputs": [],
   "source": [
    "train_metadata = reduce_mem_usage(train_metadata)\n",
    "test_metadata = reduce_mem_usage(test_metadata)"
   ]
  },
  {
   "cell_type": "markdown",
   "metadata": {},
   "source": [
    "# PASSBAND 0 "
   ]
  },
  {
   "cell_type": "code",
   "execution_count": null,
   "metadata": {},
   "outputs": [],
   "source": [
    "%%time\n",
    "train_metadata = sqldf(\"\"\"SELECT A.*,B.count_flux_err AS A0_count_flux_err,\n",
    "B.min_flux_err AS A0_min_flux_err,\n",
    "B.max_flux_err AS A0_max_flux_err,\n",
    "B.std_flux_err AS A0_std_flux_err,\n",
    "B.sum_flux_err AS A0_sum_flux_err,\n",
    "B.mean_flux_err AS A0_mean_flux_err,\n",
    "B.median_flux_err AS A0_median_flux_err,\n",
    "B.count_flux AS A0_count_flux,\n",
    "B.min_flux AS A0_min_flux,\n",
    "B.max_flux AS A0_max_flux,\n",
    "B.std_flux AS A0_std_flux,\n",
    "B.sum_flux AS A0_sum_flux,\n",
    "B.mean_flux AS A0_mean_flux,\n",
    "B.median_flux AS A0_median_flux,\n",
    "B.count_detected AS A0_count_detected,\n",
    "B.std_detected AS A0_std_detected,\n",
    "B.sum_detected AS A0_sum_detected,\n",
    "B.mean_detected AS A0_mean_detected,\n",
    "B.median_detected AS A0_median_detected FROM train_metadata A LEFT JOIN train_temp0 B ON A.object_id = B.object_id\"\"\")"
   ]
  },
  {
   "cell_type": "code",
   "execution_count": null,
   "metadata": {},
   "outputs": [],
   "source": [
    "%%time\n",
    "test_metadata = sqldf(\"\"\"SELECT A.*,B.count_flux_err AS A0_count_flux_err,\n",
    "B.min_flux_err AS A0_min_flux_err,\n",
    "B.max_flux_err AS A0_max_flux_err,\n",
    "B.std_flux_err AS A0_std_flux_err,\n",
    "B.sum_flux_err AS A0_sum_flux_err,\n",
    "B.mean_flux_err AS A0_mean_flux_err,\n",
    "B.median_flux_err AS A0_median_flux_err,\n",
    "B.count_flux AS A0_count_flux,\n",
    "B.min_flux AS A0_min_flux,\n",
    "B.max_flux AS A0_max_flux,\n",
    "B.std_flux AS A0_std_flux,\n",
    "B.sum_flux AS A0_sum_flux,\n",
    "B.mean_flux AS A0_mean_flux,\n",
    "B.median_flux AS A0_median_flux,\n",
    "B.count_detected AS A0_count_detected,\n",
    "B.std_detected AS A0_std_detected,\n",
    "B.sum_detected AS A0_sum_detected,\n",
    "B.mean_detected AS A0_mean_detected,\n",
    "B.median_detected AS A0_median_detected FROM test_metadata A LEFT JOIN test_temp0 B ON A.object_id = B.object_id\"\"\")"
   ]
  },
  {
   "cell_type": "code",
   "execution_count": null,
   "metadata": {},
   "outputs": [],
   "source": [
    "del train_temp0,test_temp0\n",
    "gc.collect()"
   ]
  },
  {
   "cell_type": "code",
   "execution_count": null,
   "metadata": {},
   "outputs": [],
   "source": [
    "train_metadata = reduce_mem_usage(train_metadata)\n",
    "test_metadata = reduce_mem_usage(test_metadata)"
   ]
  },
  {
   "cell_type": "markdown",
   "metadata": {},
   "source": [
    "# PASSBAND 1"
   ]
  },
  {
   "cell_type": "code",
   "execution_count": null,
   "metadata": {},
   "outputs": [],
   "source": [
    "%%time\n",
    "train_metadata = sqldf(\"\"\"SELECT A.*,B.count_flux_err AS A1_count_flux_err,\n",
    "B.min_flux_err AS A1_min_flux_err,\n",
    "B.max_flux_err AS A1_max_flux_err,\n",
    "B.std_flux_err AS A1_std_flux_err,\n",
    "B.sum_flux_err AS A1_sum_flux_err,\n",
    "B.mean_flux_err AS A1_mean_flux_err,\n",
    "B.median_flux_err AS A1_median_flux_err,\n",
    "B.count_flux AS A1_count_flux,\n",
    "B.min_flux AS A1_min_flux,\n",
    "B.max_flux AS A1_max_flux,\n",
    "B.std_flux AS A1_std_flux,\n",
    "B.sum_flux AS A1_sum_flux,\n",
    "B.mean_flux AS A1_mean_flux,\n",
    "B.median_flux AS A1_median_flux,\n",
    "B.count_detected AS A1_count_detected,\n",
    "B.std_detected AS A1_std_detected,\n",
    "B.sum_detected AS A1_sum_detected,\n",
    "B.mean_detected AS A1_mean_detected,\n",
    "B.median_detected AS A1_median_detected FROM train_metadata A LEFT JOIN train_temp1 B ON A.object_id = B.object_id\"\"\")"
   ]
  },
  {
   "cell_type": "code",
   "execution_count": null,
   "metadata": {},
   "outputs": [],
   "source": [
    "%%time\n",
    "test_metadata = sqldf(\"\"\"SELECT A.*,B.count_flux_err AS A1_count_flux_err,\n",
    "B.min_flux_err AS A1_min_flux_err,\n",
    "B.max_flux_err AS A1_max_flux_err,\n",
    "B.std_flux_err AS A1_std_flux_err,\n",
    "B.sum_flux_err AS A1_sum_flux_err,\n",
    "B.mean_flux_err AS A1_mean_flux_err,\n",
    "B.median_flux_err AS A1_median_flux_err,\n",
    "B.count_flux AS A1_count_flux,\n",
    "B.min_flux AS A1_min_flux,\n",
    "B.max_flux AS A1_max_flux,\n",
    "B.std_flux AS A1_std_flux,\n",
    "B.sum_flux AS A1_sum_flux,\n",
    "B.mean_flux AS A1_mean_flux,\n",
    "B.median_flux AS A1_median_flux,\n",
    "B.count_detected AS A1_count_detected,\n",
    "B.std_detected AS A1_std_detected,\n",
    "B.sum_detected AS A1_sum_detected,\n",
    "B.mean_detected AS A1_mean_detected,\n",
    "B.median_detected AS A1_median_detected FROM test_metadata A LEFT JOIN test_temp1 B ON A.object_id = B.object_id\"\"\")"
   ]
  },
  {
   "cell_type": "code",
   "execution_count": null,
   "metadata": {},
   "outputs": [],
   "source": [
    "del train_temp1,test_temp1\n",
    "gc.collect()"
   ]
  },
  {
   "cell_type": "code",
   "execution_count": null,
   "metadata": {},
   "outputs": [],
   "source": [
    "train_metadata = reduce_mem_usage(train_metadata)\n",
    "test_metadata = reduce_mem_usage(test_metadata)"
   ]
  },
  {
   "cell_type": "code",
   "execution_count": null,
   "metadata": {},
   "outputs": [],
   "source": [
    "import sys\n",
    "def sizeof_fmt(num, suffix='B'):\n",
    "    ''' By Fred Cirera, after https://stackoverflow.com/a/1094933/1870254'''\n",
    "    for unit in ['','Ki','Mi','Gi','Ti','Pi','Ei','Zi']:\n",
    "        if abs(num) < 1024.0:\n",
    "            return \"%3.1f%s%s\" % (num, unit, suffix)\n",
    "        num /= 1024.0\n",
    "    return \"%.1f%s%s\" % (num, 'Yi', suffix)\n",
    "\n",
    "for name, size in sorted(((name, sys.getsizeof(value)) for name,value in locals().items()),\n",
    "                         key= lambda x: -x[1])[:10]:\n",
    "    print(\"{:>30}: {:>8}\".format(name,sizeof_fmt(size)))"
   ]
  },
  {
   "cell_type": "code",
   "execution_count": null,
   "metadata": {},
   "outputs": [],
   "source": [
    "%%time\n",
    "train_metadata.to_csv('train_metadata_NG_0_1.csv',index=False)\n",
    "test_metadata.to_csv('test_metadata_NG_0_1.csv',index=False)"
   ]
  },
  {
   "cell_type": "code",
   "execution_count": null,
   "metadata": {},
   "outputs": [],
   "source": [
    "gc.collect()"
   ]
  },
  {
   "cell_type": "markdown",
   "metadata": {},
   "source": [
    "# PASSBAND 2"
   ]
  },
  {
   "cell_type": "code",
   "execution_count": 11,
   "metadata": {},
   "outputs": [
    {
     "name": "stdout",
     "output_type": "stream",
     "text": [
      "CPU times: user 410 ms, sys: 8.04 ms, total: 418 ms\n",
      "Wall time: 417 ms\n"
     ]
    }
   ],
   "source": [
    "%%time\n",
    "train_metadata = sqldf(\"\"\"SELECT A.*,B.count_flux_err AS A2_count_flux_err,\n",
    "B.min_flux_err AS A2_min_flux_err,\n",
    "B.max_flux_err AS A2_max_flux_err,\n",
    "B.std_flux_err AS A2_std_flux_err,\n",
    "B.sum_flux_err AS A2_sum_flux_err,\n",
    "B.mean_flux_err AS A2_mean_flux_err,\n",
    "B.median_flux_err AS A2_median_flux_err,\n",
    "B.count_flux AS A2_count_flux,\n",
    "B.min_flux AS A2_min_flux,\n",
    "B.max_flux AS A2_max_flux,\n",
    "B.std_flux AS A2_std_flux,\n",
    "B.sum_flux AS A2_sum_flux,\n",
    "B.mean_flux AS A2_mean_flux,\n",
    "B.median_flux AS A2_median_flux,\n",
    "B.count_detected AS A2_count_detected,\n",
    "B.std_detected AS A2_std_detected,\n",
    "B.sum_detected AS A2_sum_detected,\n",
    "B.mean_detected AS A2_mean_detected,\n",
    "B.median_detected AS A2_median_detected FROM train_metadata A LEFT JOIN train_temp2 B ON A.object_id = B.object_id\"\"\")"
   ]
  },
  {
   "cell_type": "code",
   "execution_count": 12,
   "metadata": {},
   "outputs": [
    {
     "name": "stdout",
     "output_type": "stream",
     "text": [
      "CPU times: user 2min 28s, sys: 5.78 s, total: 2min 33s\n",
      "Wall time: 2min 33s\n"
     ]
    }
   ],
   "source": [
    "%%time\n",
    "test_metadata = sqldf(\"\"\"SELECT A.*,B.count_flux_err AS A2_count_flux_err,\n",
    "B.min_flux_err AS A2_min_flux_err,\n",
    "B.max_flux_err AS A2_max_flux_err,\n",
    "B.std_flux_err AS A2_std_flux_err,\n",
    "B.sum_flux_err AS A2_sum_flux_err,\n",
    "B.mean_flux_err AS A2_mean_flux_err,\n",
    "B.median_flux_err AS A2_median_flux_err,\n",
    "B.count_flux AS A2_count_flux,\n",
    "B.min_flux AS A2_min_flux,\n",
    "B.max_flux AS A2_max_flux,\n",
    "B.std_flux AS A2_std_flux,\n",
    "B.sum_flux AS A2_sum_flux,\n",
    "B.mean_flux AS A2_mean_flux,\n",
    "B.median_flux AS A2_median_flux,\n",
    "B.count_detected AS A2_count_detected,\n",
    "B.std_detected AS A2_std_detected,\n",
    "B.sum_detected AS A2_sum_detected,\n",
    "B.mean_detected AS A2_mean_detected,\n",
    "B.median_detected AS A2_median_detected FROM test_metadata A LEFT JOIN test_temp2 B ON A.object_id = B.object_id\"\"\")"
   ]
  },
  {
   "cell_type": "code",
   "execution_count": 13,
   "metadata": {},
   "outputs": [
    {
     "data": {
      "text/plain": [
       "462"
      ]
     },
     "execution_count": 13,
     "metadata": {},
     "output_type": "execute_result"
    }
   ],
   "source": [
    "del train_temp2,test_temp2\n",
    "gc.collect()"
   ]
  },
  {
   "cell_type": "markdown",
   "metadata": {},
   "source": [
    "# PASSBAND 3"
   ]
  },
  {
   "cell_type": "code",
   "execution_count": 14,
   "metadata": {},
   "outputs": [
    {
     "name": "stdout",
     "output_type": "stream",
     "text": [
      "CPU times: user 477 ms, sys: 4.1 ms, total: 481 ms\n",
      "Wall time: 480 ms\n"
     ]
    }
   ],
   "source": [
    "%%time\n",
    "train_metadata = sqldf(\"\"\"SELECT A.*,B.count_flux_err AS A3_count_flux_err,\n",
    "B.min_flux_err AS A3_min_flux_err,\n",
    "B.max_flux_err AS A3_max_flux_err,\n",
    "B.std_flux_err AS A3_std_flux_err,\n",
    "B.sum_flux_err AS A3_sum_flux_err,\n",
    "B.mean_flux_err AS A3_mean_flux_err,\n",
    "B.median_flux_err AS A3_median_flux_err,\n",
    "B.count_flux AS A3_count_flux,\n",
    "B.min_flux AS A3_min_flux,\n",
    "B.max_flux AS A3_max_flux,\n",
    "B.std_flux AS A3_std_flux,\n",
    "B.sum_flux AS A3_sum_flux,\n",
    "B.mean_flux AS A3_mean_flux,\n",
    "B.median_flux AS A3_median_flux,\n",
    "B.count_detected AS A3_count_detected,\n",
    "B.std_detected AS A3_std_detected,\n",
    "B.sum_detected AS A3_sum_detected,\n",
    "B.mean_detected AS A3_mean_detected,\n",
    "B.median_detected AS A3_median_detected FROM train_metadata A LEFT JOIN train_temp3 B ON A.object_id = B.object_id\"\"\")"
   ]
  },
  {
   "cell_type": "code",
   "execution_count": 15,
   "metadata": {},
   "outputs": [
    {
     "name": "stdout",
     "output_type": "stream",
     "text": [
      "CPU times: user 3min 31s, sys: 6.49 s, total: 3min 37s\n",
      "Wall time: 3min 37s\n"
     ]
    }
   ],
   "source": [
    "%%time\n",
    "test_metadata = sqldf(\"\"\"SELECT A.*,B.count_flux_err AS A3_count_flux_err,\n",
    "B.min_flux_err AS A3_min_flux_err,\n",
    "B.max_flux_err AS A3_max_flux_err,\n",
    "B.std_flux_err AS A3_std_flux_err,\n",
    "B.sum_flux_err AS A3_sum_flux_err,\n",
    "B.mean_flux_err AS A3_mean_flux_err,\n",
    "B.median_flux_err AS A3_median_flux_err,\n",
    "B.count_flux AS A3_count_flux,\n",
    "B.min_flux AS A3_min_flux,\n",
    "B.max_flux AS A3_max_flux,\n",
    "B.std_flux AS A3_std_flux,\n",
    "B.sum_flux AS A3_sum_flux,\n",
    "B.mean_flux AS A3_mean_flux,\n",
    "B.median_flux AS A3_median_flux,\n",
    "B.count_detected AS A3_count_detected,\n",
    "B.std_detected AS A3_std_detected,\n",
    "B.sum_detected AS A3_sum_detected,\n",
    "B.mean_detected AS A3_mean_detected,\n",
    "B.median_detected AS A3_median_detected FROM test_metadata A LEFT JOIN test_temp3 B ON A.object_id = B.object_id\"\"\")"
   ]
  },
  {
   "cell_type": "code",
   "execution_count": 16,
   "metadata": {},
   "outputs": [
    {
     "data": {
      "text/plain": [
       "538"
      ]
     },
     "execution_count": 16,
     "metadata": {},
     "output_type": "execute_result"
    }
   ],
   "source": [
    "del train_temp3,test_temp3\n",
    "gc.collect()"
   ]
  },
  {
   "cell_type": "code",
   "execution_count": null,
   "metadata": {},
   "outputs": [],
   "source": [
    "%%time\n",
    "train_metadata.to_csv('train_metadata_2_3.csv',index=False)\n",
    "test_metadata.to_csv('test_metadata_2_3.csv',index=False)"
   ]
  },
  {
   "cell_type": "markdown",
   "metadata": {},
   "source": [
    "# PASSBAND 4"
   ]
  },
  {
   "cell_type": "code",
   "execution_count": 11,
   "metadata": {},
   "outputs": [
    {
     "name": "stdout",
     "output_type": "stream",
     "text": [
      "CPU times: user 396 ms, sys: 33.5 ms, total: 430 ms\n",
      "Wall time: 434 ms\n"
     ]
    }
   ],
   "source": [
    "%%time\n",
    "train_metadata = sqldf(\"\"\"SELECT A.*,B.count_flux_err AS A4_count_flux_err,\n",
    "B.min_flux_err AS A4_min_flux_err,\n",
    "B.max_flux_err AS A4_max_flux_err,\n",
    "B.std_flux_err AS A4_std_flux_err,\n",
    "B.sum_flux_err AS A4_sum_flux_err,\n",
    "B.mean_flux_err AS A4_mean_flux_err,\n",
    "B.median_flux_err AS A4_median_flux_err,\n",
    "B.count_flux AS A4_count_flux,\n",
    "B.min_flux AS A4_min_flux,\n",
    "B.max_flux AS A4_max_flux,\n",
    "B.std_flux AS A4_std_flux,\n",
    "B.sum_flux AS A4_sum_flux,\n",
    "B.mean_flux AS A4_mean_flux,\n",
    "B.median_flux AS A4_median_flux,\n",
    "B.count_detected AS A4_count_detected,\n",
    "B.std_detected AS A4_std_detected,\n",
    "B.sum_detected AS A4_sum_detected,\n",
    "B.mean_detected AS A4_mean_detected,\n",
    "B.median_detected AS A4_median_detected FROM train_metadata A LEFT JOIN train_temp4 B ON A.object_id = B.object_id\"\"\")"
   ]
  },
  {
   "cell_type": "code",
   "execution_count": 12,
   "metadata": {},
   "outputs": [
    {
     "name": "stdout",
     "output_type": "stream",
     "text": [
      "CPU times: user 2min 19s, sys: 5.37 s, total: 2min 24s\n",
      "Wall time: 2min 24s\n"
     ]
    }
   ],
   "source": [
    "%%time\n",
    "test_metadata = sqldf(\"\"\"SELECT A.*,B.count_flux_err AS A4_count_flux_err,\n",
    "B.min_flux_err AS A4_min_flux_err,\n",
    "B.max_flux_err AS A4_max_flux_err,\n",
    "B.std_flux_err AS A4_std_flux_err,\n",
    "B.sum_flux_err AS A4_sum_flux_err,\n",
    "B.mean_flux_err AS A4_mean_flux_err,\n",
    "B.median_flux_err AS A4_median_flux_err,\n",
    "B.count_flux AS A4_count_flux,\n",
    "B.min_flux AS A4_min_flux,\n",
    "B.max_flux AS A4_max_flux,\n",
    "B.std_flux AS A4_std_flux,\n",
    "B.sum_flux AS A4_sum_flux,\n",
    "B.mean_flux AS A4_mean_flux,\n",
    "B.median_flux AS A4_median_flux,\n",
    "B.count_detected AS A4_count_detected,\n",
    "B.std_detected AS A4_std_detected,\n",
    "B.sum_detected AS A4_sum_detected,\n",
    "B.mean_detected AS A4_mean_detected,\n",
    "B.median_detected AS A4_median_detected FROM test_metadata A LEFT JOIN test_temp4 B ON A.object_id = B.object_id\"\"\")"
   ]
  },
  {
   "cell_type": "code",
   "execution_count": 13,
   "metadata": {},
   "outputs": [
    {
     "data": {
      "text/plain": [
       "352"
      ]
     },
     "execution_count": 13,
     "metadata": {},
     "output_type": "execute_result"
    }
   ],
   "source": [
    "del train_temp4,test_temp4\n",
    "gc.collect()"
   ]
  },
  {
   "cell_type": "markdown",
   "metadata": {},
   "source": [
    "# PASSBAND 5"
   ]
  },
  {
   "cell_type": "code",
   "execution_count": 14,
   "metadata": {},
   "outputs": [
    {
     "name": "stdout",
     "output_type": "stream",
     "text": [
      "CPU times: user 460 ms, sys: 3.91 ms, total: 464 ms\n",
      "Wall time: 463 ms\n"
     ]
    }
   ],
   "source": [
    "%%time\n",
    "train_metadata = sqldf(\"\"\"SELECT A.*,B.count_flux_err AS A5_count_flux_err,\n",
    "B.min_flux_err AS A5_min_flux_err,\n",
    "B.max_flux_err AS A5_max_flux_err,\n",
    "B.std_flux_err AS A5_std_flux_err,\n",
    "B.sum_flux_err AS A5_sum_flux_err,\n",
    "B.mean_flux_err AS A5_mean_flux_err,\n",
    "B.median_flux_err AS A5_median_flux_err,\n",
    "B.count_flux AS A5_count_flux,\n",
    "B.min_flux AS A5_min_flux,\n",
    "B.max_flux AS A5_max_flux,\n",
    "B.std_flux AS A5_std_flux,\n",
    "B.sum_flux AS A5_sum_flux,\n",
    "B.mean_flux AS A5_mean_flux,\n",
    "B.median_flux AS A5_median_flux,\n",
    "B.count_detected AS A5_count_detected,\n",
    "B.std_detected AS A5_std_detected,\n",
    "B.sum_detected AS A5_sum_detected,\n",
    "B.mean_detected AS A5_mean_detected,\n",
    "B.median_detected AS A5_median_detected FROM train_metadata A LEFT JOIN train_temp5 B ON A.object_id = B.object_id\"\"\")"
   ]
  },
  {
   "cell_type": "code",
   "execution_count": 15,
   "metadata": {},
   "outputs": [
    {
     "name": "stdout",
     "output_type": "stream",
     "text": [
      "CPU times: user 3min 38s, sys: 6.55 s, total: 3min 45s\n",
      "Wall time: 3min 45s\n"
     ]
    }
   ],
   "source": [
    "%%time\n",
    "test_metadata = sqldf(\"\"\"SELECT A.*,B.count_flux_err AS A5_count_flux_err,\n",
    "B.min_flux_err AS A5_min_flux_err,\n",
    "B.max_flux_err AS A5_max_flux_err,\n",
    "B.std_flux_err AS A5_std_flux_err,\n",
    "B.sum_flux_err AS A5_sum_flux_err,\n",
    "B.mean_flux_err AS A5_mean_flux_err,\n",
    "B.median_flux_err AS A5_median_flux_err,\n",
    "B.count_flux AS A5_count_flux,\n",
    "B.min_flux AS A5_min_flux,\n",
    "B.max_flux AS A5_max_flux,\n",
    "B.std_flux AS A5_std_flux,\n",
    "B.sum_flux AS A5_sum_flux,\n",
    "B.mean_flux AS A5_mean_flux,\n",
    "B.median_flux AS A5_median_flux,\n",
    "B.count_detected AS A5_count_detected,\n",
    "B.std_detected AS A5_std_detected,\n",
    "B.sum_detected AS A5_sum_detected,\n",
    "B.mean_detected AS A5_mean_detected,\n",
    "B.median_detected AS A5_median_detected FROM test_metadata A LEFT JOIN test_temp5 B ON A.object_id = B.object_id\"\"\")"
   ]
  },
  {
   "cell_type": "code",
   "execution_count": 16,
   "metadata": {},
   "outputs": [
    {
     "data": {
      "text/plain": [
       "637"
      ]
     },
     "execution_count": 16,
     "metadata": {},
     "output_type": "execute_result"
    }
   ],
   "source": [
    "del train_temp5,test_temp5\n",
    "gc.collect()"
   ]
  },
  {
   "cell_type": "code",
   "execution_count": 17,
   "metadata": {},
   "outputs": [
    {
     "name": "stdout",
     "output_type": "stream",
     "text": [
      "CPU times: user 3min 7s, sys: 1.71 s, total: 3min 8s\n",
      "Wall time: 3min 9s\n"
     ]
    }
   ],
   "source": [
    "%%time\n",
    "train_metadata.to_csv('train_metadata_4_5.csv',index=False)\n",
    "test_metadata.to_csv('test_metadata_4_5.csv',index=False)"
   ]
  }
 ],
 "metadata": {
  "kernelspec": {
   "display_name": "Python 3",
   "language": "python",
   "name": "python3"
  },
  "language_info": {
   "codemirror_mode": {
    "name": "ipython",
    "version": 3
   },
   "file_extension": ".py",
   "mimetype": "text/x-python",
   "name": "python",
   "nbconvert_exporter": "python",
   "pygments_lexer": "ipython3",
   "version": "3.6.6"
  }
 },
 "nbformat": 4,
 "nbformat_minor": 2
}
