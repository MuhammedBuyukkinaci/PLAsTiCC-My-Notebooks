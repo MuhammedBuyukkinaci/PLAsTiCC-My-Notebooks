{
 "cells": [
  {
   "cell_type": "code",
   "execution_count": 1,
   "metadata": {},
   "outputs": [],
   "source": [
    "import pandas as pd\n",
    "import numpy as np\n",
    "import seaborn as sns\n",
    "import matplotlib.pyplot as plt\n",
    "import pandasql\n",
    "import gc"
   ]
  },
  {
   "cell_type": "code",
   "execution_count": 2,
   "metadata": {},
   "outputs": [],
   "source": [
    "import missingno as msno"
   ]
  },
  {
   "cell_type": "code",
   "execution_count": 3,
   "metadata": {},
   "outputs": [],
   "source": [
    "from pandasql import sqldf"
   ]
  },
  {
   "cell_type": "code",
   "execution_count": 4,
   "metadata": {},
   "outputs": [],
   "source": [
    "from tqdm import tqdm"
   ]
  },
  {
   "cell_type": "code",
   "execution_count": 5,
   "metadata": {},
   "outputs": [],
   "source": [
    "import sys"
   ]
  },
  {
   "cell_type": "code",
   "execution_count": 6,
   "metadata": {},
   "outputs": [],
   "source": [
    "pd.set_option('display.max_columns', None)\n",
    "pd.set_option('display.max_rows', None)"
   ]
  },
  {
   "cell_type": "markdown",
   "metadata": {},
   "source": [
    "# METADATA"
   ]
  },
  {
   "cell_type": "code",
   "execution_count": 7,
   "metadata": {},
   "outputs": [],
   "source": [
    "def reduce_mem_usage(df):\n",
    "\n",
    "    start_mem = df.memory_usage().sum() / 1024**2\n",
    "    print('Memory usage of dataframe is {:.2f} MB'.format(start_mem))\n",
    "    \n",
    "    for col in df.columns:\n",
    "        col_type = df[col].dtype\n",
    "        \n",
    "        if col_type != object:\n",
    "            c_min = df[col].min()\n",
    "            c_max = df[col].max()\n",
    "            if str(col_type)[:3] == 'int':\n",
    "                if c_min > np.iinfo(np.int8).min and c_max < np.iinfo(np.int8).max:\n",
    "                    df[col] = df[col].astype(np.int8)\n",
    "                elif c_min > np.iinfo(np.int16).min and c_max < np.iinfo(np.int16).max:\n",
    "                    df[col] = df[col].astype(np.int16)\n",
    "                elif c_min > np.iinfo(np.int32).min and c_max < np.iinfo(np.int32).max:\n",
    "                    df[col] = df[col].astype(np.int32)\n",
    "                elif c_min > np.iinfo(np.int64).min and c_max < np.iinfo(np.int64).max:\n",
    "                    df[col] = df[col].astype(np.int64)  \n",
    "            else:\n",
    "                if c_min > np.finfo(np.float16).min and c_max < np.finfo(np.float16).max:\n",
    "                    df[col] = df[col].astype(np.float16)\n",
    "                elif c_min > np.finfo(np.float32).min and c_max < np.finfo(np.float32).max:\n",
    "                    df[col] = df[col].astype(np.float32)\n",
    "                else:\n",
    "                    df[col] = df[col].astype(np.float64)\n",
    "        else:\n",
    "            df[col] = df[col].astype('category')\n",
    "\n",
    "    end_mem = df.memory_usage().sum() / 1024**2\n",
    "    print('Memory usage after optimization is: {:.2f} MB'.format(end_mem))\n",
    "    print('Decreased by {:.1f}%'.format(100 * (start_mem - end_mem) / start_mem))\n",
    "    \n",
    "    return df\n",
    "\n",
    "\n",
    "def import_data(file):\n",
    "    #create a dataframe and optimize its memory usage\n",
    "    df = pd.read_csv(file, parse_dates=True, keep_date_col=True)\n",
    "    df = reduce_mem_usage(df)\n",
    "    return df"
   ]
  },
  {
   "cell_type": "markdown",
   "metadata": {},
   "source": [
    "# TRAIN AND TEST"
   ]
  },
  {
   "cell_type": "code",
   "execution_count": 8,
   "metadata": {},
   "outputs": [],
   "source": [
    "train = pd.read_csv('training_set.csv',dtype={'object_id':np.int32,'mjd':np.float16,\\\n",
    "                                                   'passband':np.int8,'flux':np.float32,'flux_err':np.float32,'detected':np.int8})"
   ]
  },
  {
   "cell_type": "code",
   "execution_count": null,
   "metadata": {},
   "outputs": [],
   "source": [
    "\"\"\"test = pd.read_csv('test_set.csv',dtype={'object_id':np.int32,'mjd':np.float16,\\\n",
    "                                                   'passband':np.int8,'flux':np.float32,'flux_err':np.float32,'detected':np.int8})\"\"\""
   ]
  },
  {
   "cell_type": "code",
   "execution_count": null,
   "metadata": {},
   "outputs": [],
   "source": [
    "\"\"\"number_chunk = 50000000\n",
    "test[number_chunk*0:number_chunk*1].to_csv('test1.csv',index=False)\n",
    "test[number_chunk*1:number_chunk*2].to_csv('test2.csv',index=False)\n",
    "test[number_chunk*2:number_chunk*3].to_csv('test3.csv',index=False)\n",
    "test[number_chunk*3:number_chunk*4].to_csv('test4.csv',index=False)\n",
    "test[number_chunk*4:number_chunk*5].to_csv('test5.csv',index=False)\n",
    "test[number_chunk*5:number_chunk*6].to_csv('test6.csv',index=False)\n",
    "test[number_chunk*6:number_chunk*7].to_csv('test7.csv',index=False)\n",
    "test[number_chunk*7:number_chunk*8].to_csv('test8.csv',index=False)\n",
    "test[number_chunk*8:].to_csv('test9.csv',index=False)\"\"\""
   ]
  },
  {
   "cell_type": "markdown",
   "metadata": {},
   "source": [
    "# train"
   ]
  },
  {
   "cell_type": "code",
   "execution_count": null,
   "metadata": {},
   "outputs": [],
   "source": [
    "gc.collect()"
   ]
  },
  {
   "cell_type": "code",
   "execution_count": null,
   "metadata": {},
   "outputs": [],
   "source": [
    "train.head(5)"
   ]
  },
  {
   "cell_type": "code",
   "execution_count": null,
   "metadata": {},
   "outputs": [],
   "source": [
    "agg_train = train.groupby(['object_id','passband'])[['flux_err','flux','detected']].agg(['count','min','max','std','sum','mean','median'])"
   ]
  },
  {
   "cell_type": "code",
   "execution_count": null,
   "metadata": {},
   "outputs": [],
   "source": [
    "agg_train.head()"
   ]
  },
  {
   "cell_type": "code",
   "execution_count": null,
   "metadata": {},
   "outputs": [],
   "source": [
    "agg_train.columns = [y+'_'+ x for x in ['flux_err','flux','detected'] for y in ['count','min','max','std','sum','mean','median']]"
   ]
  },
  {
   "cell_type": "code",
   "execution_count": null,
   "metadata": {},
   "outputs": [],
   "source": [
    "agg_train = agg_train.reset_index(drop=False)"
   ]
  },
  {
   "cell_type": "code",
   "execution_count": null,
   "metadata": {},
   "outputs": [],
   "source": [
    "agg_train.shape"
   ]
  },
  {
   "cell_type": "markdown",
   "metadata": {},
   "source": [
    "# TRAIN"
   ]
  },
  {
   "cell_type": "code",
   "execution_count": null,
   "metadata": {},
   "outputs": [],
   "source": [
    "%%time\n",
    "train = sqldf(\"\"\"SELECT A.*, B.mean_flux,B.std_flux FROM train A \n",
    "LEFT JOIN agg_train B\n",
    "ON A.object_id = B.object_id AND A.passband = B.passband\"\"\")"
   ]
  },
  {
   "cell_type": "code",
   "execution_count": null,
   "metadata": {},
   "outputs": [],
   "source": [
    "print(train.shape,agg_train.shape)"
   ]
  },
  {
   "cell_type": "markdown",
   "metadata": {},
   "source": [
    "# region_minus_4"
   ]
  },
  {
   "cell_type": "code",
   "execution_count": null,
   "metadata": {},
   "outputs": [],
   "source": [
    "%%time\n",
    "# region_minus_4\n",
    "temp = sqldf(\"\"\"\n",
    "SELECT D.object_id,D.passband,COUNT(*) as region_minus_4\n",
    "FROM agg_train D \n",
    "LEFT JOIN (SELECT * FROM train B WHERE B.mean_flux - B.std_flux * 3 > B.flux) C\n",
    "ON C.object_id = D.object_id AND C.passband = D.passband\n",
    "GROUP BY C.object_id,C.passband\n",
    "\"\"\")"
   ]
  },
  {
   "cell_type": "code",
   "execution_count": null,
   "metadata": {},
   "outputs": [],
   "source": [
    "agg_train = sqldf(\"\"\"SELECT A.*,B.region_minus_4 FROM agg_train A\n",
    "LEFT JOIN temp B \n",
    "ON A.object_id = B.object_id AND A.passband = B.passband\n",
    "\"\"\")"
   ]
  },
  {
   "cell_type": "markdown",
   "metadata": {},
   "source": [
    "# region_minus_3"
   ]
  },
  {
   "cell_type": "code",
   "execution_count": null,
   "metadata": {},
   "outputs": [],
   "source": [
    "%%time\n",
    "#region_minus_3\n",
    "temp = sqldf(\"\"\"\n",
    "SELECT D.object_id,D.passband,COUNT(*) as region_minus_3\n",
    "FROM agg_train D \n",
    "LEFT JOIN (SELECT * FROM train B WHERE B.mean_flux - B.std_flux * 2 > B.flux AND B.mean_flux - B.std_flux * 3 < B.flux) C\n",
    "ON C.object_id = D.object_id AND C.passband = D.passband\n",
    "GROUP BY C.object_id,C.passband\n",
    "\"\"\")"
   ]
  },
  {
   "cell_type": "code",
   "execution_count": null,
   "metadata": {},
   "outputs": [],
   "source": [
    "agg_train = sqldf(\"\"\"SELECT A.*,B.region_minus_3 FROM agg_train A\n",
    "LEFT JOIN temp B \n",
    "ON A.object_id = B.object_id AND A.passband = B.passband\n",
    "\"\"\")"
   ]
  },
  {
   "cell_type": "markdown",
   "metadata": {},
   "source": [
    "# region_minus_2"
   ]
  },
  {
   "cell_type": "code",
   "execution_count": null,
   "metadata": {},
   "outputs": [],
   "source": [
    "%%time\n",
    "#region_minus_2\n",
    "temp = sqldf(\"\"\"\n",
    "SELECT D.object_id,D.passband,COUNT(*) as region_minus_2\n",
    "FROM agg_train D \n",
    "LEFT JOIN (SELECT * FROM train B WHERE B.mean_flux - B.std_flux * 1 > B.flux AND B.mean_flux - B.std_flux * 2 < B.flux) C\n",
    "ON C.object_id = D.object_id AND C.passband = D.passband\n",
    "GROUP BY C.object_id,C.passband\n",
    "\"\"\")"
   ]
  },
  {
   "cell_type": "code",
   "execution_count": null,
   "metadata": {},
   "outputs": [],
   "source": [
    "agg_train = sqldf(\"\"\"SELECT A.*,B.region_minus_2 FROM agg_train A\n",
    "LEFT JOIN temp B \n",
    "ON A.object_id = B.object_id AND A.passband = B.passband\n",
    "\"\"\")"
   ]
  },
  {
   "cell_type": "markdown",
   "metadata": {},
   "source": [
    "# region_minus_1"
   ]
  },
  {
   "cell_type": "code",
   "execution_count": null,
   "metadata": {},
   "outputs": [],
   "source": [
    "%%time\n",
    "#region_minus_1\n",
    "temp = sqldf(\"\"\"\n",
    "SELECT D.object_id,D.passband,COUNT(*) as region_minus_1\n",
    "FROM agg_train D \n",
    "LEFT JOIN (SELECT * FROM train B WHERE B.mean_flux - B.std_flux * 0 > B.flux AND B.mean_flux - B.std_flux * 1 < B.flux) C\n",
    "ON C.object_id = D.object_id AND C.passband = D.passband\n",
    "GROUP BY C.object_id,C.passband\n",
    "\"\"\")"
   ]
  },
  {
   "cell_type": "code",
   "execution_count": null,
   "metadata": {},
   "outputs": [],
   "source": [
    "agg_train = sqldf(\"\"\"SELECT A.*,B.region_minus_1 FROM agg_train A\n",
    "LEFT JOIN temp B \n",
    "ON A.object_id = B.object_id AND A.passband = B.passband\n",
    "\"\"\")"
   ]
  },
  {
   "cell_type": "markdown",
   "metadata": {},
   "source": [
    "# region_plus_1"
   ]
  },
  {
   "cell_type": "code",
   "execution_count": null,
   "metadata": {},
   "outputs": [],
   "source": [
    "%%time\n",
    "#region_plus_1\n",
    "temp = sqldf(\"\"\"\n",
    "SELECT D.object_id,D.passband,COUNT(*) as region_plus_1\n",
    "FROM agg_train D \n",
    "LEFT JOIN (SELECT * FROM train B WHERE B.mean_flux + B.std_flux * 0 < B.flux AND B.mean_flux + B.std_flux * 1 > B.flux) C\n",
    "ON C.object_id = D.object_id AND C.passband = D.passband\n",
    "GROUP BY C.object_id,C.passband\n",
    "\"\"\")"
   ]
  },
  {
   "cell_type": "code",
   "execution_count": null,
   "metadata": {},
   "outputs": [],
   "source": [
    "agg_train = sqldf(\"\"\"SELECT A.*,B.region_plus_1 FROM agg_train A\n",
    "LEFT JOIN temp B \n",
    "ON A.object_id = B.object_id AND A.passband = B.passband\n",
    "\"\"\")"
   ]
  },
  {
   "cell_type": "markdown",
   "metadata": {},
   "source": [
    "# region_plus_2"
   ]
  },
  {
   "cell_type": "code",
   "execution_count": null,
   "metadata": {},
   "outputs": [],
   "source": [
    "%%time\n",
    "#region_plus_2\n",
    "temp = sqldf(\"\"\"\n",
    "SELECT D.object_id,D.passband,COUNT(*) as region_plus_2\n",
    "FROM agg_train D \n",
    "LEFT JOIN (SELECT * FROM train B WHERE B.mean_flux + B.std_flux * 1 < B.flux AND B.mean_flux + B.std_flux * 2 > B.flux) C\n",
    "ON C.object_id = D.object_id AND C.passband = D.passband\n",
    "GROUP BY C.object_id,C.passband\n",
    "\"\"\")"
   ]
  },
  {
   "cell_type": "code",
   "execution_count": null,
   "metadata": {},
   "outputs": [],
   "source": [
    "agg_train = sqldf(\"\"\"SELECT A.*,B.region_plus_2 FROM agg_train A\n",
    "LEFT JOIN temp B \n",
    "ON A.object_id = B.object_id AND A.passband = B.passband\n",
    "\"\"\")"
   ]
  },
  {
   "cell_type": "markdown",
   "metadata": {},
   "source": [
    "# region_plus_3"
   ]
  },
  {
   "cell_type": "code",
   "execution_count": null,
   "metadata": {},
   "outputs": [],
   "source": [
    "%%time\n",
    "#region_plus_3\n",
    "temp = sqldf(\"\"\"\n",
    "SELECT D.object_id,D.passband,COUNT(*) as region_plus_3\n",
    "FROM agg_train D \n",
    "LEFT JOIN (SELECT * FROM train B WHERE B.mean_flux + B.std_flux * 2 < B.flux AND B.mean_flux + B.std_flux * 3 > B.flux) C\n",
    "ON C.object_id = D.object_id AND C.passband = D.passband\n",
    "GROUP BY C.object_id,C.passband\n",
    "\"\"\")"
   ]
  },
  {
   "cell_type": "code",
   "execution_count": null,
   "metadata": {},
   "outputs": [],
   "source": [
    "agg_train = sqldf(\"\"\"SELECT A.*,B.region_plus_3 FROM agg_train A\n",
    "LEFT JOIN temp B \n",
    "ON A.object_id = B.object_id AND A.passband = B.passband\n",
    "\"\"\")"
   ]
  },
  {
   "cell_type": "markdown",
   "metadata": {},
   "source": [
    "# region_plus_4"
   ]
  },
  {
   "cell_type": "code",
   "execution_count": null,
   "metadata": {},
   "outputs": [],
   "source": [
    "%%time\n",
    "#region_plus_4\n",
    "temp = sqldf(\"\"\"\n",
    "SELECT D.object_id,D.passband,COUNT(*) as region_plus_4\n",
    "FROM agg_train D \n",
    "LEFT JOIN (SELECT * FROM train B WHERE B.mean_flux + B.std_flux * 3 < B.flux ) C\n",
    "ON C.object_id = D.object_id AND C.passband = D.passband\n",
    "GROUP BY C.object_id,C.passband\n",
    "\"\"\")"
   ]
  },
  {
   "cell_type": "code",
   "execution_count": null,
   "metadata": {},
   "outputs": [],
   "source": [
    "agg_train = sqldf(\"\"\"SELECT A.*,B.region_plus_4 FROM agg_train A\n",
    "LEFT JOIN temp B \n",
    "ON A.object_id = B.object_id AND A.passband = B.passband\n",
    "\"\"\")"
   ]
  },
  {
   "cell_type": "code",
   "execution_count": null,
   "metadata": {},
   "outputs": [],
   "source": [
    "print(agg_train.shape,train.shape)"
   ]
  },
  {
   "cell_type": "code",
   "execution_count": null,
   "metadata": {},
   "outputs": [],
   "source": [
    "agg_train.head()"
   ]
  },
  {
   "cell_type": "code",
   "execution_count": null,
   "metadata": {},
   "outputs": [],
   "source": [
    "temp.shape"
   ]
  },
  {
   "cell_type": "code",
   "execution_count": null,
   "metadata": {},
   "outputs": [],
   "source": [
    "del temp\n",
    "gc.collect()"
   ]
  },
  {
   "cell_type": "code",
   "execution_count": null,
   "metadata": {},
   "outputs": [],
   "source": [
    "del agg_train['min_detected'], agg_train['max_detected']"
   ]
  }
 ],
 "metadata": {
  "kernelspec": {
   "display_name": "Python 3",
   "language": "python",
   "name": "python3"
  },
  "language_info": {
   "codemirror_mode": {
    "name": "ipython",
    "version": 3
   },
   "file_extension": ".py",
   "mimetype": "text/x-python",
   "name": "python",
   "nbconvert_exporter": "python",
   "pygments_lexer": "ipython3",
   "version": "3.6.6"
  }
 },
 "nbformat": 4,
 "nbformat_minor": 2
}
