{
 "cells": [
  {
   "cell_type": "code",
   "execution_count": 1,
   "metadata": {},
   "outputs": [],
   "source": [
    "import sys, os\n",
    "import argparse\n",
    "import time\n",
    "from datetime import datetime as dt\n",
    "import gc; gc.enable()\n",
    "from functools import partial, wraps\n",
    "\n",
    "import pandas as pd # data processing, CSV file I/O (e.g. pd.read_csv)\n",
    "import numpy as np # linear algebra\n",
    "np.warnings.filterwarnings('ignore')\n",
    "\n",
    "from sklearn.model_selection import StratifiedKFold\n",
    "from tsfresh.feature_extraction import extract_features\n",
    "from xgboost import XGBClassifier\n",
    "from lightgbm import LGBMClassifier\n",
    "\n",
    "from numba import jit\n",
    "\n",
    "np.random.seed(51)"
   ]
  },
  {
   "cell_type": "code",
   "execution_count": 2,
   "metadata": {},
   "outputs": [],
   "source": [
    "@jit\n",
    "def haversine_plus(lon1, lat1, lon2, lat2):\n",
    "    \"\"\"\n",
    "    Calculate the great circle distance between two points\n",
    "    on the earth (specified in decimal degrees) from\n",
    "    #https://stackoverflow.com/questions/4913349/haversine-formula-in-python-bearing-and-distance-between-two-gps-points\n",
    "    \"\"\"\n",
    "    #Convert decimal degrees to Radians:\n",
    "    lon1 = np.radians(lon1)\n",
    "    lat1 = np.radians(lat1)\n",
    "    lon2 = np.radians(lon2)\n",
    "    lat2 = np.radians(lat2)\n",
    "\n",
    "    #Implementing Haversine Formula:\n",
    "    dlon = np.subtract(lon2, lon1)\n",
    "    dlat = np.subtract(lat2, lat1)\n",
    "\n",
    "    a = np.add(np.power(np.sin(np.divide(dlat, 2)), 2),\n",
    "                          np.multiply(np.cos(lat1),\n",
    "                                      np.multiply(np.cos(lat2),\n",
    "                                                  np.power(np.sin(np.divide(dlon, 2)), 2))))\n",
    "\n",
    "    haversine = np.multiply(2, np.arcsin(np.sqrt(a)))\n",
    "    return {\n",
    "        'haversine': haversine,\n",
    "        'latlon1': np.subtract(np.multiply(lon1, lat1), np.multiply(lon2, lat2)),\n",
    "   }\n"
   ]
  },
  {
   "cell_type": "code",
   "execution_count": 3,
   "metadata": {},
   "outputs": [],
   "source": [
    "@jit\n",
    "def process_flux(df):\n",
    "    flux_ratio_sq = np.power(df['flux'].values / df['flux_err'].values, 2.0)\n",
    "\n",
    "    df_flux = pd.DataFrame({\n",
    "        'flux_ratio_sq': flux_ratio_sq,\n",
    "        'flux_by_flux_ratio_sq': df['flux'].values * flux_ratio_sq,},\n",
    "        index=df.index)\n",
    "\n",
    "    return pd.concat([df, df_flux], axis=1)"
   ]
  },
  {
   "cell_type": "code",
   "execution_count": 4,
   "metadata": {},
   "outputs": [],
   "source": [
    "@jit\n",
    "def process_flux_agg(df):\n",
    "    flux_w_mean = df['flux_by_flux_ratio_sq_sum'].values / df['flux_ratio_sq_sum'].values\n",
    "    flux_diff = df['flux_max'].values - df['flux_min'].values\n",
    "\n",
    "    df_flux_agg = pd.DataFrame({\n",
    "        'flux_w_mean': flux_w_mean,\n",
    "        'flux_diff1': flux_diff,\n",
    "        'flux_diff2': flux_diff / df['flux_mean'].values,\n",
    "        'flux_diff3': flux_diff /flux_w_mean,\n",
    "        }, index=df.index)\n",
    "\n",
    "    return pd.concat([df, df_flux_agg], axis=1)"
   ]
  },
  {
   "cell_type": "code",
   "execution_count": 5,
   "metadata": {},
   "outputs": [],
   "source": [
    "def featurize(df, df_meta, aggs, fcp, n_jobs=4):\n",
    "    \"\"\"\n",
    "    Extracting Features from train set\n",
    "    Features from olivier's kernel\n",
    "    very smart and powerful feature that is generously given here https://www.kaggle.com/c/PLAsTiCC-2018/discussion/69696#410538\n",
    "    per passband features with tsfresh library. fft features added to capture periodicity https://www.kaggle.com/c/PLAsTiCC-2018/discussion/70346#415506\n",
    "    \"\"\"\n",
    "\n",
    "    df = process_flux(df)\n",
    "\n",
    "    agg_df = df.groupby('object_id').agg(aggs)\n",
    "    agg_df.columns = [ '{}_{}'.format(k, agg) for k in aggs.keys() for agg in aggs[k]]\n",
    "    agg_df = process_flux_agg(agg_df) # new feature to play with tsfresh\n",
    "\n",
    "    # Add more features with\n",
    "    agg_df_ts_flux_passband = extract_features(df,\n",
    "                                               column_id='object_id',\n",
    "                                               column_sort='mjd',\n",
    "                                               column_kind='passband',\n",
    "                                               column_value='flux',\n",
    "                                               default_fc_parameters=fcp['flux_passband'], n_jobs=n_jobs)\n",
    "\n",
    "    agg_df_ts_flux = extract_features(df,\n",
    "                                      column_id='object_id',\n",
    "                                      column_value='flux',\n",
    "                                      default_fc_parameters=fcp['flux'], n_jobs=n_jobs)\n",
    "\n",
    "    agg_df_ts_flux_by_flux_ratio_sq = extract_features(df,\n",
    "                                      column_id='object_id',\n",
    "                                      column_value='flux_by_flux_ratio_sq',\n",
    "                                      default_fc_parameters=fcp['flux_by_flux_ratio_sq'], n_jobs=n_jobs)\n",
    "\n",
    "    # Add smart feature that is suggested here https://www.kaggle.com/c/PLAsTiCC-2018/discussion/69696#410538\n",
    "    # dt[detected==1, mjd_diff:=max(mjd)-min(mjd), by=object_id]\n",
    "    df_det = df[df['detected']==1].copy()\n",
    "    agg_df_mjd = extract_features(df_det,\n",
    "                                  column_id='object_id',\n",
    "                                  column_value='mjd',\n",
    "                                  default_fc_parameters=fcp['mjd'], n_jobs=n_jobs)\n",
    "    agg_df_mjd['mjd_diff_det'] = agg_df_mjd['mjd__maximum'].values - agg_df_mjd['mjd__minimum'].values\n",
    "    del agg_df_mjd['mjd__maximum'], agg_df_mjd['mjd__minimum']\n",
    "\n",
    "    agg_df_ts_flux_passband.index.rename('object_id', inplace=True)\n",
    "    agg_df_ts_flux.index.rename('object_id', inplace=True)\n",
    "    agg_df_ts_flux_by_flux_ratio_sq.index.rename('object_id', inplace=True)\n",
    "    agg_df_mjd.index.rename('object_id', inplace=True)\n",
    "    agg_df_ts = pd.concat([agg_df,\n",
    "                           agg_df_ts_flux_passband,\n",
    "                           agg_df_ts_flux,\n",
    "                           agg_df_ts_flux_by_flux_ratio_sq,\n",
    "                           agg_df_mjd], axis=1).reset_index()\n",
    "\n",
    "    result = agg_df_ts.merge(right=df_meta, how='left', on='object_id')\n",
    "    return result"
   ]
  },
  {
   "cell_type": "code",
   "execution_count": 6,
   "metadata": {},
   "outputs": [],
   "source": [
    "def process_meta(filename):\n",
    "    meta_df = pd.read_csv(filename)\n",
    "\n",
    "    meta_dict = dict()\n",
    "    # distance\n",
    "    meta_dict.update(haversine_plus(meta_df['ra'].values, meta_df['decl'].values,\n",
    "                   meta_df['gal_l'].values, meta_df['gal_b'].values))\n",
    "    #\n",
    "    meta_dict['hostgal_photoz_certain'] = np.multiply(\n",
    "            meta_df['hostgal_photoz'].values,\n",
    "             np.exp(meta_df['hostgal_photoz_err'].values))\n",
    "\n",
    "    meta_df = pd.concat([meta_df, pd.DataFrame(meta_dict, index=meta_df.index)], axis=1)\n",
    "    return meta_df"
   ]
  },
  {
   "cell_type": "code",
   "execution_count": 7,
   "metadata": {},
   "outputs": [],
   "source": [
    "def multi_weighted_logloss(y_true, y_preds, classes, class_weights):\n",
    "    \"\"\"\n",
    "    refactor from\n",
    "    @author olivier https://www.kaggle.com/ogrellier\n",
    "    multi logloss for PLAsTiCC challenge\n",
    "    \"\"\"\n",
    "    y_p = y_preds.reshape(y_true.shape[0], len(classes), order='F')\n",
    "    # Trasform y_true in dummies\n",
    "    y_ohe = pd.get_dummies(y_true)\n",
    "    # Normalize rows and limit y_preds to 1e-15, 1-1e-15\n",
    "    y_p = np.clip(a=y_p, a_min=1e-15, a_max=1 - 1e-15)\n",
    "    # Transform to log\n",
    "    y_p_log = np.log(y_p)\n",
    "    # Get the log for ones, .values is used to drop the index of DataFrames\n",
    "    # Exclude class 99 for now, since there is no class99 in the training set\n",
    "    # we gave a special process for that class\n",
    "    y_log_ones = np.sum(y_ohe.values * y_p_log, axis=0)\n",
    "    # Get the number of positives for each class\n",
    "    nb_pos = y_ohe.sum(axis=0).values.astype(float)\n",
    "    # Weight average and divide by the number of positives\n",
    "    class_arr = np.array([class_weights[k] for k in sorted(class_weights.keys())])\n",
    "    y_w = y_log_ones * class_arr / nb_pos\n",
    "\n",
    "    loss = - np.sum(y_w) / np.sum(class_arr)\n",
    "    return loss\n"
   ]
  },
  {
   "cell_type": "code",
   "execution_count": 8,
   "metadata": {},
   "outputs": [],
   "source": [
    "def lgbm_multi_weighted_logloss(y_true, y_preds):\n",
    "    \"\"\"\n",
    "    refactor from\n",
    "    @author olivier https://www.kaggle.com/ogrellier\n",
    "    multi logloss for PLAsTiCC challenge\n",
    "    \"\"\"\n",
    "    # Taken from Giba's topic : https://www.kaggle.com/titericz\n",
    "    # https://www.kaggle.com/c/PLAsTiCC-2018/discussion/67194\n",
    "    # with Kyle Boone's post https://www.kaggle.com/kyleboone\n",
    "    classes = [6, 15, 16, 42, 52, 53, 62, 64, 65, 67, 88, 90, 92, 95]\n",
    "    class_weights = {6: 1, 15: 2, 16: 1, 42: 1, 52: 1, 53: 1, 62: 1, 64: 2, 65: 1, 67: 1, 88: 1, 90: 1, 92: 1, 95: 1}\n",
    "\n",
    "    loss = multi_weighted_logloss(y_true, y_preds, classes, class_weights)\n",
    "    return 'wloss', loss, False"
   ]
  },
  {
   "cell_type": "code",
   "execution_count": 9,
   "metadata": {},
   "outputs": [],
   "source": [
    "def xgb_multi_weighted_logloss(y_predicted, y_true, classes, class_weights):\n",
    "    loss = multi_weighted_logloss(y_true.get_label(), y_predicted,\n",
    "                                  classes, class_weights)\n",
    "    return 'wloss', loss"
   ]
  },
  {
   "cell_type": "code",
   "execution_count": 10,
   "metadata": {},
   "outputs": [],
   "source": [
    "def save_importances(importances_):\n",
    "    mean_gain = importances_[['gain', 'feature']].groupby('feature').mean()\n",
    "    importances_['mean_gain'] = importances_['feature'].map(mean_gain['gain'])\n",
    "    return importances_"
   ]
  },
  {
   "cell_type": "code",
   "execution_count": 11,
   "metadata": {},
   "outputs": [],
   "source": [
    "def xgb_modeling_cross_validation(params,\n",
    "                                  full_train,\n",
    "                                  y,\n",
    "                                  classes,\n",
    "                                  class_weights,\n",
    "                                  nr_fold=5,\n",
    "                                  random_state=51):\n",
    "    # Compute weights\n",
    "    w = y.value_counts()\n",
    "    weights = {i : np.sum(w) / w[i] for i in w.index}\n",
    "\n",
    "    # loss function\n",
    "    func_loss = partial(xgb_multi_weighted_logloss,\n",
    "                        classes=classes,\n",
    "                        class_weights=class_weights)\n",
    "\n",
    "    clfs = []\n",
    "    importances = pd.DataFrame()\n",
    "    folds = StratifiedKFold(n_splits=nr_fold,\n",
    "                            shuffle=True,\n",
    "                            random_state=random_state)\n",
    "\n",
    "    oof_preds = np.zeros((len(full_train), np.unique(y).shape[0]))\n",
    "    for fold_, (trn_, val_) in enumerate(folds.split(y, y)):\n",
    "        trn_x, trn_y = full_train.iloc[trn_], y.iloc[trn_]\n",
    "        val_x, val_y = full_train.iloc[val_], y.iloc[val_]\n",
    "\n",
    "        clf = XGBClassifier(**params)\n",
    "        clf.fit(\n",
    "            trn_x, trn_y,\n",
    "            eval_set=[(trn_x, trn_y), (val_x, val_y)],\n",
    "            eval_metric=func_loss,\n",
    "            verbose=100,\n",
    "            early_stopping_rounds=50,\n",
    "            sample_weight=trn_y.map(weights)\n",
    "        )\n",
    "        clfs.append(clf)\n",
    "\n",
    "        oof_preds[val_, :] = clf.predict_proba(val_x, ntree_limit=clf.best_ntree_limit)\n",
    "        print('no {}-fold loss: {}'.format(fold_ + 1,\n",
    "              multi_weighted_logloss(val_y, oof_preds[val_, :],\n",
    "                                     classes, class_weights)))\n",
    "\n",
    "        imp_df = pd.DataFrame({\n",
    "                'feature': full_train.columns,\n",
    "                'gain': clf.feature_importances_,\n",
    "                'fold': [fold_ + 1] * len(full_train.columns),\n",
    "                })\n",
    "        importances = pd.concat([importances, imp_df], axis=0, sort=False)\n",
    "\n",
    "    score = multi_weighted_logloss(y_true=y, y_preds=oof_preds,\n",
    "                                   classes=classes, class_weights=class_weights)\n",
    "    print('MULTI WEIGHTED LOG LOSS: {:.5f}'.format(score))\n",
    "    df_importances = save_importances(importances_=importances)\n",
    "    df_importances.to_csv('xgb_importances.csv', index=False)\n",
    "\n",
    "    return clfs, score"
   ]
  },
  {
   "cell_type": "code",
   "execution_count": 12,
   "metadata": {},
   "outputs": [],
   "source": [
    "def lgbm_modeling_cross_validation(params,\n",
    "                                   full_train,\n",
    "                                   y,\n",
    "                                   classes,\n",
    "                                   class_weights,\n",
    "                                   nr_fold=5,\n",
    "                                   random_state=51):\n",
    "\n",
    "    # Compute weights\n",
    "    w = y.value_counts()\n",
    "    weights = {i : np.sum(w) / w[i] for i in w.index}\n",
    "\n",
    "    clfs = []\n",
    "    importances = pd.DataFrame()\n",
    "    folds = StratifiedKFold(n_splits=nr_fold,\n",
    "                            shuffle=True,\n",
    "                            random_state=random_state)\n",
    "\n",
    "    oof_preds = np.zeros((len(full_train), np.unique(y).shape[0]))\n",
    "    for fold_, (trn_, val_) in enumerate(folds.split(y, y)):\n",
    "        trn_x, trn_y = full_train.iloc[trn_], y.iloc[trn_]\n",
    "        val_x, val_y = full_train.iloc[val_], y.iloc[val_]\n",
    "\n",
    "        clf = LGBMClassifier(**params)\n",
    "        clf.fit(\n",
    "            trn_x, trn_y,\n",
    "            eval_set=[(trn_x, trn_y), (val_x, val_y)],\n",
    "            eval_metric=lgbm_multi_weighted_logloss,\n",
    "            verbose=100,\n",
    "            early_stopping_rounds=50,\n",
    "            sample_weight=trn_y.map(weights)\n",
    "        )\n",
    "        clfs.append(clf)\n",
    "\n",
    "        oof_preds[val_, :] = clf.predict_proba(val_x, num_iteration=clf.best_iteration_)\n",
    "        print('no {}-fold loss: {}'.format(fold_ + 1,\n",
    "              multi_weighted_logloss(val_y, oof_preds[val_, :],\n",
    "                                     classes, class_weights)))\n",
    "\n",
    "        imp_df = pd.DataFrame({\n",
    "                'feature': full_train.columns,\n",
    "                'gain': clf.feature_importances_,\n",
    "                'fold': [fold_ + 1] * len(full_train.columns),\n",
    "                })\n",
    "        importances = pd.concat([importances, imp_df], axis=0, sort=False)\n",
    "\n",
    "    score = multi_weighted_logloss(y_true=y, y_preds=oof_preds,\n",
    "                                   classes=classes, class_weights=class_weights)\n",
    "    print('MULTI WEIGHTED LOG LOSS: {:.5f}'.format(score))\n",
    "    df_importances = save_importances(importances_=importances)\n",
    "    df_importances.to_csv('lgbm_importances.csv', index=False)\n",
    "\n",
    "    return clfs, score"
   ]
  },
  {
   "cell_type": "code",
   "execution_count": 37,
   "metadata": {},
   "outputs": [],
   "source": [
    "def predict_chunk(df_, clfs_, meta_, features, featurize_configs, train_mean):\n",
    "\n",
    "    # process all features\n",
    "    full_test = featurize(df_, meta_,\n",
    "                          featurize_configs['aggs'],\n",
    "                          featurize_configs['fcp'])\n",
    "    full_test.fillna(0, inplace=True)\n",
    "\n",
    "    # Make predictions\n",
    "    preds_ = None\n",
    "    for clf in clfs_:\n",
    "        if preds_ is None:\n",
    "            preds_ = clf.predict_proba(full_test[features])\n",
    "        else:\n",
    "            preds_ += clf.predict_proba(full_test[features])\n",
    "\n",
    "    preds_ = preds_ / len(clfs_)\n",
    "\n",
    "    # Compute preds_99 as the proba of class not being any of the others\n",
    "    # preds_99 = 0.1 gives 1.769\n",
    "    preds_99 = np.ones(preds_.shape[0])\n",
    "    for i in range(preds_.shape[1]):\n",
    "        preds_99 *= (1 - preds_[:, i])\n",
    "\n",
    "    # Create DataFrame from predictions\n",
    "    preds_df_ = pd.DataFrame(preds_,\n",
    "                             columns=['class_{}'.format(s) for s in clfs_[0].classes_])\n",
    "    preds_df_['object_id'] = full_test['object_id']\n",
    "    preds_df_['class_99'] = 0.14 * preds_99 / np.mean(preds_99)\n",
    "    #print(full_test[['object_id'] + features].shape)\n",
    "    print(list(full_test.columns.values))\n",
    "    return full_test[['object_id'] + list(features)],preds_df_"
   ]
  },
  {
   "cell_type": "code",
   "execution_count": 14,
   "metadata": {},
   "outputs": [],
   "source": [
    "def process_test(clfs,\n",
    "                 features,\n",
    "                 featurize_configs,\n",
    "                 train_mean,\n",
    "                 filename='predictions2.csv',\n",
    "                 chunks=5000000):\n",
    "    start = time.time()\n",
    "\n",
    "    meta_test = process_meta('test_set_metadata.csv')\n",
    "    # meta_test.set_index('object_id',inplace=True)\n",
    "\n",
    "    remain_df = None\n",
    "    for i_c, df in enumerate(pd.read_csv('test_set.csv', chunksize=chunks, iterator=True)):\n",
    "        # Check object_ids\n",
    "        # I believe np.unique keeps the order of group_ids as they appear in the file\n",
    "        unique_ids = np.unique(df['object_id'])\n",
    "\n",
    "        new_remain_df = df.loc[df['object_id'] == unique_ids[-1]].copy()\n",
    "        if remain_df is None:\n",
    "            df = df.loc[df['object_id'].isin(unique_ids[:-1])]\n",
    "        else:\n",
    "            df = pd.concat([remain_df, df.loc[df['object_id'].isin(unique_ids[:-1])]], axis=0)\n",
    "        # Create remaining samples df\n",
    "        remain_df = new_remain_df\n",
    "\n",
    "        full_test2,preds_df = predict_chunk(df_=df,\n",
    "                                 clfs_=clfs,\n",
    "                                 meta_=meta_test,\n",
    "                                 features=features,\n",
    "                                 featurize_configs=featurize_configs,\n",
    "                                 train_mean=train_mean)\n",
    "\n",
    "        if i_c == 0:\n",
    "            preds_df.to_csv(filename, header=True, mode='a', index=False)\n",
    "        else:\n",
    "            preds_df.to_csv(filename, header=False, mode='a', index=False)\n",
    "        if i_c == 0:\n",
    "            full_test2.to_csv('klm_test.csv', header=True, mode='a', index=False)\n",
    "        else:\n",
    "            full_test2.to_csv('klm_test.csv', header=False, mode='a', index=False)\n",
    "\n",
    "        del preds_df,full_test2\n",
    "        gc.collect()\n",
    "        print('{:15d} done in {:5.1f} minutes' .format(\n",
    "                chunks * (i_c + 1), (time.time() - start) / 60), flush=True)\n",
    "\n",
    "    # Compute last object in remain_df\n",
    "    full_test2,preds_df = predict_chunk(df_=remain_df,\n",
    "                             clfs_=clfs,\n",
    "                             meta_=meta_test,\n",
    "                             features=features,\n",
    "                             featurize_configs=featurize_configs,\n",
    "                             train_mean=train_mean)\n",
    "\n",
    "    print(\"no problem\")\n",
    "    print(preds_df.shape,full_test2.shape)\n",
    "    full_test2.to_csv('klm_test.csv', header=False, mode='a', index=False)\n",
    "    preds_df.to_csv(filename, header=False, mode='a', index=False)\n",
    "    return"
   ]
  },
  {
   "cell_type": "code",
   "execution_count": 15,
   "metadata": {},
   "outputs": [],
   "source": [
    "aggs = {\n",
    "    'flux': ['min', 'max', 'mean', 'median', 'std', 'skew'],\n",
    "    'flux_err': ['min', 'max', 'mean', 'median', 'std', 'skew'],\n",
    "    'detected': ['mean'],\n",
    "    'flux_ratio_sq':['sum', 'skew'],\n",
    "    'flux_by_flux_ratio_sq':['sum','skew'],\n",
    "}\n",
    "\n",
    "# tsfresh features\n",
    "fcp = {\n",
    "    'flux': {\n",
    "        'longest_strike_above_mean': None,\n",
    "        'longest_strike_below_mean': None,\n",
    "        'mean_change': None,\n",
    "        'mean_abs_change': None,\n",
    "        'length': None,\n",
    "    },\n",
    "\n",
    "    'flux_by_flux_ratio_sq': {\n",
    "        'longest_strike_above_mean': None,\n",
    "        'longest_strike_below_mean': None,\n",
    "    },\n",
    "\n",
    "    'flux_passband': {\n",
    "        'fft_coefficient': [\n",
    "                {'coeff': 0, 'attr': 'abs'},\n",
    "                {'coeff': 1, 'attr': 'abs'}\n",
    "            ],\n",
    "        'kurtosis' : None,\n",
    "        'skewness' : None,\n",
    "    },\n",
    "\n",
    "    'mjd': {\n",
    "        'maximum': None,\n",
    "        'minimum': None,\n",
    "        'mean_change': None,\n",
    "        'mean_abs_change': None,\n",
    "    },\n",
    "}\n",
    "\n",
    "best_params = {\n",
    "        'device': 'cpu',\n",
    "        'objective': 'multiclass',\n",
    "        'num_class': 14,\n",
    "        'boosting_type': 'gbdt',\n",
    "        'n_jobs': -1,\n",
    "        'max_depth': 7,\n",
    "        'n_estimators': 500,\n",
    "        'subsample_freq': 2,\n",
    "        'subsample_for_bin': 5000,\n",
    "        'min_data_per_group': 100,\n",
    "        'max_cat_to_onehot': 4,\n",
    "        'cat_l2': 1.0,\n",
    "        'cat_smooth': 59.5,\n",
    "        'max_cat_threshold': 32,\n",
    "        'metric_freq': 10,\n",
    "        'verbosity': -1,\n",
    "        'metric': 'multi_logloss',\n",
    "        'xgboost_dart_mode': False,\n",
    "        'uniform_drop': False,\n",
    "        'colsample_bytree': 0.5,\n",
    "        'drop_rate': 0.173,\n",
    "        'learning_rate': 0.0267,\n",
    "        'max_drop': 5,\n",
    "        'min_child_samples': 10,\n",
    "        'min_child_weight': 100.0,\n",
    "        'min_split_gain': 0.1,\n",
    "        'num_leaves': 7,\n",
    "        'reg_alpha': 0.1,\n",
    "        'reg_lambda': 0.00023,\n",
    "        'skip_drop': 0.44,\n",
    "        'subsample': 0.75}"
   ]
  },
  {
   "cell_type": "code",
   "execution_count": 16,
   "metadata": {},
   "outputs": [
    {
     "name": "stderr",
     "output_type": "stream",
     "text": [
      "Feature Extraction: 100%|██████████| 20/20 [00:07<00:00,  3.22it/s]\n",
      "Feature Extraction: 100%|██████████| 20/20 [00:01<00:00, 12.58it/s]\n",
      "Feature Extraction: 100%|██████████| 20/20 [00:00<00:00, 21.66it/s]\n",
      "Feature Extraction: 100%|██████████| 20/20 [00:00<00:00, 29.55it/s]\n"
     ]
    }
   ],
   "source": [
    "%%time\n",
    "meta_train = process_meta('training_set_metadata.csv')\n",
    "\n",
    "train = pd.read_csv('training_set.csv')\n",
    "full_train = featurize(train, meta_train, aggs, fcp)"
   ]
  },
  {
   "cell_type": "code",
   "execution_count": 17,
   "metadata": {},
   "outputs": [],
   "source": [
    "if 'target' in full_train:\n",
    "    y = full_train['target']\n",
    "    del full_train['target']\n",
    "\n",
    "classes = sorted(y.unique())"
   ]
  },
  {
   "cell_type": "code",
   "execution_count": 18,
   "metadata": {},
   "outputs": [
    {
     "name": "stdout",
     "output_type": "stream",
     "text": [
      "Unique classes : 14, [6, 15, 16, 42, 52, 53, 62, 64, 65, 67, 88, 90, 92, 95]\n",
      "{6: 1, 15: 2, 16: 1, 42: 1, 52: 1, 53: 1, 62: 1, 64: 2, 65: 1, 67: 1, 88: 1, 90: 1, 92: 1, 95: 1}\n"
     ]
    }
   ],
   "source": [
    "# Taken from Giba's topic : https://www.kaggle.com/titericz\n",
    "# https://www.kaggle.com/c/PLAsTiCC-2018/discussion/67194\n",
    "# with Kyle Boone's post https://www.kaggle.com/kyleboone\n",
    "class_weights = {c: 1 for c in classes}\n",
    "class_weights.update({c:2 for c in [64, 15]})\n",
    "print('Unique classes : {}, {}'.format(len(classes), classes))\n",
    "print(class_weights)\n",
    "#sanity check: classes = [6, 15, 16, 42, 52, 53, 62, 64, 65, 67, 88, 90, 92, 95]\n",
    "#sanity check: class_weights = {6: 1, 15: 2, 16: 1, 42: 1, 52: 1, 53: 1, 62: 1, 64: 2, 65: 1, 67: 1, 88: 1, 90: 1, 92: 1, 95: 1}\n",
    "#if len(np.unique(y_true)) > 14:\n",
    "#    classes.append(99)\n",
    "#    class_weights[99] = 2"
   ]
  },
  {
   "cell_type": "code",
   "execution_count": 19,
   "metadata": {},
   "outputs": [],
   "source": [
    "if 'object_id' in full_train:\n",
    "    oof_df = full_train[['object_id']]\n",
    "    del full_train['object_id']\n",
    "    #del full_train['distmod']\n",
    "    del full_train['hostgal_specz']\n",
    "    del full_train['ra'], full_train['decl'], full_train['gal_l'], full_train['gal_b']\n",
    "    del full_train['ddf']"
   ]
  },
  {
   "cell_type": "code",
   "execution_count": 20,
   "metadata": {},
   "outputs": [
    {
     "data": {
      "text/html": [
       "<div>\n",
       "<style scoped>\n",
       "    .dataframe tbody tr th:only-of-type {\n",
       "        vertical-align: middle;\n",
       "    }\n",
       "\n",
       "    .dataframe tbody tr th {\n",
       "        vertical-align: top;\n",
       "    }\n",
       "\n",
       "    .dataframe thead th {\n",
       "        text-align: right;\n",
       "    }\n",
       "</style>\n",
       "<table border=\"1\" class=\"dataframe\">\n",
       "  <thead>\n",
       "    <tr style=\"text-align: right;\">\n",
       "      <th></th>\n",
       "      <th>flux_min</th>\n",
       "      <th>flux_max</th>\n",
       "      <th>flux_mean</th>\n",
       "      <th>flux_median</th>\n",
       "      <th>flux_std</th>\n",
       "      <th>flux_skew</th>\n",
       "      <th>flux_err_min</th>\n",
       "      <th>flux_err_max</th>\n",
       "      <th>flux_err_mean</th>\n",
       "      <th>flux_err_median</th>\n",
       "      <th>...</th>\n",
       "      <th>mjd__mean_abs_change</th>\n",
       "      <th>mjd__mean_change</th>\n",
       "      <th>mjd_diff_det</th>\n",
       "      <th>hostgal_photoz</th>\n",
       "      <th>hostgal_photoz_err</th>\n",
       "      <th>distmod</th>\n",
       "      <th>mwebv</th>\n",
       "      <th>haversine</th>\n",
       "      <th>latlon1</th>\n",
       "      <th>hostgal_photoz_certain</th>\n",
       "    </tr>\n",
       "  </thead>\n",
       "  <tbody>\n",
       "    <tr>\n",
       "      <th>0</th>\n",
       "      <td>-1100.440063</td>\n",
       "      <td>660.626343</td>\n",
       "      <td>-123.096998</td>\n",
       "      <td>-89.477524</td>\n",
       "      <td>394.109851</td>\n",
       "      <td>-0.349540</td>\n",
       "      <td>2.130510</td>\n",
       "      <td>12.845472</td>\n",
       "      <td>4.482743</td>\n",
       "      <td>3.835269</td>\n",
       "      <td>...</td>\n",
       "      <td>2.631898</td>\n",
       "      <td>2.631898</td>\n",
       "      <td>873.7903</td>\n",
       "      <td>0.0000</td>\n",
       "      <td>0.0000</td>\n",
       "      <td>NaN</td>\n",
       "      <td>0.017</td>\n",
       "      <td>0.319006</td>\n",
       "      <td>-1.528827</td>\n",
       "      <td>0.000000</td>\n",
       "    </tr>\n",
       "    <tr>\n",
       "      <th>1</th>\n",
       "      <td>-14.735178</td>\n",
       "      <td>14.770886</td>\n",
       "      <td>-1.423351</td>\n",
       "      <td>-0.873033</td>\n",
       "      <td>6.471144</td>\n",
       "      <td>0.014989</td>\n",
       "      <td>0.639458</td>\n",
       "      <td>9.115748</td>\n",
       "      <td>2.359620</td>\n",
       "      <td>1.998217</td>\n",
       "      <td>...</td>\n",
       "      <td>14.352571</td>\n",
       "      <td>14.352571</td>\n",
       "      <td>846.8017</td>\n",
       "      <td>1.6267</td>\n",
       "      <td>0.2552</td>\n",
       "      <td>45.4063</td>\n",
       "      <td>0.007</td>\n",
       "      <td>1.698939</td>\n",
       "      <td>3.258921</td>\n",
       "      <td>2.099614</td>\n",
       "    </tr>\n",
       "    <tr>\n",
       "      <th>2</th>\n",
       "      <td>-19.159811</td>\n",
       "      <td>47.310059</td>\n",
       "      <td>2.267434</td>\n",
       "      <td>0.409172</td>\n",
       "      <td>8.022239</td>\n",
       "      <td>3.177854</td>\n",
       "      <td>0.695106</td>\n",
       "      <td>11.281384</td>\n",
       "      <td>2.471061</td>\n",
       "      <td>1.990851</td>\n",
       "      <td>...</td>\n",
       "      <td>3.580623</td>\n",
       "      <td>3.580623</td>\n",
       "      <td>78.7737</td>\n",
       "      <td>0.2262</td>\n",
       "      <td>0.0157</td>\n",
       "      <td>40.2561</td>\n",
       "      <td>0.021</td>\n",
       "      <td>1.818030</td>\n",
       "      <td>3.128522</td>\n",
       "      <td>0.229779</td>\n",
       "    </tr>\n",
       "    <tr>\n",
       "      <th>3</th>\n",
       "      <td>-15.494463</td>\n",
       "      <td>220.795212</td>\n",
       "      <td>8.909206</td>\n",
       "      <td>1.035895</td>\n",
       "      <td>27.558208</td>\n",
       "      <td>4.979826</td>\n",
       "      <td>0.567170</td>\n",
       "      <td>55.892746</td>\n",
       "      <td>2.555576</td>\n",
       "      <td>1.819875</td>\n",
       "      <td>...</td>\n",
       "      <td>2.061453</td>\n",
       "      <td>2.061453</td>\n",
       "      <td>123.6872</td>\n",
       "      <td>0.2813</td>\n",
       "      <td>1.1523</td>\n",
       "      <td>40.7951</td>\n",
       "      <td>0.007</td>\n",
       "      <td>0.495223</td>\n",
       "      <td>6.893743</td>\n",
       "      <td>0.890445</td>\n",
       "    </tr>\n",
       "    <tr>\n",
       "      <th>4</th>\n",
       "      <td>-16.543753</td>\n",
       "      <td>143.600189</td>\n",
       "      <td>7.145702</td>\n",
       "      <td>1.141288</td>\n",
       "      <td>20.051722</td>\n",
       "      <td>4.406298</td>\n",
       "      <td>0.695277</td>\n",
       "      <td>11.383690</td>\n",
       "      <td>2.753004</td>\n",
       "      <td>2.214854</td>\n",
       "      <td>...</td>\n",
       "      <td>2.231855</td>\n",
       "      <td>2.231855</td>\n",
       "      <td>133.9113</td>\n",
       "      <td>0.2415</td>\n",
       "      <td>0.0176</td>\n",
       "      <td>40.4166</td>\n",
       "      <td>0.024</td>\n",
       "      <td>0.395162</td>\n",
       "      <td>-1.928064</td>\n",
       "      <td>0.245788</td>\n",
       "    </tr>\n",
       "  </tbody>\n",
       "</table>\n",
       "<p>5 rows × 62 columns</p>\n",
       "</div>"
      ],
      "text/plain": [
       "      flux_min    flux_max   flux_mean  flux_median    flux_std  flux_skew  \\\n",
       "0 -1100.440063  660.626343 -123.096998   -89.477524  394.109851  -0.349540   \n",
       "1   -14.735178   14.770886   -1.423351    -0.873033    6.471144   0.014989   \n",
       "2   -19.159811   47.310059    2.267434     0.409172    8.022239   3.177854   \n",
       "3   -15.494463  220.795212    8.909206     1.035895   27.558208   4.979826   \n",
       "4   -16.543753  143.600189    7.145702     1.141288   20.051722   4.406298   \n",
       "\n",
       "   flux_err_min  flux_err_max  flux_err_mean  flux_err_median  \\\n",
       "0      2.130510     12.845472       4.482743         3.835269   \n",
       "1      0.639458      9.115748       2.359620         1.998217   \n",
       "2      0.695106     11.281384       2.471061         1.990851   \n",
       "3      0.567170     55.892746       2.555576         1.819875   \n",
       "4      0.695277     11.383690       2.753004         2.214854   \n",
       "\n",
       "            ...            mjd__mean_abs_change  mjd__mean_change  \\\n",
       "0           ...                        2.631898          2.631898   \n",
       "1           ...                       14.352571         14.352571   \n",
       "2           ...                        3.580623          3.580623   \n",
       "3           ...                        2.061453          2.061453   \n",
       "4           ...                        2.231855          2.231855   \n",
       "\n",
       "   mjd_diff_det  hostgal_photoz  hostgal_photoz_err  distmod  mwebv  \\\n",
       "0      873.7903          0.0000              0.0000      NaN  0.017   \n",
       "1      846.8017          1.6267              0.2552  45.4063  0.007   \n",
       "2       78.7737          0.2262              0.0157  40.2561  0.021   \n",
       "3      123.6872          0.2813              1.1523  40.7951  0.007   \n",
       "4      133.9113          0.2415              0.0176  40.4166  0.024   \n",
       "\n",
       "   haversine   latlon1  hostgal_photoz_certain  \n",
       "0   0.319006 -1.528827                0.000000  \n",
       "1   1.698939  3.258921                2.099614  \n",
       "2   1.818030  3.128522                0.229779  \n",
       "3   0.495223  6.893743                0.890445  \n",
       "4   0.395162 -1.928064                0.245788  \n",
       "\n",
       "[5 rows x 62 columns]"
      ]
     },
     "execution_count": 20,
     "metadata": {},
     "output_type": "execute_result"
    }
   ],
   "source": [
    "full_train.head()"
   ]
  },
  {
   "cell_type": "code",
   "execution_count": 23,
   "metadata": {},
   "outputs": [
    {
     "name": "stdout",
     "output_type": "stream",
     "text": [
      "CPU times: user 1.84 ms, sys: 0 ns, total: 1.84 ms\n",
      "Wall time: 1.01 ms\n"
     ]
    }
   ],
   "source": [
    "%%time\n",
    "klm = pd.concat([oof_df,full_train],axis=1)"
   ]
  },
  {
   "cell_type": "code",
   "execution_count": 24,
   "metadata": {},
   "outputs": [],
   "source": [
    "train_mean = full_train.mean(axis=0)\n",
    "#train_mean.to_hdf('train_data.hdf5', 'data')\n",
    "pd.set_option('display.max_rows', 500)\n",
    "#import pdb; pdb.set_trace()\n",
    "full_train.fillna(0, inplace=True)\n",
    "klm.to_csv('klm_train.csv',index=False)"
   ]
  },
  {
   "cell_type": "code",
   "execution_count": 25,
   "metadata": {},
   "outputs": [],
   "source": [
    "#print(full_train.describe().T)"
   ]
  },
  {
   "cell_type": "code",
   "execution_count": 26,
   "metadata": {},
   "outputs": [],
   "source": [
    "eval_func = partial(lgbm_modeling_cross_validation,\n",
    "                    full_train=full_train,\n",
    "                    y=y,\n",
    "                    classes=classes,\n",
    "                    class_weights=class_weights,\n",
    "                    nr_fold=5,\n",
    "                    random_state=51)"
   ]
  },
  {
   "cell_type": "code",
   "execution_count": 27,
   "metadata": {},
   "outputs": [
    {
     "name": "stdout",
     "output_type": "stream",
     "text": [
      "Training until validation scores don't improve for 50 rounds.\n",
      "[100]\ttraining's multi_logloss: 0.747311\ttraining's wloss: 0.738659\tvalid_1's multi_logloss: 1.10135\tvalid_1's wloss: 0.937673\n",
      "[200]\ttraining's multi_logloss: 0.487077\ttraining's wloss: 0.476112\tvalid_1's multi_logloss: 0.879359\tvalid_1's wloss: 0.746252\n",
      "[300]\ttraining's multi_logloss: 0.384363\ttraining's wloss: 0.372807\tvalid_1's multi_logloss: 0.799271\tvalid_1's wloss: 0.698393\n",
      "[400]\ttraining's multi_logloss: 0.325265\ttraining's wloss: 0.313726\tvalid_1's multi_logloss: 0.760059\tvalid_1's wloss: 0.691342\n",
      "Early stopping, best iteration is:\n",
      "[391]\ttraining's multi_logloss: 0.329785\ttraining's wloss: 0.318206\tvalid_1's multi_logloss: 0.763147\tvalid_1's wloss: 0.690457\n",
      "no 1-fold loss: 0.6904568421450641\n",
      "Training until validation scores don't improve for 50 rounds.\n",
      "[100]\ttraining's multi_logloss: 0.750148\ttraining's wloss: 0.741554\tvalid_1's multi_logloss: 1.10429\tvalid_1's wloss: 0.921976\n",
      "[200]\ttraining's multi_logloss: 0.491417\ttraining's wloss: 0.481029\tvalid_1's multi_logloss: 0.877817\tvalid_1's wloss: 0.715787\n",
      "[300]\ttraining's multi_logloss: 0.389444\ttraining's wloss: 0.378676\tvalid_1's multi_logloss: 0.79678\tvalid_1's wloss: 0.66468\n",
      "[400]\ttraining's multi_logloss: 0.329619\ttraining's wloss: 0.319052\tvalid_1's multi_logloss: 0.756693\tvalid_1's wloss: 0.649636\n",
      "[500]\ttraining's multi_logloss: 0.287131\ttraining's wloss: 0.276746\tvalid_1's multi_logloss: 0.727502\tvalid_1's wloss: 0.645454\n",
      "[600]\ttraining's multi_logloss: 0.253345\ttraining's wloss: 0.243395\tvalid_1's multi_logloss: 0.706748\tvalid_1's wloss: 0.644499\n",
      "[700]\ttraining's multi_logloss: 0.225804\ttraining's wloss: 0.216254\tvalid_1's multi_logloss: 0.689005\tvalid_1's wloss: 0.642331\n",
      "Early stopping, best iteration is:\n",
      "[687]\ttraining's multi_logloss: 0.229171\ttraining's wloss: 0.219618\tvalid_1's multi_logloss: 0.690046\tvalid_1's wloss: 0.641758\n",
      "no 2-fold loss: 0.6417584599074655\n",
      "Training until validation scores don't improve for 50 rounds.\n",
      "[100]\ttraining's multi_logloss: 0.74331\ttraining's wloss: 0.73687\tvalid_1's multi_logloss: 1.09841\tvalid_1's wloss: 0.953388\n",
      "[200]\ttraining's multi_logloss: 0.485387\ttraining's wloss: 0.476348\tvalid_1's multi_logloss: 0.881404\tvalid_1's wloss: 0.763795\n",
      "[300]\ttraining's multi_logloss: 0.384027\ttraining's wloss: 0.373926\tvalid_1's multi_logloss: 0.808558\tvalid_1's wloss: 0.725073\n",
      "[400]\ttraining's multi_logloss: 0.324334\ttraining's wloss: 0.31421\tvalid_1's multi_logloss: 0.7709\tvalid_1's wloss: 0.709786\n",
      "[500]\ttraining's multi_logloss: 0.281514\ttraining's wloss: 0.271619\tvalid_1's multi_logloss: 0.745505\tvalid_1's wloss: 0.702967\n",
      "[600]\ttraining's multi_logloss: 0.248019\ttraining's wloss: 0.238221\tvalid_1's multi_logloss: 0.725605\tvalid_1's wloss: 0.700882\n",
      "Early stopping, best iteration is:\n",
      "[582]\ttraining's multi_logloss: 0.253645\ttraining's wloss: 0.243751\tvalid_1's multi_logloss: 0.728112\tvalid_1's wloss: 0.699716\n",
      "no 3-fold loss: 0.6997155917664799\n",
      "Training until validation scores don't improve for 50 rounds.\n",
      "[100]\ttraining's multi_logloss: 0.752731\ttraining's wloss: 0.746577\tvalid_1's multi_logloss: 1.10483\tvalid_1's wloss: 0.912333\n",
      "[200]\ttraining's multi_logloss: 0.493105\ttraining's wloss: 0.48406\tvalid_1's multi_logloss: 0.873789\tvalid_1's wloss: 0.703362\n",
      "[300]\ttraining's multi_logloss: 0.389488\ttraining's wloss: 0.378871\tvalid_1's multi_logloss: 0.791649\tvalid_1's wloss: 0.652216\n",
      "[400]\ttraining's multi_logloss: 0.329525\ttraining's wloss: 0.31851\tvalid_1's multi_logloss: 0.74893\tvalid_1's wloss: 0.639725\n",
      "[500]\ttraining's multi_logloss: 0.286912\ttraining's wloss: 0.275981\tvalid_1's multi_logloss: 0.722633\tvalid_1's wloss: 0.639676\n",
      "Early stopping, best iteration is:\n",
      "[466]\ttraining's multi_logloss: 0.299982\ttraining's wloss: 0.288916\tvalid_1's multi_logloss: 0.730019\tvalid_1's wloss: 0.638426\n",
      "no 4-fold loss: 0.6384263206233093\n",
      "Training until validation scores don't improve for 50 rounds.\n",
      "[100]\ttraining's multi_logloss: 0.756294\ttraining's wloss: 0.748649\tvalid_1's multi_logloss: 1.09352\tvalid_1's wloss: 0.910168\n",
      "[200]\ttraining's multi_logloss: 0.496507\ttraining's wloss: 0.486514\tvalid_1's multi_logloss: 0.867147\tvalid_1's wloss: 0.696355\n",
      "[300]\ttraining's multi_logloss: 0.392926\ttraining's wloss: 0.382317\tvalid_1's multi_logloss: 0.788248\tvalid_1's wloss: 0.643637\n",
      "[400]\ttraining's multi_logloss: 0.332597\ttraining's wloss: 0.321673\tvalid_1's multi_logloss: 0.749408\tvalid_1's wloss: 0.631169\n",
      "[500]\ttraining's multi_logloss: 0.289372\ttraining's wloss: 0.278534\tvalid_1's multi_logloss: 0.721761\tvalid_1's wloss: 0.628339\n",
      "Early stopping, best iteration is:\n",
      "[464]\ttraining's multi_logloss: 0.303235\ttraining's wloss: 0.292221\tvalid_1's multi_logloss: 0.730054\tvalid_1's wloss: 0.627571\n",
      "no 5-fold loss: 0.6275712993683191\n",
      "MULTI WEIGHTED LOG LOSS: 0.65995\n"
     ]
    }
   ],
   "source": [
    "best_params.update({'n_estimators': 1000})\n",
    "\n",
    "# modeling from CV\n",
    "clfs, score = eval_func(best_params)"
   ]
  },
  {
   "cell_type": "code",
   "execution_count": 28,
   "metadata": {},
   "outputs": [
    {
     "name": "stdout",
     "output_type": "stream",
     "text": [
      "save to subm_0.659953_2018-11-22-22-52.csv\n"
     ]
    }
   ],
   "source": [
    "filename = 'subm_{:.6f}_{}.csv'.format(score,\n",
    "                 dt.now().strftime('%Y-%m-%d-%H-%M'))\n",
    "print('save to {}'.format(filename))"
   ]
  },
  {
   "cell_type": "code",
   "execution_count": 38,
   "metadata": {},
   "outputs": [
    {
     "name": "stderr",
     "output_type": "stream",
     "text": [
      "Feature Extraction: 100%|██████████| 20/20 [00:13<00:00,  2.08it/s]\n",
      "Feature Extraction: 100%|██████████| 20/20 [00:04<00:00,  4.57it/s]\n",
      "Feature Extraction: 100%|██████████| 20/20 [00:02<00:00,  8.59it/s]\n",
      "Feature Extraction: 100%|██████████| 20/20 [00:01<00:00, 13.80it/s]\n"
     ]
    },
    {
     "name": "stdout",
     "output_type": "stream",
     "text": [
      "['object_id', 'flux_min', 'flux_max', 'flux_mean', 'flux_median', 'flux_std', 'flux_skew', 'flux_err_min', 'flux_err_max', 'flux_err_mean', 'flux_err_median', 'flux_err_std', 'flux_err_skew', 'detected_mean', 'flux_ratio_sq_sum', 'flux_ratio_sq_skew', 'flux_by_flux_ratio_sq_sum', 'flux_by_flux_ratio_sq_skew', 'flux_w_mean', 'flux_diff1', 'flux_diff2', 'flux_diff3', '0__fft_coefficient__coeff_0__attr_\"abs\"', '0__fft_coefficient__coeff_1__attr_\"abs\"', '0__kurtosis', '0__skewness', '1__fft_coefficient__coeff_0__attr_\"abs\"', '1__fft_coefficient__coeff_1__attr_\"abs\"', '1__kurtosis', '1__skewness', '2__fft_coefficient__coeff_0__attr_\"abs\"', '2__fft_coefficient__coeff_1__attr_\"abs\"', '2__kurtosis', '2__skewness', '3__fft_coefficient__coeff_0__attr_\"abs\"', '3__fft_coefficient__coeff_1__attr_\"abs\"', '3__kurtosis', '3__skewness', '4__fft_coefficient__coeff_0__attr_\"abs\"', '4__fft_coefficient__coeff_1__attr_\"abs\"', '4__kurtosis', '4__skewness', '5__fft_coefficient__coeff_0__attr_\"abs\"', '5__fft_coefficient__coeff_1__attr_\"abs\"', '5__kurtosis', '5__skewness', 'flux__length', 'flux__longest_strike_above_mean', 'flux__longest_strike_below_mean', 'flux__mean_abs_change', 'flux__mean_change', 'flux_by_flux_ratio_sq__longest_strike_above_mean', 'flux_by_flux_ratio_sq__longest_strike_below_mean', 'mjd__mean_abs_change', 'mjd__mean_change', 'mjd_diff_det', 'ra', 'decl', 'gal_l', 'gal_b', 'ddf', 'hostgal_specz', 'hostgal_photoz', 'hostgal_photoz_err', 'distmod', 'mwebv', 'haversine', 'latlon1', 'hostgal_photoz_certain']\n",
      "        5000000 done in   1.1 minutes\n"
     ]
    },
    {
     "name": "stderr",
     "output_type": "stream",
     "text": [
      "Feature Extraction: 100%|██████████| 20/20 [00:13<00:00,  2.05it/s]\n",
      "Feature Extraction: 100%|██████████| 20/20 [00:04<00:00,  4.27it/s]\n",
      "Feature Extraction: 100%|██████████| 20/20 [00:02<00:00,  8.08it/s]\n",
      "Feature Extraction: 100%|██████████| 20/20 [00:01<00:00, 15.79it/s]\n"
     ]
    },
    {
     "name": "stdout",
     "output_type": "stream",
     "text": [
      "['object_id', 'flux_min', 'flux_max', 'flux_mean', 'flux_median', 'flux_std', 'flux_skew', 'flux_err_min', 'flux_err_max', 'flux_err_mean', 'flux_err_median', 'flux_err_std', 'flux_err_skew', 'detected_mean', 'flux_ratio_sq_sum', 'flux_ratio_sq_skew', 'flux_by_flux_ratio_sq_sum', 'flux_by_flux_ratio_sq_skew', 'flux_w_mean', 'flux_diff1', 'flux_diff2', 'flux_diff3', '0__fft_coefficient__coeff_0__attr_\"abs\"', '0__fft_coefficient__coeff_1__attr_\"abs\"', '0__kurtosis', '0__skewness', '1__fft_coefficient__coeff_0__attr_\"abs\"', '1__fft_coefficient__coeff_1__attr_\"abs\"', '1__kurtosis', '1__skewness', '2__fft_coefficient__coeff_0__attr_\"abs\"', '2__fft_coefficient__coeff_1__attr_\"abs\"', '2__kurtosis', '2__skewness', '3__fft_coefficient__coeff_0__attr_\"abs\"', '3__fft_coefficient__coeff_1__attr_\"abs\"', '3__kurtosis', '3__skewness', '4__fft_coefficient__coeff_0__attr_\"abs\"', '4__fft_coefficient__coeff_1__attr_\"abs\"', '4__kurtosis', '4__skewness', '5__fft_coefficient__coeff_0__attr_\"abs\"', '5__fft_coefficient__coeff_1__attr_\"abs\"', '5__kurtosis', '5__skewness', 'flux__length', 'flux__longest_strike_above_mean', 'flux__longest_strike_below_mean', 'flux__mean_abs_change', 'flux__mean_change', 'flux_by_flux_ratio_sq__longest_strike_above_mean', 'flux_by_flux_ratio_sq__longest_strike_below_mean', 'mjd__mean_abs_change', 'mjd__mean_change', 'mjd_diff_det', 'ra', 'decl', 'gal_l', 'gal_b', 'ddf', 'hostgal_specz', 'hostgal_photoz', 'hostgal_photoz_err', 'distmod', 'mwebv', 'haversine', 'latlon1', 'hostgal_photoz_certain']\n",
      "       10000000 done in   2.1 minutes\n"
     ]
    },
    {
     "name": "stderr",
     "output_type": "stream",
     "text": [
      "Feature Extraction: 100%|██████████| 20/20 [00:31<00:00,  1.22s/it]\n",
      "Feature Extraction: 100%|██████████| 20/20 [00:07<00:00,  3.83it/s]\n",
      "Feature Extraction: 100%|██████████| 20/20 [00:04<00:00,  5.35it/s]\n",
      "Feature Extraction: 100%|██████████| 20/20 [00:04<00:00,  3.85it/s]\n"
     ]
    },
    {
     "name": "stdout",
     "output_type": "stream",
     "text": [
      "['object_id', 'flux_min', 'flux_max', 'flux_mean', 'flux_median', 'flux_std', 'flux_skew', 'flux_err_min', 'flux_err_max', 'flux_err_mean', 'flux_err_median', 'flux_err_std', 'flux_err_skew', 'detected_mean', 'flux_ratio_sq_sum', 'flux_ratio_sq_skew', 'flux_by_flux_ratio_sq_sum', 'flux_by_flux_ratio_sq_skew', 'flux_w_mean', 'flux_diff1', 'flux_diff2', 'flux_diff3', '0__fft_coefficient__coeff_0__attr_\"abs\"', '0__fft_coefficient__coeff_1__attr_\"abs\"', '0__kurtosis', '0__skewness', '1__fft_coefficient__coeff_0__attr_\"abs\"', '1__fft_coefficient__coeff_1__attr_\"abs\"', '1__kurtosis', '1__skewness', '2__fft_coefficient__coeff_0__attr_\"abs\"', '2__fft_coefficient__coeff_1__attr_\"abs\"', '2__kurtosis', '2__skewness', '3__fft_coefficient__coeff_0__attr_\"abs\"', '3__fft_coefficient__coeff_1__attr_\"abs\"', '3__kurtosis', '3__skewness', '4__fft_coefficient__coeff_0__attr_\"abs\"', '4__fft_coefficient__coeff_1__attr_\"abs\"', '4__kurtosis', '4__skewness', '5__fft_coefficient__coeff_0__attr_\"abs\"', '5__fft_coefficient__coeff_1__attr_\"abs\"', '5__kurtosis', '5__skewness', 'flux__length', 'flux__longest_strike_above_mean', 'flux__longest_strike_below_mean', 'flux__mean_abs_change', 'flux__mean_change', 'flux_by_flux_ratio_sq__longest_strike_above_mean', 'flux_by_flux_ratio_sq__longest_strike_below_mean', 'mjd__mean_abs_change', 'mjd__mean_change', 'mjd_diff_det', 'ra', 'decl', 'gal_l', 'gal_b', 'ddf', 'hostgal_specz', 'hostgal_photoz', 'hostgal_photoz_err', 'distmod', 'mwebv', 'haversine', 'latlon1', 'hostgal_photoz_certain']\n",
      "       15000000 done in   4.1 minutes\n"
     ]
    },
    {
     "name": "stderr",
     "output_type": "stream",
     "text": [
      "Feature Extraction: 100%|██████████| 20/20 [00:35<00:00,  1.51s/it]\n",
      "Feature Extraction: 100%|██████████| 20/20 [00:06<00:00,  3.54it/s]\n",
      "Feature Extraction: 100%|██████████| 20/20 [00:04<00:00,  6.07it/s]\n",
      "Feature Extraction: 100%|██████████| 20/20 [00:03<00:00,  6.60it/s]\n"
     ]
    },
    {
     "name": "stdout",
     "output_type": "stream",
     "text": [
      "['object_id', 'flux_min', 'flux_max', 'flux_mean', 'flux_median', 'flux_std', 'flux_skew', 'flux_err_min', 'flux_err_max', 'flux_err_mean', 'flux_err_median', 'flux_err_std', 'flux_err_skew', 'detected_mean', 'flux_ratio_sq_sum', 'flux_ratio_sq_skew', 'flux_by_flux_ratio_sq_sum', 'flux_by_flux_ratio_sq_skew', 'flux_w_mean', 'flux_diff1', 'flux_diff2', 'flux_diff3', '0__fft_coefficient__coeff_0__attr_\"abs\"', '0__fft_coefficient__coeff_1__attr_\"abs\"', '0__kurtosis', '0__skewness', '1__fft_coefficient__coeff_0__attr_\"abs\"', '1__fft_coefficient__coeff_1__attr_\"abs\"', '1__kurtosis', '1__skewness', '2__fft_coefficient__coeff_0__attr_\"abs\"', '2__fft_coefficient__coeff_1__attr_\"abs\"', '2__kurtosis', '2__skewness', '3__fft_coefficient__coeff_0__attr_\"abs\"', '3__fft_coefficient__coeff_1__attr_\"abs\"', '3__kurtosis', '3__skewness', '4__fft_coefficient__coeff_0__attr_\"abs\"', '4__fft_coefficient__coeff_1__attr_\"abs\"', '4__kurtosis', '4__skewness', '5__fft_coefficient__coeff_0__attr_\"abs\"', '5__fft_coefficient__coeff_1__attr_\"abs\"', '5__kurtosis', '5__skewness', 'flux__length', 'flux__longest_strike_above_mean', 'flux__longest_strike_below_mean', 'flux__mean_abs_change', 'flux__mean_change', 'flux_by_flux_ratio_sq__longest_strike_above_mean', 'flux_by_flux_ratio_sq__longest_strike_below_mean', 'mjd__mean_abs_change', 'mjd__mean_change', 'mjd_diff_det', 'ra', 'decl', 'gal_l', 'gal_b', 'ddf', 'hostgal_specz', 'hostgal_photoz', 'hostgal_photoz_err', 'distmod', 'mwebv', 'haversine', 'latlon1', 'hostgal_photoz_certain']\n",
      "       20000000 done in   6.3 minutes\n"
     ]
    },
    {
     "name": "stderr",
     "output_type": "stream",
     "text": [
      "Feature Extraction: 100%|██████████| 20/20 [00:35<00:00,  1.47s/it]\n",
      "Feature Extraction: 100%|██████████| 20/20 [00:07<00:00,  3.68it/s]\n",
      "Feature Extraction: 100%|██████████| 20/20 [00:04<00:00,  5.43it/s]\n",
      "Feature Extraction: 100%|██████████| 20/20 [00:03<00:00,  7.00it/s]\n"
     ]
    },
    {
     "name": "stdout",
     "output_type": "stream",
     "text": [
      "['object_id', 'flux_min', 'flux_max', 'flux_mean', 'flux_median', 'flux_std', 'flux_skew', 'flux_err_min', 'flux_err_max', 'flux_err_mean', 'flux_err_median', 'flux_err_std', 'flux_err_skew', 'detected_mean', 'flux_ratio_sq_sum', 'flux_ratio_sq_skew', 'flux_by_flux_ratio_sq_sum', 'flux_by_flux_ratio_sq_skew', 'flux_w_mean', 'flux_diff1', 'flux_diff2', 'flux_diff3', '0__fft_coefficient__coeff_0__attr_\"abs\"', '0__fft_coefficient__coeff_1__attr_\"abs\"', '0__kurtosis', '0__skewness', '1__fft_coefficient__coeff_0__attr_\"abs\"', '1__fft_coefficient__coeff_1__attr_\"abs\"', '1__kurtosis', '1__skewness', '2__fft_coefficient__coeff_0__attr_\"abs\"', '2__fft_coefficient__coeff_1__attr_\"abs\"', '2__kurtosis', '2__skewness', '3__fft_coefficient__coeff_0__attr_\"abs\"', '3__fft_coefficient__coeff_1__attr_\"abs\"', '3__kurtosis', '3__skewness', '4__fft_coefficient__coeff_0__attr_\"abs\"', '4__fft_coefficient__coeff_1__attr_\"abs\"', '4__kurtosis', '4__skewness', '5__fft_coefficient__coeff_0__attr_\"abs\"', '5__fft_coefficient__coeff_1__attr_\"abs\"', '5__kurtosis', '5__skewness', 'flux__length', 'flux__longest_strike_above_mean', 'flux__longest_strike_below_mean', 'flux__mean_abs_change', 'flux__mean_change', 'flux_by_flux_ratio_sq__longest_strike_above_mean', 'flux_by_flux_ratio_sq__longest_strike_below_mean', 'mjd__mean_abs_change', 'mjd__mean_change', 'mjd_diff_det', 'ra', 'decl', 'gal_l', 'gal_b', 'ddf', 'hostgal_specz', 'hostgal_photoz', 'hostgal_photoz_err', 'distmod', 'mwebv', 'haversine', 'latlon1', 'hostgal_photoz_certain']\n",
      "       25000000 done in   8.5 minutes\n"
     ]
    },
    {
     "name": "stderr",
     "output_type": "stream",
     "text": [
      "Feature Extraction: 100%|██████████| 20/20 [00:35<00:00,  1.50s/it]\n",
      "Feature Extraction: 100%|██████████| 20/20 [00:06<00:00,  3.78it/s]\n",
      "Feature Extraction: 100%|██████████| 20/20 [00:04<00:00,  5.45it/s]\n",
      "Feature Extraction: 100%|██████████| 20/20 [00:03<00:00,  7.57it/s]\n"
     ]
    },
    {
     "name": "stdout",
     "output_type": "stream",
     "text": [
      "['object_id', 'flux_min', 'flux_max', 'flux_mean', 'flux_median', 'flux_std', 'flux_skew', 'flux_err_min', 'flux_err_max', 'flux_err_mean', 'flux_err_median', 'flux_err_std', 'flux_err_skew', 'detected_mean', 'flux_ratio_sq_sum', 'flux_ratio_sq_skew', 'flux_by_flux_ratio_sq_sum', 'flux_by_flux_ratio_sq_skew', 'flux_w_mean', 'flux_diff1', 'flux_diff2', 'flux_diff3', '0__fft_coefficient__coeff_0__attr_\"abs\"', '0__fft_coefficient__coeff_1__attr_\"abs\"', '0__kurtosis', '0__skewness', '1__fft_coefficient__coeff_0__attr_\"abs\"', '1__fft_coefficient__coeff_1__attr_\"abs\"', '1__kurtosis', '1__skewness', '2__fft_coefficient__coeff_0__attr_\"abs\"', '2__fft_coefficient__coeff_1__attr_\"abs\"', '2__kurtosis', '2__skewness', '3__fft_coefficient__coeff_0__attr_\"abs\"', '3__fft_coefficient__coeff_1__attr_\"abs\"', '3__kurtosis', '3__skewness', '4__fft_coefficient__coeff_0__attr_\"abs\"', '4__fft_coefficient__coeff_1__attr_\"abs\"', '4__kurtosis', '4__skewness', '5__fft_coefficient__coeff_0__attr_\"abs\"', '5__fft_coefficient__coeff_1__attr_\"abs\"', '5__kurtosis', '5__skewness', 'flux__length', 'flux__longest_strike_above_mean', 'flux__longest_strike_below_mean', 'flux__mean_abs_change', 'flux__mean_change', 'flux_by_flux_ratio_sq__longest_strike_above_mean', 'flux_by_flux_ratio_sq__longest_strike_below_mean', 'mjd__mean_abs_change', 'mjd__mean_change', 'mjd_diff_det', 'ra', 'decl', 'gal_l', 'gal_b', 'ddf', 'hostgal_specz', 'hostgal_photoz', 'hostgal_photoz_err', 'distmod', 'mwebv', 'haversine', 'latlon1', 'hostgal_photoz_certain']\n",
      "       30000000 done in  10.7 minutes\n"
     ]
    },
    {
     "name": "stderr",
     "output_type": "stream",
     "text": [
      "Feature Extraction: 100%|██████████| 20/20 [00:35<00:00,  1.63s/it]\n",
      "Feature Extraction: 100%|██████████| 20/20 [00:06<00:00,  3.86it/s]\n",
      "Feature Extraction: 100%|██████████| 20/20 [00:04<00:00,  5.10it/s]\n",
      "Feature Extraction: 100%|██████████| 20/20 [00:03<00:00,  7.29it/s]\n"
     ]
    },
    {
     "name": "stdout",
     "output_type": "stream",
     "text": [
      "['object_id', 'flux_min', 'flux_max', 'flux_mean', 'flux_median', 'flux_std', 'flux_skew', 'flux_err_min', 'flux_err_max', 'flux_err_mean', 'flux_err_median', 'flux_err_std', 'flux_err_skew', 'detected_mean', 'flux_ratio_sq_sum', 'flux_ratio_sq_skew', 'flux_by_flux_ratio_sq_sum', 'flux_by_flux_ratio_sq_skew', 'flux_w_mean', 'flux_diff1', 'flux_diff2', 'flux_diff3', '0__fft_coefficient__coeff_0__attr_\"abs\"', '0__fft_coefficient__coeff_1__attr_\"abs\"', '0__kurtosis', '0__skewness', '1__fft_coefficient__coeff_0__attr_\"abs\"', '1__fft_coefficient__coeff_1__attr_\"abs\"', '1__kurtosis', '1__skewness', '2__fft_coefficient__coeff_0__attr_\"abs\"', '2__fft_coefficient__coeff_1__attr_\"abs\"', '2__kurtosis', '2__skewness', '3__fft_coefficient__coeff_0__attr_\"abs\"', '3__fft_coefficient__coeff_1__attr_\"abs\"', '3__kurtosis', '3__skewness', '4__fft_coefficient__coeff_0__attr_\"abs\"', '4__fft_coefficient__coeff_1__attr_\"abs\"', '4__kurtosis', '4__skewness', '5__fft_coefficient__coeff_0__attr_\"abs\"', '5__fft_coefficient__coeff_1__attr_\"abs\"', '5__kurtosis', '5__skewness', 'flux__length', 'flux__longest_strike_above_mean', 'flux__longest_strike_below_mean', 'flux__mean_abs_change', 'flux__mean_change', 'flux_by_flux_ratio_sq__longest_strike_above_mean', 'flux_by_flux_ratio_sq__longest_strike_below_mean', 'mjd__mean_abs_change', 'mjd__mean_change', 'mjd_diff_det', 'ra', 'decl', 'gal_l', 'gal_b', 'ddf', 'hostgal_specz', 'hostgal_photoz', 'hostgal_photoz_err', 'distmod', 'mwebv', 'haversine', 'latlon1', 'hostgal_photoz_certain']\n",
      "       35000000 done in  12.8 minutes\n"
     ]
    },
    {
     "name": "stderr",
     "output_type": "stream",
     "text": [
      "Feature Extraction: 100%|██████████| 20/20 [00:35<00:00,  1.63s/it]\n",
      "Feature Extraction: 100%|██████████| 20/20 [00:07<00:00,  3.02it/s]\n",
      "Feature Extraction: 100%|██████████| 20/20 [00:04<00:00,  4.69it/s]\n",
      "Feature Extraction: 100%|██████████| 20/20 [00:03<00:00,  6.63it/s]\n"
     ]
    },
    {
     "name": "stdout",
     "output_type": "stream",
     "text": [
      "['object_id', 'flux_min', 'flux_max', 'flux_mean', 'flux_median', 'flux_std', 'flux_skew', 'flux_err_min', 'flux_err_max', 'flux_err_mean', 'flux_err_median', 'flux_err_std', 'flux_err_skew', 'detected_mean', 'flux_ratio_sq_sum', 'flux_ratio_sq_skew', 'flux_by_flux_ratio_sq_sum', 'flux_by_flux_ratio_sq_skew', 'flux_w_mean', 'flux_diff1', 'flux_diff2', 'flux_diff3', '0__fft_coefficient__coeff_0__attr_\"abs\"', '0__fft_coefficient__coeff_1__attr_\"abs\"', '0__kurtosis', '0__skewness', '1__fft_coefficient__coeff_0__attr_\"abs\"', '1__fft_coefficient__coeff_1__attr_\"abs\"', '1__kurtosis', '1__skewness', '2__fft_coefficient__coeff_0__attr_\"abs\"', '2__fft_coefficient__coeff_1__attr_\"abs\"', '2__kurtosis', '2__skewness', '3__fft_coefficient__coeff_0__attr_\"abs\"', '3__fft_coefficient__coeff_1__attr_\"abs\"', '3__kurtosis', '3__skewness', '4__fft_coefficient__coeff_0__attr_\"abs\"', '4__fft_coefficient__coeff_1__attr_\"abs\"', '4__kurtosis', '4__skewness', '5__fft_coefficient__coeff_0__attr_\"abs\"', '5__fft_coefficient__coeff_1__attr_\"abs\"', '5__kurtosis', '5__skewness', 'flux__length', 'flux__longest_strike_above_mean', 'flux__longest_strike_below_mean', 'flux__mean_abs_change', 'flux__mean_change', 'flux_by_flux_ratio_sq__longest_strike_above_mean', 'flux_by_flux_ratio_sq__longest_strike_below_mean', 'mjd__mean_abs_change', 'mjd__mean_change', 'mjd_diff_det', 'ra', 'decl', 'gal_l', 'gal_b', 'ddf', 'hostgal_specz', 'hostgal_photoz', 'hostgal_photoz_err', 'distmod', 'mwebv', 'haversine', 'latlon1', 'hostgal_photoz_certain']\n",
      "       40000000 done in  15.0 minutes\n"
     ]
    },
    {
     "name": "stderr",
     "output_type": "stream",
     "text": [
      "Feature Extraction: 100%|██████████| 20/20 [00:35<00:00,  1.38s/it]\n",
      "Feature Extraction: 100%|██████████| 20/20 [00:06<00:00,  3.50it/s]\n",
      "Feature Extraction: 100%|██████████| 20/20 [00:04<00:00,  5.21it/s]\n",
      "Feature Extraction: 100%|██████████| 20/20 [00:03<00:00,  6.80it/s]\n"
     ]
    },
    {
     "name": "stdout",
     "output_type": "stream",
     "text": [
      "['object_id', 'flux_min', 'flux_max', 'flux_mean', 'flux_median', 'flux_std', 'flux_skew', 'flux_err_min', 'flux_err_max', 'flux_err_mean', 'flux_err_median', 'flux_err_std', 'flux_err_skew', 'detected_mean', 'flux_ratio_sq_sum', 'flux_ratio_sq_skew', 'flux_by_flux_ratio_sq_sum', 'flux_by_flux_ratio_sq_skew', 'flux_w_mean', 'flux_diff1', 'flux_diff2', 'flux_diff3', '0__fft_coefficient__coeff_0__attr_\"abs\"', '0__fft_coefficient__coeff_1__attr_\"abs\"', '0__kurtosis', '0__skewness', '1__fft_coefficient__coeff_0__attr_\"abs\"', '1__fft_coefficient__coeff_1__attr_\"abs\"', '1__kurtosis', '1__skewness', '2__fft_coefficient__coeff_0__attr_\"abs\"', '2__fft_coefficient__coeff_1__attr_\"abs\"', '2__kurtosis', '2__skewness', '3__fft_coefficient__coeff_0__attr_\"abs\"', '3__fft_coefficient__coeff_1__attr_\"abs\"', '3__kurtosis', '3__skewness', '4__fft_coefficient__coeff_0__attr_\"abs\"', '4__fft_coefficient__coeff_1__attr_\"abs\"', '4__kurtosis', '4__skewness', '5__fft_coefficient__coeff_0__attr_\"abs\"', '5__fft_coefficient__coeff_1__attr_\"abs\"', '5__kurtosis', '5__skewness', 'flux__length', 'flux__longest_strike_above_mean', 'flux__longest_strike_below_mean', 'flux__mean_abs_change', 'flux__mean_change', 'flux_by_flux_ratio_sq__longest_strike_above_mean', 'flux_by_flux_ratio_sq__longest_strike_below_mean', 'mjd__mean_abs_change', 'mjd__mean_change', 'mjd_diff_det', 'ra', 'decl', 'gal_l', 'gal_b', 'ddf', 'hostgal_specz', 'hostgal_photoz', 'hostgal_photoz_err', 'distmod', 'mwebv', 'haversine', 'latlon1', 'hostgal_photoz_certain']\n",
      "       45000000 done in  17.1 minutes\n"
     ]
    },
    {
     "name": "stderr",
     "output_type": "stream",
     "text": [
      "Feature Extraction: 100%|██████████| 20/20 [00:34<00:00,  1.48s/it]\n",
      "Feature Extraction: 100%|██████████| 20/20 [00:06<00:00,  3.43it/s]\n",
      "Feature Extraction: 100%|██████████| 20/20 [00:04<00:00,  6.00it/s]\n",
      "Feature Extraction: 100%|██████████| 20/20 [00:03<00:00,  6.86it/s]\n"
     ]
    },
    {
     "name": "stdout",
     "output_type": "stream",
     "text": [
      "['object_id', 'flux_min', 'flux_max', 'flux_mean', 'flux_median', 'flux_std', 'flux_skew', 'flux_err_min', 'flux_err_max', 'flux_err_mean', 'flux_err_median', 'flux_err_std', 'flux_err_skew', 'detected_mean', 'flux_ratio_sq_sum', 'flux_ratio_sq_skew', 'flux_by_flux_ratio_sq_sum', 'flux_by_flux_ratio_sq_skew', 'flux_w_mean', 'flux_diff1', 'flux_diff2', 'flux_diff3', '0__fft_coefficient__coeff_0__attr_\"abs\"', '0__fft_coefficient__coeff_1__attr_\"abs\"', '0__kurtosis', '0__skewness', '1__fft_coefficient__coeff_0__attr_\"abs\"', '1__fft_coefficient__coeff_1__attr_\"abs\"', '1__kurtosis', '1__skewness', '2__fft_coefficient__coeff_0__attr_\"abs\"', '2__fft_coefficient__coeff_1__attr_\"abs\"', '2__kurtosis', '2__skewness', '3__fft_coefficient__coeff_0__attr_\"abs\"', '3__fft_coefficient__coeff_1__attr_\"abs\"', '3__kurtosis', '3__skewness', '4__fft_coefficient__coeff_0__attr_\"abs\"', '4__fft_coefficient__coeff_1__attr_\"abs\"', '4__kurtosis', '4__skewness', '5__fft_coefficient__coeff_0__attr_\"abs\"', '5__fft_coefficient__coeff_1__attr_\"abs\"', '5__kurtosis', '5__skewness', 'flux__length', 'flux__longest_strike_above_mean', 'flux__longest_strike_below_mean', 'flux__mean_abs_change', 'flux__mean_change', 'flux_by_flux_ratio_sq__longest_strike_above_mean', 'flux_by_flux_ratio_sq__longest_strike_below_mean', 'mjd__mean_abs_change', 'mjd__mean_change', 'mjd_diff_det', 'ra', 'decl', 'gal_l', 'gal_b', 'ddf', 'hostgal_specz', 'hostgal_photoz', 'hostgal_photoz_err', 'distmod', 'mwebv', 'haversine', 'latlon1', 'hostgal_photoz_certain']\n",
      "       50000000 done in  19.2 minutes\n"
     ]
    },
    {
     "name": "stderr",
     "output_type": "stream",
     "text": [
      "Feature Extraction: 100%|██████████| 20/20 [00:34<00:00,  1.48s/it]\n",
      "Feature Extraction: 100%|██████████| 20/20 [00:06<00:00,  3.60it/s]\n",
      "Feature Extraction: 100%|██████████| 20/20 [00:04<00:00,  5.25it/s]\n",
      "Feature Extraction: 100%|██████████| 20/20 [00:03<00:00,  6.98it/s]\n"
     ]
    },
    {
     "name": "stdout",
     "output_type": "stream",
     "text": [
      "['object_id', 'flux_min', 'flux_max', 'flux_mean', 'flux_median', 'flux_std', 'flux_skew', 'flux_err_min', 'flux_err_max', 'flux_err_mean', 'flux_err_median', 'flux_err_std', 'flux_err_skew', 'detected_mean', 'flux_ratio_sq_sum', 'flux_ratio_sq_skew', 'flux_by_flux_ratio_sq_sum', 'flux_by_flux_ratio_sq_skew', 'flux_w_mean', 'flux_diff1', 'flux_diff2', 'flux_diff3', '0__fft_coefficient__coeff_0__attr_\"abs\"', '0__fft_coefficient__coeff_1__attr_\"abs\"', '0__kurtosis', '0__skewness', '1__fft_coefficient__coeff_0__attr_\"abs\"', '1__fft_coefficient__coeff_1__attr_\"abs\"', '1__kurtosis', '1__skewness', '2__fft_coefficient__coeff_0__attr_\"abs\"', '2__fft_coefficient__coeff_1__attr_\"abs\"', '2__kurtosis', '2__skewness', '3__fft_coefficient__coeff_0__attr_\"abs\"', '3__fft_coefficient__coeff_1__attr_\"abs\"', '3__kurtosis', '3__skewness', '4__fft_coefficient__coeff_0__attr_\"abs\"', '4__fft_coefficient__coeff_1__attr_\"abs\"', '4__kurtosis', '4__skewness', '5__fft_coefficient__coeff_0__attr_\"abs\"', '5__fft_coefficient__coeff_1__attr_\"abs\"', '5__kurtosis', '5__skewness', 'flux__length', 'flux__longest_strike_above_mean', 'flux__longest_strike_below_mean', 'flux__mean_abs_change', 'flux__mean_change', 'flux_by_flux_ratio_sq__longest_strike_above_mean', 'flux_by_flux_ratio_sq__longest_strike_below_mean', 'mjd__mean_abs_change', 'mjd__mean_change', 'mjd_diff_det', 'ra', 'decl', 'gal_l', 'gal_b', 'ddf', 'hostgal_specz', 'hostgal_photoz', 'hostgal_photoz_err', 'distmod', 'mwebv', 'haversine', 'latlon1', 'hostgal_photoz_certain']\n",
      "       55000000 done in  21.3 minutes\n"
     ]
    },
    {
     "name": "stderr",
     "output_type": "stream",
     "text": [
      "Feature Extraction: 100%|██████████| 20/20 [00:45<00:00,  1.63s/it]\n",
      "Feature Extraction: 100%|██████████| 20/20 [00:07<00:00,  2.93it/s]\n",
      "Feature Extraction: 100%|██████████| 20/20 [00:03<00:00,  5.17it/s]\n",
      "Feature Extraction: 100%|██████████| 20/20 [00:03<00:00,  6.81it/s]\n"
     ]
    },
    {
     "name": "stdout",
     "output_type": "stream",
     "text": [
      "['object_id', 'flux_min', 'flux_max', 'flux_mean', 'flux_median', 'flux_std', 'flux_skew', 'flux_err_min', 'flux_err_max', 'flux_err_mean', 'flux_err_median', 'flux_err_std', 'flux_err_skew', 'detected_mean', 'flux_ratio_sq_sum', 'flux_ratio_sq_skew', 'flux_by_flux_ratio_sq_sum', 'flux_by_flux_ratio_sq_skew', 'flux_w_mean', 'flux_diff1', 'flux_diff2', 'flux_diff3', '0__fft_coefficient__coeff_0__attr_\"abs\"', '0__fft_coefficient__coeff_1__attr_\"abs\"', '0__kurtosis', '0__skewness', '1__fft_coefficient__coeff_0__attr_\"abs\"', '1__fft_coefficient__coeff_1__attr_\"abs\"', '1__kurtosis', '1__skewness', '2__fft_coefficient__coeff_0__attr_\"abs\"', '2__fft_coefficient__coeff_1__attr_\"abs\"', '2__kurtosis', '2__skewness', '3__fft_coefficient__coeff_0__attr_\"abs\"', '3__fft_coefficient__coeff_1__attr_\"abs\"', '3__kurtosis', '3__skewness', '4__fft_coefficient__coeff_0__attr_\"abs\"', '4__fft_coefficient__coeff_1__attr_\"abs\"', '4__kurtosis', '4__skewness', '5__fft_coefficient__coeff_0__attr_\"abs\"', '5__fft_coefficient__coeff_1__attr_\"abs\"', '5__kurtosis', '5__skewness', 'flux__length', 'flux__longest_strike_above_mean', 'flux__longest_strike_below_mean', 'flux__mean_abs_change', 'flux__mean_change', 'flux_by_flux_ratio_sq__longest_strike_above_mean', 'flux_by_flux_ratio_sq__longest_strike_below_mean', 'mjd__mean_abs_change', 'mjd__mean_change', 'mjd_diff_det', 'ra', 'decl', 'gal_l', 'gal_b', 'ddf', 'hostgal_specz', 'hostgal_photoz', 'hostgal_photoz_err', 'distmod', 'mwebv', 'haversine', 'latlon1', 'hostgal_photoz_certain']\n",
      "       60000000 done in  23.7 minutes\n"
     ]
    },
    {
     "name": "stderr",
     "output_type": "stream",
     "text": [
      "Feature Extraction: 100%|██████████| 20/20 [00:34<00:00,  1.52s/it]\n",
      "Feature Extraction: 100%|██████████| 20/20 [00:06<00:00,  3.26it/s]\n",
      "Feature Extraction: 100%|██████████| 20/20 [00:04<00:00,  5.73it/s]\n",
      "Feature Extraction: 100%|██████████| 20/20 [00:03<00:00,  6.18it/s]\n"
     ]
    },
    {
     "name": "stdout",
     "output_type": "stream",
     "text": [
      "['object_id', 'flux_min', 'flux_max', 'flux_mean', 'flux_median', 'flux_std', 'flux_skew', 'flux_err_min', 'flux_err_max', 'flux_err_mean', 'flux_err_median', 'flux_err_std', 'flux_err_skew', 'detected_mean', 'flux_ratio_sq_sum', 'flux_ratio_sq_skew', 'flux_by_flux_ratio_sq_sum', 'flux_by_flux_ratio_sq_skew', 'flux_w_mean', 'flux_diff1', 'flux_diff2', 'flux_diff3', '0__fft_coefficient__coeff_0__attr_\"abs\"', '0__fft_coefficient__coeff_1__attr_\"abs\"', '0__kurtosis', '0__skewness', '1__fft_coefficient__coeff_0__attr_\"abs\"', '1__fft_coefficient__coeff_1__attr_\"abs\"', '1__kurtosis', '1__skewness', '2__fft_coefficient__coeff_0__attr_\"abs\"', '2__fft_coefficient__coeff_1__attr_\"abs\"', '2__kurtosis', '2__skewness', '3__fft_coefficient__coeff_0__attr_\"abs\"', '3__fft_coefficient__coeff_1__attr_\"abs\"', '3__kurtosis', '3__skewness', '4__fft_coefficient__coeff_0__attr_\"abs\"', '4__fft_coefficient__coeff_1__attr_\"abs\"', '4__kurtosis', '4__skewness', '5__fft_coefficient__coeff_0__attr_\"abs\"', '5__fft_coefficient__coeff_1__attr_\"abs\"', '5__kurtosis', '5__skewness', 'flux__length', 'flux__longest_strike_above_mean', 'flux__longest_strike_below_mean', 'flux__mean_abs_change', 'flux__mean_change', 'flux_by_flux_ratio_sq__longest_strike_above_mean', 'flux_by_flux_ratio_sq__longest_strike_below_mean', 'mjd__mean_abs_change', 'mjd__mean_change', 'mjd_diff_det', 'ra', 'decl', 'gal_l', 'gal_b', 'ddf', 'hostgal_specz', 'hostgal_photoz', 'hostgal_photoz_err', 'distmod', 'mwebv', 'haversine', 'latlon1', 'hostgal_photoz_certain']\n",
      "       65000000 done in  25.8 minutes\n"
     ]
    },
    {
     "name": "stderr",
     "output_type": "stream",
     "text": [
      "Feature Extraction: 100%|██████████| 20/20 [00:34<00:00,  1.38s/it]\n",
      "Feature Extraction: 100%|██████████| 20/20 [00:06<00:00,  3.38it/s]\n",
      "Feature Extraction: 100%|██████████| 20/20 [00:04<00:00,  5.89it/s]\n",
      "Feature Extraction: 100%|██████████| 20/20 [00:03<00:00,  6.88it/s]\n"
     ]
    },
    {
     "name": "stdout",
     "output_type": "stream",
     "text": [
      "['object_id', 'flux_min', 'flux_max', 'flux_mean', 'flux_median', 'flux_std', 'flux_skew', 'flux_err_min', 'flux_err_max', 'flux_err_mean', 'flux_err_median', 'flux_err_std', 'flux_err_skew', 'detected_mean', 'flux_ratio_sq_sum', 'flux_ratio_sq_skew', 'flux_by_flux_ratio_sq_sum', 'flux_by_flux_ratio_sq_skew', 'flux_w_mean', 'flux_diff1', 'flux_diff2', 'flux_diff3', '0__fft_coefficient__coeff_0__attr_\"abs\"', '0__fft_coefficient__coeff_1__attr_\"abs\"', '0__kurtosis', '0__skewness', '1__fft_coefficient__coeff_0__attr_\"abs\"', '1__fft_coefficient__coeff_1__attr_\"abs\"', '1__kurtosis', '1__skewness', '2__fft_coefficient__coeff_0__attr_\"abs\"', '2__fft_coefficient__coeff_1__attr_\"abs\"', '2__kurtosis', '2__skewness', '3__fft_coefficient__coeff_0__attr_\"abs\"', '3__fft_coefficient__coeff_1__attr_\"abs\"', '3__kurtosis', '3__skewness', '4__fft_coefficient__coeff_0__attr_\"abs\"', '4__fft_coefficient__coeff_1__attr_\"abs\"', '4__kurtosis', '4__skewness', '5__fft_coefficient__coeff_0__attr_\"abs\"', '5__fft_coefficient__coeff_1__attr_\"abs\"', '5__kurtosis', '5__skewness', 'flux__length', 'flux__longest_strike_above_mean', 'flux__longest_strike_below_mean', 'flux__mean_abs_change', 'flux__mean_change', 'flux_by_flux_ratio_sq__longest_strike_above_mean', 'flux_by_flux_ratio_sq__longest_strike_below_mean', 'mjd__mean_abs_change', 'mjd__mean_change', 'mjd_diff_det', 'ra', 'decl', 'gal_l', 'gal_b', 'ddf', 'hostgal_specz', 'hostgal_photoz', 'hostgal_photoz_err', 'distmod', 'mwebv', 'haversine', 'latlon1', 'hostgal_photoz_certain']\n",
      "       70000000 done in  27.9 minutes\n"
     ]
    },
    {
     "name": "stderr",
     "output_type": "stream",
     "text": [
      "Feature Extraction: 100%|██████████| 20/20 [00:33<00:00,  1.22s/it]\n",
      "Feature Extraction: 100%|██████████| 20/20 [00:06<00:00,  3.42it/s]\n",
      "Feature Extraction: 100%|██████████| 20/20 [00:03<00:00,  5.92it/s]\n",
      "Feature Extraction: 100%|██████████| 20/20 [00:03<00:00,  6.39it/s]\n"
     ]
    },
    {
     "name": "stdout",
     "output_type": "stream",
     "text": [
      "['object_id', 'flux_min', 'flux_max', 'flux_mean', 'flux_median', 'flux_std', 'flux_skew', 'flux_err_min', 'flux_err_max', 'flux_err_mean', 'flux_err_median', 'flux_err_std', 'flux_err_skew', 'detected_mean', 'flux_ratio_sq_sum', 'flux_ratio_sq_skew', 'flux_by_flux_ratio_sq_sum', 'flux_by_flux_ratio_sq_skew', 'flux_w_mean', 'flux_diff1', 'flux_diff2', 'flux_diff3', '0__fft_coefficient__coeff_0__attr_\"abs\"', '0__fft_coefficient__coeff_1__attr_\"abs\"', '0__kurtosis', '0__skewness', '1__fft_coefficient__coeff_0__attr_\"abs\"', '1__fft_coefficient__coeff_1__attr_\"abs\"', '1__kurtosis', '1__skewness', '2__fft_coefficient__coeff_0__attr_\"abs\"', '2__fft_coefficient__coeff_1__attr_\"abs\"', '2__kurtosis', '2__skewness', '3__fft_coefficient__coeff_0__attr_\"abs\"', '3__fft_coefficient__coeff_1__attr_\"abs\"', '3__kurtosis', '3__skewness', '4__fft_coefficient__coeff_0__attr_\"abs\"', '4__fft_coefficient__coeff_1__attr_\"abs\"', '4__kurtosis', '4__skewness', '5__fft_coefficient__coeff_0__attr_\"abs\"', '5__fft_coefficient__coeff_1__attr_\"abs\"', '5__kurtosis', '5__skewness', 'flux__length', 'flux__longest_strike_above_mean', 'flux__longest_strike_below_mean', 'flux__mean_abs_change', 'flux__mean_change', 'flux_by_flux_ratio_sq__longest_strike_above_mean', 'flux_by_flux_ratio_sq__longest_strike_below_mean', 'mjd__mean_abs_change', 'mjd__mean_change', 'mjd_diff_det', 'ra', 'decl', 'gal_l', 'gal_b', 'ddf', 'hostgal_specz', 'hostgal_photoz', 'hostgal_photoz_err', 'distmod', 'mwebv', 'haversine', 'latlon1', 'hostgal_photoz_certain']\n",
      "       75000000 done in  30.0 minutes\n"
     ]
    },
    {
     "name": "stderr",
     "output_type": "stream",
     "text": [
      "Feature Extraction: 100%|██████████| 20/20 [00:34<00:00,  1.49s/it]\n",
      "Feature Extraction: 100%|██████████| 20/20 [00:06<00:00,  2.96it/s]\n",
      "Feature Extraction: 100%|██████████| 20/20 [00:04<00:00,  5.87it/s]\n",
      "Feature Extraction: 100%|██████████| 20/20 [00:03<00:00,  6.30it/s]\n"
     ]
    },
    {
     "name": "stdout",
     "output_type": "stream",
     "text": [
      "['object_id', 'flux_min', 'flux_max', 'flux_mean', 'flux_median', 'flux_std', 'flux_skew', 'flux_err_min', 'flux_err_max', 'flux_err_mean', 'flux_err_median', 'flux_err_std', 'flux_err_skew', 'detected_mean', 'flux_ratio_sq_sum', 'flux_ratio_sq_skew', 'flux_by_flux_ratio_sq_sum', 'flux_by_flux_ratio_sq_skew', 'flux_w_mean', 'flux_diff1', 'flux_diff2', 'flux_diff3', '0__fft_coefficient__coeff_0__attr_\"abs\"', '0__fft_coefficient__coeff_1__attr_\"abs\"', '0__kurtosis', '0__skewness', '1__fft_coefficient__coeff_0__attr_\"abs\"', '1__fft_coefficient__coeff_1__attr_\"abs\"', '1__kurtosis', '1__skewness', '2__fft_coefficient__coeff_0__attr_\"abs\"', '2__fft_coefficient__coeff_1__attr_\"abs\"', '2__kurtosis', '2__skewness', '3__fft_coefficient__coeff_0__attr_\"abs\"', '3__fft_coefficient__coeff_1__attr_\"abs\"', '3__kurtosis', '3__skewness', '4__fft_coefficient__coeff_0__attr_\"abs\"', '4__fft_coefficient__coeff_1__attr_\"abs\"', '4__kurtosis', '4__skewness', '5__fft_coefficient__coeff_0__attr_\"abs\"', '5__fft_coefficient__coeff_1__attr_\"abs\"', '5__kurtosis', '5__skewness', 'flux__length', 'flux__longest_strike_above_mean', 'flux__longest_strike_below_mean', 'flux__mean_abs_change', 'flux__mean_change', 'flux_by_flux_ratio_sq__longest_strike_above_mean', 'flux_by_flux_ratio_sq__longest_strike_below_mean', 'mjd__mean_abs_change', 'mjd__mean_change', 'mjd_diff_det', 'ra', 'decl', 'gal_l', 'gal_b', 'ddf', 'hostgal_specz', 'hostgal_photoz', 'hostgal_photoz_err', 'distmod', 'mwebv', 'haversine', 'latlon1', 'hostgal_photoz_certain']\n",
      "       80000000 done in  32.1 minutes\n"
     ]
    },
    {
     "name": "stderr",
     "output_type": "stream",
     "text": [
      "Feature Extraction: 100%|██████████| 20/20 [00:34<00:00,  1.58s/it]\n",
      "Feature Extraction: 100%|██████████| 20/20 [00:06<00:00,  3.25it/s]\n",
      "Feature Extraction: 100%|██████████| 20/20 [00:04<00:00,  5.45it/s]\n",
      "Feature Extraction: 100%|██████████| 20/20 [00:03<00:00,  6.14it/s]\n"
     ]
    },
    {
     "name": "stdout",
     "output_type": "stream",
     "text": [
      "['object_id', 'flux_min', 'flux_max', 'flux_mean', 'flux_median', 'flux_std', 'flux_skew', 'flux_err_min', 'flux_err_max', 'flux_err_mean', 'flux_err_median', 'flux_err_std', 'flux_err_skew', 'detected_mean', 'flux_ratio_sq_sum', 'flux_ratio_sq_skew', 'flux_by_flux_ratio_sq_sum', 'flux_by_flux_ratio_sq_skew', 'flux_w_mean', 'flux_diff1', 'flux_diff2', 'flux_diff3', '0__fft_coefficient__coeff_0__attr_\"abs\"', '0__fft_coefficient__coeff_1__attr_\"abs\"', '0__kurtosis', '0__skewness', '1__fft_coefficient__coeff_0__attr_\"abs\"', '1__fft_coefficient__coeff_1__attr_\"abs\"', '1__kurtosis', '1__skewness', '2__fft_coefficient__coeff_0__attr_\"abs\"', '2__fft_coefficient__coeff_1__attr_\"abs\"', '2__kurtosis', '2__skewness', '3__fft_coefficient__coeff_0__attr_\"abs\"', '3__fft_coefficient__coeff_1__attr_\"abs\"', '3__kurtosis', '3__skewness', '4__fft_coefficient__coeff_0__attr_\"abs\"', '4__fft_coefficient__coeff_1__attr_\"abs\"', '4__kurtosis', '4__skewness', '5__fft_coefficient__coeff_0__attr_\"abs\"', '5__fft_coefficient__coeff_1__attr_\"abs\"', '5__kurtosis', '5__skewness', 'flux__length', 'flux__longest_strike_above_mean', 'flux__longest_strike_below_mean', 'flux__mean_abs_change', 'flux__mean_change', 'flux_by_flux_ratio_sq__longest_strike_above_mean', 'flux_by_flux_ratio_sq__longest_strike_below_mean', 'mjd__mean_abs_change', 'mjd__mean_change', 'mjd_diff_det', 'ra', 'decl', 'gal_l', 'gal_b', 'ddf', 'hostgal_specz', 'hostgal_photoz', 'hostgal_photoz_err', 'distmod', 'mwebv', 'haversine', 'latlon1', 'hostgal_photoz_certain']\n",
      "       85000000 done in  34.2 minutes\n"
     ]
    },
    {
     "name": "stderr",
     "output_type": "stream",
     "text": [
      "Feature Extraction: 100%|██████████| 20/20 [00:34<00:00,  1.41s/it]\n",
      "Feature Extraction: 100%|██████████| 20/20 [00:06<00:00,  2.80it/s]\n",
      "Feature Extraction: 100%|██████████| 20/20 [00:04<00:00,  5.37it/s]\n",
      "Feature Extraction: 100%|██████████| 20/20 [00:03<00:00,  6.08it/s]\n"
     ]
    },
    {
     "name": "stdout",
     "output_type": "stream",
     "text": [
      "['object_id', 'flux_min', 'flux_max', 'flux_mean', 'flux_median', 'flux_std', 'flux_skew', 'flux_err_min', 'flux_err_max', 'flux_err_mean', 'flux_err_median', 'flux_err_std', 'flux_err_skew', 'detected_mean', 'flux_ratio_sq_sum', 'flux_ratio_sq_skew', 'flux_by_flux_ratio_sq_sum', 'flux_by_flux_ratio_sq_skew', 'flux_w_mean', 'flux_diff1', 'flux_diff2', 'flux_diff3', '0__fft_coefficient__coeff_0__attr_\"abs\"', '0__fft_coefficient__coeff_1__attr_\"abs\"', '0__kurtosis', '0__skewness', '1__fft_coefficient__coeff_0__attr_\"abs\"', '1__fft_coefficient__coeff_1__attr_\"abs\"', '1__kurtosis', '1__skewness', '2__fft_coefficient__coeff_0__attr_\"abs\"', '2__fft_coefficient__coeff_1__attr_\"abs\"', '2__kurtosis', '2__skewness', '3__fft_coefficient__coeff_0__attr_\"abs\"', '3__fft_coefficient__coeff_1__attr_\"abs\"', '3__kurtosis', '3__skewness', '4__fft_coefficient__coeff_0__attr_\"abs\"', '4__fft_coefficient__coeff_1__attr_\"abs\"', '4__kurtosis', '4__skewness', '5__fft_coefficient__coeff_0__attr_\"abs\"', '5__fft_coefficient__coeff_1__attr_\"abs\"', '5__kurtosis', '5__skewness', 'flux__length', 'flux__longest_strike_above_mean', 'flux__longest_strike_below_mean', 'flux__mean_abs_change', 'flux__mean_change', 'flux_by_flux_ratio_sq__longest_strike_above_mean', 'flux_by_flux_ratio_sq__longest_strike_below_mean', 'mjd__mean_abs_change', 'mjd__mean_change', 'mjd_diff_det', 'ra', 'decl', 'gal_l', 'gal_b', 'ddf', 'hostgal_specz', 'hostgal_photoz', 'hostgal_photoz_err', 'distmod', 'mwebv', 'haversine', 'latlon1', 'hostgal_photoz_certain']\n",
      "       90000000 done in  36.3 minutes\n"
     ]
    },
    {
     "name": "stderr",
     "output_type": "stream",
     "text": [
      "Feature Extraction: 100%|██████████| 20/20 [00:34<00:00,  1.59s/it]\n",
      "Feature Extraction: 100%|██████████| 20/20 [00:06<00:00,  3.03it/s]\n",
      "Feature Extraction: 100%|██████████| 20/20 [00:04<00:00,  5.79it/s]\n",
      "Feature Extraction: 100%|██████████| 20/20 [00:03<00:00,  6.40it/s]\n"
     ]
    },
    {
     "name": "stdout",
     "output_type": "stream",
     "text": [
      "['object_id', 'flux_min', 'flux_max', 'flux_mean', 'flux_median', 'flux_std', 'flux_skew', 'flux_err_min', 'flux_err_max', 'flux_err_mean', 'flux_err_median', 'flux_err_std', 'flux_err_skew', 'detected_mean', 'flux_ratio_sq_sum', 'flux_ratio_sq_skew', 'flux_by_flux_ratio_sq_sum', 'flux_by_flux_ratio_sq_skew', 'flux_w_mean', 'flux_diff1', 'flux_diff2', 'flux_diff3', '0__fft_coefficient__coeff_0__attr_\"abs\"', '0__fft_coefficient__coeff_1__attr_\"abs\"', '0__kurtosis', '0__skewness', '1__fft_coefficient__coeff_0__attr_\"abs\"', '1__fft_coefficient__coeff_1__attr_\"abs\"', '1__kurtosis', '1__skewness', '2__fft_coefficient__coeff_0__attr_\"abs\"', '2__fft_coefficient__coeff_1__attr_\"abs\"', '2__kurtosis', '2__skewness', '3__fft_coefficient__coeff_0__attr_\"abs\"', '3__fft_coefficient__coeff_1__attr_\"abs\"', '3__kurtosis', '3__skewness', '4__fft_coefficient__coeff_0__attr_\"abs\"', '4__fft_coefficient__coeff_1__attr_\"abs\"', '4__kurtosis', '4__skewness', '5__fft_coefficient__coeff_0__attr_\"abs\"', '5__fft_coefficient__coeff_1__attr_\"abs\"', '5__kurtosis', '5__skewness', 'flux__length', 'flux__longest_strike_above_mean', 'flux__longest_strike_below_mean', 'flux__mean_abs_change', 'flux__mean_change', 'flux_by_flux_ratio_sq__longest_strike_above_mean', 'flux_by_flux_ratio_sq__longest_strike_below_mean', 'mjd__mean_abs_change', 'mjd__mean_change', 'mjd_diff_det', 'ra', 'decl', 'gal_l', 'gal_b', 'ddf', 'hostgal_specz', 'hostgal_photoz', 'hostgal_photoz_err', 'distmod', 'mwebv', 'haversine', 'latlon1', 'hostgal_photoz_certain']\n",
      "       95000000 done in  38.4 minutes\n"
     ]
    },
    {
     "name": "stderr",
     "output_type": "stream",
     "text": [
      "Feature Extraction: 100%|██████████| 20/20 [00:34<00:00,  1.52s/it]\n",
      "Feature Extraction: 100%|██████████| 20/20 [00:06<00:00,  3.41it/s]\n",
      "Feature Extraction: 100%|██████████| 20/20 [00:04<00:00,  5.90it/s]\n",
      "Feature Extraction: 100%|██████████| 20/20 [00:03<00:00,  7.35it/s]\n"
     ]
    },
    {
     "name": "stdout",
     "output_type": "stream",
     "text": [
      "['object_id', 'flux_min', 'flux_max', 'flux_mean', 'flux_median', 'flux_std', 'flux_skew', 'flux_err_min', 'flux_err_max', 'flux_err_mean', 'flux_err_median', 'flux_err_std', 'flux_err_skew', 'detected_mean', 'flux_ratio_sq_sum', 'flux_ratio_sq_skew', 'flux_by_flux_ratio_sq_sum', 'flux_by_flux_ratio_sq_skew', 'flux_w_mean', 'flux_diff1', 'flux_diff2', 'flux_diff3', '0__fft_coefficient__coeff_0__attr_\"abs\"', '0__fft_coefficient__coeff_1__attr_\"abs\"', '0__kurtosis', '0__skewness', '1__fft_coefficient__coeff_0__attr_\"abs\"', '1__fft_coefficient__coeff_1__attr_\"abs\"', '1__kurtosis', '1__skewness', '2__fft_coefficient__coeff_0__attr_\"abs\"', '2__fft_coefficient__coeff_1__attr_\"abs\"', '2__kurtosis', '2__skewness', '3__fft_coefficient__coeff_0__attr_\"abs\"', '3__fft_coefficient__coeff_1__attr_\"abs\"', '3__kurtosis', '3__skewness', '4__fft_coefficient__coeff_0__attr_\"abs\"', '4__fft_coefficient__coeff_1__attr_\"abs\"', '4__kurtosis', '4__skewness', '5__fft_coefficient__coeff_0__attr_\"abs\"', '5__fft_coefficient__coeff_1__attr_\"abs\"', '5__kurtosis', '5__skewness', 'flux__length', 'flux__longest_strike_above_mean', 'flux__longest_strike_below_mean', 'flux__mean_abs_change', 'flux__mean_change', 'flux_by_flux_ratio_sq__longest_strike_above_mean', 'flux_by_flux_ratio_sq__longest_strike_below_mean', 'mjd__mean_abs_change', 'mjd__mean_change', 'mjd_diff_det', 'ra', 'decl', 'gal_l', 'gal_b', 'ddf', 'hostgal_specz', 'hostgal_photoz', 'hostgal_photoz_err', 'distmod', 'mwebv', 'haversine', 'latlon1', 'hostgal_photoz_certain']\n",
      "      100000000 done in  40.5 minutes\n"
     ]
    },
    {
     "name": "stderr",
     "output_type": "stream",
     "text": [
      "Feature Extraction: 100%|██████████| 20/20 [00:34<00:00,  1.35s/it]\n",
      "Feature Extraction: 100%|██████████| 20/20 [00:06<00:00,  3.34it/s]\n",
      "Feature Extraction: 100%|██████████| 20/20 [00:04<00:00,  5.89it/s]\n",
      "Feature Extraction: 100%|██████████| 20/20 [00:03<00:00,  6.85it/s]\n"
     ]
    },
    {
     "name": "stdout",
     "output_type": "stream",
     "text": [
      "['object_id', 'flux_min', 'flux_max', 'flux_mean', 'flux_median', 'flux_std', 'flux_skew', 'flux_err_min', 'flux_err_max', 'flux_err_mean', 'flux_err_median', 'flux_err_std', 'flux_err_skew', 'detected_mean', 'flux_ratio_sq_sum', 'flux_ratio_sq_skew', 'flux_by_flux_ratio_sq_sum', 'flux_by_flux_ratio_sq_skew', 'flux_w_mean', 'flux_diff1', 'flux_diff2', 'flux_diff3', '0__fft_coefficient__coeff_0__attr_\"abs\"', '0__fft_coefficient__coeff_1__attr_\"abs\"', '0__kurtosis', '0__skewness', '1__fft_coefficient__coeff_0__attr_\"abs\"', '1__fft_coefficient__coeff_1__attr_\"abs\"', '1__kurtosis', '1__skewness', '2__fft_coefficient__coeff_0__attr_\"abs\"', '2__fft_coefficient__coeff_1__attr_\"abs\"', '2__kurtosis', '2__skewness', '3__fft_coefficient__coeff_0__attr_\"abs\"', '3__fft_coefficient__coeff_1__attr_\"abs\"', '3__kurtosis', '3__skewness', '4__fft_coefficient__coeff_0__attr_\"abs\"', '4__fft_coefficient__coeff_1__attr_\"abs\"', '4__kurtosis', '4__skewness', '5__fft_coefficient__coeff_0__attr_\"abs\"', '5__fft_coefficient__coeff_1__attr_\"abs\"', '5__kurtosis', '5__skewness', 'flux__length', 'flux__longest_strike_above_mean', 'flux__longest_strike_below_mean', 'flux__mean_abs_change', 'flux__mean_change', 'flux_by_flux_ratio_sq__longest_strike_above_mean', 'flux_by_flux_ratio_sq__longest_strike_below_mean', 'mjd__mean_abs_change', 'mjd__mean_change', 'mjd_diff_det', 'ra', 'decl', 'gal_l', 'gal_b', 'ddf', 'hostgal_specz', 'hostgal_photoz', 'hostgal_photoz_err', 'distmod', 'mwebv', 'haversine', 'latlon1', 'hostgal_photoz_certain']\n",
      "      105000000 done in  42.6 minutes\n"
     ]
    },
    {
     "name": "stderr",
     "output_type": "stream",
     "text": [
      "Feature Extraction: 100%|██████████| 20/20 [00:34<00:00,  1.41s/it]\n",
      "Feature Extraction: 100%|██████████| 20/20 [00:07<00:00,  2.43it/s]\n",
      "Feature Extraction: 100%|██████████| 20/20 [00:04<00:00,  6.45it/s]\n",
      "Feature Extraction: 100%|██████████| 20/20 [00:03<00:00,  6.60it/s]\n"
     ]
    },
    {
     "name": "stdout",
     "output_type": "stream",
     "text": [
      "['object_id', 'flux_min', 'flux_max', 'flux_mean', 'flux_median', 'flux_std', 'flux_skew', 'flux_err_min', 'flux_err_max', 'flux_err_mean', 'flux_err_median', 'flux_err_std', 'flux_err_skew', 'detected_mean', 'flux_ratio_sq_sum', 'flux_ratio_sq_skew', 'flux_by_flux_ratio_sq_sum', 'flux_by_flux_ratio_sq_skew', 'flux_w_mean', 'flux_diff1', 'flux_diff2', 'flux_diff3', '0__fft_coefficient__coeff_0__attr_\"abs\"', '0__fft_coefficient__coeff_1__attr_\"abs\"', '0__kurtosis', '0__skewness', '1__fft_coefficient__coeff_0__attr_\"abs\"', '1__fft_coefficient__coeff_1__attr_\"abs\"', '1__kurtosis', '1__skewness', '2__fft_coefficient__coeff_0__attr_\"abs\"', '2__fft_coefficient__coeff_1__attr_\"abs\"', '2__kurtosis', '2__skewness', '3__fft_coefficient__coeff_0__attr_\"abs\"', '3__fft_coefficient__coeff_1__attr_\"abs\"', '3__kurtosis', '3__skewness', '4__fft_coefficient__coeff_0__attr_\"abs\"', '4__fft_coefficient__coeff_1__attr_\"abs\"', '4__kurtosis', '4__skewness', '5__fft_coefficient__coeff_0__attr_\"abs\"', '5__fft_coefficient__coeff_1__attr_\"abs\"', '5__kurtosis', '5__skewness', 'flux__length', 'flux__longest_strike_above_mean', 'flux__longest_strike_below_mean', 'flux__mean_abs_change', 'flux__mean_change', 'flux_by_flux_ratio_sq__longest_strike_above_mean', 'flux_by_flux_ratio_sq__longest_strike_below_mean', 'mjd__mean_abs_change', 'mjd__mean_change', 'mjd_diff_det', 'ra', 'decl', 'gal_l', 'gal_b', 'ddf', 'hostgal_specz', 'hostgal_photoz', 'hostgal_photoz_err', 'distmod', 'mwebv', 'haversine', 'latlon1', 'hostgal_photoz_certain']\n",
      "      110000000 done in  44.7 minutes\n"
     ]
    },
    {
     "name": "stderr",
     "output_type": "stream",
     "text": [
      "Feature Extraction: 100%|██████████| 20/20 [00:34<00:00,  1.40s/it]\n",
      "Feature Extraction: 100%|██████████| 20/20 [00:06<00:00,  3.80it/s]\n",
      "Feature Extraction: 100%|██████████| 20/20 [00:04<00:00,  5.46it/s]\n",
      "Feature Extraction: 100%|██████████| 20/20 [00:03<00:00,  7.00it/s]\n"
     ]
    },
    {
     "name": "stdout",
     "output_type": "stream",
     "text": [
      "['object_id', 'flux_min', 'flux_max', 'flux_mean', 'flux_median', 'flux_std', 'flux_skew', 'flux_err_min', 'flux_err_max', 'flux_err_mean', 'flux_err_median', 'flux_err_std', 'flux_err_skew', 'detected_mean', 'flux_ratio_sq_sum', 'flux_ratio_sq_skew', 'flux_by_flux_ratio_sq_sum', 'flux_by_flux_ratio_sq_skew', 'flux_w_mean', 'flux_diff1', 'flux_diff2', 'flux_diff3', '0__fft_coefficient__coeff_0__attr_\"abs\"', '0__fft_coefficient__coeff_1__attr_\"abs\"', '0__kurtosis', '0__skewness', '1__fft_coefficient__coeff_0__attr_\"abs\"', '1__fft_coefficient__coeff_1__attr_\"abs\"', '1__kurtosis', '1__skewness', '2__fft_coefficient__coeff_0__attr_\"abs\"', '2__fft_coefficient__coeff_1__attr_\"abs\"', '2__kurtosis', '2__skewness', '3__fft_coefficient__coeff_0__attr_\"abs\"', '3__fft_coefficient__coeff_1__attr_\"abs\"', '3__kurtosis', '3__skewness', '4__fft_coefficient__coeff_0__attr_\"abs\"', '4__fft_coefficient__coeff_1__attr_\"abs\"', '4__kurtosis', '4__skewness', '5__fft_coefficient__coeff_0__attr_\"abs\"', '5__fft_coefficient__coeff_1__attr_\"abs\"', '5__kurtosis', '5__skewness', 'flux__length', 'flux__longest_strike_above_mean', 'flux__longest_strike_below_mean', 'flux__mean_abs_change', 'flux__mean_change', 'flux_by_flux_ratio_sq__longest_strike_above_mean', 'flux_by_flux_ratio_sq__longest_strike_below_mean', 'mjd__mean_abs_change', 'mjd__mean_change', 'mjd_diff_det', 'ra', 'decl', 'gal_l', 'gal_b', 'ddf', 'hostgal_specz', 'hostgal_photoz', 'hostgal_photoz_err', 'distmod', 'mwebv', 'haversine', 'latlon1', 'hostgal_photoz_certain']\n",
      "      115000000 done in  46.8 minutes\n"
     ]
    },
    {
     "name": "stderr",
     "output_type": "stream",
     "text": [
      "Feature Extraction: 100%|██████████| 20/20 [00:35<00:00,  1.63s/it]\n",
      "Feature Extraction: 100%|██████████| 20/20 [00:06<00:00,  3.34it/s]\n",
      "Feature Extraction: 100%|██████████| 20/20 [00:04<00:00,  4.98it/s]\n",
      "Feature Extraction: 100%|██████████| 20/20 [00:03<00:00,  6.93it/s]\n"
     ]
    },
    {
     "name": "stdout",
     "output_type": "stream",
     "text": [
      "['object_id', 'flux_min', 'flux_max', 'flux_mean', 'flux_median', 'flux_std', 'flux_skew', 'flux_err_min', 'flux_err_max', 'flux_err_mean', 'flux_err_median', 'flux_err_std', 'flux_err_skew', 'detected_mean', 'flux_ratio_sq_sum', 'flux_ratio_sq_skew', 'flux_by_flux_ratio_sq_sum', 'flux_by_flux_ratio_sq_skew', 'flux_w_mean', 'flux_diff1', 'flux_diff2', 'flux_diff3', '0__fft_coefficient__coeff_0__attr_\"abs\"', '0__fft_coefficient__coeff_1__attr_\"abs\"', '0__kurtosis', '0__skewness', '1__fft_coefficient__coeff_0__attr_\"abs\"', '1__fft_coefficient__coeff_1__attr_\"abs\"', '1__kurtosis', '1__skewness', '2__fft_coefficient__coeff_0__attr_\"abs\"', '2__fft_coefficient__coeff_1__attr_\"abs\"', '2__kurtosis', '2__skewness', '3__fft_coefficient__coeff_0__attr_\"abs\"', '3__fft_coefficient__coeff_1__attr_\"abs\"', '3__kurtosis', '3__skewness', '4__fft_coefficient__coeff_0__attr_\"abs\"', '4__fft_coefficient__coeff_1__attr_\"abs\"', '4__kurtosis', '4__skewness', '5__fft_coefficient__coeff_0__attr_\"abs\"', '5__fft_coefficient__coeff_1__attr_\"abs\"', '5__kurtosis', '5__skewness', 'flux__length', 'flux__longest_strike_above_mean', 'flux__longest_strike_below_mean', 'flux__mean_abs_change', 'flux__mean_change', 'flux_by_flux_ratio_sq__longest_strike_above_mean', 'flux_by_flux_ratio_sq__longest_strike_below_mean', 'mjd__mean_abs_change', 'mjd__mean_change', 'mjd_diff_det', 'ra', 'decl', 'gal_l', 'gal_b', 'ddf', 'hostgal_specz', 'hostgal_photoz', 'hostgal_photoz_err', 'distmod', 'mwebv', 'haversine', 'latlon1', 'hostgal_photoz_certain']\n",
      "      120000000 done in  49.0 minutes\n"
     ]
    },
    {
     "name": "stderr",
     "output_type": "stream",
     "text": [
      "Feature Extraction: 100%|██████████| 20/20 [00:34<00:00,  1.45s/it]\n",
      "Feature Extraction: 100%|██████████| 20/20 [00:06<00:00,  3.50it/s]\n",
      "Feature Extraction: 100%|██████████| 20/20 [00:04<00:00,  6.33it/s]\n",
      "Feature Extraction: 100%|██████████| 20/20 [00:03<00:00,  6.78it/s]\n"
     ]
    },
    {
     "name": "stdout",
     "output_type": "stream",
     "text": [
      "['object_id', 'flux_min', 'flux_max', 'flux_mean', 'flux_median', 'flux_std', 'flux_skew', 'flux_err_min', 'flux_err_max', 'flux_err_mean', 'flux_err_median', 'flux_err_std', 'flux_err_skew', 'detected_mean', 'flux_ratio_sq_sum', 'flux_ratio_sq_skew', 'flux_by_flux_ratio_sq_sum', 'flux_by_flux_ratio_sq_skew', 'flux_w_mean', 'flux_diff1', 'flux_diff2', 'flux_diff3', '0__fft_coefficient__coeff_0__attr_\"abs\"', '0__fft_coefficient__coeff_1__attr_\"abs\"', '0__kurtosis', '0__skewness', '1__fft_coefficient__coeff_0__attr_\"abs\"', '1__fft_coefficient__coeff_1__attr_\"abs\"', '1__kurtosis', '1__skewness', '2__fft_coefficient__coeff_0__attr_\"abs\"', '2__fft_coefficient__coeff_1__attr_\"abs\"', '2__kurtosis', '2__skewness', '3__fft_coefficient__coeff_0__attr_\"abs\"', '3__fft_coefficient__coeff_1__attr_\"abs\"', '3__kurtosis', '3__skewness', '4__fft_coefficient__coeff_0__attr_\"abs\"', '4__fft_coefficient__coeff_1__attr_\"abs\"', '4__kurtosis', '4__skewness', '5__fft_coefficient__coeff_0__attr_\"abs\"', '5__fft_coefficient__coeff_1__attr_\"abs\"', '5__kurtosis', '5__skewness', 'flux__length', 'flux__longest_strike_above_mean', 'flux__longest_strike_below_mean', 'flux__mean_abs_change', 'flux__mean_change', 'flux_by_flux_ratio_sq__longest_strike_above_mean', 'flux_by_flux_ratio_sq__longest_strike_below_mean', 'mjd__mean_abs_change', 'mjd__mean_change', 'mjd_diff_det', 'ra', 'decl', 'gal_l', 'gal_b', 'ddf', 'hostgal_specz', 'hostgal_photoz', 'hostgal_photoz_err', 'distmod', 'mwebv', 'haversine', 'latlon1', 'hostgal_photoz_certain']\n",
      "      125000000 done in  51.1 minutes\n"
     ]
    },
    {
     "name": "stderr",
     "output_type": "stream",
     "text": [
      "Feature Extraction: 100%|██████████| 20/20 [00:34<00:00,  1.36s/it]\n",
      "Feature Extraction: 100%|██████████| 20/20 [00:06<00:00,  4.02it/s]\n",
      "Feature Extraction: 100%|██████████| 20/20 [00:03<00:00,  5.37it/s]\n",
      "Feature Extraction: 100%|██████████| 20/20 [00:03<00:00,  6.73it/s]\n"
     ]
    },
    {
     "name": "stdout",
     "output_type": "stream",
     "text": [
      "['object_id', 'flux_min', 'flux_max', 'flux_mean', 'flux_median', 'flux_std', 'flux_skew', 'flux_err_min', 'flux_err_max', 'flux_err_mean', 'flux_err_median', 'flux_err_std', 'flux_err_skew', 'detected_mean', 'flux_ratio_sq_sum', 'flux_ratio_sq_skew', 'flux_by_flux_ratio_sq_sum', 'flux_by_flux_ratio_sq_skew', 'flux_w_mean', 'flux_diff1', 'flux_diff2', 'flux_diff3', '0__fft_coefficient__coeff_0__attr_\"abs\"', '0__fft_coefficient__coeff_1__attr_\"abs\"', '0__kurtosis', '0__skewness', '1__fft_coefficient__coeff_0__attr_\"abs\"', '1__fft_coefficient__coeff_1__attr_\"abs\"', '1__kurtosis', '1__skewness', '2__fft_coefficient__coeff_0__attr_\"abs\"', '2__fft_coefficient__coeff_1__attr_\"abs\"', '2__kurtosis', '2__skewness', '3__fft_coefficient__coeff_0__attr_\"abs\"', '3__fft_coefficient__coeff_1__attr_\"abs\"', '3__kurtosis', '3__skewness', '4__fft_coefficient__coeff_0__attr_\"abs\"', '4__fft_coefficient__coeff_1__attr_\"abs\"', '4__kurtosis', '4__skewness', '5__fft_coefficient__coeff_0__attr_\"abs\"', '5__fft_coefficient__coeff_1__attr_\"abs\"', '5__kurtosis', '5__skewness', 'flux__length', 'flux__longest_strike_above_mean', 'flux__longest_strike_below_mean', 'flux__mean_abs_change', 'flux__mean_change', 'flux_by_flux_ratio_sq__longest_strike_above_mean', 'flux_by_flux_ratio_sq__longest_strike_below_mean', 'mjd__mean_abs_change', 'mjd__mean_change', 'mjd_diff_det', 'ra', 'decl', 'gal_l', 'gal_b', 'ddf', 'hostgal_specz', 'hostgal_photoz', 'hostgal_photoz_err', 'distmod', 'mwebv', 'haversine', 'latlon1', 'hostgal_photoz_certain']\n",
      "      130000000 done in  53.2 minutes\n"
     ]
    },
    {
     "name": "stderr",
     "output_type": "stream",
     "text": [
      "Feature Extraction: 100%|██████████| 20/20 [00:34<00:00,  1.42s/it]\n",
      "Feature Extraction: 100%|██████████| 20/20 [00:06<00:00,  3.63it/s]\n",
      "Feature Extraction: 100%|██████████| 20/20 [00:04<00:00,  5.23it/s]\n",
      "Feature Extraction: 100%|██████████| 20/20 [00:03<00:00,  6.68it/s]\n"
     ]
    },
    {
     "name": "stdout",
     "output_type": "stream",
     "text": [
      "['object_id', 'flux_min', 'flux_max', 'flux_mean', 'flux_median', 'flux_std', 'flux_skew', 'flux_err_min', 'flux_err_max', 'flux_err_mean', 'flux_err_median', 'flux_err_std', 'flux_err_skew', 'detected_mean', 'flux_ratio_sq_sum', 'flux_ratio_sq_skew', 'flux_by_flux_ratio_sq_sum', 'flux_by_flux_ratio_sq_skew', 'flux_w_mean', 'flux_diff1', 'flux_diff2', 'flux_diff3', '0__fft_coefficient__coeff_0__attr_\"abs\"', '0__fft_coefficient__coeff_1__attr_\"abs\"', '0__kurtosis', '0__skewness', '1__fft_coefficient__coeff_0__attr_\"abs\"', '1__fft_coefficient__coeff_1__attr_\"abs\"', '1__kurtosis', '1__skewness', '2__fft_coefficient__coeff_0__attr_\"abs\"', '2__fft_coefficient__coeff_1__attr_\"abs\"', '2__kurtosis', '2__skewness', '3__fft_coefficient__coeff_0__attr_\"abs\"', '3__fft_coefficient__coeff_1__attr_\"abs\"', '3__kurtosis', '3__skewness', '4__fft_coefficient__coeff_0__attr_\"abs\"', '4__fft_coefficient__coeff_1__attr_\"abs\"', '4__kurtosis', '4__skewness', '5__fft_coefficient__coeff_0__attr_\"abs\"', '5__fft_coefficient__coeff_1__attr_\"abs\"', '5__kurtosis', '5__skewness', 'flux__length', 'flux__longest_strike_above_mean', 'flux__longest_strike_below_mean', 'flux__mean_abs_change', 'flux__mean_change', 'flux_by_flux_ratio_sq__longest_strike_above_mean', 'flux_by_flux_ratio_sq__longest_strike_below_mean', 'mjd__mean_abs_change', 'mjd__mean_change', 'mjd_diff_det', 'ra', 'decl', 'gal_l', 'gal_b', 'ddf', 'hostgal_specz', 'hostgal_photoz', 'hostgal_photoz_err', 'distmod', 'mwebv', 'haversine', 'latlon1', 'hostgal_photoz_certain']\n",
      "      135000000 done in  55.3 minutes\n"
     ]
    },
    {
     "name": "stderr",
     "output_type": "stream",
     "text": [
      "Feature Extraction: 100%|██████████| 20/20 [00:33<00:00,  1.25s/it]\n",
      "Feature Extraction: 100%|██████████| 20/20 [00:06<00:00,  2.93it/s]\n",
      "Feature Extraction: 100%|██████████| 20/20 [00:04<00:00,  5.49it/s]\n",
      "Feature Extraction: 100%|██████████| 20/20 [00:03<00:00,  6.27it/s]\n"
     ]
    },
    {
     "name": "stdout",
     "output_type": "stream",
     "text": [
      "['object_id', 'flux_min', 'flux_max', 'flux_mean', 'flux_median', 'flux_std', 'flux_skew', 'flux_err_min', 'flux_err_max', 'flux_err_mean', 'flux_err_median', 'flux_err_std', 'flux_err_skew', 'detected_mean', 'flux_ratio_sq_sum', 'flux_ratio_sq_skew', 'flux_by_flux_ratio_sq_sum', 'flux_by_flux_ratio_sq_skew', 'flux_w_mean', 'flux_diff1', 'flux_diff2', 'flux_diff3', '0__fft_coefficient__coeff_0__attr_\"abs\"', '0__fft_coefficient__coeff_1__attr_\"abs\"', '0__kurtosis', '0__skewness', '1__fft_coefficient__coeff_0__attr_\"abs\"', '1__fft_coefficient__coeff_1__attr_\"abs\"', '1__kurtosis', '1__skewness', '2__fft_coefficient__coeff_0__attr_\"abs\"', '2__fft_coefficient__coeff_1__attr_\"abs\"', '2__kurtosis', '2__skewness', '3__fft_coefficient__coeff_0__attr_\"abs\"', '3__fft_coefficient__coeff_1__attr_\"abs\"', '3__kurtosis', '3__skewness', '4__fft_coefficient__coeff_0__attr_\"abs\"', '4__fft_coefficient__coeff_1__attr_\"abs\"', '4__kurtosis', '4__skewness', '5__fft_coefficient__coeff_0__attr_\"abs\"', '5__fft_coefficient__coeff_1__attr_\"abs\"', '5__kurtosis', '5__skewness', 'flux__length', 'flux__longest_strike_above_mean', 'flux__longest_strike_below_mean', 'flux__mean_abs_change', 'flux__mean_change', 'flux_by_flux_ratio_sq__longest_strike_above_mean', 'flux_by_flux_ratio_sq__longest_strike_below_mean', 'mjd__mean_abs_change', 'mjd__mean_change', 'mjd_diff_det', 'ra', 'decl', 'gal_l', 'gal_b', 'ddf', 'hostgal_specz', 'hostgal_photoz', 'hostgal_photoz_err', 'distmod', 'mwebv', 'haversine', 'latlon1', 'hostgal_photoz_certain']\n",
      "      140000000 done in  57.4 minutes\n"
     ]
    },
    {
     "name": "stderr",
     "output_type": "stream",
     "text": [
      "Feature Extraction: 100%|██████████| 20/20 [00:34<00:00,  1.53s/it]\n",
      "Feature Extraction: 100%|██████████| 20/20 [00:06<00:00,  3.53it/s]\n",
      "Feature Extraction: 100%|██████████| 20/20 [00:04<00:00,  5.51it/s]\n",
      "Feature Extraction: 100%|██████████| 20/20 [00:03<00:00,  7.35it/s]\n"
     ]
    },
    {
     "name": "stdout",
     "output_type": "stream",
     "text": [
      "['object_id', 'flux_min', 'flux_max', 'flux_mean', 'flux_median', 'flux_std', 'flux_skew', 'flux_err_min', 'flux_err_max', 'flux_err_mean', 'flux_err_median', 'flux_err_std', 'flux_err_skew', 'detected_mean', 'flux_ratio_sq_sum', 'flux_ratio_sq_skew', 'flux_by_flux_ratio_sq_sum', 'flux_by_flux_ratio_sq_skew', 'flux_w_mean', 'flux_diff1', 'flux_diff2', 'flux_diff3', '0__fft_coefficient__coeff_0__attr_\"abs\"', '0__fft_coefficient__coeff_1__attr_\"abs\"', '0__kurtosis', '0__skewness', '1__fft_coefficient__coeff_0__attr_\"abs\"', '1__fft_coefficient__coeff_1__attr_\"abs\"', '1__kurtosis', '1__skewness', '2__fft_coefficient__coeff_0__attr_\"abs\"', '2__fft_coefficient__coeff_1__attr_\"abs\"', '2__kurtosis', '2__skewness', '3__fft_coefficient__coeff_0__attr_\"abs\"', '3__fft_coefficient__coeff_1__attr_\"abs\"', '3__kurtosis', '3__skewness', '4__fft_coefficient__coeff_0__attr_\"abs\"', '4__fft_coefficient__coeff_1__attr_\"abs\"', '4__kurtosis', '4__skewness', '5__fft_coefficient__coeff_0__attr_\"abs\"', '5__fft_coefficient__coeff_1__attr_\"abs\"', '5__kurtosis', '5__skewness', 'flux__length', 'flux__longest_strike_above_mean', 'flux__longest_strike_below_mean', 'flux__mean_abs_change', 'flux__mean_change', 'flux_by_flux_ratio_sq__longest_strike_above_mean', 'flux_by_flux_ratio_sq__longest_strike_below_mean', 'mjd__mean_abs_change', 'mjd__mean_change', 'mjd_diff_det', 'ra', 'decl', 'gal_l', 'gal_b', 'ddf', 'hostgal_specz', 'hostgal_photoz', 'hostgal_photoz_err', 'distmod', 'mwebv', 'haversine', 'latlon1', 'hostgal_photoz_certain']\n",
      "      145000000 done in  59.5 minutes\n"
     ]
    },
    {
     "name": "stderr",
     "output_type": "stream",
     "text": [
      "Feature Extraction: 100%|██████████| 20/20 [00:33<00:00,  1.27s/it]\n",
      "Feature Extraction: 100%|██████████| 20/20 [00:06<00:00,  3.98it/s]\n",
      "Feature Extraction: 100%|██████████| 20/20 [00:04<00:00,  4.90it/s]\n",
      "Feature Extraction: 100%|██████████| 20/20 [00:03<00:00,  7.29it/s]\n"
     ]
    },
    {
     "name": "stdout",
     "output_type": "stream",
     "text": [
      "['object_id', 'flux_min', 'flux_max', 'flux_mean', 'flux_median', 'flux_std', 'flux_skew', 'flux_err_min', 'flux_err_max', 'flux_err_mean', 'flux_err_median', 'flux_err_std', 'flux_err_skew', 'detected_mean', 'flux_ratio_sq_sum', 'flux_ratio_sq_skew', 'flux_by_flux_ratio_sq_sum', 'flux_by_flux_ratio_sq_skew', 'flux_w_mean', 'flux_diff1', 'flux_diff2', 'flux_diff3', '0__fft_coefficient__coeff_0__attr_\"abs\"', '0__fft_coefficient__coeff_1__attr_\"abs\"', '0__kurtosis', '0__skewness', '1__fft_coefficient__coeff_0__attr_\"abs\"', '1__fft_coefficient__coeff_1__attr_\"abs\"', '1__kurtosis', '1__skewness', '2__fft_coefficient__coeff_0__attr_\"abs\"', '2__fft_coefficient__coeff_1__attr_\"abs\"', '2__kurtosis', '2__skewness', '3__fft_coefficient__coeff_0__attr_\"abs\"', '3__fft_coefficient__coeff_1__attr_\"abs\"', '3__kurtosis', '3__skewness', '4__fft_coefficient__coeff_0__attr_\"abs\"', '4__fft_coefficient__coeff_1__attr_\"abs\"', '4__kurtosis', '4__skewness', '5__fft_coefficient__coeff_0__attr_\"abs\"', '5__fft_coefficient__coeff_1__attr_\"abs\"', '5__kurtosis', '5__skewness', 'flux__length', 'flux__longest_strike_above_mean', 'flux__longest_strike_below_mean', 'flux__mean_abs_change', 'flux__mean_change', 'flux_by_flux_ratio_sq__longest_strike_above_mean', 'flux_by_flux_ratio_sq__longest_strike_below_mean', 'mjd__mean_abs_change', 'mjd__mean_change', 'mjd_diff_det', 'ra', 'decl', 'gal_l', 'gal_b', 'ddf', 'hostgal_specz', 'hostgal_photoz', 'hostgal_photoz_err', 'distmod', 'mwebv', 'haversine', 'latlon1', 'hostgal_photoz_certain']\n",
      "      150000000 done in  61.6 minutes\n"
     ]
    },
    {
     "name": "stderr",
     "output_type": "stream",
     "text": [
      "Feature Extraction: 100%|██████████| 20/20 [00:35<00:00,  1.59s/it]\n",
      "Feature Extraction: 100%|██████████| 20/20 [00:06<00:00,  3.29it/s]\n",
      "Feature Extraction: 100%|██████████| 20/20 [00:04<00:00,  5.68it/s]\n",
      "Feature Extraction: 100%|██████████| 20/20 [00:03<00:00,  6.73it/s]\n"
     ]
    },
    {
     "name": "stdout",
     "output_type": "stream",
     "text": [
      "['object_id', 'flux_min', 'flux_max', 'flux_mean', 'flux_median', 'flux_std', 'flux_skew', 'flux_err_min', 'flux_err_max', 'flux_err_mean', 'flux_err_median', 'flux_err_std', 'flux_err_skew', 'detected_mean', 'flux_ratio_sq_sum', 'flux_ratio_sq_skew', 'flux_by_flux_ratio_sq_sum', 'flux_by_flux_ratio_sq_skew', 'flux_w_mean', 'flux_diff1', 'flux_diff2', 'flux_diff3', '0__fft_coefficient__coeff_0__attr_\"abs\"', '0__fft_coefficient__coeff_1__attr_\"abs\"', '0__kurtosis', '0__skewness', '1__fft_coefficient__coeff_0__attr_\"abs\"', '1__fft_coefficient__coeff_1__attr_\"abs\"', '1__kurtosis', '1__skewness', '2__fft_coefficient__coeff_0__attr_\"abs\"', '2__fft_coefficient__coeff_1__attr_\"abs\"', '2__kurtosis', '2__skewness', '3__fft_coefficient__coeff_0__attr_\"abs\"', '3__fft_coefficient__coeff_1__attr_\"abs\"', '3__kurtosis', '3__skewness', '4__fft_coefficient__coeff_0__attr_\"abs\"', '4__fft_coefficient__coeff_1__attr_\"abs\"', '4__kurtosis', '4__skewness', '5__fft_coefficient__coeff_0__attr_\"abs\"', '5__fft_coefficient__coeff_1__attr_\"abs\"', '5__kurtosis', '5__skewness', 'flux__length', 'flux__longest_strike_above_mean', 'flux__longest_strike_below_mean', 'flux__mean_abs_change', 'flux__mean_change', 'flux_by_flux_ratio_sq__longest_strike_above_mean', 'flux_by_flux_ratio_sq__longest_strike_below_mean', 'mjd__mean_abs_change', 'mjd__mean_change', 'mjd_diff_det', 'ra', 'decl', 'gal_l', 'gal_b', 'ddf', 'hostgal_specz', 'hostgal_photoz', 'hostgal_photoz_err', 'distmod', 'mwebv', 'haversine', 'latlon1', 'hostgal_photoz_certain']\n",
      "      155000000 done in  63.7 minutes\n"
     ]
    },
    {
     "name": "stderr",
     "output_type": "stream",
     "text": [
      "Feature Extraction: 100%|██████████| 20/20 [00:33<00:00,  1.30s/it]\n",
      "Feature Extraction: 100%|██████████| 20/20 [00:06<00:00,  3.95it/s]\n",
      "Feature Extraction: 100%|██████████| 20/20 [00:04<00:00,  5.41it/s]\n",
      "Feature Extraction: 100%|██████████| 20/20 [00:03<00:00,  6.83it/s]\n"
     ]
    },
    {
     "name": "stdout",
     "output_type": "stream",
     "text": [
      "['object_id', 'flux_min', 'flux_max', 'flux_mean', 'flux_median', 'flux_std', 'flux_skew', 'flux_err_min', 'flux_err_max', 'flux_err_mean', 'flux_err_median', 'flux_err_std', 'flux_err_skew', 'detected_mean', 'flux_ratio_sq_sum', 'flux_ratio_sq_skew', 'flux_by_flux_ratio_sq_sum', 'flux_by_flux_ratio_sq_skew', 'flux_w_mean', 'flux_diff1', 'flux_diff2', 'flux_diff3', '0__fft_coefficient__coeff_0__attr_\"abs\"', '0__fft_coefficient__coeff_1__attr_\"abs\"', '0__kurtosis', '0__skewness', '1__fft_coefficient__coeff_0__attr_\"abs\"', '1__fft_coefficient__coeff_1__attr_\"abs\"', '1__kurtosis', '1__skewness', '2__fft_coefficient__coeff_0__attr_\"abs\"', '2__fft_coefficient__coeff_1__attr_\"abs\"', '2__kurtosis', '2__skewness', '3__fft_coefficient__coeff_0__attr_\"abs\"', '3__fft_coefficient__coeff_1__attr_\"abs\"', '3__kurtosis', '3__skewness', '4__fft_coefficient__coeff_0__attr_\"abs\"', '4__fft_coefficient__coeff_1__attr_\"abs\"', '4__kurtosis', '4__skewness', '5__fft_coefficient__coeff_0__attr_\"abs\"', '5__fft_coefficient__coeff_1__attr_\"abs\"', '5__kurtosis', '5__skewness', 'flux__length', 'flux__longest_strike_above_mean', 'flux__longest_strike_below_mean', 'flux__mean_abs_change', 'flux__mean_change', 'flux_by_flux_ratio_sq__longest_strike_above_mean', 'flux_by_flux_ratio_sq__longest_strike_below_mean', 'mjd__mean_abs_change', 'mjd__mean_change', 'mjd_diff_det', 'ra', 'decl', 'gal_l', 'gal_b', 'ddf', 'hostgal_specz', 'hostgal_photoz', 'hostgal_photoz_err', 'distmod', 'mwebv', 'haversine', 'latlon1', 'hostgal_photoz_certain']\n",
      "      160000000 done in  65.8 minutes\n"
     ]
    },
    {
     "name": "stderr",
     "output_type": "stream",
     "text": [
      "Feature Extraction: 100%|██████████| 20/20 [00:34<00:00,  1.53s/it]\n",
      "Feature Extraction: 100%|██████████| 20/20 [00:06<00:00,  3.64it/s]\n",
      "Feature Extraction: 100%|██████████| 20/20 [00:04<00:00,  5.07it/s]\n",
      "Feature Extraction: 100%|██████████| 20/20 [00:03<00:00,  6.35it/s]\n"
     ]
    },
    {
     "name": "stdout",
     "output_type": "stream",
     "text": [
      "['object_id', 'flux_min', 'flux_max', 'flux_mean', 'flux_median', 'flux_std', 'flux_skew', 'flux_err_min', 'flux_err_max', 'flux_err_mean', 'flux_err_median', 'flux_err_std', 'flux_err_skew', 'detected_mean', 'flux_ratio_sq_sum', 'flux_ratio_sq_skew', 'flux_by_flux_ratio_sq_sum', 'flux_by_flux_ratio_sq_skew', 'flux_w_mean', 'flux_diff1', 'flux_diff2', 'flux_diff3', '0__fft_coefficient__coeff_0__attr_\"abs\"', '0__fft_coefficient__coeff_1__attr_\"abs\"', '0__kurtosis', '0__skewness', '1__fft_coefficient__coeff_0__attr_\"abs\"', '1__fft_coefficient__coeff_1__attr_\"abs\"', '1__kurtosis', '1__skewness', '2__fft_coefficient__coeff_0__attr_\"abs\"', '2__fft_coefficient__coeff_1__attr_\"abs\"', '2__kurtosis', '2__skewness', '3__fft_coefficient__coeff_0__attr_\"abs\"', '3__fft_coefficient__coeff_1__attr_\"abs\"', '3__kurtosis', '3__skewness', '4__fft_coefficient__coeff_0__attr_\"abs\"', '4__fft_coefficient__coeff_1__attr_\"abs\"', '4__kurtosis', '4__skewness', '5__fft_coefficient__coeff_0__attr_\"abs\"', '5__fft_coefficient__coeff_1__attr_\"abs\"', '5__kurtosis', '5__skewness', 'flux__length', 'flux__longest_strike_above_mean', 'flux__longest_strike_below_mean', 'flux__mean_abs_change', 'flux__mean_change', 'flux_by_flux_ratio_sq__longest_strike_above_mean', 'flux_by_flux_ratio_sq__longest_strike_below_mean', 'mjd__mean_abs_change', 'mjd__mean_change', 'mjd_diff_det', 'ra', 'decl', 'gal_l', 'gal_b', 'ddf', 'hostgal_specz', 'hostgal_photoz', 'hostgal_photoz_err', 'distmod', 'mwebv', 'haversine', 'latlon1', 'hostgal_photoz_certain']\n",
      "      165000000 done in  67.9 minutes\n"
     ]
    },
    {
     "name": "stderr",
     "output_type": "stream",
     "text": [
      "Feature Extraction: 100%|██████████| 20/20 [00:34<00:00,  1.58s/it]\n",
      "Feature Extraction: 100%|██████████| 20/20 [00:06<00:00,  3.22it/s]\n",
      "Feature Extraction: 100%|██████████| 20/20 [00:04<00:00,  5.46it/s]\n",
      "Feature Extraction: 100%|██████████| 20/20 [00:03<00:00,  6.20it/s]\n"
     ]
    },
    {
     "name": "stdout",
     "output_type": "stream",
     "text": [
      "['object_id', 'flux_min', 'flux_max', 'flux_mean', 'flux_median', 'flux_std', 'flux_skew', 'flux_err_min', 'flux_err_max', 'flux_err_mean', 'flux_err_median', 'flux_err_std', 'flux_err_skew', 'detected_mean', 'flux_ratio_sq_sum', 'flux_ratio_sq_skew', 'flux_by_flux_ratio_sq_sum', 'flux_by_flux_ratio_sq_skew', 'flux_w_mean', 'flux_diff1', 'flux_diff2', 'flux_diff3', '0__fft_coefficient__coeff_0__attr_\"abs\"', '0__fft_coefficient__coeff_1__attr_\"abs\"', '0__kurtosis', '0__skewness', '1__fft_coefficient__coeff_0__attr_\"abs\"', '1__fft_coefficient__coeff_1__attr_\"abs\"', '1__kurtosis', '1__skewness', '2__fft_coefficient__coeff_0__attr_\"abs\"', '2__fft_coefficient__coeff_1__attr_\"abs\"', '2__kurtosis', '2__skewness', '3__fft_coefficient__coeff_0__attr_\"abs\"', '3__fft_coefficient__coeff_1__attr_\"abs\"', '3__kurtosis', '3__skewness', '4__fft_coefficient__coeff_0__attr_\"abs\"', '4__fft_coefficient__coeff_1__attr_\"abs\"', '4__kurtosis', '4__skewness', '5__fft_coefficient__coeff_0__attr_\"abs\"', '5__fft_coefficient__coeff_1__attr_\"abs\"', '5__kurtosis', '5__skewness', 'flux__length', 'flux__longest_strike_above_mean', 'flux__longest_strike_below_mean', 'flux__mean_abs_change', 'flux__mean_change', 'flux_by_flux_ratio_sq__longest_strike_above_mean', 'flux_by_flux_ratio_sq__longest_strike_below_mean', 'mjd__mean_abs_change', 'mjd__mean_change', 'mjd_diff_det', 'ra', 'decl', 'gal_l', 'gal_b', 'ddf', 'hostgal_specz', 'hostgal_photoz', 'hostgal_photoz_err', 'distmod', 'mwebv', 'haversine', 'latlon1', 'hostgal_photoz_certain']\n",
      "      170000000 done in  70.0 minutes\n"
     ]
    },
    {
     "name": "stderr",
     "output_type": "stream",
     "text": [
      "Feature Extraction: 100%|██████████| 20/20 [00:34<00:00,  1.39s/it]\n",
      "Feature Extraction: 100%|██████████| 20/20 [00:06<00:00,  3.58it/s]\n",
      "Feature Extraction: 100%|██████████| 20/20 [00:04<00:00,  4.83it/s]\n",
      "Feature Extraction: 100%|██████████| 20/20 [00:03<00:00,  6.44it/s]\n"
     ]
    },
    {
     "name": "stdout",
     "output_type": "stream",
     "text": [
      "['object_id', 'flux_min', 'flux_max', 'flux_mean', 'flux_median', 'flux_std', 'flux_skew', 'flux_err_min', 'flux_err_max', 'flux_err_mean', 'flux_err_median', 'flux_err_std', 'flux_err_skew', 'detected_mean', 'flux_ratio_sq_sum', 'flux_ratio_sq_skew', 'flux_by_flux_ratio_sq_sum', 'flux_by_flux_ratio_sq_skew', 'flux_w_mean', 'flux_diff1', 'flux_diff2', 'flux_diff3', '0__fft_coefficient__coeff_0__attr_\"abs\"', '0__fft_coefficient__coeff_1__attr_\"abs\"', '0__kurtosis', '0__skewness', '1__fft_coefficient__coeff_0__attr_\"abs\"', '1__fft_coefficient__coeff_1__attr_\"abs\"', '1__kurtosis', '1__skewness', '2__fft_coefficient__coeff_0__attr_\"abs\"', '2__fft_coefficient__coeff_1__attr_\"abs\"', '2__kurtosis', '2__skewness', '3__fft_coefficient__coeff_0__attr_\"abs\"', '3__fft_coefficient__coeff_1__attr_\"abs\"', '3__kurtosis', '3__skewness', '4__fft_coefficient__coeff_0__attr_\"abs\"', '4__fft_coefficient__coeff_1__attr_\"abs\"', '4__kurtosis', '4__skewness', '5__fft_coefficient__coeff_0__attr_\"abs\"', '5__fft_coefficient__coeff_1__attr_\"abs\"', '5__kurtosis', '5__skewness', 'flux__length', 'flux__longest_strike_above_mean', 'flux__longest_strike_below_mean', 'flux__mean_abs_change', 'flux__mean_change', 'flux_by_flux_ratio_sq__longest_strike_above_mean', 'flux_by_flux_ratio_sq__longest_strike_below_mean', 'mjd__mean_abs_change', 'mjd__mean_change', 'mjd_diff_det', 'ra', 'decl', 'gal_l', 'gal_b', 'ddf', 'hostgal_specz', 'hostgal_photoz', 'hostgal_photoz_err', 'distmod', 'mwebv', 'haversine', 'latlon1', 'hostgal_photoz_certain']\n",
      "      175000000 done in  72.1 minutes\n"
     ]
    },
    {
     "name": "stderr",
     "output_type": "stream",
     "text": [
      "Feature Extraction: 100%|██████████| 20/20 [00:34<00:00,  1.38s/it]\n",
      "Feature Extraction: 100%|██████████| 20/20 [00:06<00:00,  3.68it/s]\n",
      "Feature Extraction: 100%|██████████| 20/20 [00:04<00:00,  5.39it/s]\n",
      "Feature Extraction: 100%|██████████| 20/20 [00:03<00:00,  7.09it/s]\n"
     ]
    },
    {
     "name": "stdout",
     "output_type": "stream",
     "text": [
      "['object_id', 'flux_min', 'flux_max', 'flux_mean', 'flux_median', 'flux_std', 'flux_skew', 'flux_err_min', 'flux_err_max', 'flux_err_mean', 'flux_err_median', 'flux_err_std', 'flux_err_skew', 'detected_mean', 'flux_ratio_sq_sum', 'flux_ratio_sq_skew', 'flux_by_flux_ratio_sq_sum', 'flux_by_flux_ratio_sq_skew', 'flux_w_mean', 'flux_diff1', 'flux_diff2', 'flux_diff3', '0__fft_coefficient__coeff_0__attr_\"abs\"', '0__fft_coefficient__coeff_1__attr_\"abs\"', '0__kurtosis', '0__skewness', '1__fft_coefficient__coeff_0__attr_\"abs\"', '1__fft_coefficient__coeff_1__attr_\"abs\"', '1__kurtosis', '1__skewness', '2__fft_coefficient__coeff_0__attr_\"abs\"', '2__fft_coefficient__coeff_1__attr_\"abs\"', '2__kurtosis', '2__skewness', '3__fft_coefficient__coeff_0__attr_\"abs\"', '3__fft_coefficient__coeff_1__attr_\"abs\"', '3__kurtosis', '3__skewness', '4__fft_coefficient__coeff_0__attr_\"abs\"', '4__fft_coefficient__coeff_1__attr_\"abs\"', '4__kurtosis', '4__skewness', '5__fft_coefficient__coeff_0__attr_\"abs\"', '5__fft_coefficient__coeff_1__attr_\"abs\"', '5__kurtosis', '5__skewness', 'flux__length', 'flux__longest_strike_above_mean', 'flux__longest_strike_below_mean', 'flux__mean_abs_change', 'flux__mean_change', 'flux_by_flux_ratio_sq__longest_strike_above_mean', 'flux_by_flux_ratio_sq__longest_strike_below_mean', 'mjd__mean_abs_change', 'mjd__mean_change', 'mjd_diff_det', 'ra', 'decl', 'gal_l', 'gal_b', 'ddf', 'hostgal_specz', 'hostgal_photoz', 'hostgal_photoz_err', 'distmod', 'mwebv', 'haversine', 'latlon1', 'hostgal_photoz_certain']\n",
      "      180000000 done in  74.3 minutes\n"
     ]
    },
    {
     "name": "stderr",
     "output_type": "stream",
     "text": [
      "Feature Extraction: 100%|██████████| 20/20 [00:34<00:00,  1.59s/it]\n",
      "Feature Extraction: 100%|██████████| 20/20 [00:06<00:00,  3.30it/s]\n",
      "Feature Extraction: 100%|██████████| 20/20 [00:03<00:00,  6.72it/s]\n",
      "Feature Extraction: 100%|██████████| 20/20 [00:03<00:00,  6.52it/s]\n"
     ]
    },
    {
     "name": "stdout",
     "output_type": "stream",
     "text": [
      "['object_id', 'flux_min', 'flux_max', 'flux_mean', 'flux_median', 'flux_std', 'flux_skew', 'flux_err_min', 'flux_err_max', 'flux_err_mean', 'flux_err_median', 'flux_err_std', 'flux_err_skew', 'detected_mean', 'flux_ratio_sq_sum', 'flux_ratio_sq_skew', 'flux_by_flux_ratio_sq_sum', 'flux_by_flux_ratio_sq_skew', 'flux_w_mean', 'flux_diff1', 'flux_diff2', 'flux_diff3', '0__fft_coefficient__coeff_0__attr_\"abs\"', '0__fft_coefficient__coeff_1__attr_\"abs\"', '0__kurtosis', '0__skewness', '1__fft_coefficient__coeff_0__attr_\"abs\"', '1__fft_coefficient__coeff_1__attr_\"abs\"', '1__kurtosis', '1__skewness', '2__fft_coefficient__coeff_0__attr_\"abs\"', '2__fft_coefficient__coeff_1__attr_\"abs\"', '2__kurtosis', '2__skewness', '3__fft_coefficient__coeff_0__attr_\"abs\"', '3__fft_coefficient__coeff_1__attr_\"abs\"', '3__kurtosis', '3__skewness', '4__fft_coefficient__coeff_0__attr_\"abs\"', '4__fft_coefficient__coeff_1__attr_\"abs\"', '4__kurtosis', '4__skewness', '5__fft_coefficient__coeff_0__attr_\"abs\"', '5__fft_coefficient__coeff_1__attr_\"abs\"', '5__kurtosis', '5__skewness', 'flux__length', 'flux__longest_strike_above_mean', 'flux__longest_strike_below_mean', 'flux__mean_abs_change', 'flux__mean_change', 'flux_by_flux_ratio_sq__longest_strike_above_mean', 'flux_by_flux_ratio_sq__longest_strike_below_mean', 'mjd__mean_abs_change', 'mjd__mean_change', 'mjd_diff_det', 'ra', 'decl', 'gal_l', 'gal_b', 'ddf', 'hostgal_specz', 'hostgal_photoz', 'hostgal_photoz_err', 'distmod', 'mwebv', 'haversine', 'latlon1', 'hostgal_photoz_certain']\n",
      "      185000000 done in  76.4 minutes\n"
     ]
    },
    {
     "name": "stderr",
     "output_type": "stream",
     "text": [
      "Feature Extraction: 100%|██████████| 20/20 [00:34<00:00,  1.43s/it]\n",
      "Feature Extraction: 100%|██████████| 20/20 [00:06<00:00,  3.51it/s]\n",
      "Feature Extraction: 100%|██████████| 20/20 [00:04<00:00,  5.57it/s]\n",
      "Feature Extraction: 100%|██████████| 20/20 [00:03<00:00,  6.71it/s]\n"
     ]
    },
    {
     "name": "stdout",
     "output_type": "stream",
     "text": [
      "['object_id', 'flux_min', 'flux_max', 'flux_mean', 'flux_median', 'flux_std', 'flux_skew', 'flux_err_min', 'flux_err_max', 'flux_err_mean', 'flux_err_median', 'flux_err_std', 'flux_err_skew', 'detected_mean', 'flux_ratio_sq_sum', 'flux_ratio_sq_skew', 'flux_by_flux_ratio_sq_sum', 'flux_by_flux_ratio_sq_skew', 'flux_w_mean', 'flux_diff1', 'flux_diff2', 'flux_diff3', '0__fft_coefficient__coeff_0__attr_\"abs\"', '0__fft_coefficient__coeff_1__attr_\"abs\"', '0__kurtosis', '0__skewness', '1__fft_coefficient__coeff_0__attr_\"abs\"', '1__fft_coefficient__coeff_1__attr_\"abs\"', '1__kurtosis', '1__skewness', '2__fft_coefficient__coeff_0__attr_\"abs\"', '2__fft_coefficient__coeff_1__attr_\"abs\"', '2__kurtosis', '2__skewness', '3__fft_coefficient__coeff_0__attr_\"abs\"', '3__fft_coefficient__coeff_1__attr_\"abs\"', '3__kurtosis', '3__skewness', '4__fft_coefficient__coeff_0__attr_\"abs\"', '4__fft_coefficient__coeff_1__attr_\"abs\"', '4__kurtosis', '4__skewness', '5__fft_coefficient__coeff_0__attr_\"abs\"', '5__fft_coefficient__coeff_1__attr_\"abs\"', '5__kurtosis', '5__skewness', 'flux__length', 'flux__longest_strike_above_mean', 'flux__longest_strike_below_mean', 'flux__mean_abs_change', 'flux__mean_change', 'flux_by_flux_ratio_sq__longest_strike_above_mean', 'flux_by_flux_ratio_sq__longest_strike_below_mean', 'mjd__mean_abs_change', 'mjd__mean_change', 'mjd_diff_det', 'ra', 'decl', 'gal_l', 'gal_b', 'ddf', 'hostgal_specz', 'hostgal_photoz', 'hostgal_photoz_err', 'distmod', 'mwebv', 'haversine', 'latlon1', 'hostgal_photoz_certain']\n",
      "      190000000 done in  78.5 minutes\n"
     ]
    },
    {
     "name": "stderr",
     "output_type": "stream",
     "text": [
      "Feature Extraction: 100%|██████████| 20/20 [00:34<00:00,  1.55s/it]\n",
      "Feature Extraction: 100%|██████████| 20/20 [00:06<00:00,  3.25it/s]\n",
      "Feature Extraction: 100%|██████████| 20/20 [00:03<00:00,  6.03it/s]\n",
      "Feature Extraction: 100%|██████████| 20/20 [00:03<00:00,  6.95it/s]\n"
     ]
    },
    {
     "name": "stdout",
     "output_type": "stream",
     "text": [
      "['object_id', 'flux_min', 'flux_max', 'flux_mean', 'flux_median', 'flux_std', 'flux_skew', 'flux_err_min', 'flux_err_max', 'flux_err_mean', 'flux_err_median', 'flux_err_std', 'flux_err_skew', 'detected_mean', 'flux_ratio_sq_sum', 'flux_ratio_sq_skew', 'flux_by_flux_ratio_sq_sum', 'flux_by_flux_ratio_sq_skew', 'flux_w_mean', 'flux_diff1', 'flux_diff2', 'flux_diff3', '0__fft_coefficient__coeff_0__attr_\"abs\"', '0__fft_coefficient__coeff_1__attr_\"abs\"', '0__kurtosis', '0__skewness', '1__fft_coefficient__coeff_0__attr_\"abs\"', '1__fft_coefficient__coeff_1__attr_\"abs\"', '1__kurtosis', '1__skewness', '2__fft_coefficient__coeff_0__attr_\"abs\"', '2__fft_coefficient__coeff_1__attr_\"abs\"', '2__kurtosis', '2__skewness', '3__fft_coefficient__coeff_0__attr_\"abs\"', '3__fft_coefficient__coeff_1__attr_\"abs\"', '3__kurtosis', '3__skewness', '4__fft_coefficient__coeff_0__attr_\"abs\"', '4__fft_coefficient__coeff_1__attr_\"abs\"', '4__kurtosis', '4__skewness', '5__fft_coefficient__coeff_0__attr_\"abs\"', '5__fft_coefficient__coeff_1__attr_\"abs\"', '5__kurtosis', '5__skewness', 'flux__length', 'flux__longest_strike_above_mean', 'flux__longest_strike_below_mean', 'flux__mean_abs_change', 'flux__mean_change', 'flux_by_flux_ratio_sq__longest_strike_above_mean', 'flux_by_flux_ratio_sq__longest_strike_below_mean', 'mjd__mean_abs_change', 'mjd__mean_change', 'mjd_diff_det', 'ra', 'decl', 'gal_l', 'gal_b', 'ddf', 'hostgal_specz', 'hostgal_photoz', 'hostgal_photoz_err', 'distmod', 'mwebv', 'haversine', 'latlon1', 'hostgal_photoz_certain']\n",
      "      195000000 done in  80.6 minutes\n"
     ]
    },
    {
     "name": "stderr",
     "output_type": "stream",
     "text": [
      "Feature Extraction: 100%|██████████| 20/20 [00:33<00:00,  1.24s/it]\n",
      "Feature Extraction: 100%|██████████| 20/20 [00:06<00:00,  3.01it/s]\n",
      "Feature Extraction: 100%|██████████| 20/20 [00:04<00:00,  5.90it/s]\n",
      "Feature Extraction: 100%|██████████| 20/20 [00:03<00:00,  6.54it/s]\n"
     ]
    },
    {
     "name": "stdout",
     "output_type": "stream",
     "text": [
      "['object_id', 'flux_min', 'flux_max', 'flux_mean', 'flux_median', 'flux_std', 'flux_skew', 'flux_err_min', 'flux_err_max', 'flux_err_mean', 'flux_err_median', 'flux_err_std', 'flux_err_skew', 'detected_mean', 'flux_ratio_sq_sum', 'flux_ratio_sq_skew', 'flux_by_flux_ratio_sq_sum', 'flux_by_flux_ratio_sq_skew', 'flux_w_mean', 'flux_diff1', 'flux_diff2', 'flux_diff3', '0__fft_coefficient__coeff_0__attr_\"abs\"', '0__fft_coefficient__coeff_1__attr_\"abs\"', '0__kurtosis', '0__skewness', '1__fft_coefficient__coeff_0__attr_\"abs\"', '1__fft_coefficient__coeff_1__attr_\"abs\"', '1__kurtosis', '1__skewness', '2__fft_coefficient__coeff_0__attr_\"abs\"', '2__fft_coefficient__coeff_1__attr_\"abs\"', '2__kurtosis', '2__skewness', '3__fft_coefficient__coeff_0__attr_\"abs\"', '3__fft_coefficient__coeff_1__attr_\"abs\"', '3__kurtosis', '3__skewness', '4__fft_coefficient__coeff_0__attr_\"abs\"', '4__fft_coefficient__coeff_1__attr_\"abs\"', '4__kurtosis', '4__skewness', '5__fft_coefficient__coeff_0__attr_\"abs\"', '5__fft_coefficient__coeff_1__attr_\"abs\"', '5__kurtosis', '5__skewness', 'flux__length', 'flux__longest_strike_above_mean', 'flux__longest_strike_below_mean', 'flux__mean_abs_change', 'flux__mean_change', 'flux_by_flux_ratio_sq__longest_strike_above_mean', 'flux_by_flux_ratio_sq__longest_strike_below_mean', 'mjd__mean_abs_change', 'mjd__mean_change', 'mjd_diff_det', 'ra', 'decl', 'gal_l', 'gal_b', 'ddf', 'hostgal_specz', 'hostgal_photoz', 'hostgal_photoz_err', 'distmod', 'mwebv', 'haversine', 'latlon1', 'hostgal_photoz_certain']\n",
      "      200000000 done in  82.7 minutes\n"
     ]
    },
    {
     "name": "stderr",
     "output_type": "stream",
     "text": [
      "Feature Extraction: 100%|██████████| 20/20 [00:34<00:00,  1.50s/it]\n",
      "Feature Extraction: 100%|██████████| 20/20 [00:06<00:00,  4.00it/s]\n",
      "Feature Extraction: 100%|██████████| 20/20 [00:04<00:00,  5.31it/s]\n",
      "Feature Extraction: 100%|██████████| 20/20 [00:03<00:00,  6.30it/s]\n"
     ]
    },
    {
     "name": "stdout",
     "output_type": "stream",
     "text": [
      "['object_id', 'flux_min', 'flux_max', 'flux_mean', 'flux_median', 'flux_std', 'flux_skew', 'flux_err_min', 'flux_err_max', 'flux_err_mean', 'flux_err_median', 'flux_err_std', 'flux_err_skew', 'detected_mean', 'flux_ratio_sq_sum', 'flux_ratio_sq_skew', 'flux_by_flux_ratio_sq_sum', 'flux_by_flux_ratio_sq_skew', 'flux_w_mean', 'flux_diff1', 'flux_diff2', 'flux_diff3', '0__fft_coefficient__coeff_0__attr_\"abs\"', '0__fft_coefficient__coeff_1__attr_\"abs\"', '0__kurtosis', '0__skewness', '1__fft_coefficient__coeff_0__attr_\"abs\"', '1__fft_coefficient__coeff_1__attr_\"abs\"', '1__kurtosis', '1__skewness', '2__fft_coefficient__coeff_0__attr_\"abs\"', '2__fft_coefficient__coeff_1__attr_\"abs\"', '2__kurtosis', '2__skewness', '3__fft_coefficient__coeff_0__attr_\"abs\"', '3__fft_coefficient__coeff_1__attr_\"abs\"', '3__kurtosis', '3__skewness', '4__fft_coefficient__coeff_0__attr_\"abs\"', '4__fft_coefficient__coeff_1__attr_\"abs\"', '4__kurtosis', '4__skewness', '5__fft_coefficient__coeff_0__attr_\"abs\"', '5__fft_coefficient__coeff_1__attr_\"abs\"', '5__kurtosis', '5__skewness', 'flux__length', 'flux__longest_strike_above_mean', 'flux__longest_strike_below_mean', 'flux__mean_abs_change', 'flux__mean_change', 'flux_by_flux_ratio_sq__longest_strike_above_mean', 'flux_by_flux_ratio_sq__longest_strike_below_mean', 'mjd__mean_abs_change', 'mjd__mean_change', 'mjd_diff_det', 'ra', 'decl', 'gal_l', 'gal_b', 'ddf', 'hostgal_specz', 'hostgal_photoz', 'hostgal_photoz_err', 'distmod', 'mwebv', 'haversine', 'latlon1', 'hostgal_photoz_certain']\n",
      "      205000000 done in  84.8 minutes\n"
     ]
    },
    {
     "name": "stderr",
     "output_type": "stream",
     "text": [
      "Feature Extraction: 100%|██████████| 20/20 [00:34<00:00,  1.47s/it]\n",
      "Feature Extraction: 100%|██████████| 20/20 [00:06<00:00,  3.47it/s]\n",
      "Feature Extraction: 100%|██████████| 20/20 [00:04<00:00,  6.17it/s]\n",
      "Feature Extraction: 100%|██████████| 20/20 [00:03<00:00,  7.20it/s]\n"
     ]
    },
    {
     "name": "stdout",
     "output_type": "stream",
     "text": [
      "['object_id', 'flux_min', 'flux_max', 'flux_mean', 'flux_median', 'flux_std', 'flux_skew', 'flux_err_min', 'flux_err_max', 'flux_err_mean', 'flux_err_median', 'flux_err_std', 'flux_err_skew', 'detected_mean', 'flux_ratio_sq_sum', 'flux_ratio_sq_skew', 'flux_by_flux_ratio_sq_sum', 'flux_by_flux_ratio_sq_skew', 'flux_w_mean', 'flux_diff1', 'flux_diff2', 'flux_diff3', '0__fft_coefficient__coeff_0__attr_\"abs\"', '0__fft_coefficient__coeff_1__attr_\"abs\"', '0__kurtosis', '0__skewness', '1__fft_coefficient__coeff_0__attr_\"abs\"', '1__fft_coefficient__coeff_1__attr_\"abs\"', '1__kurtosis', '1__skewness', '2__fft_coefficient__coeff_0__attr_\"abs\"', '2__fft_coefficient__coeff_1__attr_\"abs\"', '2__kurtosis', '2__skewness', '3__fft_coefficient__coeff_0__attr_\"abs\"', '3__fft_coefficient__coeff_1__attr_\"abs\"', '3__kurtosis', '3__skewness', '4__fft_coefficient__coeff_0__attr_\"abs\"', '4__fft_coefficient__coeff_1__attr_\"abs\"', '4__kurtosis', '4__skewness', '5__fft_coefficient__coeff_0__attr_\"abs\"', '5__fft_coefficient__coeff_1__attr_\"abs\"', '5__kurtosis', '5__skewness', 'flux__length', 'flux__longest_strike_above_mean', 'flux__longest_strike_below_mean', 'flux__mean_abs_change', 'flux__mean_change', 'flux_by_flux_ratio_sq__longest_strike_above_mean', 'flux_by_flux_ratio_sq__longest_strike_below_mean', 'mjd__mean_abs_change', 'mjd__mean_change', 'mjd_diff_det', 'ra', 'decl', 'gal_l', 'gal_b', 'ddf', 'hostgal_specz', 'hostgal_photoz', 'hostgal_photoz_err', 'distmod', 'mwebv', 'haversine', 'latlon1', 'hostgal_photoz_certain']\n",
      "      210000000 done in  86.9 minutes\n"
     ]
    },
    {
     "name": "stderr",
     "output_type": "stream",
     "text": [
      "Feature Extraction: 100%|██████████| 20/20 [00:34<00:00,  1.45s/it]\n",
      "Feature Extraction: 100%|██████████| 20/20 [00:06<00:00,  3.50it/s]\n",
      "Feature Extraction: 100%|██████████| 20/20 [00:04<00:00,  6.24it/s]\n",
      "Feature Extraction: 100%|██████████| 20/20 [00:03<00:00,  6.86it/s]\n"
     ]
    },
    {
     "name": "stdout",
     "output_type": "stream",
     "text": [
      "['object_id', 'flux_min', 'flux_max', 'flux_mean', 'flux_median', 'flux_std', 'flux_skew', 'flux_err_min', 'flux_err_max', 'flux_err_mean', 'flux_err_median', 'flux_err_std', 'flux_err_skew', 'detected_mean', 'flux_ratio_sq_sum', 'flux_ratio_sq_skew', 'flux_by_flux_ratio_sq_sum', 'flux_by_flux_ratio_sq_skew', 'flux_w_mean', 'flux_diff1', 'flux_diff2', 'flux_diff3', '0__fft_coefficient__coeff_0__attr_\"abs\"', '0__fft_coefficient__coeff_1__attr_\"abs\"', '0__kurtosis', '0__skewness', '1__fft_coefficient__coeff_0__attr_\"abs\"', '1__fft_coefficient__coeff_1__attr_\"abs\"', '1__kurtosis', '1__skewness', '2__fft_coefficient__coeff_0__attr_\"abs\"', '2__fft_coefficient__coeff_1__attr_\"abs\"', '2__kurtosis', '2__skewness', '3__fft_coefficient__coeff_0__attr_\"abs\"', '3__fft_coefficient__coeff_1__attr_\"abs\"', '3__kurtosis', '3__skewness', '4__fft_coefficient__coeff_0__attr_\"abs\"', '4__fft_coefficient__coeff_1__attr_\"abs\"', '4__kurtosis', '4__skewness', '5__fft_coefficient__coeff_0__attr_\"abs\"', '5__fft_coefficient__coeff_1__attr_\"abs\"', '5__kurtosis', '5__skewness', 'flux__length', 'flux__longest_strike_above_mean', 'flux__longest_strike_below_mean', 'flux__mean_abs_change', 'flux__mean_change', 'flux_by_flux_ratio_sq__longest_strike_above_mean', 'flux_by_flux_ratio_sq__longest_strike_below_mean', 'mjd__mean_abs_change', 'mjd__mean_change', 'mjd_diff_det', 'ra', 'decl', 'gal_l', 'gal_b', 'ddf', 'hostgal_specz', 'hostgal_photoz', 'hostgal_photoz_err', 'distmod', 'mwebv', 'haversine', 'latlon1', 'hostgal_photoz_certain']\n",
      "      215000000 done in  89.0 minutes\n"
     ]
    },
    {
     "name": "stderr",
     "output_type": "stream",
     "text": [
      "Feature Extraction: 100%|██████████| 20/20 [00:34<00:00,  1.37s/it]\n",
      "Feature Extraction: 100%|██████████| 20/20 [00:06<00:00,  3.78it/s]\n",
      "Feature Extraction: 100%|██████████| 20/20 [00:04<00:00,  6.21it/s]\n",
      "Feature Extraction: 100%|██████████| 20/20 [00:03<00:00,  6.06it/s]\n"
     ]
    },
    {
     "name": "stdout",
     "output_type": "stream",
     "text": [
      "['object_id', 'flux_min', 'flux_max', 'flux_mean', 'flux_median', 'flux_std', 'flux_skew', 'flux_err_min', 'flux_err_max', 'flux_err_mean', 'flux_err_median', 'flux_err_std', 'flux_err_skew', 'detected_mean', 'flux_ratio_sq_sum', 'flux_ratio_sq_skew', 'flux_by_flux_ratio_sq_sum', 'flux_by_flux_ratio_sq_skew', 'flux_w_mean', 'flux_diff1', 'flux_diff2', 'flux_diff3', '0__fft_coefficient__coeff_0__attr_\"abs\"', '0__fft_coefficient__coeff_1__attr_\"abs\"', '0__kurtosis', '0__skewness', '1__fft_coefficient__coeff_0__attr_\"abs\"', '1__fft_coefficient__coeff_1__attr_\"abs\"', '1__kurtosis', '1__skewness', '2__fft_coefficient__coeff_0__attr_\"abs\"', '2__fft_coefficient__coeff_1__attr_\"abs\"', '2__kurtosis', '2__skewness', '3__fft_coefficient__coeff_0__attr_\"abs\"', '3__fft_coefficient__coeff_1__attr_\"abs\"', '3__kurtosis', '3__skewness', '4__fft_coefficient__coeff_0__attr_\"abs\"', '4__fft_coefficient__coeff_1__attr_\"abs\"', '4__kurtosis', '4__skewness', '5__fft_coefficient__coeff_0__attr_\"abs\"', '5__fft_coefficient__coeff_1__attr_\"abs\"', '5__kurtosis', '5__skewness', 'flux__length', 'flux__longest_strike_above_mean', 'flux__longest_strike_below_mean', 'flux__mean_abs_change', 'flux__mean_change', 'flux_by_flux_ratio_sq__longest_strike_above_mean', 'flux_by_flux_ratio_sq__longest_strike_below_mean', 'mjd__mean_abs_change', 'mjd__mean_change', 'mjd_diff_det', 'ra', 'decl', 'gal_l', 'gal_b', 'ddf', 'hostgal_specz', 'hostgal_photoz', 'hostgal_photoz_err', 'distmod', 'mwebv', 'haversine', 'latlon1', 'hostgal_photoz_certain']\n",
      "      220000000 done in  91.1 minutes\n"
     ]
    },
    {
     "name": "stderr",
     "output_type": "stream",
     "text": [
      "Feature Extraction: 100%|██████████| 20/20 [00:33<00:00,  1.37s/it]\n",
      "Feature Extraction: 100%|██████████| 20/20 [00:06<00:00,  4.34it/s]\n",
      "Feature Extraction: 100%|██████████| 20/20 [00:04<00:00,  5.94it/s]\n",
      "Feature Extraction: 100%|██████████| 20/20 [00:03<00:00,  6.06it/s]\n"
     ]
    },
    {
     "name": "stdout",
     "output_type": "stream",
     "text": [
      "['object_id', 'flux_min', 'flux_max', 'flux_mean', 'flux_median', 'flux_std', 'flux_skew', 'flux_err_min', 'flux_err_max', 'flux_err_mean', 'flux_err_median', 'flux_err_std', 'flux_err_skew', 'detected_mean', 'flux_ratio_sq_sum', 'flux_ratio_sq_skew', 'flux_by_flux_ratio_sq_sum', 'flux_by_flux_ratio_sq_skew', 'flux_w_mean', 'flux_diff1', 'flux_diff2', 'flux_diff3', '0__fft_coefficient__coeff_0__attr_\"abs\"', '0__fft_coefficient__coeff_1__attr_\"abs\"', '0__kurtosis', '0__skewness', '1__fft_coefficient__coeff_0__attr_\"abs\"', '1__fft_coefficient__coeff_1__attr_\"abs\"', '1__kurtosis', '1__skewness', '2__fft_coefficient__coeff_0__attr_\"abs\"', '2__fft_coefficient__coeff_1__attr_\"abs\"', '2__kurtosis', '2__skewness', '3__fft_coefficient__coeff_0__attr_\"abs\"', '3__fft_coefficient__coeff_1__attr_\"abs\"', '3__kurtosis', '3__skewness', '4__fft_coefficient__coeff_0__attr_\"abs\"', '4__fft_coefficient__coeff_1__attr_\"abs\"', '4__kurtosis', '4__skewness', '5__fft_coefficient__coeff_0__attr_\"abs\"', '5__fft_coefficient__coeff_1__attr_\"abs\"', '5__kurtosis', '5__skewness', 'flux__length', 'flux__longest_strike_above_mean', 'flux__longest_strike_below_mean', 'flux__mean_abs_change', 'flux__mean_change', 'flux_by_flux_ratio_sq__longest_strike_above_mean', 'flux_by_flux_ratio_sq__longest_strike_below_mean', 'mjd__mean_abs_change', 'mjd__mean_change', 'mjd_diff_det', 'ra', 'decl', 'gal_l', 'gal_b', 'ddf', 'hostgal_specz', 'hostgal_photoz', 'hostgal_photoz_err', 'distmod', 'mwebv', 'haversine', 'latlon1', 'hostgal_photoz_certain']\n",
      "      225000000 done in  93.2 minutes\n"
     ]
    },
    {
     "name": "stderr",
     "output_type": "stream",
     "text": [
      "Feature Extraction: 100%|██████████| 20/20 [00:33<00:00,  1.19s/it]\n",
      "Feature Extraction: 100%|██████████| 20/20 [00:06<00:00,  3.39it/s]\n",
      "Feature Extraction: 100%|██████████| 20/20 [00:04<00:00,  5.70it/s]\n",
      "Feature Extraction: 100%|██████████| 20/20 [00:03<00:00,  7.01it/s]\n"
     ]
    },
    {
     "name": "stdout",
     "output_type": "stream",
     "text": [
      "['object_id', 'flux_min', 'flux_max', 'flux_mean', 'flux_median', 'flux_std', 'flux_skew', 'flux_err_min', 'flux_err_max', 'flux_err_mean', 'flux_err_median', 'flux_err_std', 'flux_err_skew', 'detected_mean', 'flux_ratio_sq_sum', 'flux_ratio_sq_skew', 'flux_by_flux_ratio_sq_sum', 'flux_by_flux_ratio_sq_skew', 'flux_w_mean', 'flux_diff1', 'flux_diff2', 'flux_diff3', '0__fft_coefficient__coeff_0__attr_\"abs\"', '0__fft_coefficient__coeff_1__attr_\"abs\"', '0__kurtosis', '0__skewness', '1__fft_coefficient__coeff_0__attr_\"abs\"', '1__fft_coefficient__coeff_1__attr_\"abs\"', '1__kurtosis', '1__skewness', '2__fft_coefficient__coeff_0__attr_\"abs\"', '2__fft_coefficient__coeff_1__attr_\"abs\"', '2__kurtosis', '2__skewness', '3__fft_coefficient__coeff_0__attr_\"abs\"', '3__fft_coefficient__coeff_1__attr_\"abs\"', '3__kurtosis', '3__skewness', '4__fft_coefficient__coeff_0__attr_\"abs\"', '4__fft_coefficient__coeff_1__attr_\"abs\"', '4__kurtosis', '4__skewness', '5__fft_coefficient__coeff_0__attr_\"abs\"', '5__fft_coefficient__coeff_1__attr_\"abs\"', '5__kurtosis', '5__skewness', 'flux__length', 'flux__longest_strike_above_mean', 'flux__longest_strike_below_mean', 'flux__mean_abs_change', 'flux__mean_change', 'flux_by_flux_ratio_sq__longest_strike_above_mean', 'flux_by_flux_ratio_sq__longest_strike_below_mean', 'mjd__mean_abs_change', 'mjd__mean_change', 'mjd_diff_det', 'ra', 'decl', 'gal_l', 'gal_b', 'ddf', 'hostgal_specz', 'hostgal_photoz', 'hostgal_photoz_err', 'distmod', 'mwebv', 'haversine', 'latlon1', 'hostgal_photoz_certain']\n",
      "      230000000 done in  95.3 minutes\n"
     ]
    },
    {
     "name": "stderr",
     "output_type": "stream",
     "text": [
      "Feature Extraction: 100%|██████████| 20/20 [00:34<00:00,  1.39s/it]\n",
      "Feature Extraction: 100%|██████████| 20/20 [00:06<00:00,  2.99it/s]\n",
      "Feature Extraction: 100%|██████████| 20/20 [00:04<00:00,  5.29it/s]\n",
      "Feature Extraction: 100%|██████████| 20/20 [00:03<00:00,  7.17it/s]\n"
     ]
    },
    {
     "name": "stdout",
     "output_type": "stream",
     "text": [
      "['object_id', 'flux_min', 'flux_max', 'flux_mean', 'flux_median', 'flux_std', 'flux_skew', 'flux_err_min', 'flux_err_max', 'flux_err_mean', 'flux_err_median', 'flux_err_std', 'flux_err_skew', 'detected_mean', 'flux_ratio_sq_sum', 'flux_ratio_sq_skew', 'flux_by_flux_ratio_sq_sum', 'flux_by_flux_ratio_sq_skew', 'flux_w_mean', 'flux_diff1', 'flux_diff2', 'flux_diff3', '0__fft_coefficient__coeff_0__attr_\"abs\"', '0__fft_coefficient__coeff_1__attr_\"abs\"', '0__kurtosis', '0__skewness', '1__fft_coefficient__coeff_0__attr_\"abs\"', '1__fft_coefficient__coeff_1__attr_\"abs\"', '1__kurtosis', '1__skewness', '2__fft_coefficient__coeff_0__attr_\"abs\"', '2__fft_coefficient__coeff_1__attr_\"abs\"', '2__kurtosis', '2__skewness', '3__fft_coefficient__coeff_0__attr_\"abs\"', '3__fft_coefficient__coeff_1__attr_\"abs\"', '3__kurtosis', '3__skewness', '4__fft_coefficient__coeff_0__attr_\"abs\"', '4__fft_coefficient__coeff_1__attr_\"abs\"', '4__kurtosis', '4__skewness', '5__fft_coefficient__coeff_0__attr_\"abs\"', '5__fft_coefficient__coeff_1__attr_\"abs\"', '5__kurtosis', '5__skewness', 'flux__length', 'flux__longest_strike_above_mean', 'flux__longest_strike_below_mean', 'flux__mean_abs_change', 'flux__mean_change', 'flux_by_flux_ratio_sq__longest_strike_above_mean', 'flux_by_flux_ratio_sq__longest_strike_below_mean', 'mjd__mean_abs_change', 'mjd__mean_change', 'mjd_diff_det', 'ra', 'decl', 'gal_l', 'gal_b', 'ddf', 'hostgal_specz', 'hostgal_photoz', 'hostgal_photoz_err', 'distmod', 'mwebv', 'haversine', 'latlon1', 'hostgal_photoz_certain']\n",
      "      235000000 done in  97.4 minutes\n"
     ]
    },
    {
     "name": "stderr",
     "output_type": "stream",
     "text": [
      "Feature Extraction: 100%|██████████| 20/20 [00:34<00:00,  1.46s/it]\n",
      "Feature Extraction: 100%|██████████| 20/20 [00:06<00:00,  3.84it/s]\n",
      "Feature Extraction: 100%|██████████| 20/20 [00:04<00:00,  5.44it/s]\n",
      "Feature Extraction: 100%|██████████| 20/20 [00:03<00:00,  6.97it/s]\n"
     ]
    },
    {
     "name": "stdout",
     "output_type": "stream",
     "text": [
      "['object_id', 'flux_min', 'flux_max', 'flux_mean', 'flux_median', 'flux_std', 'flux_skew', 'flux_err_min', 'flux_err_max', 'flux_err_mean', 'flux_err_median', 'flux_err_std', 'flux_err_skew', 'detected_mean', 'flux_ratio_sq_sum', 'flux_ratio_sq_skew', 'flux_by_flux_ratio_sq_sum', 'flux_by_flux_ratio_sq_skew', 'flux_w_mean', 'flux_diff1', 'flux_diff2', 'flux_diff3', '0__fft_coefficient__coeff_0__attr_\"abs\"', '0__fft_coefficient__coeff_1__attr_\"abs\"', '0__kurtosis', '0__skewness', '1__fft_coefficient__coeff_0__attr_\"abs\"', '1__fft_coefficient__coeff_1__attr_\"abs\"', '1__kurtosis', '1__skewness', '2__fft_coefficient__coeff_0__attr_\"abs\"', '2__fft_coefficient__coeff_1__attr_\"abs\"', '2__kurtosis', '2__skewness', '3__fft_coefficient__coeff_0__attr_\"abs\"', '3__fft_coefficient__coeff_1__attr_\"abs\"', '3__kurtosis', '3__skewness', '4__fft_coefficient__coeff_0__attr_\"abs\"', '4__fft_coefficient__coeff_1__attr_\"abs\"', '4__kurtosis', '4__skewness', '5__fft_coefficient__coeff_0__attr_\"abs\"', '5__fft_coefficient__coeff_1__attr_\"abs\"', '5__kurtosis', '5__skewness', 'flux__length', 'flux__longest_strike_above_mean', 'flux__longest_strike_below_mean', 'flux__mean_abs_change', 'flux__mean_change', 'flux_by_flux_ratio_sq__longest_strike_above_mean', 'flux_by_flux_ratio_sq__longest_strike_below_mean', 'mjd__mean_abs_change', 'mjd__mean_change', 'mjd_diff_det', 'ra', 'decl', 'gal_l', 'gal_b', 'ddf', 'hostgal_specz', 'hostgal_photoz', 'hostgal_photoz_err', 'distmod', 'mwebv', 'haversine', 'latlon1', 'hostgal_photoz_certain']\n",
      "      240000000 done in  99.5 minutes\n"
     ]
    },
    {
     "name": "stderr",
     "output_type": "stream",
     "text": [
      "Feature Extraction: 100%|██████████| 20/20 [00:34<00:00,  1.69s/it]\n",
      "Feature Extraction: 100%|██████████| 20/20 [00:06<00:00,  3.70it/s]\n",
      "Feature Extraction: 100%|██████████| 20/20 [00:04<00:00,  6.00it/s]\n",
      "Feature Extraction: 100%|██████████| 20/20 [00:03<00:00,  6.29it/s]\n"
     ]
    },
    {
     "name": "stdout",
     "output_type": "stream",
     "text": [
      "['object_id', 'flux_min', 'flux_max', 'flux_mean', 'flux_median', 'flux_std', 'flux_skew', 'flux_err_min', 'flux_err_max', 'flux_err_mean', 'flux_err_median', 'flux_err_std', 'flux_err_skew', 'detected_mean', 'flux_ratio_sq_sum', 'flux_ratio_sq_skew', 'flux_by_flux_ratio_sq_sum', 'flux_by_flux_ratio_sq_skew', 'flux_w_mean', 'flux_diff1', 'flux_diff2', 'flux_diff3', '0__fft_coefficient__coeff_0__attr_\"abs\"', '0__fft_coefficient__coeff_1__attr_\"abs\"', '0__kurtosis', '0__skewness', '1__fft_coefficient__coeff_0__attr_\"abs\"', '1__fft_coefficient__coeff_1__attr_\"abs\"', '1__kurtosis', '1__skewness', '2__fft_coefficient__coeff_0__attr_\"abs\"', '2__fft_coefficient__coeff_1__attr_\"abs\"', '2__kurtosis', '2__skewness', '3__fft_coefficient__coeff_0__attr_\"abs\"', '3__fft_coefficient__coeff_1__attr_\"abs\"', '3__kurtosis', '3__skewness', '4__fft_coefficient__coeff_0__attr_\"abs\"', '4__fft_coefficient__coeff_1__attr_\"abs\"', '4__kurtosis', '4__skewness', '5__fft_coefficient__coeff_0__attr_\"abs\"', '5__fft_coefficient__coeff_1__attr_\"abs\"', '5__kurtosis', '5__skewness', 'flux__length', 'flux__longest_strike_above_mean', 'flux__longest_strike_below_mean', 'flux__mean_abs_change', 'flux__mean_change', 'flux_by_flux_ratio_sq__longest_strike_above_mean', 'flux_by_flux_ratio_sq__longest_strike_below_mean', 'mjd__mean_abs_change', 'mjd__mean_change', 'mjd_diff_det', 'ra', 'decl', 'gal_l', 'gal_b', 'ddf', 'hostgal_specz', 'hostgal_photoz', 'hostgal_photoz_err', 'distmod', 'mwebv', 'haversine', 'latlon1', 'hostgal_photoz_certain']\n",
      "      245000000 done in 101.6 minutes\n"
     ]
    },
    {
     "name": "stderr",
     "output_type": "stream",
     "text": [
      "Feature Extraction: 100%|██████████| 20/20 [00:34<00:00,  1.47s/it]\n",
      "Feature Extraction: 100%|██████████| 20/20 [00:06<00:00,  3.62it/s]\n",
      "Feature Extraction: 100%|██████████| 20/20 [00:03<00:00,  5.00it/s]\n",
      "Feature Extraction: 100%|██████████| 20/20 [00:03<00:00,  6.17it/s]\n"
     ]
    },
    {
     "name": "stdout",
     "output_type": "stream",
     "text": [
      "['object_id', 'flux_min', 'flux_max', 'flux_mean', 'flux_median', 'flux_std', 'flux_skew', 'flux_err_min', 'flux_err_max', 'flux_err_mean', 'flux_err_median', 'flux_err_std', 'flux_err_skew', 'detected_mean', 'flux_ratio_sq_sum', 'flux_ratio_sq_skew', 'flux_by_flux_ratio_sq_sum', 'flux_by_flux_ratio_sq_skew', 'flux_w_mean', 'flux_diff1', 'flux_diff2', 'flux_diff3', '0__fft_coefficient__coeff_0__attr_\"abs\"', '0__fft_coefficient__coeff_1__attr_\"abs\"', '0__kurtosis', '0__skewness', '1__fft_coefficient__coeff_0__attr_\"abs\"', '1__fft_coefficient__coeff_1__attr_\"abs\"', '1__kurtosis', '1__skewness', '2__fft_coefficient__coeff_0__attr_\"abs\"', '2__fft_coefficient__coeff_1__attr_\"abs\"', '2__kurtosis', '2__skewness', '3__fft_coefficient__coeff_0__attr_\"abs\"', '3__fft_coefficient__coeff_1__attr_\"abs\"', '3__kurtosis', '3__skewness', '4__fft_coefficient__coeff_0__attr_\"abs\"', '4__fft_coefficient__coeff_1__attr_\"abs\"', '4__kurtosis', '4__skewness', '5__fft_coefficient__coeff_0__attr_\"abs\"', '5__fft_coefficient__coeff_1__attr_\"abs\"', '5__kurtosis', '5__skewness', 'flux__length', 'flux__longest_strike_above_mean', 'flux__longest_strike_below_mean', 'flux__mean_abs_change', 'flux__mean_change', 'flux_by_flux_ratio_sq__longest_strike_above_mean', 'flux_by_flux_ratio_sq__longest_strike_below_mean', 'mjd__mean_abs_change', 'mjd__mean_change', 'mjd_diff_det', 'ra', 'decl', 'gal_l', 'gal_b', 'ddf', 'hostgal_specz', 'hostgal_photoz', 'hostgal_photoz_err', 'distmod', 'mwebv', 'haversine', 'latlon1', 'hostgal_photoz_certain']\n",
      "      250000000 done in 103.7 minutes\n"
     ]
    },
    {
     "name": "stderr",
     "output_type": "stream",
     "text": [
      "Feature Extraction: 100%|██████████| 20/20 [00:34<00:00,  1.44s/it]\n",
      "Feature Extraction: 100%|██████████| 20/20 [00:06<00:00,  3.44it/s]\n",
      "Feature Extraction: 100%|██████████| 20/20 [00:04<00:00,  5.83it/s]\n",
      "Feature Extraction: 100%|██████████| 20/20 [00:03<00:00,  7.03it/s]\n"
     ]
    },
    {
     "name": "stdout",
     "output_type": "stream",
     "text": [
      "['object_id', 'flux_min', 'flux_max', 'flux_mean', 'flux_median', 'flux_std', 'flux_skew', 'flux_err_min', 'flux_err_max', 'flux_err_mean', 'flux_err_median', 'flux_err_std', 'flux_err_skew', 'detected_mean', 'flux_ratio_sq_sum', 'flux_ratio_sq_skew', 'flux_by_flux_ratio_sq_sum', 'flux_by_flux_ratio_sq_skew', 'flux_w_mean', 'flux_diff1', 'flux_diff2', 'flux_diff3', '0__fft_coefficient__coeff_0__attr_\"abs\"', '0__fft_coefficient__coeff_1__attr_\"abs\"', '0__kurtosis', '0__skewness', '1__fft_coefficient__coeff_0__attr_\"abs\"', '1__fft_coefficient__coeff_1__attr_\"abs\"', '1__kurtosis', '1__skewness', '2__fft_coefficient__coeff_0__attr_\"abs\"', '2__fft_coefficient__coeff_1__attr_\"abs\"', '2__kurtosis', '2__skewness', '3__fft_coefficient__coeff_0__attr_\"abs\"', '3__fft_coefficient__coeff_1__attr_\"abs\"', '3__kurtosis', '3__skewness', '4__fft_coefficient__coeff_0__attr_\"abs\"', '4__fft_coefficient__coeff_1__attr_\"abs\"', '4__kurtosis', '4__skewness', '5__fft_coefficient__coeff_0__attr_\"abs\"', '5__fft_coefficient__coeff_1__attr_\"abs\"', '5__kurtosis', '5__skewness', 'flux__length', 'flux__longest_strike_above_mean', 'flux__longest_strike_below_mean', 'flux__mean_abs_change', 'flux__mean_change', 'flux_by_flux_ratio_sq__longest_strike_above_mean', 'flux_by_flux_ratio_sq__longest_strike_below_mean', 'mjd__mean_abs_change', 'mjd__mean_change', 'mjd_diff_det', 'ra', 'decl', 'gal_l', 'gal_b', 'ddf', 'hostgal_specz', 'hostgal_photoz', 'hostgal_photoz_err', 'distmod', 'mwebv', 'haversine', 'latlon1', 'hostgal_photoz_certain']\n",
      "      255000000 done in 105.8 minutes\n"
     ]
    },
    {
     "name": "stderr",
     "output_type": "stream",
     "text": [
      "Feature Extraction: 100%|██████████| 20/20 [00:34<00:00,  1.48s/it]\n",
      "Feature Extraction: 100%|██████████| 20/20 [00:06<00:00,  3.79it/s]\n",
      "Feature Extraction: 100%|██████████| 20/20 [00:04<00:00,  5.18it/s]\n",
      "Feature Extraction: 100%|██████████| 20/20 [00:03<00:00,  6.83it/s]\n"
     ]
    },
    {
     "name": "stdout",
     "output_type": "stream",
     "text": [
      "['object_id', 'flux_min', 'flux_max', 'flux_mean', 'flux_median', 'flux_std', 'flux_skew', 'flux_err_min', 'flux_err_max', 'flux_err_mean', 'flux_err_median', 'flux_err_std', 'flux_err_skew', 'detected_mean', 'flux_ratio_sq_sum', 'flux_ratio_sq_skew', 'flux_by_flux_ratio_sq_sum', 'flux_by_flux_ratio_sq_skew', 'flux_w_mean', 'flux_diff1', 'flux_diff2', 'flux_diff3', '0__fft_coefficient__coeff_0__attr_\"abs\"', '0__fft_coefficient__coeff_1__attr_\"abs\"', '0__kurtosis', '0__skewness', '1__fft_coefficient__coeff_0__attr_\"abs\"', '1__fft_coefficient__coeff_1__attr_\"abs\"', '1__kurtosis', '1__skewness', '2__fft_coefficient__coeff_0__attr_\"abs\"', '2__fft_coefficient__coeff_1__attr_\"abs\"', '2__kurtosis', '2__skewness', '3__fft_coefficient__coeff_0__attr_\"abs\"', '3__fft_coefficient__coeff_1__attr_\"abs\"', '3__kurtosis', '3__skewness', '4__fft_coefficient__coeff_0__attr_\"abs\"', '4__fft_coefficient__coeff_1__attr_\"abs\"', '4__kurtosis', '4__skewness', '5__fft_coefficient__coeff_0__attr_\"abs\"', '5__fft_coefficient__coeff_1__attr_\"abs\"', '5__kurtosis', '5__skewness', 'flux__length', 'flux__longest_strike_above_mean', 'flux__longest_strike_below_mean', 'flux__mean_abs_change', 'flux__mean_change', 'flux_by_flux_ratio_sq__longest_strike_above_mean', 'flux_by_flux_ratio_sq__longest_strike_below_mean', 'mjd__mean_abs_change', 'mjd__mean_change', 'mjd_diff_det', 'ra', 'decl', 'gal_l', 'gal_b', 'ddf', 'hostgal_specz', 'hostgal_photoz', 'hostgal_photoz_err', 'distmod', 'mwebv', 'haversine', 'latlon1', 'hostgal_photoz_certain']\n",
      "      260000000 done in 107.9 minutes\n"
     ]
    },
    {
     "name": "stderr",
     "output_type": "stream",
     "text": [
      "Feature Extraction: 100%|██████████| 20/20 [00:33<00:00,  1.35s/it]\n",
      "Feature Extraction: 100%|██████████| 20/20 [00:06<00:00,  3.67it/s]\n",
      "Feature Extraction: 100%|██████████| 20/20 [00:03<00:00,  6.24it/s]\n",
      "Feature Extraction: 100%|██████████| 20/20 [00:03<00:00,  6.48it/s]\n"
     ]
    },
    {
     "name": "stdout",
     "output_type": "stream",
     "text": [
      "['object_id', 'flux_min', 'flux_max', 'flux_mean', 'flux_median', 'flux_std', 'flux_skew', 'flux_err_min', 'flux_err_max', 'flux_err_mean', 'flux_err_median', 'flux_err_std', 'flux_err_skew', 'detected_mean', 'flux_ratio_sq_sum', 'flux_ratio_sq_skew', 'flux_by_flux_ratio_sq_sum', 'flux_by_flux_ratio_sq_skew', 'flux_w_mean', 'flux_diff1', 'flux_diff2', 'flux_diff3', '0__fft_coefficient__coeff_0__attr_\"abs\"', '0__fft_coefficient__coeff_1__attr_\"abs\"', '0__kurtosis', '0__skewness', '1__fft_coefficient__coeff_0__attr_\"abs\"', '1__fft_coefficient__coeff_1__attr_\"abs\"', '1__kurtosis', '1__skewness', '2__fft_coefficient__coeff_0__attr_\"abs\"', '2__fft_coefficient__coeff_1__attr_\"abs\"', '2__kurtosis', '2__skewness', '3__fft_coefficient__coeff_0__attr_\"abs\"', '3__fft_coefficient__coeff_1__attr_\"abs\"', '3__kurtosis', '3__skewness', '4__fft_coefficient__coeff_0__attr_\"abs\"', '4__fft_coefficient__coeff_1__attr_\"abs\"', '4__kurtosis', '4__skewness', '5__fft_coefficient__coeff_0__attr_\"abs\"', '5__fft_coefficient__coeff_1__attr_\"abs\"', '5__kurtosis', '5__skewness', 'flux__length', 'flux__longest_strike_above_mean', 'flux__longest_strike_below_mean', 'flux__mean_abs_change', 'flux__mean_change', 'flux_by_flux_ratio_sq__longest_strike_above_mean', 'flux_by_flux_ratio_sq__longest_strike_below_mean', 'mjd__mean_abs_change', 'mjd__mean_change', 'mjd_diff_det', 'ra', 'decl', 'gal_l', 'gal_b', 'ddf', 'hostgal_specz', 'hostgal_photoz', 'hostgal_photoz_err', 'distmod', 'mwebv', 'haversine', 'latlon1', 'hostgal_photoz_certain']\n",
      "      265000000 done in 110.1 minutes\n"
     ]
    },
    {
     "name": "stderr",
     "output_type": "stream",
     "text": [
      "Feature Extraction: 100%|██████████| 20/20 [00:34<00:00,  1.65s/it]\n",
      "Feature Extraction: 100%|██████████| 20/20 [00:06<00:00,  3.62it/s]\n",
      "Feature Extraction: 100%|██████████| 20/20 [00:04<00:00,  4.92it/s]\n",
      "Feature Extraction: 100%|██████████| 20/20 [00:03<00:00,  6.80it/s]\n"
     ]
    },
    {
     "name": "stdout",
     "output_type": "stream",
     "text": [
      "['object_id', 'flux_min', 'flux_max', 'flux_mean', 'flux_median', 'flux_std', 'flux_skew', 'flux_err_min', 'flux_err_max', 'flux_err_mean', 'flux_err_median', 'flux_err_std', 'flux_err_skew', 'detected_mean', 'flux_ratio_sq_sum', 'flux_ratio_sq_skew', 'flux_by_flux_ratio_sq_sum', 'flux_by_flux_ratio_sq_skew', 'flux_w_mean', 'flux_diff1', 'flux_diff2', 'flux_diff3', '0__fft_coefficient__coeff_0__attr_\"abs\"', '0__fft_coefficient__coeff_1__attr_\"abs\"', '0__kurtosis', '0__skewness', '1__fft_coefficient__coeff_0__attr_\"abs\"', '1__fft_coefficient__coeff_1__attr_\"abs\"', '1__kurtosis', '1__skewness', '2__fft_coefficient__coeff_0__attr_\"abs\"', '2__fft_coefficient__coeff_1__attr_\"abs\"', '2__kurtosis', '2__skewness', '3__fft_coefficient__coeff_0__attr_\"abs\"', '3__fft_coefficient__coeff_1__attr_\"abs\"', '3__kurtosis', '3__skewness', '4__fft_coefficient__coeff_0__attr_\"abs\"', '4__fft_coefficient__coeff_1__attr_\"abs\"', '4__kurtosis', '4__skewness', '5__fft_coefficient__coeff_0__attr_\"abs\"', '5__fft_coefficient__coeff_1__attr_\"abs\"', '5__kurtosis', '5__skewness', 'flux__length', 'flux__longest_strike_above_mean', 'flux__longest_strike_below_mean', 'flux__mean_abs_change', 'flux__mean_change', 'flux_by_flux_ratio_sq__longest_strike_above_mean', 'flux_by_flux_ratio_sq__longest_strike_below_mean', 'mjd__mean_abs_change', 'mjd__mean_change', 'mjd_diff_det', 'ra', 'decl', 'gal_l', 'gal_b', 'ddf', 'hostgal_specz', 'hostgal_photoz', 'hostgal_photoz_err', 'distmod', 'mwebv', 'haversine', 'latlon1', 'hostgal_photoz_certain']\n",
      "      270000000 done in 112.2 minutes\n"
     ]
    },
    {
     "name": "stderr",
     "output_type": "stream",
     "text": [
      "Feature Extraction: 100%|██████████| 20/20 [00:34<00:00,  1.39s/it]\n",
      "Feature Extraction: 100%|██████████| 20/20 [00:06<00:00,  3.75it/s]\n",
      "Feature Extraction: 100%|██████████| 20/20 [00:04<00:00,  5.64it/s]\n",
      "Feature Extraction: 100%|██████████| 20/20 [00:03<00:00,  6.19it/s]\n"
     ]
    },
    {
     "name": "stdout",
     "output_type": "stream",
     "text": [
      "['object_id', 'flux_min', 'flux_max', 'flux_mean', 'flux_median', 'flux_std', 'flux_skew', 'flux_err_min', 'flux_err_max', 'flux_err_mean', 'flux_err_median', 'flux_err_std', 'flux_err_skew', 'detected_mean', 'flux_ratio_sq_sum', 'flux_ratio_sq_skew', 'flux_by_flux_ratio_sq_sum', 'flux_by_flux_ratio_sq_skew', 'flux_w_mean', 'flux_diff1', 'flux_diff2', 'flux_diff3', '0__fft_coefficient__coeff_0__attr_\"abs\"', '0__fft_coefficient__coeff_1__attr_\"abs\"', '0__kurtosis', '0__skewness', '1__fft_coefficient__coeff_0__attr_\"abs\"', '1__fft_coefficient__coeff_1__attr_\"abs\"', '1__kurtosis', '1__skewness', '2__fft_coefficient__coeff_0__attr_\"abs\"', '2__fft_coefficient__coeff_1__attr_\"abs\"', '2__kurtosis', '2__skewness', '3__fft_coefficient__coeff_0__attr_\"abs\"', '3__fft_coefficient__coeff_1__attr_\"abs\"', '3__kurtosis', '3__skewness', '4__fft_coefficient__coeff_0__attr_\"abs\"', '4__fft_coefficient__coeff_1__attr_\"abs\"', '4__kurtosis', '4__skewness', '5__fft_coefficient__coeff_0__attr_\"abs\"', '5__fft_coefficient__coeff_1__attr_\"abs\"', '5__kurtosis', '5__skewness', 'flux__length', 'flux__longest_strike_above_mean', 'flux__longest_strike_below_mean', 'flux__mean_abs_change', 'flux__mean_change', 'flux_by_flux_ratio_sq__longest_strike_above_mean', 'flux_by_flux_ratio_sq__longest_strike_below_mean', 'mjd__mean_abs_change', 'mjd__mean_change', 'mjd_diff_det', 'ra', 'decl', 'gal_l', 'gal_b', 'ddf', 'hostgal_specz', 'hostgal_photoz', 'hostgal_photoz_err', 'distmod', 'mwebv', 'haversine', 'latlon1', 'hostgal_photoz_certain']\n",
      "      275000000 done in 114.3 minutes\n"
     ]
    },
    {
     "name": "stderr",
     "output_type": "stream",
     "text": [
      "Feature Extraction: 100%|██████████| 20/20 [00:34<00:00,  1.42s/it]\n",
      "Feature Extraction: 100%|██████████| 20/20 [00:06<00:00,  3.95it/s]\n",
      "Feature Extraction: 100%|██████████| 20/20 [00:04<00:00,  5.67it/s]\n",
      "Feature Extraction: 100%|██████████| 20/20 [00:03<00:00,  6.93it/s]\n"
     ]
    },
    {
     "name": "stdout",
     "output_type": "stream",
     "text": [
      "['object_id', 'flux_min', 'flux_max', 'flux_mean', 'flux_median', 'flux_std', 'flux_skew', 'flux_err_min', 'flux_err_max', 'flux_err_mean', 'flux_err_median', 'flux_err_std', 'flux_err_skew', 'detected_mean', 'flux_ratio_sq_sum', 'flux_ratio_sq_skew', 'flux_by_flux_ratio_sq_sum', 'flux_by_flux_ratio_sq_skew', 'flux_w_mean', 'flux_diff1', 'flux_diff2', 'flux_diff3', '0__fft_coefficient__coeff_0__attr_\"abs\"', '0__fft_coefficient__coeff_1__attr_\"abs\"', '0__kurtosis', '0__skewness', '1__fft_coefficient__coeff_0__attr_\"abs\"', '1__fft_coefficient__coeff_1__attr_\"abs\"', '1__kurtosis', '1__skewness', '2__fft_coefficient__coeff_0__attr_\"abs\"', '2__fft_coefficient__coeff_1__attr_\"abs\"', '2__kurtosis', '2__skewness', '3__fft_coefficient__coeff_0__attr_\"abs\"', '3__fft_coefficient__coeff_1__attr_\"abs\"', '3__kurtosis', '3__skewness', '4__fft_coefficient__coeff_0__attr_\"abs\"', '4__fft_coefficient__coeff_1__attr_\"abs\"', '4__kurtosis', '4__skewness', '5__fft_coefficient__coeff_0__attr_\"abs\"', '5__fft_coefficient__coeff_1__attr_\"abs\"', '5__kurtosis', '5__skewness', 'flux__length', 'flux__longest_strike_above_mean', 'flux__longest_strike_below_mean', 'flux__mean_abs_change', 'flux__mean_change', 'flux_by_flux_ratio_sq__longest_strike_above_mean', 'flux_by_flux_ratio_sq__longest_strike_below_mean', 'mjd__mean_abs_change', 'mjd__mean_change', 'mjd_diff_det', 'ra', 'decl', 'gal_l', 'gal_b', 'ddf', 'hostgal_specz', 'hostgal_photoz', 'hostgal_photoz_err', 'distmod', 'mwebv', 'haversine', 'latlon1', 'hostgal_photoz_certain']\n",
      "      280000000 done in 116.4 minutes\n"
     ]
    },
    {
     "name": "stderr",
     "output_type": "stream",
     "text": [
      "Feature Extraction: 100%|██████████| 20/20 [00:34<00:00,  1.49s/it]\n",
      "Feature Extraction: 100%|██████████| 20/20 [00:06<00:00,  2.99it/s]\n",
      "Feature Extraction: 100%|██████████| 20/20 [00:03<00:00,  6.47it/s]\n",
      "Feature Extraction: 100%|██████████| 20/20 [00:03<00:00,  6.12it/s]\n"
     ]
    },
    {
     "name": "stdout",
     "output_type": "stream",
     "text": [
      "['object_id', 'flux_min', 'flux_max', 'flux_mean', 'flux_median', 'flux_std', 'flux_skew', 'flux_err_min', 'flux_err_max', 'flux_err_mean', 'flux_err_median', 'flux_err_std', 'flux_err_skew', 'detected_mean', 'flux_ratio_sq_sum', 'flux_ratio_sq_skew', 'flux_by_flux_ratio_sq_sum', 'flux_by_flux_ratio_sq_skew', 'flux_w_mean', 'flux_diff1', 'flux_diff2', 'flux_diff3', '0__fft_coefficient__coeff_0__attr_\"abs\"', '0__fft_coefficient__coeff_1__attr_\"abs\"', '0__kurtosis', '0__skewness', '1__fft_coefficient__coeff_0__attr_\"abs\"', '1__fft_coefficient__coeff_1__attr_\"abs\"', '1__kurtosis', '1__skewness', '2__fft_coefficient__coeff_0__attr_\"abs\"', '2__fft_coefficient__coeff_1__attr_\"abs\"', '2__kurtosis', '2__skewness', '3__fft_coefficient__coeff_0__attr_\"abs\"', '3__fft_coefficient__coeff_1__attr_\"abs\"', '3__kurtosis', '3__skewness', '4__fft_coefficient__coeff_0__attr_\"abs\"', '4__fft_coefficient__coeff_1__attr_\"abs\"', '4__kurtosis', '4__skewness', '5__fft_coefficient__coeff_0__attr_\"abs\"', '5__fft_coefficient__coeff_1__attr_\"abs\"', '5__kurtosis', '5__skewness', 'flux__length', 'flux__longest_strike_above_mean', 'flux__longest_strike_below_mean', 'flux__mean_abs_change', 'flux__mean_change', 'flux_by_flux_ratio_sq__longest_strike_above_mean', 'flux_by_flux_ratio_sq__longest_strike_below_mean', 'mjd__mean_abs_change', 'mjd__mean_change', 'mjd_diff_det', 'ra', 'decl', 'gal_l', 'gal_b', 'ddf', 'hostgal_specz', 'hostgal_photoz', 'hostgal_photoz_err', 'distmod', 'mwebv', 'haversine', 'latlon1', 'hostgal_photoz_certain']\n",
      "      285000000 done in 118.5 minutes\n"
     ]
    },
    {
     "name": "stderr",
     "output_type": "stream",
     "text": [
      "Feature Extraction: 100%|██████████| 20/20 [00:34<00:00,  1.37s/it]\n",
      "Feature Extraction: 100%|██████████| 20/20 [00:06<00:00,  2.90it/s]\n",
      "Feature Extraction: 100%|██████████| 20/20 [00:03<00:00,  6.25it/s]\n",
      "Feature Extraction: 100%|██████████| 20/20 [00:03<00:00,  7.27it/s]\n"
     ]
    },
    {
     "name": "stdout",
     "output_type": "stream",
     "text": [
      "['object_id', 'flux_min', 'flux_max', 'flux_mean', 'flux_median', 'flux_std', 'flux_skew', 'flux_err_min', 'flux_err_max', 'flux_err_mean', 'flux_err_median', 'flux_err_std', 'flux_err_skew', 'detected_mean', 'flux_ratio_sq_sum', 'flux_ratio_sq_skew', 'flux_by_flux_ratio_sq_sum', 'flux_by_flux_ratio_sq_skew', 'flux_w_mean', 'flux_diff1', 'flux_diff2', 'flux_diff3', '0__fft_coefficient__coeff_0__attr_\"abs\"', '0__fft_coefficient__coeff_1__attr_\"abs\"', '0__kurtosis', '0__skewness', '1__fft_coefficient__coeff_0__attr_\"abs\"', '1__fft_coefficient__coeff_1__attr_\"abs\"', '1__kurtosis', '1__skewness', '2__fft_coefficient__coeff_0__attr_\"abs\"', '2__fft_coefficient__coeff_1__attr_\"abs\"', '2__kurtosis', '2__skewness', '3__fft_coefficient__coeff_0__attr_\"abs\"', '3__fft_coefficient__coeff_1__attr_\"abs\"', '3__kurtosis', '3__skewness', '4__fft_coefficient__coeff_0__attr_\"abs\"', '4__fft_coefficient__coeff_1__attr_\"abs\"', '4__kurtosis', '4__skewness', '5__fft_coefficient__coeff_0__attr_\"abs\"', '5__fft_coefficient__coeff_1__attr_\"abs\"', '5__kurtosis', '5__skewness', 'flux__length', 'flux__longest_strike_above_mean', 'flux__longest_strike_below_mean', 'flux__mean_abs_change', 'flux__mean_change', 'flux_by_flux_ratio_sq__longest_strike_above_mean', 'flux_by_flux_ratio_sq__longest_strike_below_mean', 'mjd__mean_abs_change', 'mjd__mean_change', 'mjd_diff_det', 'ra', 'decl', 'gal_l', 'gal_b', 'ddf', 'hostgal_specz', 'hostgal_photoz', 'hostgal_photoz_err', 'distmod', 'mwebv', 'haversine', 'latlon1', 'hostgal_photoz_certain']\n",
      "      290000000 done in 120.6 minutes\n"
     ]
    },
    {
     "name": "stderr",
     "output_type": "stream",
     "text": [
      "Feature Extraction: 100%|██████████| 20/20 [00:34<00:00,  1.57s/it]\n",
      "Feature Extraction: 100%|██████████| 20/20 [00:06<00:00,  3.60it/s]\n",
      "Feature Extraction: 100%|██████████| 20/20 [00:03<00:00,  5.42it/s]\n",
      "Feature Extraction: 100%|██████████| 20/20 [00:03<00:00,  7.22it/s]\n"
     ]
    },
    {
     "name": "stdout",
     "output_type": "stream",
     "text": [
      "['object_id', 'flux_min', 'flux_max', 'flux_mean', 'flux_median', 'flux_std', 'flux_skew', 'flux_err_min', 'flux_err_max', 'flux_err_mean', 'flux_err_median', 'flux_err_std', 'flux_err_skew', 'detected_mean', 'flux_ratio_sq_sum', 'flux_ratio_sq_skew', 'flux_by_flux_ratio_sq_sum', 'flux_by_flux_ratio_sq_skew', 'flux_w_mean', 'flux_diff1', 'flux_diff2', 'flux_diff3', '0__fft_coefficient__coeff_0__attr_\"abs\"', '0__fft_coefficient__coeff_1__attr_\"abs\"', '0__kurtosis', '0__skewness', '1__fft_coefficient__coeff_0__attr_\"abs\"', '1__fft_coefficient__coeff_1__attr_\"abs\"', '1__kurtosis', '1__skewness', '2__fft_coefficient__coeff_0__attr_\"abs\"', '2__fft_coefficient__coeff_1__attr_\"abs\"', '2__kurtosis', '2__skewness', '3__fft_coefficient__coeff_0__attr_\"abs\"', '3__fft_coefficient__coeff_1__attr_\"abs\"', '3__kurtosis', '3__skewness', '4__fft_coefficient__coeff_0__attr_\"abs\"', '4__fft_coefficient__coeff_1__attr_\"abs\"', '4__kurtosis', '4__skewness', '5__fft_coefficient__coeff_0__attr_\"abs\"', '5__fft_coefficient__coeff_1__attr_\"abs\"', '5__kurtosis', '5__skewness', 'flux__length', 'flux__longest_strike_above_mean', 'flux__longest_strike_below_mean', 'flux__mean_abs_change', 'flux__mean_change', 'flux_by_flux_ratio_sq__longest_strike_above_mean', 'flux_by_flux_ratio_sq__longest_strike_below_mean', 'mjd__mean_abs_change', 'mjd__mean_change', 'mjd_diff_det', 'ra', 'decl', 'gal_l', 'gal_b', 'ddf', 'hostgal_specz', 'hostgal_photoz', 'hostgal_photoz_err', 'distmod', 'mwebv', 'haversine', 'latlon1', 'hostgal_photoz_certain']\n",
      "      295000000 done in 122.7 minutes\n"
     ]
    },
    {
     "name": "stderr",
     "output_type": "stream",
     "text": [
      "Feature Extraction: 100%|██████████| 20/20 [00:34<00:00,  1.57s/it]\n",
      "Feature Extraction: 100%|██████████| 20/20 [00:06<00:00,  3.45it/s]\n",
      "Feature Extraction: 100%|██████████| 20/20 [00:03<00:00,  5.13it/s]\n",
      "Feature Extraction: 100%|██████████| 20/20 [00:03<00:00,  6.54it/s]\n"
     ]
    },
    {
     "name": "stdout",
     "output_type": "stream",
     "text": [
      "['object_id', 'flux_min', 'flux_max', 'flux_mean', 'flux_median', 'flux_std', 'flux_skew', 'flux_err_min', 'flux_err_max', 'flux_err_mean', 'flux_err_median', 'flux_err_std', 'flux_err_skew', 'detected_mean', 'flux_ratio_sq_sum', 'flux_ratio_sq_skew', 'flux_by_flux_ratio_sq_sum', 'flux_by_flux_ratio_sq_skew', 'flux_w_mean', 'flux_diff1', 'flux_diff2', 'flux_diff3', '0__fft_coefficient__coeff_0__attr_\"abs\"', '0__fft_coefficient__coeff_1__attr_\"abs\"', '0__kurtosis', '0__skewness', '1__fft_coefficient__coeff_0__attr_\"abs\"', '1__fft_coefficient__coeff_1__attr_\"abs\"', '1__kurtosis', '1__skewness', '2__fft_coefficient__coeff_0__attr_\"abs\"', '2__fft_coefficient__coeff_1__attr_\"abs\"', '2__kurtosis', '2__skewness', '3__fft_coefficient__coeff_0__attr_\"abs\"', '3__fft_coefficient__coeff_1__attr_\"abs\"', '3__kurtosis', '3__skewness', '4__fft_coefficient__coeff_0__attr_\"abs\"', '4__fft_coefficient__coeff_1__attr_\"abs\"', '4__kurtosis', '4__skewness', '5__fft_coefficient__coeff_0__attr_\"abs\"', '5__fft_coefficient__coeff_1__attr_\"abs\"', '5__kurtosis', '5__skewness', 'flux__length', 'flux__longest_strike_above_mean', 'flux__longest_strike_below_mean', 'flux__mean_abs_change', 'flux__mean_change', 'flux_by_flux_ratio_sq__longest_strike_above_mean', 'flux_by_flux_ratio_sq__longest_strike_below_mean', 'mjd__mean_abs_change', 'mjd__mean_change', 'mjd_diff_det', 'ra', 'decl', 'gal_l', 'gal_b', 'ddf', 'hostgal_specz', 'hostgal_photoz', 'hostgal_photoz_err', 'distmod', 'mwebv', 'haversine', 'latlon1', 'hostgal_photoz_certain']\n",
      "      300000000 done in 124.8 minutes\n"
     ]
    },
    {
     "name": "stderr",
     "output_type": "stream",
     "text": [
      "Feature Extraction: 100%|██████████| 20/20 [00:34<00:00,  1.32s/it]\n",
      "Feature Extraction: 100%|██████████| 20/20 [00:06<00:00,  3.33it/s]\n",
      "Feature Extraction: 100%|██████████| 20/20 [00:04<00:00,  5.54it/s]\n",
      "Feature Extraction: 100%|██████████| 20/20 [00:03<00:00,  6.12it/s]\n"
     ]
    },
    {
     "name": "stdout",
     "output_type": "stream",
     "text": [
      "['object_id', 'flux_min', 'flux_max', 'flux_mean', 'flux_median', 'flux_std', 'flux_skew', 'flux_err_min', 'flux_err_max', 'flux_err_mean', 'flux_err_median', 'flux_err_std', 'flux_err_skew', 'detected_mean', 'flux_ratio_sq_sum', 'flux_ratio_sq_skew', 'flux_by_flux_ratio_sq_sum', 'flux_by_flux_ratio_sq_skew', 'flux_w_mean', 'flux_diff1', 'flux_diff2', 'flux_diff3', '0__fft_coefficient__coeff_0__attr_\"abs\"', '0__fft_coefficient__coeff_1__attr_\"abs\"', '0__kurtosis', '0__skewness', '1__fft_coefficient__coeff_0__attr_\"abs\"', '1__fft_coefficient__coeff_1__attr_\"abs\"', '1__kurtosis', '1__skewness', '2__fft_coefficient__coeff_0__attr_\"abs\"', '2__fft_coefficient__coeff_1__attr_\"abs\"', '2__kurtosis', '2__skewness', '3__fft_coefficient__coeff_0__attr_\"abs\"', '3__fft_coefficient__coeff_1__attr_\"abs\"', '3__kurtosis', '3__skewness', '4__fft_coefficient__coeff_0__attr_\"abs\"', '4__fft_coefficient__coeff_1__attr_\"abs\"', '4__kurtosis', '4__skewness', '5__fft_coefficient__coeff_0__attr_\"abs\"', '5__fft_coefficient__coeff_1__attr_\"abs\"', '5__kurtosis', '5__skewness', 'flux__length', 'flux__longest_strike_above_mean', 'flux__longest_strike_below_mean', 'flux__mean_abs_change', 'flux__mean_change', 'flux_by_flux_ratio_sq__longest_strike_above_mean', 'flux_by_flux_ratio_sq__longest_strike_below_mean', 'mjd__mean_abs_change', 'mjd__mean_change', 'mjd_diff_det', 'ra', 'decl', 'gal_l', 'gal_b', 'ddf', 'hostgal_specz', 'hostgal_photoz', 'hostgal_photoz_err', 'distmod', 'mwebv', 'haversine', 'latlon1', 'hostgal_photoz_certain']\n",
      "      305000000 done in 126.9 minutes\n"
     ]
    },
    {
     "name": "stderr",
     "output_type": "stream",
     "text": [
      "Feature Extraction: 100%|██████████| 20/20 [00:34<00:00,  1.39s/it]\n",
      "Feature Extraction: 100%|██████████| 20/20 [00:06<00:00,  4.00it/s]\n",
      "Feature Extraction: 100%|██████████| 20/20 [00:03<00:00,  6.56it/s]\n",
      "Feature Extraction: 100%|██████████| 20/20 [00:03<00:00,  6.03it/s]\n"
     ]
    },
    {
     "name": "stdout",
     "output_type": "stream",
     "text": [
      "['object_id', 'flux_min', 'flux_max', 'flux_mean', 'flux_median', 'flux_std', 'flux_skew', 'flux_err_min', 'flux_err_max', 'flux_err_mean', 'flux_err_median', 'flux_err_std', 'flux_err_skew', 'detected_mean', 'flux_ratio_sq_sum', 'flux_ratio_sq_skew', 'flux_by_flux_ratio_sq_sum', 'flux_by_flux_ratio_sq_skew', 'flux_w_mean', 'flux_diff1', 'flux_diff2', 'flux_diff3', '0__fft_coefficient__coeff_0__attr_\"abs\"', '0__fft_coefficient__coeff_1__attr_\"abs\"', '0__kurtosis', '0__skewness', '1__fft_coefficient__coeff_0__attr_\"abs\"', '1__fft_coefficient__coeff_1__attr_\"abs\"', '1__kurtosis', '1__skewness', '2__fft_coefficient__coeff_0__attr_\"abs\"', '2__fft_coefficient__coeff_1__attr_\"abs\"', '2__kurtosis', '2__skewness', '3__fft_coefficient__coeff_0__attr_\"abs\"', '3__fft_coefficient__coeff_1__attr_\"abs\"', '3__kurtosis', '3__skewness', '4__fft_coefficient__coeff_0__attr_\"abs\"', '4__fft_coefficient__coeff_1__attr_\"abs\"', '4__kurtosis', '4__skewness', '5__fft_coefficient__coeff_0__attr_\"abs\"', '5__fft_coefficient__coeff_1__attr_\"abs\"', '5__kurtosis', '5__skewness', 'flux__length', 'flux__longest_strike_above_mean', 'flux__longest_strike_below_mean', 'flux__mean_abs_change', 'flux__mean_change', 'flux_by_flux_ratio_sq__longest_strike_above_mean', 'flux_by_flux_ratio_sq__longest_strike_below_mean', 'mjd__mean_abs_change', 'mjd__mean_change', 'mjd_diff_det', 'ra', 'decl', 'gal_l', 'gal_b', 'ddf', 'hostgal_specz', 'hostgal_photoz', 'hostgal_photoz_err', 'distmod', 'mwebv', 'haversine', 'latlon1', 'hostgal_photoz_certain']\n",
      "      310000000 done in 129.0 minutes\n"
     ]
    },
    {
     "name": "stderr",
     "output_type": "stream",
     "text": [
      "Feature Extraction: 100%|██████████| 20/20 [00:33<00:00,  1.21s/it]\n",
      "Feature Extraction: 100%|██████████| 20/20 [00:06<00:00,  3.28it/s]\n",
      "Feature Extraction: 100%|██████████| 20/20 [00:03<00:00,  5.07it/s]\n",
      "Feature Extraction: 100%|██████████| 20/20 [00:03<00:00,  7.00it/s]\n"
     ]
    },
    {
     "name": "stdout",
     "output_type": "stream",
     "text": [
      "['object_id', 'flux_min', 'flux_max', 'flux_mean', 'flux_median', 'flux_std', 'flux_skew', 'flux_err_min', 'flux_err_max', 'flux_err_mean', 'flux_err_median', 'flux_err_std', 'flux_err_skew', 'detected_mean', 'flux_ratio_sq_sum', 'flux_ratio_sq_skew', 'flux_by_flux_ratio_sq_sum', 'flux_by_flux_ratio_sq_skew', 'flux_w_mean', 'flux_diff1', 'flux_diff2', 'flux_diff3', '0__fft_coefficient__coeff_0__attr_\"abs\"', '0__fft_coefficient__coeff_1__attr_\"abs\"', '0__kurtosis', '0__skewness', '1__fft_coefficient__coeff_0__attr_\"abs\"', '1__fft_coefficient__coeff_1__attr_\"abs\"', '1__kurtosis', '1__skewness', '2__fft_coefficient__coeff_0__attr_\"abs\"', '2__fft_coefficient__coeff_1__attr_\"abs\"', '2__kurtosis', '2__skewness', '3__fft_coefficient__coeff_0__attr_\"abs\"', '3__fft_coefficient__coeff_1__attr_\"abs\"', '3__kurtosis', '3__skewness', '4__fft_coefficient__coeff_0__attr_\"abs\"', '4__fft_coefficient__coeff_1__attr_\"abs\"', '4__kurtosis', '4__skewness', '5__fft_coefficient__coeff_0__attr_\"abs\"', '5__fft_coefficient__coeff_1__attr_\"abs\"', '5__kurtosis', '5__skewness', 'flux__length', 'flux__longest_strike_above_mean', 'flux__longest_strike_below_mean', 'flux__mean_abs_change', 'flux__mean_change', 'flux_by_flux_ratio_sq__longest_strike_above_mean', 'flux_by_flux_ratio_sq__longest_strike_below_mean', 'mjd__mean_abs_change', 'mjd__mean_change', 'mjd_diff_det', 'ra', 'decl', 'gal_l', 'gal_b', 'ddf', 'hostgal_specz', 'hostgal_photoz', 'hostgal_photoz_err', 'distmod', 'mwebv', 'haversine', 'latlon1', 'hostgal_photoz_certain']\n",
      "      315000000 done in 131.2 minutes\n"
     ]
    },
    {
     "name": "stderr",
     "output_type": "stream",
     "text": [
      "Feature Extraction: 100%|██████████| 20/20 [00:33<00:00,  1.35s/it]\n",
      "Feature Extraction: 100%|██████████| 20/20 [00:06<00:00,  3.13it/s]\n",
      "Feature Extraction: 100%|██████████| 20/20 [00:04<00:00,  4.42it/s]\n",
      "Feature Extraction: 100%|██████████| 20/20 [00:03<00:00,  6.94it/s]\n"
     ]
    },
    {
     "name": "stdout",
     "output_type": "stream",
     "text": [
      "['object_id', 'flux_min', 'flux_max', 'flux_mean', 'flux_median', 'flux_std', 'flux_skew', 'flux_err_min', 'flux_err_max', 'flux_err_mean', 'flux_err_median', 'flux_err_std', 'flux_err_skew', 'detected_mean', 'flux_ratio_sq_sum', 'flux_ratio_sq_skew', 'flux_by_flux_ratio_sq_sum', 'flux_by_flux_ratio_sq_skew', 'flux_w_mean', 'flux_diff1', 'flux_diff2', 'flux_diff3', '0__fft_coefficient__coeff_0__attr_\"abs\"', '0__fft_coefficient__coeff_1__attr_\"abs\"', '0__kurtosis', '0__skewness', '1__fft_coefficient__coeff_0__attr_\"abs\"', '1__fft_coefficient__coeff_1__attr_\"abs\"', '1__kurtosis', '1__skewness', '2__fft_coefficient__coeff_0__attr_\"abs\"', '2__fft_coefficient__coeff_1__attr_\"abs\"', '2__kurtosis', '2__skewness', '3__fft_coefficient__coeff_0__attr_\"abs\"', '3__fft_coefficient__coeff_1__attr_\"abs\"', '3__kurtosis', '3__skewness', '4__fft_coefficient__coeff_0__attr_\"abs\"', '4__fft_coefficient__coeff_1__attr_\"abs\"', '4__kurtosis', '4__skewness', '5__fft_coefficient__coeff_0__attr_\"abs\"', '5__fft_coefficient__coeff_1__attr_\"abs\"', '5__kurtosis', '5__skewness', 'flux__length', 'flux__longest_strike_above_mean', 'flux__longest_strike_below_mean', 'flux__mean_abs_change', 'flux__mean_change', 'flux_by_flux_ratio_sq__longest_strike_above_mean', 'flux_by_flux_ratio_sq__longest_strike_below_mean', 'mjd__mean_abs_change', 'mjd__mean_change', 'mjd_diff_det', 'ra', 'decl', 'gal_l', 'gal_b', 'ddf', 'hostgal_specz', 'hostgal_photoz', 'hostgal_photoz_err', 'distmod', 'mwebv', 'haversine', 'latlon1', 'hostgal_photoz_certain']\n",
      "      320000000 done in 133.3 minutes\n"
     ]
    },
    {
     "name": "stderr",
     "output_type": "stream",
     "text": [
      "Feature Extraction: 100%|██████████| 20/20 [00:33<00:00,  1.25s/it]\n",
      "Feature Extraction: 100%|██████████| 20/20 [00:06<00:00,  2.81it/s]\n",
      "Feature Extraction: 100%|██████████| 20/20 [00:04<00:00,  4.95it/s]\n",
      "Feature Extraction: 100%|██████████| 20/20 [00:03<00:00,  6.65it/s]\n"
     ]
    },
    {
     "name": "stdout",
     "output_type": "stream",
     "text": [
      "['object_id', 'flux_min', 'flux_max', 'flux_mean', 'flux_median', 'flux_std', 'flux_skew', 'flux_err_min', 'flux_err_max', 'flux_err_mean', 'flux_err_median', 'flux_err_std', 'flux_err_skew', 'detected_mean', 'flux_ratio_sq_sum', 'flux_ratio_sq_skew', 'flux_by_flux_ratio_sq_sum', 'flux_by_flux_ratio_sq_skew', 'flux_w_mean', 'flux_diff1', 'flux_diff2', 'flux_diff3', '0__fft_coefficient__coeff_0__attr_\"abs\"', '0__fft_coefficient__coeff_1__attr_\"abs\"', '0__kurtosis', '0__skewness', '1__fft_coefficient__coeff_0__attr_\"abs\"', '1__fft_coefficient__coeff_1__attr_\"abs\"', '1__kurtosis', '1__skewness', '2__fft_coefficient__coeff_0__attr_\"abs\"', '2__fft_coefficient__coeff_1__attr_\"abs\"', '2__kurtosis', '2__skewness', '3__fft_coefficient__coeff_0__attr_\"abs\"', '3__fft_coefficient__coeff_1__attr_\"abs\"', '3__kurtosis', '3__skewness', '4__fft_coefficient__coeff_0__attr_\"abs\"', '4__fft_coefficient__coeff_1__attr_\"abs\"', '4__kurtosis', '4__skewness', '5__fft_coefficient__coeff_0__attr_\"abs\"', '5__fft_coefficient__coeff_1__attr_\"abs\"', '5__kurtosis', '5__skewness', 'flux__length', 'flux__longest_strike_above_mean', 'flux__longest_strike_below_mean', 'flux__mean_abs_change', 'flux__mean_change', 'flux_by_flux_ratio_sq__longest_strike_above_mean', 'flux_by_flux_ratio_sq__longest_strike_below_mean', 'mjd__mean_abs_change', 'mjd__mean_change', 'mjd_diff_det', 'ra', 'decl', 'gal_l', 'gal_b', 'ddf', 'hostgal_specz', 'hostgal_photoz', 'hostgal_photoz_err', 'distmod', 'mwebv', 'haversine', 'latlon1', 'hostgal_photoz_certain']\n",
      "      325000000 done in 135.4 minutes\n"
     ]
    },
    {
     "name": "stderr",
     "output_type": "stream",
     "text": [
      "Feature Extraction: 100%|██████████| 20/20 [00:33<00:00,  1.24s/it]\n",
      "Feature Extraction: 100%|██████████| 20/20 [00:06<00:00,  3.10it/s]\n",
      "Feature Extraction: 100%|██████████| 20/20 [00:04<00:00,  6.20it/s]\n",
      "Feature Extraction: 100%|██████████| 20/20 [00:03<00:00,  6.95it/s]\n"
     ]
    },
    {
     "name": "stdout",
     "output_type": "stream",
     "text": [
      "['object_id', 'flux_min', 'flux_max', 'flux_mean', 'flux_median', 'flux_std', 'flux_skew', 'flux_err_min', 'flux_err_max', 'flux_err_mean', 'flux_err_median', 'flux_err_std', 'flux_err_skew', 'detected_mean', 'flux_ratio_sq_sum', 'flux_ratio_sq_skew', 'flux_by_flux_ratio_sq_sum', 'flux_by_flux_ratio_sq_skew', 'flux_w_mean', 'flux_diff1', 'flux_diff2', 'flux_diff3', '0__fft_coefficient__coeff_0__attr_\"abs\"', '0__fft_coefficient__coeff_1__attr_\"abs\"', '0__kurtosis', '0__skewness', '1__fft_coefficient__coeff_0__attr_\"abs\"', '1__fft_coefficient__coeff_1__attr_\"abs\"', '1__kurtosis', '1__skewness', '2__fft_coefficient__coeff_0__attr_\"abs\"', '2__fft_coefficient__coeff_1__attr_\"abs\"', '2__kurtosis', '2__skewness', '3__fft_coefficient__coeff_0__attr_\"abs\"', '3__fft_coefficient__coeff_1__attr_\"abs\"', '3__kurtosis', '3__skewness', '4__fft_coefficient__coeff_0__attr_\"abs\"', '4__fft_coefficient__coeff_1__attr_\"abs\"', '4__kurtosis', '4__skewness', '5__fft_coefficient__coeff_0__attr_\"abs\"', '5__fft_coefficient__coeff_1__attr_\"abs\"', '5__kurtosis', '5__skewness', 'flux__length', 'flux__longest_strike_above_mean', 'flux__longest_strike_below_mean', 'flux__mean_abs_change', 'flux__mean_change', 'flux_by_flux_ratio_sq__longest_strike_above_mean', 'flux_by_flux_ratio_sq__longest_strike_below_mean', 'mjd__mean_abs_change', 'mjd__mean_change', 'mjd_diff_det', 'ra', 'decl', 'gal_l', 'gal_b', 'ddf', 'hostgal_specz', 'hostgal_photoz', 'hostgal_photoz_err', 'distmod', 'mwebv', 'haversine', 'latlon1', 'hostgal_photoz_certain']\n",
      "      330000000 done in 137.5 minutes\n"
     ]
    },
    {
     "name": "stderr",
     "output_type": "stream",
     "text": [
      "Feature Extraction: 100%|██████████| 20/20 [00:34<00:00,  1.40s/it]\n",
      "Feature Extraction: 100%|██████████| 20/20 [00:06<00:00,  3.32it/s]\n",
      "Feature Extraction: 100%|██████████| 20/20 [00:04<00:00,  5.09it/s]\n",
      "Feature Extraction: 100%|██████████| 20/20 [00:03<00:00,  6.89it/s]\n"
     ]
    },
    {
     "name": "stdout",
     "output_type": "stream",
     "text": [
      "['object_id', 'flux_min', 'flux_max', 'flux_mean', 'flux_median', 'flux_std', 'flux_skew', 'flux_err_min', 'flux_err_max', 'flux_err_mean', 'flux_err_median', 'flux_err_std', 'flux_err_skew', 'detected_mean', 'flux_ratio_sq_sum', 'flux_ratio_sq_skew', 'flux_by_flux_ratio_sq_sum', 'flux_by_flux_ratio_sq_skew', 'flux_w_mean', 'flux_diff1', 'flux_diff2', 'flux_diff3', '0__fft_coefficient__coeff_0__attr_\"abs\"', '0__fft_coefficient__coeff_1__attr_\"abs\"', '0__kurtosis', '0__skewness', '1__fft_coefficient__coeff_0__attr_\"abs\"', '1__fft_coefficient__coeff_1__attr_\"abs\"', '1__kurtosis', '1__skewness', '2__fft_coefficient__coeff_0__attr_\"abs\"', '2__fft_coefficient__coeff_1__attr_\"abs\"', '2__kurtosis', '2__skewness', '3__fft_coefficient__coeff_0__attr_\"abs\"', '3__fft_coefficient__coeff_1__attr_\"abs\"', '3__kurtosis', '3__skewness', '4__fft_coefficient__coeff_0__attr_\"abs\"', '4__fft_coefficient__coeff_1__attr_\"abs\"', '4__kurtosis', '4__skewness', '5__fft_coefficient__coeff_0__attr_\"abs\"', '5__fft_coefficient__coeff_1__attr_\"abs\"', '5__kurtosis', '5__skewness', 'flux__length', 'flux__longest_strike_above_mean', 'flux__longest_strike_below_mean', 'flux__mean_abs_change', 'flux__mean_change', 'flux_by_flux_ratio_sq__longest_strike_above_mean', 'flux_by_flux_ratio_sq__longest_strike_below_mean', 'mjd__mean_abs_change', 'mjd__mean_change', 'mjd_diff_det', 'ra', 'decl', 'gal_l', 'gal_b', 'ddf', 'hostgal_specz', 'hostgal_photoz', 'hostgal_photoz_err', 'distmod', 'mwebv', 'haversine', 'latlon1', 'hostgal_photoz_certain']\n",
      "      335000000 done in 139.6 minutes\n"
     ]
    },
    {
     "name": "stderr",
     "output_type": "stream",
     "text": [
      "Feature Extraction: 100%|██████████| 20/20 [00:34<00:00,  1.32s/it]\n",
      "Feature Extraction: 100%|██████████| 20/20 [00:06<00:00,  2.83it/s]\n",
      "Feature Extraction: 100%|██████████| 20/20 [00:04<00:00,  5.85it/s]\n",
      "Feature Extraction: 100%|██████████| 20/20 [00:03<00:00,  6.85it/s]\n"
     ]
    },
    {
     "name": "stdout",
     "output_type": "stream",
     "text": [
      "['object_id', 'flux_min', 'flux_max', 'flux_mean', 'flux_median', 'flux_std', 'flux_skew', 'flux_err_min', 'flux_err_max', 'flux_err_mean', 'flux_err_median', 'flux_err_std', 'flux_err_skew', 'detected_mean', 'flux_ratio_sq_sum', 'flux_ratio_sq_skew', 'flux_by_flux_ratio_sq_sum', 'flux_by_flux_ratio_sq_skew', 'flux_w_mean', 'flux_diff1', 'flux_diff2', 'flux_diff3', '0__fft_coefficient__coeff_0__attr_\"abs\"', '0__fft_coefficient__coeff_1__attr_\"abs\"', '0__kurtosis', '0__skewness', '1__fft_coefficient__coeff_0__attr_\"abs\"', '1__fft_coefficient__coeff_1__attr_\"abs\"', '1__kurtosis', '1__skewness', '2__fft_coefficient__coeff_0__attr_\"abs\"', '2__fft_coefficient__coeff_1__attr_\"abs\"', '2__kurtosis', '2__skewness', '3__fft_coefficient__coeff_0__attr_\"abs\"', '3__fft_coefficient__coeff_1__attr_\"abs\"', '3__kurtosis', '3__skewness', '4__fft_coefficient__coeff_0__attr_\"abs\"', '4__fft_coefficient__coeff_1__attr_\"abs\"', '4__kurtosis', '4__skewness', '5__fft_coefficient__coeff_0__attr_\"abs\"', '5__fft_coefficient__coeff_1__attr_\"abs\"', '5__kurtosis', '5__skewness', 'flux__length', 'flux__longest_strike_above_mean', 'flux__longest_strike_below_mean', 'flux__mean_abs_change', 'flux__mean_change', 'flux_by_flux_ratio_sq__longest_strike_above_mean', 'flux_by_flux_ratio_sq__longest_strike_below_mean', 'mjd__mean_abs_change', 'mjd__mean_change', 'mjd_diff_det', 'ra', 'decl', 'gal_l', 'gal_b', 'ddf', 'hostgal_specz', 'hostgal_photoz', 'hostgal_photoz_err', 'distmod', 'mwebv', 'haversine', 'latlon1', 'hostgal_photoz_certain']\n",
      "      340000000 done in 141.7 minutes\n"
     ]
    },
    {
     "name": "stderr",
     "output_type": "stream",
     "text": [
      "Feature Extraction: 100%|██████████| 20/20 [00:33<00:00,  1.34s/it]\n",
      "Feature Extraction: 100%|██████████| 20/20 [00:06<00:00,  3.62it/s]\n",
      "Feature Extraction: 100%|██████████| 20/20 [00:04<00:00,  5.00it/s]\n",
      "Feature Extraction: 100%|██████████| 20/20 [00:03<00:00,  5.01it/s]\n"
     ]
    },
    {
     "name": "stdout",
     "output_type": "stream",
     "text": [
      "['object_id', 'flux_min', 'flux_max', 'flux_mean', 'flux_median', 'flux_std', 'flux_skew', 'flux_err_min', 'flux_err_max', 'flux_err_mean', 'flux_err_median', 'flux_err_std', 'flux_err_skew', 'detected_mean', 'flux_ratio_sq_sum', 'flux_ratio_sq_skew', 'flux_by_flux_ratio_sq_sum', 'flux_by_flux_ratio_sq_skew', 'flux_w_mean', 'flux_diff1', 'flux_diff2', 'flux_diff3', '0__fft_coefficient__coeff_0__attr_\"abs\"', '0__fft_coefficient__coeff_1__attr_\"abs\"', '0__kurtosis', '0__skewness', '1__fft_coefficient__coeff_0__attr_\"abs\"', '1__fft_coefficient__coeff_1__attr_\"abs\"', '1__kurtosis', '1__skewness', '2__fft_coefficient__coeff_0__attr_\"abs\"', '2__fft_coefficient__coeff_1__attr_\"abs\"', '2__kurtosis', '2__skewness', '3__fft_coefficient__coeff_0__attr_\"abs\"', '3__fft_coefficient__coeff_1__attr_\"abs\"', '3__kurtosis', '3__skewness', '4__fft_coefficient__coeff_0__attr_\"abs\"', '4__fft_coefficient__coeff_1__attr_\"abs\"', '4__kurtosis', '4__skewness', '5__fft_coefficient__coeff_0__attr_\"abs\"', '5__fft_coefficient__coeff_1__attr_\"abs\"', '5__kurtosis', '5__skewness', 'flux__length', 'flux__longest_strike_above_mean', 'flux__longest_strike_below_mean', 'flux__mean_abs_change', 'flux__mean_change', 'flux_by_flux_ratio_sq__longest_strike_above_mean', 'flux_by_flux_ratio_sq__longest_strike_below_mean', 'mjd__mean_abs_change', 'mjd__mean_change', 'mjd_diff_det', 'ra', 'decl', 'gal_l', 'gal_b', 'ddf', 'hostgal_specz', 'hostgal_photoz', 'hostgal_photoz_err', 'distmod', 'mwebv', 'haversine', 'latlon1', 'hostgal_photoz_certain']\n",
      "      345000000 done in 143.8 minutes\n"
     ]
    },
    {
     "name": "stderr",
     "output_type": "stream",
     "text": [
      "Feature Extraction: 100%|██████████| 20/20 [00:34<00:00,  1.43s/it]\n",
      "Feature Extraction: 100%|██████████| 20/20 [00:06<00:00,  3.04it/s]\n",
      "Feature Extraction: 100%|██████████| 20/20 [00:03<00:00,  5.19it/s]\n",
      "Feature Extraction: 100%|██████████| 20/20 [00:03<00:00,  6.41it/s]\n"
     ]
    },
    {
     "name": "stdout",
     "output_type": "stream",
     "text": [
      "['object_id', 'flux_min', 'flux_max', 'flux_mean', 'flux_median', 'flux_std', 'flux_skew', 'flux_err_min', 'flux_err_max', 'flux_err_mean', 'flux_err_median', 'flux_err_std', 'flux_err_skew', 'detected_mean', 'flux_ratio_sq_sum', 'flux_ratio_sq_skew', 'flux_by_flux_ratio_sq_sum', 'flux_by_flux_ratio_sq_skew', 'flux_w_mean', 'flux_diff1', 'flux_diff2', 'flux_diff3', '0__fft_coefficient__coeff_0__attr_\"abs\"', '0__fft_coefficient__coeff_1__attr_\"abs\"', '0__kurtosis', '0__skewness', '1__fft_coefficient__coeff_0__attr_\"abs\"', '1__fft_coefficient__coeff_1__attr_\"abs\"', '1__kurtosis', '1__skewness', '2__fft_coefficient__coeff_0__attr_\"abs\"', '2__fft_coefficient__coeff_1__attr_\"abs\"', '2__kurtosis', '2__skewness', '3__fft_coefficient__coeff_0__attr_\"abs\"', '3__fft_coefficient__coeff_1__attr_\"abs\"', '3__kurtosis', '3__skewness', '4__fft_coefficient__coeff_0__attr_\"abs\"', '4__fft_coefficient__coeff_1__attr_\"abs\"', '4__kurtosis', '4__skewness', '5__fft_coefficient__coeff_0__attr_\"abs\"', '5__fft_coefficient__coeff_1__attr_\"abs\"', '5__kurtosis', '5__skewness', 'flux__length', 'flux__longest_strike_above_mean', 'flux__longest_strike_below_mean', 'flux__mean_abs_change', 'flux__mean_change', 'flux_by_flux_ratio_sq__longest_strike_above_mean', 'flux_by_flux_ratio_sq__longest_strike_below_mean', 'mjd__mean_abs_change', 'mjd__mean_change', 'mjd_diff_det', 'ra', 'decl', 'gal_l', 'gal_b', 'ddf', 'hostgal_specz', 'hostgal_photoz', 'hostgal_photoz_err', 'distmod', 'mwebv', 'haversine', 'latlon1', 'hostgal_photoz_certain']\n",
      "      350000000 done in 145.9 minutes\n"
     ]
    },
    {
     "name": "stderr",
     "output_type": "stream",
     "text": [
      "Feature Extraction: 100%|██████████| 20/20 [00:33<00:00,  1.32s/it]\n",
      "Feature Extraction: 100%|██████████| 20/20 [00:06<00:00,  3.34it/s]\n",
      "Feature Extraction: 100%|██████████| 20/20 [00:03<00:00,  6.28it/s]\n",
      "Feature Extraction: 100%|██████████| 20/20 [00:03<00:00,  7.65it/s]\n"
     ]
    },
    {
     "name": "stdout",
     "output_type": "stream",
     "text": [
      "['object_id', 'flux_min', 'flux_max', 'flux_mean', 'flux_median', 'flux_std', 'flux_skew', 'flux_err_min', 'flux_err_max', 'flux_err_mean', 'flux_err_median', 'flux_err_std', 'flux_err_skew', 'detected_mean', 'flux_ratio_sq_sum', 'flux_ratio_sq_skew', 'flux_by_flux_ratio_sq_sum', 'flux_by_flux_ratio_sq_skew', 'flux_w_mean', 'flux_diff1', 'flux_diff2', 'flux_diff3', '0__fft_coefficient__coeff_0__attr_\"abs\"', '0__fft_coefficient__coeff_1__attr_\"abs\"', '0__kurtosis', '0__skewness', '1__fft_coefficient__coeff_0__attr_\"abs\"', '1__fft_coefficient__coeff_1__attr_\"abs\"', '1__kurtosis', '1__skewness', '2__fft_coefficient__coeff_0__attr_\"abs\"', '2__fft_coefficient__coeff_1__attr_\"abs\"', '2__kurtosis', '2__skewness', '3__fft_coefficient__coeff_0__attr_\"abs\"', '3__fft_coefficient__coeff_1__attr_\"abs\"', '3__kurtosis', '3__skewness', '4__fft_coefficient__coeff_0__attr_\"abs\"', '4__fft_coefficient__coeff_1__attr_\"abs\"', '4__kurtosis', '4__skewness', '5__fft_coefficient__coeff_0__attr_\"abs\"', '5__fft_coefficient__coeff_1__attr_\"abs\"', '5__kurtosis', '5__skewness', 'flux__length', 'flux__longest_strike_above_mean', 'flux__longest_strike_below_mean', 'flux__mean_abs_change', 'flux__mean_change', 'flux_by_flux_ratio_sq__longest_strike_above_mean', 'flux_by_flux_ratio_sq__longest_strike_below_mean', 'mjd__mean_abs_change', 'mjd__mean_change', 'mjd_diff_det', 'ra', 'decl', 'gal_l', 'gal_b', 'ddf', 'hostgal_specz', 'hostgal_photoz', 'hostgal_photoz_err', 'distmod', 'mwebv', 'haversine', 'latlon1', 'hostgal_photoz_certain']\n",
      "      355000000 done in 148.0 minutes\n"
     ]
    },
    {
     "name": "stderr",
     "output_type": "stream",
     "text": [
      "Feature Extraction: 100%|██████████| 20/20 [00:33<00:00,  1.29s/it]\n",
      "Feature Extraction: 100%|██████████| 20/20 [00:06<00:00,  3.77it/s]\n",
      "Feature Extraction: 100%|██████████| 20/20 [00:03<00:00,  5.83it/s]\n",
      "Feature Extraction: 100%|██████████| 20/20 [00:03<00:00,  7.20it/s]\n"
     ]
    },
    {
     "name": "stdout",
     "output_type": "stream",
     "text": [
      "['object_id', 'flux_min', 'flux_max', 'flux_mean', 'flux_median', 'flux_std', 'flux_skew', 'flux_err_min', 'flux_err_max', 'flux_err_mean', 'flux_err_median', 'flux_err_std', 'flux_err_skew', 'detected_mean', 'flux_ratio_sq_sum', 'flux_ratio_sq_skew', 'flux_by_flux_ratio_sq_sum', 'flux_by_flux_ratio_sq_skew', 'flux_w_mean', 'flux_diff1', 'flux_diff2', 'flux_diff3', '0__fft_coefficient__coeff_0__attr_\"abs\"', '0__fft_coefficient__coeff_1__attr_\"abs\"', '0__kurtosis', '0__skewness', '1__fft_coefficient__coeff_0__attr_\"abs\"', '1__fft_coefficient__coeff_1__attr_\"abs\"', '1__kurtosis', '1__skewness', '2__fft_coefficient__coeff_0__attr_\"abs\"', '2__fft_coefficient__coeff_1__attr_\"abs\"', '2__kurtosis', '2__skewness', '3__fft_coefficient__coeff_0__attr_\"abs\"', '3__fft_coefficient__coeff_1__attr_\"abs\"', '3__kurtosis', '3__skewness', '4__fft_coefficient__coeff_0__attr_\"abs\"', '4__fft_coefficient__coeff_1__attr_\"abs\"', '4__kurtosis', '4__skewness', '5__fft_coefficient__coeff_0__attr_\"abs\"', '5__fft_coefficient__coeff_1__attr_\"abs\"', '5__kurtosis', '5__skewness', 'flux__length', 'flux__longest_strike_above_mean', 'flux__longest_strike_below_mean', 'flux__mean_abs_change', 'flux__mean_change', 'flux_by_flux_ratio_sq__longest_strike_above_mean', 'flux_by_flux_ratio_sq__longest_strike_below_mean', 'mjd__mean_abs_change', 'mjd__mean_change', 'mjd_diff_det', 'ra', 'decl', 'gal_l', 'gal_b', 'ddf', 'hostgal_specz', 'hostgal_photoz', 'hostgal_photoz_err', 'distmod', 'mwebv', 'haversine', 'latlon1', 'hostgal_photoz_certain']\n",
      "      360000000 done in 150.1 minutes\n"
     ]
    },
    {
     "name": "stderr",
     "output_type": "stream",
     "text": [
      "Feature Extraction: 100%|██████████| 20/20 [00:33<00:00,  1.33s/it]\n",
      "Feature Extraction: 100%|██████████| 20/20 [00:06<00:00,  3.95it/s]\n",
      "Feature Extraction: 100%|██████████| 20/20 [00:03<00:00,  6.33it/s]\n",
      "Feature Extraction: 100%|██████████| 20/20 [00:03<00:00,  7.13it/s]\n"
     ]
    },
    {
     "name": "stdout",
     "output_type": "stream",
     "text": [
      "['object_id', 'flux_min', 'flux_max', 'flux_mean', 'flux_median', 'flux_std', 'flux_skew', 'flux_err_min', 'flux_err_max', 'flux_err_mean', 'flux_err_median', 'flux_err_std', 'flux_err_skew', 'detected_mean', 'flux_ratio_sq_sum', 'flux_ratio_sq_skew', 'flux_by_flux_ratio_sq_sum', 'flux_by_flux_ratio_sq_skew', 'flux_w_mean', 'flux_diff1', 'flux_diff2', 'flux_diff3', '0__fft_coefficient__coeff_0__attr_\"abs\"', '0__fft_coefficient__coeff_1__attr_\"abs\"', '0__kurtosis', '0__skewness', '1__fft_coefficient__coeff_0__attr_\"abs\"', '1__fft_coefficient__coeff_1__attr_\"abs\"', '1__kurtosis', '1__skewness', '2__fft_coefficient__coeff_0__attr_\"abs\"', '2__fft_coefficient__coeff_1__attr_\"abs\"', '2__kurtosis', '2__skewness', '3__fft_coefficient__coeff_0__attr_\"abs\"', '3__fft_coefficient__coeff_1__attr_\"abs\"', '3__kurtosis', '3__skewness', '4__fft_coefficient__coeff_0__attr_\"abs\"', '4__fft_coefficient__coeff_1__attr_\"abs\"', '4__kurtosis', '4__skewness', '5__fft_coefficient__coeff_0__attr_\"abs\"', '5__fft_coefficient__coeff_1__attr_\"abs\"', '5__kurtosis', '5__skewness', 'flux__length', 'flux__longest_strike_above_mean', 'flux__longest_strike_below_mean', 'flux__mean_abs_change', 'flux__mean_change', 'flux_by_flux_ratio_sq__longest_strike_above_mean', 'flux_by_flux_ratio_sq__longest_strike_below_mean', 'mjd__mean_abs_change', 'mjd__mean_change', 'mjd_diff_det', 'ra', 'decl', 'gal_l', 'gal_b', 'ddf', 'hostgal_specz', 'hostgal_photoz', 'hostgal_photoz_err', 'distmod', 'mwebv', 'haversine', 'latlon1', 'hostgal_photoz_certain']\n",
      "      365000000 done in 152.2 minutes\n"
     ]
    },
    {
     "name": "stderr",
     "output_type": "stream",
     "text": [
      "Feature Extraction: 100%|██████████| 20/20 [00:34<00:00,  1.38s/it]\n",
      "Feature Extraction: 100%|██████████| 20/20 [00:06<00:00,  3.60it/s]\n",
      "Feature Extraction: 100%|██████████| 20/20 [00:04<00:00,  5.55it/s]\n",
      "Feature Extraction: 100%|██████████| 20/20 [00:03<00:00,  7.11it/s]\n"
     ]
    },
    {
     "name": "stdout",
     "output_type": "stream",
     "text": [
      "['object_id', 'flux_min', 'flux_max', 'flux_mean', 'flux_median', 'flux_std', 'flux_skew', 'flux_err_min', 'flux_err_max', 'flux_err_mean', 'flux_err_median', 'flux_err_std', 'flux_err_skew', 'detected_mean', 'flux_ratio_sq_sum', 'flux_ratio_sq_skew', 'flux_by_flux_ratio_sq_sum', 'flux_by_flux_ratio_sq_skew', 'flux_w_mean', 'flux_diff1', 'flux_diff2', 'flux_diff3', '0__fft_coefficient__coeff_0__attr_\"abs\"', '0__fft_coefficient__coeff_1__attr_\"abs\"', '0__kurtosis', '0__skewness', '1__fft_coefficient__coeff_0__attr_\"abs\"', '1__fft_coefficient__coeff_1__attr_\"abs\"', '1__kurtosis', '1__skewness', '2__fft_coefficient__coeff_0__attr_\"abs\"', '2__fft_coefficient__coeff_1__attr_\"abs\"', '2__kurtosis', '2__skewness', '3__fft_coefficient__coeff_0__attr_\"abs\"', '3__fft_coefficient__coeff_1__attr_\"abs\"', '3__kurtosis', '3__skewness', '4__fft_coefficient__coeff_0__attr_\"abs\"', '4__fft_coefficient__coeff_1__attr_\"abs\"', '4__kurtosis', '4__skewness', '5__fft_coefficient__coeff_0__attr_\"abs\"', '5__fft_coefficient__coeff_1__attr_\"abs\"', '5__kurtosis', '5__skewness', 'flux__length', 'flux__longest_strike_above_mean', 'flux__longest_strike_below_mean', 'flux__mean_abs_change', 'flux__mean_change', 'flux_by_flux_ratio_sq__longest_strike_above_mean', 'flux_by_flux_ratio_sq__longest_strike_below_mean', 'mjd__mean_abs_change', 'mjd__mean_change', 'mjd_diff_det', 'ra', 'decl', 'gal_l', 'gal_b', 'ddf', 'hostgal_specz', 'hostgal_photoz', 'hostgal_photoz_err', 'distmod', 'mwebv', 'haversine', 'latlon1', 'hostgal_photoz_certain']\n",
      "      370000000 done in 154.3 minutes\n"
     ]
    },
    {
     "name": "stderr",
     "output_type": "stream",
     "text": [
      "Feature Extraction: 100%|██████████| 20/20 [00:34<00:00,  1.39s/it]\n",
      "Feature Extraction: 100%|██████████| 20/20 [00:06<00:00,  4.09it/s]\n",
      "Feature Extraction: 100%|██████████| 20/20 [00:04<00:00,  6.26it/s]\n",
      "Feature Extraction: 100%|██████████| 20/20 [00:03<00:00,  7.62it/s]\n"
     ]
    },
    {
     "name": "stdout",
     "output_type": "stream",
     "text": [
      "['object_id', 'flux_min', 'flux_max', 'flux_mean', 'flux_median', 'flux_std', 'flux_skew', 'flux_err_min', 'flux_err_max', 'flux_err_mean', 'flux_err_median', 'flux_err_std', 'flux_err_skew', 'detected_mean', 'flux_ratio_sq_sum', 'flux_ratio_sq_skew', 'flux_by_flux_ratio_sq_sum', 'flux_by_flux_ratio_sq_skew', 'flux_w_mean', 'flux_diff1', 'flux_diff2', 'flux_diff3', '0__fft_coefficient__coeff_0__attr_\"abs\"', '0__fft_coefficient__coeff_1__attr_\"abs\"', '0__kurtosis', '0__skewness', '1__fft_coefficient__coeff_0__attr_\"abs\"', '1__fft_coefficient__coeff_1__attr_\"abs\"', '1__kurtosis', '1__skewness', '2__fft_coefficient__coeff_0__attr_\"abs\"', '2__fft_coefficient__coeff_1__attr_\"abs\"', '2__kurtosis', '2__skewness', '3__fft_coefficient__coeff_0__attr_\"abs\"', '3__fft_coefficient__coeff_1__attr_\"abs\"', '3__kurtosis', '3__skewness', '4__fft_coefficient__coeff_0__attr_\"abs\"', '4__fft_coefficient__coeff_1__attr_\"abs\"', '4__kurtosis', '4__skewness', '5__fft_coefficient__coeff_0__attr_\"abs\"', '5__fft_coefficient__coeff_1__attr_\"abs\"', '5__kurtosis', '5__skewness', 'flux__length', 'flux__longest_strike_above_mean', 'flux__longest_strike_below_mean', 'flux__mean_abs_change', 'flux__mean_change', 'flux_by_flux_ratio_sq__longest_strike_above_mean', 'flux_by_flux_ratio_sq__longest_strike_below_mean', 'mjd__mean_abs_change', 'mjd__mean_change', 'mjd_diff_det', 'ra', 'decl', 'gal_l', 'gal_b', 'ddf', 'hostgal_specz', 'hostgal_photoz', 'hostgal_photoz_err', 'distmod', 'mwebv', 'haversine', 'latlon1', 'hostgal_photoz_certain']\n",
      "      375000000 done in 156.4 minutes\n"
     ]
    },
    {
     "name": "stderr",
     "output_type": "stream",
     "text": [
      "Feature Extraction: 100%|██████████| 20/20 [00:33<00:00,  1.35s/it]\n",
      "Feature Extraction: 100%|██████████| 20/20 [00:06<00:00,  3.51it/s]\n",
      "Feature Extraction: 100%|██████████| 20/20 [00:03<00:00,  6.18it/s]\n",
      "Feature Extraction: 100%|██████████| 20/20 [00:03<00:00,  7.27it/s]\n"
     ]
    },
    {
     "name": "stdout",
     "output_type": "stream",
     "text": [
      "['object_id', 'flux_min', 'flux_max', 'flux_mean', 'flux_median', 'flux_std', 'flux_skew', 'flux_err_min', 'flux_err_max', 'flux_err_mean', 'flux_err_median', 'flux_err_std', 'flux_err_skew', 'detected_mean', 'flux_ratio_sq_sum', 'flux_ratio_sq_skew', 'flux_by_flux_ratio_sq_sum', 'flux_by_flux_ratio_sq_skew', 'flux_w_mean', 'flux_diff1', 'flux_diff2', 'flux_diff3', '0__fft_coefficient__coeff_0__attr_\"abs\"', '0__fft_coefficient__coeff_1__attr_\"abs\"', '0__kurtosis', '0__skewness', '1__fft_coefficient__coeff_0__attr_\"abs\"', '1__fft_coefficient__coeff_1__attr_\"abs\"', '1__kurtosis', '1__skewness', '2__fft_coefficient__coeff_0__attr_\"abs\"', '2__fft_coefficient__coeff_1__attr_\"abs\"', '2__kurtosis', '2__skewness', '3__fft_coefficient__coeff_0__attr_\"abs\"', '3__fft_coefficient__coeff_1__attr_\"abs\"', '3__kurtosis', '3__skewness', '4__fft_coefficient__coeff_0__attr_\"abs\"', '4__fft_coefficient__coeff_1__attr_\"abs\"', '4__kurtosis', '4__skewness', '5__fft_coefficient__coeff_0__attr_\"abs\"', '5__fft_coefficient__coeff_1__attr_\"abs\"', '5__kurtosis', '5__skewness', 'flux__length', 'flux__longest_strike_above_mean', 'flux__longest_strike_below_mean', 'flux__mean_abs_change', 'flux__mean_change', 'flux_by_flux_ratio_sq__longest_strike_above_mean', 'flux_by_flux_ratio_sq__longest_strike_below_mean', 'mjd__mean_abs_change', 'mjd__mean_change', 'mjd_diff_det', 'ra', 'decl', 'gal_l', 'gal_b', 'ddf', 'hostgal_specz', 'hostgal_photoz', 'hostgal_photoz_err', 'distmod', 'mwebv', 'haversine', 'latlon1', 'hostgal_photoz_certain']\n",
      "      380000000 done in 158.5 minutes\n"
     ]
    },
    {
     "name": "stderr",
     "output_type": "stream",
     "text": [
      "Feature Extraction: 100%|██████████| 20/20 [00:34<00:00,  1.45s/it]\n",
      "Feature Extraction: 100%|██████████| 20/20 [00:07<00:00,  2.74it/s]\n",
      "Feature Extraction: 100%|██████████| 20/20 [00:04<00:00,  5.33it/s]\n",
      "Feature Extraction: 100%|██████████| 20/20 [00:03<00:00,  7.33it/s]\n"
     ]
    },
    {
     "name": "stdout",
     "output_type": "stream",
     "text": [
      "['object_id', 'flux_min', 'flux_max', 'flux_mean', 'flux_median', 'flux_std', 'flux_skew', 'flux_err_min', 'flux_err_max', 'flux_err_mean', 'flux_err_median', 'flux_err_std', 'flux_err_skew', 'detected_mean', 'flux_ratio_sq_sum', 'flux_ratio_sq_skew', 'flux_by_flux_ratio_sq_sum', 'flux_by_flux_ratio_sq_skew', 'flux_w_mean', 'flux_diff1', 'flux_diff2', 'flux_diff3', '0__fft_coefficient__coeff_0__attr_\"abs\"', '0__fft_coefficient__coeff_1__attr_\"abs\"', '0__kurtosis', '0__skewness', '1__fft_coefficient__coeff_0__attr_\"abs\"', '1__fft_coefficient__coeff_1__attr_\"abs\"', '1__kurtosis', '1__skewness', '2__fft_coefficient__coeff_0__attr_\"abs\"', '2__fft_coefficient__coeff_1__attr_\"abs\"', '2__kurtosis', '2__skewness', '3__fft_coefficient__coeff_0__attr_\"abs\"', '3__fft_coefficient__coeff_1__attr_\"abs\"', '3__kurtosis', '3__skewness', '4__fft_coefficient__coeff_0__attr_\"abs\"', '4__fft_coefficient__coeff_1__attr_\"abs\"', '4__kurtosis', '4__skewness', '5__fft_coefficient__coeff_0__attr_\"abs\"', '5__fft_coefficient__coeff_1__attr_\"abs\"', '5__kurtosis', '5__skewness', 'flux__length', 'flux__longest_strike_above_mean', 'flux__longest_strike_below_mean', 'flux__mean_abs_change', 'flux__mean_change', 'flux_by_flux_ratio_sq__longest_strike_above_mean', 'flux_by_flux_ratio_sq__longest_strike_below_mean', 'mjd__mean_abs_change', 'mjd__mean_change', 'mjd_diff_det', 'ra', 'decl', 'gal_l', 'gal_b', 'ddf', 'hostgal_specz', 'hostgal_photoz', 'hostgal_photoz_err', 'distmod', 'mwebv', 'haversine', 'latlon1', 'hostgal_photoz_certain']\n",
      "      385000000 done in 160.6 minutes\n"
     ]
    },
    {
     "name": "stderr",
     "output_type": "stream",
     "text": [
      "Feature Extraction: 100%|██████████| 20/20 [00:34<00:00,  1.48s/it]\n",
      "Feature Extraction: 100%|██████████| 20/20 [00:06<00:00,  3.69it/s]\n",
      "Feature Extraction: 100%|██████████| 20/20 [00:04<00:00,  5.34it/s]\n",
      "Feature Extraction: 100%|██████████| 20/20 [00:03<00:00,  7.35it/s]\n"
     ]
    },
    {
     "name": "stdout",
     "output_type": "stream",
     "text": [
      "['object_id', 'flux_min', 'flux_max', 'flux_mean', 'flux_median', 'flux_std', 'flux_skew', 'flux_err_min', 'flux_err_max', 'flux_err_mean', 'flux_err_median', 'flux_err_std', 'flux_err_skew', 'detected_mean', 'flux_ratio_sq_sum', 'flux_ratio_sq_skew', 'flux_by_flux_ratio_sq_sum', 'flux_by_flux_ratio_sq_skew', 'flux_w_mean', 'flux_diff1', 'flux_diff2', 'flux_diff3', '0__fft_coefficient__coeff_0__attr_\"abs\"', '0__fft_coefficient__coeff_1__attr_\"abs\"', '0__kurtosis', '0__skewness', '1__fft_coefficient__coeff_0__attr_\"abs\"', '1__fft_coefficient__coeff_1__attr_\"abs\"', '1__kurtosis', '1__skewness', '2__fft_coefficient__coeff_0__attr_\"abs\"', '2__fft_coefficient__coeff_1__attr_\"abs\"', '2__kurtosis', '2__skewness', '3__fft_coefficient__coeff_0__attr_\"abs\"', '3__fft_coefficient__coeff_1__attr_\"abs\"', '3__kurtosis', '3__skewness', '4__fft_coefficient__coeff_0__attr_\"abs\"', '4__fft_coefficient__coeff_1__attr_\"abs\"', '4__kurtosis', '4__skewness', '5__fft_coefficient__coeff_0__attr_\"abs\"', '5__fft_coefficient__coeff_1__attr_\"abs\"', '5__kurtosis', '5__skewness', 'flux__length', 'flux__longest_strike_above_mean', 'flux__longest_strike_below_mean', 'flux__mean_abs_change', 'flux__mean_change', 'flux_by_flux_ratio_sq__longest_strike_above_mean', 'flux_by_flux_ratio_sq__longest_strike_below_mean', 'mjd__mean_abs_change', 'mjd__mean_change', 'mjd_diff_det', 'ra', 'decl', 'gal_l', 'gal_b', 'ddf', 'hostgal_specz', 'hostgal_photoz', 'hostgal_photoz_err', 'distmod', 'mwebv', 'haversine', 'latlon1', 'hostgal_photoz_certain']\n",
      "      390000000 done in 162.7 minutes\n"
     ]
    },
    {
     "name": "stderr",
     "output_type": "stream",
     "text": [
      "Feature Extraction: 100%|██████████| 20/20 [00:33<00:00,  1.32s/it]\n",
      "Feature Extraction: 100%|██████████| 20/20 [00:06<00:00,  3.41it/s]\n",
      "Feature Extraction: 100%|██████████| 20/20 [00:04<00:00,  5.91it/s]\n",
      "Feature Extraction: 100%|██████████| 20/20 [00:03<00:00,  7.44it/s]\n"
     ]
    },
    {
     "name": "stdout",
     "output_type": "stream",
     "text": [
      "['object_id', 'flux_min', 'flux_max', 'flux_mean', 'flux_median', 'flux_std', 'flux_skew', 'flux_err_min', 'flux_err_max', 'flux_err_mean', 'flux_err_median', 'flux_err_std', 'flux_err_skew', 'detected_mean', 'flux_ratio_sq_sum', 'flux_ratio_sq_skew', 'flux_by_flux_ratio_sq_sum', 'flux_by_flux_ratio_sq_skew', 'flux_w_mean', 'flux_diff1', 'flux_diff2', 'flux_diff3', '0__fft_coefficient__coeff_0__attr_\"abs\"', '0__fft_coefficient__coeff_1__attr_\"abs\"', '0__kurtosis', '0__skewness', '1__fft_coefficient__coeff_0__attr_\"abs\"', '1__fft_coefficient__coeff_1__attr_\"abs\"', '1__kurtosis', '1__skewness', '2__fft_coefficient__coeff_0__attr_\"abs\"', '2__fft_coefficient__coeff_1__attr_\"abs\"', '2__kurtosis', '2__skewness', '3__fft_coefficient__coeff_0__attr_\"abs\"', '3__fft_coefficient__coeff_1__attr_\"abs\"', '3__kurtosis', '3__skewness', '4__fft_coefficient__coeff_0__attr_\"abs\"', '4__fft_coefficient__coeff_1__attr_\"abs\"', '4__kurtosis', '4__skewness', '5__fft_coefficient__coeff_0__attr_\"abs\"', '5__fft_coefficient__coeff_1__attr_\"abs\"', '5__kurtosis', '5__skewness', 'flux__length', 'flux__longest_strike_above_mean', 'flux__longest_strike_below_mean', 'flux__mean_abs_change', 'flux__mean_change', 'flux_by_flux_ratio_sq__longest_strike_above_mean', 'flux_by_flux_ratio_sq__longest_strike_below_mean', 'mjd__mean_abs_change', 'mjd__mean_change', 'mjd_diff_det', 'ra', 'decl', 'gal_l', 'gal_b', 'ddf', 'hostgal_specz', 'hostgal_photoz', 'hostgal_photoz_err', 'distmod', 'mwebv', 'haversine', 'latlon1', 'hostgal_photoz_certain']\n",
      "      395000000 done in 164.8 minutes\n"
     ]
    },
    {
     "name": "stderr",
     "output_type": "stream",
     "text": [
      "Feature Extraction: 100%|██████████| 20/20 [00:34<00:00,  1.47s/it]\n",
      "Feature Extraction: 100%|██████████| 20/20 [00:06<00:00,  4.03it/s]\n",
      "Feature Extraction: 100%|██████████| 20/20 [00:03<00:00,  6.30it/s]\n",
      "Feature Extraction: 100%|██████████| 20/20 [00:03<00:00,  7.52it/s]\n"
     ]
    },
    {
     "name": "stdout",
     "output_type": "stream",
     "text": [
      "['object_id', 'flux_min', 'flux_max', 'flux_mean', 'flux_median', 'flux_std', 'flux_skew', 'flux_err_min', 'flux_err_max', 'flux_err_mean', 'flux_err_median', 'flux_err_std', 'flux_err_skew', 'detected_mean', 'flux_ratio_sq_sum', 'flux_ratio_sq_skew', 'flux_by_flux_ratio_sq_sum', 'flux_by_flux_ratio_sq_skew', 'flux_w_mean', 'flux_diff1', 'flux_diff2', 'flux_diff3', '0__fft_coefficient__coeff_0__attr_\"abs\"', '0__fft_coefficient__coeff_1__attr_\"abs\"', '0__kurtosis', '0__skewness', '1__fft_coefficient__coeff_0__attr_\"abs\"', '1__fft_coefficient__coeff_1__attr_\"abs\"', '1__kurtosis', '1__skewness', '2__fft_coefficient__coeff_0__attr_\"abs\"', '2__fft_coefficient__coeff_1__attr_\"abs\"', '2__kurtosis', '2__skewness', '3__fft_coefficient__coeff_0__attr_\"abs\"', '3__fft_coefficient__coeff_1__attr_\"abs\"', '3__kurtosis', '3__skewness', '4__fft_coefficient__coeff_0__attr_\"abs\"', '4__fft_coefficient__coeff_1__attr_\"abs\"', '4__kurtosis', '4__skewness', '5__fft_coefficient__coeff_0__attr_\"abs\"', '5__fft_coefficient__coeff_1__attr_\"abs\"', '5__kurtosis', '5__skewness', 'flux__length', 'flux__longest_strike_above_mean', 'flux__longest_strike_below_mean', 'flux__mean_abs_change', 'flux__mean_change', 'flux_by_flux_ratio_sq__longest_strike_above_mean', 'flux_by_flux_ratio_sq__longest_strike_below_mean', 'mjd__mean_abs_change', 'mjd__mean_change', 'mjd_diff_det', 'ra', 'decl', 'gal_l', 'gal_b', 'ddf', 'hostgal_specz', 'hostgal_photoz', 'hostgal_photoz_err', 'distmod', 'mwebv', 'haversine', 'latlon1', 'hostgal_photoz_certain']\n",
      "      400000000 done in 166.9 minutes\n"
     ]
    },
    {
     "name": "stderr",
     "output_type": "stream",
     "text": [
      "Feature Extraction: 100%|██████████| 20/20 [00:34<00:00,  1.50s/it]\n",
      "Feature Extraction: 100%|██████████| 20/20 [00:06<00:00,  3.05it/s]\n",
      "Feature Extraction: 100%|██████████| 20/20 [00:04<00:00,  5.73it/s]\n",
      "Feature Extraction: 100%|██████████| 20/20 [00:03<00:00,  7.18it/s]\n"
     ]
    },
    {
     "name": "stdout",
     "output_type": "stream",
     "text": [
      "['object_id', 'flux_min', 'flux_max', 'flux_mean', 'flux_median', 'flux_std', 'flux_skew', 'flux_err_min', 'flux_err_max', 'flux_err_mean', 'flux_err_median', 'flux_err_std', 'flux_err_skew', 'detected_mean', 'flux_ratio_sq_sum', 'flux_ratio_sq_skew', 'flux_by_flux_ratio_sq_sum', 'flux_by_flux_ratio_sq_skew', 'flux_w_mean', 'flux_diff1', 'flux_diff2', 'flux_diff3', '0__fft_coefficient__coeff_0__attr_\"abs\"', '0__fft_coefficient__coeff_1__attr_\"abs\"', '0__kurtosis', '0__skewness', '1__fft_coefficient__coeff_0__attr_\"abs\"', '1__fft_coefficient__coeff_1__attr_\"abs\"', '1__kurtosis', '1__skewness', '2__fft_coefficient__coeff_0__attr_\"abs\"', '2__fft_coefficient__coeff_1__attr_\"abs\"', '2__kurtosis', '2__skewness', '3__fft_coefficient__coeff_0__attr_\"abs\"', '3__fft_coefficient__coeff_1__attr_\"abs\"', '3__kurtosis', '3__skewness', '4__fft_coefficient__coeff_0__attr_\"abs\"', '4__fft_coefficient__coeff_1__attr_\"abs\"', '4__kurtosis', '4__skewness', '5__fft_coefficient__coeff_0__attr_\"abs\"', '5__fft_coefficient__coeff_1__attr_\"abs\"', '5__kurtosis', '5__skewness', 'flux__length', 'flux__longest_strike_above_mean', 'flux__longest_strike_below_mean', 'flux__mean_abs_change', 'flux__mean_change', 'flux_by_flux_ratio_sq__longest_strike_above_mean', 'flux_by_flux_ratio_sq__longest_strike_below_mean', 'mjd__mean_abs_change', 'mjd__mean_change', 'mjd_diff_det', 'ra', 'decl', 'gal_l', 'gal_b', 'ddf', 'hostgal_specz', 'hostgal_photoz', 'hostgal_photoz_err', 'distmod', 'mwebv', 'haversine', 'latlon1', 'hostgal_photoz_certain']\n",
      "      405000000 done in 169.0 minutes\n"
     ]
    },
    {
     "name": "stderr",
     "output_type": "stream",
     "text": [
      "Feature Extraction: 100%|██████████| 20/20 [00:33<00:00,  1.34s/it]\n",
      "Feature Extraction: 100%|██████████| 20/20 [00:06<00:00,  3.88it/s]\n",
      "Feature Extraction: 100%|██████████| 20/20 [00:04<00:00,  4.93it/s]\n",
      "Feature Extraction: 100%|██████████| 20/20 [00:03<00:00,  6.45it/s]\n"
     ]
    },
    {
     "name": "stdout",
     "output_type": "stream",
     "text": [
      "['object_id', 'flux_min', 'flux_max', 'flux_mean', 'flux_median', 'flux_std', 'flux_skew', 'flux_err_min', 'flux_err_max', 'flux_err_mean', 'flux_err_median', 'flux_err_std', 'flux_err_skew', 'detected_mean', 'flux_ratio_sq_sum', 'flux_ratio_sq_skew', 'flux_by_flux_ratio_sq_sum', 'flux_by_flux_ratio_sq_skew', 'flux_w_mean', 'flux_diff1', 'flux_diff2', 'flux_diff3', '0__fft_coefficient__coeff_0__attr_\"abs\"', '0__fft_coefficient__coeff_1__attr_\"abs\"', '0__kurtosis', '0__skewness', '1__fft_coefficient__coeff_0__attr_\"abs\"', '1__fft_coefficient__coeff_1__attr_\"abs\"', '1__kurtosis', '1__skewness', '2__fft_coefficient__coeff_0__attr_\"abs\"', '2__fft_coefficient__coeff_1__attr_\"abs\"', '2__kurtosis', '2__skewness', '3__fft_coefficient__coeff_0__attr_\"abs\"', '3__fft_coefficient__coeff_1__attr_\"abs\"', '3__kurtosis', '3__skewness', '4__fft_coefficient__coeff_0__attr_\"abs\"', '4__fft_coefficient__coeff_1__attr_\"abs\"', '4__kurtosis', '4__skewness', '5__fft_coefficient__coeff_0__attr_\"abs\"', '5__fft_coefficient__coeff_1__attr_\"abs\"', '5__kurtosis', '5__skewness', 'flux__length', 'flux__longest_strike_above_mean', 'flux__longest_strike_below_mean', 'flux__mean_abs_change', 'flux__mean_change', 'flux_by_flux_ratio_sq__longest_strike_above_mean', 'flux_by_flux_ratio_sq__longest_strike_below_mean', 'mjd__mean_abs_change', 'mjd__mean_change', 'mjd_diff_det', 'ra', 'decl', 'gal_l', 'gal_b', 'ddf', 'hostgal_specz', 'hostgal_photoz', 'hostgal_photoz_err', 'distmod', 'mwebv', 'haversine', 'latlon1', 'hostgal_photoz_certain']\n",
      "      410000000 done in 171.1 minutes\n"
     ]
    },
    {
     "name": "stderr",
     "output_type": "stream",
     "text": [
      "Feature Extraction: 100%|██████████| 20/20 [00:34<00:00,  1.42s/it]\n",
      "Feature Extraction: 100%|██████████| 20/20 [00:06<00:00,  3.45it/s]\n",
      "Feature Extraction: 100%|██████████| 20/20 [00:03<00:00,  5.22it/s]\n",
      "Feature Extraction: 100%|██████████| 20/20 [00:03<00:00,  7.41it/s]\n"
     ]
    },
    {
     "name": "stdout",
     "output_type": "stream",
     "text": [
      "['object_id', 'flux_min', 'flux_max', 'flux_mean', 'flux_median', 'flux_std', 'flux_skew', 'flux_err_min', 'flux_err_max', 'flux_err_mean', 'flux_err_median', 'flux_err_std', 'flux_err_skew', 'detected_mean', 'flux_ratio_sq_sum', 'flux_ratio_sq_skew', 'flux_by_flux_ratio_sq_sum', 'flux_by_flux_ratio_sq_skew', 'flux_w_mean', 'flux_diff1', 'flux_diff2', 'flux_diff3', '0__fft_coefficient__coeff_0__attr_\"abs\"', '0__fft_coefficient__coeff_1__attr_\"abs\"', '0__kurtosis', '0__skewness', '1__fft_coefficient__coeff_0__attr_\"abs\"', '1__fft_coefficient__coeff_1__attr_\"abs\"', '1__kurtosis', '1__skewness', '2__fft_coefficient__coeff_0__attr_\"abs\"', '2__fft_coefficient__coeff_1__attr_\"abs\"', '2__kurtosis', '2__skewness', '3__fft_coefficient__coeff_0__attr_\"abs\"', '3__fft_coefficient__coeff_1__attr_\"abs\"', '3__kurtosis', '3__skewness', '4__fft_coefficient__coeff_0__attr_\"abs\"', '4__fft_coefficient__coeff_1__attr_\"abs\"', '4__kurtosis', '4__skewness', '5__fft_coefficient__coeff_0__attr_\"abs\"', '5__fft_coefficient__coeff_1__attr_\"abs\"', '5__kurtosis', '5__skewness', 'flux__length', 'flux__longest_strike_above_mean', 'flux__longest_strike_below_mean', 'flux__mean_abs_change', 'flux__mean_change', 'flux_by_flux_ratio_sq__longest_strike_above_mean', 'flux_by_flux_ratio_sq__longest_strike_below_mean', 'mjd__mean_abs_change', 'mjd__mean_change', 'mjd_diff_det', 'ra', 'decl', 'gal_l', 'gal_b', 'ddf', 'hostgal_specz', 'hostgal_photoz', 'hostgal_photoz_err', 'distmod', 'mwebv', 'haversine', 'latlon1', 'hostgal_photoz_certain']\n",
      "      415000000 done in 173.2 minutes\n"
     ]
    },
    {
     "name": "stderr",
     "output_type": "stream",
     "text": [
      "Feature Extraction: 100%|██████████| 20/20 [00:34<00:00,  1.34s/it]\n",
      "Feature Extraction: 100%|██████████| 20/20 [00:06<00:00,  3.62it/s]\n",
      "Feature Extraction: 100%|██████████| 20/20 [00:04<00:00,  4.64it/s]\n",
      "Feature Extraction: 100%|██████████| 20/20 [00:03<00:00,  6.67it/s]\n"
     ]
    },
    {
     "name": "stdout",
     "output_type": "stream",
     "text": [
      "['object_id', 'flux_min', 'flux_max', 'flux_mean', 'flux_median', 'flux_std', 'flux_skew', 'flux_err_min', 'flux_err_max', 'flux_err_mean', 'flux_err_median', 'flux_err_std', 'flux_err_skew', 'detected_mean', 'flux_ratio_sq_sum', 'flux_ratio_sq_skew', 'flux_by_flux_ratio_sq_sum', 'flux_by_flux_ratio_sq_skew', 'flux_w_mean', 'flux_diff1', 'flux_diff2', 'flux_diff3', '0__fft_coefficient__coeff_0__attr_\"abs\"', '0__fft_coefficient__coeff_1__attr_\"abs\"', '0__kurtosis', '0__skewness', '1__fft_coefficient__coeff_0__attr_\"abs\"', '1__fft_coefficient__coeff_1__attr_\"abs\"', '1__kurtosis', '1__skewness', '2__fft_coefficient__coeff_0__attr_\"abs\"', '2__fft_coefficient__coeff_1__attr_\"abs\"', '2__kurtosis', '2__skewness', '3__fft_coefficient__coeff_0__attr_\"abs\"', '3__fft_coefficient__coeff_1__attr_\"abs\"', '3__kurtosis', '3__skewness', '4__fft_coefficient__coeff_0__attr_\"abs\"', '4__fft_coefficient__coeff_1__attr_\"abs\"', '4__kurtosis', '4__skewness', '5__fft_coefficient__coeff_0__attr_\"abs\"', '5__fft_coefficient__coeff_1__attr_\"abs\"', '5__kurtosis', '5__skewness', 'flux__length', 'flux__longest_strike_above_mean', 'flux__longest_strike_below_mean', 'flux__mean_abs_change', 'flux__mean_change', 'flux_by_flux_ratio_sq__longest_strike_above_mean', 'flux_by_flux_ratio_sq__longest_strike_below_mean', 'mjd__mean_abs_change', 'mjd__mean_change', 'mjd_diff_det', 'ra', 'decl', 'gal_l', 'gal_b', 'ddf', 'hostgal_specz', 'hostgal_photoz', 'hostgal_photoz_err', 'distmod', 'mwebv', 'haversine', 'latlon1', 'hostgal_photoz_certain']\n",
      "      420000000 done in 175.3 minutes\n"
     ]
    },
    {
     "name": "stderr",
     "output_type": "stream",
     "text": [
      "Feature Extraction: 100%|██████████| 20/20 [00:34<00:00,  1.41s/it]\n",
      "Feature Extraction: 100%|██████████| 20/20 [00:06<00:00,  3.84it/s]\n",
      "Feature Extraction: 100%|██████████| 20/20 [00:04<00:00,  4.48it/s]\n",
      "Feature Extraction: 100%|██████████| 20/20 [00:03<00:00,  7.40it/s]\n"
     ]
    },
    {
     "name": "stdout",
     "output_type": "stream",
     "text": [
      "['object_id', 'flux_min', 'flux_max', 'flux_mean', 'flux_median', 'flux_std', 'flux_skew', 'flux_err_min', 'flux_err_max', 'flux_err_mean', 'flux_err_median', 'flux_err_std', 'flux_err_skew', 'detected_mean', 'flux_ratio_sq_sum', 'flux_ratio_sq_skew', 'flux_by_flux_ratio_sq_sum', 'flux_by_flux_ratio_sq_skew', 'flux_w_mean', 'flux_diff1', 'flux_diff2', 'flux_diff3', '0__fft_coefficient__coeff_0__attr_\"abs\"', '0__fft_coefficient__coeff_1__attr_\"abs\"', '0__kurtosis', '0__skewness', '1__fft_coefficient__coeff_0__attr_\"abs\"', '1__fft_coefficient__coeff_1__attr_\"abs\"', '1__kurtosis', '1__skewness', '2__fft_coefficient__coeff_0__attr_\"abs\"', '2__fft_coefficient__coeff_1__attr_\"abs\"', '2__kurtosis', '2__skewness', '3__fft_coefficient__coeff_0__attr_\"abs\"', '3__fft_coefficient__coeff_1__attr_\"abs\"', '3__kurtosis', '3__skewness', '4__fft_coefficient__coeff_0__attr_\"abs\"', '4__fft_coefficient__coeff_1__attr_\"abs\"', '4__kurtosis', '4__skewness', '5__fft_coefficient__coeff_0__attr_\"abs\"', '5__fft_coefficient__coeff_1__attr_\"abs\"', '5__kurtosis', '5__skewness', 'flux__length', 'flux__longest_strike_above_mean', 'flux__longest_strike_below_mean', 'flux__mean_abs_change', 'flux__mean_change', 'flux_by_flux_ratio_sq__longest_strike_above_mean', 'flux_by_flux_ratio_sq__longest_strike_below_mean', 'mjd__mean_abs_change', 'mjd__mean_change', 'mjd_diff_det', 'ra', 'decl', 'gal_l', 'gal_b', 'ddf', 'hostgal_specz', 'hostgal_photoz', 'hostgal_photoz_err', 'distmod', 'mwebv', 'haversine', 'latlon1', 'hostgal_photoz_certain']\n",
      "      425000000 done in 177.4 minutes\n"
     ]
    },
    {
     "name": "stderr",
     "output_type": "stream",
     "text": [
      "Feature Extraction: 100%|██████████| 20/20 [00:33<00:00,  1.27s/it]\n",
      "Feature Extraction: 100%|██████████| 20/20 [00:06<00:00,  3.09it/s]\n",
      "Feature Extraction: 100%|██████████| 20/20 [00:04<00:00,  4.77it/s]\n",
      "Feature Extraction: 100%|██████████| 20/20 [00:03<00:00,  6.49it/s]\n"
     ]
    },
    {
     "name": "stdout",
     "output_type": "stream",
     "text": [
      "['object_id', 'flux_min', 'flux_max', 'flux_mean', 'flux_median', 'flux_std', 'flux_skew', 'flux_err_min', 'flux_err_max', 'flux_err_mean', 'flux_err_median', 'flux_err_std', 'flux_err_skew', 'detected_mean', 'flux_ratio_sq_sum', 'flux_ratio_sq_skew', 'flux_by_flux_ratio_sq_sum', 'flux_by_flux_ratio_sq_skew', 'flux_w_mean', 'flux_diff1', 'flux_diff2', 'flux_diff3', '0__fft_coefficient__coeff_0__attr_\"abs\"', '0__fft_coefficient__coeff_1__attr_\"abs\"', '0__kurtosis', '0__skewness', '1__fft_coefficient__coeff_0__attr_\"abs\"', '1__fft_coefficient__coeff_1__attr_\"abs\"', '1__kurtosis', '1__skewness', '2__fft_coefficient__coeff_0__attr_\"abs\"', '2__fft_coefficient__coeff_1__attr_\"abs\"', '2__kurtosis', '2__skewness', '3__fft_coefficient__coeff_0__attr_\"abs\"', '3__fft_coefficient__coeff_1__attr_\"abs\"', '3__kurtosis', '3__skewness', '4__fft_coefficient__coeff_0__attr_\"abs\"', '4__fft_coefficient__coeff_1__attr_\"abs\"', '4__kurtosis', '4__skewness', '5__fft_coefficient__coeff_0__attr_\"abs\"', '5__fft_coefficient__coeff_1__attr_\"abs\"', '5__kurtosis', '5__skewness', 'flux__length', 'flux__longest_strike_above_mean', 'flux__longest_strike_below_mean', 'flux__mean_abs_change', 'flux__mean_change', 'flux_by_flux_ratio_sq__longest_strike_above_mean', 'flux_by_flux_ratio_sq__longest_strike_below_mean', 'mjd__mean_abs_change', 'mjd__mean_change', 'mjd_diff_det', 'ra', 'decl', 'gal_l', 'gal_b', 'ddf', 'hostgal_specz', 'hostgal_photoz', 'hostgal_photoz_err', 'distmod', 'mwebv', 'haversine', 'latlon1', 'hostgal_photoz_certain']\n",
      "      430000000 done in 179.5 minutes\n"
     ]
    },
    {
     "name": "stderr",
     "output_type": "stream",
     "text": [
      "Feature Extraction: 100%|██████████| 20/20 [00:34<00:00,  1.34s/it]\n",
      "Feature Extraction: 100%|██████████| 20/20 [00:06<00:00,  3.60it/s]\n",
      "Feature Extraction: 100%|██████████| 20/20 [00:03<00:00,  5.08it/s]\n",
      "Feature Extraction: 100%|██████████| 20/20 [00:03<00:00,  7.30it/s]\n"
     ]
    },
    {
     "name": "stdout",
     "output_type": "stream",
     "text": [
      "['object_id', 'flux_min', 'flux_max', 'flux_mean', 'flux_median', 'flux_std', 'flux_skew', 'flux_err_min', 'flux_err_max', 'flux_err_mean', 'flux_err_median', 'flux_err_std', 'flux_err_skew', 'detected_mean', 'flux_ratio_sq_sum', 'flux_ratio_sq_skew', 'flux_by_flux_ratio_sq_sum', 'flux_by_flux_ratio_sq_skew', 'flux_w_mean', 'flux_diff1', 'flux_diff2', 'flux_diff3', '0__fft_coefficient__coeff_0__attr_\"abs\"', '0__fft_coefficient__coeff_1__attr_\"abs\"', '0__kurtosis', '0__skewness', '1__fft_coefficient__coeff_0__attr_\"abs\"', '1__fft_coefficient__coeff_1__attr_\"abs\"', '1__kurtosis', '1__skewness', '2__fft_coefficient__coeff_0__attr_\"abs\"', '2__fft_coefficient__coeff_1__attr_\"abs\"', '2__kurtosis', '2__skewness', '3__fft_coefficient__coeff_0__attr_\"abs\"', '3__fft_coefficient__coeff_1__attr_\"abs\"', '3__kurtosis', '3__skewness', '4__fft_coefficient__coeff_0__attr_\"abs\"', '4__fft_coefficient__coeff_1__attr_\"abs\"', '4__kurtosis', '4__skewness', '5__fft_coefficient__coeff_0__attr_\"abs\"', '5__fft_coefficient__coeff_1__attr_\"abs\"', '5__kurtosis', '5__skewness', 'flux__length', 'flux__longest_strike_above_mean', 'flux__longest_strike_below_mean', 'flux__mean_abs_change', 'flux__mean_change', 'flux_by_flux_ratio_sq__longest_strike_above_mean', 'flux_by_flux_ratio_sq__longest_strike_below_mean', 'mjd__mean_abs_change', 'mjd__mean_change', 'mjd_diff_det', 'ra', 'decl', 'gal_l', 'gal_b', 'ddf', 'hostgal_specz', 'hostgal_photoz', 'hostgal_photoz_err', 'distmod', 'mwebv', 'haversine', 'latlon1', 'hostgal_photoz_certain']\n",
      "      435000000 done in 181.6 minutes\n"
     ]
    },
    {
     "name": "stderr",
     "output_type": "stream",
     "text": [
      "Feature Extraction: 100%|██████████| 20/20 [00:34<00:00,  1.49s/it]\n",
      "Feature Extraction: 100%|██████████| 20/20 [00:06<00:00,  4.12it/s]\n",
      "Feature Extraction: 100%|██████████| 20/20 [00:04<00:00,  5.59it/s]\n",
      "Feature Extraction: 100%|██████████| 20/20 [00:03<00:00,  7.17it/s]\n"
     ]
    },
    {
     "name": "stdout",
     "output_type": "stream",
     "text": [
      "['object_id', 'flux_min', 'flux_max', 'flux_mean', 'flux_median', 'flux_std', 'flux_skew', 'flux_err_min', 'flux_err_max', 'flux_err_mean', 'flux_err_median', 'flux_err_std', 'flux_err_skew', 'detected_mean', 'flux_ratio_sq_sum', 'flux_ratio_sq_skew', 'flux_by_flux_ratio_sq_sum', 'flux_by_flux_ratio_sq_skew', 'flux_w_mean', 'flux_diff1', 'flux_diff2', 'flux_diff3', '0__fft_coefficient__coeff_0__attr_\"abs\"', '0__fft_coefficient__coeff_1__attr_\"abs\"', '0__kurtosis', '0__skewness', '1__fft_coefficient__coeff_0__attr_\"abs\"', '1__fft_coefficient__coeff_1__attr_\"abs\"', '1__kurtosis', '1__skewness', '2__fft_coefficient__coeff_0__attr_\"abs\"', '2__fft_coefficient__coeff_1__attr_\"abs\"', '2__kurtosis', '2__skewness', '3__fft_coefficient__coeff_0__attr_\"abs\"', '3__fft_coefficient__coeff_1__attr_\"abs\"', '3__kurtosis', '3__skewness', '4__fft_coefficient__coeff_0__attr_\"abs\"', '4__fft_coefficient__coeff_1__attr_\"abs\"', '4__kurtosis', '4__skewness', '5__fft_coefficient__coeff_0__attr_\"abs\"', '5__fft_coefficient__coeff_1__attr_\"abs\"', '5__kurtosis', '5__skewness', 'flux__length', 'flux__longest_strike_above_mean', 'flux__longest_strike_below_mean', 'flux__mean_abs_change', 'flux__mean_change', 'flux_by_flux_ratio_sq__longest_strike_above_mean', 'flux_by_flux_ratio_sq__longest_strike_below_mean', 'mjd__mean_abs_change', 'mjd__mean_change', 'mjd_diff_det', 'ra', 'decl', 'gal_l', 'gal_b', 'ddf', 'hostgal_specz', 'hostgal_photoz', 'hostgal_photoz_err', 'distmod', 'mwebv', 'haversine', 'latlon1', 'hostgal_photoz_certain']\n",
      "      440000000 done in 183.7 minutes\n"
     ]
    },
    {
     "name": "stderr",
     "output_type": "stream",
     "text": [
      "Feature Extraction: 100%|██████████| 20/20 [00:33<00:00,  1.37s/it]\n",
      "Feature Extraction: 100%|██████████| 20/20 [00:06<00:00,  3.87it/s]\n",
      "Feature Extraction: 100%|██████████| 20/20 [00:04<00:00,  5.39it/s]\n",
      "Feature Extraction: 100%|██████████| 20/20 [00:03<00:00,  7.24it/s]\n"
     ]
    },
    {
     "name": "stdout",
     "output_type": "stream",
     "text": [
      "['object_id', 'flux_min', 'flux_max', 'flux_mean', 'flux_median', 'flux_std', 'flux_skew', 'flux_err_min', 'flux_err_max', 'flux_err_mean', 'flux_err_median', 'flux_err_std', 'flux_err_skew', 'detected_mean', 'flux_ratio_sq_sum', 'flux_ratio_sq_skew', 'flux_by_flux_ratio_sq_sum', 'flux_by_flux_ratio_sq_skew', 'flux_w_mean', 'flux_diff1', 'flux_diff2', 'flux_diff3', '0__fft_coefficient__coeff_0__attr_\"abs\"', '0__fft_coefficient__coeff_1__attr_\"abs\"', '0__kurtosis', '0__skewness', '1__fft_coefficient__coeff_0__attr_\"abs\"', '1__fft_coefficient__coeff_1__attr_\"abs\"', '1__kurtosis', '1__skewness', '2__fft_coefficient__coeff_0__attr_\"abs\"', '2__fft_coefficient__coeff_1__attr_\"abs\"', '2__kurtosis', '2__skewness', '3__fft_coefficient__coeff_0__attr_\"abs\"', '3__fft_coefficient__coeff_1__attr_\"abs\"', '3__kurtosis', '3__skewness', '4__fft_coefficient__coeff_0__attr_\"abs\"', '4__fft_coefficient__coeff_1__attr_\"abs\"', '4__kurtosis', '4__skewness', '5__fft_coefficient__coeff_0__attr_\"abs\"', '5__fft_coefficient__coeff_1__attr_\"abs\"', '5__kurtosis', '5__skewness', 'flux__length', 'flux__longest_strike_above_mean', 'flux__longest_strike_below_mean', 'flux__mean_abs_change', 'flux__mean_change', 'flux_by_flux_ratio_sq__longest_strike_above_mean', 'flux_by_flux_ratio_sq__longest_strike_below_mean', 'mjd__mean_abs_change', 'mjd__mean_change', 'mjd_diff_det', 'ra', 'decl', 'gal_l', 'gal_b', 'ddf', 'hostgal_specz', 'hostgal_photoz', 'hostgal_photoz_err', 'distmod', 'mwebv', 'haversine', 'latlon1', 'hostgal_photoz_certain']\n",
      "      445000000 done in 185.8 minutes\n"
     ]
    },
    {
     "name": "stderr",
     "output_type": "stream",
     "text": [
      "Feature Extraction: 100%|██████████| 20/20 [00:34<00:00,  1.48s/it]\n",
      "Feature Extraction: 100%|██████████| 20/20 [00:06<00:00,  4.16it/s]\n",
      "Feature Extraction: 100%|██████████| 20/20 [00:03<00:00,  6.14it/s]\n",
      "Feature Extraction: 100%|██████████| 20/20 [00:03<00:00,  6.34it/s]\n"
     ]
    },
    {
     "name": "stdout",
     "output_type": "stream",
     "text": [
      "['object_id', 'flux_min', 'flux_max', 'flux_mean', 'flux_median', 'flux_std', 'flux_skew', 'flux_err_min', 'flux_err_max', 'flux_err_mean', 'flux_err_median', 'flux_err_std', 'flux_err_skew', 'detected_mean', 'flux_ratio_sq_sum', 'flux_ratio_sq_skew', 'flux_by_flux_ratio_sq_sum', 'flux_by_flux_ratio_sq_skew', 'flux_w_mean', 'flux_diff1', 'flux_diff2', 'flux_diff3', '0__fft_coefficient__coeff_0__attr_\"abs\"', '0__fft_coefficient__coeff_1__attr_\"abs\"', '0__kurtosis', '0__skewness', '1__fft_coefficient__coeff_0__attr_\"abs\"', '1__fft_coefficient__coeff_1__attr_\"abs\"', '1__kurtosis', '1__skewness', '2__fft_coefficient__coeff_0__attr_\"abs\"', '2__fft_coefficient__coeff_1__attr_\"abs\"', '2__kurtosis', '2__skewness', '3__fft_coefficient__coeff_0__attr_\"abs\"', '3__fft_coefficient__coeff_1__attr_\"abs\"', '3__kurtosis', '3__skewness', '4__fft_coefficient__coeff_0__attr_\"abs\"', '4__fft_coefficient__coeff_1__attr_\"abs\"', '4__kurtosis', '4__skewness', '5__fft_coefficient__coeff_0__attr_\"abs\"', '5__fft_coefficient__coeff_1__attr_\"abs\"', '5__kurtosis', '5__skewness', 'flux__length', 'flux__longest_strike_above_mean', 'flux__longest_strike_below_mean', 'flux__mean_abs_change', 'flux__mean_change', 'flux_by_flux_ratio_sq__longest_strike_above_mean', 'flux_by_flux_ratio_sq__longest_strike_below_mean', 'mjd__mean_abs_change', 'mjd__mean_change', 'mjd_diff_det', 'ra', 'decl', 'gal_l', 'gal_b', 'ddf', 'hostgal_specz', 'hostgal_photoz', 'hostgal_photoz_err', 'distmod', 'mwebv', 'haversine', 'latlon1', 'hostgal_photoz_certain']\n",
      "      450000000 done in 187.9 minutes\n"
     ]
    },
    {
     "name": "stderr",
     "output_type": "stream",
     "text": [
      "Feature Extraction: 100%|██████████| 20/20 [00:24<00:00,  1.04it/s]\n",
      "Feature Extraction: 100%|██████████| 20/20 [00:05<00:00,  4.28it/s]\n",
      "Feature Extraction: 100%|██████████| 20/20 [00:02<00:00,  6.79it/s]\n",
      "Feature Extraction: 100%|██████████| 20/20 [00:02<00:00,  8.78it/s]\n"
     ]
    },
    {
     "name": "stdout",
     "output_type": "stream",
     "text": [
      "['object_id', 'flux_min', 'flux_max', 'flux_mean', 'flux_median', 'flux_std', 'flux_skew', 'flux_err_min', 'flux_err_max', 'flux_err_mean', 'flux_err_median', 'flux_err_std', 'flux_err_skew', 'detected_mean', 'flux_ratio_sq_sum', 'flux_ratio_sq_skew', 'flux_by_flux_ratio_sq_sum', 'flux_by_flux_ratio_sq_skew', 'flux_w_mean', 'flux_diff1', 'flux_diff2', 'flux_diff3', '0__fft_coefficient__coeff_0__attr_\"abs\"', '0__fft_coefficient__coeff_1__attr_\"abs\"', '0__kurtosis', '0__skewness', '1__fft_coefficient__coeff_0__attr_\"abs\"', '1__fft_coefficient__coeff_1__attr_\"abs\"', '1__kurtosis', '1__skewness', '2__fft_coefficient__coeff_0__attr_\"abs\"', '2__fft_coefficient__coeff_1__attr_\"abs\"', '2__kurtosis', '2__skewness', '3__fft_coefficient__coeff_0__attr_\"abs\"', '3__fft_coefficient__coeff_1__attr_\"abs\"', '3__kurtosis', '3__skewness', '4__fft_coefficient__coeff_0__attr_\"abs\"', '4__fft_coefficient__coeff_1__attr_\"abs\"', '4__kurtosis', '4__skewness', '5__fft_coefficient__coeff_0__attr_\"abs\"', '5__fft_coefficient__coeff_1__attr_\"abs\"', '5__kurtosis', '5__skewness', 'flux__length', 'flux__longest_strike_above_mean', 'flux__longest_strike_below_mean', 'flux__mean_abs_change', 'flux__mean_change', 'flux_by_flux_ratio_sq__longest_strike_above_mean', 'flux_by_flux_ratio_sq__longest_strike_below_mean', 'mjd__mean_abs_change', 'mjd__mean_change', 'mjd_diff_det', 'ra', 'decl', 'gal_l', 'gal_b', 'ddf', 'hostgal_specz', 'hostgal_photoz', 'hostgal_photoz_err', 'distmod', 'mwebv', 'haversine', 'latlon1', 'hostgal_photoz_certain']\n",
      "      455000000 done in 189.4 minutes\n"
     ]
    },
    {
     "name": "stderr",
     "output_type": "stream",
     "text": [
      "Feature Extraction: 100%|██████████| 6/6 [00:00<00:00, 2158.86it/s]\n",
      "Feature Extraction: 100%|██████████| 1/1 [00:00<00:00, 241.23it/s]\n",
      "Feature Extraction: 100%|██████████| 1/1 [00:00<00:00, 335.87it/s]\n",
      "Feature Extraction: 100%|██████████| 1/1 [00:00<00:00, 1271.39it/s]\n"
     ]
    },
    {
     "name": "stdout",
     "output_type": "stream",
     "text": [
      "['object_id', 'flux_min', 'flux_max', 'flux_mean', 'flux_median', 'flux_std', 'flux_skew', 'flux_err_min', 'flux_err_max', 'flux_err_mean', 'flux_err_median', 'flux_err_std', 'flux_err_skew', 'detected_mean', 'flux_ratio_sq_sum', 'flux_ratio_sq_skew', 'flux_by_flux_ratio_sq_sum', 'flux_by_flux_ratio_sq_skew', 'flux_w_mean', 'flux_diff1', 'flux_diff2', 'flux_diff3', '0__fft_coefficient__coeff_0__attr_\"abs\"', '0__fft_coefficient__coeff_1__attr_\"abs\"', '0__kurtosis', '0__skewness', '1__fft_coefficient__coeff_0__attr_\"abs\"', '1__fft_coefficient__coeff_1__attr_\"abs\"', '1__kurtosis', '1__skewness', '2__fft_coefficient__coeff_0__attr_\"abs\"', '2__fft_coefficient__coeff_1__attr_\"abs\"', '2__kurtosis', '2__skewness', '3__fft_coefficient__coeff_0__attr_\"abs\"', '3__fft_coefficient__coeff_1__attr_\"abs\"', '3__kurtosis', '3__skewness', '4__fft_coefficient__coeff_0__attr_\"abs\"', '4__fft_coefficient__coeff_1__attr_\"abs\"', '4__kurtosis', '4__skewness', '5__fft_coefficient__coeff_0__attr_\"abs\"', '5__fft_coefficient__coeff_1__attr_\"abs\"', '5__kurtosis', '5__skewness', 'flux__length', 'flux__longest_strike_above_mean', 'flux__longest_strike_below_mean', 'flux__mean_abs_change', 'flux__mean_change', 'flux_by_flux_ratio_sq__longest_strike_above_mean', 'flux_by_flux_ratio_sq__longest_strike_below_mean', 'mjd__mean_abs_change', 'mjd__mean_change', 'mjd_diff_det', 'ra', 'decl', 'gal_l', 'gal_b', 'ddf', 'hostgal_specz', 'hostgal_photoz', 'hostgal_photoz_err', 'distmod', 'mwebv', 'haversine', 'latlon1', 'hostgal_photoz_certain']\n",
      "no problem\n",
      "(1, 16) (1, 63)\n"
     ]
    }
   ],
   "source": [
    "# TEST\n",
    "process_test(clfs,\n",
    "             features=full_train.columns,\n",
    "             featurize_configs={'aggs': aggs, 'fcp': fcp},\n",
    "             train_mean=train_mean,\n",
    "             filename=filename,\n",
    "             chunks=5000000)"
   ]
  },
  {
   "cell_type": "code",
   "execution_count": 40,
   "metadata": {},
   "outputs": [],
   "source": [
    "z = pd.read_csv(filename)"
   ]
  },
  {
   "cell_type": "code",
   "execution_count": 41,
   "metadata": {},
   "outputs": [
    {
     "name": "stdout",
     "output_type": "stream",
     "text": [
      "Shape BEFORE grouping: (3492891, 16)\n"
     ]
    }
   ],
   "source": [
    "print(\"Shape BEFORE grouping: {}\".format(z.shape))"
   ]
  },
  {
   "cell_type": "code",
   "execution_count": 42,
   "metadata": {},
   "outputs": [
    {
     "name": "stdout",
     "output_type": "stream",
     "text": [
      "Shape AFTER grouping: (3492890, 15)\n",
      "CPU times: user 1min 28s, sys: 1.77 s, total: 1min 30s\n",
      "Wall time: 1min 30s\n"
     ]
    }
   ],
   "source": [
    "%%time\n",
    "z = z.groupby('object_id').mean()\n",
    "print(\"Shape AFTER grouping: {}\".format(z.shape))\n",
    "z.to_csv('single_{}'.format(filename), index=True)"
   ]
  },
  {
   "cell_type": "code",
   "execution_count": 43,
   "metadata": {},
   "outputs": [],
   "source": [
    "import dask.dataframe as dd"
   ]
  },
  {
   "cell_type": "code",
   "execution_count": 44,
   "metadata": {},
   "outputs": [
    {
     "name": "stdout",
     "output_type": "stream",
     "text": [
      "CPU times: user 1min 41s, sys: 5.07 s, total: 1min 46s\n",
      "Wall time: 17.6 s\n"
     ]
    }
   ],
   "source": [
    "%%time\n",
    "v = dd.read_csv('klm_test.csv')\n",
    "v = v.compute()"
   ]
  },
  {
   "cell_type": "code",
   "execution_count": 45,
   "metadata": {},
   "outputs": [
    {
     "data": {
      "text/html": [
       "<div>\n",
       "<style scoped>\n",
       "    .dataframe tbody tr th:only-of-type {\n",
       "        vertical-align: middle;\n",
       "    }\n",
       "\n",
       "    .dataframe tbody tr th {\n",
       "        vertical-align: top;\n",
       "    }\n",
       "\n",
       "    .dataframe thead th {\n",
       "        text-align: right;\n",
       "    }\n",
       "</style>\n",
       "<table border=\"1\" class=\"dataframe\">\n",
       "  <thead>\n",
       "    <tr style=\"text-align: right;\">\n",
       "      <th></th>\n",
       "      <th>object_id</th>\n",
       "      <th>flux_min</th>\n",
       "      <th>flux_max</th>\n",
       "      <th>flux_mean</th>\n",
       "      <th>flux_median</th>\n",
       "      <th>flux_std</th>\n",
       "      <th>flux_skew</th>\n",
       "      <th>flux_err_min</th>\n",
       "      <th>flux_err_max</th>\n",
       "      <th>flux_err_mean</th>\n",
       "      <th>...</th>\n",
       "      <th>mjd__mean_abs_change</th>\n",
       "      <th>mjd__mean_change</th>\n",
       "      <th>mjd_diff_det</th>\n",
       "      <th>hostgal_photoz</th>\n",
       "      <th>hostgal_photoz_err</th>\n",
       "      <th>distmod</th>\n",
       "      <th>mwebv</th>\n",
       "      <th>haversine</th>\n",
       "      <th>latlon1</th>\n",
       "      <th>hostgal_photoz_certain</th>\n",
       "    </tr>\n",
       "  </thead>\n",
       "  <tbody>\n",
       "    <tr>\n",
       "      <th>0</th>\n",
       "      <td>13</td>\n",
       "      <td>-12.680235</td>\n",
       "      <td>42.765503</td>\n",
       "      <td>3.997127</td>\n",
       "      <td>0.616561</td>\n",
       "      <td>9.149645</td>\n",
       "      <td>2.037355</td>\n",
       "      <td>0.691634</td>\n",
       "      <td>11.257108</td>\n",
       "      <td>2.461810</td>\n",
       "      <td>...</td>\n",
       "      <td>2.350061</td>\n",
       "      <td>2.350061</td>\n",
       "      <td>119.8531</td>\n",
       "      <td>0.3193</td>\n",
       "      <td>0.0542</td>\n",
       "      <td>41.1123</td>\n",
       "      <td>0.019</td>\n",
       "      <td>1.851382</td>\n",
       "      <td>3.049709</td>\n",
       "      <td>0.337084</td>\n",
       "    </tr>\n",
       "    <tr>\n",
       "      <th>1</th>\n",
       "      <td>14</td>\n",
       "      <td>-11.142164</td>\n",
       "      <td>14.839427</td>\n",
       "      <td>0.884047</td>\n",
       "      <td>0.072856</td>\n",
       "      <td>3.399946</td>\n",
       "      <td>0.970525</td>\n",
       "      <td>0.690589</td>\n",
       "      <td>11.249375</td>\n",
       "      <td>2.457580</td>\n",
       "      <td>...</td>\n",
       "      <td>9.335100</td>\n",
       "      <td>9.335100</td>\n",
       "      <td>28.0053</td>\n",
       "      <td>0.6323</td>\n",
       "      <td>0.0179</td>\n",
       "      <td>42.8774</td>\n",
       "      <td>0.018</td>\n",
       "      <td>1.855173</td>\n",
       "      <td>3.009107</td>\n",
       "      <td>0.643720</td>\n",
       "    </tr>\n",
       "    <tr>\n",
       "      <th>2</th>\n",
       "      <td>17</td>\n",
       "      <td>-14.202744</td>\n",
       "      <td>16.761280</td>\n",
       "      <td>0.791032</td>\n",
       "      <td>0.458390</td>\n",
       "      <td>3.886578</td>\n",
       "      <td>0.377131</td>\n",
       "      <td>0.663680</td>\n",
       "      <td>11.278636</td>\n",
       "      <td>2.702947</td>\n",
       "      <td>...</td>\n",
       "      <td>0.690700</td>\n",
       "      <td>0.690700</td>\n",
       "      <td>2.7628</td>\n",
       "      <td>0.8297</td>\n",
       "      <td>0.0605</td>\n",
       "      <td>43.6000</td>\n",
       "      <td>0.016</td>\n",
       "      <td>0.309914</td>\n",
       "      <td>-1.490290</td>\n",
       "      <td>0.881446</td>\n",
       "    </tr>\n",
       "    <tr>\n",
       "      <th>3</th>\n",
       "      <td>23</td>\n",
       "      <td>-12.631923</td>\n",
       "      <td>28.061138</td>\n",
       "      <td>0.970396</td>\n",
       "      <td>0.465986</td>\n",
       "      <td>4.100713</td>\n",
       "      <td>2.177402</td>\n",
       "      <td>0.697639</td>\n",
       "      <td>11.305429</td>\n",
       "      <td>2.480364</td>\n",
       "      <td>...</td>\n",
       "      <td>0.602500</td>\n",
       "      <td>0.602500</td>\n",
       "      <td>3.0125</td>\n",
       "      <td>0.6533</td>\n",
       "      <td>0.1479</td>\n",
       "      <td>42.9640</td>\n",
       "      <td>0.023</td>\n",
       "      <td>1.845038</td>\n",
       "      <td>3.078301</td>\n",
       "      <td>0.757434</td>\n",
       "    </tr>\n",
       "    <tr>\n",
       "      <th>4</th>\n",
       "      <td>34</td>\n",
       "      <td>-13.239577</td>\n",
       "      <td>124.475609</td>\n",
       "      <td>4.580070</td>\n",
       "      <td>0.301366</td>\n",
       "      <td>19.862714</td>\n",
       "      <td>4.537527</td>\n",
       "      <td>0.679312</td>\n",
       "      <td>11.365292</td>\n",
       "      <td>2.746784</td>\n",
       "      <td>...</td>\n",
       "      <td>1.138964</td>\n",
       "      <td>1.138964</td>\n",
       "      <td>25.0572</td>\n",
       "      <td>0.4617</td>\n",
       "      <td>0.0122</td>\n",
       "      <td>42.0540</td>\n",
       "      <td>0.023</td>\n",
       "      <td>0.391772</td>\n",
       "      <td>-1.993709</td>\n",
       "      <td>0.467367</td>\n",
       "    </tr>\n",
       "  </tbody>\n",
       "</table>\n",
       "<p>5 rows × 63 columns</p>\n",
       "</div>"
      ],
      "text/plain": [
       "   object_id   flux_min    flux_max  flux_mean  flux_median   flux_std  \\\n",
       "0         13 -12.680235   42.765503   3.997127     0.616561   9.149645   \n",
       "1         14 -11.142164   14.839427   0.884047     0.072856   3.399946   \n",
       "2         17 -14.202744   16.761280   0.791032     0.458390   3.886578   \n",
       "3         23 -12.631923   28.061138   0.970396     0.465986   4.100713   \n",
       "4         34 -13.239577  124.475609   4.580070     0.301366  19.862714   \n",
       "\n",
       "   flux_skew  flux_err_min  flux_err_max  flux_err_mean  \\\n",
       "0   2.037355      0.691634     11.257108       2.461810   \n",
       "1   0.970525      0.690589     11.249375       2.457580   \n",
       "2   0.377131      0.663680     11.278636       2.702947   \n",
       "3   2.177402      0.697639     11.305429       2.480364   \n",
       "4   4.537527      0.679312     11.365292       2.746784   \n",
       "\n",
       "            ...            mjd__mean_abs_change  mjd__mean_change  \\\n",
       "0           ...                        2.350061          2.350061   \n",
       "1           ...                        9.335100          9.335100   \n",
       "2           ...                        0.690700          0.690700   \n",
       "3           ...                        0.602500          0.602500   \n",
       "4           ...                        1.138964          1.138964   \n",
       "\n",
       "   mjd_diff_det  hostgal_photoz  hostgal_photoz_err  distmod  mwebv  \\\n",
       "0      119.8531          0.3193              0.0542  41.1123  0.019   \n",
       "1       28.0053          0.6323              0.0179  42.8774  0.018   \n",
       "2        2.7628          0.8297              0.0605  43.6000  0.016   \n",
       "3        3.0125          0.6533              0.1479  42.9640  0.023   \n",
       "4       25.0572          0.4617              0.0122  42.0540  0.023   \n",
       "\n",
       "   haversine   latlon1  hostgal_photoz_certain  \n",
       "0   1.851382  3.049709                0.337084  \n",
       "1   1.855173  3.009107                0.643720  \n",
       "2   0.309914 -1.490290                0.881446  \n",
       "3   1.845038  3.078301                0.757434  \n",
       "4   0.391772 -1.993709                0.467367  \n",
       "\n",
       "[5 rows x 63 columns]"
      ]
     },
     "execution_count": 45,
     "metadata": {},
     "output_type": "execute_result"
    }
   ],
   "source": [
    "v.head()"
   ]
  },
  {
   "cell_type": "code",
   "execution_count": 47,
   "metadata": {},
   "outputs": [
    {
     "data": {
      "text/plain": [
       "True"
      ]
     },
     "execution_count": 47,
     "metadata": {},
     "output_type": "execute_result"
    }
   ],
   "source": [
    "sorted(list(klm.columns)) == sorted(list(v.columns))"
   ]
  }
 ],
 "metadata": {
  "kernelspec": {
   "display_name": "Python 3",
   "language": "python",
   "name": "python3"
  },
  "language_info": {
   "codemirror_mode": {
    "name": "ipython",
    "version": 3
   },
   "file_extension": ".py",
   "mimetype": "text/x-python",
   "name": "python",
   "nbconvert_exporter": "python",
   "pygments_lexer": "ipython3",
   "version": "3.6.6"
  }
 },
 "nbformat": 4,
 "nbformat_minor": 2
}
