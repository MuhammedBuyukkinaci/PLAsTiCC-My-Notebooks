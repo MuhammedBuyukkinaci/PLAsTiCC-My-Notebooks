{
 "cells": [
  {
   "cell_type": "code",
   "execution_count": 1,
   "metadata": {},
   "outputs": [],
   "source": [
    "import numpy as np # linear algebra\n",
    "import pandas as pd # data processing, CSV file I/O (e.g. pd.read_csv)\n",
    "from sklearn.metrics import log_loss\n",
    "from sklearn.model_selection import StratifiedKFold\n",
    "import gc\n",
    "import os\n",
    "import matplotlib.pyplot as plt\n",
    "import seaborn as sns \n",
    "import lightgbm as lgb\n",
    "import itertools\n",
    "import pickle, gzip\n",
    "import glob\n",
    "from sklearn.preprocessing import StandardScaler\n",
    "from tsfresh.feature_extraction import extract_features\n",
    "np.warnings.filterwarnings('ignore')\n",
    "import dask.dataframe as dd\n",
    "import missingno as msno\n",
    "from pandasql import sqldf\n",
    "from sklearn.metrics import mean_squared_error\n",
    "from math import sqrt\n",
    "from sklearn.model_selection import KFold\n",
    "import matplotlib.gridspec as gridspec\n",
    "from sklearn import preprocessing\n",
    "from imblearn.over_sampling import SMOTE\n",
    "from sklearn.model_selection import train_test_split"
   ]
  },
  {
   "cell_type": "code",
   "execution_count": 2,
   "metadata": {},
   "outputs": [],
   "source": [
    "#Always seed the randomness of this universe\n",
    "np.random.seed(51)"
   ]
  },
  {
   "cell_type": "code",
   "execution_count": 3,
   "metadata": {},
   "outputs": [
    {
     "name": "stdout",
     "output_type": "stream",
     "text": [
      "(3492890, 16) (3492890, 16)\n",
      "CPU times: user 33.8 s, sys: 3.4 s, total: 37.2 s\n",
      "Wall time: 8.02 s\n"
     ]
    }
   ],
   "source": [
    "%%time\n",
    "pred1 = dd.read_csv('test_pred_40.csv')\n",
    "pred2 = dd.read_csv('test_pred_41.csv')\n",
    "pred1 = pred1.compute()\n",
    "pred2 = pred2.compute()\n",
    "print(pred1.shape,pred2.shape)"
   ]
  },
  {
   "cell_type": "code",
   "execution_count": 4,
   "metadata": {},
   "outputs": [
    {
     "name": "stdout",
     "output_type": "stream",
     "text": [
      "CPU times: user 262 ms, sys: 307 ms, total: 569 ms\n",
      "Wall time: 565 ms\n"
     ]
    }
   ],
   "source": [
    "%%time\n",
    "pred1 = pred1.reset_index(drop=True)\n",
    "pred2 = pred2.reset_index(drop=True)"
   ]
  },
  {
   "cell_type": "code",
   "execution_count": 5,
   "metadata": {},
   "outputs": [
    {
     "data": {
      "text/plain": [
       "True"
      ]
     },
     "execution_count": 5,
     "metadata": {},
     "output_type": "execute_result"
    }
   ],
   "source": [
    "pred1['object_id'].equals(pred2['object_id'])"
   ]
  },
  {
   "cell_type": "code",
   "execution_count": 6,
   "metadata": {},
   "outputs": [
    {
     "name": "stdout",
     "output_type": "stream",
     "text": [
      "CPU times: user 282 µs, sys: 38 µs, total: 320 µs\n",
      "Wall time: 326 µs\n"
     ]
    }
   ],
   "source": [
    "%%time\n",
    "test_ensemble = pd.DataFrame()"
   ]
  },
  {
   "cell_type": "code",
   "execution_count": 7,
   "metadata": {},
   "outputs": [],
   "source": [
    "coef_lgb = 0.85\n",
    "coef_mlp = 0.15"
   ]
  },
  {
   "cell_type": "code",
   "execution_count": 8,
   "metadata": {},
   "outputs": [
    {
     "name": "stdout",
     "output_type": "stream",
     "text": [
      "CPU times: user 332 ms, sys: 583 ms, total: 916 ms\n",
      "Wall time: 912 ms\n"
     ]
    }
   ],
   "source": [
    "%%time\n",
    "test_ensemble = pred1.iloc[:,1:]*coef_lgb + pred2.iloc[:,1:]*coef_mlp"
   ]
  },
  {
   "cell_type": "code",
   "execution_count": 9,
   "metadata": {},
   "outputs": [
    {
     "name": "stdout",
     "output_type": "stream",
     "text": [
      "(3492890, 15)\n"
     ]
    }
   ],
   "source": [
    "print(test_ensemble.shape)"
   ]
  },
  {
   "cell_type": "code",
   "execution_count": 10,
   "metadata": {},
   "outputs": [
    {
     "name": "stdout",
     "output_type": "stream",
     "text": [
      "(3492890, 16)\n"
     ]
    }
   ],
   "source": [
    "test_ensemble['object_id'] = pred1['object_id']\n",
    "print(test_ensemble.shape)"
   ]
  },
  {
   "cell_type": "code",
   "execution_count": 11,
   "metadata": {},
   "outputs": [],
   "source": [
    "test_ensemble = test_ensemble[list(pred1.columns)]"
   ]
  },
  {
   "cell_type": "code",
   "execution_count": 12,
   "metadata": {},
   "outputs": [
    {
     "data": {
      "text/html": [
       "<div>\n",
       "<style scoped>\n",
       "    .dataframe tbody tr th:only-of-type {\n",
       "        vertical-align: middle;\n",
       "    }\n",
       "\n",
       "    .dataframe tbody tr th {\n",
       "        vertical-align: top;\n",
       "    }\n",
       "\n",
       "    .dataframe thead th {\n",
       "        text-align: right;\n",
       "    }\n",
       "</style>\n",
       "<table border=\"1\" class=\"dataframe\">\n",
       "  <thead>\n",
       "    <tr style=\"text-align: right;\">\n",
       "      <th></th>\n",
       "      <th>object_id</th>\n",
       "      <th>class_6</th>\n",
       "      <th>class_15</th>\n",
       "      <th>class_16</th>\n",
       "      <th>class_42</th>\n",
       "      <th>class_52</th>\n",
       "      <th>class_53</th>\n",
       "      <th>class_62</th>\n",
       "      <th>class_64</th>\n",
       "      <th>class_65</th>\n",
       "      <th>class_67</th>\n",
       "      <th>class_88</th>\n",
       "      <th>class_90</th>\n",
       "      <th>class_92</th>\n",
       "      <th>class_95</th>\n",
       "      <th>class_99</th>\n",
       "    </tr>\n",
       "  </thead>\n",
       "  <tbody>\n",
       "    <tr>\n",
       "      <th>3492885</th>\n",
       "      <td>130787966</td>\n",
       "      <td>0.000183</td>\n",
       "      <td>0.373841</td>\n",
       "      <td>0.000369</td>\n",
       "      <td>0.198529</td>\n",
       "      <td>0.105222</td>\n",
       "      <td>0.000421</td>\n",
       "      <td>0.130000</td>\n",
       "      <td>0.000257</td>\n",
       "      <td>0.001557</td>\n",
       "      <td>0.016144</td>\n",
       "      <td>0.002258</td>\n",
       "      <td>0.170368</td>\n",
       "      <td>0.000270</td>\n",
       "      <td>0.000578</td>\n",
       "      <td>0.245496</td>\n",
       "    </tr>\n",
       "    <tr>\n",
       "      <th>3492886</th>\n",
       "      <td>130787971</td>\n",
       "      <td>0.000198</td>\n",
       "      <td>0.012471</td>\n",
       "      <td>0.000168</td>\n",
       "      <td>0.050983</td>\n",
       "      <td>0.163894</td>\n",
       "      <td>0.000238</td>\n",
       "      <td>0.021066</td>\n",
       "      <td>0.390383</td>\n",
       "      <td>0.000381</td>\n",
       "      <td>0.036875</td>\n",
       "      <td>0.000775</td>\n",
       "      <td>0.315767</td>\n",
       "      <td>0.000255</td>\n",
       "      <td>0.006543</td>\n",
       "      <td>0.234137</td>\n",
       "    </tr>\n",
       "    <tr>\n",
       "      <th>3492887</th>\n",
       "      <td>130787974</td>\n",
       "      <td>0.000750</td>\n",
       "      <td>0.022835</td>\n",
       "      <td>0.000141</td>\n",
       "      <td>0.863000</td>\n",
       "      <td>0.032679</td>\n",
       "      <td>0.000339</td>\n",
       "      <td>0.066587</td>\n",
       "      <td>0.000045</td>\n",
       "      <td>0.000150</td>\n",
       "      <td>0.001307</td>\n",
       "      <td>0.000383</td>\n",
       "      <td>0.009529</td>\n",
       "      <td>0.000202</td>\n",
       "      <td>0.002053</td>\n",
       "      <td>0.095064</td>\n",
       "    </tr>\n",
       "    <tr>\n",
       "      <th>3492888</th>\n",
       "      <td>130788053</td>\n",
       "      <td>0.000061</td>\n",
       "      <td>0.717338</td>\n",
       "      <td>0.000078</td>\n",
       "      <td>0.153662</td>\n",
       "      <td>0.003308</td>\n",
       "      <td>0.000114</td>\n",
       "      <td>0.010514</td>\n",
       "      <td>0.084340</td>\n",
       "      <td>0.000446</td>\n",
       "      <td>0.000352</td>\n",
       "      <td>0.000226</td>\n",
       "      <td>0.028828</td>\n",
       "      <td>0.000104</td>\n",
       "      <td>0.000629</td>\n",
       "      <td>0.165102</td>\n",
       "    </tr>\n",
       "    <tr>\n",
       "      <th>3492889</th>\n",
       "      <td>130788054</td>\n",
       "      <td>0.000209</td>\n",
       "      <td>0.088182</td>\n",
       "      <td>0.000306</td>\n",
       "      <td>0.422389</td>\n",
       "      <td>0.188065</td>\n",
       "      <td>0.000506</td>\n",
       "      <td>0.059341</td>\n",
       "      <td>0.000103</td>\n",
       "      <td>0.000537</td>\n",
       "      <td>0.022792</td>\n",
       "      <td>0.001190</td>\n",
       "      <td>0.214889</td>\n",
       "      <td>0.000674</td>\n",
       "      <td>0.000818</td>\n",
       "      <td>0.236735</td>\n",
       "    </tr>\n",
       "  </tbody>\n",
       "</table>\n",
       "</div>"
      ],
      "text/plain": [
       "         object_id   class_6  class_15  class_16  class_42  class_52  \\\n",
       "3492885  130787966  0.000183  0.373841  0.000369  0.198529  0.105222   \n",
       "3492886  130787971  0.000198  0.012471  0.000168  0.050983  0.163894   \n",
       "3492887  130787974  0.000750  0.022835  0.000141  0.863000  0.032679   \n",
       "3492888  130788053  0.000061  0.717338  0.000078  0.153662  0.003308   \n",
       "3492889  130788054  0.000209  0.088182  0.000306  0.422389  0.188065   \n",
       "\n",
       "         class_53  class_62  class_64  class_65  class_67  class_88  class_90  \\\n",
       "3492885  0.000421  0.130000  0.000257  0.001557  0.016144  0.002258  0.170368   \n",
       "3492886  0.000238  0.021066  0.390383  0.000381  0.036875  0.000775  0.315767   \n",
       "3492887  0.000339  0.066587  0.000045  0.000150  0.001307  0.000383  0.009529   \n",
       "3492888  0.000114  0.010514  0.084340  0.000446  0.000352  0.000226  0.028828   \n",
       "3492889  0.000506  0.059341  0.000103  0.000537  0.022792  0.001190  0.214889   \n",
       "\n",
       "         class_92  class_95  class_99  \n",
       "3492885  0.000270  0.000578  0.245496  \n",
       "3492886  0.000255  0.006543  0.234137  \n",
       "3492887  0.000202  0.002053  0.095064  \n",
       "3492888  0.000104  0.000629  0.165102  \n",
       "3492889  0.000674  0.000818  0.236735  "
      ]
     },
     "execution_count": 12,
     "metadata": {},
     "output_type": "execute_result"
    }
   ],
   "source": [
    "test_ensemble.tail()"
   ]
  },
  {
   "cell_type": "code",
   "execution_count": 13,
   "metadata": {},
   "outputs": [
    {
     "name": "stdout",
     "output_type": "stream",
     "text": [
      "CPU times: user 1min 32s, sys: 1.29 s, total: 1min 34s\n",
      "Wall time: 1min 34s\n"
     ]
    }
   ],
   "source": [
    "%%time\n",
    "test_ensemble.to_csv('test_pred_44.csv',index=False)"
   ]
  },
  {
   "cell_type": "code",
   "execution_count": 14,
   "metadata": {},
   "outputs": [
    {
     "data": {
      "text/plain": [
       "True"
      ]
     },
     "execution_count": 14,
     "metadata": {},
     "output_type": "execute_result"
    }
   ],
   "source": [
    "test_ensemble['object_id'].equals(pred1['object_id'])"
   ]
  },
  {
   "cell_type": "code",
   "execution_count": 15,
   "metadata": {},
   "outputs": [
    {
     "name": "stdout",
     "output_type": "stream",
     "text": [
      "100%|██████████████████████████████████████| 1.06G/1.06G [04:04<00:00, 4.67MB/s]\n",
      "Successfully submitted to PLAsTiCC Astronomical Classification"
     ]
    }
   ],
   "source": [
    "!kaggle competitions submit -c PLAsTiCC-2018 -f test_pred_44.csv -m \"Message\""
   ]
  },
  {
   "cell_type": "code",
   "execution_count": null,
   "metadata": {},
   "outputs": [],
   "source": []
  }
 ],
 "metadata": {
  "kernelspec": {
   "display_name": "Python 3",
   "language": "python",
   "name": "python3"
  },
  "language_info": {
   "codemirror_mode": {
    "name": "ipython",
    "version": 3
   },
   "file_extension": ".py",
   "mimetype": "text/x-python",
   "name": "python",
   "nbconvert_exporter": "python",
   "pygments_lexer": "ipython3",
   "version": "3.6.7"
  }
 },
 "nbformat": 4,
 "nbformat_minor": 2
}
