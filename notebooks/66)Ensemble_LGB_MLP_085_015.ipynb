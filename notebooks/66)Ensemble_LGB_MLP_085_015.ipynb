{
 "cells": [
  {
   "cell_type": "code",
   "execution_count": 1,
   "metadata": {},
   "outputs": [],
   "source": [
    "import numpy as np # linear algebra\n",
    "import pandas as pd # data processing, CSV file I/O (e.g. pd.read_csv)\n",
    "from sklearn.metrics import log_loss\n",
    "from sklearn.model_selection import StratifiedKFold\n",
    "import gc\n",
    "import os\n",
    "import matplotlib.pyplot as plt\n",
    "import seaborn as sns \n",
    "import lightgbm as lgb\n",
    "import itertools\n",
    "import pickle, gzip\n",
    "import glob\n",
    "from sklearn.preprocessing import StandardScaler\n",
    "from tsfresh.feature_extraction import extract_features\n",
    "np.warnings.filterwarnings('ignore')\n",
    "import dask.dataframe as dd\n",
    "import missingno as msno\n",
    "from pandasql import sqldf\n",
    "from sklearn.metrics import mean_squared_error\n",
    "from math import sqrt\n",
    "from sklearn.model_selection import KFold\n",
    "import matplotlib.gridspec as gridspec\n",
    "from sklearn import preprocessing\n",
    "from imblearn.over_sampling import SMOTE\n",
    "from sklearn.model_selection import train_test_split"
   ]
  },
  {
   "cell_type": "code",
   "execution_count": 2,
   "metadata": {},
   "outputs": [],
   "source": [
    "#Always seed the randomness of this universe\n",
    "np.random.seed(51)"
   ]
  },
  {
   "cell_type": "code",
   "execution_count": 3,
   "metadata": {},
   "outputs": [
    {
     "name": "stdout",
     "output_type": "stream",
     "text": [
      "(3492890, 16) (3492890, 16)\n",
      "CPU times: user 33.1 s, sys: 3.05 s, total: 36.1 s\n",
      "Wall time: 7.29 s\n"
     ]
    }
   ],
   "source": [
    "%%time\n",
    "pred1 = dd.read_csv('test_pred_40.csv')\n",
    "pred2 = dd.read_csv('test_pred_46.csv')\n",
    "pred1 = pred1.compute()\n",
    "pred2 = pred2.compute()\n",
    "print(pred1.shape,pred2.shape)"
   ]
  },
  {
   "cell_type": "code",
   "execution_count": 4,
   "metadata": {},
   "outputs": [
    {
     "name": "stdout",
     "output_type": "stream",
     "text": [
      "CPU times: user 180 ms, sys: 297 ms, total: 476 ms\n",
      "Wall time: 475 ms\n"
     ]
    }
   ],
   "source": [
    "%%time\n",
    "pred1 = pred1.reset_index(drop=True)\n",
    "pred2 = pred2.reset_index(drop=True)"
   ]
  },
  {
   "cell_type": "code",
   "execution_count": 5,
   "metadata": {},
   "outputs": [
    {
     "data": {
      "text/plain": [
       "True"
      ]
     },
     "execution_count": 5,
     "metadata": {},
     "output_type": "execute_result"
    }
   ],
   "source": [
    "pred1['object_id'].equals(pred2['object_id'])"
   ]
  },
  {
   "cell_type": "code",
   "execution_count": 6,
   "metadata": {},
   "outputs": [
    {
     "name": "stdout",
     "output_type": "stream",
     "text": [
      "CPU times: user 281 µs, sys: 35 µs, total: 316 µs\n",
      "Wall time: 321 µs\n"
     ]
    }
   ],
   "source": [
    "%%time\n",
    "test_ensemble = pd.DataFrame()"
   ]
  },
  {
   "cell_type": "code",
   "execution_count": 7,
   "metadata": {},
   "outputs": [],
   "source": [
    "coef_lgb = 0.85\n",
    "coef_mlp = 0.15"
   ]
  },
  {
   "cell_type": "code",
   "execution_count": 8,
   "metadata": {},
   "outputs": [
    {
     "name": "stdout",
     "output_type": "stream",
     "text": [
      "CPU times: user 267 ms, sys: 614 ms, total: 881 ms\n",
      "Wall time: 877 ms\n"
     ]
    }
   ],
   "source": [
    "%%time\n",
    "test_ensemble = pred1.iloc[:,1:]*coef_lgb + pred2.iloc[:,1:]*coef_mlp"
   ]
  },
  {
   "cell_type": "code",
   "execution_count": 9,
   "metadata": {},
   "outputs": [
    {
     "name": "stdout",
     "output_type": "stream",
     "text": [
      "(3492890, 15)\n"
     ]
    }
   ],
   "source": [
    "print(test_ensemble.shape)"
   ]
  },
  {
   "cell_type": "code",
   "execution_count": 10,
   "metadata": {},
   "outputs": [
    {
     "name": "stdout",
     "output_type": "stream",
     "text": [
      "(3492890, 16)\n"
     ]
    }
   ],
   "source": [
    "test_ensemble['object_id'] = pred1['object_id']\n",
    "print(test_ensemble.shape)"
   ]
  },
  {
   "cell_type": "code",
   "execution_count": 11,
   "metadata": {},
   "outputs": [],
   "source": [
    "test_ensemble = test_ensemble[list(pred1.columns)]"
   ]
  },
  {
   "cell_type": "code",
   "execution_count": 12,
   "metadata": {},
   "outputs": [
    {
     "data": {
      "text/html": [
       "<div>\n",
       "<style scoped>\n",
       "    .dataframe tbody tr th:only-of-type {\n",
       "        vertical-align: middle;\n",
       "    }\n",
       "\n",
       "    .dataframe tbody tr th {\n",
       "        vertical-align: top;\n",
       "    }\n",
       "\n",
       "    .dataframe thead th {\n",
       "        text-align: right;\n",
       "    }\n",
       "</style>\n",
       "<table border=\"1\" class=\"dataframe\">\n",
       "  <thead>\n",
       "    <tr style=\"text-align: right;\">\n",
       "      <th></th>\n",
       "      <th>object_id</th>\n",
       "      <th>class_6</th>\n",
       "      <th>class_15</th>\n",
       "      <th>class_16</th>\n",
       "      <th>class_42</th>\n",
       "      <th>class_52</th>\n",
       "      <th>class_53</th>\n",
       "      <th>class_62</th>\n",
       "      <th>class_64</th>\n",
       "      <th>class_65</th>\n",
       "      <th>class_67</th>\n",
       "      <th>class_88</th>\n",
       "      <th>class_90</th>\n",
       "      <th>class_92</th>\n",
       "      <th>class_95</th>\n",
       "      <th>class_99</th>\n",
       "    </tr>\n",
       "  </thead>\n",
       "  <tbody>\n",
       "    <tr>\n",
       "      <th>3492885</th>\n",
       "      <td>130787966</td>\n",
       "      <td>0.000183</td>\n",
       "      <td>0.362796</td>\n",
       "      <td>0.000366</td>\n",
       "      <td>0.193057</td>\n",
       "      <td>0.109242</td>\n",
       "      <td>0.000418</td>\n",
       "      <td>0.130937</td>\n",
       "      <td>0.000225</td>\n",
       "      <td>0.001534</td>\n",
       "      <td>0.015929</td>\n",
       "      <td>0.001995</td>\n",
       "      <td>0.182468</td>\n",
       "      <td>0.000267</td>\n",
       "      <td>0.000584</td>\n",
       "      <td>0.244229</td>\n",
       "    </tr>\n",
       "    <tr>\n",
       "      <th>3492886</th>\n",
       "      <td>130787971</td>\n",
       "      <td>0.000197</td>\n",
       "      <td>0.015786</td>\n",
       "      <td>0.000155</td>\n",
       "      <td>0.052439</td>\n",
       "      <td>0.159661</td>\n",
       "      <td>0.000241</td>\n",
       "      <td>0.020135</td>\n",
       "      <td>0.390422</td>\n",
       "      <td>0.000373</td>\n",
       "      <td>0.038864</td>\n",
       "      <td>0.000714</td>\n",
       "      <td>0.314093</td>\n",
       "      <td>0.000213</td>\n",
       "      <td>0.006706</td>\n",
       "      <td>0.234537</td>\n",
       "    </tr>\n",
       "    <tr>\n",
       "      <th>3492887</th>\n",
       "      <td>130787974</td>\n",
       "      <td>0.000678</td>\n",
       "      <td>0.022553</td>\n",
       "      <td>0.000134</td>\n",
       "      <td>0.857788</td>\n",
       "      <td>0.039060</td>\n",
       "      <td>0.000322</td>\n",
       "      <td>0.061305</td>\n",
       "      <td>0.000040</td>\n",
       "      <td>0.000148</td>\n",
       "      <td>0.001268</td>\n",
       "      <td>0.000381</td>\n",
       "      <td>0.013963</td>\n",
       "      <td>0.000202</td>\n",
       "      <td>0.002157</td>\n",
       "      <td>0.096807</td>\n",
       "    </tr>\n",
       "    <tr>\n",
       "      <th>3492888</th>\n",
       "      <td>130788053</td>\n",
       "      <td>0.000060</td>\n",
       "      <td>0.719354</td>\n",
       "      <td>0.000077</td>\n",
       "      <td>0.153495</td>\n",
       "      <td>0.003050</td>\n",
       "      <td>0.000108</td>\n",
       "      <td>0.010009</td>\n",
       "      <td>0.082802</td>\n",
       "      <td>0.000414</td>\n",
       "      <td>0.000291</td>\n",
       "      <td>0.000168</td>\n",
       "      <td>0.029565</td>\n",
       "      <td>0.000097</td>\n",
       "      <td>0.000510</td>\n",
       "      <td>0.163976</td>\n",
       "    </tr>\n",
       "    <tr>\n",
       "      <th>3492889</th>\n",
       "      <td>130788054</td>\n",
       "      <td>0.000208</td>\n",
       "      <td>0.098872</td>\n",
       "      <td>0.000305</td>\n",
       "      <td>0.434963</td>\n",
       "      <td>0.168438</td>\n",
       "      <td>0.000506</td>\n",
       "      <td>0.058640</td>\n",
       "      <td>0.000089</td>\n",
       "      <td>0.000605</td>\n",
       "      <td>0.021963</td>\n",
       "      <td>0.001196</td>\n",
       "      <td>0.212753</td>\n",
       "      <td>0.000674</td>\n",
       "      <td>0.000786</td>\n",
       "      <td>0.237050</td>\n",
       "    </tr>\n",
       "  </tbody>\n",
       "</table>\n",
       "</div>"
      ],
      "text/plain": [
       "         object_id   class_6  class_15  class_16  class_42  class_52  \\\n",
       "3492885  130787966  0.000183  0.362796  0.000366  0.193057  0.109242   \n",
       "3492886  130787971  0.000197  0.015786  0.000155  0.052439  0.159661   \n",
       "3492887  130787974  0.000678  0.022553  0.000134  0.857788  0.039060   \n",
       "3492888  130788053  0.000060  0.719354  0.000077  0.153495  0.003050   \n",
       "3492889  130788054  0.000208  0.098872  0.000305  0.434963  0.168438   \n",
       "\n",
       "         class_53  class_62  class_64  class_65  class_67  class_88  class_90  \\\n",
       "3492885  0.000418  0.130937  0.000225  0.001534  0.015929  0.001995  0.182468   \n",
       "3492886  0.000241  0.020135  0.390422  0.000373  0.038864  0.000714  0.314093   \n",
       "3492887  0.000322  0.061305  0.000040  0.000148  0.001268  0.000381  0.013963   \n",
       "3492888  0.000108  0.010009  0.082802  0.000414  0.000291  0.000168  0.029565   \n",
       "3492889  0.000506  0.058640  0.000089  0.000605  0.021963  0.001196  0.212753   \n",
       "\n",
       "         class_92  class_95  class_99  \n",
       "3492885  0.000267  0.000584  0.244229  \n",
       "3492886  0.000213  0.006706  0.234537  \n",
       "3492887  0.000202  0.002157  0.096807  \n",
       "3492888  0.000097  0.000510  0.163976  \n",
       "3492889  0.000674  0.000786  0.237050  "
      ]
     },
     "execution_count": 12,
     "metadata": {},
     "output_type": "execute_result"
    }
   ],
   "source": [
    "test_ensemble.tail()"
   ]
  },
  {
   "cell_type": "code",
   "execution_count": 13,
   "metadata": {},
   "outputs": [
    {
     "name": "stdout",
     "output_type": "stream",
     "text": [
      "CPU times: user 1min 31s, sys: 1.27 s, total: 1min 33s\n",
      "Wall time: 1min 33s\n"
     ]
    }
   ],
   "source": [
    "%%time\n",
    "test_ensemble.to_csv('test_pred_49.csv',index=False)"
   ]
  },
  {
   "cell_type": "code",
   "execution_count": 14,
   "metadata": {},
   "outputs": [
    {
     "data": {
      "text/plain": [
       "True"
      ]
     },
     "execution_count": 14,
     "metadata": {},
     "output_type": "execute_result"
    }
   ],
   "source": [
    "test_ensemble['object_id'].equals(pred1['object_id'])"
   ]
  },
  {
   "cell_type": "code",
   "execution_count": null,
   "metadata": {},
   "outputs": [],
   "source": [
    "!kaggle competitions submit -c PLAsTiCC-2018 -f test_pred_49.csv -m \"Ensemble_LGB_MLP_085_015\""
   ]
  },
  {
   "cell_type": "code",
   "execution_count": null,
   "metadata": {},
   "outputs": [],
   "source": []
  }
 ],
 "metadata": {
  "kernelspec": {
   "display_name": "Python 3",
   "language": "python",
   "name": "python3"
  },
  "language_info": {
   "codemirror_mode": {
    "name": "ipython",
    "version": 3
   },
   "file_extension": ".py",
   "mimetype": "text/x-python",
   "name": "python",
   "nbconvert_exporter": "python",
   "pygments_lexer": "ipython3",
   "version": "3.6.7"
  }
 },
 "nbformat": 4,
 "nbformat_minor": 2
}
