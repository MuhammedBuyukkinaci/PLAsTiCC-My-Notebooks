{
 "cells": [
  {
   "cell_type": "code",
   "execution_count": 1,
   "metadata": {},
   "outputs": [],
   "source": [
    "import numpy as np # linear algebra\n",
    "import pandas as pd # data processing, CSV file I/O (e.g. pd.read_csv)\n",
    "from sklearn.metrics import log_loss\n",
    "from sklearn.model_selection import StratifiedKFold\n",
    "import gc\n",
    "import os\n",
    "import matplotlib.pyplot as plt\n",
    "import seaborn as sns \n",
    "import lightgbm as lgb\n",
    "import itertools\n",
    "import pickle, gzip\n",
    "import glob\n",
    "from sklearn.preprocessing import StandardScaler\n",
    "from tsfresh.feature_extraction import extract_features\n",
    "np.warnings.filterwarnings('ignore')\n",
    "import dask.dataframe as dd\n",
    "import missingno as msno\n",
    "from pandasql import sqldf\n",
    "from sklearn.metrics import mean_squared_error\n",
    "from math import sqrt\n",
    "from sklearn.model_selection import KFold\n",
    "import matplotlib.gridspec as gridspec\n",
    "from sklearn import preprocessing\n",
    "from imblearn.over_sampling import SMOTE\n",
    "from sklearn.model_selection import train_test_split"
   ]
  },
  {
   "cell_type": "code",
   "execution_count": 2,
   "metadata": {},
   "outputs": [],
   "source": [
    "#Always seed the randomness of this universe\n",
    "np.random.seed(51)"
   ]
  },
  {
   "cell_type": "code",
   "execution_count": 3,
   "metadata": {},
   "outputs": [
    {
     "name": "stdout",
     "output_type": "stream",
     "text": [
      "(3492890, 16) (3492890, 16)\n",
      "CPU times: user 32 s, sys: 2.89 s, total: 34.9 s\n",
      "Wall time: 7.61 s\n"
     ]
    }
   ],
   "source": [
    "%%time\n",
    "pred1 = dd.read_csv('test_pred_32.csv')\n",
    "pred2 = dd.read_csv('test_pred_33.csv')\n",
    "pred1 = pred1.compute()\n",
    "pred2 = pred2.compute()\n",
    "print(pred1.shape,pred2.shape)"
   ]
  },
  {
   "cell_type": "code",
   "execution_count": 4,
   "metadata": {},
   "outputs": [
    {
     "name": "stdout",
     "output_type": "stream",
     "text": [
      "CPU times: user 212 ms, sys: 225 ms, total: 437 ms\n",
      "Wall time: 435 ms\n"
     ]
    }
   ],
   "source": [
    "%%time\n",
    "pred1 = pred1.reset_index(drop=True)\n",
    "pred2 = pred2.reset_index(drop=True)"
   ]
  },
  {
   "cell_type": "code",
   "execution_count": 5,
   "metadata": {},
   "outputs": [
    {
     "data": {
      "text/plain": [
       "True"
      ]
     },
     "execution_count": 5,
     "metadata": {},
     "output_type": "execute_result"
    }
   ],
   "source": [
    "pred1['object_id'].equals(pred2['object_id'])"
   ]
  },
  {
   "cell_type": "code",
   "execution_count": 6,
   "metadata": {},
   "outputs": [
    {
     "name": "stdout",
     "output_type": "stream",
     "text": [
      "CPU times: user 281 µs, sys: 34 µs, total: 315 µs\n",
      "Wall time: 320 µs\n"
     ]
    }
   ],
   "source": [
    "%%time\n",
    "test_ensemble = pd.DataFrame()"
   ]
  },
  {
   "cell_type": "code",
   "execution_count": 7,
   "metadata": {},
   "outputs": [],
   "source": [
    "coef_lgb = 0.75\n",
    "coef_mlp = 0.25"
   ]
  },
  {
   "cell_type": "code",
   "execution_count": 8,
   "metadata": {},
   "outputs": [
    {
     "name": "stdout",
     "output_type": "stream",
     "text": [
      "CPU times: user 314 ms, sys: 538 ms, total: 852 ms\n",
      "Wall time: 850 ms\n"
     ]
    }
   ],
   "source": [
    "%%time\n",
    "test_ensemble = pred1.iloc[:,1:]*coef_lgb + pred2.iloc[:,1:]*coef_mlp"
   ]
  },
  {
   "cell_type": "code",
   "execution_count": 9,
   "metadata": {},
   "outputs": [
    {
     "name": "stdout",
     "output_type": "stream",
     "text": [
      "(3492890, 15)\n"
     ]
    }
   ],
   "source": [
    "print(test_ensemble.shape)"
   ]
  },
  {
   "cell_type": "code",
   "execution_count": 10,
   "metadata": {},
   "outputs": [
    {
     "name": "stdout",
     "output_type": "stream",
     "text": [
      "(3492890, 16)\n"
     ]
    }
   ],
   "source": [
    "test_ensemble['object_id'] = pred1['object_id']\n",
    "print(test_ensemble.shape)"
   ]
  },
  {
   "cell_type": "code",
   "execution_count": 11,
   "metadata": {},
   "outputs": [],
   "source": [
    "test_ensemble = test_ensemble[list(pred1.columns)]"
   ]
  },
  {
   "cell_type": "code",
   "execution_count": 12,
   "metadata": {},
   "outputs": [
    {
     "data": {
      "text/html": [
       "<div>\n",
       "<style scoped>\n",
       "    .dataframe tbody tr th:only-of-type {\n",
       "        vertical-align: middle;\n",
       "    }\n",
       "\n",
       "    .dataframe tbody tr th {\n",
       "        vertical-align: top;\n",
       "    }\n",
       "\n",
       "    .dataframe thead th {\n",
       "        text-align: right;\n",
       "    }\n",
       "</style>\n",
       "<table border=\"1\" class=\"dataframe\">\n",
       "  <thead>\n",
       "    <tr style=\"text-align: right;\">\n",
       "      <th></th>\n",
       "      <th>object_id</th>\n",
       "      <th>class_6</th>\n",
       "      <th>class_15</th>\n",
       "      <th>class_16</th>\n",
       "      <th>class_42</th>\n",
       "      <th>class_52</th>\n",
       "      <th>class_53</th>\n",
       "      <th>class_62</th>\n",
       "      <th>class_64</th>\n",
       "      <th>class_65</th>\n",
       "      <th>class_67</th>\n",
       "      <th>class_88</th>\n",
       "      <th>class_90</th>\n",
       "      <th>class_92</th>\n",
       "      <th>class_95</th>\n",
       "      <th>class_99</th>\n",
       "    </tr>\n",
       "  </thead>\n",
       "  <tbody>\n",
       "    <tr>\n",
       "      <th>3492885</th>\n",
       "      <td>130787966</td>\n",
       "      <td>0.000214</td>\n",
       "      <td>0.345268</td>\n",
       "      <td>0.000398</td>\n",
       "      <td>0.192891</td>\n",
       "      <td>0.141596</td>\n",
       "      <td>0.000456</td>\n",
       "      <td>0.094265</td>\n",
       "      <td>0.000255</td>\n",
       "      <td>0.001917</td>\n",
       "      <td>0.016579</td>\n",
       "      <td>0.002494</td>\n",
       "      <td>0.202730</td>\n",
       "      <td>0.000307</td>\n",
       "      <td>0.000629</td>\n",
       "      <td>0.245575</td>\n",
       "    </tr>\n",
       "    <tr>\n",
       "      <th>3492886</th>\n",
       "      <td>130787971</td>\n",
       "      <td>0.000223</td>\n",
       "      <td>0.011389</td>\n",
       "      <td>0.000242</td>\n",
       "      <td>0.050208</td>\n",
       "      <td>0.251989</td>\n",
       "      <td>0.000298</td>\n",
       "      <td>0.018038</td>\n",
       "      <td>0.291650</td>\n",
       "      <td>0.000399</td>\n",
       "      <td>0.022152</td>\n",
       "      <td>0.000946</td>\n",
       "      <td>0.348509</td>\n",
       "      <td>0.000283</td>\n",
       "      <td>0.003674</td>\n",
       "      <td>0.242776</td>\n",
       "    </tr>\n",
       "    <tr>\n",
       "      <th>3492887</th>\n",
       "      <td>130787974</td>\n",
       "      <td>0.000602</td>\n",
       "      <td>0.017150</td>\n",
       "      <td>0.000155</td>\n",
       "      <td>0.884417</td>\n",
       "      <td>0.021292</td>\n",
       "      <td>0.000361</td>\n",
       "      <td>0.060979</td>\n",
       "      <td>0.000065</td>\n",
       "      <td>0.000187</td>\n",
       "      <td>0.001149</td>\n",
       "      <td>0.000396</td>\n",
       "      <td>0.011493</td>\n",
       "      <td>0.000247</td>\n",
       "      <td>0.001506</td>\n",
       "      <td>0.084291</td>\n",
       "    </tr>\n",
       "    <tr>\n",
       "      <th>3492888</th>\n",
       "      <td>130788053</td>\n",
       "      <td>0.000086</td>\n",
       "      <td>0.723635</td>\n",
       "      <td>0.000138</td>\n",
       "      <td>0.128563</td>\n",
       "      <td>0.004101</td>\n",
       "      <td>0.000165</td>\n",
       "      <td>0.009331</td>\n",
       "      <td>0.096965</td>\n",
       "      <td>0.000482</td>\n",
       "      <td>0.000536</td>\n",
       "      <td>0.000301</td>\n",
       "      <td>0.034483</td>\n",
       "      <td>0.000143</td>\n",
       "      <td>0.001070</td>\n",
       "      <td>0.158408</td>\n",
       "    </tr>\n",
       "    <tr>\n",
       "      <th>3492889</th>\n",
       "      <td>130788054</td>\n",
       "      <td>0.000258</td>\n",
       "      <td>0.097851</td>\n",
       "      <td>0.000349</td>\n",
       "      <td>0.446554</td>\n",
       "      <td>0.114785</td>\n",
       "      <td>0.000785</td>\n",
       "      <td>0.051488</td>\n",
       "      <td>0.000556</td>\n",
       "      <td>0.001095</td>\n",
       "      <td>0.021297</td>\n",
       "      <td>0.002159</td>\n",
       "      <td>0.261155</td>\n",
       "      <td>0.000758</td>\n",
       "      <td>0.000910</td>\n",
       "      <td>0.225947</td>\n",
       "    </tr>\n",
       "  </tbody>\n",
       "</table>\n",
       "</div>"
      ],
      "text/plain": [
       "         object_id   class_6  class_15  class_16  class_42  class_52  \\\n",
       "3492885  130787966  0.000214  0.345268  0.000398  0.192891  0.141596   \n",
       "3492886  130787971  0.000223  0.011389  0.000242  0.050208  0.251989   \n",
       "3492887  130787974  0.000602  0.017150  0.000155  0.884417  0.021292   \n",
       "3492888  130788053  0.000086  0.723635  0.000138  0.128563  0.004101   \n",
       "3492889  130788054  0.000258  0.097851  0.000349  0.446554  0.114785   \n",
       "\n",
       "         class_53  class_62  class_64  class_65  class_67  class_88  class_90  \\\n",
       "3492885  0.000456  0.094265  0.000255  0.001917  0.016579  0.002494  0.202730   \n",
       "3492886  0.000298  0.018038  0.291650  0.000399  0.022152  0.000946  0.348509   \n",
       "3492887  0.000361  0.060979  0.000065  0.000187  0.001149  0.000396  0.011493   \n",
       "3492888  0.000165  0.009331  0.096965  0.000482  0.000536  0.000301  0.034483   \n",
       "3492889  0.000785  0.051488  0.000556  0.001095  0.021297  0.002159  0.261155   \n",
       "\n",
       "         class_92  class_95  class_99  \n",
       "3492885  0.000307  0.000629  0.245575  \n",
       "3492886  0.000283  0.003674  0.242776  \n",
       "3492887  0.000247  0.001506  0.084291  \n",
       "3492888  0.000143  0.001070  0.158408  \n",
       "3492889  0.000758  0.000910  0.225947  "
      ]
     },
     "execution_count": 12,
     "metadata": {},
     "output_type": "execute_result"
    }
   ],
   "source": [
    "test_ensemble.tail()"
   ]
  },
  {
   "cell_type": "code",
   "execution_count": 13,
   "metadata": {},
   "outputs": [
    {
     "name": "stdout",
     "output_type": "stream",
     "text": [
      "CPU times: user 1min 30s, sys: 958 ms, total: 1min 31s\n",
      "Wall time: 1min 31s\n"
     ]
    }
   ],
   "source": [
    "%%time\n",
    "test_ensemble.to_csv('test_pred_35.csv',index=False)"
   ]
  },
  {
   "cell_type": "code",
   "execution_count": 14,
   "metadata": {},
   "outputs": [
    {
     "data": {
      "text/plain": [
       "True"
      ]
     },
     "execution_count": 14,
     "metadata": {},
     "output_type": "execute_result"
    }
   ],
   "source": [
    "test_ensemble['object_id'].equals(pred1['object_id'])"
   ]
  },
  {
   "cell_type": "code",
   "execution_count": 15,
   "metadata": {},
   "outputs": [
    {
     "name": "stdout",
     "output_type": "stream",
     "text": [
      "100%|█████████████████████████████████████| 1.06G/1.06G [2:08:47<00:00, 148kB/s]\n",
      "Successfully submitted to PLAsTiCC Astronomical Classification"
     ]
    }
   ],
   "source": [
    "!kaggle competitions submit -c PLAsTiCC-2018 -f test_pred_35.csv -m \"Message\""
   ]
  }
 ],
 "metadata": {
  "kernelspec": {
   "display_name": "Python 3",
   "language": "python",
   "name": "python3"
  },
  "language_info": {
   "codemirror_mode": {
    "name": "ipython",
    "version": 3
   },
   "file_extension": ".py",
   "mimetype": "text/x-python",
   "name": "python",
   "nbconvert_exporter": "python",
   "pygments_lexer": "ipython3",
   "version": "3.6.7"
  }
 },
 "nbformat": 4,
 "nbformat_minor": 2
}
