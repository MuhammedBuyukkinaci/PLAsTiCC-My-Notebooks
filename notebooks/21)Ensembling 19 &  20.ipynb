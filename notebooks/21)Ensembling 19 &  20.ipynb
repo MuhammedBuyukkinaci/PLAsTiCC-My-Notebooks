{
 "cells": [
  {
   "cell_type": "code",
   "execution_count": 1,
   "metadata": {},
   "outputs": [],
   "source": [
    "import pandas as pd"
   ]
  },
  {
   "cell_type": "code",
   "execution_count": 2,
   "metadata": {},
   "outputs": [],
   "source": [
    "import dask.dataframe as dd"
   ]
  },
  {
   "cell_type": "code",
   "execution_count": 3,
   "metadata": {},
   "outputs": [],
   "source": [
    "from tqdm import tqdm"
   ]
  },
  {
   "cell_type": "code",
   "execution_count": 4,
   "metadata": {},
   "outputs": [
    {
     "name": "stdout",
     "output_type": "stream",
     "text": [
      "(3492890, 16) (3492890, 16)\n",
      "CPU times: user 32.8 s, sys: 3.05 s, total: 35.9 s\n",
      "Wall time: 7.68 s\n"
     ]
    }
   ],
   "source": [
    "%%time\n",
    "test_pred_9 = dd.read_csv('test_pred_9.csv')\n",
    "test_pred_10 = dd.read_csv('test_pred_10.csv')\n",
    "test_pred_9 = test_pred_9.compute()\n",
    "test_pred_10 = test_pred_10.compute()\n",
    "print(test_pred_9.shape,test_pred_10.shape)"
   ]
  },
  {
   "cell_type": "code",
   "execution_count": 13,
   "metadata": {},
   "outputs": [
    {
     "data": {
      "text/html": [
       "<div>\n",
       "<style scoped>\n",
       "    .dataframe tbody tr th:only-of-type {\n",
       "        vertical-align: middle;\n",
       "    }\n",
       "\n",
       "    .dataframe tbody tr th {\n",
       "        vertical-align: top;\n",
       "    }\n",
       "\n",
       "    .dataframe thead th {\n",
       "        text-align: right;\n",
       "    }\n",
       "</style>\n",
       "<table border=\"1\" class=\"dataframe\">\n",
       "  <thead>\n",
       "    <tr style=\"text-align: right;\">\n",
       "      <th></th>\n",
       "      <th>object_id</th>\n",
       "      <th>class_6</th>\n",
       "      <th>class_15</th>\n",
       "      <th>class_16</th>\n",
       "      <th>class_42</th>\n",
       "      <th>class_52</th>\n",
       "      <th>class_53</th>\n",
       "      <th>class_62</th>\n",
       "      <th>class_64</th>\n",
       "      <th>class_65</th>\n",
       "      <th>class_67</th>\n",
       "      <th>class_88</th>\n",
       "      <th>class_90</th>\n",
       "      <th>class_92</th>\n",
       "      <th>class_95</th>\n",
       "      <th>class_99</th>\n",
       "    </tr>\n",
       "  </thead>\n",
       "  <tbody>\n",
       "    <tr>\n",
       "      <th>126457</th>\n",
       "      <td>130787966</td>\n",
       "      <td>0.000723</td>\n",
       "      <td>0.160627</td>\n",
       "      <td>0.000785</td>\n",
       "      <td>0.183239</td>\n",
       "      <td>0.205325</td>\n",
       "      <td>0.001040</td>\n",
       "      <td>0.052397</td>\n",
       "      <td>0.000593</td>\n",
       "      <td>0.005753</td>\n",
       "      <td>0.037750</td>\n",
       "      <td>0.003153</td>\n",
       "      <td>0.346658</td>\n",
       "      <td>0.000514</td>\n",
       "      <td>0.001443</td>\n",
       "      <td>0.175674</td>\n",
       "    </tr>\n",
       "    <tr>\n",
       "      <th>126458</th>\n",
       "      <td>130787971</td>\n",
       "      <td>0.000966</td>\n",
       "      <td>0.081358</td>\n",
       "      <td>0.000918</td>\n",
       "      <td>0.093733</td>\n",
       "      <td>0.054454</td>\n",
       "      <td>0.001020</td>\n",
       "      <td>0.045046</td>\n",
       "      <td>0.067337</td>\n",
       "      <td>0.001126</td>\n",
       "      <td>0.034161</td>\n",
       "      <td>0.004855</td>\n",
       "      <td>0.603599</td>\n",
       "      <td>0.000950</td>\n",
       "      <td>0.010477</td>\n",
       "      <td>0.144373</td>\n",
       "    </tr>\n",
       "    <tr>\n",
       "      <th>126459</th>\n",
       "      <td>130787974</td>\n",
       "      <td>0.001617</td>\n",
       "      <td>0.053374</td>\n",
       "      <td>0.000423</td>\n",
       "      <td>0.749300</td>\n",
       "      <td>0.012279</td>\n",
       "      <td>0.000766</td>\n",
       "      <td>0.162349</td>\n",
       "      <td>0.000254</td>\n",
       "      <td>0.000456</td>\n",
       "      <td>0.002372</td>\n",
       "      <td>0.001288</td>\n",
       "      <td>0.012298</td>\n",
       "      <td>0.000431</td>\n",
       "      <td>0.002793</td>\n",
       "      <td>0.105351</td>\n",
       "    </tr>\n",
       "    <tr>\n",
       "      <th>126460</th>\n",
       "      <td>130788053</td>\n",
       "      <td>0.000506</td>\n",
       "      <td>0.556895</td>\n",
       "      <td>0.000774</td>\n",
       "      <td>0.236457</td>\n",
       "      <td>0.039332</td>\n",
       "      <td>0.000567</td>\n",
       "      <td>0.032034</td>\n",
       "      <td>0.044841</td>\n",
       "      <td>0.001239</td>\n",
       "      <td>0.003678</td>\n",
       "      <td>0.000919</td>\n",
       "      <td>0.081237</td>\n",
       "      <td>0.000382</td>\n",
       "      <td>0.001138</td>\n",
       "      <td>0.150161</td>\n",
       "    </tr>\n",
       "    <tr>\n",
       "      <th>126461</th>\n",
       "      <td>130788054</td>\n",
       "      <td>0.000629</td>\n",
       "      <td>0.174355</td>\n",
       "      <td>0.000611</td>\n",
       "      <td>0.439649</td>\n",
       "      <td>0.185101</td>\n",
       "      <td>0.000855</td>\n",
       "      <td>0.051465</td>\n",
       "      <td>0.000655</td>\n",
       "      <td>0.000851</td>\n",
       "      <td>0.013976</td>\n",
       "      <td>0.001520</td>\n",
       "      <td>0.127997</td>\n",
       "      <td>0.000580</td>\n",
       "      <td>0.001755</td>\n",
       "      <td>0.168195</td>\n",
       "    </tr>\n",
       "  </tbody>\n",
       "</table>\n",
       "</div>"
      ],
      "text/plain": [
       "        object_id   class_6  class_15  class_16  class_42  class_52  class_53  \\\n",
       "126457  130787966  0.000723  0.160627  0.000785  0.183239  0.205325  0.001040   \n",
       "126458  130787971  0.000966  0.081358  0.000918  0.093733  0.054454  0.001020   \n",
       "126459  130787974  0.001617  0.053374  0.000423  0.749300  0.012279  0.000766   \n",
       "126460  130788053  0.000506  0.556895  0.000774  0.236457  0.039332  0.000567   \n",
       "126461  130788054  0.000629  0.174355  0.000611  0.439649  0.185101  0.000855   \n",
       "\n",
       "        class_62  class_64  class_65  class_67  class_88  class_90  class_92  \\\n",
       "126457  0.052397  0.000593  0.005753  0.037750  0.003153  0.346658  0.000514   \n",
       "126458  0.045046  0.067337  0.001126  0.034161  0.004855  0.603599  0.000950   \n",
       "126459  0.162349  0.000254  0.000456  0.002372  0.001288  0.012298  0.000431   \n",
       "126460  0.032034  0.044841  0.001239  0.003678  0.000919  0.081237  0.000382   \n",
       "126461  0.051465  0.000655  0.000851  0.013976  0.001520  0.127997  0.000580   \n",
       "\n",
       "        class_95  class_99  \n",
       "126457  0.001443  0.175674  \n",
       "126458  0.010477  0.144373  \n",
       "126459  0.002793  0.105351  \n",
       "126460  0.001138  0.150161  \n",
       "126461  0.001755  0.168195  "
      ]
     },
     "execution_count": 13,
     "metadata": {},
     "output_type": "execute_result"
    }
   ],
   "source": [
    "test_pred_9.tail()"
   ]
  },
  {
   "cell_type": "code",
   "execution_count": 14,
   "metadata": {},
   "outputs": [
    {
     "data": {
      "text/html": [
       "<div>\n",
       "<style scoped>\n",
       "    .dataframe tbody tr th:only-of-type {\n",
       "        vertical-align: middle;\n",
       "    }\n",
       "\n",
       "    .dataframe tbody tr th {\n",
       "        vertical-align: top;\n",
       "    }\n",
       "\n",
       "    .dataframe thead th {\n",
       "        text-align: right;\n",
       "    }\n",
       "</style>\n",
       "<table border=\"1\" class=\"dataframe\">\n",
       "  <thead>\n",
       "    <tr style=\"text-align: right;\">\n",
       "      <th></th>\n",
       "      <th>object_id</th>\n",
       "      <th>class_6</th>\n",
       "      <th>class_15</th>\n",
       "      <th>class_16</th>\n",
       "      <th>class_42</th>\n",
       "      <th>class_52</th>\n",
       "      <th>class_53</th>\n",
       "      <th>class_62</th>\n",
       "      <th>class_64</th>\n",
       "      <th>class_65</th>\n",
       "      <th>class_67</th>\n",
       "      <th>class_88</th>\n",
       "      <th>class_90</th>\n",
       "      <th>class_92</th>\n",
       "      <th>class_95</th>\n",
       "      <th>class_99</th>\n",
       "    </tr>\n",
       "  </thead>\n",
       "  <tbody>\n",
       "    <tr>\n",
       "      <th>70229</th>\n",
       "      <td>130787966</td>\n",
       "      <td>3.215009e-08</td>\n",
       "      <td>0.129863</td>\n",
       "      <td>0.000007</td>\n",
       "      <td>0.253988</td>\n",
       "      <td>0.162367</td>\n",
       "      <td>0.000056</td>\n",
       "      <td>0.029084</td>\n",
       "      <td>0.000198</td>\n",
       "      <td>0.000029</td>\n",
       "      <td>0.021101</td>\n",
       "      <td>0.012317</td>\n",
       "      <td>0.259967</td>\n",
       "      <td>0.000046</td>\n",
       "      <td>0.000542</td>\n",
       "      <td>0.130435</td>\n",
       "    </tr>\n",
       "    <tr>\n",
       "      <th>70230</th>\n",
       "      <td>130787971</td>\n",
       "      <td>6.328796e-07</td>\n",
       "      <td>0.079787</td>\n",
       "      <td>0.000004</td>\n",
       "      <td>0.126528</td>\n",
       "      <td>0.108416</td>\n",
       "      <td>0.000015</td>\n",
       "      <td>0.032939</td>\n",
       "      <td>0.003081</td>\n",
       "      <td>0.000002</td>\n",
       "      <td>0.039257</td>\n",
       "      <td>0.000833</td>\n",
       "      <td>0.474827</td>\n",
       "      <td>0.000004</td>\n",
       "      <td>0.003872</td>\n",
       "      <td>0.130435</td>\n",
       "    </tr>\n",
       "    <tr>\n",
       "      <th>70231</th>\n",
       "      <td>130787974</td>\n",
       "      <td>2.339178e-05</td>\n",
       "      <td>0.211411</td>\n",
       "      <td>0.000362</td>\n",
       "      <td>0.541280</td>\n",
       "      <td>0.020313</td>\n",
       "      <td>0.000095</td>\n",
       "      <td>0.078598</td>\n",
       "      <td>0.000072</td>\n",
       "      <td>0.000002</td>\n",
       "      <td>0.001456</td>\n",
       "      <td>0.002222</td>\n",
       "      <td>0.012121</td>\n",
       "      <td>0.000041</td>\n",
       "      <td>0.001571</td>\n",
       "      <td>0.130435</td>\n",
       "    </tr>\n",
       "    <tr>\n",
       "      <th>70232</th>\n",
       "      <td>130788053</td>\n",
       "      <td>5.743379e-07</td>\n",
       "      <td>0.732532</td>\n",
       "      <td>0.000023</td>\n",
       "      <td>0.073093</td>\n",
       "      <td>0.008491</td>\n",
       "      <td>0.000011</td>\n",
       "      <td>0.018087</td>\n",
       "      <td>0.007704</td>\n",
       "      <td>0.000009</td>\n",
       "      <td>0.002945</td>\n",
       "      <td>0.000131</td>\n",
       "      <td>0.026233</td>\n",
       "      <td>0.000082</td>\n",
       "      <td>0.000223</td>\n",
       "      <td>0.130435</td>\n",
       "    </tr>\n",
       "    <tr>\n",
       "      <th>70233</th>\n",
       "      <td>130788054</td>\n",
       "      <td>1.131007e-07</td>\n",
       "      <td>0.469598</td>\n",
       "      <td>0.000003</td>\n",
       "      <td>0.190364</td>\n",
       "      <td>0.050725</td>\n",
       "      <td>0.000020</td>\n",
       "      <td>0.043247</td>\n",
       "      <td>0.001782</td>\n",
       "      <td>0.000023</td>\n",
       "      <td>0.011298</td>\n",
       "      <td>0.000179</td>\n",
       "      <td>0.102096</td>\n",
       "      <td>0.000035</td>\n",
       "      <td>0.000196</td>\n",
       "      <td>0.130435</td>\n",
       "    </tr>\n",
       "  </tbody>\n",
       "</table>\n",
       "</div>"
      ],
      "text/plain": [
       "       object_id       class_6  class_15  class_16  class_42  class_52  \\\n",
       "70229  130787966  3.215009e-08  0.129863  0.000007  0.253988  0.162367   \n",
       "70230  130787971  6.328796e-07  0.079787  0.000004  0.126528  0.108416   \n",
       "70231  130787974  2.339178e-05  0.211411  0.000362  0.541280  0.020313   \n",
       "70232  130788053  5.743379e-07  0.732532  0.000023  0.073093  0.008491   \n",
       "70233  130788054  1.131007e-07  0.469598  0.000003  0.190364  0.050725   \n",
       "\n",
       "       class_53  class_62  class_64  class_65  class_67  class_88  class_90  \\\n",
       "70229  0.000056  0.029084  0.000198  0.000029  0.021101  0.012317  0.259967   \n",
       "70230  0.000015  0.032939  0.003081  0.000002  0.039257  0.000833  0.474827   \n",
       "70231  0.000095  0.078598  0.000072  0.000002  0.001456  0.002222  0.012121   \n",
       "70232  0.000011  0.018087  0.007704  0.000009  0.002945  0.000131  0.026233   \n",
       "70233  0.000020  0.043247  0.001782  0.000023  0.011298  0.000179  0.102096   \n",
       "\n",
       "       class_92  class_95  class_99  \n",
       "70229  0.000046  0.000542  0.130435  \n",
       "70230  0.000004  0.003872  0.130435  \n",
       "70231  0.000041  0.001571  0.130435  \n",
       "70232  0.000082  0.000223  0.130435  \n",
       "70233  0.000035  0.000196  0.130435  "
      ]
     },
     "execution_count": 14,
     "metadata": {},
     "output_type": "execute_result"
    }
   ],
   "source": [
    "test_pred_10.tail()"
   ]
  },
  {
   "cell_type": "code",
   "execution_count": 15,
   "metadata": {},
   "outputs": [
    {
     "name": "stdout",
     "output_type": "stream",
     "text": [
      "CPU times: user 147 ms, sys: 281 ms, total: 428 ms\n",
      "Wall time: 426 ms\n"
     ]
    }
   ],
   "source": [
    "%%time\n",
    "test_pred_9 = test_pred_9.reset_index(drop=True)\n",
    "test_pred_10 = test_pred_10.reset_index(drop=True)"
   ]
  },
  {
   "cell_type": "code",
   "execution_count": 16,
   "metadata": {},
   "outputs": [
    {
     "name": "stdout",
     "output_type": "stream",
     "text": [
      "CPU times: user 289 µs, sys: 62 µs, total: 351 µs\n",
      "Wall time: 358 µs\n"
     ]
    }
   ],
   "source": [
    "%%time\n",
    "test_ensemble = pd.DataFrame()"
   ]
  },
  {
   "cell_type": "code",
   "execution_count": 17,
   "metadata": {},
   "outputs": [
    {
     "name": "stdout",
     "output_type": "stream",
     "text": [
      "CPU times: user 567 ms, sys: 907 ms, total: 1.47 s\n",
      "Wall time: 1.47 s\n"
     ]
    }
   ],
   "source": [
    "%%time\n",
    "test_ensemble = test_pred_9*0.5 + test_pred_10*0.5"
   ]
  },
  {
   "cell_type": "code",
   "execution_count": 18,
   "metadata": {},
   "outputs": [
    {
     "data": {
      "text/plain": [
       "(3492890, 16)"
      ]
     },
     "execution_count": 18,
     "metadata": {},
     "output_type": "execute_result"
    }
   ],
   "source": [
    "test_ensemble.shape"
   ]
  },
  {
   "cell_type": "code",
   "execution_count": 19,
   "metadata": {},
   "outputs": [],
   "source": [
    "test_ensemble['object_id'] = test_ensemble['object_id'].apply(lambda x: int(x))"
   ]
  },
  {
   "cell_type": "code",
   "execution_count": 21,
   "metadata": {},
   "outputs": [
    {
     "data": {
      "text/plain": [
       "(3492890, 16)"
      ]
     },
     "execution_count": 21,
     "metadata": {},
     "output_type": "execute_result"
    }
   ],
   "source": [
    "test_ensemble.shape"
   ]
  },
  {
   "cell_type": "code",
   "execution_count": 22,
   "metadata": {},
   "outputs": [],
   "source": [
    "test_ensemble.to_csv('test_pred_11.csv',index=False)"
   ]
  }
 ],
 "metadata": {
  "kernelspec": {
   "display_name": "Python 3",
   "language": "python",
   "name": "python3"
  },
  "language_info": {
   "codemirror_mode": {
    "name": "ipython",
    "version": 3
   },
   "file_extension": ".py",
   "mimetype": "text/x-python",
   "name": "python",
   "nbconvert_exporter": "python",
   "pygments_lexer": "ipython3",
   "version": "3.6.7"
  }
 },
 "nbformat": 4,
 "nbformat_minor": 2
}
