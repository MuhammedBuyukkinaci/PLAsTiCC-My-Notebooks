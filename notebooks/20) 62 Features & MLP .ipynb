{
 "cells": [
  {
   "cell_type": "markdown",
   "metadata": {},
   "source": [
    "# 1) Importing libraries "
   ]
  },
  {
   "cell_type": "code",
   "execution_count": 1,
   "metadata": {},
   "outputs": [],
   "source": [
    "import numpy as np # linear algebra\n",
    "import pandas as pd # data processing, CSV file I/O (e.g. pd.read_csv)\n",
    "from sklearn.metrics import log_loss\n",
    "from sklearn.model_selection import StratifiedKFold\n",
    "import gc\n",
    "import os\n",
    "import matplotlib.pyplot as plt\n",
    "import seaborn as sns \n",
    "import lightgbm as lgb\n",
    "import itertools\n",
    "import pickle, gzip\n",
    "import glob\n",
    "from sklearn.preprocessing import StandardScaler\n",
    "from tsfresh.feature_extraction import extract_features\n",
    "np.warnings.filterwarnings('ignore')"
   ]
  },
  {
   "cell_type": "code",
   "execution_count": 2,
   "metadata": {},
   "outputs": [],
   "source": [
    "from sklearn.preprocessing import StandardScaler"
   ]
  },
  {
   "cell_type": "code",
   "execution_count": 3,
   "metadata": {},
   "outputs": [],
   "source": [
    "import missingno as msno"
   ]
  },
  {
   "cell_type": "code",
   "execution_count": 4,
   "metadata": {},
   "outputs": [],
   "source": [
    "from pandasql import sqldf"
   ]
  },
  {
   "cell_type": "code",
   "execution_count": 5,
   "metadata": {},
   "outputs": [],
   "source": [
    "from sklearn.metrics import mean_squared_error\n",
    "from math import sqrt"
   ]
  },
  {
   "cell_type": "code",
   "execution_count": 6,
   "metadata": {},
   "outputs": [],
   "source": [
    "from sklearn.model_selection import KFold"
   ]
  },
  {
   "cell_type": "code",
   "execution_count": 7,
   "metadata": {},
   "outputs": [],
   "source": [
    "import dask.dataframe as dd"
   ]
  },
  {
   "cell_type": "code",
   "execution_count": 8,
   "metadata": {},
   "outputs": [],
   "source": [
    "np.random.seed(51)"
   ]
  },
  {
   "cell_type": "code",
   "execution_count": 9,
   "metadata": {},
   "outputs": [],
   "source": [
    "pd.set_option('display.max_columns', None)\n",
    "pd.set_option('display.max_rows', None)"
   ]
  },
  {
   "cell_type": "markdown",
   "metadata": {},
   "source": [
    "# 2) Reading train_metadata_kaggle & test_metadata_kaggle"
   ]
  },
  {
   "cell_type": "code",
   "execution_count": 10,
   "metadata": {},
   "outputs": [
    {
     "name": "stdout",
     "output_type": "stream",
     "text": [
      "(7848, 64) (3492890, 63)\n",
      "CPU times: user 1min 39s, sys: 6.32 s, total: 1min 45s\n",
      "Wall time: 19 s\n"
     ]
    }
   ],
   "source": [
    "%%time\n",
    "train_metadata_kaggle = dd.read_csv('klm_train.csv')\n",
    "test_metadata_kaggle = dd.read_csv('klm_test.csv')\n",
    "train_metadata_kaggle = train_metadata_kaggle.compute()\n",
    "test_metadata_kaggle = test_metadata_kaggle.compute()\n",
    "print(train_metadata_kaggle.shape,test_metadata_kaggle.shape)"
   ]
  },
  {
   "cell_type": "code",
   "execution_count": 11,
   "metadata": {},
   "outputs": [],
   "source": [
    "test_id = test_metadata_kaggle['object_id']"
   ]
  },
  {
   "cell_type": "code",
   "execution_count": 12,
   "metadata": {},
   "outputs": [
    {
     "name": "stdout",
     "output_type": "stream",
     "text": [
      "(7848, 64) (3492890, 63)\n"
     ]
    }
   ],
   "source": [
    "print(train_metadata_kaggle.shape,test_metadata_kaggle.shape)"
   ]
  },
  {
   "cell_type": "code",
   "execution_count": 13,
   "metadata": {},
   "outputs": [
    {
     "data": {
      "text/html": [
       "<div>\n",
       "<style scoped>\n",
       "    .dataframe tbody tr th:only-of-type {\n",
       "        vertical-align: middle;\n",
       "    }\n",
       "\n",
       "    .dataframe tbody tr th {\n",
       "        vertical-align: top;\n",
       "    }\n",
       "\n",
       "    .dataframe thead th {\n",
       "        text-align: right;\n",
       "    }\n",
       "</style>\n",
       "<table border=\"1\" class=\"dataframe\">\n",
       "  <thead>\n",
       "    <tr style=\"text-align: right;\">\n",
       "      <th></th>\n",
       "      <th>object_id</th>\n",
       "      <th>flux_min</th>\n",
       "      <th>flux_max</th>\n",
       "      <th>flux_mean</th>\n",
       "      <th>flux_median</th>\n",
       "      <th>flux_std</th>\n",
       "      <th>flux_skew</th>\n",
       "      <th>flux_err_min</th>\n",
       "      <th>flux_err_max</th>\n",
       "      <th>flux_err_mean</th>\n",
       "      <th>flux_err_median</th>\n",
       "      <th>flux_err_std</th>\n",
       "      <th>flux_err_skew</th>\n",
       "      <th>detected_mean</th>\n",
       "      <th>flux_ratio_sq_sum</th>\n",
       "      <th>flux_ratio_sq_skew</th>\n",
       "      <th>flux_by_flux_ratio_sq_sum</th>\n",
       "      <th>flux_by_flux_ratio_sq_skew</th>\n",
       "      <th>flux_w_mean</th>\n",
       "      <th>flux_diff1</th>\n",
       "      <th>flux_diff2</th>\n",
       "      <th>flux_diff3</th>\n",
       "      <th>0__fft_coefficient__coeff_0__attr_\"abs\"</th>\n",
       "      <th>0__fft_coefficient__coeff_1__attr_\"abs\"</th>\n",
       "      <th>0__kurtosis</th>\n",
       "      <th>0__skewness</th>\n",
       "      <th>1__fft_coefficient__coeff_0__attr_\"abs\"</th>\n",
       "      <th>1__fft_coefficient__coeff_1__attr_\"abs\"</th>\n",
       "      <th>1__kurtosis</th>\n",
       "      <th>1__skewness</th>\n",
       "      <th>2__fft_coefficient__coeff_0__attr_\"abs\"</th>\n",
       "      <th>2__fft_coefficient__coeff_1__attr_\"abs\"</th>\n",
       "      <th>2__kurtosis</th>\n",
       "      <th>2__skewness</th>\n",
       "      <th>3__fft_coefficient__coeff_0__attr_\"abs\"</th>\n",
       "      <th>3__fft_coefficient__coeff_1__attr_\"abs\"</th>\n",
       "      <th>3__kurtosis</th>\n",
       "      <th>3__skewness</th>\n",
       "      <th>4__fft_coefficient__coeff_0__attr_\"abs\"</th>\n",
       "      <th>4__fft_coefficient__coeff_1__attr_\"abs\"</th>\n",
       "      <th>4__kurtosis</th>\n",
       "      <th>4__skewness</th>\n",
       "      <th>5__fft_coefficient__coeff_0__attr_\"abs\"</th>\n",
       "      <th>5__fft_coefficient__coeff_1__attr_\"abs\"</th>\n",
       "      <th>5__kurtosis</th>\n",
       "      <th>5__skewness</th>\n",
       "      <th>flux__length</th>\n",
       "      <th>flux__longest_strike_above_mean</th>\n",
       "      <th>flux__longest_strike_below_mean</th>\n",
       "      <th>flux__mean_abs_change</th>\n",
       "      <th>flux__mean_change</th>\n",
       "      <th>flux_by_flux_ratio_sq__longest_strike_above_mean</th>\n",
       "      <th>flux_by_flux_ratio_sq__longest_strike_below_mean</th>\n",
       "      <th>mjd__mean_abs_change</th>\n",
       "      <th>mjd__mean_change</th>\n",
       "      <th>mjd_diff_det</th>\n",
       "      <th>hostgal_photoz</th>\n",
       "      <th>hostgal_photoz_err</th>\n",
       "      <th>distmod</th>\n",
       "      <th>mwebv</th>\n",
       "      <th>target</th>\n",
       "      <th>haversine</th>\n",
       "      <th>latlon1</th>\n",
       "      <th>hostgal_photoz_certain</th>\n",
       "    </tr>\n",
       "  </thead>\n",
       "  <tbody>\n",
       "    <tr>\n",
       "      <th>0</th>\n",
       "      <td>615</td>\n",
       "      <td>-1100.440063</td>\n",
       "      <td>660.626343</td>\n",
       "      <td>-123.096998</td>\n",
       "      <td>-89.477524</td>\n",
       "      <td>394.109851</td>\n",
       "      <td>-0.349540</td>\n",
       "      <td>2.130510</td>\n",
       "      <td>12.845472</td>\n",
       "      <td>4.482743</td>\n",
       "      <td>3.835268</td>\n",
       "      <td>1.744747</td>\n",
       "      <td>1.623740</td>\n",
       "      <td>0.946023</td>\n",
       "      <td>2.929669e+06</td>\n",
       "      <td>0.812722</td>\n",
       "      <td>-9.601766e+08</td>\n",
       "      <td>-1.414322</td>\n",
       "      <td>-327.742307</td>\n",
       "      <td>1761.066406</td>\n",
       "      <td>-14.306331</td>\n",
       "      <td>-5.373326</td>\n",
       "      <td>205.036926</td>\n",
       "      <td>1628.427737</td>\n",
       "      <td>-1.475181</td>\n",
       "      <td>0.128917</td>\n",
       "      <td>22370.594834</td>\n",
       "      <td>2806.374162</td>\n",
       "      <td>-1.255123</td>\n",
       "      <td>0.415580</td>\n",
       "      <td>7780.500807</td>\n",
       "      <td>2805.598113</td>\n",
       "      <td>-1.409885</td>\n",
       "      <td>0.339918</td>\n",
       "      <td>7024.003068</td>\n",
       "      <td>2536.068846</td>\n",
       "      <td>-1.449858</td>\n",
       "      <td>0.293128</td>\n",
       "      <td>3245.366349</td>\n",
       "      <td>2741.539785</td>\n",
       "      <td>-1.548319</td>\n",
       "      <td>0.200096</td>\n",
       "      <td>2704.641265</td>\n",
       "      <td>2893.344217</td>\n",
       "      <td>-1.592820</td>\n",
       "      <td>0.125268</td>\n",
       "      <td>352.0</td>\n",
       "      <td>19.0</td>\n",
       "      <td>29.0</td>\n",
       "      <td>202.114067</td>\n",
       "      <td>1.999688</td>\n",
       "      <td>35.0</td>\n",
       "      <td>4.0</td>\n",
       "      <td>2.631898</td>\n",
       "      <td>2.631898</td>\n",
       "      <td>873.7903</td>\n",
       "      <td>0.0000</td>\n",
       "      <td>0.0000</td>\n",
       "      <td>NaN</td>\n",
       "      <td>0.017</td>\n",
       "      <td>92</td>\n",
       "      <td>0.319006</td>\n",
       "      <td>-1.528827</td>\n",
       "      <td>0.000000</td>\n",
       "    </tr>\n",
       "    <tr>\n",
       "      <th>1</th>\n",
       "      <td>713</td>\n",
       "      <td>-14.735178</td>\n",
       "      <td>14.770886</td>\n",
       "      <td>-1.423351</td>\n",
       "      <td>-0.873033</td>\n",
       "      <td>6.471144</td>\n",
       "      <td>0.014989</td>\n",
       "      <td>0.639458</td>\n",
       "      <td>9.115748</td>\n",
       "      <td>2.359620</td>\n",
       "      <td>1.998217</td>\n",
       "      <td>1.509888</td>\n",
       "      <td>1.633246</td>\n",
       "      <td>0.171429</td>\n",
       "      <td>5.886068e+03</td>\n",
       "      <td>3.439423</td>\n",
       "      <td>-2.875087e+04</td>\n",
       "      <td>-3.454554</td>\n",
       "      <td>-4.884564</td>\n",
       "      <td>29.506064</td>\n",
       "      <td>-20.730002</td>\n",
       "      <td>-6.040676</td>\n",
       "      <td>190.427851</td>\n",
       "      <td>299.586559</td>\n",
       "      <td>-1.014003</td>\n",
       "      <td>0.260052</td>\n",
       "      <td>57.109047</td>\n",
       "      <td>192.539229</td>\n",
       "      <td>-1.097170</td>\n",
       "      <td>-0.087865</td>\n",
       "      <td>44.477327</td>\n",
       "      <td>191.057528</td>\n",
       "      <td>-1.188472</td>\n",
       "      <td>-0.022678</td>\n",
       "      <td>55.270113</td>\n",
       "      <td>212.522263</td>\n",
       "      <td>-1.142896</td>\n",
       "      <td>-0.167176</td>\n",
       "      <td>50.414646</td>\n",
       "      <td>203.892482</td>\n",
       "      <td>-1.190245</td>\n",
       "      <td>-0.064134</td>\n",
       "      <td>100.473776</td>\n",
       "      <td>143.963093</td>\n",
       "      <td>-0.797047</td>\n",
       "      <td>0.218182</td>\n",
       "      <td>350.0</td>\n",
       "      <td>50.0</td>\n",
       "      <td>73.0</td>\n",
       "      <td>2.935177</td>\n",
       "      <td>-0.050944</td>\n",
       "      <td>199.0</td>\n",
       "      <td>8.0</td>\n",
       "      <td>14.352571</td>\n",
       "      <td>14.352571</td>\n",
       "      <td>846.8017</td>\n",
       "      <td>1.6267</td>\n",
       "      <td>0.2552</td>\n",
       "      <td>45.4063</td>\n",
       "      <td>0.007</td>\n",
       "      <td>88</td>\n",
       "      <td>1.698939</td>\n",
       "      <td>3.258921</td>\n",
       "      <td>2.099614</td>\n",
       "    </tr>\n",
       "    <tr>\n",
       "      <th>2</th>\n",
       "      <td>730</td>\n",
       "      <td>-19.159811</td>\n",
       "      <td>47.310059</td>\n",
       "      <td>2.267434</td>\n",
       "      <td>0.409172</td>\n",
       "      <td>8.022239</td>\n",
       "      <td>3.177854</td>\n",
       "      <td>0.695106</td>\n",
       "      <td>11.281384</td>\n",
       "      <td>2.471061</td>\n",
       "      <td>1.990851</td>\n",
       "      <td>1.721134</td>\n",
       "      <td>1.823726</td>\n",
       "      <td>0.069697</td>\n",
       "      <td>4.124452e+03</td>\n",
       "      <td>5.480405</td>\n",
       "      <td>1.046502e+05</td>\n",
       "      <td>5.989138</td>\n",
       "      <td>25.373110</td>\n",
       "      <td>66.469870</td>\n",
       "      <td>29.315018</td>\n",
       "      <td>2.619697</td>\n",
       "      <td>3.461790</td>\n",
       "      <td>4.729538</td>\n",
       "      <td>0.474215</td>\n",
       "      <td>0.356910</td>\n",
       "      <td>7.334944</td>\n",
       "      <td>13.515895</td>\n",
       "      <td>0.976374</td>\n",
       "      <td>0.471342</td>\n",
       "      <td>124.845250</td>\n",
       "      <td>119.500254</td>\n",
       "      <td>5.131290</td>\n",
       "      <td>2.385066</td>\n",
       "      <td>168.280524</td>\n",
       "      <td>162.799417</td>\n",
       "      <td>7.125665</td>\n",
       "      <td>2.662075</td>\n",
       "      <td>219.745132</td>\n",
       "      <td>202.532898</td>\n",
       "      <td>6.081065</td>\n",
       "      <td>2.537802</td>\n",
       "      <td>231.509177</td>\n",
       "      <td>199.286370</td>\n",
       "      <td>3.583130</td>\n",
       "      <td>1.680352</td>\n",
       "      <td>330.0</td>\n",
       "      <td>13.0</td>\n",
       "      <td>32.0</td>\n",
       "      <td>4.227614</td>\n",
       "      <td>-0.008131</td>\n",
       "      <td>4.0</td>\n",
       "      <td>222.0</td>\n",
       "      <td>3.580623</td>\n",
       "      <td>3.580623</td>\n",
       "      <td>78.7737</td>\n",
       "      <td>0.2262</td>\n",
       "      <td>0.0157</td>\n",
       "      <td>40.2561</td>\n",
       "      <td>0.021</td>\n",
       "      <td>42</td>\n",
       "      <td>1.818030</td>\n",
       "      <td>3.128522</td>\n",
       "      <td>0.229779</td>\n",
       "    </tr>\n",
       "    <tr>\n",
       "      <th>3</th>\n",
       "      <td>745</td>\n",
       "      <td>-15.494463</td>\n",
       "      <td>220.795212</td>\n",
       "      <td>8.909206</td>\n",
       "      <td>1.035895</td>\n",
       "      <td>27.558208</td>\n",
       "      <td>4.979826</td>\n",
       "      <td>0.567170</td>\n",
       "      <td>55.892746</td>\n",
       "      <td>2.555576</td>\n",
       "      <td>1.819875</td>\n",
       "      <td>3.537324</td>\n",
       "      <td>10.741655</td>\n",
       "      <td>0.173789</td>\n",
       "      <td>9.416165e+04</td>\n",
       "      <td>9.611274</td>\n",
       "      <td>1.439125e+07</td>\n",
       "      <td>11.141069</td>\n",
       "      <td>152.835617</td>\n",
       "      <td>236.289675</td>\n",
       "      <td>26.521968</td>\n",
       "      <td>1.546038</td>\n",
       "      <td>129.421659</td>\n",
       "      <td>123.298327</td>\n",
       "      <td>4.629801</td>\n",
       "      <td>2.023211</td>\n",
       "      <td>320.174052</td>\n",
       "      <td>280.440312</td>\n",
       "      <td>50.868880</td>\n",
       "      <td>7.007099</td>\n",
       "      <td>543.845781</td>\n",
       "      <td>491.548270</td>\n",
       "      <td>36.088137</td>\n",
       "      <td>5.688194</td>\n",
       "      <td>807.123762</td>\n",
       "      <td>710.721942</td>\n",
       "      <td>16.392533</td>\n",
       "      <td>3.751603</td>\n",
       "      <td>735.528417</td>\n",
       "      <td>680.055280</td>\n",
       "      <td>13.747434</td>\n",
       "      <td>3.476420</td>\n",
       "      <td>591.037583</td>\n",
       "      <td>523.503586</td>\n",
       "      <td>12.134629</td>\n",
       "      <td>3.170857</td>\n",
       "      <td>351.0</td>\n",
       "      <td>19.0</td>\n",
       "      <td>115.0</td>\n",
       "      <td>7.065548</td>\n",
       "      <td>0.008044</td>\n",
       "      <td>4.0</td>\n",
       "      <td>201.0</td>\n",
       "      <td>2.061453</td>\n",
       "      <td>2.061453</td>\n",
       "      <td>123.6872</td>\n",
       "      <td>0.2813</td>\n",
       "      <td>1.1523</td>\n",
       "      <td>40.7951</td>\n",
       "      <td>0.007</td>\n",
       "      <td>90</td>\n",
       "      <td>0.495223</td>\n",
       "      <td>6.893743</td>\n",
       "      <td>0.890445</td>\n",
       "    </tr>\n",
       "    <tr>\n",
       "      <th>4</th>\n",
       "      <td>1124</td>\n",
       "      <td>-16.543753</td>\n",
       "      <td>143.600189</td>\n",
       "      <td>7.145702</td>\n",
       "      <td>1.141288</td>\n",
       "      <td>20.051722</td>\n",
       "      <td>4.406298</td>\n",
       "      <td>0.695277</td>\n",
       "      <td>11.383690</td>\n",
       "      <td>2.753004</td>\n",
       "      <td>2.214854</td>\n",
       "      <td>1.933837</td>\n",
       "      <td>1.794938</td>\n",
       "      <td>0.173295</td>\n",
       "      <td>3.432418e+04</td>\n",
       "      <td>7.868462</td>\n",
       "      <td>3.015599e+06</td>\n",
       "      <td>7.908174</td>\n",
       "      <td>87.856390</td>\n",
       "      <td>160.143942</td>\n",
       "      <td>22.411225</td>\n",
       "      <td>1.822792</td>\n",
       "      <td>41.639721</td>\n",
       "      <td>32.987125</td>\n",
       "      <td>0.822496</td>\n",
       "      <td>-0.332169</td>\n",
       "      <td>268.808929</td>\n",
       "      <td>207.812015</td>\n",
       "      <td>6.112295</td>\n",
       "      <td>2.377222</td>\n",
       "      <td>594.150153</td>\n",
       "      <td>498.509820</td>\n",
       "      <td>10.343254</td>\n",
       "      <td>3.075437</td>\n",
       "      <td>643.020183</td>\n",
       "      <td>555.512641</td>\n",
       "      <td>14.095862</td>\n",
       "      <td>3.603208</td>\n",
       "      <td>574.553907</td>\n",
       "      <td>524.107264</td>\n",
       "      <td>16.377058</td>\n",
       "      <td>3.904008</td>\n",
       "      <td>393.114268</td>\n",
       "      <td>357.907185</td>\n",
       "      <td>14.434470</td>\n",
       "      <td>3.657305</td>\n",
       "      <td>352.0</td>\n",
       "      <td>19.0</td>\n",
       "      <td>158.0</td>\n",
       "      <td>6.727352</td>\n",
       "      <td>0.012543</td>\n",
       "      <td>10.0</td>\n",
       "      <td>231.0</td>\n",
       "      <td>2.231855</td>\n",
       "      <td>2.231855</td>\n",
       "      <td>133.9113</td>\n",
       "      <td>0.2415</td>\n",
       "      <td>0.0176</td>\n",
       "      <td>40.4166</td>\n",
       "      <td>0.024</td>\n",
       "      <td>90</td>\n",
       "      <td>0.395162</td>\n",
       "      <td>-1.928064</td>\n",
       "      <td>0.245788</td>\n",
       "    </tr>\n",
       "  </tbody>\n",
       "</table>\n",
       "</div>"
      ],
      "text/plain": [
       "   object_id     flux_min    flux_max   flux_mean  flux_median    flux_std  \\\n",
       "0        615 -1100.440063  660.626343 -123.096998   -89.477524  394.109851   \n",
       "1        713   -14.735178   14.770886   -1.423351    -0.873033    6.471144   \n",
       "2        730   -19.159811   47.310059    2.267434     0.409172    8.022239   \n",
       "3        745   -15.494463  220.795212    8.909206     1.035895   27.558208   \n",
       "4       1124   -16.543753  143.600189    7.145702     1.141288   20.051722   \n",
       "\n",
       "   flux_skew  flux_err_min  flux_err_max  flux_err_mean  flux_err_median  \\\n",
       "0  -0.349540      2.130510     12.845472       4.482743         3.835268   \n",
       "1   0.014989      0.639458      9.115748       2.359620         1.998217   \n",
       "2   3.177854      0.695106     11.281384       2.471061         1.990851   \n",
       "3   4.979826      0.567170     55.892746       2.555576         1.819875   \n",
       "4   4.406298      0.695277     11.383690       2.753004         2.214854   \n",
       "\n",
       "   flux_err_std  flux_err_skew  detected_mean  flux_ratio_sq_sum  \\\n",
       "0      1.744747       1.623740       0.946023       2.929669e+06   \n",
       "1      1.509888       1.633246       0.171429       5.886068e+03   \n",
       "2      1.721134       1.823726       0.069697       4.124452e+03   \n",
       "3      3.537324      10.741655       0.173789       9.416165e+04   \n",
       "4      1.933837       1.794938       0.173295       3.432418e+04   \n",
       "\n",
       "   flux_ratio_sq_skew  flux_by_flux_ratio_sq_sum  flux_by_flux_ratio_sq_skew  \\\n",
       "0            0.812722              -9.601766e+08                   -1.414322   \n",
       "1            3.439423              -2.875087e+04                   -3.454554   \n",
       "2            5.480405               1.046502e+05                    5.989138   \n",
       "3            9.611274               1.439125e+07                   11.141069   \n",
       "4            7.868462               3.015599e+06                    7.908174   \n",
       "\n",
       "   flux_w_mean   flux_diff1  flux_diff2  flux_diff3  \\\n",
       "0  -327.742307  1761.066406  -14.306331   -5.373326   \n",
       "1    -4.884564    29.506064  -20.730002   -6.040676   \n",
       "2    25.373110    66.469870   29.315018    2.619697   \n",
       "3   152.835617   236.289675   26.521968    1.546038   \n",
       "4    87.856390   160.143942   22.411225    1.822792   \n",
       "\n",
       "   0__fft_coefficient__coeff_0__attr_\"abs\"  \\\n",
       "0                               205.036926   \n",
       "1                               190.427851   \n",
       "2                                 3.461790   \n",
       "3                               129.421659   \n",
       "4                                41.639721   \n",
       "\n",
       "   0__fft_coefficient__coeff_1__attr_\"abs\"  0__kurtosis  0__skewness  \\\n",
       "0                              1628.427737    -1.475181     0.128917   \n",
       "1                               299.586559    -1.014003     0.260052   \n",
       "2                                 4.729538     0.474215     0.356910   \n",
       "3                               123.298327     4.629801     2.023211   \n",
       "4                                32.987125     0.822496    -0.332169   \n",
       "\n",
       "   1__fft_coefficient__coeff_0__attr_\"abs\"  \\\n",
       "0                             22370.594834   \n",
       "1                                57.109047   \n",
       "2                                 7.334944   \n",
       "3                               320.174052   \n",
       "4                               268.808929   \n",
       "\n",
       "   1__fft_coefficient__coeff_1__attr_\"abs\"  1__kurtosis  1__skewness  \\\n",
       "0                              2806.374162    -1.255123     0.415580   \n",
       "1                               192.539229    -1.097170    -0.087865   \n",
       "2                                13.515895     0.976374     0.471342   \n",
       "3                               280.440312    50.868880     7.007099   \n",
       "4                               207.812015     6.112295     2.377222   \n",
       "\n",
       "   2__fft_coefficient__coeff_0__attr_\"abs\"  \\\n",
       "0                              7780.500807   \n",
       "1                                44.477327   \n",
       "2                               124.845250   \n",
       "3                               543.845781   \n",
       "4                               594.150153   \n",
       "\n",
       "   2__fft_coefficient__coeff_1__attr_\"abs\"  2__kurtosis  2__skewness  \\\n",
       "0                              2805.598113    -1.409885     0.339918   \n",
       "1                               191.057528    -1.188472    -0.022678   \n",
       "2                               119.500254     5.131290     2.385066   \n",
       "3                               491.548270    36.088137     5.688194   \n",
       "4                               498.509820    10.343254     3.075437   \n",
       "\n",
       "   3__fft_coefficient__coeff_0__attr_\"abs\"  \\\n",
       "0                              7024.003068   \n",
       "1                                55.270113   \n",
       "2                               168.280524   \n",
       "3                               807.123762   \n",
       "4                               643.020183   \n",
       "\n",
       "   3__fft_coefficient__coeff_1__attr_\"abs\"  3__kurtosis  3__skewness  \\\n",
       "0                              2536.068846    -1.449858     0.293128   \n",
       "1                               212.522263    -1.142896    -0.167176   \n",
       "2                               162.799417     7.125665     2.662075   \n",
       "3                               710.721942    16.392533     3.751603   \n",
       "4                               555.512641    14.095862     3.603208   \n",
       "\n",
       "   4__fft_coefficient__coeff_0__attr_\"abs\"  \\\n",
       "0                              3245.366349   \n",
       "1                                50.414646   \n",
       "2                               219.745132   \n",
       "3                               735.528417   \n",
       "4                               574.553907   \n",
       "\n",
       "   4__fft_coefficient__coeff_1__attr_\"abs\"  4__kurtosis  4__skewness  \\\n",
       "0                              2741.539785    -1.548319     0.200096   \n",
       "1                               203.892482    -1.190245    -0.064134   \n",
       "2                               202.532898     6.081065     2.537802   \n",
       "3                               680.055280    13.747434     3.476420   \n",
       "4                               524.107264    16.377058     3.904008   \n",
       "\n",
       "   5__fft_coefficient__coeff_0__attr_\"abs\"  \\\n",
       "0                              2704.641265   \n",
       "1                               100.473776   \n",
       "2                               231.509177   \n",
       "3                               591.037583   \n",
       "4                               393.114268   \n",
       "\n",
       "   5__fft_coefficient__coeff_1__attr_\"abs\"  5__kurtosis  5__skewness  \\\n",
       "0                              2893.344217    -1.592820     0.125268   \n",
       "1                               143.963093    -0.797047     0.218182   \n",
       "2                               199.286370     3.583130     1.680352   \n",
       "3                               523.503586    12.134629     3.170857   \n",
       "4                               357.907185    14.434470     3.657305   \n",
       "\n",
       "   flux__length  flux__longest_strike_above_mean  \\\n",
       "0         352.0                             19.0   \n",
       "1         350.0                             50.0   \n",
       "2         330.0                             13.0   \n",
       "3         351.0                             19.0   \n",
       "4         352.0                             19.0   \n",
       "\n",
       "   flux__longest_strike_below_mean  flux__mean_abs_change  flux__mean_change  \\\n",
       "0                             29.0             202.114067           1.999688   \n",
       "1                             73.0               2.935177          -0.050944   \n",
       "2                             32.0               4.227614          -0.008131   \n",
       "3                            115.0               7.065548           0.008044   \n",
       "4                            158.0               6.727352           0.012543   \n",
       "\n",
       "   flux_by_flux_ratio_sq__longest_strike_above_mean  \\\n",
       "0                                              35.0   \n",
       "1                                             199.0   \n",
       "2                                               4.0   \n",
       "3                                               4.0   \n",
       "4                                              10.0   \n",
       "\n",
       "   flux_by_flux_ratio_sq__longest_strike_below_mean  mjd__mean_abs_change  \\\n",
       "0                                               4.0              2.631898   \n",
       "1                                               8.0             14.352571   \n",
       "2                                             222.0              3.580623   \n",
       "3                                             201.0              2.061453   \n",
       "4                                             231.0              2.231855   \n",
       "\n",
       "   mjd__mean_change  mjd_diff_det  hostgal_photoz  hostgal_photoz_err  \\\n",
       "0          2.631898      873.7903          0.0000              0.0000   \n",
       "1         14.352571      846.8017          1.6267              0.2552   \n",
       "2          3.580623       78.7737          0.2262              0.0157   \n",
       "3          2.061453      123.6872          0.2813              1.1523   \n",
       "4          2.231855      133.9113          0.2415              0.0176   \n",
       "\n",
       "   distmod  mwebv  target  haversine   latlon1  hostgal_photoz_certain  \n",
       "0      NaN  0.017      92   0.319006 -1.528827                0.000000  \n",
       "1  45.4063  0.007      88   1.698939  3.258921                2.099614  \n",
       "2  40.2561  0.021      42   1.818030  3.128522                0.229779  \n",
       "3  40.7951  0.007      90   0.495223  6.893743                0.890445  \n",
       "4  40.4166  0.024      90   0.395162 -1.928064                0.245788  "
      ]
     },
     "execution_count": 13,
     "metadata": {},
     "output_type": "execute_result"
    }
   ],
   "source": [
    "train_metadata_kaggle.head()"
   ]
  },
  {
   "cell_type": "markdown",
   "metadata": {},
   "source": [
    "# 3) reading train_metadata_final & test_metadata_final"
   ]
  },
  {
   "cell_type": "code",
   "execution_count": 14,
   "metadata": {},
   "outputs": [
    {
     "data": {
      "text/plain": [
       "\"%%time\\ntrain_metadata = dd.read_csv('train_metadata_final.csv')\\ntest_metadata = dd.read_csv('test_metadata_final.csv')\\ntrain_metadata = train_metadata.compute()\\ntest_metadata = test_metadata.compute()\\nprint(train_metadata.shape,test_metadata.shape)\""
      ]
     },
     "execution_count": 14,
     "metadata": {},
     "output_type": "execute_result"
    }
   ],
   "source": [
    "\"\"\"%%time\n",
    "train_metadata = dd.read_csv('train_metadata_final.csv')\n",
    "test_metadata = dd.read_csv('test_metadata_final.csv')\n",
    "train_metadata = train_metadata.compute()\n",
    "test_metadata = test_metadata.compute()\n",
    "print(train_metadata.shape,test_metadata.shape)\"\"\""
   ]
  },
  {
   "cell_type": "code",
   "execution_count": 15,
   "metadata": {},
   "outputs": [
    {
     "data": {
      "text/plain": [
       "\"y = train_metadata['target']\\ndel train_metadata['target']\\ngc.collect()\""
      ]
     },
     "execution_count": 15,
     "metadata": {},
     "output_type": "execute_result"
    }
   ],
   "source": [
    "\"\"\"y = train_metadata['target']\n",
    "del train_metadata['target']\n",
    "gc.collect()\"\"\""
   ]
  },
  {
   "cell_type": "markdown",
   "metadata": {},
   "source": [
    "# 4) Reading created_column"
   ]
  },
  {
   "cell_type": "code",
   "execution_count": 16,
   "metadata": {},
   "outputs": [
    {
     "data": {
      "text/plain": [
       "\"created_column = pd.read_csv('hostgal_specz.csv',header=None)\\ncreated_column.shape[0] == train_metadata_kaggle.shape[0] + test_metadata_kaggle.shape[0]\\ncreated_column.columns = ['object_id','hostgal_specz']\\nprint(train_metadata_kaggle.shape)\""
      ]
     },
     "execution_count": 16,
     "metadata": {},
     "output_type": "execute_result"
    }
   ],
   "source": [
    "\"\"\"created_column = pd.read_csv('hostgal_specz.csv',header=None)\n",
    "created_column.shape[0] == train_metadata_kaggle.shape[0] + test_metadata_kaggle.shape[0]\n",
    "created_column.columns = ['object_id','hostgal_specz']\n",
    "print(train_metadata_kaggle.shape)\"\"\""
   ]
  },
  {
   "cell_type": "markdown",
   "metadata": {},
   "source": [
    "# 5) Removing duplicated_columns from train_metadata & test_metadata"
   ]
  },
  {
   "cell_type": "code",
   "execution_count": 17,
   "metadata": {},
   "outputs": [
    {
     "data": {
      "text/plain": [
       "\"will_be_deleted_columns = ['NG_min_flux','NG_max_flux','NG_std_flux','NG_mean_flux','NG_median_flux',\\n                          'NG_min_flux_err','NG_max_flux_err','NG_std_flux_err','NG_mean_flux_err','NG_median_flux_err',\\n                          'NG_mean_detected','hostgal_photoz','hostgal_photoz_err','mwebv']\""
      ]
     },
     "execution_count": 17,
     "metadata": {},
     "output_type": "execute_result"
    }
   ],
   "source": [
    "\"\"\"will_be_deleted_columns = ['NG_min_flux','NG_max_flux','NG_std_flux','NG_mean_flux','NG_median_flux',\n",
    "                          'NG_min_flux_err','NG_max_flux_err','NG_std_flux_err','NG_mean_flux_err','NG_median_flux_err',\n",
    "                          'NG_mean_detected','hostgal_photoz','hostgal_photoz_err','mwebv']\"\"\""
   ]
  },
  {
   "cell_type": "code",
   "execution_count": 18,
   "metadata": {},
   "outputs": [
    {
     "data": {
      "text/plain": [
       "'%%time\\ntrain_metadata.drop(will_be_deleted_columns,inplace=True , axis=1)\\ntest_metadata.drop(will_be_deleted_columns,inplace=True , axis=1)\\ngc.collect()'"
      ]
     },
     "execution_count": 18,
     "metadata": {},
     "output_type": "execute_result"
    }
   ],
   "source": [
    "\"\"\"%%time\n",
    "train_metadata.drop(will_be_deleted_columns,inplace=True , axis=1)\n",
    "test_metadata.drop(will_be_deleted_columns,inplace=True , axis=1)\n",
    "gc.collect()\"\"\""
   ]
  },
  {
   "cell_type": "markdown",
   "metadata": {},
   "source": [
    "# 6) Adding hostgal_specz to train_metadata_kaggle"
   ]
  },
  {
   "cell_type": "code",
   "execution_count": 19,
   "metadata": {},
   "outputs": [
    {
     "data": {
      "text/plain": [
       "\"%%time\\ntrain_metadata_kaggle = train_metadata_kaggle.merge(right = created_column ,how='left',on = 'object_id')\""
      ]
     },
     "execution_count": 19,
     "metadata": {},
     "output_type": "execute_result"
    }
   ],
   "source": [
    "\"\"\"%%time\n",
    "train_metadata_kaggle = train_metadata_kaggle.merge(right = created_column ,how='left',on = 'object_id')\"\"\""
   ]
  },
  {
   "cell_type": "markdown",
   "metadata": {},
   "source": [
    "# 7) Adding hostgal_specz to train_metadata_kaggle"
   ]
  },
  {
   "cell_type": "code",
   "execution_count": 20,
   "metadata": {},
   "outputs": [
    {
     "data": {
      "text/plain": [
       "\"%%time\\ntest_metadata_kaggle = test_metadata_kaggle.merge(right = created_column ,how='left',on = 'object_id')\""
      ]
     },
     "execution_count": 20,
     "metadata": {},
     "output_type": "execute_result"
    }
   ],
   "source": [
    "\"\"\"%%time\n",
    "test_metadata_kaggle = test_metadata_kaggle.merge(right = created_column ,how='left',on = 'object_id')\"\"\""
   ]
  },
  {
   "cell_type": "markdown",
   "metadata": {},
   "source": [
    "# 8) Creating train and test datasets"
   ]
  },
  {
   "cell_type": "code",
   "execution_count": 21,
   "metadata": {},
   "outputs": [],
   "source": [
    "#temp = train_metadata_kaggle.merge(right = train_metadata[[x for x in train_metadata.columns if x not in ignored_columns ]] ,how='left',on = 'object_id')"
   ]
  },
  {
   "cell_type": "code",
   "execution_count": 22,
   "metadata": {},
   "outputs": [
    {
     "data": {
      "text/plain": [
       "\"#train\\ntrain_metadata_kaggle['flux_diff_btw_mean_and_min'] = train_metadata_kaggle['flux_mean'] - train_metadata_kaggle['flux_min']\\ntrain_metadata_kaggle['flux_diff_btw_mean_and_max'] = train_metadata_kaggle['flux_max'] - train_metadata_kaggle['flux_mean']\\ntrain_metadata_kaggle['flux_std_divided_by_skew'] = train_metadata_kaggle['flux_std'] / train_metadata_kaggle['flux_skew']\\n\\n#test\\ntest_metadata_kaggle['flux_diff_btw_mean_and_min'] = test_metadata_kaggle['flux_mean'] - test_metadata_kaggle['flux_min']\\ntest_metadata_kaggle['flux_diff_btw_mean_and_max'] = test_metadata_kaggle['flux_max'] - test_metadata_kaggle['flux_mean']\\ntest_metadata_kaggle['flux_std_divided_by_skew'] = test_metadata_kaggle['flux_std'] / test_metadata_kaggle['flux_skew']\""
      ]
     },
     "execution_count": 22,
     "metadata": {},
     "output_type": "execute_result"
    }
   ],
   "source": [
    "\"\"\"#train\n",
    "train_metadata_kaggle['flux_diff_btw_mean_and_min'] = train_metadata_kaggle['flux_mean'] - train_metadata_kaggle['flux_min']\n",
    "train_metadata_kaggle['flux_diff_btw_mean_and_max'] = train_metadata_kaggle['flux_max'] - train_metadata_kaggle['flux_mean']\n",
    "train_metadata_kaggle['flux_std_divided_by_skew'] = train_metadata_kaggle['flux_std'] / train_metadata_kaggle['flux_skew']\n",
    "\n",
    "#test\n",
    "test_metadata_kaggle['flux_diff_btw_mean_and_min'] = test_metadata_kaggle['flux_mean'] - test_metadata_kaggle['flux_min']\n",
    "test_metadata_kaggle['flux_diff_btw_mean_and_max'] = test_metadata_kaggle['flux_max'] - test_metadata_kaggle['flux_mean']\n",
    "test_metadata_kaggle['flux_std_divided_by_skew'] = test_metadata_kaggle['flux_std'] / test_metadata_kaggle['flux_skew']\"\"\""
   ]
  },
  {
   "cell_type": "markdown",
   "metadata": {},
   "source": [
    "# Starting from here"
   ]
  },
  {
   "cell_type": "code",
   "execution_count": 23,
   "metadata": {},
   "outputs": [],
   "source": [
    "import tensorflow as tf\n",
    "from sklearn.metrics import roc_auc_score"
   ]
  },
  {
   "cell_type": "code",
   "execution_count": 24,
   "metadata": {},
   "outputs": [],
   "source": [
    "temp = train_metadata_kaggle.copy()"
   ]
  },
  {
   "cell_type": "code",
   "execution_count": 25,
   "metadata": {},
   "outputs": [],
   "source": [
    "y = temp['target']"
   ]
  },
  {
   "cell_type": "code",
   "execution_count": 26,
   "metadata": {},
   "outputs": [],
   "source": [
    "del temp['target']"
   ]
  },
  {
   "cell_type": "code",
   "execution_count": 27,
   "metadata": {},
   "outputs": [
    {
     "name": "stdout",
     "output_type": "stream",
     "text": [
      "(7848, 63)\n"
     ]
    }
   ],
   "source": [
    "print(temp.shape)"
   ]
  },
  {
   "cell_type": "code",
   "execution_count": 28,
   "metadata": {},
   "outputs": [
    {
     "data": {
      "text/html": [
       "<div>\n",
       "<style scoped>\n",
       "    .dataframe tbody tr th:only-of-type {\n",
       "        vertical-align: middle;\n",
       "    }\n",
       "\n",
       "    .dataframe tbody tr th {\n",
       "        vertical-align: top;\n",
       "    }\n",
       "\n",
       "    .dataframe thead th {\n",
       "        text-align: right;\n",
       "    }\n",
       "</style>\n",
       "<table border=\"1\" class=\"dataframe\">\n",
       "  <thead>\n",
       "    <tr style=\"text-align: right;\">\n",
       "      <th></th>\n",
       "      <th>object_id</th>\n",
       "      <th>flux_min</th>\n",
       "      <th>flux_max</th>\n",
       "      <th>flux_mean</th>\n",
       "      <th>flux_median</th>\n",
       "      <th>flux_std</th>\n",
       "      <th>flux_skew</th>\n",
       "      <th>flux_err_min</th>\n",
       "      <th>flux_err_max</th>\n",
       "      <th>flux_err_mean</th>\n",
       "      <th>flux_err_median</th>\n",
       "      <th>flux_err_std</th>\n",
       "      <th>flux_err_skew</th>\n",
       "      <th>detected_mean</th>\n",
       "      <th>flux_ratio_sq_sum</th>\n",
       "      <th>flux_ratio_sq_skew</th>\n",
       "      <th>flux_by_flux_ratio_sq_sum</th>\n",
       "      <th>flux_by_flux_ratio_sq_skew</th>\n",
       "      <th>flux_w_mean</th>\n",
       "      <th>flux_diff1</th>\n",
       "      <th>flux_diff2</th>\n",
       "      <th>flux_diff3</th>\n",
       "      <th>0__fft_coefficient__coeff_0__attr_\"abs\"</th>\n",
       "      <th>0__fft_coefficient__coeff_1__attr_\"abs\"</th>\n",
       "      <th>0__kurtosis</th>\n",
       "      <th>0__skewness</th>\n",
       "      <th>1__fft_coefficient__coeff_0__attr_\"abs\"</th>\n",
       "      <th>1__fft_coefficient__coeff_1__attr_\"abs\"</th>\n",
       "      <th>1__kurtosis</th>\n",
       "      <th>1__skewness</th>\n",
       "      <th>2__fft_coefficient__coeff_0__attr_\"abs\"</th>\n",
       "      <th>2__fft_coefficient__coeff_1__attr_\"abs\"</th>\n",
       "      <th>2__kurtosis</th>\n",
       "      <th>2__skewness</th>\n",
       "      <th>3__fft_coefficient__coeff_0__attr_\"abs\"</th>\n",
       "      <th>3__fft_coefficient__coeff_1__attr_\"abs\"</th>\n",
       "      <th>3__kurtosis</th>\n",
       "      <th>3__skewness</th>\n",
       "      <th>4__fft_coefficient__coeff_0__attr_\"abs\"</th>\n",
       "      <th>4__fft_coefficient__coeff_1__attr_\"abs\"</th>\n",
       "      <th>4__kurtosis</th>\n",
       "      <th>4__skewness</th>\n",
       "      <th>5__fft_coefficient__coeff_0__attr_\"abs\"</th>\n",
       "      <th>5__fft_coefficient__coeff_1__attr_\"abs\"</th>\n",
       "      <th>5__kurtosis</th>\n",
       "      <th>5__skewness</th>\n",
       "      <th>flux__length</th>\n",
       "      <th>flux__longest_strike_above_mean</th>\n",
       "      <th>flux__longest_strike_below_mean</th>\n",
       "      <th>flux__mean_abs_change</th>\n",
       "      <th>flux__mean_change</th>\n",
       "      <th>flux_by_flux_ratio_sq__longest_strike_above_mean</th>\n",
       "      <th>flux_by_flux_ratio_sq__longest_strike_below_mean</th>\n",
       "      <th>mjd__mean_abs_change</th>\n",
       "      <th>mjd__mean_change</th>\n",
       "      <th>mjd_diff_det</th>\n",
       "      <th>hostgal_photoz</th>\n",
       "      <th>hostgal_photoz_err</th>\n",
       "      <th>distmod</th>\n",
       "      <th>mwebv</th>\n",
       "      <th>haversine</th>\n",
       "      <th>latlon1</th>\n",
       "      <th>hostgal_photoz_certain</th>\n",
       "    </tr>\n",
       "  </thead>\n",
       "  <tbody>\n",
       "    <tr>\n",
       "      <th>0</th>\n",
       "      <td>615</td>\n",
       "      <td>-1100.440063</td>\n",
       "      <td>660.626343</td>\n",
       "      <td>-123.096998</td>\n",
       "      <td>-89.477524</td>\n",
       "      <td>394.109851</td>\n",
       "      <td>-0.349540</td>\n",
       "      <td>2.130510</td>\n",
       "      <td>12.845472</td>\n",
       "      <td>4.482743</td>\n",
       "      <td>3.835268</td>\n",
       "      <td>1.744747</td>\n",
       "      <td>1.623740</td>\n",
       "      <td>0.946023</td>\n",
       "      <td>2.929669e+06</td>\n",
       "      <td>0.812722</td>\n",
       "      <td>-9.601766e+08</td>\n",
       "      <td>-1.414322</td>\n",
       "      <td>-327.742307</td>\n",
       "      <td>1761.066406</td>\n",
       "      <td>-14.306331</td>\n",
       "      <td>-5.373326</td>\n",
       "      <td>205.036926</td>\n",
       "      <td>1628.427737</td>\n",
       "      <td>-1.475181</td>\n",
       "      <td>0.128917</td>\n",
       "      <td>22370.594834</td>\n",
       "      <td>2806.374162</td>\n",
       "      <td>-1.255123</td>\n",
       "      <td>0.415580</td>\n",
       "      <td>7780.500807</td>\n",
       "      <td>2805.598113</td>\n",
       "      <td>-1.409885</td>\n",
       "      <td>0.339918</td>\n",
       "      <td>7024.003068</td>\n",
       "      <td>2536.068846</td>\n",
       "      <td>-1.449858</td>\n",
       "      <td>0.293128</td>\n",
       "      <td>3245.366349</td>\n",
       "      <td>2741.539785</td>\n",
       "      <td>-1.548319</td>\n",
       "      <td>0.200096</td>\n",
       "      <td>2704.641265</td>\n",
       "      <td>2893.344217</td>\n",
       "      <td>-1.592820</td>\n",
       "      <td>0.125268</td>\n",
       "      <td>352.0</td>\n",
       "      <td>19.0</td>\n",
       "      <td>29.0</td>\n",
       "      <td>202.114067</td>\n",
       "      <td>1.999688</td>\n",
       "      <td>35.0</td>\n",
       "      <td>4.0</td>\n",
       "      <td>2.631898</td>\n",
       "      <td>2.631898</td>\n",
       "      <td>873.7903</td>\n",
       "      <td>0.0000</td>\n",
       "      <td>0.0000</td>\n",
       "      <td>NaN</td>\n",
       "      <td>0.017</td>\n",
       "      <td>0.319006</td>\n",
       "      <td>-1.528827</td>\n",
       "      <td>0.000000</td>\n",
       "    </tr>\n",
       "    <tr>\n",
       "      <th>1</th>\n",
       "      <td>713</td>\n",
       "      <td>-14.735178</td>\n",
       "      <td>14.770886</td>\n",
       "      <td>-1.423351</td>\n",
       "      <td>-0.873033</td>\n",
       "      <td>6.471144</td>\n",
       "      <td>0.014989</td>\n",
       "      <td>0.639458</td>\n",
       "      <td>9.115748</td>\n",
       "      <td>2.359620</td>\n",
       "      <td>1.998217</td>\n",
       "      <td>1.509888</td>\n",
       "      <td>1.633246</td>\n",
       "      <td>0.171429</td>\n",
       "      <td>5.886068e+03</td>\n",
       "      <td>3.439423</td>\n",
       "      <td>-2.875087e+04</td>\n",
       "      <td>-3.454554</td>\n",
       "      <td>-4.884564</td>\n",
       "      <td>29.506064</td>\n",
       "      <td>-20.730002</td>\n",
       "      <td>-6.040676</td>\n",
       "      <td>190.427851</td>\n",
       "      <td>299.586559</td>\n",
       "      <td>-1.014003</td>\n",
       "      <td>0.260052</td>\n",
       "      <td>57.109047</td>\n",
       "      <td>192.539229</td>\n",
       "      <td>-1.097170</td>\n",
       "      <td>-0.087865</td>\n",
       "      <td>44.477327</td>\n",
       "      <td>191.057528</td>\n",
       "      <td>-1.188472</td>\n",
       "      <td>-0.022678</td>\n",
       "      <td>55.270113</td>\n",
       "      <td>212.522263</td>\n",
       "      <td>-1.142896</td>\n",
       "      <td>-0.167176</td>\n",
       "      <td>50.414646</td>\n",
       "      <td>203.892482</td>\n",
       "      <td>-1.190245</td>\n",
       "      <td>-0.064134</td>\n",
       "      <td>100.473776</td>\n",
       "      <td>143.963093</td>\n",
       "      <td>-0.797047</td>\n",
       "      <td>0.218182</td>\n",
       "      <td>350.0</td>\n",
       "      <td>50.0</td>\n",
       "      <td>73.0</td>\n",
       "      <td>2.935177</td>\n",
       "      <td>-0.050944</td>\n",
       "      <td>199.0</td>\n",
       "      <td>8.0</td>\n",
       "      <td>14.352571</td>\n",
       "      <td>14.352571</td>\n",
       "      <td>846.8017</td>\n",
       "      <td>1.6267</td>\n",
       "      <td>0.2552</td>\n",
       "      <td>45.4063</td>\n",
       "      <td>0.007</td>\n",
       "      <td>1.698939</td>\n",
       "      <td>3.258921</td>\n",
       "      <td>2.099614</td>\n",
       "    </tr>\n",
       "    <tr>\n",
       "      <th>2</th>\n",
       "      <td>730</td>\n",
       "      <td>-19.159811</td>\n",
       "      <td>47.310059</td>\n",
       "      <td>2.267434</td>\n",
       "      <td>0.409172</td>\n",
       "      <td>8.022239</td>\n",
       "      <td>3.177854</td>\n",
       "      <td>0.695106</td>\n",
       "      <td>11.281384</td>\n",
       "      <td>2.471061</td>\n",
       "      <td>1.990851</td>\n",
       "      <td>1.721134</td>\n",
       "      <td>1.823726</td>\n",
       "      <td>0.069697</td>\n",
       "      <td>4.124452e+03</td>\n",
       "      <td>5.480405</td>\n",
       "      <td>1.046502e+05</td>\n",
       "      <td>5.989138</td>\n",
       "      <td>25.373110</td>\n",
       "      <td>66.469870</td>\n",
       "      <td>29.315018</td>\n",
       "      <td>2.619697</td>\n",
       "      <td>3.461790</td>\n",
       "      <td>4.729538</td>\n",
       "      <td>0.474215</td>\n",
       "      <td>0.356910</td>\n",
       "      <td>7.334944</td>\n",
       "      <td>13.515895</td>\n",
       "      <td>0.976374</td>\n",
       "      <td>0.471342</td>\n",
       "      <td>124.845250</td>\n",
       "      <td>119.500254</td>\n",
       "      <td>5.131290</td>\n",
       "      <td>2.385066</td>\n",
       "      <td>168.280524</td>\n",
       "      <td>162.799417</td>\n",
       "      <td>7.125665</td>\n",
       "      <td>2.662075</td>\n",
       "      <td>219.745132</td>\n",
       "      <td>202.532898</td>\n",
       "      <td>6.081065</td>\n",
       "      <td>2.537802</td>\n",
       "      <td>231.509177</td>\n",
       "      <td>199.286370</td>\n",
       "      <td>3.583130</td>\n",
       "      <td>1.680352</td>\n",
       "      <td>330.0</td>\n",
       "      <td>13.0</td>\n",
       "      <td>32.0</td>\n",
       "      <td>4.227614</td>\n",
       "      <td>-0.008131</td>\n",
       "      <td>4.0</td>\n",
       "      <td>222.0</td>\n",
       "      <td>3.580623</td>\n",
       "      <td>3.580623</td>\n",
       "      <td>78.7737</td>\n",
       "      <td>0.2262</td>\n",
       "      <td>0.0157</td>\n",
       "      <td>40.2561</td>\n",
       "      <td>0.021</td>\n",
       "      <td>1.818030</td>\n",
       "      <td>3.128522</td>\n",
       "      <td>0.229779</td>\n",
       "    </tr>\n",
       "    <tr>\n",
       "      <th>3</th>\n",
       "      <td>745</td>\n",
       "      <td>-15.494463</td>\n",
       "      <td>220.795212</td>\n",
       "      <td>8.909206</td>\n",
       "      <td>1.035895</td>\n",
       "      <td>27.558208</td>\n",
       "      <td>4.979826</td>\n",
       "      <td>0.567170</td>\n",
       "      <td>55.892746</td>\n",
       "      <td>2.555576</td>\n",
       "      <td>1.819875</td>\n",
       "      <td>3.537324</td>\n",
       "      <td>10.741655</td>\n",
       "      <td>0.173789</td>\n",
       "      <td>9.416165e+04</td>\n",
       "      <td>9.611274</td>\n",
       "      <td>1.439125e+07</td>\n",
       "      <td>11.141069</td>\n",
       "      <td>152.835617</td>\n",
       "      <td>236.289675</td>\n",
       "      <td>26.521968</td>\n",
       "      <td>1.546038</td>\n",
       "      <td>129.421659</td>\n",
       "      <td>123.298327</td>\n",
       "      <td>4.629801</td>\n",
       "      <td>2.023211</td>\n",
       "      <td>320.174052</td>\n",
       "      <td>280.440312</td>\n",
       "      <td>50.868880</td>\n",
       "      <td>7.007099</td>\n",
       "      <td>543.845781</td>\n",
       "      <td>491.548270</td>\n",
       "      <td>36.088137</td>\n",
       "      <td>5.688194</td>\n",
       "      <td>807.123762</td>\n",
       "      <td>710.721942</td>\n",
       "      <td>16.392533</td>\n",
       "      <td>3.751603</td>\n",
       "      <td>735.528417</td>\n",
       "      <td>680.055280</td>\n",
       "      <td>13.747434</td>\n",
       "      <td>3.476420</td>\n",
       "      <td>591.037583</td>\n",
       "      <td>523.503586</td>\n",
       "      <td>12.134629</td>\n",
       "      <td>3.170857</td>\n",
       "      <td>351.0</td>\n",
       "      <td>19.0</td>\n",
       "      <td>115.0</td>\n",
       "      <td>7.065548</td>\n",
       "      <td>0.008044</td>\n",
       "      <td>4.0</td>\n",
       "      <td>201.0</td>\n",
       "      <td>2.061453</td>\n",
       "      <td>2.061453</td>\n",
       "      <td>123.6872</td>\n",
       "      <td>0.2813</td>\n",
       "      <td>1.1523</td>\n",
       "      <td>40.7951</td>\n",
       "      <td>0.007</td>\n",
       "      <td>0.495223</td>\n",
       "      <td>6.893743</td>\n",
       "      <td>0.890445</td>\n",
       "    </tr>\n",
       "    <tr>\n",
       "      <th>4</th>\n",
       "      <td>1124</td>\n",
       "      <td>-16.543753</td>\n",
       "      <td>143.600189</td>\n",
       "      <td>7.145702</td>\n",
       "      <td>1.141288</td>\n",
       "      <td>20.051722</td>\n",
       "      <td>4.406298</td>\n",
       "      <td>0.695277</td>\n",
       "      <td>11.383690</td>\n",
       "      <td>2.753004</td>\n",
       "      <td>2.214854</td>\n",
       "      <td>1.933837</td>\n",
       "      <td>1.794938</td>\n",
       "      <td>0.173295</td>\n",
       "      <td>3.432418e+04</td>\n",
       "      <td>7.868462</td>\n",
       "      <td>3.015599e+06</td>\n",
       "      <td>7.908174</td>\n",
       "      <td>87.856390</td>\n",
       "      <td>160.143942</td>\n",
       "      <td>22.411225</td>\n",
       "      <td>1.822792</td>\n",
       "      <td>41.639721</td>\n",
       "      <td>32.987125</td>\n",
       "      <td>0.822496</td>\n",
       "      <td>-0.332169</td>\n",
       "      <td>268.808929</td>\n",
       "      <td>207.812015</td>\n",
       "      <td>6.112295</td>\n",
       "      <td>2.377222</td>\n",
       "      <td>594.150153</td>\n",
       "      <td>498.509820</td>\n",
       "      <td>10.343254</td>\n",
       "      <td>3.075437</td>\n",
       "      <td>643.020183</td>\n",
       "      <td>555.512641</td>\n",
       "      <td>14.095862</td>\n",
       "      <td>3.603208</td>\n",
       "      <td>574.553907</td>\n",
       "      <td>524.107264</td>\n",
       "      <td>16.377058</td>\n",
       "      <td>3.904008</td>\n",
       "      <td>393.114268</td>\n",
       "      <td>357.907185</td>\n",
       "      <td>14.434470</td>\n",
       "      <td>3.657305</td>\n",
       "      <td>352.0</td>\n",
       "      <td>19.0</td>\n",
       "      <td>158.0</td>\n",
       "      <td>6.727352</td>\n",
       "      <td>0.012543</td>\n",
       "      <td>10.0</td>\n",
       "      <td>231.0</td>\n",
       "      <td>2.231855</td>\n",
       "      <td>2.231855</td>\n",
       "      <td>133.9113</td>\n",
       "      <td>0.2415</td>\n",
       "      <td>0.0176</td>\n",
       "      <td>40.4166</td>\n",
       "      <td>0.024</td>\n",
       "      <td>0.395162</td>\n",
       "      <td>-1.928064</td>\n",
       "      <td>0.245788</td>\n",
       "    </tr>\n",
       "  </tbody>\n",
       "</table>\n",
       "</div>"
      ],
      "text/plain": [
       "   object_id     flux_min    flux_max   flux_mean  flux_median    flux_std  \\\n",
       "0        615 -1100.440063  660.626343 -123.096998   -89.477524  394.109851   \n",
       "1        713   -14.735178   14.770886   -1.423351    -0.873033    6.471144   \n",
       "2        730   -19.159811   47.310059    2.267434     0.409172    8.022239   \n",
       "3        745   -15.494463  220.795212    8.909206     1.035895   27.558208   \n",
       "4       1124   -16.543753  143.600189    7.145702     1.141288   20.051722   \n",
       "\n",
       "   flux_skew  flux_err_min  flux_err_max  flux_err_mean  flux_err_median  \\\n",
       "0  -0.349540      2.130510     12.845472       4.482743         3.835268   \n",
       "1   0.014989      0.639458      9.115748       2.359620         1.998217   \n",
       "2   3.177854      0.695106     11.281384       2.471061         1.990851   \n",
       "3   4.979826      0.567170     55.892746       2.555576         1.819875   \n",
       "4   4.406298      0.695277     11.383690       2.753004         2.214854   \n",
       "\n",
       "   flux_err_std  flux_err_skew  detected_mean  flux_ratio_sq_sum  \\\n",
       "0      1.744747       1.623740       0.946023       2.929669e+06   \n",
       "1      1.509888       1.633246       0.171429       5.886068e+03   \n",
       "2      1.721134       1.823726       0.069697       4.124452e+03   \n",
       "3      3.537324      10.741655       0.173789       9.416165e+04   \n",
       "4      1.933837       1.794938       0.173295       3.432418e+04   \n",
       "\n",
       "   flux_ratio_sq_skew  flux_by_flux_ratio_sq_sum  flux_by_flux_ratio_sq_skew  \\\n",
       "0            0.812722              -9.601766e+08                   -1.414322   \n",
       "1            3.439423              -2.875087e+04                   -3.454554   \n",
       "2            5.480405               1.046502e+05                    5.989138   \n",
       "3            9.611274               1.439125e+07                   11.141069   \n",
       "4            7.868462               3.015599e+06                    7.908174   \n",
       "\n",
       "   flux_w_mean   flux_diff1  flux_diff2  flux_diff3  \\\n",
       "0  -327.742307  1761.066406  -14.306331   -5.373326   \n",
       "1    -4.884564    29.506064  -20.730002   -6.040676   \n",
       "2    25.373110    66.469870   29.315018    2.619697   \n",
       "3   152.835617   236.289675   26.521968    1.546038   \n",
       "4    87.856390   160.143942   22.411225    1.822792   \n",
       "\n",
       "   0__fft_coefficient__coeff_0__attr_\"abs\"  \\\n",
       "0                               205.036926   \n",
       "1                               190.427851   \n",
       "2                                 3.461790   \n",
       "3                               129.421659   \n",
       "4                                41.639721   \n",
       "\n",
       "   0__fft_coefficient__coeff_1__attr_\"abs\"  0__kurtosis  0__skewness  \\\n",
       "0                              1628.427737    -1.475181     0.128917   \n",
       "1                               299.586559    -1.014003     0.260052   \n",
       "2                                 4.729538     0.474215     0.356910   \n",
       "3                               123.298327     4.629801     2.023211   \n",
       "4                                32.987125     0.822496    -0.332169   \n",
       "\n",
       "   1__fft_coefficient__coeff_0__attr_\"abs\"  \\\n",
       "0                             22370.594834   \n",
       "1                                57.109047   \n",
       "2                                 7.334944   \n",
       "3                               320.174052   \n",
       "4                               268.808929   \n",
       "\n",
       "   1__fft_coefficient__coeff_1__attr_\"abs\"  1__kurtosis  1__skewness  \\\n",
       "0                              2806.374162    -1.255123     0.415580   \n",
       "1                               192.539229    -1.097170    -0.087865   \n",
       "2                                13.515895     0.976374     0.471342   \n",
       "3                               280.440312    50.868880     7.007099   \n",
       "4                               207.812015     6.112295     2.377222   \n",
       "\n",
       "   2__fft_coefficient__coeff_0__attr_\"abs\"  \\\n",
       "0                              7780.500807   \n",
       "1                                44.477327   \n",
       "2                               124.845250   \n",
       "3                               543.845781   \n",
       "4                               594.150153   \n",
       "\n",
       "   2__fft_coefficient__coeff_1__attr_\"abs\"  2__kurtosis  2__skewness  \\\n",
       "0                              2805.598113    -1.409885     0.339918   \n",
       "1                               191.057528    -1.188472    -0.022678   \n",
       "2                               119.500254     5.131290     2.385066   \n",
       "3                               491.548270    36.088137     5.688194   \n",
       "4                               498.509820    10.343254     3.075437   \n",
       "\n",
       "   3__fft_coefficient__coeff_0__attr_\"abs\"  \\\n",
       "0                              7024.003068   \n",
       "1                                55.270113   \n",
       "2                               168.280524   \n",
       "3                               807.123762   \n",
       "4                               643.020183   \n",
       "\n",
       "   3__fft_coefficient__coeff_1__attr_\"abs\"  3__kurtosis  3__skewness  \\\n",
       "0                              2536.068846    -1.449858     0.293128   \n",
       "1                               212.522263    -1.142896    -0.167176   \n",
       "2                               162.799417     7.125665     2.662075   \n",
       "3                               710.721942    16.392533     3.751603   \n",
       "4                               555.512641    14.095862     3.603208   \n",
       "\n",
       "   4__fft_coefficient__coeff_0__attr_\"abs\"  \\\n",
       "0                              3245.366349   \n",
       "1                                50.414646   \n",
       "2                               219.745132   \n",
       "3                               735.528417   \n",
       "4                               574.553907   \n",
       "\n",
       "   4__fft_coefficient__coeff_1__attr_\"abs\"  4__kurtosis  4__skewness  \\\n",
       "0                              2741.539785    -1.548319     0.200096   \n",
       "1                               203.892482    -1.190245    -0.064134   \n",
       "2                               202.532898     6.081065     2.537802   \n",
       "3                               680.055280    13.747434     3.476420   \n",
       "4                               524.107264    16.377058     3.904008   \n",
       "\n",
       "   5__fft_coefficient__coeff_0__attr_\"abs\"  \\\n",
       "0                              2704.641265   \n",
       "1                               100.473776   \n",
       "2                               231.509177   \n",
       "3                               591.037583   \n",
       "4                               393.114268   \n",
       "\n",
       "   5__fft_coefficient__coeff_1__attr_\"abs\"  5__kurtosis  5__skewness  \\\n",
       "0                              2893.344217    -1.592820     0.125268   \n",
       "1                               143.963093    -0.797047     0.218182   \n",
       "2                               199.286370     3.583130     1.680352   \n",
       "3                               523.503586    12.134629     3.170857   \n",
       "4                               357.907185    14.434470     3.657305   \n",
       "\n",
       "   flux__length  flux__longest_strike_above_mean  \\\n",
       "0         352.0                             19.0   \n",
       "1         350.0                             50.0   \n",
       "2         330.0                             13.0   \n",
       "3         351.0                             19.0   \n",
       "4         352.0                             19.0   \n",
       "\n",
       "   flux__longest_strike_below_mean  flux__mean_abs_change  flux__mean_change  \\\n",
       "0                             29.0             202.114067           1.999688   \n",
       "1                             73.0               2.935177          -0.050944   \n",
       "2                             32.0               4.227614          -0.008131   \n",
       "3                            115.0               7.065548           0.008044   \n",
       "4                            158.0               6.727352           0.012543   \n",
       "\n",
       "   flux_by_flux_ratio_sq__longest_strike_above_mean  \\\n",
       "0                                              35.0   \n",
       "1                                             199.0   \n",
       "2                                               4.0   \n",
       "3                                               4.0   \n",
       "4                                              10.0   \n",
       "\n",
       "   flux_by_flux_ratio_sq__longest_strike_below_mean  mjd__mean_abs_change  \\\n",
       "0                                               4.0              2.631898   \n",
       "1                                               8.0             14.352571   \n",
       "2                                             222.0              3.580623   \n",
       "3                                             201.0              2.061453   \n",
       "4                                             231.0              2.231855   \n",
       "\n",
       "   mjd__mean_change  mjd_diff_det  hostgal_photoz  hostgal_photoz_err  \\\n",
       "0          2.631898      873.7903          0.0000              0.0000   \n",
       "1         14.352571      846.8017          1.6267              0.2552   \n",
       "2          3.580623       78.7737          0.2262              0.0157   \n",
       "3          2.061453      123.6872          0.2813              1.1523   \n",
       "4          2.231855      133.9113          0.2415              0.0176   \n",
       "\n",
       "   distmod  mwebv  haversine   latlon1  hostgal_photoz_certain  \n",
       "0      NaN  0.017   0.319006 -1.528827                0.000000  \n",
       "1  45.4063  0.007   1.698939  3.258921                2.099614  \n",
       "2  40.2561  0.021   1.818030  3.128522                0.229779  \n",
       "3  40.7951  0.007   0.495223  6.893743                0.890445  \n",
       "4  40.4166  0.024   0.395162 -1.928064                0.245788  "
      ]
     },
     "execution_count": 28,
     "metadata": {},
     "output_type": "execute_result"
    }
   ],
   "source": [
    "temp.head()"
   ]
  },
  {
   "cell_type": "markdown",
   "metadata": {},
   "source": [
    "# 9) Writing helpful functions"
   ]
  },
  {
   "cell_type": "code",
   "execution_count": 29,
   "metadata": {},
   "outputs": [
    {
     "name": "stdout",
     "output_type": "stream",
     "text": [
      "Unique classes :  [6, 15, 16, 42, 52, 53, 62, 64, 65, 67, 88, 90, 92, 95]\n"
     ]
    }
   ],
   "source": [
    "classes = sorted(y.unique())\n",
    "\n",
    "# Taken from Giba's topic : https://www.kaggle.com/titericz\n",
    "# https://www.kaggle.com/c/PLAsTiCC-2018/discussion/67194\n",
    "# with Kyle Boone's post https://www.kaggle.com/kyleboone\n",
    "class_weight = {\n",
    "    c: 1 for c in classes\n",
    "}\n",
    "for c in [64, 15]:\n",
    "    class_weight[c] = 2\n",
    "\n",
    "print('Unique classes : ', classes)\n",
    "\n",
    "train_id = temp['object_id']\n",
    "del temp['object_id']"
   ]
  },
  {
   "cell_type": "code",
   "execution_count": 30,
   "metadata": {},
   "outputs": [
    {
     "data": {
      "text/plain": [
       "'from sklearn import preprocessing\\nle = preprocessing.LabelEncoder()\\nle.fit(y)\\nprint(list(le.classes_))\\ny = pd.Series(le.transform(y))\\nprint(\"=\"*90)\\nprint(le.inverse_transform( y.head() ))'"
      ]
     },
     "execution_count": 30,
     "metadata": {},
     "output_type": "execute_result"
    }
   ],
   "source": [
    "\"\"\"from sklearn import preprocessing\n",
    "le = preprocessing.LabelEncoder()\n",
    "le.fit(y)\n",
    "print(list(le.classes_))\n",
    "y = pd.Series(le.transform(y))\n",
    "print(\"=\"*90)\n",
    "print(le.inverse_transform( y.head() ))\"\"\"\n",
    "#y = pd.get_dummies( y )"
   ]
  },
  {
   "cell_type": "code",
   "execution_count": 31,
   "metadata": {},
   "outputs": [],
   "source": [
    "folds = StratifiedKFold(n_splits=5, shuffle=True, random_state=51)"
   ]
  },
  {
   "cell_type": "code",
   "execution_count": 32,
   "metadata": {},
   "outputs": [],
   "source": [
    "ss = StandardScaler()\n",
    "full_train_ss = ss.fit_transform(temp)"
   ]
  },
  {
   "cell_type": "code",
   "execution_count": 42,
   "metadata": {},
   "outputs": [],
   "source": [
    "from keras.models import Sequential\n",
    "from keras.layers import Dense,BatchNormalization,Dropout\n",
    "from keras.callbacks import ReduceLROnPlateau,ModelCheckpoint\n",
    "from keras.utils import to_categorical\n",
    "from keras import backend as K\n",
    "import keras\n",
    "from keras import regularizers\n",
    "from collections import Counter\n",
    "from sklearn.metrics import confusion_matrix"
   ]
  },
  {
   "cell_type": "code",
   "execution_count": 43,
   "metadata": {},
   "outputs": [],
   "source": [
    "# https://www.kaggle.com/c/PLAsTiCC-2018/discussion/69795\n",
    "def mywloss(y_true,y_pred):  \n",
    "    yc=tf.clip_by_value(y_pred,1e-15,1-1e-15)\n",
    "    loss=-(tf.reduce_mean(tf.reduce_mean(y_true*tf.log(yc),axis=0)/wtable))\n",
    "    return loss"
   ]
  },
  {
   "cell_type": "code",
   "execution_count": 44,
   "metadata": {},
   "outputs": [],
   "source": [
    "def multi_weighted_logloss(y_ohe, y_p):\n",
    "    \"\"\"\n",
    "    @author olivier https://www.kaggle.com/ogrellier\n",
    "    multi logloss for PLAsTiCC challenge\n",
    "    \"\"\"\n",
    "    classes = [6, 15, 16, 42, 52, 53, 62, 64, 65, 67, 88, 90, 92, 95]\n",
    "    class_weight = {6: 1, 15: 2, 16: 1, 42: 1, 52: 1, 53: 1, 62: 1, 64: 2, 65: 1, 67: 1, 88: 1, 90: 1, 92: 1, 95: 1}\n",
    "    # Normalize rows and limit y_preds to 1e-15, 1-1e-15\n",
    "    y_p = np.clip(a=y_p, a_min=1e-15, a_max=1-1e-15)\n",
    "    # Transform to log\n",
    "    y_p_log = np.log(y_p)\n",
    "    # Get the log for ones, .values is used to drop the index of DataFrames\n",
    "    # Exclude class 99 for now, since there is no class99 in the training set \n",
    "    # we gave a special process for that class\n",
    "    y_log_ones = np.sum(y_ohe * y_p_log, axis=0)\n",
    "    # Get the number of positives for each class\n",
    "    nb_pos = y_ohe.sum(axis=0).astype(float)\n",
    "    # Weight average and divide by the number of positives\n",
    "    class_arr = np.array([class_weight[k] for k in sorted(class_weight.keys())])\n",
    "    y_w = y_log_ones * class_arr / nb_pos    \n",
    "    loss = - np.sum(y_w) / np.sum(class_arr)\n",
    "    return loss"
   ]
  },
  {
   "cell_type": "code",
   "execution_count": 45,
   "metadata": {},
   "outputs": [],
   "source": [
    "from keras.layers import PReLU, ReLU, Activation"
   ]
  },
  {
   "cell_type": "code",
   "execution_count": 46,
   "metadata": {},
   "outputs": [],
   "source": [
    "K.clear_session()\n",
    "def build_model(dropout_rate=0.25, activation='relu'):\n",
    "    start_neurons = 512\n",
    "    # create model\n",
    "    model = Sequential()\n",
    "    \n",
    "    model.add(Dense(start_neurons, input_dim=full_train_ss.shape[1], activation=None))\n",
    "    model.add(BatchNormalization())\n",
    "    model.add(Activation(activation))\n",
    "    model.add(Dropout(dropout_rate))\n",
    "    \n",
    "    model.add(Dense(start_neurons//2,activation=None))\n",
    "    model.add(BatchNormalization())\n",
    "    model.add(Activation(activation))\n",
    "    model.add(Dropout(dropout_rate))\n",
    "    \n",
    "    model.add(Dense(start_neurons//4,activation=None))\n",
    "    model.add(BatchNormalization())\n",
    "    model.add(Activation(activation))\n",
    "    model.add(Dropout(dropout_rate))\n",
    "    \n",
    "    model.add(Dense(start_neurons//8,activation=None))\n",
    "    model.add(BatchNormalization())\n",
    "    model.add(Activation(activation))\n",
    "    model.add(Dropout(dropout_rate/2))\n",
    "    \n",
    "    model.add(Dense(len(classes), activation='softmax'))\n",
    "    \n",
    "    return model"
   ]
  },
  {
   "cell_type": "code",
   "execution_count": 47,
   "metadata": {},
   "outputs": [],
   "source": [
    "unique_y = np.unique(y)\n",
    "class_map = dict()\n",
    "for i,val in enumerate(unique_y):\n",
    "    class_map[val] = i\n",
    "        \n",
    "y_map = np.zeros((y.shape[0],))\n",
    "y_map = np.array([class_map[val] for val in y])\n",
    "y_categorical = to_categorical(y_map)"
   ]
  },
  {
   "cell_type": "code",
   "execution_count": 48,
   "metadata": {},
   "outputs": [],
   "source": [
    "y_count = Counter(y_map)\n",
    "wtable = np.zeros((len(unique_y),))\n",
    "for i in range(len(unique_y)):\n",
    "    wtable[i] = y_count[i]/y_map.shape[0]"
   ]
  },
  {
   "cell_type": "code",
   "execution_count": 49,
   "metadata": {},
   "outputs": [],
   "source": [
    "def plot_loss_acc(history):\n",
    "    plt.plot(history.history['loss'][1:])\n",
    "    plt.plot(history.history['val_loss'][1:])\n",
    "    plt.title('model loss')\n",
    "    plt.ylabel('val_loss')\n",
    "    plt.xlabel('epoch')\n",
    "    plt.legend(['train','Validation'], loc='upper left')\n",
    "    plt.show()\n",
    "    \n",
    "    plt.plot(history.history['acc'][1:])\n",
    "    plt.plot(history.history['val_acc'][1:])\n",
    "    plt.title('model Accuracy')\n",
    "    plt.ylabel('val_acc')\n",
    "    plt.xlabel('epoch')\n",
    "    plt.legend(['train','Validation'], loc='upper left')\n",
    "    plt.show()"
   ]
  },
  {
   "cell_type": "code",
   "execution_count": 50,
   "metadata": {},
   "outputs": [
    {
     "data": {
      "image/png": "[encoded data removed]",
      "text/plain": [
       "<Figure size 432x288 with 1 Axes>"
      ]
     },
     "metadata": {
      "needs_background": "light"
     },
     "output_type": "display_data"
    },
    {
     "data": {
      "image/png": "[encoded data removed]",
      "text/plain": [
       "<Figure size 432x288 with 1 Axes>"
      ]
     },
     "metadata": {
      "needs_background": "light"
     },
     "output_type": "display_data"
    },
    {
     "name": "stdout",
     "output_type": "stream",
     "text": [
      "Loading Best Model\n"
     ]
    },
    {
     "ename": "ValueError",
     "evalue": "Dimension 0 in both shapes must be equal, but are 62 and 98. Shapes are [62,512] and [98,512]. for 'Assign' (op: 'Assign') with input shapes: [62,512], [98,512].",
     "output_type": "error",
     "traceback": [
      "\u001b[0;31m---------------------------------------------------------------------------\u001b[0m",
      "\u001b[0;31mInvalidArgumentError\u001b[0m                      Traceback (most recent call last)",
      "\u001b[0;32m~/.local/lib/python3.6/site-packages/tensorflow/python/framework/ops.py\u001b[0m in \u001b[0;36m_create_c_op\u001b[0;34m(graph, node_def, inputs, control_inputs)\u001b[0m\n\u001b[1;32m   1566\u001b[0m   \u001b[0;32mtry\u001b[0m\u001b[0;34m:\u001b[0m\u001b[0;34m\u001b[0m\u001b[0;34m\u001b[0m\u001b[0m\n\u001b[0;32m-> 1567\u001b[0;31m     \u001b[0mc_op\u001b[0m \u001b[0;34m=\u001b[0m \u001b[0mc_api\u001b[0m\u001b[0;34m.\u001b[0m\u001b[0mTF_FinishOperation\u001b[0m\u001b[0;34m(\u001b[0m\u001b[0mop_desc\u001b[0m\u001b[0;34m)\u001b[0m\u001b[0;34m\u001b[0m\u001b[0;34m\u001b[0m\u001b[0m\n\u001b[0m\u001b[1;32m   1568\u001b[0m   \u001b[0;32mexcept\u001b[0m \u001b[0merrors\u001b[0m\u001b[0;34m.\u001b[0m\u001b[0mInvalidArgumentError\u001b[0m \u001b[0;32mas\u001b[0m \u001b[0me\u001b[0m\u001b[0;34m:\u001b[0m\u001b[0;34m\u001b[0m\u001b[0;34m\u001b[0m\u001b[0m\n",
      "\u001b[0;31mInvalidArgumentError\u001b[0m: Dimension 0 in both shapes must be equal, but are 62 and 98. Shapes are [62,512] and [98,512]. for 'Assign' (op: 'Assign') with input shapes: [62,512], [98,512].",
      "\nDuring handling of the above exception, another exception occurred:\n",
      "\u001b[0;31mValueError\u001b[0m                                Traceback (most recent call last)",
      "\u001b[0;32m<timed exec>\u001b[0m in \u001b[0;36m<module>\u001b[0;34m\u001b[0m\n",
      "\u001b[0;32m~/.local/lib/python3.6/site-packages/keras/engine/network.py\u001b[0m in \u001b[0;36mload_weights\u001b[0;34m(self, filepath, by_name, skip_mismatch, reshape)\u001b[0m\n\u001b[1;32m   1164\u001b[0m             \u001b[0;32melse\u001b[0m\u001b[0;34m:\u001b[0m\u001b[0;34m\u001b[0m\u001b[0;34m\u001b[0m\u001b[0m\n\u001b[1;32m   1165\u001b[0m                 saving.load_weights_from_hdf5_group(\n\u001b[0;32m-> 1166\u001b[0;31m                     f, self.layers, reshape=reshape)\n\u001b[0m\u001b[1;32m   1167\u001b[0m \u001b[0;34m\u001b[0m\u001b[0m\n\u001b[1;32m   1168\u001b[0m     \u001b[0;32mdef\u001b[0m \u001b[0m_updated_config\u001b[0m\u001b[0;34m(\u001b[0m\u001b[0mself\u001b[0m\u001b[0;34m)\u001b[0m\u001b[0;34m:\u001b[0m\u001b[0;34m\u001b[0m\u001b[0;34m\u001b[0m\u001b[0m\n",
      "\u001b[0;32m~/.local/lib/python3.6/site-packages/keras/engine/saving.py\u001b[0m in \u001b[0;36mload_weights_from_hdf5_group\u001b[0;34m(f, layers, reshape)\u001b[0m\n\u001b[1;32m   1056\u001b[0m                              ' elements.')\n\u001b[1;32m   1057\u001b[0m         \u001b[0mweight_value_tuples\u001b[0m \u001b[0;34m+=\u001b[0m \u001b[0mzip\u001b[0m\u001b[0;34m(\u001b[0m\u001b[0msymbolic_weights\u001b[0m\u001b[0;34m,\u001b[0m \u001b[0mweight_values\u001b[0m\u001b[0;34m)\u001b[0m\u001b[0;34m\u001b[0m\u001b[0;34m\u001b[0m\u001b[0m\n\u001b[0;32m-> 1058\u001b[0;31m     \u001b[0mK\u001b[0m\u001b[0;34m.\u001b[0m\u001b[0mbatch_set_value\u001b[0m\u001b[0;34m(\u001b[0m\u001b[0mweight_value_tuples\u001b[0m\u001b[0;34m)\u001b[0m\u001b[0;34m\u001b[0m\u001b[0;34m\u001b[0m\u001b[0m\n\u001b[0m\u001b[1;32m   1059\u001b[0m \u001b[0;34m\u001b[0m\u001b[0m\n\u001b[1;32m   1060\u001b[0m \u001b[0;34m\u001b[0m\u001b[0m\n",
      "\u001b[0;32m~/.local/lib/python3.6/site-packages/keras/backend/tensorflow_backend.py\u001b[0m in \u001b[0;36mbatch_set_value\u001b[0;34m(tuples)\u001b[0m\n\u001b[1;32m   2463\u001b[0m                 assign_placeholder = tf.placeholder(tf_dtype,\n\u001b[1;32m   2464\u001b[0m                                                     shape=value.shape)\n\u001b[0;32m-> 2465\u001b[0;31m                 \u001b[0massign_op\u001b[0m \u001b[0;34m=\u001b[0m \u001b[0mx\u001b[0m\u001b[0;34m.\u001b[0m\u001b[0massign\u001b[0m\u001b[0;34m(\u001b[0m\u001b[0massign_placeholder\u001b[0m\u001b[0;34m)\u001b[0m\u001b[0;34m\u001b[0m\u001b[0;34m\u001b[0m\u001b[0m\n\u001b[0m\u001b[1;32m   2466\u001b[0m                 \u001b[0mx\u001b[0m\u001b[0;34m.\u001b[0m\u001b[0m_assign_placeholder\u001b[0m \u001b[0;34m=\u001b[0m \u001b[0massign_placeholder\u001b[0m\u001b[0;34m\u001b[0m\u001b[0;34m\u001b[0m\u001b[0m\n\u001b[1;32m   2467\u001b[0m                 \u001b[0mx\u001b[0m\u001b[0;34m.\u001b[0m\u001b[0m_assign_op\u001b[0m \u001b[0;34m=\u001b[0m \u001b[0massign_op\u001b[0m\u001b[0;34m\u001b[0m\u001b[0;34m\u001b[0m\u001b[0m\n",
      "\u001b[0;32m~/.local/lib/python3.6/site-packages/tensorflow/python/ops/variables.py\u001b[0m in \u001b[0;36massign\u001b[0;34m(self, value, use_locking)\u001b[0m\n\u001b[1;32m    613\u001b[0m       \u001b[0mthe\u001b[0m \u001b[0massignment\u001b[0m \u001b[0mhas\u001b[0m \u001b[0mcompleted\u001b[0m\u001b[0;34m.\u001b[0m\u001b[0;34m\u001b[0m\u001b[0;34m\u001b[0m\u001b[0m\n\u001b[1;32m    614\u001b[0m     \"\"\"\n\u001b[0;32m--> 615\u001b[0;31m     \u001b[0;32mreturn\u001b[0m \u001b[0mstate_ops\u001b[0m\u001b[0;34m.\u001b[0m\u001b[0massign\u001b[0m\u001b[0;34m(\u001b[0m\u001b[0mself\u001b[0m\u001b[0;34m.\u001b[0m\u001b[0m_variable\u001b[0m\u001b[0;34m,\u001b[0m \u001b[0mvalue\u001b[0m\u001b[0;34m,\u001b[0m \u001b[0muse_locking\u001b[0m\u001b[0;34m=\u001b[0m\u001b[0muse_locking\u001b[0m\u001b[0;34m)\u001b[0m\u001b[0;34m\u001b[0m\u001b[0;34m\u001b[0m\u001b[0m\n\u001b[0m\u001b[1;32m    616\u001b[0m \u001b[0;34m\u001b[0m\u001b[0m\n\u001b[1;32m    617\u001b[0m   \u001b[0;32mdef\u001b[0m \u001b[0massign_add\u001b[0m\u001b[0;34m(\u001b[0m\u001b[0mself\u001b[0m\u001b[0;34m,\u001b[0m \u001b[0mdelta\u001b[0m\u001b[0;34m,\u001b[0m \u001b[0muse_locking\u001b[0m\u001b[0;34m=\u001b[0m\u001b[0;32mFalse\u001b[0m\u001b[0;34m)\u001b[0m\u001b[0;34m:\u001b[0m\u001b[0;34m\u001b[0m\u001b[0;34m\u001b[0m\u001b[0m\n",
      "\u001b[0;32m~/.local/lib/python3.6/site-packages/tensorflow/python/ops/state_ops.py\u001b[0m in \u001b[0;36massign\u001b[0;34m(ref, value, validate_shape, use_locking, name)\u001b[0m\n\u001b[1;32m    281\u001b[0m     return gen_state_ops.assign(\n\u001b[1;32m    282\u001b[0m         \u001b[0mref\u001b[0m\u001b[0;34m,\u001b[0m \u001b[0mvalue\u001b[0m\u001b[0;34m,\u001b[0m \u001b[0muse_locking\u001b[0m\u001b[0;34m=\u001b[0m\u001b[0muse_locking\u001b[0m\u001b[0;34m,\u001b[0m \u001b[0mname\u001b[0m\u001b[0;34m=\u001b[0m\u001b[0mname\u001b[0m\u001b[0;34m,\u001b[0m\u001b[0;34m\u001b[0m\u001b[0;34m\u001b[0m\u001b[0m\n\u001b[0;32m--> 283\u001b[0;31m         validate_shape=validate_shape)\n\u001b[0m\u001b[1;32m    284\u001b[0m   \u001b[0;32mreturn\u001b[0m \u001b[0mref\u001b[0m\u001b[0;34m.\u001b[0m\u001b[0massign\u001b[0m\u001b[0;34m(\u001b[0m\u001b[0mvalue\u001b[0m\u001b[0;34m,\u001b[0m \u001b[0mname\u001b[0m\u001b[0;34m=\u001b[0m\u001b[0mname\u001b[0m\u001b[0;34m)\u001b[0m\u001b[0;34m\u001b[0m\u001b[0;34m\u001b[0m\u001b[0m\n\u001b[1;32m    285\u001b[0m \u001b[0;34m\u001b[0m\u001b[0m\n",
      "\u001b[0;32m~/.local/lib/python3.6/site-packages/tensorflow/python/ops/gen_state_ops.py\u001b[0m in \u001b[0;36massign\u001b[0;34m(ref, value, validate_shape, use_locking, name)\u001b[0m\n\u001b[1;32m     58\u001b[0m     _, _, _op = _op_def_lib._apply_op_helper(\n\u001b[1;32m     59\u001b[0m         \u001b[0;34m\"Assign\"\u001b[0m\u001b[0;34m,\u001b[0m \u001b[0mref\u001b[0m\u001b[0;34m=\u001b[0m\u001b[0mref\u001b[0m\u001b[0;34m,\u001b[0m \u001b[0mvalue\u001b[0m\u001b[0;34m=\u001b[0m\u001b[0mvalue\u001b[0m\u001b[0;34m,\u001b[0m \u001b[0mvalidate_shape\u001b[0m\u001b[0;34m=\u001b[0m\u001b[0mvalidate_shape\u001b[0m\u001b[0;34m,\u001b[0m\u001b[0;34m\u001b[0m\u001b[0;34m\u001b[0m\u001b[0m\n\u001b[0;32m---> 60\u001b[0;31m         use_locking=use_locking, name=name)\n\u001b[0m\u001b[1;32m     61\u001b[0m     \u001b[0m_result\u001b[0m \u001b[0;34m=\u001b[0m \u001b[0m_op\u001b[0m\u001b[0;34m.\u001b[0m\u001b[0moutputs\u001b[0m\u001b[0;34m[\u001b[0m\u001b[0;34m:\u001b[0m\u001b[0;34m]\u001b[0m\u001b[0;34m\u001b[0m\u001b[0;34m\u001b[0m\u001b[0m\n\u001b[1;32m     62\u001b[0m     \u001b[0m_inputs_flat\u001b[0m \u001b[0;34m=\u001b[0m \u001b[0m_op\u001b[0m\u001b[0;34m.\u001b[0m\u001b[0minputs\u001b[0m\u001b[0;34m\u001b[0m\u001b[0;34m\u001b[0m\u001b[0m\n",
      "\u001b[0;32m~/.local/lib/python3.6/site-packages/tensorflow/python/framework/op_def_library.py\u001b[0m in \u001b[0;36m_apply_op_helper\u001b[0;34m(self, op_type_name, name, **keywords)\u001b[0m\n\u001b[1;32m    785\u001b[0m         op = g.create_op(op_type_name, inputs, output_types, name=scope,\n\u001b[1;32m    786\u001b[0m                          \u001b[0minput_types\u001b[0m\u001b[0;34m=\u001b[0m\u001b[0minput_types\u001b[0m\u001b[0;34m,\u001b[0m \u001b[0mattrs\u001b[0m\u001b[0;34m=\u001b[0m\u001b[0mattr_protos\u001b[0m\u001b[0;34m,\u001b[0m\u001b[0;34m\u001b[0m\u001b[0;34m\u001b[0m\u001b[0m\n\u001b[0;32m--> 787\u001b[0;31m                          op_def=op_def)\n\u001b[0m\u001b[1;32m    788\u001b[0m       \u001b[0;32mreturn\u001b[0m \u001b[0moutput_structure\u001b[0m\u001b[0;34m,\u001b[0m \u001b[0mop_def\u001b[0m\u001b[0;34m.\u001b[0m\u001b[0mis_stateful\u001b[0m\u001b[0;34m,\u001b[0m \u001b[0mop\u001b[0m\u001b[0;34m\u001b[0m\u001b[0;34m\u001b[0m\u001b[0m\n\u001b[1;32m    789\u001b[0m \u001b[0;34m\u001b[0m\u001b[0m\n",
      "\u001b[0;32m~/.local/lib/python3.6/site-packages/tensorflow/python/framework/ops.py\u001b[0m in \u001b[0;36mcreate_op\u001b[0;34m(self, op_type, inputs, dtypes, input_types, name, attrs, op_def, compute_shapes, compute_device)\u001b[0m\n\u001b[1;32m   3390\u001b[0m           \u001b[0minput_types\u001b[0m\u001b[0;34m=\u001b[0m\u001b[0minput_types\u001b[0m\u001b[0;34m,\u001b[0m\u001b[0;34m\u001b[0m\u001b[0;34m\u001b[0m\u001b[0m\n\u001b[1;32m   3391\u001b[0m           \u001b[0moriginal_op\u001b[0m\u001b[0;34m=\u001b[0m\u001b[0mself\u001b[0m\u001b[0;34m.\u001b[0m\u001b[0m_default_original_op\u001b[0m\u001b[0;34m,\u001b[0m\u001b[0;34m\u001b[0m\u001b[0;34m\u001b[0m\u001b[0m\n\u001b[0;32m-> 3392\u001b[0;31m           op_def=op_def)\n\u001b[0m\u001b[1;32m   3393\u001b[0m \u001b[0;34m\u001b[0m\u001b[0m\n\u001b[1;32m   3394\u001b[0m       \u001b[0;31m# Note: shapes are lazily computed with the C API enabled.\u001b[0m\u001b[0;34m\u001b[0m\u001b[0;34m\u001b[0m\u001b[0;34m\u001b[0m\u001b[0m\n",
      "\u001b[0;32m~/.local/lib/python3.6/site-packages/tensorflow/python/framework/ops.py\u001b[0m in \u001b[0;36m__init__\u001b[0;34m(self, node_def, g, inputs, output_types, control_inputs, input_types, original_op, op_def)\u001b[0m\n\u001b[1;32m   1732\u001b[0m           op_def, inputs, node_def.attr)\n\u001b[1;32m   1733\u001b[0m       self._c_op = _create_c_op(self._graph, node_def, grouped_inputs,\n\u001b[0;32m-> 1734\u001b[0;31m                                 control_input_ops)\n\u001b[0m\u001b[1;32m   1735\u001b[0m     \u001b[0;32melse\u001b[0m\u001b[0;34m:\u001b[0m\u001b[0;34m\u001b[0m\u001b[0;34m\u001b[0m\u001b[0m\n\u001b[1;32m   1736\u001b[0m       \u001b[0mself\u001b[0m\u001b[0;34m.\u001b[0m\u001b[0m_c_op\u001b[0m \u001b[0;34m=\u001b[0m \u001b[0;32mNone\u001b[0m\u001b[0;34m\u001b[0m\u001b[0;34m\u001b[0m\u001b[0m\n",
      "\u001b[0;32m~/.local/lib/python3.6/site-packages/tensorflow/python/framework/ops.py\u001b[0m in \u001b[0;36m_create_c_op\u001b[0;34m(graph, node_def, inputs, control_inputs)\u001b[0m\n\u001b[1;32m   1568\u001b[0m   \u001b[0;32mexcept\u001b[0m \u001b[0merrors\u001b[0m\u001b[0;34m.\u001b[0m\u001b[0mInvalidArgumentError\u001b[0m \u001b[0;32mas\u001b[0m \u001b[0me\u001b[0m\u001b[0;34m:\u001b[0m\u001b[0;34m\u001b[0m\u001b[0;34m\u001b[0m\u001b[0m\n\u001b[1;32m   1569\u001b[0m     \u001b[0;31m# Convert to ValueError for backwards compatibility.\u001b[0m\u001b[0;34m\u001b[0m\u001b[0;34m\u001b[0m\u001b[0;34m\u001b[0m\u001b[0m\n\u001b[0;32m-> 1570\u001b[0;31m     \u001b[0;32mraise\u001b[0m \u001b[0mValueError\u001b[0m\u001b[0;34m(\u001b[0m\u001b[0mstr\u001b[0m\u001b[0;34m(\u001b[0m\u001b[0me\u001b[0m\u001b[0;34m)\u001b[0m\u001b[0;34m)\u001b[0m\u001b[0;34m\u001b[0m\u001b[0;34m\u001b[0m\u001b[0m\n\u001b[0m\u001b[1;32m   1571\u001b[0m \u001b[0;34m\u001b[0m\u001b[0m\n\u001b[1;32m   1572\u001b[0m   \u001b[0;32mreturn\u001b[0m \u001b[0mc_op\u001b[0m\u001b[0;34m\u001b[0m\u001b[0;34m\u001b[0m\u001b[0m\n",
      "\u001b[0;31mValueError\u001b[0m: Dimension 0 in both shapes must be equal, but are 62 and 98. Shapes are [62,512] and [98,512]. for 'Assign' (op: 'Assign') with input shapes: [62,512], [98,512]."
     ]
    }
   ],
   "source": [
    "%%time\n",
    "clfs = []\n",
    "oof_preds = np.zeros((len(full_train_ss), len(classes)))\n",
    "epochs = 200\n",
    "batch_size = 100\n",
    "for fold_, (trn_, val_) in enumerate(folds.split(y_map, y_map)):\n",
    "    checkPoint = ModelCheckpoint(\"./keras.model\",monitor='val_loss',mode = 'min', save_best_only=True, verbose=0)\n",
    "    x_train, y_train = full_train_ss[trn_], y_categorical[trn_]\n",
    "    x_valid, y_valid = full_train_ss[val_], y_categorical[val_]\n",
    "    K.clear_session()\n",
    "    model = build_model(dropout_rate=0.25, activation='tanh')    \n",
    "    model.compile(loss=mywloss, optimizer='adam', metrics=['accuracy'])\n",
    "    history = model.fit(x_train, y_train,\n",
    "                    validation_data=[x_valid, y_valid], \n",
    "                    epochs=epochs,\n",
    "                    batch_size=batch_size,shuffle=True,verbose=0,callbacks=[checkPoint])       \n",
    "    \n",
    "    plot_loss_acc(history)\n",
    "    \n",
    "    print('Loading Best Model')\n",
    "    model.load_weights('./keras.model')\n",
    "    # # Get predicted probabilities for each class\n",
    "    oof_preds[val_, :] = model.predict_proba(x_valid,batch_size=batch_size)\n",
    "    print(multi_weighted_logloss(y_valid, model.predict_proba(x_valid,batch_size=batch_size)))\n",
    "    clfs.append(model)\n",
    "    \n",
    "print('MULTI WEIGHTED LOG LOSS : %.5f ' % multi_weighted_logloss(y_categorical,oof_preds))"
   ]
  },
  {
   "cell_type": "code",
   "execution_count": 51,
   "metadata": {},
   "outputs": [],
   "source": [
    "# http://scikit-learn.org/stable/modules/generated/sklearn.metrics.confusion_matrix.html\n",
    "def plot_confusion_matrix(cm, classes,\n",
    "                          normalize=False,\n",
    "                          title='Confusion matrix',\n",
    "                          cmap=plt.cm.Blues):\n",
    "    \"\"\"\n",
    "    This function prints and plots the confusion matrix.\n",
    "    Normalization can be applied by setting `normalize=True`.\n",
    "    \"\"\"\n",
    "    if normalize:\n",
    "        cm = cm.astype('float') / cm.sum(axis=1)[:, np.newaxis]\n",
    "        print(\"Normalized confusion matrix\")\n",
    "    else:\n",
    "        print('Confusion matrix, without normalization')\n",
    "\n",
    "    print(cm)\n",
    "\n",
    "    plt.imshow(cm, interpolation='nearest', cmap=cmap)\n",
    "    plt.title(title)\n",
    "    plt.colorbar()\n",
    "    tick_marks = np.arange(len(classes))\n",
    "    plt.xticks(tick_marks, classes, rotation=45)\n",
    "    plt.yticks(tick_marks, classes)\n",
    "\n",
    "    fmt = '.2f' if normalize else 'd'\n",
    "    thresh = cm.max() / 2.\n",
    "    for i, j in itertools.product(range(cm.shape[0]), range(cm.shape[1])):\n",
    "        plt.text(j, i, format(cm[i, j], fmt),\n",
    "                 horizontalalignment=\"center\",\n",
    "                 color=\"white\" if cm[i, j] > thresh else \"black\")\n",
    "\n",
    "    plt.ylabel('True label')\n",
    "    plt.xlabel('Predicted label')\n",
    "    plt.tight_layout()"
   ]
  },
  {
   "cell_type": "code",
   "execution_count": 49,
   "metadata": {},
   "outputs": [],
   "source": [
    "# Compute confusion matrix\n",
    "cnf_matrix = confusion_matrix(y_map, np.argmax(oof_preds,axis=-1))\n",
    "np.set_printoptions(precision=2)"
   ]
  },
  {
   "cell_type": "code",
   "execution_count": 50,
   "metadata": {},
   "outputs": [
    {
     "data": {
      "text/plain": [
       "26398"
      ]
     },
     "execution_count": 50,
     "metadata": {},
     "output_type": "execute_result"
    }
   ],
   "source": [
    "sample_sub = pd.read_csv('sample_submission.csv')\n",
    "class_names = list(sample_sub.columns[1:-1])\n",
    "del sample_sub;gc.collect()"
   ]
  },
  {
   "cell_type": "code",
   "execution_count": 51,
   "metadata": {},
   "outputs": [
    {
     "name": "stdout",
     "output_type": "stream",
     "text": [
      "Normalized confusion matrix\n",
      "[[9.34e-01 0.00e+00 1.99e-02 0.00e+00 0.00e+00 1.99e-02 0.00e+00 0.00e+00\n",
      "  2.65e-02 0.00e+00 0.00e+00 0.00e+00 0.00e+00 0.00e+00]\n",
      " [0.00e+00 7.86e-01 0.00e+00 3.03e-02 3.84e-02 0.00e+00 1.62e-02 1.82e-02\n",
      "  0.00e+00 3.84e-02 2.02e-03 4.85e-02 0.00e+00 2.22e-02]\n",
      " [9.74e-03 0.00e+00 9.71e-01 0.00e+00 0.00e+00 0.00e+00 0.00e+00 0.00e+00\n",
      "  3.25e-03 0.00e+00 1.08e-03 0.00e+00 1.52e-02 0.00e+00]\n",
      " [0.00e+00 1.34e-01 0.00e+00 3.01e-01 1.88e-01 0.00e+00 6.54e-02 3.02e-02\n",
      "  0.00e+00 9.22e-02 8.38e-04 1.57e-01 0.00e+00 3.19e-02]\n",
      " [0.00e+00 7.65e-02 0.00e+00 5.46e-02 4.97e-01 0.00e+00 3.28e-02 5.46e-03\n",
      "  0.00e+00 1.26e-01 0.00e+00 2.08e-01 0.00e+00 0.00e+00]\n",
      " [0.00e+00 0.00e+00 0.00e+00 0.00e+00 0.00e+00 1.00e+00 0.00e+00 0.00e+00\n",
      "  0.00e+00 0.00e+00 0.00e+00 0.00e+00 0.00e+00 0.00e+00]\n",
      " [0.00e+00 5.99e-02 0.00e+00 1.34e-01 1.76e-01 0.00e+00 2.05e-01 5.79e-02\n",
      "  0.00e+00 2.62e-01 0.00e+00 9.50e-02 0.00e+00 1.03e-02]\n",
      " [0.00e+00 9.80e-03 0.00e+00 0.00e+00 9.80e-03 0.00e+00 1.96e-02 9.51e-01\n",
      "  0.00e+00 0.00e+00 0.00e+00 0.00e+00 0.00e+00 9.80e-03]\n",
      " [1.12e-02 0.00e+00 1.22e-02 0.00e+00 0.00e+00 0.00e+00 0.00e+00 0.00e+00\n",
      "  9.72e-01 0.00e+00 0.00e+00 0.00e+00 4.08e-03 0.00e+00]\n",
      " [0.00e+00 2.40e-02 0.00e+00 3.37e-02 6.25e-02 0.00e+00 4.81e-02 2.40e-02\n",
      "  0.00e+00 6.35e-01 0.00e+00 1.73e-01 0.00e+00 0.00e+00]\n",
      " [0.00e+00 2.70e-03 0.00e+00 0.00e+00 2.70e-03 0.00e+00 0.00e+00 0.00e+00\n",
      "  0.00e+00 0.00e+00 9.92e-01 2.70e-03 0.00e+00 0.00e+00]\n",
      " [0.00e+00 9.60e-02 0.00e+00 4.11e-02 1.56e-01 0.00e+00 1.30e-02 1.38e-02\n",
      "  0.00e+00 1.20e-01 4.32e-04 5.47e-01 0.00e+00 1.21e-02]\n",
      " [0.00e+00 0.00e+00 8.37e-03 0.00e+00 0.00e+00 0.00e+00 0.00e+00 0.00e+00\n",
      "  0.00e+00 0.00e+00 0.00e+00 0.00e+00 9.92e-01 0.00e+00]\n",
      " [0.00e+00 0.00e+00 0.00e+00 1.14e-02 0.00e+00 0.00e+00 0.00e+00 0.00e+00\n",
      "  0.00e+00 0.00e+00 5.71e-03 3.43e-02 0.00e+00 9.49e-01]]\n"
     ]
    },
    {
     "data": {
      "image/png": "[encoded data removed]",
      "text/plain": [
       "<Figure size 720x720 with 2 Axes>"
      ]
     },
     "metadata": {
      "needs_background": "light"
     },
     "output_type": "display_data"
    }
   ],
   "source": [
    "# Plot non-normalized confusion matrix\n",
    "plt.figure(figsize=(10,10))\n",
    "foo = plot_confusion_matrix(cnf_matrix, classes=class_names,normalize=True,\n",
    "                      title='Confusion matrix')"
   ]
  },
  {
   "cell_type": "code",
   "execution_count": 54,
   "metadata": {},
   "outputs": [
    {
     "data": {
      "text/plain": [
       "5"
      ]
     },
     "execution_count": 54,
     "metadata": {},
     "output_type": "execute_result"
    }
   ],
   "source": [
    "len(clfs)"
   ]
  },
  {
   "cell_type": "code",
   "execution_count": null,
   "metadata": {},
   "outputs": [],
   "source": [
    "\"\"\"# HyperParameters\n",
    "lr = 0.01\n",
    "training_epochs = 100\n",
    "batch_size = 32\n",
    "\n",
    "# Network Parameters\n",
    "n_hidden_1 = 1024 # number of neurons in 1st layer \n",
    "n_hidden_2 = 512 # number of neurons in 2nd layer \n",
    "n_input = 62 # 4 columns\n",
    "n_classes = 14 #Output classes\n",
    "steps = int(train_metadata_kaggle.shape[0]*0.8) # How many training data\n",
    "\n",
    "#Resetting the graph\n",
    "tf.reset_default_graph()\n",
    "\n",
    "#Defining Placeholders\n",
    "X = tf.placeholder(\"float\", [None, n_input])\n",
    "Y = tf.placeholder(\"float\", [None, n_classes])\n",
    "hold_prob1 = tf.placeholder(tf.float32)\n",
    "hold_prob2 = tf.placeholder(tf.float32)\n",
    "\n",
    "# Store layers weight & bias\n",
    "weights = {\n",
    "    'h1': tf.Variable(tf.truncated_normal([n_input, n_hidden_1],mean = 0.0,stddev=0.2)),\n",
    "    'h2': tf.Variable(tf.truncated_normal([n_hidden_1, n_hidden_2],mean = 0.0,stddev = 0.2)),\n",
    "    'out': tf.Variable(tf.truncated_normal([n_hidden_2, n_classes],mean = 0.0,stddev = 0.2))\n",
    "}\n",
    "biases = {\n",
    "    'b1': tf.Variable(tf.constant(0.1,shape = [n_hidden_1])),\n",
    "    'b2': tf.Variable(tf.constant(0.1,shape = [n_hidden_2])),\n",
    "    'out': tf.Variable(tf.constant(0.1,shape = [n_classes]))\n",
    "}\n",
    "\"\"\""
   ]
  },
  {
   "cell_type": "code",
   "execution_count": null,
   "metadata": {},
   "outputs": [],
   "source": [
    "\"\"\"# Create model\n",
    "def multilayer_perceptron(x):\n",
    "    # First Hidden Layer\n",
    "    layer_1 = tf.add(tf.matmul(x, weights['h1']), biases['b1'])\n",
    "    #Applying RELU nonlinearity\n",
    "    layer1_RELU = tf.nn.relu(layer_1)\n",
    "    #Applying Dropout\n",
    "    layer1_dropout = tf.nn.dropout(layer1_RELU,keep_prob=hold_prob1)\n",
    "    # Second hidden layer\n",
    "    layer_2 = tf.add(tf.matmul(layer1_dropout, weights['h2']), biases['b2'])\n",
    "    #Applying TANH nonlinearity\n",
    "    layer2_TANH = tf.nn.tanh(layer_2)\n",
    "    #Applying Dropout\n",
    "    layer2_dropout = tf.nn.dropout(layer2_TANH,keep_prob=hold_prob2)\n",
    "    # Output layer\n",
    "    out_layer = tf.matmul(layer2_dropout, weights['out']) + biases['out']\n",
    "    return out_layer\n",
    "\n",
    "# Building model\n",
    "logits = multilayer_perceptron(X)\"\"\""
   ]
  },
  {
   "cell_type": "code",
   "execution_count": null,
   "metadata": {},
   "outputs": [],
   "source": [
    "\"\"\"class_weights = tf.constant([1.0,2.0,1.0,1.0,1.0,1.0,1.0,2.0,1.0,1.0,1.0,1.0,1.0,1.0])\"\"\""
   ]
  },
  {
   "cell_type": "code",
   "execution_count": null,
   "metadata": {},
   "outputs": [],
   "source": [
    "\"\"\"# Defining unweighted Loss Function\n",
    "unweighted_loss_op = tf.nn.softmax_cross_entropy_with_logits_v2(logits=logits, labels=Y)\n",
    "# Defining weighted Loss Function\n",
    "#weighted_loss_op = tf.multiply(unweighted_loss_op, class_weights)\n",
    "\n",
    "loss_op = tf.reduce_mean(unweighted_loss_op)\n",
    "\n",
    "#Defining optimizer\n",
    "optimizer = tf.train.AdamOptimizer(learning_rate=lr)\n",
    "#Defining what to minimize\n",
    "train_op = optimizer.minimize(loss_op)\n",
    "# Initializing the variables\n",
    "init = tf.global_variables_initializer()\"\"\""
   ]
  },
  {
   "cell_type": "code",
   "execution_count": null,
   "metadata": {},
   "outputs": [],
   "source": [
    "\"\"\"#Graph equations for Accuracy\n",
    "matches = tf.equal(tf.argmax(logits,1),tf.argmax(Y,1))\n",
    "acc = tf.reduce_mean(tf.cast(matches,tf.float32))\"\"\""
   ]
  },
  {
   "cell_type": "code",
   "execution_count": null,
   "metadata": {},
   "outputs": [],
   "source": [
    "\"\"\"%%time\n",
    "folds = KFold(n_splits=5, shuffle=True, random_state=52)\n",
    "clfs = []\n",
    "importances = pd.DataFrame()\"\"\""
   ]
  },
  {
   "cell_type": "code",
   "execution_count": null,
   "metadata": {},
   "outputs": [],
   "source": [
    "\"\"\"steps - int( steps % batch_size )\"\"\""
   ]
  },
  {
   "cell_type": "code",
   "execution_count": null,
   "metadata": {},
   "outputs": [],
   "source": [
    "\"\"\"for fold_, (trn_, val_) in enumerate(folds.split(temp)):\n",
    "    X_train, y_train = temp.iloc[trn_], y.iloc[trn_]\n",
    "    X_cv, y_cv = temp.iloc[val_], y.iloc[val_]\n",
    "    print(X_train.shape,y_train.shape,X_cv.shape,y_cv.shape)\n",
    "    #Opening our Session\n",
    "    with tf.Session() as sess:\n",
    "        #Runnig initialization of variables\n",
    "        sess.run(init)\n",
    "        # Writing down the for loop for epochs\n",
    "        for epoch in range(training_epochs):\n",
    "            #For loop for batches\n",
    "            for i in range(0,steps - int( steps % batch_size ),batch_size):\n",
    "                #Getting training data to be fed into the graphs\n",
    "                batch_x, batch_y = X_train[i:i+batch_size],y_train[i:i+batch_size]\n",
    "                # Training batch by batch\n",
    "                _, c = sess.run([train_op, loss_op], feed_dict={X: batch_x, Y: batch_y,hold_prob1:0.7,hold_prob2:0.8})\n",
    "            #Feeding CV data to the graphs\n",
    "            acc_on_cv,loss_on_cv,preds_on_cv = sess.run([acc,loss_op,tf.nn.softmax(logits)],\n",
    "                                                        feed_dict = {X: X_cv,Y: y_cv,hold_prob1:1.0,hold_prob2:1.0})\n",
    "            #Calculating AUC on Cross Validation data\n",
    "            auc_on_cv = roc_auc_score(y_cv,preds_on_cv)\n",
    "            #Printing CV statistics after each epoch\n",
    "            print(\"Accuracy:\",acc_on_cv,\"Loss:\",loss_on_cv,\"AUC:\",auc_on_cv)\"\"\"\n",
    "\n",
    "        \"\"\"#Feeding test data to the graphs\n",
    "        acc_on_test,loss_on_test,preds_on_test = sess.run([acc,loss_op,tf.nn.softmax(logits)],\n",
    "                                                        feed_dict = \n",
    "                                                                {X: X_test,\n",
    "                                                                Y: y_test,\n",
    "                                                                hold_prob1:1.0,\n",
    "                                                                hold_prob2:1.0})\n",
    "        #Calculating AUC on CV data\n",
    "        auc_on_test = roc_auc_score(y_test,preds_on_test)\n",
    "        print(\"Test Results:\")\n",
    "        print(\"Accuracy:\",acc_on_test,\"Loss:\",loss_on_test,\"AUC:\",auc_on_test)\n",
    "\n",
    "        print(\"All done\")\"\"\""
   ]
  },
  {
   "cell_type": "code",
   "execution_count": null,
   "metadata": {},
   "outputs": [],
   "source": [
    "\"\"\"# Compute weights\n",
    "w = y.value_counts()\n",
    "weights = {i : np.sum(w) / w[i] for i in w.index}\n",
    "\n",
    "def multi_weighted_logloss(y_true, y_preds):\n",
    "    # class_weights taken from Giba's topic : https://www.kaggle.com/titericz\n",
    "    # https://www.kaggle.com/c/PLAsTiCC-2018/discussion/67194\n",
    "    # with Kyle Boone's post https://www.kaggle.com/kyleboone\n",
    "    classes = [6, 15, 16, 42, 52, 53, 62, 64, 65, 67, 88, 90, 92, 95]\n",
    "    class_weight = {6: 1, 15: 2, 16: 1, 42: 1, 52: 1, 53: 1, 62: 1, 64: 2, 65: 1, 67: 1, 88: 1, 90: 1, 92: 1, 95: 1}\n",
    "    if len(np.unique(y_true)) > 14:\n",
    "        classes.append(99)\n",
    "        class_weight[99] = 2\n",
    "    y_p = y_preds\n",
    "    # Trasform y_true in dummies\n",
    "    y_ohe = pd.get_dummies(y_true)\n",
    "    # Normalize rows and limit y_preds to 1e-15, 1-1e-15\n",
    "    y_p = np.clip(a=y_p, a_min=1e-15, a_max=1 - 1e-15)\n",
    "    # Transform to log\n",
    "    y_p_log = np.log(y_p)\n",
    "    # Get the log for ones, .values is used to drop the index of DataFrames\n",
    "    # Exclude class 99 for now, since there is no class99 in the training set\n",
    "    # we gave a special process for that class\n",
    "    y_log_ones = np.sum(y_ohe.values * y_p_log, axis=0)\n",
    "    # Get the number of positives for each class\n",
    "    nb_pos = y_ohe.sum(axis=0).values.astype(float)\n",
    "    # Weight average and divide by the number of positives\n",
    "    class_arr = np.array([class_weight[k] for k in sorted(class_weight.keys())])\n",
    "    y_w = y_log_ones * class_arr / nb_pos\n",
    "\n",
    "    loss = - np.sum(y_w) / np.sum(class_arr)\n",
    "    return loss\n",
    "\n",
    "\n",
    "def lgb_multi_weighted_logloss(y_true, y_preds):\n",
    "\n",
    "    # class_weights taken from Giba's topic : https://www.kaggle.com/titericz\n",
    "    # https://www.kaggle.com/c/PLAsTiCC-2018/discussion/67194\n",
    "    # with Kyle Boone's post https://www.kaggle.com/kyleboone\n",
    "    classes = [6, 15, 16, 42, 52, 53, 62, 64, 65, 67, 88, 90, 92, 95]\n",
    "    class_weight = {6: 1, 15: 2, 16: 1, 42: 1, 52: 1, 53: 1, 62: 1, 64: 2, 65: 1, 67: 1, 88: 1, 90: 1, 92: 1, 95: 1}\n",
    "    if len(np.unique(y_true)) > 14:\n",
    "        classes.append(99)\n",
    "        class_weight[99] = 2\n",
    "    y_p = y_preds.reshape(y_true.shape[0], len(classes), order='F')\n",
    "\n",
    "    # Trasform y_true in dummies\n",
    "    y_ohe = pd.get_dummies(y_true)\n",
    "    # Normalize rows and limit y_preds to 1e-15, 1-1e-15\n",
    "    y_p = np.clip(a=y_p, a_min=1e-15, a_max=1 - 1e-15)\n",
    "    # Transform to log\n",
    "    y_p_log = np.log(y_p)\n",
    "    # Get the log for ones, .values is used to drop the index of DataFrames\n",
    "    # Exclude class 99 for now, since there is no class99 in the training set\n",
    "    # we gave a special process for that class\n",
    "    y_log_ones = np.sum(y_ohe.values * y_p_log, axis=0)\n",
    "    # Get the number of positives for each class\n",
    "    nb_pos = y_ohe.sum(axis=0).values.astype(float)\n",
    "    # Weight average and divide by the number of positives\n",
    "    class_arr = np.array([class_weight[k] for k in sorted(class_weight.keys())])\n",
    "    y_w = y_log_ones * class_arr / nb_pos\n",
    "\n",
    "    loss = - np.sum(y_w) / np.sum(class_arr)\n",
    "    return 'wloss', loss, False\"\"\""
   ]
  },
  {
   "cell_type": "markdown",
   "metadata": {},
   "source": [
    "# 10 ) Defining hyperparameters"
   ]
  },
  {
   "cell_type": "code",
   "execution_count": null,
   "metadata": {},
   "outputs": [],
   "source": [
    "%%time\n",
    "folds = StratifiedKFold(n_splits=5, shuffle=True, random_state=51)\n",
    "clfs = []\n",
    "importances = pd.DataFrame()\n",
    "lgb_params = {\n",
    "'random_state':51,\n",
    "'device': 'cpu', \n",
    "'objective': 'multiclass', \n",
    "'num_class': 14, \n",
    "'boosting_type': 'gbdt', \n",
    "'n_jobs': -1, \n",
    "'max_depth': 7, \n",
    "'n_estimators': 500, \n",
    "'subsample_freq': 2, \n",
    "'subsample_for_bin': 5000, \n",
    "'min_data_per_group': 100, \n",
    "'max_cat_to_onehot': 4, \n",
    "'cat_l2': 1.0, \n",
    "'cat_smooth': 59.5, \n",
    "'max_cat_threshold': 32, \n",
    "'metric_freq': 10, \n",
    "'verbosity': -1, \n",
    "'metric': 'multi_logloss', \n",
    "'xgboost_dart_mode': False, \n",
    "'uniform_drop': False, \n",
    "'colsample_bytree': 0.5, \n",
    "'drop_rate': 0.173, \n",
    "'learning_rate': 0.0267, \n",
    "'max_drop': 5, \n",
    "'min_child_samples': 10, \n",
    "'min_child_weight': 100.0, \n",
    "'min_split_gain': 0.1, \n",
    "'num_leaves': 7, \n",
    "'reg_alpha': 0.1, \n",
    "'reg_lambda': 0.00023, \n",
    "'skip_drop': 0.44, \n",
    "'subsample': 0.75}"
   ]
  },
  {
   "cell_type": "code",
   "execution_count": null,
   "metadata": {},
   "outputs": [],
   "source": [
    "\"\"\"# Compute weights\n",
    "w = y.value_counts()\n",
    "weights = {i : np.sum(w) / w[i] for i in w.index}\n",
    "\n",
    "oof_preds = np.zeros((len(temp), np.unique(y).shape[0]))\"\"\""
   ]
  },
  {
   "cell_type": "markdown",
   "metadata": {},
   "source": [
    "# 11) Training"
   ]
  },
  {
   "cell_type": "code",
   "execution_count": null,
   "metadata": {},
   "outputs": [],
   "source": [
    "\"\"\"%%time\n",
    "for fold_, (trn_, val_) in enumerate(folds.split(y, y)):\n",
    "    trn_x, trn_y = temp.iloc[trn_], y.iloc[trn_]\n",
    "    val_x, val_y = temp.iloc[val_], y.iloc[val_]\n",
    "\n",
    "    clf = lgb.LGBMClassifier(**lgb_params)\n",
    "    clf.fit(\n",
    "        trn_x, trn_y,\n",
    "        eval_set=[(trn_x, trn_y), (val_x, val_y)],\n",
    "        eval_metric=lgb_multi_weighted_logloss,\n",
    "        verbose=100,\n",
    "        early_stopping_rounds=50,\n",
    "        sample_weight=trn_y.map(weights)\n",
    "    )\n",
    "    oof_preds[val_, :] = clf.predict_proba(val_x, num_iteration=clf.best_iteration_)\n",
    "    print(multi_weighted_logloss(val_y, oof_preds[val_, :]))\n",
    "\n",
    "    imp_df = pd.DataFrame()\n",
    "    imp_df['feature'] = temp.columns\n",
    "    imp_df['gain'] = clf.feature_importances_\n",
    "    imp_df['fold'] = fold_ + 1\n",
    "    importances = pd.concat([importances, imp_df], axis=0, sort=False)\n",
    "\n",
    "    clfs.append(clf)\n",
    "\n",
    "print('MULTI WEIGHTED LOG LOSS : %.5f ' % multi_weighted_logloss(y_true=y, y_preds=oof_preds))\"\"\""
   ]
  },
  {
   "cell_type": "code",
   "execution_count": null,
   "metadata": {},
   "outputs": [],
   "source": [
    "\"\"\"print(list(temp.columns.values)[:5])\"\"\""
   ]
  },
  {
   "cell_type": "code",
   "execution_count": null,
   "metadata": {},
   "outputs": [],
   "source": [
    "\"\"\"print(list(test_metadata_kaggle.columns.values)[:5])\"\"\""
   ]
  },
  {
   "cell_type": "code",
   "execution_count": null,
   "metadata": {},
   "outputs": [],
   "source": [
    "\"\"\"imp_df.sort_values(by ='gain',ascending=False).reset_index(drop=True).head(20)\"\"\""
   ]
  },
  {
   "cell_type": "markdown",
   "metadata": {},
   "source": [
    "# 12) Preparing test data for scoring"
   ]
  },
  {
   "cell_type": "code",
   "execution_count": null,
   "metadata": {},
   "outputs": [],
   "source": [
    "%%time\n",
    "#temp_test = test_metadata_kaggle.merge(right = test_metadata[[x for x in test_metadata.columns if x not in ignored_columns ]] ,how='left',on = 'object_id')"
   ]
  },
  {
   "cell_type": "code",
   "execution_count": 55,
   "metadata": {},
   "outputs": [
    {
     "name": "stdout",
     "output_type": "stream",
     "text": [
      "CPU times: user 344 ms, sys: 484 ms, total: 829 ms\n",
      "Wall time: 826 ms\n"
     ]
    }
   ],
   "source": [
    "%%time\n",
    "temp_test = test_metadata_kaggle.copy()"
   ]
  },
  {
   "cell_type": "code",
   "execution_count": 56,
   "metadata": {},
   "outputs": [],
   "source": [
    "del temp_test['object_id']"
   ]
  },
  {
   "cell_type": "code",
   "execution_count": 57,
   "metadata": {},
   "outputs": [
    {
     "name": "stdout",
     "output_type": "stream",
     "text": [
      "(7848, 62) (3492890, 62)\n"
     ]
    }
   ],
   "source": [
    "print(temp.shape,temp_test.shape)"
   ]
  },
  {
   "cell_type": "code",
   "execution_count": 58,
   "metadata": {},
   "outputs": [
    {
     "data": {
      "text/plain": [
       "True"
      ]
     },
     "execution_count": 58,
     "metadata": {},
     "output_type": "execute_result"
    }
   ],
   "source": [
    "list(temp.columns) == list(temp_test.columns)"
   ]
  },
  {
   "cell_type": "code",
   "execution_count": 59,
   "metadata": {},
   "outputs": [],
   "source": [
    "temp_test = ss.transform(temp_test)"
   ]
  },
  {
   "cell_type": "code",
   "execution_count": 60,
   "metadata": {},
   "outputs": [
    {
     "data": {
      "text/plain": [
       "10831"
      ]
     },
     "execution_count": 60,
     "metadata": {},
     "output_type": "execute_result"
    }
   ],
   "source": [
    "gc.enable()\n",
    "del train_metadata_kaggle,test_metadata_kaggle\n",
    "gc.collect()"
   ]
  },
  {
   "cell_type": "code",
   "execution_count": 61,
   "metadata": {},
   "outputs": [
    {
     "name": "stdout",
     "output_type": "stream",
     "text": [
      "0\n",
      "0\n",
      "500000\n",
      "1000000\n",
      "1500000\n",
      "2000000\n",
      "2500000\n",
      "3000000\n",
      "1\n",
      "0\n",
      "500000\n",
      "1000000\n",
      "1500000\n",
      "2000000\n",
      "2500000\n",
      "3000000\n",
      "2\n",
      "0\n",
      "500000\n",
      "1000000\n",
      "1500000\n",
      "2000000\n",
      "2500000\n",
      "3000000\n",
      "3\n",
      "0\n",
      "500000\n",
      "1000000\n",
      "1500000\n",
      "2000000\n",
      "2500000\n",
      "3000000\n",
      "4\n",
      "0\n",
      "500000\n",
      "1000000\n",
      "1500000\n",
      "2000000\n",
      "2500000\n",
      "3000000\n",
      "CPU times: user 15min 47s, sys: 1min 50s, total: 17min 38s\n",
      "Wall time: 10min 8s\n"
     ]
    }
   ],
   "source": [
    "%%time\n",
    "test_pred0 = pd.DataFrame()\n",
    "test_pred1 = pd.DataFrame()\n",
    "test_pred2 = pd.DataFrame()\n",
    "test_pred3 = pd.DataFrame()\n",
    "test_pred4 = pd.DataFrame()\n",
    "\n",
    "list_of_df = [test_pred0,test_pred1,test_pred2,test_pred3,test_pred4]\n",
    "\n",
    "for num,c in enumerate(clfs):\n",
    "    print(num)\n",
    "    for k in range(0,len(temp_test),500000):\n",
    "        print(k)\n",
    "        test_pred = pd.DataFrame(c.predict_proba(temp_test[ k:k+500000] ))\n",
    "        list_of_df[num] = pd.concat([list_of_df[num],test_pred],axis=0)\n",
    "        del test_pred"
   ]
  },
  {
   "cell_type": "code",
   "execution_count": 62,
   "metadata": {},
   "outputs": [],
   "source": [
    "test_pred2 = pd.DataFrame()\n",
    "test_pred2 = (list_of_df[0] + list_of_df[1] + list_of_df[2] + list_of_df[3] + list_of_df[4])/5"
   ]
  },
  {
   "cell_type": "code",
   "execution_count": 63,
   "metadata": {},
   "outputs": [
    {
     "data": {
      "text/plain": [
       "(3492890, 14)"
      ]
     },
     "execution_count": 63,
     "metadata": {},
     "output_type": "execute_result"
    }
   ],
   "source": [
    "test_pred2.shape"
   ]
  },
  {
   "cell_type": "code",
   "execution_count": 64,
   "metadata": {},
   "outputs": [
    {
     "data": {
      "text/html": [
       "<div>\n",
       "<style scoped>\n",
       "    .dataframe tbody tr th:only-of-type {\n",
       "        vertical-align: middle;\n",
       "    }\n",
       "\n",
       "    .dataframe tbody tr th {\n",
       "        vertical-align: top;\n",
       "    }\n",
       "\n",
       "    .dataframe thead th {\n",
       "        text-align: right;\n",
       "    }\n",
       "</style>\n",
       "<table border=\"1\" class=\"dataframe\">\n",
       "  <thead>\n",
       "    <tr style=\"text-align: right;\">\n",
       "      <th></th>\n",
       "      <th>0</th>\n",
       "      <th>1</th>\n",
       "      <th>2</th>\n",
       "      <th>3</th>\n",
       "      <th>4</th>\n",
       "      <th>5</th>\n",
       "      <th>6</th>\n",
       "      <th>7</th>\n",
       "      <th>8</th>\n",
       "      <th>9</th>\n",
       "      <th>10</th>\n",
       "      <th>11</th>\n",
       "      <th>12</th>\n",
       "      <th>13</th>\n",
       "    </tr>\n",
       "  </thead>\n",
       "  <tbody>\n",
       "    <tr>\n",
       "      <th>0</th>\n",
       "      <td>6.388931e-07</td>\n",
       "      <td>0.003080</td>\n",
       "      <td>4.467896e-06</td>\n",
       "      <td>0.208801</td>\n",
       "      <td>0.638730</td>\n",
       "      <td>0.000011</td>\n",
       "      <td>0.040374</td>\n",
       "      <td>0.000012</td>\n",
       "      <td>0.000002</td>\n",
       "      <td>0.006420</td>\n",
       "      <td>0.000039</td>\n",
       "      <td>0.102259</td>\n",
       "      <td>0.000083</td>\n",
       "      <td>0.000184</td>\n",
       "    </tr>\n",
       "    <tr>\n",
       "      <th>1</th>\n",
       "      <td>1.428215e-07</td>\n",
       "      <td>0.006793</td>\n",
       "      <td>7.249450e-07</td>\n",
       "      <td>0.115216</td>\n",
       "      <td>0.192304</td>\n",
       "      <td>0.000027</td>\n",
       "      <td>0.033216</td>\n",
       "      <td>0.000738</td>\n",
       "      <td>0.000015</td>\n",
       "      <td>0.040874</td>\n",
       "      <td>0.000128</td>\n",
       "      <td>0.609128</td>\n",
       "      <td>0.000009</td>\n",
       "      <td>0.001552</td>\n",
       "    </tr>\n",
       "    <tr>\n",
       "      <th>2</th>\n",
       "      <td>4.317552e-07</td>\n",
       "      <td>0.002522</td>\n",
       "      <td>2.418699e-06</td>\n",
       "      <td>0.079860</td>\n",
       "      <td>0.177803</td>\n",
       "      <td>0.000157</td>\n",
       "      <td>0.032580</td>\n",
       "      <td>0.000350</td>\n",
       "      <td>0.000008</td>\n",
       "      <td>0.064336</td>\n",
       "      <td>0.001187</td>\n",
       "      <td>0.638274</td>\n",
       "      <td>0.000028</td>\n",
       "      <td>0.002893</td>\n",
       "    </tr>\n",
       "    <tr>\n",
       "      <th>3</th>\n",
       "      <td>6.845203e-07</td>\n",
       "      <td>0.003492</td>\n",
       "      <td>1.056205e-06</td>\n",
       "      <td>0.072317</td>\n",
       "      <td>0.146614</td>\n",
       "      <td>0.000064</td>\n",
       "      <td>0.040762</td>\n",
       "      <td>0.000437</td>\n",
       "      <td>0.000003</td>\n",
       "      <td>0.153004</td>\n",
       "      <td>0.000428</td>\n",
       "      <td>0.581237</td>\n",
       "      <td>0.000006</td>\n",
       "      <td>0.001632</td>\n",
       "    </tr>\n",
       "    <tr>\n",
       "      <th>4</th>\n",
       "      <td>3.197554e-06</td>\n",
       "      <td>0.009174</td>\n",
       "      <td>2.553614e-08</td>\n",
       "      <td>0.072236</td>\n",
       "      <td>0.363829</td>\n",
       "      <td>0.000023</td>\n",
       "      <td>0.044617</td>\n",
       "      <td>0.000018</td>\n",
       "      <td>0.000006</td>\n",
       "      <td>0.042374</td>\n",
       "      <td>0.000004</td>\n",
       "      <td>0.467009</td>\n",
       "      <td>0.000002</td>\n",
       "      <td>0.000705</td>\n",
       "    </tr>\n",
       "  </tbody>\n",
       "</table>\n",
       "</div>"
      ],
      "text/plain": [
       "             0         1             2         3         4         5   \\\n",
       "0  6.388931e-07  0.003080  4.467896e-06  0.208801  0.638730  0.000011   \n",
       "1  1.428215e-07  0.006793  7.249450e-07  0.115216  0.192304  0.000027   \n",
       "2  4.317552e-07  0.002522  2.418699e-06  0.079860  0.177803  0.000157   \n",
       "3  6.845203e-07  0.003492  1.056205e-06  0.072317  0.146614  0.000064   \n",
       "4  3.197554e-06  0.009174  2.553614e-08  0.072236  0.363829  0.000023   \n",
       "\n",
       "         6         7         8         9         10        11        12  \\\n",
       "0  0.040374  0.000012  0.000002  0.006420  0.000039  0.102259  0.000083   \n",
       "1  0.033216  0.000738  0.000015  0.040874  0.000128  0.609128  0.000009   \n",
       "2  0.032580  0.000350  0.000008  0.064336  0.001187  0.638274  0.000028   \n",
       "3  0.040762  0.000437  0.000003  0.153004  0.000428  0.581237  0.000006   \n",
       "4  0.044617  0.000018  0.000006  0.042374  0.000004  0.467009  0.000002   \n",
       "\n",
       "         13  \n",
       "0  0.000184  \n",
       "1  0.001552  \n",
       "2  0.002893  \n",
       "3  0.001632  \n",
       "4  0.000705  "
      ]
     },
     "execution_count": 64,
     "metadata": {},
     "output_type": "execute_result"
    }
   ],
   "source": [
    "test_pred2.head()"
   ]
  },
  {
   "cell_type": "code",
   "execution_count": 65,
   "metadata": {},
   "outputs": [],
   "source": [
    "test_pred2[14] = 0.15"
   ]
  },
  {
   "cell_type": "code",
   "execution_count": 66,
   "metadata": {},
   "outputs": [],
   "source": [
    "test_pred2 = test_pred2 / 1.15"
   ]
  },
  {
   "cell_type": "code",
   "execution_count": 67,
   "metadata": {},
   "outputs": [],
   "source": [
    "test_pred2 = test_pred2.reset_index(drop=True)"
   ]
  },
  {
   "cell_type": "code",
   "execution_count": 68,
   "metadata": {},
   "outputs": [],
   "source": [
    "temp_columns = ['object_id','class_6','class_15','class_16','class_42','class_52','class_53','class_62','class_64','class_65','class_67','class_88','class_90','class_92','class_95','class_99']"
   ]
  },
  {
   "cell_type": "code",
   "execution_count": 69,
   "metadata": {},
   "outputs": [],
   "source": [
    "test_pred2.columns = temp_columns[1:]"
   ]
  },
  {
   "cell_type": "code",
   "execution_count": 70,
   "metadata": {},
   "outputs": [
    {
     "name": "stdout",
     "output_type": "stream",
     "text": [
      "(3492890, 15) (3492890,)\n"
     ]
    }
   ],
   "source": [
    "print(test_pred2.shape,test_id.shape)"
   ]
  },
  {
   "cell_type": "code",
   "execution_count": 71,
   "metadata": {},
   "outputs": [
    {
     "data": {
      "text/plain": [
       "31091    130787966\n",
       "31092    130787971\n",
       "31093    130787974\n",
       "31094    130788053\n",
       "31095    130788054\n",
       "Name: object_id, dtype: int64"
      ]
     },
     "execution_count": 71,
     "metadata": {},
     "output_type": "execute_result"
    }
   ],
   "source": [
    "test_id.tail()"
   ]
  },
  {
   "cell_type": "code",
   "execution_count": 72,
   "metadata": {},
   "outputs": [],
   "source": [
    "test_id = test_id.reset_index(drop=True)"
   ]
  },
  {
   "cell_type": "code",
   "execution_count": 73,
   "metadata": {},
   "outputs": [
    {
     "data": {
      "text/plain": [
       "array([ True,  True,  True, ...,  True,  True,  True])"
      ]
     },
     "execution_count": 73,
     "metadata": {},
     "output_type": "execute_result"
    }
   ],
   "source": [
    "test_id.index == test_pred2.index"
   ]
  },
  {
   "cell_type": "code",
   "execution_count": 74,
   "metadata": {},
   "outputs": [
    {
     "name": "stdout",
     "output_type": "stream",
     "text": [
      "CPU times: user 43 ms, sys: 94.9 ms, total: 138 ms\n",
      "Wall time: 137 ms\n"
     ]
    }
   ],
   "source": [
    "%%time\n",
    "test_pred = pd.concat([test_id,test_pred2],axis=1)"
   ]
  },
  {
   "cell_type": "code",
   "execution_count": 75,
   "metadata": {},
   "outputs": [],
   "source": [
    "test_pred = test_pred[temp_columns]"
   ]
  },
  {
   "cell_type": "code",
   "execution_count": 76,
   "metadata": {},
   "outputs": [
    {
     "data": {
      "text/html": [
       "<div>\n",
       "<style scoped>\n",
       "    .dataframe tbody tr th:only-of-type {\n",
       "        vertical-align: middle;\n",
       "    }\n",
       "\n",
       "    .dataframe tbody tr th {\n",
       "        vertical-align: top;\n",
       "    }\n",
       "\n",
       "    .dataframe thead th {\n",
       "        text-align: right;\n",
       "    }\n",
       "</style>\n",
       "<table border=\"1\" class=\"dataframe\">\n",
       "  <thead>\n",
       "    <tr style=\"text-align: right;\">\n",
       "      <th></th>\n",
       "      <th>object_id</th>\n",
       "      <th>class_6</th>\n",
       "      <th>class_15</th>\n",
       "      <th>class_16</th>\n",
       "      <th>class_42</th>\n",
       "      <th>class_52</th>\n",
       "      <th>class_53</th>\n",
       "      <th>class_62</th>\n",
       "      <th>class_64</th>\n",
       "      <th>class_65</th>\n",
       "      <th>class_67</th>\n",
       "      <th>class_88</th>\n",
       "      <th>class_90</th>\n",
       "      <th>class_92</th>\n",
       "      <th>class_95</th>\n",
       "      <th>class_99</th>\n",
       "    </tr>\n",
       "  </thead>\n",
       "  <tbody>\n",
       "    <tr>\n",
       "      <th>0</th>\n",
       "      <td>13</td>\n",
       "      <td>5.555592e-07</td>\n",
       "      <td>0.002678</td>\n",
       "      <td>3.885127e-06</td>\n",
       "      <td>0.181566</td>\n",
       "      <td>0.555417</td>\n",
       "      <td>0.000010</td>\n",
       "      <td>0.035108</td>\n",
       "      <td>0.000011</td>\n",
       "      <td>0.000002</td>\n",
       "      <td>0.005582</td>\n",
       "      <td>0.000034</td>\n",
       "      <td>0.088921</td>\n",
       "      <td>0.000072</td>\n",
       "      <td>0.000160</td>\n",
       "      <td>0.130435</td>\n",
       "    </tr>\n",
       "    <tr>\n",
       "      <th>1</th>\n",
       "      <td>14</td>\n",
       "      <td>1.241926e-07</td>\n",
       "      <td>0.005907</td>\n",
       "      <td>6.303870e-07</td>\n",
       "      <td>0.100188</td>\n",
       "      <td>0.167221</td>\n",
       "      <td>0.000024</td>\n",
       "      <td>0.028884</td>\n",
       "      <td>0.000641</td>\n",
       "      <td>0.000013</td>\n",
       "      <td>0.035543</td>\n",
       "      <td>0.000111</td>\n",
       "      <td>0.529677</td>\n",
       "      <td>0.000008</td>\n",
       "      <td>0.001349</td>\n",
       "      <td>0.130435</td>\n",
       "    </tr>\n",
       "    <tr>\n",
       "      <th>2</th>\n",
       "      <td>17</td>\n",
       "      <td>3.754393e-07</td>\n",
       "      <td>0.002193</td>\n",
       "      <td>2.103217e-06</td>\n",
       "      <td>0.069443</td>\n",
       "      <td>0.154611</td>\n",
       "      <td>0.000137</td>\n",
       "      <td>0.028330</td>\n",
       "      <td>0.000304</td>\n",
       "      <td>0.000007</td>\n",
       "      <td>0.055944</td>\n",
       "      <td>0.001032</td>\n",
       "      <td>0.555021</td>\n",
       "      <td>0.000024</td>\n",
       "      <td>0.002516</td>\n",
       "      <td>0.130435</td>\n",
       "    </tr>\n",
       "    <tr>\n",
       "      <th>3</th>\n",
       "      <td>23</td>\n",
       "      <td>5.952350e-07</td>\n",
       "      <td>0.003037</td>\n",
       "      <td>9.184394e-07</td>\n",
       "      <td>0.062884</td>\n",
       "      <td>0.127491</td>\n",
       "      <td>0.000056</td>\n",
       "      <td>0.035446</td>\n",
       "      <td>0.000380</td>\n",
       "      <td>0.000003</td>\n",
       "      <td>0.133047</td>\n",
       "      <td>0.000372</td>\n",
       "      <td>0.505423</td>\n",
       "      <td>0.000006</td>\n",
       "      <td>0.001419</td>\n",
       "      <td>0.130435</td>\n",
       "    </tr>\n",
       "    <tr>\n",
       "      <th>4</th>\n",
       "      <td>34</td>\n",
       "      <td>2.780482e-06</td>\n",
       "      <td>0.007977</td>\n",
       "      <td>2.220534e-08</td>\n",
       "      <td>0.062814</td>\n",
       "      <td>0.316373</td>\n",
       "      <td>0.000020</td>\n",
       "      <td>0.038798</td>\n",
       "      <td>0.000016</td>\n",
       "      <td>0.000005</td>\n",
       "      <td>0.036847</td>\n",
       "      <td>0.000004</td>\n",
       "      <td>0.406095</td>\n",
       "      <td>0.000001</td>\n",
       "      <td>0.000613</td>\n",
       "      <td>0.130435</td>\n",
       "    </tr>\n",
       "  </tbody>\n",
       "</table>\n",
       "</div>"
      ],
      "text/plain": [
       "   object_id       class_6  class_15      class_16  class_42  class_52  \\\n",
       "0         13  5.555592e-07  0.002678  3.885127e-06  0.181566  0.555417   \n",
       "1         14  1.241926e-07  0.005907  6.303870e-07  0.100188  0.167221   \n",
       "2         17  3.754393e-07  0.002193  2.103217e-06  0.069443  0.154611   \n",
       "3         23  5.952350e-07  0.003037  9.184394e-07  0.062884  0.127491   \n",
       "4         34  2.780482e-06  0.007977  2.220534e-08  0.062814  0.316373   \n",
       "\n",
       "   class_53  class_62  class_64  class_65  class_67  class_88  class_90  \\\n",
       "0  0.000010  0.035108  0.000011  0.000002  0.005582  0.000034  0.088921   \n",
       "1  0.000024  0.028884  0.000641  0.000013  0.035543  0.000111  0.529677   \n",
       "2  0.000137  0.028330  0.000304  0.000007  0.055944  0.001032  0.555021   \n",
       "3  0.000056  0.035446  0.000380  0.000003  0.133047  0.000372  0.505423   \n",
       "4  0.000020  0.038798  0.000016  0.000005  0.036847  0.000004  0.406095   \n",
       "\n",
       "   class_92  class_95  class_99  \n",
       "0  0.000072  0.000160  0.130435  \n",
       "1  0.000008  0.001349  0.130435  \n",
       "2  0.000024  0.002516  0.130435  \n",
       "3  0.000006  0.001419  0.130435  \n",
       "4  0.000001  0.000613  0.130435  "
      ]
     },
     "execution_count": 76,
     "metadata": {},
     "output_type": "execute_result"
    }
   ],
   "source": [
    "test_pred.head()"
   ]
  },
  {
   "cell_type": "code",
   "execution_count": 79,
   "metadata": {},
   "outputs": [
    {
     "data": {
      "text/plain": [
       "numpy.float32"
      ]
     },
     "execution_count": 79,
     "metadata": {},
     "output_type": "execute_result"
    }
   ],
   "source": [
    "type(test_pred.iloc[0,1])"
   ]
  },
  {
   "cell_type": "code",
   "execution_count": 80,
   "metadata": {},
   "outputs": [
    {
     "data": {
      "text/plain": [
       "(3492890, 16)"
      ]
     },
     "execution_count": 80,
     "metadata": {},
     "output_type": "execute_result"
    }
   ],
   "source": [
    "test_pred.shape"
   ]
  },
  {
   "cell_type": "code",
   "execution_count": 81,
   "metadata": {},
   "outputs": [
    {
     "name": "stdout",
     "output_type": "stream",
     "text": [
      "CPU times: user 1min 6s, sys: 276 ms, total: 1min 7s\n",
      "Wall time: 1min 7s\n"
     ]
    }
   ],
   "source": [
    "%%time\n",
    "test_pred.to_csv('test_pred_10.csv',index=False)"
   ]
  },
  {
   "cell_type": "code",
   "execution_count": null,
   "metadata": {},
   "outputs": [],
   "source": []
  }
 ],
 "metadata": {
  "kernelspec": {
   "display_name": "Python 3",
   "language": "python",
   "name": "python3"
  },
  "language_info": {
   "codemirror_mode": {
    "name": "ipython",
    "version": 3
   },
   "file_extension": ".py",
   "mimetype": "text/x-python",
   "name": "python",
   "nbconvert_exporter": "python",
   "pygments_lexer": "ipython3",
   "version": "3.6.7"
  }
 },
 "nbformat": 4,
 "nbformat_minor": 2
}
