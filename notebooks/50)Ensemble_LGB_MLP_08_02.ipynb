{
 "cells": [
  {
   "cell_type": "code",
   "execution_count": 1,
   "metadata": {},
   "outputs": [],
   "source": [
    "import numpy as np # linear algebra\n",
    "import pandas as pd # data processing, CSV file I/O (e.g. pd.read_csv)\n",
    "from sklearn.metrics import log_loss\n",
    "from sklearn.model_selection import StratifiedKFold\n",
    "import gc\n",
    "import os\n",
    "import matplotlib.pyplot as plt\n",
    "import seaborn as sns \n",
    "import lightgbm as lgb\n",
    "import itertools\n",
    "import pickle, gzip\n",
    "import glob\n",
    "from sklearn.preprocessing import StandardScaler\n",
    "from tsfresh.feature_extraction import extract_features\n",
    "np.warnings.filterwarnings('ignore')\n",
    "import dask.dataframe as dd\n",
    "import missingno as msno\n",
    "from pandasql import sqldf\n",
    "from sklearn.metrics import mean_squared_error\n",
    "from math import sqrt\n",
    "from sklearn.model_selection import KFold\n",
    "import matplotlib.gridspec as gridspec\n",
    "from sklearn import preprocessing\n",
    "from imblearn.over_sampling import SMOTE\n",
    "from sklearn.model_selection import train_test_split"
   ]
  },
  {
   "cell_type": "code",
   "execution_count": 2,
   "metadata": {},
   "outputs": [],
   "source": [
    "#Always seed the randomness of this universe\n",
    "np.random.seed(51)"
   ]
  },
  {
   "cell_type": "code",
   "execution_count": 3,
   "metadata": {},
   "outputs": [
    {
     "name": "stdout",
     "output_type": "stream",
     "text": [
      "(3492890, 16) (3492890, 16)\n",
      "CPU times: user 32.6 s, sys: 3 s, total: 35.6 s\n",
      "Wall time: 7.16 s\n"
     ]
    }
   ],
   "source": [
    "%%time\n",
    "pred1 = dd.read_csv('test_pred_32.csv')\n",
    "pred2 = dd.read_csv('test_pred_33.csv')\n",
    "pred1 = pred1.compute()\n",
    "pred2 = pred2.compute()\n",
    "print(pred1.shape,pred2.shape)"
   ]
  },
  {
   "cell_type": "code",
   "execution_count": 4,
   "metadata": {},
   "outputs": [
    {
     "name": "stdout",
     "output_type": "stream",
     "text": [
      "CPU times: user 205 ms, sys: 248 ms, total: 452 ms\n",
      "Wall time: 450 ms\n"
     ]
    }
   ],
   "source": [
    "%%time\n",
    "pred1 = pred1.reset_index(drop=True)\n",
    "pred2 = pred2.reset_index(drop=True)"
   ]
  },
  {
   "cell_type": "code",
   "execution_count": 5,
   "metadata": {},
   "outputs": [
    {
     "data": {
      "text/plain": [
       "True"
      ]
     },
     "execution_count": 5,
     "metadata": {},
     "output_type": "execute_result"
    }
   ],
   "source": [
    "pred1['object_id'].equals(pred2['object_id'])"
   ]
  },
  {
   "cell_type": "code",
   "execution_count": 6,
   "metadata": {},
   "outputs": [
    {
     "name": "stdout",
     "output_type": "stream",
     "text": [
      "CPU times: user 276 µs, sys: 35 µs, total: 311 µs\n",
      "Wall time: 315 µs\n"
     ]
    }
   ],
   "source": [
    "%%time\n",
    "test_ensemble = pd.DataFrame()"
   ]
  },
  {
   "cell_type": "code",
   "execution_count": 7,
   "metadata": {},
   "outputs": [],
   "source": [
    "coef_lgb = 0.8\n",
    "coef_mlp = 0.2"
   ]
  },
  {
   "cell_type": "code",
   "execution_count": 8,
   "metadata": {},
   "outputs": [
    {
     "name": "stdout",
     "output_type": "stream",
     "text": [
      "CPU times: user 265 ms, sys: 595 ms, total: 859 ms\n",
      "Wall time: 857 ms\n"
     ]
    }
   ],
   "source": [
    "%%time\n",
    "test_ensemble = pred1.iloc[:,1:]*coef_lgb + pred2.iloc[:,1:]*coef_mlp"
   ]
  },
  {
   "cell_type": "code",
   "execution_count": 9,
   "metadata": {},
   "outputs": [
    {
     "name": "stdout",
     "output_type": "stream",
     "text": [
      "(3492890, 15)\n"
     ]
    }
   ],
   "source": [
    "print(test_ensemble.shape)"
   ]
  },
  {
   "cell_type": "code",
   "execution_count": 10,
   "metadata": {},
   "outputs": [
    {
     "name": "stdout",
     "output_type": "stream",
     "text": [
      "(3492890, 16)\n"
     ]
    }
   ],
   "source": [
    "test_ensemble['object_id'] = pred1['object_id']\n",
    "print(test_ensemble.shape)"
   ]
  },
  {
   "cell_type": "code",
   "execution_count": 11,
   "metadata": {},
   "outputs": [],
   "source": [
    "test_ensemble = test_ensemble[list(pred1.columns)]"
   ]
  },
  {
   "cell_type": "code",
   "execution_count": 12,
   "metadata": {},
   "outputs": [
    {
     "data": {
      "text/html": [
       "<div>\n",
       "<style scoped>\n",
       "    .dataframe tbody tr th:only-of-type {\n",
       "        vertical-align: middle;\n",
       "    }\n",
       "\n",
       "    .dataframe tbody tr th {\n",
       "        vertical-align: top;\n",
       "    }\n",
       "\n",
       "    .dataframe thead th {\n",
       "        text-align: right;\n",
       "    }\n",
       "</style>\n",
       "<table border=\"1\" class=\"dataframe\">\n",
       "  <thead>\n",
       "    <tr style=\"text-align: right;\">\n",
       "      <th></th>\n",
       "      <th>object_id</th>\n",
       "      <th>class_6</th>\n",
       "      <th>class_15</th>\n",
       "      <th>class_16</th>\n",
       "      <th>class_42</th>\n",
       "      <th>class_52</th>\n",
       "      <th>class_53</th>\n",
       "      <th>class_62</th>\n",
       "      <th>class_64</th>\n",
       "      <th>class_65</th>\n",
       "      <th>class_67</th>\n",
       "      <th>class_88</th>\n",
       "      <th>class_90</th>\n",
       "      <th>class_92</th>\n",
       "      <th>class_95</th>\n",
       "      <th>class_99</th>\n",
       "    </tr>\n",
       "  </thead>\n",
       "  <tbody>\n",
       "    <tr>\n",
       "      <th>3492885</th>\n",
       "      <td>130787966</td>\n",
       "      <td>0.000228</td>\n",
       "      <td>0.353038</td>\n",
       "      <td>0.000424</td>\n",
       "      <td>0.195240</td>\n",
       "      <td>0.137085</td>\n",
       "      <td>0.000486</td>\n",
       "      <td>0.099774</td>\n",
       "      <td>0.000261</td>\n",
       "      <td>0.002038</td>\n",
       "      <td>0.016563</td>\n",
       "      <td>0.002586</td>\n",
       "      <td>0.191285</td>\n",
       "      <td>0.000327</td>\n",
       "      <td>0.000665</td>\n",
       "      <td>0.245549</td>\n",
       "    </tr>\n",
       "    <tr>\n",
       "      <th>3492886</th>\n",
       "      <td>130787971</td>\n",
       "      <td>0.000237</td>\n",
       "      <td>0.011051</td>\n",
       "      <td>0.000257</td>\n",
       "      <td>0.047418</td>\n",
       "      <td>0.244342</td>\n",
       "      <td>0.000318</td>\n",
       "      <td>0.018024</td>\n",
       "      <td>0.310791</td>\n",
       "      <td>0.000425</td>\n",
       "      <td>0.022202</td>\n",
       "      <td>0.000997</td>\n",
       "      <td>0.339970</td>\n",
       "      <td>0.000301</td>\n",
       "      <td>0.003665</td>\n",
       "      <td>0.243434</td>\n",
       "    </tr>\n",
       "    <tr>\n",
       "      <th>3492887</th>\n",
       "      <td>130787974</td>\n",
       "      <td>0.000639</td>\n",
       "      <td>0.017662</td>\n",
       "      <td>0.000165</td>\n",
       "      <td>0.890689</td>\n",
       "      <td>0.021799</td>\n",
       "      <td>0.000384</td>\n",
       "      <td>0.054280</td>\n",
       "      <td>0.000067</td>\n",
       "      <td>0.000199</td>\n",
       "      <td>0.001176</td>\n",
       "      <td>0.000421</td>\n",
       "      <td>0.010705</td>\n",
       "      <td>0.000263</td>\n",
       "      <td>0.001549</td>\n",
       "      <td>0.080870</td>\n",
       "    </tr>\n",
       "    <tr>\n",
       "      <th>3492888</th>\n",
       "      <td>130788053</td>\n",
       "      <td>0.000092</td>\n",
       "      <td>0.711806</td>\n",
       "      <td>0.000147</td>\n",
       "      <td>0.133919</td>\n",
       "      <td>0.004172</td>\n",
       "      <td>0.000175</td>\n",
       "      <td>0.009691</td>\n",
       "      <td>0.103313</td>\n",
       "      <td>0.000512</td>\n",
       "      <td>0.000507</td>\n",
       "      <td>0.000317</td>\n",
       "      <td>0.034184</td>\n",
       "      <td>0.000151</td>\n",
       "      <td>0.001013</td>\n",
       "      <td>0.163877</td>\n",
       "    </tr>\n",
       "    <tr>\n",
       "      <th>3492889</th>\n",
       "      <td>130788054</td>\n",
       "      <td>0.000275</td>\n",
       "      <td>0.098496</td>\n",
       "      <td>0.000372</td>\n",
       "      <td>0.457195</td>\n",
       "      <td>0.119971</td>\n",
       "      <td>0.000783</td>\n",
       "      <td>0.053355</td>\n",
       "      <td>0.000475</td>\n",
       "      <td>0.001065</td>\n",
       "      <td>0.021815</td>\n",
       "      <td>0.002077</td>\n",
       "      <td>0.242366</td>\n",
       "      <td>0.000808</td>\n",
       "      <td>0.000948</td>\n",
       "      <td>0.226374</td>\n",
       "    </tr>\n",
       "  </tbody>\n",
       "</table>\n",
       "</div>"
      ],
      "text/plain": [
       "         object_id   class_6  class_15  class_16  class_42  class_52  \\\n",
       "3492885  130787966  0.000228  0.353038  0.000424  0.195240  0.137085   \n",
       "3492886  130787971  0.000237  0.011051  0.000257  0.047418  0.244342   \n",
       "3492887  130787974  0.000639  0.017662  0.000165  0.890689  0.021799   \n",
       "3492888  130788053  0.000092  0.711806  0.000147  0.133919  0.004172   \n",
       "3492889  130788054  0.000275  0.098496  0.000372  0.457195  0.119971   \n",
       "\n",
       "         class_53  class_62  class_64  class_65  class_67  class_88  class_90  \\\n",
       "3492885  0.000486  0.099774  0.000261  0.002038  0.016563  0.002586  0.191285   \n",
       "3492886  0.000318  0.018024  0.310791  0.000425  0.022202  0.000997  0.339970   \n",
       "3492887  0.000384  0.054280  0.000067  0.000199  0.001176  0.000421  0.010705   \n",
       "3492888  0.000175  0.009691  0.103313  0.000512  0.000507  0.000317  0.034184   \n",
       "3492889  0.000783  0.053355  0.000475  0.001065  0.021815  0.002077  0.242366   \n",
       "\n",
       "         class_92  class_95  class_99  \n",
       "3492885  0.000327  0.000665  0.245549  \n",
       "3492886  0.000301  0.003665  0.243434  \n",
       "3492887  0.000263  0.001549  0.080870  \n",
       "3492888  0.000151  0.001013  0.163877  \n",
       "3492889  0.000808  0.000948  0.226374  "
      ]
     },
     "execution_count": 12,
     "metadata": {},
     "output_type": "execute_result"
    }
   ],
   "source": [
    "test_ensemble.tail()"
   ]
  },
  {
   "cell_type": "code",
   "execution_count": 13,
   "metadata": {},
   "outputs": [
    {
     "name": "stdout",
     "output_type": "stream",
     "text": [
      "CPU times: user 1min 31s, sys: 1.14 s, total: 1min 32s\n",
      "Wall time: 1min 33s\n"
     ]
    }
   ],
   "source": [
    "%%time\n",
    "test_ensemble.to_csv('test_pred_34.csv',index=False)"
   ]
  },
  {
   "cell_type": "code",
   "execution_count": 14,
   "metadata": {},
   "outputs": [
    {
     "data": {
      "text/plain": [
       "True"
      ]
     },
     "execution_count": 14,
     "metadata": {},
     "output_type": "execute_result"
    }
   ],
   "source": [
    "test_ensemble['object_id'].equals(pred1['object_id'])"
   ]
  },
  {
   "cell_type": "code",
   "execution_count": 15,
   "metadata": {},
   "outputs": [
    {
     "name": "stdout",
     "output_type": "stream",
     "text": [
      "100%|█████████████████████████████████████| 1.06G/1.06G [2:09:45<00:00, 146kB/s]\n",
      "Successfully submitted to PLAsTiCC Astronomical Classification"
     ]
    }
   ],
   "source": [
    "!kaggle competitions submit -c PLAsTiCC-2018 -f test_pred_34.csv -m \"Message\""
   ]
  },
  {
   "cell_type": "code",
   "execution_count": null,
   "metadata": {},
   "outputs": [],
   "source": []
  }
 ],
 "metadata": {
  "kernelspec": {
   "display_name": "Python 3",
   "language": "python",
   "name": "python3"
  },
  "language_info": {
   "codemirror_mode": {
    "name": "ipython",
    "version": 3
   },
   "file_extension": ".py",
   "mimetype": "text/x-python",
   "name": "python",
   "nbconvert_exporter": "python",
   "pygments_lexer": "ipython3",
   "version": "3.6.7"
  }
 },
 "nbformat": 4,
 "nbformat_minor": 2
}
