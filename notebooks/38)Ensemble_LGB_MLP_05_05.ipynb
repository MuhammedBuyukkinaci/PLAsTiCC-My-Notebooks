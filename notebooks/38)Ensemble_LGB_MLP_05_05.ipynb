{
 "cells": [
  {
   "cell_type": "code",
   "execution_count": 1,
   "metadata": {},
   "outputs": [],
   "source": [
    "import numpy as np # linear algebra\n",
    "import pandas as pd # data processing, CSV file I/O (e.g. pd.read_csv)\n",
    "from sklearn.metrics import log_loss\n",
    "from sklearn.model_selection import StratifiedKFold\n",
    "import gc\n",
    "import os\n",
    "import matplotlib.pyplot as plt\n",
    "import seaborn as sns \n",
    "import lightgbm as lgb\n",
    "import itertools\n",
    "import pickle, gzip\n",
    "import glob\n",
    "from sklearn.preprocessing import StandardScaler\n",
    "from tsfresh.feature_extraction import extract_features\n",
    "np.warnings.filterwarnings('ignore')\n",
    "import dask.dataframe as dd\n",
    "import missingno as msno\n",
    "from pandasql import sqldf\n",
    "from sklearn.metrics import mean_squared_error\n",
    "from math import sqrt\n",
    "from sklearn.model_selection import KFold\n",
    "import matplotlib.gridspec as gridspec\n",
    "from sklearn import preprocessing\n",
    "from imblearn.over_sampling import SMOTE\n",
    "from sklearn.model_selection import train_test_split"
   ]
  },
  {
   "cell_type": "code",
   "execution_count": 2,
   "metadata": {},
   "outputs": [],
   "source": [
    "#Always seed the randomness of this universe\n",
    "np.random.seed(51)"
   ]
  },
  {
   "cell_type": "code",
   "execution_count": 3,
   "metadata": {},
   "outputs": [
    {
     "name": "stdout",
     "output_type": "stream",
     "text": [
      "(3492890, 16) (3492890, 16)\n",
      "CPU times: user 33.7 s, sys: 3.26 s, total: 36.9 s\n",
      "Wall time: 7.81 s\n"
     ]
    }
   ],
   "source": [
    "%%time\n",
    "pred1 = dd.read_csv('test_pred_20.csv')\n",
    "pred2 = dd.read_csv('test_pred_22.csv')\n",
    "pred1 = pred1.compute()\n",
    "pred2 = pred2.compute()\n",
    "print(pred1.shape,pred2.shape)"
   ]
  },
  {
   "cell_type": "code",
   "execution_count": 4,
   "metadata": {},
   "outputs": [
    {
     "name": "stdout",
     "output_type": "stream",
     "text": [
      "CPU times: user 201 ms, sys: 269 ms, total: 470 ms\n",
      "Wall time: 468 ms\n"
     ]
    }
   ],
   "source": [
    "%%time\n",
    "pred1 = pred1.reset_index(drop=True)\n",
    "pred2 = pred2.reset_index(drop=True)"
   ]
  },
  {
   "cell_type": "code",
   "execution_count": 5,
   "metadata": {},
   "outputs": [
    {
     "data": {
      "text/plain": [
       "True"
      ]
     },
     "execution_count": 5,
     "metadata": {},
     "output_type": "execute_result"
    }
   ],
   "source": [
    "pred1['object_id'].equals(pred2['object_id'])"
   ]
  },
  {
   "cell_type": "code",
   "execution_count": 6,
   "metadata": {},
   "outputs": [
    {
     "name": "stdout",
     "output_type": "stream",
     "text": [
      "CPU times: user 273 µs, sys: 35 µs, total: 308 µs\n",
      "Wall time: 312 µs\n"
     ]
    }
   ],
   "source": [
    "%%time\n",
    "test_ensemble = pd.DataFrame()"
   ]
  },
  {
   "cell_type": "code",
   "execution_count": 7,
   "metadata": {},
   "outputs": [],
   "source": [
    "coef_lgb = 0.5\n",
    "coef_mlp = 0.5"
   ]
  },
  {
   "cell_type": "code",
   "execution_count": 8,
   "metadata": {},
   "outputs": [
    {
     "name": "stdout",
     "output_type": "stream",
     "text": [
      "CPU times: user 370 ms, sys: 609 ms, total: 979 ms\n",
      "Wall time: 977 ms\n"
     ]
    }
   ],
   "source": [
    "%%time\n",
    "test_ensemble = pred1.iloc[:,1:]*coef_lgb + pred2.iloc[:,1:]*coef_mlp"
   ]
  },
  {
   "cell_type": "code",
   "execution_count": 9,
   "metadata": {},
   "outputs": [
    {
     "name": "stdout",
     "output_type": "stream",
     "text": [
      "(3492890, 15)\n"
     ]
    }
   ],
   "source": [
    "print(test_ensemble.shape)"
   ]
  },
  {
   "cell_type": "code",
   "execution_count": 10,
   "metadata": {},
   "outputs": [],
   "source": [
    "test_ensemble['object_id'] = pred1['object_id']"
   ]
  },
  {
   "cell_type": "code",
   "execution_count": 11,
   "metadata": {},
   "outputs": [
    {
     "name": "stdout",
     "output_type": "stream",
     "text": [
      "(3492890, 16)\n"
     ]
    }
   ],
   "source": [
    "print(test_ensemble.shape)"
   ]
  },
  {
   "cell_type": "code",
   "execution_count": 12,
   "metadata": {},
   "outputs": [
    {
     "data": {
      "text/html": [
       "<div>\n",
       "<style scoped>\n",
       "    .dataframe tbody tr th:only-of-type {\n",
       "        vertical-align: middle;\n",
       "    }\n",
       "\n",
       "    .dataframe tbody tr th {\n",
       "        vertical-align: top;\n",
       "    }\n",
       "\n",
       "    .dataframe thead th {\n",
       "        text-align: right;\n",
       "    }\n",
       "</style>\n",
       "<table border=\"1\" class=\"dataframe\">\n",
       "  <thead>\n",
       "    <tr style=\"text-align: right;\">\n",
       "      <th></th>\n",
       "      <th>class_6</th>\n",
       "      <th>class_15</th>\n",
       "      <th>class_16</th>\n",
       "      <th>class_42</th>\n",
       "      <th>class_52</th>\n",
       "      <th>class_53</th>\n",
       "      <th>class_62</th>\n",
       "      <th>class_64</th>\n",
       "      <th>class_65</th>\n",
       "      <th>class_67</th>\n",
       "      <th>class_88</th>\n",
       "      <th>class_90</th>\n",
       "      <th>class_92</th>\n",
       "      <th>class_95</th>\n",
       "      <th>class_99</th>\n",
       "      <th>object_id</th>\n",
       "    </tr>\n",
       "  </thead>\n",
       "  <tbody>\n",
       "    <tr>\n",
       "      <th>3492885</th>\n",
       "      <td>0.000111</td>\n",
       "      <td>0.307268</td>\n",
       "      <td>0.000201</td>\n",
       "      <td>0.257094</td>\n",
       "      <td>0.195776</td>\n",
       "      <td>0.000226</td>\n",
       "      <td>0.058261</td>\n",
       "      <td>0.000083</td>\n",
       "      <td>0.001280</td>\n",
       "      <td>0.010093</td>\n",
       "      <td>0.003744</td>\n",
       "      <td>0.165445</td>\n",
       "      <td>0.000109</td>\n",
       "      <td>0.000309</td>\n",
       "      <td>0.246052</td>\n",
       "      <td>130787966</td>\n",
       "    </tr>\n",
       "    <tr>\n",
       "      <th>3492886</th>\n",
       "      <td>0.000158</td>\n",
       "      <td>0.016633</td>\n",
       "      <td>0.000169</td>\n",
       "      <td>0.075519</td>\n",
       "      <td>0.214118</td>\n",
       "      <td>0.000225</td>\n",
       "      <td>0.017595</td>\n",
       "      <td>0.226793</td>\n",
       "      <td>0.000347</td>\n",
       "      <td>0.033160</td>\n",
       "      <td>0.000673</td>\n",
       "      <td>0.410798</td>\n",
       "      <td>0.000161</td>\n",
       "      <td>0.003651</td>\n",
       "      <td>0.226427</td>\n",
       "      <td>130787971</td>\n",
       "    </tr>\n",
       "    <tr>\n",
       "      <th>3492887</th>\n",
       "      <td>0.000545</td>\n",
       "      <td>0.025822</td>\n",
       "      <td>0.000116</td>\n",
       "      <td>0.818583</td>\n",
       "      <td>0.015634</td>\n",
       "      <td>0.000317</td>\n",
       "      <td>0.120560</td>\n",
       "      <td>0.000038</td>\n",
       "      <td>0.000176</td>\n",
       "      <td>0.001060</td>\n",
       "      <td>0.000456</td>\n",
       "      <td>0.015168</td>\n",
       "      <td>0.000146</td>\n",
       "      <td>0.001380</td>\n",
       "      <td>0.121208</td>\n",
       "      <td>130787974</td>\n",
       "    </tr>\n",
       "    <tr>\n",
       "      <th>3492888</th>\n",
       "      <td>0.000043</td>\n",
       "      <td>0.781937</td>\n",
       "      <td>0.000066</td>\n",
       "      <td>0.112278</td>\n",
       "      <td>0.005420</td>\n",
       "      <td>0.000063</td>\n",
       "      <td>0.009198</td>\n",
       "      <td>0.053842</td>\n",
       "      <td>0.000205</td>\n",
       "      <td>0.000444</td>\n",
       "      <td>0.000112</td>\n",
       "      <td>0.035626</td>\n",
       "      <td>0.000082</td>\n",
       "      <td>0.000685</td>\n",
       "      <td>0.137913</td>\n",
       "      <td>130788053</td>\n",
       "    </tr>\n",
       "    <tr>\n",
       "      <th>3492889</th>\n",
       "      <td>0.000087</td>\n",
       "      <td>0.054270</td>\n",
       "      <td>0.000093</td>\n",
       "      <td>0.377521</td>\n",
       "      <td>0.265302</td>\n",
       "      <td>0.000188</td>\n",
       "      <td>0.042212</td>\n",
       "      <td>0.000241</td>\n",
       "      <td>0.000232</td>\n",
       "      <td>0.008590</td>\n",
       "      <td>0.001412</td>\n",
       "      <td>0.249463</td>\n",
       "      <td>0.000100</td>\n",
       "      <td>0.000288</td>\n",
       "      <td>0.229221</td>\n",
       "      <td>130788054</td>\n",
       "    </tr>\n",
       "  </tbody>\n",
       "</table>\n",
       "</div>"
      ],
      "text/plain": [
       "          class_6  class_15  class_16  class_42  class_52  class_53  class_62  \\\n",
       "3492885  0.000111  0.307268  0.000201  0.257094  0.195776  0.000226  0.058261   \n",
       "3492886  0.000158  0.016633  0.000169  0.075519  0.214118  0.000225  0.017595   \n",
       "3492887  0.000545  0.025822  0.000116  0.818583  0.015634  0.000317  0.120560   \n",
       "3492888  0.000043  0.781937  0.000066  0.112278  0.005420  0.000063  0.009198   \n",
       "3492889  0.000087  0.054270  0.000093  0.377521  0.265302  0.000188  0.042212   \n",
       "\n",
       "         class_64  class_65  class_67  class_88  class_90  class_92  class_95  \\\n",
       "3492885  0.000083  0.001280  0.010093  0.003744  0.165445  0.000109  0.000309   \n",
       "3492886  0.226793  0.000347  0.033160  0.000673  0.410798  0.000161  0.003651   \n",
       "3492887  0.000038  0.000176  0.001060  0.000456  0.015168  0.000146  0.001380   \n",
       "3492888  0.053842  0.000205  0.000444  0.000112  0.035626  0.000082  0.000685   \n",
       "3492889  0.000241  0.000232  0.008590  0.001412  0.249463  0.000100  0.000288   \n",
       "\n",
       "         class_99  object_id  \n",
       "3492885  0.246052  130787966  \n",
       "3492886  0.226427  130787971  \n",
       "3492887  0.121208  130787974  \n",
       "3492888  0.137913  130788053  \n",
       "3492889  0.229221  130788054  "
      ]
     },
     "execution_count": 12,
     "metadata": {},
     "output_type": "execute_result"
    }
   ],
   "source": [
    "test_ensemble.tail()"
   ]
  },
  {
   "cell_type": "code",
   "execution_count": 13,
   "metadata": {},
   "outputs": [],
   "source": [
    "test_ensemble = test_ensemble[list(pred1.columns)]"
   ]
  },
  {
   "cell_type": "code",
   "execution_count": 14,
   "metadata": {},
   "outputs": [
    {
     "data": {
      "text/html": [
       "<div>\n",
       "<style scoped>\n",
       "    .dataframe tbody tr th:only-of-type {\n",
       "        vertical-align: middle;\n",
       "    }\n",
       "\n",
       "    .dataframe tbody tr th {\n",
       "        vertical-align: top;\n",
       "    }\n",
       "\n",
       "    .dataframe thead th {\n",
       "        text-align: right;\n",
       "    }\n",
       "</style>\n",
       "<table border=\"1\" class=\"dataframe\">\n",
       "  <thead>\n",
       "    <tr style=\"text-align: right;\">\n",
       "      <th></th>\n",
       "      <th>object_id</th>\n",
       "      <th>class_6</th>\n",
       "      <th>class_15</th>\n",
       "      <th>class_16</th>\n",
       "      <th>class_42</th>\n",
       "      <th>class_52</th>\n",
       "      <th>class_53</th>\n",
       "      <th>class_62</th>\n",
       "      <th>class_64</th>\n",
       "      <th>class_65</th>\n",
       "      <th>class_67</th>\n",
       "      <th>class_88</th>\n",
       "      <th>class_90</th>\n",
       "      <th>class_92</th>\n",
       "      <th>class_95</th>\n",
       "      <th>class_99</th>\n",
       "    </tr>\n",
       "  </thead>\n",
       "  <tbody>\n",
       "    <tr>\n",
       "      <th>3492885</th>\n",
       "      <td>130787966</td>\n",
       "      <td>0.000111</td>\n",
       "      <td>0.307268</td>\n",
       "      <td>0.000201</td>\n",
       "      <td>0.257094</td>\n",
       "      <td>0.195776</td>\n",
       "      <td>0.000226</td>\n",
       "      <td>0.058261</td>\n",
       "      <td>0.000083</td>\n",
       "      <td>0.001280</td>\n",
       "      <td>0.010093</td>\n",
       "      <td>0.003744</td>\n",
       "      <td>0.165445</td>\n",
       "      <td>0.000109</td>\n",
       "      <td>0.000309</td>\n",
       "      <td>0.246052</td>\n",
       "    </tr>\n",
       "    <tr>\n",
       "      <th>3492886</th>\n",
       "      <td>130787971</td>\n",
       "      <td>0.000158</td>\n",
       "      <td>0.016633</td>\n",
       "      <td>0.000169</td>\n",
       "      <td>0.075519</td>\n",
       "      <td>0.214118</td>\n",
       "      <td>0.000225</td>\n",
       "      <td>0.017595</td>\n",
       "      <td>0.226793</td>\n",
       "      <td>0.000347</td>\n",
       "      <td>0.033160</td>\n",
       "      <td>0.000673</td>\n",
       "      <td>0.410798</td>\n",
       "      <td>0.000161</td>\n",
       "      <td>0.003651</td>\n",
       "      <td>0.226427</td>\n",
       "    </tr>\n",
       "    <tr>\n",
       "      <th>3492887</th>\n",
       "      <td>130787974</td>\n",
       "      <td>0.000545</td>\n",
       "      <td>0.025822</td>\n",
       "      <td>0.000116</td>\n",
       "      <td>0.818583</td>\n",
       "      <td>0.015634</td>\n",
       "      <td>0.000317</td>\n",
       "      <td>0.120560</td>\n",
       "      <td>0.000038</td>\n",
       "      <td>0.000176</td>\n",
       "      <td>0.001060</td>\n",
       "      <td>0.000456</td>\n",
       "      <td>0.015168</td>\n",
       "      <td>0.000146</td>\n",
       "      <td>0.001380</td>\n",
       "      <td>0.121208</td>\n",
       "    </tr>\n",
       "    <tr>\n",
       "      <th>3492888</th>\n",
       "      <td>130788053</td>\n",
       "      <td>0.000043</td>\n",
       "      <td>0.781937</td>\n",
       "      <td>0.000066</td>\n",
       "      <td>0.112278</td>\n",
       "      <td>0.005420</td>\n",
       "      <td>0.000063</td>\n",
       "      <td>0.009198</td>\n",
       "      <td>0.053842</td>\n",
       "      <td>0.000205</td>\n",
       "      <td>0.000444</td>\n",
       "      <td>0.000112</td>\n",
       "      <td>0.035626</td>\n",
       "      <td>0.000082</td>\n",
       "      <td>0.000685</td>\n",
       "      <td>0.137913</td>\n",
       "    </tr>\n",
       "    <tr>\n",
       "      <th>3492889</th>\n",
       "      <td>130788054</td>\n",
       "      <td>0.000087</td>\n",
       "      <td>0.054270</td>\n",
       "      <td>0.000093</td>\n",
       "      <td>0.377521</td>\n",
       "      <td>0.265302</td>\n",
       "      <td>0.000188</td>\n",
       "      <td>0.042212</td>\n",
       "      <td>0.000241</td>\n",
       "      <td>0.000232</td>\n",
       "      <td>0.008590</td>\n",
       "      <td>0.001412</td>\n",
       "      <td>0.249463</td>\n",
       "      <td>0.000100</td>\n",
       "      <td>0.000288</td>\n",
       "      <td>0.229221</td>\n",
       "    </tr>\n",
       "  </tbody>\n",
       "</table>\n",
       "</div>"
      ],
      "text/plain": [
       "         object_id   class_6  class_15  class_16  class_42  class_52  \\\n",
       "3492885  130787966  0.000111  0.307268  0.000201  0.257094  0.195776   \n",
       "3492886  130787971  0.000158  0.016633  0.000169  0.075519  0.214118   \n",
       "3492887  130787974  0.000545  0.025822  0.000116  0.818583  0.015634   \n",
       "3492888  130788053  0.000043  0.781937  0.000066  0.112278  0.005420   \n",
       "3492889  130788054  0.000087  0.054270  0.000093  0.377521  0.265302   \n",
       "\n",
       "         class_53  class_62  class_64  class_65  class_67  class_88  class_90  \\\n",
       "3492885  0.000226  0.058261  0.000083  0.001280  0.010093  0.003744  0.165445   \n",
       "3492886  0.000225  0.017595  0.226793  0.000347  0.033160  0.000673  0.410798   \n",
       "3492887  0.000317  0.120560  0.000038  0.000176  0.001060  0.000456  0.015168   \n",
       "3492888  0.000063  0.009198  0.053842  0.000205  0.000444  0.000112  0.035626   \n",
       "3492889  0.000188  0.042212  0.000241  0.000232  0.008590  0.001412  0.249463   \n",
       "\n",
       "         class_92  class_95  class_99  \n",
       "3492885  0.000109  0.000309  0.246052  \n",
       "3492886  0.000161  0.003651  0.226427  \n",
       "3492887  0.000146  0.001380  0.121208  \n",
       "3492888  0.000082  0.000685  0.137913  \n",
       "3492889  0.000100  0.000288  0.229221  "
      ]
     },
     "execution_count": 14,
     "metadata": {},
     "output_type": "execute_result"
    }
   ],
   "source": [
    "test_ensemble.tail()"
   ]
  },
  {
   "cell_type": "code",
   "execution_count": 15,
   "metadata": {},
   "outputs": [
    {
     "data": {
      "text/plain": [
       "True"
      ]
     },
     "execution_count": 15,
     "metadata": {},
     "output_type": "execute_result"
    }
   ],
   "source": [
    "test_ensemble['object_id'].equals(pred1['object_id'])"
   ]
  },
  {
   "cell_type": "code",
   "execution_count": 16,
   "metadata": {},
   "outputs": [
    {
     "name": "stdout",
     "output_type": "stream",
     "text": [
      "CPU times: user 1min 32s, sys: 1.37 s, total: 1min 33s\n",
      "Wall time: 1min 34s\n"
     ]
    }
   ],
   "source": [
    "%%time\n",
    "test_ensemble.to_csv('test_pred_23.csv',index=False)"
   ]
  },
  {
   "cell_type": "code",
   "execution_count": 17,
   "metadata": {},
   "outputs": [
    {
     "name": "stdout",
     "output_type": "stream",
     "text": [
      "100%|█████████████████████████████████████| 1.06G/1.06G [2:37:51<00:00, 121kB/s]\n",
      "Successfully submitted to PLAsTiCC Astronomical Classification"
     ]
    }
   ],
   "source": [
    "!kaggle competitions submit -c PLAsTiCC-2018 -f test_pred_23.csv -m \"Message\""
   ]
  }
 ],
 "metadata": {
  "kernelspec": {
   "display_name": "Python 3",
   "language": "python",
   "name": "python3"
  },
  "language_info": {
   "codemirror_mode": {
    "name": "ipython",
    "version": 3
   },
   "file_extension": ".py",
   "mimetype": "text/x-python",
   "name": "python",
   "nbconvert_exporter": "python",
   "pygments_lexer": "ipython3",
   "version": "3.6.7"
  }
 },
 "nbformat": 4,
 "nbformat_minor": 2
}
