{
 "cells": [
  {
   "cell_type": "code",
   "execution_count": 1,
   "metadata": {},
   "outputs": [],
   "source": [
    "import numpy as np # linear algebra\n",
    "import pandas as pd # data processing, CSV file I/O (e.g. pd.read_csv)\n",
    "from sklearn.metrics import log_loss\n",
    "from sklearn.model_selection import StratifiedKFold\n",
    "import gc\n",
    "import os\n",
    "import matplotlib.pyplot as plt\n",
    "import seaborn as sns \n",
    "import lightgbm as lgb\n",
    "import itertools\n",
    "import pickle, gzip\n",
    "import glob\n",
    "from sklearn.preprocessing import StandardScaler\n",
    "from tsfresh.feature_extraction import extract_features\n",
    "np.warnings.filterwarnings('ignore')\n",
    "import dask.dataframe as dd\n",
    "import missingno as msno\n",
    "from pandasql import sqldf\n",
    "from sklearn.metrics import mean_squared_error\n",
    "from math import sqrt\n",
    "from sklearn.model_selection import KFold\n",
    "import matplotlib.gridspec as gridspec\n",
    "from sklearn import preprocessing\n",
    "from imblearn.over_sampling import SMOTE\n",
    "from sklearn.model_selection import train_test_split"
   ]
  },
  {
   "cell_type": "code",
   "execution_count": 2,
   "metadata": {},
   "outputs": [],
   "source": [
    "#Always seed the randomness of this universe\n",
    "np.random.seed(51)"
   ]
  },
  {
   "cell_type": "code",
   "execution_count": 3,
   "metadata": {},
   "outputs": [
    {
     "name": "stdout",
     "output_type": "stream",
     "text": [
      "(3492890, 16) (3492890, 16)\n",
      "CPU times: user 34 s, sys: 3.26 s, total: 37.3 s\n",
      "Wall time: 9.37 s\n"
     ]
    }
   ],
   "source": [
    "%%time\n",
    "pred1 = dd.read_csv('test_pred_27.csv')\n",
    "pred2 = dd.read_csv('test_pred_28.csv')\n",
    "pred1 = pred1.compute()\n",
    "pred2 = pred2.compute()\n",
    "print(pred1.shape,pred2.shape)"
   ]
  },
  {
   "cell_type": "code",
   "execution_count": 4,
   "metadata": {},
   "outputs": [
    {
     "name": "stdout",
     "output_type": "stream",
     "text": [
      "CPU times: user 223 ms, sys: 403 ms, total: 626 ms\n",
      "Wall time: 629 ms\n"
     ]
    }
   ],
   "source": [
    "%%time\n",
    "pred1 = pred1.reset_index(drop=True)\n",
    "pred2 = pred2.reset_index(drop=True)"
   ]
  },
  {
   "cell_type": "code",
   "execution_count": 5,
   "metadata": {},
   "outputs": [
    {
     "data": {
      "text/plain": [
       "True"
      ]
     },
     "execution_count": 5,
     "metadata": {},
     "output_type": "execute_result"
    }
   ],
   "source": [
    "pred1['object_id'].equals(pred2['object_id'])"
   ]
  },
  {
   "cell_type": "code",
   "execution_count": 6,
   "metadata": {},
   "outputs": [
    {
     "name": "stdout",
     "output_type": "stream",
     "text": [
      "CPU times: user 395 µs, sys: 50 µs, total: 445 µs\n",
      "Wall time: 451 µs\n"
     ]
    }
   ],
   "source": [
    "%%time\n",
    "test_ensemble = pd.DataFrame()"
   ]
  },
  {
   "cell_type": "code",
   "execution_count": 7,
   "metadata": {},
   "outputs": [],
   "source": [
    "coef_lgb = 0.8\n",
    "coef_mlp = 0.2"
   ]
  },
  {
   "cell_type": "code",
   "execution_count": 8,
   "metadata": {},
   "outputs": [
    {
     "name": "stdout",
     "output_type": "stream",
     "text": [
      "CPU times: user 369 ms, sys: 790 ms, total: 1.16 s\n",
      "Wall time: 1.17 s\n"
     ]
    }
   ],
   "source": [
    "%%time\n",
    "test_ensemble = pred1.iloc[:,1:]*coef_lgb + pred2.iloc[:,1:]*coef_mlp"
   ]
  },
  {
   "cell_type": "code",
   "execution_count": 9,
   "metadata": {},
   "outputs": [
    {
     "name": "stdout",
     "output_type": "stream",
     "text": [
      "(3492890, 15)\n"
     ]
    }
   ],
   "source": [
    "print(test_ensemble.shape)"
   ]
  },
  {
   "cell_type": "code",
   "execution_count": 10,
   "metadata": {},
   "outputs": [
    {
     "name": "stdout",
     "output_type": "stream",
     "text": [
      "(3492890, 16)\n"
     ]
    }
   ],
   "source": [
    "test_ensemble['object_id'] = pred1['object_id']\n",
    "print(test_ensemble.shape)"
   ]
  },
  {
   "cell_type": "code",
   "execution_count": 11,
   "metadata": {},
   "outputs": [],
   "source": [
    "test_ensemble = test_ensemble[list(pred1.columns)]"
   ]
  },
  {
   "cell_type": "code",
   "execution_count": 12,
   "metadata": {},
   "outputs": [
    {
     "data": {
      "text/html": [
       "<div>\n",
       "<style scoped>\n",
       "    .dataframe tbody tr th:only-of-type {\n",
       "        vertical-align: middle;\n",
       "    }\n",
       "\n",
       "    .dataframe tbody tr th {\n",
       "        vertical-align: top;\n",
       "    }\n",
       "\n",
       "    .dataframe thead th {\n",
       "        text-align: right;\n",
       "    }\n",
       "</style>\n",
       "<table border=\"1\" class=\"dataframe\">\n",
       "  <thead>\n",
       "    <tr style=\"text-align: right;\">\n",
       "      <th></th>\n",
       "      <th>object_id</th>\n",
       "      <th>class_6</th>\n",
       "      <th>class_15</th>\n",
       "      <th>class_16</th>\n",
       "      <th>class_42</th>\n",
       "      <th>class_52</th>\n",
       "      <th>class_53</th>\n",
       "      <th>class_62</th>\n",
       "      <th>class_64</th>\n",
       "      <th>class_65</th>\n",
       "      <th>class_67</th>\n",
       "      <th>class_88</th>\n",
       "      <th>class_90</th>\n",
       "      <th>class_92</th>\n",
       "      <th>class_95</th>\n",
       "      <th>class_99</th>\n",
       "    </tr>\n",
       "  </thead>\n",
       "  <tbody>\n",
       "    <tr>\n",
       "      <th>3492885</th>\n",
       "      <td>130787966</td>\n",
       "      <td>0.000260</td>\n",
       "      <td>0.319900</td>\n",
       "      <td>0.000442</td>\n",
       "      <td>0.211384</td>\n",
       "      <td>0.165349</td>\n",
       "      <td>0.000498</td>\n",
       "      <td>0.118727</td>\n",
       "      <td>0.000217</td>\n",
       "      <td>0.002128</td>\n",
       "      <td>0.019701</td>\n",
       "      <td>0.002872</td>\n",
       "      <td>0.157412</td>\n",
       "      <td>0.000333</td>\n",
       "      <td>0.000777</td>\n",
       "      <td>0.247016</td>\n",
       "    </tr>\n",
       "    <tr>\n",
       "      <th>3492886</th>\n",
       "      <td>130787971</td>\n",
       "      <td>0.000190</td>\n",
       "      <td>0.011871</td>\n",
       "      <td>0.000255</td>\n",
       "      <td>0.050266</td>\n",
       "      <td>0.198113</td>\n",
       "      <td>0.000295</td>\n",
       "      <td>0.019613</td>\n",
       "      <td>0.349657</td>\n",
       "      <td>0.000475</td>\n",
       "      <td>0.027096</td>\n",
       "      <td>0.000895</td>\n",
       "      <td>0.338094</td>\n",
       "      <td>0.000283</td>\n",
       "      <td>0.002898</td>\n",
       "      <td>0.239185</td>\n",
       "    </tr>\n",
       "    <tr>\n",
       "      <th>3492887</th>\n",
       "      <td>130787974</td>\n",
       "      <td>0.000597</td>\n",
       "      <td>0.020802</td>\n",
       "      <td>0.000146</td>\n",
       "      <td>0.856617</td>\n",
       "      <td>0.034148</td>\n",
       "      <td>0.000317</td>\n",
       "      <td>0.068468</td>\n",
       "      <td>0.000054</td>\n",
       "      <td>0.000165</td>\n",
       "      <td>0.001077</td>\n",
       "      <td>0.000448</td>\n",
       "      <td>0.014393</td>\n",
       "      <td>0.000201</td>\n",
       "      <td>0.002568</td>\n",
       "      <td>0.093202</td>\n",
       "    </tr>\n",
       "    <tr>\n",
       "      <th>3492888</th>\n",
       "      <td>130788053</td>\n",
       "      <td>0.000076</td>\n",
       "      <td>0.703793</td>\n",
       "      <td>0.000152</td>\n",
       "      <td>0.138461</td>\n",
       "      <td>0.005300</td>\n",
       "      <td>0.000154</td>\n",
       "      <td>0.010002</td>\n",
       "      <td>0.101810</td>\n",
       "      <td>0.000470</td>\n",
       "      <td>0.000332</td>\n",
       "      <td>0.000199</td>\n",
       "      <td>0.038139</td>\n",
       "      <td>0.000164</td>\n",
       "      <td>0.000948</td>\n",
       "      <td>0.170398</td>\n",
       "    </tr>\n",
       "    <tr>\n",
       "      <th>3492889</th>\n",
       "      <td>130788054</td>\n",
       "      <td>0.000230</td>\n",
       "      <td>0.097277</td>\n",
       "      <td>0.000340</td>\n",
       "      <td>0.375996</td>\n",
       "      <td>0.207893</td>\n",
       "      <td>0.000515</td>\n",
       "      <td>0.053825</td>\n",
       "      <td>0.000138</td>\n",
       "      <td>0.000718</td>\n",
       "      <td>0.018535</td>\n",
       "      <td>0.000935</td>\n",
       "      <td>0.242125</td>\n",
       "      <td>0.000685</td>\n",
       "      <td>0.000788</td>\n",
       "      <td>0.237045</td>\n",
       "    </tr>\n",
       "  </tbody>\n",
       "</table>\n",
       "</div>"
      ],
      "text/plain": [
       "         object_id   class_6  class_15  class_16  class_42  class_52  \\\n",
       "3492885  130787966  0.000260  0.319900  0.000442  0.211384  0.165349   \n",
       "3492886  130787971  0.000190  0.011871  0.000255  0.050266  0.198113   \n",
       "3492887  130787974  0.000597  0.020802  0.000146  0.856617  0.034148   \n",
       "3492888  130788053  0.000076  0.703793  0.000152  0.138461  0.005300   \n",
       "3492889  130788054  0.000230  0.097277  0.000340  0.375996  0.207893   \n",
       "\n",
       "         class_53  class_62  class_64  class_65  class_67  class_88  class_90  \\\n",
       "3492885  0.000498  0.118727  0.000217  0.002128  0.019701  0.002872  0.157412   \n",
       "3492886  0.000295  0.019613  0.349657  0.000475  0.027096  0.000895  0.338094   \n",
       "3492887  0.000317  0.068468  0.000054  0.000165  0.001077  0.000448  0.014393   \n",
       "3492888  0.000154  0.010002  0.101810  0.000470  0.000332  0.000199  0.038139   \n",
       "3492889  0.000515  0.053825  0.000138  0.000718  0.018535  0.000935  0.242125   \n",
       "\n",
       "         class_92  class_95  class_99  \n",
       "3492885  0.000333  0.000777  0.247016  \n",
       "3492886  0.000283  0.002898  0.239185  \n",
       "3492887  0.000201  0.002568  0.093202  \n",
       "3492888  0.000164  0.000948  0.170398  \n",
       "3492889  0.000685  0.000788  0.237045  "
      ]
     },
     "execution_count": 12,
     "metadata": {},
     "output_type": "execute_result"
    }
   ],
   "source": [
    "test_ensemble.tail()"
   ]
  },
  {
   "cell_type": "code",
   "execution_count": 13,
   "metadata": {},
   "outputs": [
    {
     "name": "stdout",
     "output_type": "stream",
     "text": [
      "CPU times: user 1min 31s, sys: 1.32 s, total: 1min 32s\n",
      "Wall time: 1min 33s\n"
     ]
    }
   ],
   "source": [
    "%%time\n",
    "test_ensemble.to_csv('test_pred_30.csv',index=False)"
   ]
  },
  {
   "cell_type": "code",
   "execution_count": 14,
   "metadata": {},
   "outputs": [
    {
     "data": {
      "text/plain": [
       "True"
      ]
     },
     "execution_count": 14,
     "metadata": {},
     "output_type": "execute_result"
    }
   ],
   "source": [
    "test_ensemble['object_id'].equals(pred1['object_id'])"
   ]
  },
  {
   "cell_type": "code",
   "execution_count": 15,
   "metadata": {},
   "outputs": [
    {
     "name": "stdout",
     "output_type": "stream",
     "text": [
      "100%|█████████████████████████████████████| 1.06G/1.06G [2:53:20<00:00, 110kB/s]\n",
      "Successfully submitted to PLAsTiCC Astronomical Classification"
     ]
    }
   ],
   "source": [
    "!kaggle competitions submit -c PLAsTiCC-2018 -f test_pred_30.csv -m \"Message\""
   ]
  },
  {
   "cell_type": "code",
   "execution_count": null,
   "metadata": {},
   "outputs": [],
   "source": []
  }
 ],
 "metadata": {
  "kernelspec": {
   "display_name": "Python 3",
   "language": "python",
   "name": "python3"
  },
  "language_info": {
   "codemirror_mode": {
    "name": "ipython",
    "version": 3
   },
   "file_extension": ".py",
   "mimetype": "text/x-python",
   "name": "python",
   "nbconvert_exporter": "python",
   "pygments_lexer": "ipython3",
   "version": "3.6.7"
  }
 },
 "nbformat": 4,
 "nbformat_minor": 2
}
