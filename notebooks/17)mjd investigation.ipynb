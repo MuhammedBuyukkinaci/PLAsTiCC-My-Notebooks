{
 "cells": [
  {
   "cell_type": "code",
   "execution_count": 1,
   "metadata": {},
   "outputs": [],
   "source": [
    "import numpy as np # linear algebra\n",
    "import pandas as pd # data processing, CSV file I/O (e.g. pd.read_csv)\n",
    "import os"
   ]
  },
  {
   "cell_type": "code",
   "execution_count": 4,
   "metadata": {},
   "outputs": [],
   "source": [
    "from matplotlib import pyplot as plt\n",
    "%matplotlib inline\n",
    "\n",
    "import seaborn as sns"
   ]
  },
  {
   "cell_type": "code",
   "execution_count": 3,
   "metadata": {},
   "outputs": [],
   "source": [
    "train = pd.read_csv('training_set.csv')\n",
    "train_meta = pd.read_csv('training_set_metadata.csv')\n",
    "train = train.merge(train_meta[['object_id', 'ddf', 'ra', 'decl', 'target']], \n",
    "                    how='left', on='object_id')"
   ]
  },
  {
   "cell_type": "code",
   "execution_count": 5,
   "metadata": {},
   "outputs": [
    {
     "name": "stdout",
     "output_type": "stream",
     "text": [
      "object_id 105869076\n"
     ]
    },
    {
     "data": {
      "image/png": "[encoded data removed]",
      "text/plain": [
       "<Figure size 1080x360 with 1 Axes>"
      ]
     },
     "metadata": {
      "needs_background": "light"
     },
     "output_type": "display_data"
    }
   ],
   "source": [
    "object_id = 105869076\n",
    "print('object_id', object_id)\n",
    "fig, ax = plt.subplots(1, 1, figsize=(15, 5))\n",
    "df = train[train.object_id == object_id]\n",
    "ax.scatter(df.mjd, df.flux, c=df.passband, cmap='rainbow', marker='+')\n",
    "plt.show()"
   ]
  },
  {
   "cell_type": "code",
   "execution_count": 6,
   "metadata": {},
   "outputs": [
    {
     "data": {
      "text/html": [
       "<div>\n",
       "<style scoped>\n",
       "    .dataframe tbody tr th:only-of-type {\n",
       "        vertical-align: middle;\n",
       "    }\n",
       "\n",
       "    .dataframe tbody tr th {\n",
       "        vertical-align: top;\n",
       "    }\n",
       "\n",
       "    .dataframe thead th {\n",
       "        text-align: right;\n",
       "    }\n",
       "</style>\n",
       "<table border=\"1\" class=\"dataframe\">\n",
       "  <thead>\n",
       "    <tr style=\"text-align: right;\">\n",
       "      <th></th>\n",
       "      <th>object_id</th>\n",
       "      <th>mjd</th>\n",
       "      <th>passband</th>\n",
       "      <th>flux</th>\n",
       "      <th>flux_err</th>\n",
       "      <th>detected</th>\n",
       "      <th>ddf</th>\n",
       "      <th>ra</th>\n",
       "      <th>decl</th>\n",
       "      <th>target</th>\n",
       "    </tr>\n",
       "  </thead>\n",
       "  <tbody>\n",
       "    <tr>\n",
       "      <th>0</th>\n",
       "      <td>615</td>\n",
       "      <td>59750.4229</td>\n",
       "      <td>2</td>\n",
       "      <td>-544.810303</td>\n",
       "      <td>3.622952</td>\n",
       "      <td>1</td>\n",
       "      <td>1</td>\n",
       "      <td>349.046051</td>\n",
       "      <td>-61.943836</td>\n",
       "      <td>92</td>\n",
       "    </tr>\n",
       "    <tr>\n",
       "      <th>1</th>\n",
       "      <td>615</td>\n",
       "      <td>59750.4306</td>\n",
       "      <td>1</td>\n",
       "      <td>-816.434326</td>\n",
       "      <td>5.553370</td>\n",
       "      <td>1</td>\n",
       "      <td>1</td>\n",
       "      <td>349.046051</td>\n",
       "      <td>-61.943836</td>\n",
       "      <td>92</td>\n",
       "    </tr>\n",
       "    <tr>\n",
       "      <th>2</th>\n",
       "      <td>615</td>\n",
       "      <td>59750.4383</td>\n",
       "      <td>3</td>\n",
       "      <td>-471.385529</td>\n",
       "      <td>3.801213</td>\n",
       "      <td>1</td>\n",
       "      <td>1</td>\n",
       "      <td>349.046051</td>\n",
       "      <td>-61.943836</td>\n",
       "      <td>92</td>\n",
       "    </tr>\n",
       "    <tr>\n",
       "      <th>3</th>\n",
       "      <td>615</td>\n",
       "      <td>59750.4450</td>\n",
       "      <td>4</td>\n",
       "      <td>-388.984985</td>\n",
       "      <td>11.395031</td>\n",
       "      <td>1</td>\n",
       "      <td>1</td>\n",
       "      <td>349.046051</td>\n",
       "      <td>-61.943836</td>\n",
       "      <td>92</td>\n",
       "    </tr>\n",
       "    <tr>\n",
       "      <th>4</th>\n",
       "      <td>615</td>\n",
       "      <td>59752.4070</td>\n",
       "      <td>2</td>\n",
       "      <td>-681.858887</td>\n",
       "      <td>4.041204</td>\n",
       "      <td>1</td>\n",
       "      <td>1</td>\n",
       "      <td>349.046051</td>\n",
       "      <td>-61.943836</td>\n",
       "      <td>92</td>\n",
       "    </tr>\n",
       "  </tbody>\n",
       "</table>\n",
       "</div>"
      ],
      "text/plain": [
       "   object_id         mjd  passband        flux   flux_err  detected  ddf  \\\n",
       "0        615  59750.4229         2 -544.810303   3.622952         1    1   \n",
       "1        615  59750.4306         1 -816.434326   5.553370         1    1   \n",
       "2        615  59750.4383         3 -471.385529   3.801213         1    1   \n",
       "3        615  59750.4450         4 -388.984985  11.395031         1    1   \n",
       "4        615  59752.4070         2 -681.858887   4.041204         1    1   \n",
       "\n",
       "           ra       decl  target  \n",
       "0  349.046051 -61.943836      92  \n",
       "1  349.046051 -61.943836      92  \n",
       "2  349.046051 -61.943836      92  \n",
       "3  349.046051 -61.943836      92  \n",
       "4  349.046051 -61.943836      92  "
      ]
     },
     "execution_count": 6,
     "metadata": {},
     "output_type": "execute_result"
    }
   ],
   "source": [
    "train.head()"
   ]
  },
  {
   "cell_type": "code",
   "execution_count": 7,
   "metadata": {},
   "outputs": [
    {
     "data": {
      "image/png": "[encoded data removed]",
      "text/plain": [
       "<Figure size 432x288 with 1 Axes>"
      ]
     },
     "metadata": {
      "needs_background": "light"
     },
     "output_type": "display_data"
    }
   ],
   "source": [
    "train['mjd_frac'] = np.modf(train.mjd)[0]\n",
    "\n",
    "_ = plt.hist(train.mjd_frac, bins=100)"
   ]
  },
  {
   "cell_type": "code",
   "execution_count": 8,
   "metadata": {},
   "outputs": [
    {
     "data": {
      "image/png": "[encoded data removed]",
      "text/plain": [
       "<Figure size 432x288 with 1 Axes>"
      ]
     },
     "metadata": {
      "needs_background": "light"
     },
     "output_type": "display_data"
    }
   ],
   "source": [
    "train['mjd_frac'] = np.modf(train.mjd + 0.3)[0]\n",
    "\n",
    "_ = plt.hist(train.mjd_frac, bins=100)"
   ]
  },
  {
   "cell_type": "code",
   "execution_count": 9,
   "metadata": {},
   "outputs": [],
   "source": [
    "train['mjd_night'] = np.modf(train.mjd + 0.3)[1]"
   ]
  },
  {
   "cell_type": "code",
   "execution_count": 102,
   "metadata": {},
   "outputs": [],
   "source": [
    "def middle_gap(s):\n",
    "    s = s.values\n",
    "    s_prev = np.roll(s, 1)\n",
    "    s_delta = s - s_prev\n",
    "    s_delta_max = np.argmax(s_delta)\n",
    "    s_middle_gap = (s[s_delta_max] + s_prev[s_delta_max]) / 2\n",
    "    s_middle_gap = np.modf(s_middle_gap / 365)[0] * 365\n",
    "    return s_middle_gap\n",
    "    \n",
    "train['middle_gap'] = train.groupby('object_id').mjd_night.transform(middle_gap)"
   ]
  },
  {
   "cell_type": "code",
   "execution_count": 103,
   "metadata": {},
   "outputs": [
    {
     "data": {
      "text/html": [
       "<div>\n",
       "<style scoped>\n",
       "    .dataframe tbody tr th:only-of-type {\n",
       "        vertical-align: middle;\n",
       "    }\n",
       "\n",
       "    .dataframe tbody tr th {\n",
       "        vertical-align: top;\n",
       "    }\n",
       "\n",
       "    .dataframe thead th {\n",
       "        text-align: right;\n",
       "    }\n",
       "</style>\n",
       "<table border=\"1\" class=\"dataframe\">\n",
       "  <thead>\n",
       "    <tr style=\"text-align: right;\">\n",
       "      <th></th>\n",
       "      <th>object_id</th>\n",
       "      <th>mjd</th>\n",
       "      <th>passband</th>\n",
       "      <th>flux</th>\n",
       "      <th>flux_err</th>\n",
       "      <th>detected</th>\n",
       "      <th>ddf</th>\n",
       "      <th>ra</th>\n",
       "      <th>decl</th>\n",
       "      <th>target</th>\n",
       "      <th>mjd_frac</th>\n",
       "      <th>mjd_night</th>\n",
       "      <th>middle_gap</th>\n",
       "    </tr>\n",
       "  </thead>\n",
       "  <tbody>\n",
       "    <tr>\n",
       "      <th>0</th>\n",
       "      <td>615</td>\n",
       "      <td>59750.4229</td>\n",
       "      <td>2</td>\n",
       "      <td>-544.810303</td>\n",
       "      <td>3.622952</td>\n",
       "      <td>1</td>\n",
       "      <td>1</td>\n",
       "      <td>349.046051</td>\n",
       "      <td>-61.943836</td>\n",
       "      <td>92</td>\n",
       "      <td>0.7229</td>\n",
       "      <td>59750.0</td>\n",
       "      <td>142.5</td>\n",
       "    </tr>\n",
       "    <tr>\n",
       "      <th>1</th>\n",
       "      <td>615</td>\n",
       "      <td>59750.4306</td>\n",
       "      <td>1</td>\n",
       "      <td>-816.434326</td>\n",
       "      <td>5.553370</td>\n",
       "      <td>1</td>\n",
       "      <td>1</td>\n",
       "      <td>349.046051</td>\n",
       "      <td>-61.943836</td>\n",
       "      <td>92</td>\n",
       "      <td>0.7306</td>\n",
       "      <td>59750.0</td>\n",
       "      <td>142.5</td>\n",
       "    </tr>\n",
       "    <tr>\n",
       "      <th>2</th>\n",
       "      <td>615</td>\n",
       "      <td>59750.4383</td>\n",
       "      <td>3</td>\n",
       "      <td>-471.385529</td>\n",
       "      <td>3.801213</td>\n",
       "      <td>1</td>\n",
       "      <td>1</td>\n",
       "      <td>349.046051</td>\n",
       "      <td>-61.943836</td>\n",
       "      <td>92</td>\n",
       "      <td>0.7383</td>\n",
       "      <td>59750.0</td>\n",
       "      <td>142.5</td>\n",
       "    </tr>\n",
       "    <tr>\n",
       "      <th>3</th>\n",
       "      <td>615</td>\n",
       "      <td>59750.4450</td>\n",
       "      <td>4</td>\n",
       "      <td>-388.984985</td>\n",
       "      <td>11.395031</td>\n",
       "      <td>1</td>\n",
       "      <td>1</td>\n",
       "      <td>349.046051</td>\n",
       "      <td>-61.943836</td>\n",
       "      <td>92</td>\n",
       "      <td>0.7450</td>\n",
       "      <td>59750.0</td>\n",
       "      <td>142.5</td>\n",
       "    </tr>\n",
       "    <tr>\n",
       "      <th>4</th>\n",
       "      <td>615</td>\n",
       "      <td>59752.4070</td>\n",
       "      <td>2</td>\n",
       "      <td>-681.858887</td>\n",
       "      <td>4.041204</td>\n",
       "      <td>1</td>\n",
       "      <td>1</td>\n",
       "      <td>349.046051</td>\n",
       "      <td>-61.943836</td>\n",
       "      <td>92</td>\n",
       "      <td>0.7070</td>\n",
       "      <td>59752.0</td>\n",
       "      <td>142.5</td>\n",
       "    </tr>\n",
       "  </tbody>\n",
       "</table>\n",
       "</div>"
      ],
      "text/plain": [
       "   object_id         mjd  passband        flux   flux_err  detected  ddf  \\\n",
       "0        615  59750.4229         2 -544.810303   3.622952         1    1   \n",
       "1        615  59750.4306         1 -816.434326   5.553370         1    1   \n",
       "2        615  59750.4383         3 -471.385529   3.801213         1    1   \n",
       "3        615  59750.4450         4 -388.984985  11.395031         1    1   \n",
       "4        615  59752.4070         2 -681.858887   4.041204         1    1   \n",
       "\n",
       "           ra       decl  target  mjd_frac  mjd_night  middle_gap  \n",
       "0  349.046051 -61.943836      92    0.7229    59750.0       142.5  \n",
       "1  349.046051 -61.943836      92    0.7306    59750.0       142.5  \n",
       "2  349.046051 -61.943836      92    0.7383    59750.0       142.5  \n",
       "3  349.046051 -61.943836      92    0.7450    59750.0       142.5  \n",
       "4  349.046051 -61.943836      92    0.7070    59752.0       142.5  "
      ]
     },
     "execution_count": 103,
     "metadata": {},
     "output_type": "execute_result"
    }
   ],
   "source": [
    "train.head()"
   ]
  },
  {
   "cell_type": "code",
   "execution_count": 104,
   "metadata": {},
   "outputs": [
    {
     "name": "stdout",
     "output_type": "stream",
     "text": [
      "[262146, 131075, 21004292, 327691, 92602382]\n"
     ]
    }
   ],
   "source": [
    "print(list(set(train['object_id']))[:5])"
   ]
  },
  {
   "cell_type": "code",
   "execution_count": 105,
   "metadata": {},
   "outputs": [],
   "source": [
    "temp_list = [262146, 131075, 21004292, 327691, 92602382]"
   ]
  },
  {
   "cell_type": "code",
   "execution_count": 106,
   "metadata": {},
   "outputs": [],
   "source": [
    "k = train[train['object_id'].isin(temp_list)]"
   ]
  },
  {
   "cell_type": "code",
   "execution_count": 107,
   "metadata": {},
   "outputs": [],
   "source": [
    "k = k.reset_index(drop=True)"
   ]
  },
  {
   "cell_type": "code",
   "execution_count": 108,
   "metadata": {},
   "outputs": [
    {
     "data": {
      "text/plain": [
       "(1213, 13)"
      ]
     },
     "execution_count": 108,
     "metadata": {},
     "output_type": "execute_result"
    }
   ],
   "source": [
    "k.shape"
   ]
  },
  {
   "cell_type": "code",
   "execution_count": 109,
   "metadata": {},
   "outputs": [],
   "source": [
    "del k['middle_gap']"
   ]
  },
  {
   "cell_type": "code",
   "execution_count": 110,
   "metadata": {},
   "outputs": [
    {
     "data": {
      "text/html": [
       "<div>\n",
       "<style scoped>\n",
       "    .dataframe tbody tr th:only-of-type {\n",
       "        vertical-align: middle;\n",
       "    }\n",
       "\n",
       "    .dataframe tbody tr th {\n",
       "        vertical-align: top;\n",
       "    }\n",
       "\n",
       "    .dataframe thead th {\n",
       "        text-align: right;\n",
       "    }\n",
       "</style>\n",
       "<table border=\"1\" class=\"dataframe\">\n",
       "  <thead>\n",
       "    <tr style=\"text-align: right;\">\n",
       "      <th></th>\n",
       "      <th>object_id</th>\n",
       "      <th>mjd</th>\n",
       "      <th>passband</th>\n",
       "      <th>flux</th>\n",
       "      <th>flux_err</th>\n",
       "      <th>detected</th>\n",
       "      <th>ddf</th>\n",
       "      <th>ra</th>\n",
       "      <th>decl</th>\n",
       "      <th>target</th>\n",
       "      <th>mjd_frac</th>\n",
       "      <th>mjd_night</th>\n",
       "    </tr>\n",
       "  </thead>\n",
       "  <tbody>\n",
       "    <tr>\n",
       "      <th>0</th>\n",
       "      <td>131075</td>\n",
       "      <td>59825.2600</td>\n",
       "      <td>2</td>\n",
       "      <td>1.063952</td>\n",
       "      <td>0.936446</td>\n",
       "      <td>0</td>\n",
       "      <td>1</td>\n",
       "      <td>52.910156</td>\n",
       "      <td>-25.944481</td>\n",
       "      <td>42</td>\n",
       "      <td>0.5600</td>\n",
       "      <td>59825.0</td>\n",
       "    </tr>\n",
       "    <tr>\n",
       "      <th>1</th>\n",
       "      <td>131075</td>\n",
       "      <td>59825.2676</td>\n",
       "      <td>1</td>\n",
       "      <td>-1.672515</td>\n",
       "      <td>1.016746</td>\n",
       "      <td>0</td>\n",
       "      <td>1</td>\n",
       "      <td>52.910156</td>\n",
       "      <td>-25.944481</td>\n",
       "      <td>42</td>\n",
       "      <td>0.5676</td>\n",
       "      <td>59825.0</td>\n",
       "    </tr>\n",
       "    <tr>\n",
       "      <th>2</th>\n",
       "      <td>131075</td>\n",
       "      <td>59825.2752</td>\n",
       "      <td>3</td>\n",
       "      <td>1.353600</td>\n",
       "      <td>1.878457</td>\n",
       "      <td>0</td>\n",
       "      <td>1</td>\n",
       "      <td>52.910156</td>\n",
       "      <td>-25.944481</td>\n",
       "      <td>42</td>\n",
       "      <td>0.5752</td>\n",
       "      <td>59825.0</td>\n",
       "    </tr>\n",
       "    <tr>\n",
       "      <th>3</th>\n",
       "      <td>131075</td>\n",
       "      <td>59825.2862</td>\n",
       "      <td>4</td>\n",
       "      <td>-3.212027</td>\n",
       "      <td>2.988274</td>\n",
       "      <td>0</td>\n",
       "      <td>1</td>\n",
       "      <td>52.910156</td>\n",
       "      <td>-25.944481</td>\n",
       "      <td>42</td>\n",
       "      <td>0.5862</td>\n",
       "      <td>59825.0</td>\n",
       "    </tr>\n",
       "    <tr>\n",
       "      <th>4</th>\n",
       "      <td>131075</td>\n",
       "      <td>59825.2971</td>\n",
       "      <td>5</td>\n",
       "      <td>-19.011518</td>\n",
       "      <td>7.129535</td>\n",
       "      <td>0</td>\n",
       "      <td>1</td>\n",
       "      <td>52.910156</td>\n",
       "      <td>-25.944481</td>\n",
       "      <td>42</td>\n",
       "      <td>0.5971</td>\n",
       "      <td>59825.0</td>\n",
       "    </tr>\n",
       "  </tbody>\n",
       "</table>\n",
       "</div>"
      ],
      "text/plain": [
       "   object_id         mjd  passband       flux  flux_err  detected  ddf  \\\n",
       "0     131075  59825.2600         2   1.063952  0.936446         0    1   \n",
       "1     131075  59825.2676         1  -1.672515  1.016746         0    1   \n",
       "2     131075  59825.2752         3   1.353600  1.878457         0    1   \n",
       "3     131075  59825.2862         4  -3.212027  2.988274         0    1   \n",
       "4     131075  59825.2971         5 -19.011518  7.129535         0    1   \n",
       "\n",
       "          ra       decl  target  mjd_frac  mjd_night  \n",
       "0  52.910156 -25.944481      42    0.5600    59825.0  \n",
       "1  52.910156 -25.944481      42    0.5676    59825.0  \n",
       "2  52.910156 -25.944481      42    0.5752    59825.0  \n",
       "3  52.910156 -25.944481      42    0.5862    59825.0  \n",
       "4  52.910156 -25.944481      42    0.5971    59825.0  "
      ]
     },
     "execution_count": 110,
     "metadata": {},
     "output_type": "execute_result"
    }
   ],
   "source": [
    "k.head()"
   ]
  },
  {
   "cell_type": "code",
   "execution_count": 111,
   "metadata": {},
   "outputs": [
    {
     "data": {
      "text/html": [
       "<div>\n",
       "<style scoped>\n",
       "    .dataframe tbody tr th:only-of-type {\n",
       "        vertical-align: middle;\n",
       "    }\n",
       "\n",
       "    .dataframe tbody tr th {\n",
       "        vertical-align: top;\n",
       "    }\n",
       "\n",
       "    .dataframe thead th {\n",
       "        text-align: right;\n",
       "    }\n",
       "</style>\n",
       "<table border=\"1\" class=\"dataframe\">\n",
       "  <thead>\n",
       "    <tr style=\"text-align: right;\">\n",
       "      <th></th>\n",
       "      <th>object_id</th>\n",
       "      <th>mjd</th>\n",
       "      <th>passband</th>\n",
       "      <th>flux</th>\n",
       "      <th>flux_err</th>\n",
       "      <th>detected</th>\n",
       "      <th>ddf</th>\n",
       "      <th>ra</th>\n",
       "      <th>decl</th>\n",
       "      <th>target</th>\n",
       "      <th>mjd_frac</th>\n",
       "      <th>mjd_night</th>\n",
       "    </tr>\n",
       "  </thead>\n",
       "  <tbody>\n",
       "    <tr>\n",
       "      <th>1208</th>\n",
       "      <td>92602382</td>\n",
       "      <td>60560.9877</td>\n",
       "      <td>4</td>\n",
       "      <td>-6.769679</td>\n",
       "      <td>18.296959</td>\n",
       "      <td>0</td>\n",
       "      <td>0</td>\n",
       "      <td>293.378906</td>\n",
       "      <td>-1.790785</td>\n",
       "      <td>16</td>\n",
       "      <td>0.2877</td>\n",
       "      <td>60561.0</td>\n",
       "    </tr>\n",
       "    <tr>\n",
       "      <th>1209</th>\n",
       "      <td>92602382</td>\n",
       "      <td>60571.0382</td>\n",
       "      <td>5</td>\n",
       "      <td>16.388741</td>\n",
       "      <td>22.963448</td>\n",
       "      <td>0</td>\n",
       "      <td>0</td>\n",
       "      <td>293.378906</td>\n",
       "      <td>-1.790785</td>\n",
       "      <td>16</td>\n",
       "      <td>0.3382</td>\n",
       "      <td>60571.0</td>\n",
       "    </tr>\n",
       "    <tr>\n",
       "      <th>1210</th>\n",
       "      <td>92602382</td>\n",
       "      <td>60584.0396</td>\n",
       "      <td>0</td>\n",
       "      <td>-27.146301</td>\n",
       "      <td>35.722149</td>\n",
       "      <td>0</td>\n",
       "      <td>0</td>\n",
       "      <td>293.378906</td>\n",
       "      <td>-1.790785</td>\n",
       "      <td>16</td>\n",
       "      <td>0.3396</td>\n",
       "      <td>60584.0</td>\n",
       "    </tr>\n",
       "    <tr>\n",
       "      <th>1211</th>\n",
       "      <td>92602382</td>\n",
       "      <td>60585.9916</td>\n",
       "      <td>4</td>\n",
       "      <td>-9.019654</td>\n",
       "      <td>24.284599</td>\n",
       "      <td>0</td>\n",
       "      <td>0</td>\n",
       "      <td>293.378906</td>\n",
       "      <td>-1.790785</td>\n",
       "      <td>16</td>\n",
       "      <td>0.2916</td>\n",
       "      <td>60586.0</td>\n",
       "    </tr>\n",
       "    <tr>\n",
       "      <th>1212</th>\n",
       "      <td>92602382</td>\n",
       "      <td>60610.0292</td>\n",
       "      <td>1</td>\n",
       "      <td>17.744576</td>\n",
       "      <td>24.315296</td>\n",
       "      <td>0</td>\n",
       "      <td>0</td>\n",
       "      <td>293.378906</td>\n",
       "      <td>-1.790785</td>\n",
       "      <td>16</td>\n",
       "      <td>0.3292</td>\n",
       "      <td>60610.0</td>\n",
       "    </tr>\n",
       "  </tbody>\n",
       "</table>\n",
       "</div>"
      ],
      "text/plain": [
       "      object_id         mjd  passband       flux   flux_err  detected  ddf  \\\n",
       "1208   92602382  60560.9877         4  -6.769679  18.296959         0    0   \n",
       "1209   92602382  60571.0382         5  16.388741  22.963448         0    0   \n",
       "1210   92602382  60584.0396         0 -27.146301  35.722149         0    0   \n",
       "1211   92602382  60585.9916         4  -9.019654  24.284599         0    0   \n",
       "1212   92602382  60610.0292         1  17.744576  24.315296         0    0   \n",
       "\n",
       "              ra      decl  target  mjd_frac  mjd_night  \n",
       "1208  293.378906 -1.790785      16    0.2877    60561.0  \n",
       "1209  293.378906 -1.790785      16    0.3382    60571.0  \n",
       "1210  293.378906 -1.790785      16    0.3396    60584.0  \n",
       "1211  293.378906 -1.790785      16    0.2916    60586.0  \n",
       "1212  293.378906 -1.790785      16    0.3292    60610.0  "
      ]
     },
     "execution_count": 111,
     "metadata": {},
     "output_type": "execute_result"
    }
   ],
   "source": [
    "k.tail()"
   ]
  },
  {
   "cell_type": "code",
   "execution_count": 112,
   "metadata": {},
   "outputs": [
    {
     "data": {
      "text/html": [
       "<div>\n",
       "<style scoped>\n",
       "    .dataframe tbody tr th:only-of-type {\n",
       "        vertical-align: middle;\n",
       "    }\n",
       "\n",
       "    .dataframe tbody tr th {\n",
       "        vertical-align: top;\n",
       "    }\n",
       "\n",
       "    .dataframe thead th {\n",
       "        text-align: right;\n",
       "    }\n",
       "</style>\n",
       "<table border=\"1\" class=\"dataframe\">\n",
       "  <thead>\n",
       "    <tr style=\"text-align: right;\">\n",
       "      <th></th>\n",
       "      <th>object_id</th>\n",
       "      <th>mjd</th>\n",
       "      <th>passband</th>\n",
       "      <th>flux</th>\n",
       "      <th>flux_err</th>\n",
       "      <th>detected</th>\n",
       "      <th>ddf</th>\n",
       "      <th>ra</th>\n",
       "      <th>decl</th>\n",
       "      <th>target</th>\n",
       "      <th>mjd_frac</th>\n",
       "      <th>mjd_night</th>\n",
       "    </tr>\n",
       "  </thead>\n",
       "  <tbody>\n",
       "    <tr>\n",
       "      <th>220</th>\n",
       "      <td>131075</td>\n",
       "      <td>60300.0793</td>\n",
       "      <td>3</td>\n",
       "      <td>0.065185</td>\n",
       "      <td>1.672486</td>\n",
       "      <td>0</td>\n",
       "      <td>1</td>\n",
       "      <td>52.910156</td>\n",
       "      <td>-25.944481</td>\n",
       "      <td>42</td>\n",
       "      <td>0.3793</td>\n",
       "      <td>60300.0</td>\n",
       "    </tr>\n",
       "    <tr>\n",
       "      <th>221</th>\n",
       "      <td>131075</td>\n",
       "      <td>60300.1031</td>\n",
       "      <td>4</td>\n",
       "      <td>0.833520</td>\n",
       "      <td>2.228576</td>\n",
       "      <td>0</td>\n",
       "      <td>1</td>\n",
       "      <td>52.910156</td>\n",
       "      <td>-25.944481</td>\n",
       "      <td>42</td>\n",
       "      <td>0.4031</td>\n",
       "      <td>60300.0</td>\n",
       "    </tr>\n",
       "    <tr>\n",
       "      <th>222</th>\n",
       "      <td>131075</td>\n",
       "      <td>60300.1160</td>\n",
       "      <td>5</td>\n",
       "      <td>0.642527</td>\n",
       "      <td>4.886427</td>\n",
       "      <td>0</td>\n",
       "      <td>1</td>\n",
       "      <td>52.910156</td>\n",
       "      <td>-25.944481</td>\n",
       "      <td>42</td>\n",
       "      <td>0.4160</td>\n",
       "      <td>60300.0</td>\n",
       "    </tr>\n",
       "    <tr>\n",
       "      <th>223</th>\n",
       "      <td>131075</td>\n",
       "      <td>60554.2916</td>\n",
       "      <td>0</td>\n",
       "      <td>3.710820</td>\n",
       "      <td>2.027519</td>\n",
       "      <td>0</td>\n",
       "      <td>1</td>\n",
       "      <td>52.910156</td>\n",
       "      <td>-25.944481</td>\n",
       "      <td>42</td>\n",
       "      <td>0.5916</td>\n",
       "      <td>60554.0</td>\n",
       "    </tr>\n",
       "    <tr>\n",
       "      <th>224</th>\n",
       "      <td>131075</td>\n",
       "      <td>60555.2620</td>\n",
       "      <td>0</td>\n",
       "      <td>0.300899</td>\n",
       "      <td>1.871609</td>\n",
       "      <td>0</td>\n",
       "      <td>1</td>\n",
       "      <td>52.910156</td>\n",
       "      <td>-25.944481</td>\n",
       "      <td>42</td>\n",
       "      <td>0.5620</td>\n",
       "      <td>60555.0</td>\n",
       "    </tr>\n",
       "  </tbody>\n",
       "</table>\n",
       "</div>"
      ],
      "text/plain": [
       "     object_id         mjd  passband      flux  flux_err  detected  ddf  \\\n",
       "220     131075  60300.0793         3  0.065185  1.672486         0    1   \n",
       "221     131075  60300.1031         4  0.833520  2.228576         0    1   \n",
       "222     131075  60300.1160         5  0.642527  4.886427         0    1   \n",
       "223     131075  60554.2916         0  3.710820  2.027519         0    1   \n",
       "224     131075  60555.2620         0  0.300899  1.871609         0    1   \n",
       "\n",
       "            ra       decl  target  mjd_frac  mjd_night  \n",
       "220  52.910156 -25.944481      42    0.3793    60300.0  \n",
       "221  52.910156 -25.944481      42    0.4031    60300.0  \n",
       "222  52.910156 -25.944481      42    0.4160    60300.0  \n",
       "223  52.910156 -25.944481      42    0.5916    60554.0  \n",
       "224  52.910156 -25.944481      42    0.5620    60555.0  "
      ]
     },
     "execution_count": 112,
     "metadata": {},
     "output_type": "execute_result"
    }
   ],
   "source": [
    "k[220:225]"
   ]
  },
  {
   "cell_type": "code",
   "execution_count": 113,
   "metadata": {},
   "outputs": [
    {
     "data": {
      "text/plain": [
       "238.23109999999724"
      ]
     },
     "execution_count": 113,
     "metadata": {},
     "output_type": "execute_result"
    }
   ],
   "source": [
    "60532.3019 - 60294.0708\t"
   ]
  },
  {
   "cell_type": "code",
   "execution_count": 114,
   "metadata": {},
   "outputs": [
    {
     "data": {
      "text/plain": [
       "object_id    131075.000000\n",
       "mjd           60300.103100\n",
       "passband          4.000000\n",
       "flux              0.833520\n",
       "flux_err          2.228576\n",
       "detected          0.000000\n",
       "ddf               1.000000\n",
       "ra               52.910156\n",
       "decl            -25.944481\n",
       "target           42.000000\n",
       "mjd_frac          0.403100\n",
       "mjd_night     60300.000000\n",
       "Name: 221, dtype: float64"
      ]
     },
     "execution_count": 114,
     "metadata": {},
     "output_type": "execute_result"
    }
   ],
   "source": [
    "pd.Series(k.iloc[221,:])"
   ]
  },
  {
   "cell_type": "code",
   "execution_count": 51,
   "metadata": {},
   "outputs": [
    {
     "data": {
      "text/plain": [
       "object_id     262146.000000\n",
       "mjd            60532.301900\n",
       "passband           2.000000\n",
       "flux               1.720628\n",
       "flux_err           1.024858\n",
       "detected           0.000000\n",
       "ddf                1.000000\n",
       "ra                34.453125\n",
       "decl              -5.229529\n",
       "target            42.000000\n",
       "mjd_frac           0.601900\n",
       "mjd_night      60532.000000\n",
       "middle_gap       188.000000\n",
       "Name: 222, dtype: float64"
      ]
     },
     "execution_count": 51,
     "metadata": {},
     "output_type": "execute_result"
    }
   ],
   "source": [
    "pd.Series(k.iloc[222,:])"
   ]
  },
  {
   "cell_type": "code",
   "execution_count": 52,
   "metadata": {},
   "outputs": [
    {
     "data": {
      "text/plain": [
       "object_id     262146.000000\n",
       "mjd            60532.309700\n",
       "passband           1.000000\n",
       "flux               1.582602\n",
       "flux_err           0.954517\n",
       "detected           0.000000\n",
       "ddf                1.000000\n",
       "ra                34.453125\n",
       "decl              -5.229529\n",
       "target            42.000000\n",
       "mjd_frac           0.609700\n",
       "mjd_night      60532.000000\n",
       "middle_gap       188.000000\n",
       "Name: 223, dtype: float64"
      ]
     },
     "execution_count": 52,
     "metadata": {},
     "output_type": "execute_result"
    }
   ],
   "source": [
    "pd.Series(k.iloc[223,:])"
   ]
  },
  {
   "cell_type": "code",
   "execution_count": 65,
   "metadata": {},
   "outputs": [],
   "source": [
    "a = np.array(k['mjd'])"
   ]
  },
  {
   "cell_type": "code",
   "execution_count": 66,
   "metadata": {},
   "outputs": [],
   "source": [
    "a_prev = np.roll(k['mjd'],shift=1)"
   ]
  },
  {
   "cell_type": "code",
   "execution_count": 67,
   "metadata": {},
   "outputs": [],
   "source": [
    "a_index = np.argmax(np.array(a - a_prev))"
   ]
  },
  {
   "cell_type": "code",
   "execution_count": 69,
   "metadata": {},
   "outputs": [],
   "source": [
    "a_middle_gap = (a[a_index] + a[a_index]) / 2"
   ]
  },
  {
   "cell_type": "code",
   "execution_count": 70,
   "metadata": {},
   "outputs": [
    {
     "name": "stdout",
     "output_type": "stream",
     "text": [
      "60532.3019\n"
     ]
    }
   ],
   "source": [
    "print(a_middle_gap)"
   ]
  },
  {
   "cell_type": "code",
   "execution_count": 47,
   "metadata": {},
   "outputs": [
    {
     "data": {
      "text/plain": [
       "222"
      ]
     },
     "execution_count": 47,
     "metadata": {},
     "output_type": "execute_result"
    }
   ],
   "source": [
    "np.argmax(np.array(k['mjd'] - np.roll(k['mjd'],shift=1)))"
   ]
  },
  {
   "cell_type": "code",
   "execution_count": 71,
   "metadata": {},
   "outputs": [],
   "source": [
    "s_middle_gap = np.modf(a_middle_gap / 365)[0] * 365"
   ]
  },
  {
   "cell_type": "code",
   "execution_count": 72,
   "metadata": {},
   "outputs": [
    {
     "data": {
      "text/plain": [
       "307.30189999999584"
      ]
     },
     "execution_count": 72,
     "metadata": {},
     "output_type": "execute_result"
    }
   ],
   "source": [
    "s_middle_gap"
   ]
  }
 ],
 "metadata": {
  "kernelspec": {
   "display_name": "Python 3",
   "language": "python",
   "name": "python3"
  },
  "language_info": {
   "codemirror_mode": {
    "name": "ipython",
    "version": 3
   },
   "file_extension": ".py",
   "mimetype": "text/x-python",
   "name": "python",
   "nbconvert_exporter": "python",
   "pygments_lexer": "ipython3",
   "version": "3.6.6"
  }
 },
 "nbformat": 4,
 "nbformat_minor": 2
}
