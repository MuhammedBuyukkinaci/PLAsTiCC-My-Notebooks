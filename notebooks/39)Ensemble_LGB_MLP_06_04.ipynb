{
 "cells": [
  {
   "cell_type": "code",
   "execution_count": 1,
   "metadata": {},
   "outputs": [],
   "source": [
    "import numpy as np # linear algebra\n",
    "import pandas as pd # data processing, CSV file I/O (e.g. pd.read_csv)\n",
    "from sklearn.metrics import log_loss\n",
    "from sklearn.model_selection import StratifiedKFold\n",
    "import gc\n",
    "import os\n",
    "import matplotlib.pyplot as plt\n",
    "import seaborn as sns \n",
    "import lightgbm as lgb\n",
    "import itertools\n",
    "import pickle, gzip\n",
    "import glob\n",
    "from sklearn.preprocessing import StandardScaler\n",
    "from tsfresh.feature_extraction import extract_features\n",
    "np.warnings.filterwarnings('ignore')\n",
    "import dask.dataframe as dd\n",
    "import missingno as msno\n",
    "from pandasql import sqldf\n",
    "from sklearn.metrics import mean_squared_error\n",
    "from math import sqrt\n",
    "from sklearn.model_selection import KFold\n",
    "import matplotlib.gridspec as gridspec\n",
    "from sklearn import preprocessing\n",
    "from imblearn.over_sampling import SMOTE\n",
    "from sklearn.model_selection import train_test_split"
   ]
  },
  {
   "cell_type": "code",
   "execution_count": 2,
   "metadata": {},
   "outputs": [],
   "source": [
    "#Always seed the randomness of this universe\n",
    "np.random.seed(51)"
   ]
  },
  {
   "cell_type": "code",
   "execution_count": 3,
   "metadata": {},
   "outputs": [
    {
     "name": "stdout",
     "output_type": "stream",
     "text": [
      "(3492890, 16) (3492890, 16)\n",
      "CPU times: user 33.1 s, sys: 2.92 s, total: 36.1 s\n",
      "Wall time: 8.11 s\n"
     ]
    }
   ],
   "source": [
    "%%time\n",
    "pred1 = dd.read_csv('test_pred_20.csv')\n",
    "pred2 = dd.read_csv('test_pred_22.csv')\n",
    "pred1 = pred1.compute()\n",
    "pred2 = pred2.compute()\n",
    "print(pred1.shape,pred2.shape)"
   ]
  },
  {
   "cell_type": "code",
   "execution_count": 4,
   "metadata": {},
   "outputs": [
    {
     "name": "stdout",
     "output_type": "stream",
     "text": [
      "CPU times: user 166 ms, sys: 276 ms, total: 442 ms\n",
      "Wall time: 441 ms\n"
     ]
    }
   ],
   "source": [
    "%%time\n",
    "pred1 = pred1.reset_index(drop=True)\n",
    "pred2 = pred2.reset_index(drop=True)"
   ]
  },
  {
   "cell_type": "code",
   "execution_count": 5,
   "metadata": {},
   "outputs": [
    {
     "name": "stdout",
     "output_type": "stream",
     "text": [
      "CPU times: user 311 µs, sys: 0 ns, total: 311 µs\n",
      "Wall time: 315 µs\n"
     ]
    }
   ],
   "source": [
    "%%time\n",
    "test_ensemble = pd.DataFrame()"
   ]
  },
  {
   "cell_type": "code",
   "execution_count": 6,
   "metadata": {},
   "outputs": [],
   "source": [
    "coef_lgb = 0.6\n",
    "coef_mlp = 0.4"
   ]
  },
  {
   "cell_type": "code",
   "execution_count": 7,
   "metadata": {},
   "outputs": [
    {
     "name": "stdout",
     "output_type": "stream",
     "text": [
      "CPU times: user 329 ms, sys: 633 ms, total: 962 ms\n",
      "Wall time: 959 ms\n"
     ]
    }
   ],
   "source": [
    "%%time\n",
    "test_ensemble = pred1.iloc[:,1:]*coef_lgb + pred2.iloc[:,1:]*coef_mlp"
   ]
  },
  {
   "cell_type": "code",
   "execution_count": 8,
   "metadata": {},
   "outputs": [
    {
     "name": "stdout",
     "output_type": "stream",
     "text": [
      "(3492890, 15)\n"
     ]
    }
   ],
   "source": [
    "print(test_ensemble.shape)\n",
    "test_ensemble['object_id'] = pred1['object_id']"
   ]
  },
  {
   "cell_type": "code",
   "execution_count": 10,
   "metadata": {},
   "outputs": [],
   "source": [
    "test_ensemble = test_ensemble[list(pred1.columns)]"
   ]
  },
  {
   "cell_type": "code",
   "execution_count": 11,
   "metadata": {},
   "outputs": [
    {
     "name": "stdout",
     "output_type": "stream",
     "text": [
      "(3492890, 16)\n"
     ]
    }
   ],
   "source": [
    "print(test_ensemble.shape)"
   ]
  },
  {
   "cell_type": "code",
   "execution_count": 12,
   "metadata": {},
   "outputs": [
    {
     "data": {
      "text/html": [
       "<div>\n",
       "<style scoped>\n",
       "    .dataframe tbody tr th:only-of-type {\n",
       "        vertical-align: middle;\n",
       "    }\n",
       "\n",
       "    .dataframe tbody tr th {\n",
       "        vertical-align: top;\n",
       "    }\n",
       "\n",
       "    .dataframe thead th {\n",
       "        text-align: right;\n",
       "    }\n",
       "</style>\n",
       "<table border=\"1\" class=\"dataframe\">\n",
       "  <thead>\n",
       "    <tr style=\"text-align: right;\">\n",
       "      <th></th>\n",
       "      <th>object_id</th>\n",
       "      <th>class_6</th>\n",
       "      <th>class_15</th>\n",
       "      <th>class_16</th>\n",
       "      <th>class_42</th>\n",
       "      <th>class_52</th>\n",
       "      <th>class_53</th>\n",
       "      <th>class_62</th>\n",
       "      <th>class_64</th>\n",
       "      <th>class_65</th>\n",
       "      <th>class_67</th>\n",
       "      <th>class_88</th>\n",
       "      <th>class_90</th>\n",
       "      <th>class_92</th>\n",
       "      <th>class_95</th>\n",
       "      <th>class_99</th>\n",
       "    </tr>\n",
       "  </thead>\n",
       "  <tbody>\n",
       "    <tr>\n",
       "      <th>0</th>\n",
       "      <td>13</td>\n",
       "      <td>0.000204</td>\n",
       "      <td>0.000665</td>\n",
       "      <td>0.000077</td>\n",
       "      <td>0.716135</td>\n",
       "      <td>0.063446</td>\n",
       "      <td>0.000245</td>\n",
       "      <td>0.176995</td>\n",
       "      <td>0.000041</td>\n",
       "      <td>0.000073</td>\n",
       "      <td>0.002283</td>\n",
       "      <td>0.000182</td>\n",
       "      <td>0.038528</td>\n",
       "      <td>0.000094</td>\n",
       "      <td>0.001032</td>\n",
       "      <td>0.158510</td>\n",
       "    </tr>\n",
       "    <tr>\n",
       "      <th>1</th>\n",
       "      <td>14</td>\n",
       "      <td>0.000100</td>\n",
       "      <td>0.006649</td>\n",
       "      <td>0.000100</td>\n",
       "      <td>0.164192</td>\n",
       "      <td>0.063597</td>\n",
       "      <td>0.000184</td>\n",
       "      <td>0.050466</td>\n",
       "      <td>0.000128</td>\n",
       "      <td>0.000375</td>\n",
       "      <td>0.026309</td>\n",
       "      <td>0.001020</td>\n",
       "      <td>0.679180</td>\n",
       "      <td>0.000102</td>\n",
       "      <td>0.007597</td>\n",
       "      <td>0.180241</td>\n",
       "    </tr>\n",
       "    <tr>\n",
       "      <th>2</th>\n",
       "      <td>17</td>\n",
       "      <td>0.000156</td>\n",
       "      <td>0.008025</td>\n",
       "      <td>0.000156</td>\n",
       "      <td>0.114114</td>\n",
       "      <td>0.072401</td>\n",
       "      <td>0.000270</td>\n",
       "      <td>0.024071</td>\n",
       "      <td>0.001430</td>\n",
       "      <td>0.000332</td>\n",
       "      <td>0.102220</td>\n",
       "      <td>0.001914</td>\n",
       "      <td>0.661995</td>\n",
       "      <td>0.000105</td>\n",
       "      <td>0.012812</td>\n",
       "      <td>0.177012</td>\n",
       "    </tr>\n",
       "    <tr>\n",
       "      <th>3</th>\n",
       "      <td>23</td>\n",
       "      <td>0.000171</td>\n",
       "      <td>0.001476</td>\n",
       "      <td>0.000180</td>\n",
       "      <td>0.055475</td>\n",
       "      <td>0.037772</td>\n",
       "      <td>0.000244</td>\n",
       "      <td>0.065190</td>\n",
       "      <td>0.003237</td>\n",
       "      <td>0.000262</td>\n",
       "      <td>0.447062</td>\n",
       "      <td>0.000721</td>\n",
       "      <td>0.363399</td>\n",
       "      <td>0.000098</td>\n",
       "      <td>0.024713</td>\n",
       "      <td>0.230726</td>\n",
       "    </tr>\n",
       "    <tr>\n",
       "      <th>4</th>\n",
       "      <td>34</td>\n",
       "      <td>0.000039</td>\n",
       "      <td>0.001525</td>\n",
       "      <td>0.000035</td>\n",
       "      <td>0.082050</td>\n",
       "      <td>0.164386</td>\n",
       "      <td>0.000125</td>\n",
       "      <td>0.020151</td>\n",
       "      <td>0.000022</td>\n",
       "      <td>0.000071</td>\n",
       "      <td>0.029621</td>\n",
       "      <td>0.000064</td>\n",
       "      <td>0.700363</td>\n",
       "      <td>0.000036</td>\n",
       "      <td>0.001512</td>\n",
       "      <td>0.172460</td>\n",
       "    </tr>\n",
       "  </tbody>\n",
       "</table>\n",
       "</div>"
      ],
      "text/plain": [
       "   object_id   class_6  class_15  class_16  class_42  class_52  class_53  \\\n",
       "0         13  0.000204  0.000665  0.000077  0.716135  0.063446  0.000245   \n",
       "1         14  0.000100  0.006649  0.000100  0.164192  0.063597  0.000184   \n",
       "2         17  0.000156  0.008025  0.000156  0.114114  0.072401  0.000270   \n",
       "3         23  0.000171  0.001476  0.000180  0.055475  0.037772  0.000244   \n",
       "4         34  0.000039  0.001525  0.000035  0.082050  0.164386  0.000125   \n",
       "\n",
       "   class_62  class_64  class_65  class_67  class_88  class_90  class_92  \\\n",
       "0  0.176995  0.000041  0.000073  0.002283  0.000182  0.038528  0.000094   \n",
       "1  0.050466  0.000128  0.000375  0.026309  0.001020  0.679180  0.000102   \n",
       "2  0.024071  0.001430  0.000332  0.102220  0.001914  0.661995  0.000105   \n",
       "3  0.065190  0.003237  0.000262  0.447062  0.000721  0.363399  0.000098   \n",
       "4  0.020151  0.000022  0.000071  0.029621  0.000064  0.700363  0.000036   \n",
       "\n",
       "   class_95  class_99  \n",
       "0  0.001032  0.158510  \n",
       "1  0.007597  0.180241  \n",
       "2  0.012812  0.177012  \n",
       "3  0.024713  0.230726  \n",
       "4  0.001512  0.172460  "
      ]
     },
     "execution_count": 12,
     "metadata": {},
     "output_type": "execute_result"
    }
   ],
   "source": [
    "test_ensemble.head()"
   ]
  },
  {
   "cell_type": "code",
   "execution_count": 13,
   "metadata": {},
   "outputs": [
    {
     "name": "stdout",
     "output_type": "stream",
     "text": [
      "CPU times: user 1min 26s, sys: 1.11 s, total: 1min 27s\n",
      "Wall time: 1min 28s\n"
     ]
    }
   ],
   "source": [
    "%%time\n",
    "test_ensemble.to_csv('test_pred_24.csv',index=False)"
   ]
  },
  {
   "cell_type": "code",
   "execution_count": 14,
   "metadata": {},
   "outputs": [
    {
     "name": "stdout",
     "output_type": "stream",
     "text": [
      "100%|█████████████████████████████████████| 1.06G/1.06G [2:37:38<00:00, 121kB/s]\n",
      "Successfully submitted to PLAsTiCC Astronomical Classification"
     ]
    }
   ],
   "source": [
    "!kaggle competitions submit -c PLAsTiCC-2018 -f test_pred_24.csv -m \"Message\""
   ]
  }
 ],
 "metadata": {
  "kernelspec": {
   "display_name": "Python 3",
   "language": "python",
   "name": "python3"
  },
  "language_info": {
   "codemirror_mode": {
    "name": "ipython",
    "version": 3
   },
   "file_extension": ".py",
   "mimetype": "text/x-python",
   "name": "python",
   "nbconvert_exporter": "python",
   "pygments_lexer": "ipython3",
   "version": "3.6.7"
  }
 },
 "nbformat": 4,
 "nbformat_minor": 2
}
