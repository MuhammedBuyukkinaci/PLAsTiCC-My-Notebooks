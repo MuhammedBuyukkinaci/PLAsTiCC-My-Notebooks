{
 "cells": [
  {
   "cell_type": "code",
   "execution_count": 1,
   "metadata": {},
   "outputs": [],
   "source": [
    "import numpy as np # linear algebra\n",
    "import pandas as pd # data processing, CSV file I/O (e.g. pd.read_csv)\n",
    "from sklearn.metrics import log_loss\n",
    "from sklearn.model_selection import StratifiedKFold\n",
    "import gc\n",
    "import os\n",
    "import matplotlib.pyplot as plt\n",
    "import seaborn as sns \n",
    "import lightgbm as lgb\n",
    "import itertools\n",
    "import pickle, gzip\n",
    "import glob\n",
    "from sklearn.preprocessing import StandardScaler\n",
    "from tsfresh.feature_extraction import extract_features\n",
    "np.warnings.filterwarnings('ignore')\n",
    "import dask.dataframe as dd\n",
    "import missingno as msno\n",
    "from pandasql import sqldf\n",
    "from sklearn.metrics import mean_squared_error\n",
    "from math import sqrt\n",
    "from sklearn.model_selection import KFold\n",
    "import matplotlib.gridspec as gridspec\n",
    "from sklearn import preprocessing\n",
    "from imblearn.over_sampling import SMOTE\n",
    "from sklearn.model_selection import train_test_split"
   ]
  },
  {
   "cell_type": "code",
   "execution_count": 2,
   "metadata": {},
   "outputs": [],
   "source": [
    "#Always seed the randomness of this universe\n",
    "np.random.seed(51)"
   ]
  },
  {
   "cell_type": "code",
   "execution_count": 3,
   "metadata": {},
   "outputs": [
    {
     "name": "stdout",
     "output_type": "stream",
     "text": [
      "(3492890, 16) (3492890, 16)\n",
      "CPU times: user 33.1 s, sys: 3 s, total: 36.1 s\n",
      "Wall time: 8.07 s\n"
     ]
    }
   ],
   "source": [
    "%%time\n",
    "pred1 = dd.read_csv('test_pred_20.csv')\n",
    "pred2 = dd.read_csv('test_pred_22.csv')\n",
    "pred1 = pred1.compute()\n",
    "pred2 = pred2.compute()\n",
    "print(pred1.shape,pred2.shape)"
   ]
  },
  {
   "cell_type": "code",
   "execution_count": 4,
   "metadata": {},
   "outputs": [
    {
     "name": "stdout",
     "output_type": "stream",
     "text": [
      "CPU times: user 166 ms, sys: 283 ms, total: 449 ms\n",
      "Wall time: 447 ms\n"
     ]
    }
   ],
   "source": [
    "%%time\n",
    "pred1 = pred1.reset_index(drop=True)\n",
    "pred2 = pred2.reset_index(drop=True)"
   ]
  },
  {
   "cell_type": "code",
   "execution_count": 5,
   "metadata": {},
   "outputs": [
    {
     "data": {
      "text/plain": [
       "True"
      ]
     },
     "execution_count": 5,
     "metadata": {},
     "output_type": "execute_result"
    }
   ],
   "source": [
    "pred1['object_id'].equals(pred2['object_id'])"
   ]
  },
  {
   "cell_type": "code",
   "execution_count": 6,
   "metadata": {},
   "outputs": [
    {
     "name": "stdout",
     "output_type": "stream",
     "text": [
      "CPU times: user 288 µs, sys: 36 µs, total: 324 µs\n",
      "Wall time: 330 µs\n"
     ]
    }
   ],
   "source": [
    "%%time\n",
    "test_ensemble = pd.DataFrame()"
   ]
  },
  {
   "cell_type": "code",
   "execution_count": 7,
   "metadata": {},
   "outputs": [],
   "source": [
    "coef_lgb = 0.7\n",
    "coef_mlp = 0.3"
   ]
  },
  {
   "cell_type": "code",
   "execution_count": 8,
   "metadata": {},
   "outputs": [
    {
     "name": "stdout",
     "output_type": "stream",
     "text": [
      "CPU times: user 314 ms, sys: 611 ms, total: 924 ms\n",
      "Wall time: 920 ms\n"
     ]
    }
   ],
   "source": [
    "%%time\n",
    "test_ensemble = pred1.iloc[:,1:]*coef_lgb + pred2.iloc[:,1:]*coef_mlp"
   ]
  },
  {
   "cell_type": "code",
   "execution_count": 9,
   "metadata": {},
   "outputs": [
    {
     "name": "stdout",
     "output_type": "stream",
     "text": [
      "(3492890, 15)\n"
     ]
    }
   ],
   "source": [
    "print(test_ensemble.shape)"
   ]
  },
  {
   "cell_type": "code",
   "execution_count": 11,
   "metadata": {},
   "outputs": [
    {
     "name": "stdout",
     "output_type": "stream",
     "text": [
      "(3492890, 16)\n"
     ]
    }
   ],
   "source": [
    "test_ensemble['object_id'] = pred1['object_id']\n",
    "print(test_ensemble.shape)"
   ]
  },
  {
   "cell_type": "code",
   "execution_count": 13,
   "metadata": {},
   "outputs": [],
   "source": [
    "test_ensemble = test_ensemble[list(pred1.columns)]"
   ]
  },
  {
   "cell_type": "code",
   "execution_count": 14,
   "metadata": {},
   "outputs": [
    {
     "data": {
      "text/html": [
       "<div>\n",
       "<style scoped>\n",
       "    .dataframe tbody tr th:only-of-type {\n",
       "        vertical-align: middle;\n",
       "    }\n",
       "\n",
       "    .dataframe tbody tr th {\n",
       "        vertical-align: top;\n",
       "    }\n",
       "\n",
       "    .dataframe thead th {\n",
       "        text-align: right;\n",
       "    }\n",
       "</style>\n",
       "<table border=\"1\" class=\"dataframe\">\n",
       "  <thead>\n",
       "    <tr style=\"text-align: right;\">\n",
       "      <th></th>\n",
       "      <th>object_id</th>\n",
       "      <th>class_6</th>\n",
       "      <th>class_15</th>\n",
       "      <th>class_16</th>\n",
       "      <th>class_42</th>\n",
       "      <th>class_52</th>\n",
       "      <th>class_53</th>\n",
       "      <th>class_62</th>\n",
       "      <th>class_64</th>\n",
       "      <th>class_65</th>\n",
       "      <th>class_67</th>\n",
       "      <th>class_88</th>\n",
       "      <th>class_90</th>\n",
       "      <th>class_92</th>\n",
       "      <th>class_95</th>\n",
       "      <th>class_99</th>\n",
       "    </tr>\n",
       "  </thead>\n",
       "  <tbody>\n",
       "    <tr>\n",
       "      <th>3492885</th>\n",
       "      <td>130787966</td>\n",
       "      <td>0.000155</td>\n",
       "      <td>0.339116</td>\n",
       "      <td>0.000280</td>\n",
       "      <td>0.212325</td>\n",
       "      <td>0.217332</td>\n",
       "      <td>0.000304</td>\n",
       "      <td>0.073618</td>\n",
       "      <td>0.000110</td>\n",
       "      <td>0.001788</td>\n",
       "      <td>0.011834</td>\n",
       "      <td>0.003623</td>\n",
       "      <td>0.139035</td>\n",
       "      <td>0.000146</td>\n",
       "      <td>0.000332</td>\n",
       "      <td>0.245711</td>\n",
       "    </tr>\n",
       "    <tr>\n",
       "      <th>3492886</th>\n",
       "      <td>130787971</td>\n",
       "      <td>0.000221</td>\n",
       "      <td>0.014997</td>\n",
       "      <td>0.000235</td>\n",
       "      <td>0.065942</td>\n",
       "      <td>0.198715</td>\n",
       "      <td>0.000284</td>\n",
       "      <td>0.019161</td>\n",
       "      <td>0.315217</td>\n",
       "      <td>0.000486</td>\n",
       "      <td>0.031940</td>\n",
       "      <td>0.000916</td>\n",
       "      <td>0.348031</td>\n",
       "      <td>0.000223</td>\n",
       "      <td>0.003632</td>\n",
       "      <td>0.231252</td>\n",
       "    </tr>\n",
       "    <tr>\n",
       "      <th>3492887</th>\n",
       "      <td>130787974</td>\n",
       "      <td>0.000757</td>\n",
       "      <td>0.030948</td>\n",
       "      <td>0.000162</td>\n",
       "      <td>0.832959</td>\n",
       "      <td>0.015963</td>\n",
       "      <td>0.000433</td>\n",
       "      <td>0.100705</td>\n",
       "      <td>0.000050</td>\n",
       "      <td>0.000247</td>\n",
       "      <td>0.001288</td>\n",
       "      <td>0.000629</td>\n",
       "      <td>0.014109</td>\n",
       "      <td>0.000204</td>\n",
       "      <td>0.001545</td>\n",
       "      <td>0.114034</td>\n",
       "    </tr>\n",
       "    <tr>\n",
       "      <th>3492888</th>\n",
       "      <td>130788053</td>\n",
       "      <td>0.000059</td>\n",
       "      <td>0.760807</td>\n",
       "      <td>0.000083</td>\n",
       "      <td>0.121148</td>\n",
       "      <td>0.006421</td>\n",
       "      <td>0.000082</td>\n",
       "      <td>0.010168</td>\n",
       "      <td>0.066965</td>\n",
       "      <td>0.000266</td>\n",
       "      <td>0.000459</td>\n",
       "      <td>0.000122</td>\n",
       "      <td>0.032815</td>\n",
       "      <td>0.000078</td>\n",
       "      <td>0.000527</td>\n",
       "      <td>0.147601</td>\n",
       "    </tr>\n",
       "    <tr>\n",
       "      <th>3492889</th>\n",
       "      <td>130788054</td>\n",
       "      <td>0.000118</td>\n",
       "      <td>0.048495</td>\n",
       "      <td>0.000129</td>\n",
       "      <td>0.342181</td>\n",
       "      <td>0.366100</td>\n",
       "      <td>0.000237</td>\n",
       "      <td>0.039894</td>\n",
       "      <td>0.000171</td>\n",
       "      <td>0.000279</td>\n",
       "      <td>0.011054</td>\n",
       "      <td>0.001074</td>\n",
       "      <td>0.189757</td>\n",
       "      <td>0.000134</td>\n",
       "      <td>0.000376</td>\n",
       "      <td>0.227315</td>\n",
       "    </tr>\n",
       "  </tbody>\n",
       "</table>\n",
       "</div>"
      ],
      "text/plain": [
       "         object_id   class_6  class_15  class_16  class_42  class_52  \\\n",
       "3492885  130787966  0.000155  0.339116  0.000280  0.212325  0.217332   \n",
       "3492886  130787971  0.000221  0.014997  0.000235  0.065942  0.198715   \n",
       "3492887  130787974  0.000757  0.030948  0.000162  0.832959  0.015963   \n",
       "3492888  130788053  0.000059  0.760807  0.000083  0.121148  0.006421   \n",
       "3492889  130788054  0.000118  0.048495  0.000129  0.342181  0.366100   \n",
       "\n",
       "         class_53  class_62  class_64  class_65  class_67  class_88  class_90  \\\n",
       "3492885  0.000304  0.073618  0.000110  0.001788  0.011834  0.003623  0.139035   \n",
       "3492886  0.000284  0.019161  0.315217  0.000486  0.031940  0.000916  0.348031   \n",
       "3492887  0.000433  0.100705  0.000050  0.000247  0.001288  0.000629  0.014109   \n",
       "3492888  0.000082  0.010168  0.066965  0.000266  0.000459  0.000122  0.032815   \n",
       "3492889  0.000237  0.039894  0.000171  0.000279  0.011054  0.001074  0.189757   \n",
       "\n",
       "         class_92  class_95  class_99  \n",
       "3492885  0.000146  0.000332  0.245711  \n",
       "3492886  0.000223  0.003632  0.231252  \n",
       "3492887  0.000204  0.001545  0.114034  \n",
       "3492888  0.000078  0.000527  0.147601  \n",
       "3492889  0.000134  0.000376  0.227315  "
      ]
     },
     "execution_count": 14,
     "metadata": {},
     "output_type": "execute_result"
    }
   ],
   "source": [
    "test_ensemble.tail()"
   ]
  },
  {
   "cell_type": "code",
   "execution_count": 15,
   "metadata": {},
   "outputs": [
    {
     "name": "stdout",
     "output_type": "stream",
     "text": [
      "CPU times: user 1min 32s, sys: 1.3 s, total: 1min 33s\n",
      "Wall time: 1min 33s\n"
     ]
    }
   ],
   "source": [
    "%%time\n",
    "test_ensemble.to_csv('test_pred_25.csv',index=False)"
   ]
  },
  {
   "cell_type": "code",
   "execution_count": 16,
   "metadata": {},
   "outputs": [
    {
     "data": {
      "text/plain": [
       "True"
      ]
     },
     "execution_count": 16,
     "metadata": {},
     "output_type": "execute_result"
    }
   ],
   "source": [
    "test_ensemble['object_id'].equals(pred1['object_id'])"
   ]
  },
  {
   "cell_type": "code",
   "execution_count": 17,
   "metadata": {},
   "outputs": [
    {
     "name": "stdout",
     "output_type": "stream",
     "text": [
      "100%|█████████████████████████████████████| 1.06G/1.06G [2:38:19<00:00, 120kB/s]\n",
      "Successfully submitted to PLAsTiCC Astronomical Classification"
     ]
    }
   ],
   "source": [
    "!kaggle competitions submit -c PLAsTiCC-2018 -f test_pred_25.csv -m \"Message\""
   ]
  }
 ],
 "metadata": {
  "kernelspec": {
   "display_name": "Python 3",
   "language": "python",
   "name": "python3"
  },
  "language_info": {
   "codemirror_mode": {
    "name": "ipython",
    "version": 3
   },
   "file_extension": ".py",
   "mimetype": "text/x-python",
   "name": "python",
   "nbconvert_exporter": "python",
   "pygments_lexer": "ipython3",
   "version": "3.6.7"
  }
 },
 "nbformat": 4,
 "nbformat_minor": 2
}
