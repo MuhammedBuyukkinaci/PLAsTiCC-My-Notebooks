{
 "cells": [
  {
   "cell_type": "code",
   "execution_count": 1,
   "metadata": {},
   "outputs": [
    {
     "name": "stderr",
     "output_type": "stream",
     "text": [
      "/usr/lib/python3.6/importlib/_bootstrap.py:219: RuntimeWarning: numpy.dtype size changed, may indicate binary incompatibility. Expected 96, got 88\n",
      "  return f(*args, **kwds)\n"
     ]
    }
   ],
   "source": [
    "import pandas as pd\n",
    "import numpy as np\n",
    "import lightgbm as lgb\n",
    "import matplotlib.pyplot as plt\n",
    "import missingno as msno"
   ]
  },
  {
   "cell_type": "code",
   "execution_count": 7,
   "metadata": {},
   "outputs": [],
   "source": [
    "from pandasql import sqldf"
   ]
  },
  {
   "cell_type": "code",
   "execution_count": 2,
   "metadata": {},
   "outputs": [
    {
     "data": {
      "text/plain": [
       "'2.2.1'"
      ]
     },
     "execution_count": 2,
     "metadata": {},
     "output_type": "execute_result"
    }
   ],
   "source": [
    "lgb.__version__"
   ]
  },
  {
   "cell_type": "code",
   "execution_count": 3,
   "metadata": {},
   "outputs": [],
   "source": [
    "train_metadata = pd.read_csv('training_set_metadata.csv')\n",
    "test_metadata = pd.read_csv('test_set_metadata.csv')"
   ]
  },
  {
   "cell_type": "code",
   "execution_count": 4,
   "metadata": {},
   "outputs": [],
   "source": [
    "agg_train = pd.read_csv('agg_train.csv')\n",
    "agg_test = pd.read_csv('agg_test_merged.csv')"
   ]
  },
  {
   "cell_type": "code",
   "execution_count": 5,
   "metadata": {},
   "outputs": [
    {
     "data": {
      "text/html": [
       "<div>\n",
       "<style scoped>\n",
       "    .dataframe tbody tr th:only-of-type {\n",
       "        vertical-align: middle;\n",
       "    }\n",
       "\n",
       "    .dataframe tbody tr th {\n",
       "        vertical-align: top;\n",
       "    }\n",
       "\n",
       "    .dataframe thead th {\n",
       "        text-align: right;\n",
       "    }\n",
       "</style>\n",
       "<table border=\"1\" class=\"dataframe\">\n",
       "  <thead>\n",
       "    <tr style=\"text-align: right;\">\n",
       "      <th></th>\n",
       "      <th>object_id</th>\n",
       "      <th>ra</th>\n",
       "      <th>decl</th>\n",
       "      <th>gal_l</th>\n",
       "      <th>gal_b</th>\n",
       "      <th>ddf</th>\n",
       "      <th>hostgal_specz</th>\n",
       "      <th>hostgal_photoz</th>\n",
       "      <th>hostgal_photoz_err</th>\n",
       "      <th>distmod</th>\n",
       "      <th>mwebv</th>\n",
       "      <th>target</th>\n",
       "    </tr>\n",
       "  </thead>\n",
       "  <tbody>\n",
       "    <tr>\n",
       "      <th>0</th>\n",
       "      <td>615</td>\n",
       "      <td>349.046051</td>\n",
       "      <td>-61.943836</td>\n",
       "      <td>320.796530</td>\n",
       "      <td>-51.753706</td>\n",
       "      <td>1</td>\n",
       "      <td>0.0000</td>\n",
       "      <td>0.0000</td>\n",
       "      <td>0.0000</td>\n",
       "      <td>NaN</td>\n",
       "      <td>0.017</td>\n",
       "      <td>92</td>\n",
       "    </tr>\n",
       "    <tr>\n",
       "      <th>1</th>\n",
       "      <td>713</td>\n",
       "      <td>53.085938</td>\n",
       "      <td>-27.784405</td>\n",
       "      <td>223.525509</td>\n",
       "      <td>-54.460748</td>\n",
       "      <td>1</td>\n",
       "      <td>1.8181</td>\n",
       "      <td>1.6267</td>\n",
       "      <td>0.2552</td>\n",
       "      <td>45.4063</td>\n",
       "      <td>0.007</td>\n",
       "      <td>88</td>\n",
       "    </tr>\n",
       "    <tr>\n",
       "      <th>2</th>\n",
       "      <td>730</td>\n",
       "      <td>33.574219</td>\n",
       "      <td>-6.579593</td>\n",
       "      <td>170.455585</td>\n",
       "      <td>-61.548219</td>\n",
       "      <td>1</td>\n",
       "      <td>0.2320</td>\n",
       "      <td>0.2262</td>\n",
       "      <td>0.0157</td>\n",
       "      <td>40.2561</td>\n",
       "      <td>0.021</td>\n",
       "      <td>42</td>\n",
       "    </tr>\n",
       "    <tr>\n",
       "      <th>3</th>\n",
       "      <td>745</td>\n",
       "      <td>0.189873</td>\n",
       "      <td>-45.586655</td>\n",
       "      <td>328.254458</td>\n",
       "      <td>-68.969298</td>\n",
       "      <td>1</td>\n",
       "      <td>0.3037</td>\n",
       "      <td>0.2813</td>\n",
       "      <td>1.1523</td>\n",
       "      <td>40.7951</td>\n",
       "      <td>0.007</td>\n",
       "      <td>90</td>\n",
       "    </tr>\n",
       "    <tr>\n",
       "      <th>4</th>\n",
       "      <td>1124</td>\n",
       "      <td>352.711273</td>\n",
       "      <td>-63.823658</td>\n",
       "      <td>316.922299</td>\n",
       "      <td>-51.059403</td>\n",
       "      <td>1</td>\n",
       "      <td>0.1934</td>\n",
       "      <td>0.2415</td>\n",
       "      <td>0.0176</td>\n",
       "      <td>40.4166</td>\n",
       "      <td>0.024</td>\n",
       "      <td>90</td>\n",
       "    </tr>\n",
       "  </tbody>\n",
       "</table>\n",
       "</div>"
      ],
      "text/plain": [
       "   object_id          ra       decl       gal_l      gal_b  ddf  \\\n",
       "0        615  349.046051 -61.943836  320.796530 -51.753706    1   \n",
       "1        713   53.085938 -27.784405  223.525509 -54.460748    1   \n",
       "2        730   33.574219  -6.579593  170.455585 -61.548219    1   \n",
       "3        745    0.189873 -45.586655  328.254458 -68.969298    1   \n",
       "4       1124  352.711273 -63.823658  316.922299 -51.059403    1   \n",
       "\n",
       "   hostgal_specz  hostgal_photoz  hostgal_photoz_err  distmod  mwebv  target  \n",
       "0         0.0000          0.0000              0.0000      NaN  0.017      92  \n",
       "1         1.8181          1.6267              0.2552  45.4063  0.007      88  \n",
       "2         0.2320          0.2262              0.0157  40.2561  0.021      42  \n",
       "3         0.3037          0.2813              1.1523  40.7951  0.007      90  \n",
       "4         0.1934          0.2415              0.0176  40.4166  0.024      90  "
      ]
     },
     "execution_count": 5,
     "metadata": {},
     "output_type": "execute_result"
    }
   ],
   "source": [
    "train_metadata.head()"
   ]
  },
  {
   "cell_type": "code",
   "execution_count": 6,
   "metadata": {},
   "outputs": [
    {
     "data": {
      "text/html": [
       "<div>\n",
       "<style scoped>\n",
       "    .dataframe tbody tr th:only-of-type {\n",
       "        vertical-align: middle;\n",
       "    }\n",
       "\n",
       "    .dataframe tbody tr th {\n",
       "        vertical-align: top;\n",
       "    }\n",
       "\n",
       "    .dataframe thead th {\n",
       "        text-align: right;\n",
       "    }\n",
       "</style>\n",
       "<table border=\"1\" class=\"dataframe\">\n",
       "  <thead>\n",
       "    <tr style=\"text-align: right;\">\n",
       "      <th></th>\n",
       "      <th>object_id</th>\n",
       "      <th>count_flux_err</th>\n",
       "      <th>min_flux_err</th>\n",
       "      <th>max_flux_err</th>\n",
       "      <th>std_flux_err</th>\n",
       "      <th>sum_flux_err</th>\n",
       "      <th>mean_flux_err</th>\n",
       "      <th>median_flux_err</th>\n",
       "      <th>count_flux</th>\n",
       "      <th>min_flux</th>\n",
       "      <th>max_flux</th>\n",
       "      <th>std_flux</th>\n",
       "      <th>sum_flux</th>\n",
       "      <th>mean_flux</th>\n",
       "      <th>median_flux</th>\n",
       "      <th>count_detected</th>\n",
       "      <th>std_detected</th>\n",
       "      <th>sum_detected</th>\n",
       "      <th>mean_detected</th>\n",
       "      <th>median_detected</th>\n",
       "    </tr>\n",
       "  </thead>\n",
       "  <tbody>\n",
       "    <tr>\n",
       "      <th>0</th>\n",
       "      <td>615</td>\n",
       "      <td>352</td>\n",
       "      <td>2.130510</td>\n",
       "      <td>12.845472</td>\n",
       "      <td>1.744747</td>\n",
       "      <td>1577.92540</td>\n",
       "      <td>4.482743</td>\n",
       "      <td>3.835268</td>\n",
       "      <td>352</td>\n",
       "      <td>-1100.440100</td>\n",
       "      <td>660.626340</td>\n",
       "      <td>394.109860</td>\n",
       "      <td>-43330.14500</td>\n",
       "      <td>-123.097000</td>\n",
       "      <td>-89.477520</td>\n",
       "      <td>352</td>\n",
       "      <td>0.226295</td>\n",
       "      <td>333.0</td>\n",
       "      <td>0.946023</td>\n",
       "      <td>1.0</td>\n",
       "    </tr>\n",
       "    <tr>\n",
       "      <th>1</th>\n",
       "      <td>713</td>\n",
       "      <td>350</td>\n",
       "      <td>0.639458</td>\n",
       "      <td>9.115748</td>\n",
       "      <td>1.509888</td>\n",
       "      <td>825.86700</td>\n",
       "      <td>2.359620</td>\n",
       "      <td>1.998217</td>\n",
       "      <td>350</td>\n",
       "      <td>-14.735178</td>\n",
       "      <td>14.770886</td>\n",
       "      <td>6.471144</td>\n",
       "      <td>-498.17276</td>\n",
       "      <td>-1.423351</td>\n",
       "      <td>-0.873032</td>\n",
       "      <td>350</td>\n",
       "      <td>0.377423</td>\n",
       "      <td>60.0</td>\n",
       "      <td>0.171429</td>\n",
       "      <td>0.0</td>\n",
       "    </tr>\n",
       "    <tr>\n",
       "      <th>2</th>\n",
       "      <td>730</td>\n",
       "      <td>330</td>\n",
       "      <td>0.695106</td>\n",
       "      <td>11.281384</td>\n",
       "      <td>1.721134</td>\n",
       "      <td>815.45026</td>\n",
       "      <td>2.471062</td>\n",
       "      <td>1.990850</td>\n",
       "      <td>330</td>\n",
       "      <td>-19.159811</td>\n",
       "      <td>47.310060</td>\n",
       "      <td>8.022239</td>\n",
       "      <td>748.25323</td>\n",
       "      <td>2.267434</td>\n",
       "      <td>0.409172</td>\n",
       "      <td>330</td>\n",
       "      <td>0.255022</td>\n",
       "      <td>23.0</td>\n",
       "      <td>0.069697</td>\n",
       "      <td>0.0</td>\n",
       "    </tr>\n",
       "    <tr>\n",
       "      <th>3</th>\n",
       "      <td>745</td>\n",
       "      <td>351</td>\n",
       "      <td>0.567170</td>\n",
       "      <td>55.892746</td>\n",
       "      <td>3.537324</td>\n",
       "      <td>897.00700</td>\n",
       "      <td>2.555576</td>\n",
       "      <td>1.819875</td>\n",
       "      <td>351</td>\n",
       "      <td>-15.494463</td>\n",
       "      <td>220.795210</td>\n",
       "      <td>27.558208</td>\n",
       "      <td>3127.13130</td>\n",
       "      <td>8.909205</td>\n",
       "      <td>1.035895</td>\n",
       "      <td>351</td>\n",
       "      <td>0.379469</td>\n",
       "      <td>61.0</td>\n",
       "      <td>0.173789</td>\n",
       "      <td>0.0</td>\n",
       "    </tr>\n",
       "    <tr>\n",
       "      <th>4</th>\n",
       "      <td>1124</td>\n",
       "      <td>352</td>\n",
       "      <td>0.695277</td>\n",
       "      <td>11.383690</td>\n",
       "      <td>1.933838</td>\n",
       "      <td>969.05730</td>\n",
       "      <td>2.753004</td>\n",
       "      <td>2.214853</td>\n",
       "      <td>352</td>\n",
       "      <td>-16.543753</td>\n",
       "      <td>143.600190</td>\n",
       "      <td>20.051722</td>\n",
       "      <td>2515.28700</td>\n",
       "      <td>7.145702</td>\n",
       "      <td>1.141288</td>\n",
       "      <td>352</td>\n",
       "      <td>0.379041</td>\n",
       "      <td>61.0</td>\n",
       "      <td>0.173295</td>\n",
       "      <td>0.0</td>\n",
       "    </tr>\n",
       "  </tbody>\n",
       "</table>\n",
       "</div>"
      ],
      "text/plain": [
       "   object_id  count_flux_err  min_flux_err  max_flux_err  std_flux_err  \\\n",
       "0        615             352      2.130510     12.845472      1.744747   \n",
       "1        713             350      0.639458      9.115748      1.509888   \n",
       "2        730             330      0.695106     11.281384      1.721134   \n",
       "3        745             351      0.567170     55.892746      3.537324   \n",
       "4       1124             352      0.695277     11.383690      1.933838   \n",
       "\n",
       "   sum_flux_err  mean_flux_err  median_flux_err  count_flux     min_flux  \\\n",
       "0    1577.92540       4.482743         3.835268         352 -1100.440100   \n",
       "1     825.86700       2.359620         1.998217         350   -14.735178   \n",
       "2     815.45026       2.471062         1.990850         330   -19.159811   \n",
       "3     897.00700       2.555576         1.819875         351   -15.494463   \n",
       "4     969.05730       2.753004         2.214853         352   -16.543753   \n",
       "\n",
       "     max_flux    std_flux     sum_flux   mean_flux  median_flux  \\\n",
       "0  660.626340  394.109860 -43330.14500 -123.097000   -89.477520   \n",
       "1   14.770886    6.471144   -498.17276   -1.423351    -0.873032   \n",
       "2   47.310060    8.022239    748.25323    2.267434     0.409172   \n",
       "3  220.795210   27.558208   3127.13130    8.909205     1.035895   \n",
       "4  143.600190   20.051722   2515.28700    7.145702     1.141288   \n",
       "\n",
       "   count_detected  std_detected  sum_detected  mean_detected  median_detected  \n",
       "0             352      0.226295         333.0       0.946023              1.0  \n",
       "1             350      0.377423          60.0       0.171429              0.0  \n",
       "2             330      0.255022          23.0       0.069697              0.0  \n",
       "3             351      0.379469          61.0       0.173789              0.0  \n",
       "4             352      0.379041          61.0       0.173295              0.0  "
      ]
     },
     "execution_count": 6,
     "metadata": {},
     "output_type": "execute_result"
    }
   ],
   "source": [
    "agg_train.head()"
   ]
  },
  {
   "cell_type": "code",
   "execution_count": 10,
   "metadata": {},
   "outputs": [
    {
     "name": "stdout",
     "output_type": "stream",
     "text": [
      "B.object_id,\n",
      "B.count_flux_err,\n",
      "B.min_flux_err,\n",
      "B.max_flux_err,\n",
      "B.std_flux_err,\n",
      "B.sum_flux_err,\n",
      "B.mean_flux_err,\n",
      "B.median_flux_err,\n",
      "B.count_flux,\n",
      "B.min_flux,\n",
      "B.max_flux,\n",
      "B.std_flux,\n",
      "B.sum_flux,\n",
      "B.mean_flux,\n",
      "B.median_flux,\n",
      "B.count_detected,\n",
      "B.std_detected,\n",
      "B.sum_detected,\n",
      "B.mean_detected,\n",
      "B.median_detected,\n"
     ]
    }
   ],
   "source": [
    "for i in agg_train.columns:\n",
    "    print(\"B.{},\".format(i))"
   ]
  },
  {
   "cell_type": "code",
   "execution_count": 12,
   "metadata": {},
   "outputs": [],
   "source": [
    "merged_train_metadata = sqldf(\"SELECT A.*,B.count_flux_err,B.min_flux_err,B.max_flux_err,B.std_flux_err,B.sum_flux_err,B.mean_flux_err,B.median_flux_err,\\\n",
    "B.count_flux,B.min_flux,B.max_flux,B.std_flux,B.sum_flux,B.mean_flux,B.median_flux,B.count_detected,\\\n",
    "B.std_detected,B.sum_detected,B.mean_detected,B.median_detected FROM train_metadata A LEFT JOIN agg_train B WHERE A.object_id = B.object_id\")"
   ]
  },
  {
   "cell_type": "code",
   "execution_count": 13,
   "metadata": {},
   "outputs": [
    {
     "data": {
      "text/plain": [
       "(7848, 31)"
      ]
     },
     "execution_count": 13,
     "metadata": {},
     "output_type": "execute_result"
    }
   ],
   "source": [
    "merged_train_metadata.shape"
   ]
  },
  {
   "cell_type": "code",
   "execution_count": 20,
   "metadata": {},
   "outputs": [
    {
     "data": {
      "text/html": [
       "<div>\n",
       "<style scoped>\n",
       "    .dataframe tbody tr th:only-of-type {\n",
       "        vertical-align: middle;\n",
       "    }\n",
       "\n",
       "    .dataframe tbody tr th {\n",
       "        vertical-align: top;\n",
       "    }\n",
       "\n",
       "    .dataframe thead th {\n",
       "        text-align: right;\n",
       "    }\n",
       "</style>\n",
       "<table border=\"1\" class=\"dataframe\">\n",
       "  <thead>\n",
       "    <tr style=\"text-align: right;\">\n",
       "      <th></th>\n",
       "      <th>object_id</th>\n",
       "      <th>ra</th>\n",
       "      <th>decl</th>\n",
       "      <th>gal_l</th>\n",
       "      <th>gal_b</th>\n",
       "      <th>ddf</th>\n",
       "      <th>hostgal_specz</th>\n",
       "      <th>hostgal_photoz</th>\n",
       "      <th>hostgal_photoz_err</th>\n",
       "      <th>distmod</th>\n",
       "      <th>...</th>\n",
       "      <th>max_flux</th>\n",
       "      <th>std_flux</th>\n",
       "      <th>sum_flux</th>\n",
       "      <th>mean_flux</th>\n",
       "      <th>median_flux</th>\n",
       "      <th>count_detected</th>\n",
       "      <th>std_detected</th>\n",
       "      <th>sum_detected</th>\n",
       "      <th>mean_detected</th>\n",
       "      <th>median_detected</th>\n",
       "    </tr>\n",
       "  </thead>\n",
       "  <tbody>\n",
       "    <tr>\n",
       "      <th>0</th>\n",
       "      <td>615</td>\n",
       "      <td>349.046051</td>\n",
       "      <td>-61.943836</td>\n",
       "      <td>320.796530</td>\n",
       "      <td>-51.753706</td>\n",
       "      <td>1</td>\n",
       "      <td>0.0000</td>\n",
       "      <td>0.0000</td>\n",
       "      <td>0.0000</td>\n",
       "      <td>NaN</td>\n",
       "      <td>...</td>\n",
       "      <td>660.626340</td>\n",
       "      <td>394.109860</td>\n",
       "      <td>-43330.14500</td>\n",
       "      <td>-123.097000</td>\n",
       "      <td>-89.477520</td>\n",
       "      <td>352</td>\n",
       "      <td>0.226295</td>\n",
       "      <td>333.0</td>\n",
       "      <td>0.946023</td>\n",
       "      <td>1.0</td>\n",
       "    </tr>\n",
       "    <tr>\n",
       "      <th>1</th>\n",
       "      <td>713</td>\n",
       "      <td>53.085938</td>\n",
       "      <td>-27.784405</td>\n",
       "      <td>223.525509</td>\n",
       "      <td>-54.460748</td>\n",
       "      <td>1</td>\n",
       "      <td>1.8181</td>\n",
       "      <td>1.6267</td>\n",
       "      <td>0.2552</td>\n",
       "      <td>45.4063</td>\n",
       "      <td>...</td>\n",
       "      <td>14.770886</td>\n",
       "      <td>6.471144</td>\n",
       "      <td>-498.17276</td>\n",
       "      <td>-1.423351</td>\n",
       "      <td>-0.873032</td>\n",
       "      <td>350</td>\n",
       "      <td>0.377423</td>\n",
       "      <td>60.0</td>\n",
       "      <td>0.171429</td>\n",
       "      <td>0.0</td>\n",
       "    </tr>\n",
       "    <tr>\n",
       "      <th>2</th>\n",
       "      <td>730</td>\n",
       "      <td>33.574219</td>\n",
       "      <td>-6.579593</td>\n",
       "      <td>170.455585</td>\n",
       "      <td>-61.548219</td>\n",
       "      <td>1</td>\n",
       "      <td>0.2320</td>\n",
       "      <td>0.2262</td>\n",
       "      <td>0.0157</td>\n",
       "      <td>40.2561</td>\n",
       "      <td>...</td>\n",
       "      <td>47.310060</td>\n",
       "      <td>8.022239</td>\n",
       "      <td>748.25323</td>\n",
       "      <td>2.267434</td>\n",
       "      <td>0.409172</td>\n",
       "      <td>330</td>\n",
       "      <td>0.255022</td>\n",
       "      <td>23.0</td>\n",
       "      <td>0.069697</td>\n",
       "      <td>0.0</td>\n",
       "    </tr>\n",
       "    <tr>\n",
       "      <th>3</th>\n",
       "      <td>745</td>\n",
       "      <td>0.189873</td>\n",
       "      <td>-45.586655</td>\n",
       "      <td>328.254458</td>\n",
       "      <td>-68.969298</td>\n",
       "      <td>1</td>\n",
       "      <td>0.3037</td>\n",
       "      <td>0.2813</td>\n",
       "      <td>1.1523</td>\n",
       "      <td>40.7951</td>\n",
       "      <td>...</td>\n",
       "      <td>220.795210</td>\n",
       "      <td>27.558208</td>\n",
       "      <td>3127.13130</td>\n",
       "      <td>8.909205</td>\n",
       "      <td>1.035895</td>\n",
       "      <td>351</td>\n",
       "      <td>0.379469</td>\n",
       "      <td>61.0</td>\n",
       "      <td>0.173789</td>\n",
       "      <td>0.0</td>\n",
       "    </tr>\n",
       "    <tr>\n",
       "      <th>4</th>\n",
       "      <td>1124</td>\n",
       "      <td>352.711273</td>\n",
       "      <td>-63.823658</td>\n",
       "      <td>316.922299</td>\n",
       "      <td>-51.059403</td>\n",
       "      <td>1</td>\n",
       "      <td>0.1934</td>\n",
       "      <td>0.2415</td>\n",
       "      <td>0.0176</td>\n",
       "      <td>40.4166</td>\n",
       "      <td>...</td>\n",
       "      <td>143.600190</td>\n",
       "      <td>20.051722</td>\n",
       "      <td>2515.28700</td>\n",
       "      <td>7.145702</td>\n",
       "      <td>1.141288</td>\n",
       "      <td>352</td>\n",
       "      <td>0.379041</td>\n",
       "      <td>61.0</td>\n",
       "      <td>0.173295</td>\n",
       "      <td>0.0</td>\n",
       "    </tr>\n",
       "  </tbody>\n",
       "</table>\n",
       "<p>5 rows × 31 columns</p>\n",
       "</div>"
      ],
      "text/plain": [
       "   object_id          ra       decl       gal_l      gal_b  ddf  \\\n",
       "0        615  349.046051 -61.943836  320.796530 -51.753706    1   \n",
       "1        713   53.085938 -27.784405  223.525509 -54.460748    1   \n",
       "2        730   33.574219  -6.579593  170.455585 -61.548219    1   \n",
       "3        745    0.189873 -45.586655  328.254458 -68.969298    1   \n",
       "4       1124  352.711273 -63.823658  316.922299 -51.059403    1   \n",
       "\n",
       "   hostgal_specz  hostgal_photoz  hostgal_photoz_err  distmod  \\\n",
       "0         0.0000          0.0000              0.0000      NaN   \n",
       "1         1.8181          1.6267              0.2552  45.4063   \n",
       "2         0.2320          0.2262              0.0157  40.2561   \n",
       "3         0.3037          0.2813              1.1523  40.7951   \n",
       "4         0.1934          0.2415              0.0176  40.4166   \n",
       "\n",
       "        ...           max_flux    std_flux     sum_flux   mean_flux  \\\n",
       "0       ...         660.626340  394.109860 -43330.14500 -123.097000   \n",
       "1       ...          14.770886    6.471144   -498.17276   -1.423351   \n",
       "2       ...          47.310060    8.022239    748.25323    2.267434   \n",
       "3       ...         220.795210   27.558208   3127.13130    8.909205   \n",
       "4       ...         143.600190   20.051722   2515.28700    7.145702   \n",
       "\n",
       "   median_flux  count_detected  std_detected  sum_detected  mean_detected  \\\n",
       "0   -89.477520             352      0.226295         333.0       0.946023   \n",
       "1    -0.873032             350      0.377423          60.0       0.171429   \n",
       "2     0.409172             330      0.255022          23.0       0.069697   \n",
       "3     1.035895             351      0.379469          61.0       0.173789   \n",
       "4     1.141288             352      0.379041          61.0       0.173295   \n",
       "\n",
       "   median_detected  \n",
       "0              1.0  \n",
       "1              0.0  \n",
       "2              0.0  \n",
       "3              0.0  \n",
       "4              0.0  \n",
       "\n",
       "[5 rows x 31 columns]"
      ]
     },
     "execution_count": 20,
     "metadata": {},
     "output_type": "execute_result"
    }
   ],
   "source": [
    "merged_train_metadata.head()"
   ]
  },
  {
   "cell_type": "code",
   "execution_count": 15,
   "metadata": {},
   "outputs": [
    {
     "name": "stdout",
     "output_type": "stream",
     "text": [
      "CPU times: user 2min 17s, sys: 4.65 s, total: 2min 21s\n",
      "Wall time: 2min 21s\n"
     ]
    }
   ],
   "source": [
    "%%time\n",
    "merged_test_metadata = sqldf(\"SELECT A.*,B.count_flux_err,B.min_flux_err,B.max_flux_err,B.std_flux_err,B.sum_flux_err,B.mean_flux_err,B.median_flux_err,\\\n",
    "B.count_flux,B.min_flux,B.max_flux,B.std_flux,B.sum_flux,B.mean_flux,B.median_flux,B.count_detected,\\\n",
    "B.std_detected,B.sum_detected,B.mean_detected,B.median_detected FROM test_metadata A LEFT JOIN agg_test B WHERE A.object_id = B.object_id\")"
   ]
  },
  {
   "cell_type": "code",
   "execution_count": 16,
   "metadata": {},
   "outputs": [
    {
     "data": {
      "text/plain": [
       "(3492890, 30)"
      ]
     },
     "execution_count": 16,
     "metadata": {},
     "output_type": "execute_result"
    }
   ],
   "source": [
    "merged_test_metadata.shape"
   ]
  },
  {
   "cell_type": "code",
   "execution_count": 17,
   "metadata": {},
   "outputs": [
    {
     "data": {
      "text/plain": [
       "<matplotlib.axes._subplots.AxesSubplot at 0x7feeaf4ca978>"
      ]
     },
     "execution_count": 17,
     "metadata": {},
     "output_type": "execute_result"
    },
    {
     "data": {
      "image/png": "[encoded data removed]",
      "text/plain": [
       "<Figure size 1728x720 with 3 Axes>"
      ]
     },
     "metadata": {
      "needs_background": "light"
     },
     "output_type": "display_data"
    }
   ],
   "source": [
    "msno.bar(merged_test_metadata)"
   ]
  },
  {
   "cell_type": "code",
   "execution_count": 21,
   "metadata": {},
   "outputs": [
    {
     "name": "stdout",
     "output_type": "stream",
     "text": [
      "CPU times: user 1min 43s, sys: 1.08 s, total: 1min 44s\n",
      "Wall time: 1min 45s\n"
     ]
    }
   ],
   "source": [
    "%%time\n",
    "merged_train_metadata.to_csv('merged_train_metadata.csv',index=False)\n",
    "merged_test_metadata.to_csv('merged_test_metadata.csv',index=False)"
   ]
  }
 ],
 "metadata": {
  "kernelspec": {
   "display_name": "Python 3",
   "language": "python",
   "name": "python3"
  },
  "language_info": {
   "codemirror_mode": {
    "name": "ipython",
    "version": 3
   },
   "file_extension": ".py",
   "mimetype": "text/x-python",
   "name": "python",
   "nbconvert_exporter": "python",
   "pygments_lexer": "ipython3",
   "version": "3.6.6"
  }
 },
 "nbformat": 4,
 "nbformat_minor": 2
}
