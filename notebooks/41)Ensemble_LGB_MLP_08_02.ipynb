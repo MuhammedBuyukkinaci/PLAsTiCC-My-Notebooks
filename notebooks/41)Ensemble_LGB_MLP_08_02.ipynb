{
 "cells": [
  {
   "cell_type": "code",
   "execution_count": 1,
   "metadata": {},
   "outputs": [],
   "source": [
    "import numpy as np # linear algebra\n",
    "import pandas as pd # data processing, CSV file I/O (e.g. pd.read_csv)\n",
    "from sklearn.metrics import log_loss\n",
    "from sklearn.model_selection import StratifiedKFold\n",
    "import gc\n",
    "import os\n",
    "import matplotlib.pyplot as plt\n",
    "import seaborn as sns \n",
    "import lightgbm as lgb\n",
    "import itertools\n",
    "import pickle, gzip\n",
    "import glob\n",
    "from sklearn.preprocessing import StandardScaler\n",
    "from tsfresh.feature_extraction import extract_features\n",
    "np.warnings.filterwarnings('ignore')\n",
    "import dask.dataframe as dd\n",
    "import missingno as msno\n",
    "from pandasql import sqldf\n",
    "from sklearn.metrics import mean_squared_error\n",
    "from math import sqrt\n",
    "from sklearn.model_selection import KFold\n",
    "import matplotlib.gridspec as gridspec\n",
    "from sklearn import preprocessing\n",
    "from imblearn.over_sampling import SMOTE\n",
    "from sklearn.model_selection import train_test_split"
   ]
  },
  {
   "cell_type": "code",
   "execution_count": 2,
   "metadata": {},
   "outputs": [],
   "source": [
    "#Always seed the randomness of this universe\n",
    "np.random.seed(51)"
   ]
  },
  {
   "cell_type": "code",
   "execution_count": 3,
   "metadata": {},
   "outputs": [
    {
     "name": "stdout",
     "output_type": "stream",
     "text": [
      "(3492890, 16) (3492890, 16)\n",
      "CPU times: user 32.5 s, sys: 2.88 s, total: 35.4 s\n",
      "Wall time: 7.75 s\n"
     ]
    }
   ],
   "source": [
    "%%time\n",
    "pred1 = dd.read_csv('test_pred_20.csv')\n",
    "pred2 = dd.read_csv('test_pred_22.csv')\n",
    "pred1 = pred1.compute()\n",
    "pred2 = pred2.compute()\n",
    "print(pred1.shape,pred2.shape)"
   ]
  },
  {
   "cell_type": "code",
   "execution_count": 4,
   "metadata": {},
   "outputs": [
    {
     "name": "stdout",
     "output_type": "stream",
     "text": [
      "CPU times: user 145 ms, sys: 312 ms, total: 457 ms\n",
      "Wall time: 455 ms\n"
     ]
    }
   ],
   "source": [
    "%%time\n",
    "pred1 = pred1.reset_index(drop=True)\n",
    "pred2 = pred2.reset_index(drop=True)"
   ]
  },
  {
   "cell_type": "code",
   "execution_count": 5,
   "metadata": {},
   "outputs": [
    {
     "name": "stdout",
     "output_type": "stream",
     "text": [
      "CPU times: user 337 µs, sys: 0 ns, total: 337 µs\n",
      "Wall time: 341 µs\n"
     ]
    }
   ],
   "source": [
    "%%time\n",
    "test_ensemble = pd.DataFrame()"
   ]
  },
  {
   "cell_type": "code",
   "execution_count": 6,
   "metadata": {},
   "outputs": [],
   "source": [
    "coef_lgb = 0.8\n",
    "coef_mlp = 0.2"
   ]
  },
  {
   "cell_type": "code",
   "execution_count": 7,
   "metadata": {},
   "outputs": [
    {
     "name": "stdout",
     "output_type": "stream",
     "text": [
      "CPU times: user 334 ms, sys: 584 ms, total: 919 ms\n",
      "Wall time: 916 ms\n"
     ]
    }
   ],
   "source": [
    "%%time\n",
    "test_ensemble = pred1.iloc[:,1:]*coef_lgb + pred2.iloc[:,1:]*coef_mlp"
   ]
  },
  {
   "cell_type": "code",
   "execution_count": 8,
   "metadata": {},
   "outputs": [
    {
     "name": "stdout",
     "output_type": "stream",
     "text": [
      "(3492890, 15)\n"
     ]
    }
   ],
   "source": [
    "print(test_ensemble.shape)"
   ]
  },
  {
   "cell_type": "code",
   "execution_count": 9,
   "metadata": {},
   "outputs": [],
   "source": [
    "test_ensemble['object_id'] = pred1['object_id']"
   ]
  },
  {
   "cell_type": "code",
   "execution_count": 10,
   "metadata": {},
   "outputs": [
    {
     "name": "stdout",
     "output_type": "stream",
     "text": [
      "(3492890, 16)\n"
     ]
    }
   ],
   "source": [
    "print(test_ensemble.shape)"
   ]
  },
  {
   "cell_type": "code",
   "execution_count": 11,
   "metadata": {},
   "outputs": [],
   "source": [
    "test_ensemble = test_ensemble[list(pred1.columns)]"
   ]
  },
  {
   "cell_type": "code",
   "execution_count": 12,
   "metadata": {},
   "outputs": [
    {
     "data": {
      "text/html": [
       "<div>\n",
       "<style scoped>\n",
       "    .dataframe tbody tr th:only-of-type {\n",
       "        vertical-align: middle;\n",
       "    }\n",
       "\n",
       "    .dataframe tbody tr th {\n",
       "        vertical-align: top;\n",
       "    }\n",
       "\n",
       "    .dataframe thead th {\n",
       "        text-align: right;\n",
       "    }\n",
       "</style>\n",
       "<table border=\"1\" class=\"dataframe\">\n",
       "  <thead>\n",
       "    <tr style=\"text-align: right;\">\n",
       "      <th></th>\n",
       "      <th>object_id</th>\n",
       "      <th>class_6</th>\n",
       "      <th>class_15</th>\n",
       "      <th>class_16</th>\n",
       "      <th>class_42</th>\n",
       "      <th>class_52</th>\n",
       "      <th>class_53</th>\n",
       "      <th>class_62</th>\n",
       "      <th>class_64</th>\n",
       "      <th>class_65</th>\n",
       "      <th>class_67</th>\n",
       "      <th>class_88</th>\n",
       "      <th>class_90</th>\n",
       "      <th>class_92</th>\n",
       "      <th>class_95</th>\n",
       "      <th>class_99</th>\n",
       "    </tr>\n",
       "  </thead>\n",
       "  <tbody>\n",
       "    <tr>\n",
       "      <th>3492885</th>\n",
       "      <td>130787966</td>\n",
       "      <td>0.000177</td>\n",
       "      <td>0.355040</td>\n",
       "      <td>0.000320</td>\n",
       "      <td>0.189941</td>\n",
       "      <td>0.228110</td>\n",
       "      <td>0.000343</td>\n",
       "      <td>0.081297</td>\n",
       "      <td>0.000124</td>\n",
       "      <td>0.002043</td>\n",
       "      <td>0.012705</td>\n",
       "      <td>0.003562</td>\n",
       "      <td>0.125831</td>\n",
       "      <td>0.000164</td>\n",
       "      <td>0.000344</td>\n",
       "      <td>0.245541</td>\n",
       "    </tr>\n",
       "    <tr>\n",
       "      <th>3492886</th>\n",
       "      <td>130787971</td>\n",
       "      <td>0.000252</td>\n",
       "      <td>0.014179</td>\n",
       "      <td>0.000268</td>\n",
       "      <td>0.061153</td>\n",
       "      <td>0.191013</td>\n",
       "      <td>0.000314</td>\n",
       "      <td>0.019944</td>\n",
       "      <td>0.359429</td>\n",
       "      <td>0.000555</td>\n",
       "      <td>0.031331</td>\n",
       "      <td>0.001038</td>\n",
       "      <td>0.316647</td>\n",
       "      <td>0.000254</td>\n",
       "      <td>0.003622</td>\n",
       "      <td>0.233665</td>\n",
       "    </tr>\n",
       "    <tr>\n",
       "      <th>3492887</th>\n",
       "      <td>130787974</td>\n",
       "      <td>0.000864</td>\n",
       "      <td>0.033511</td>\n",
       "      <td>0.000185</td>\n",
       "      <td>0.840147</td>\n",
       "      <td>0.016127</td>\n",
       "      <td>0.000492</td>\n",
       "      <td>0.090778</td>\n",
       "      <td>0.000056</td>\n",
       "      <td>0.000282</td>\n",
       "      <td>0.001402</td>\n",
       "      <td>0.000716</td>\n",
       "      <td>0.013580</td>\n",
       "      <td>0.000233</td>\n",
       "      <td>0.001628</td>\n",
       "      <td>0.110447</td>\n",
       "    </tr>\n",
       "    <tr>\n",
       "      <th>3492888</th>\n",
       "      <td>130788053</td>\n",
       "      <td>0.000068</td>\n",
       "      <td>0.750243</td>\n",
       "      <td>0.000092</td>\n",
       "      <td>0.125583</td>\n",
       "      <td>0.006922</td>\n",
       "      <td>0.000091</td>\n",
       "      <td>0.010652</td>\n",
       "      <td>0.073527</td>\n",
       "      <td>0.000297</td>\n",
       "      <td>0.000467</td>\n",
       "      <td>0.000126</td>\n",
       "      <td>0.031409</td>\n",
       "      <td>0.000075</td>\n",
       "      <td>0.000449</td>\n",
       "      <td>0.152445</td>\n",
       "    </tr>\n",
       "    <tr>\n",
       "      <th>3492889</th>\n",
       "      <td>130788054</td>\n",
       "      <td>0.000134</td>\n",
       "      <td>0.045608</td>\n",
       "      <td>0.000148</td>\n",
       "      <td>0.324511</td>\n",
       "      <td>0.416499</td>\n",
       "      <td>0.000261</td>\n",
       "      <td>0.038736</td>\n",
       "      <td>0.000135</td>\n",
       "      <td>0.000303</td>\n",
       "      <td>0.012286</td>\n",
       "      <td>0.000905</td>\n",
       "      <td>0.159904</td>\n",
       "      <td>0.000151</td>\n",
       "      <td>0.000419</td>\n",
       "      <td>0.226362</td>\n",
       "    </tr>\n",
       "  </tbody>\n",
       "</table>\n",
       "</div>"
      ],
      "text/plain": [
       "         object_id   class_6  class_15  class_16  class_42  class_52  \\\n",
       "3492885  130787966  0.000177  0.355040  0.000320  0.189941  0.228110   \n",
       "3492886  130787971  0.000252  0.014179  0.000268  0.061153  0.191013   \n",
       "3492887  130787974  0.000864  0.033511  0.000185  0.840147  0.016127   \n",
       "3492888  130788053  0.000068  0.750243  0.000092  0.125583  0.006922   \n",
       "3492889  130788054  0.000134  0.045608  0.000148  0.324511  0.416499   \n",
       "\n",
       "         class_53  class_62  class_64  class_65  class_67  class_88  class_90  \\\n",
       "3492885  0.000343  0.081297  0.000124  0.002043  0.012705  0.003562  0.125831   \n",
       "3492886  0.000314  0.019944  0.359429  0.000555  0.031331  0.001038  0.316647   \n",
       "3492887  0.000492  0.090778  0.000056  0.000282  0.001402  0.000716  0.013580   \n",
       "3492888  0.000091  0.010652  0.073527  0.000297  0.000467  0.000126  0.031409   \n",
       "3492889  0.000261  0.038736  0.000135  0.000303  0.012286  0.000905  0.159904   \n",
       "\n",
       "         class_92  class_95  class_99  \n",
       "3492885  0.000164  0.000344  0.245541  \n",
       "3492886  0.000254  0.003622  0.233665  \n",
       "3492887  0.000233  0.001628  0.110447  \n",
       "3492888  0.000075  0.000449  0.152445  \n",
       "3492889  0.000151  0.000419  0.226362  "
      ]
     },
     "execution_count": 12,
     "metadata": {},
     "output_type": "execute_result"
    }
   ],
   "source": [
    "test_ensemble.tail()"
   ]
  },
  {
   "cell_type": "code",
   "execution_count": 13,
   "metadata": {},
   "outputs": [
    {
     "name": "stdout",
     "output_type": "stream",
     "text": [
      "CPU times: user 1min 33s, sys: 1.24 s, total: 1min 34s\n",
      "Wall time: 1min 34s\n"
     ]
    }
   ],
   "source": [
    "%%time\n",
    "test_ensemble.to_csv('test_pred_26.csv',index=False)"
   ]
  },
  {
   "cell_type": "code",
   "execution_count": 14,
   "metadata": {},
   "outputs": [
    {
     "name": "stdout",
     "output_type": "stream",
     "text": [
      "100%|█████████████████████████████████████| 1.06G/1.06G [2:39:25<00:00, 119kB/s]\n",
      "Successfully submitted to PLAsTiCC Astronomical Classification"
     ]
    }
   ],
   "source": [
    "!kaggle competitions submit -c PLAsTiCC-2018 -f test_pred_26.csv -m \"Message\""
   ]
  }
 ],
 "metadata": {
  "kernelspec": {
   "display_name": "Python 3",
   "language": "python",
   "name": "python3"
  },
  "language_info": {
   "codemirror_mode": {
    "name": "ipython",
    "version": 3
   },
   "file_extension": ".py",
   "mimetype": "text/x-python",
   "name": "python",
   "nbconvert_exporter": "python",
   "pygments_lexer": "ipython3",
   "version": "3.6.7"
  }
 },
 "nbformat": 4,
 "nbformat_minor": 2
}
