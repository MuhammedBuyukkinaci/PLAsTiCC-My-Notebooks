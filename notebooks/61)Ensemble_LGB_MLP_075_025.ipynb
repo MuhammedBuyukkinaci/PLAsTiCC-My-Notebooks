{
 "cells": [
  {
   "cell_type": "code",
   "execution_count": 1,
   "metadata": {},
   "outputs": [],
   "source": [
    "import numpy as np # linear algebra\n",
    "import pandas as pd # data processing, CSV file I/O (e.g. pd.read_csv)\n",
    "from sklearn.metrics import log_loss\n",
    "from sklearn.model_selection import StratifiedKFold\n",
    "import gc\n",
    "import os\n",
    "import matplotlib.pyplot as plt\n",
    "import seaborn as sns \n",
    "import lightgbm as lgb\n",
    "import itertools\n",
    "import pickle, gzip\n",
    "import glob\n",
    "from sklearn.preprocessing import StandardScaler\n",
    "from tsfresh.feature_extraction import extract_features\n",
    "np.warnings.filterwarnings('ignore')\n",
    "import dask.dataframe as dd\n",
    "import missingno as msno\n",
    "from pandasql import sqldf\n",
    "from sklearn.metrics import mean_squared_error\n",
    "from math import sqrt\n",
    "from sklearn.model_selection import KFold\n",
    "import matplotlib.gridspec as gridspec\n",
    "from sklearn import preprocessing\n",
    "from imblearn.over_sampling import SMOTE\n",
    "from sklearn.model_selection import train_test_split"
   ]
  },
  {
   "cell_type": "code",
   "execution_count": 2,
   "metadata": {},
   "outputs": [],
   "source": [
    "#Always seed the randomness of this universe\n",
    "np.random.seed(51)"
   ]
  },
  {
   "cell_type": "code",
   "execution_count": 3,
   "metadata": {},
   "outputs": [
    {
     "name": "stdout",
     "output_type": "stream",
     "text": [
      "(3492890, 16) (3492890, 16)\n",
      "CPU times: user 33.7 s, sys: 3.44 s, total: 37.1 s\n",
      "Wall time: 7.77 s\n"
     ]
    }
   ],
   "source": [
    "%%time\n",
    "pred1 = dd.read_csv('test_pred_40.csv')\n",
    "pred2 = dd.read_csv('test_pred_41.csv')\n",
    "pred1 = pred1.compute()\n",
    "pred2 = pred2.compute()\n",
    "print(pred1.shape,pred2.shape)"
   ]
  },
  {
   "cell_type": "code",
   "execution_count": 4,
   "metadata": {},
   "outputs": [
    {
     "name": "stdout",
     "output_type": "stream",
     "text": [
      "CPU times: user 163 ms, sys: 291 ms, total: 454 ms\n",
      "Wall time: 453 ms\n"
     ]
    }
   ],
   "source": [
    "%%time\n",
    "pred1 = pred1.reset_index(drop=True)\n",
    "pred2 = pred2.reset_index(drop=True)"
   ]
  },
  {
   "cell_type": "code",
   "execution_count": 5,
   "metadata": {},
   "outputs": [
    {
     "data": {
      "text/plain": [
       "True"
      ]
     },
     "execution_count": 5,
     "metadata": {},
     "output_type": "execute_result"
    }
   ],
   "source": [
    "pred1['object_id'].equals(pred2['object_id'])"
   ]
  },
  {
   "cell_type": "code",
   "execution_count": 6,
   "metadata": {},
   "outputs": [
    {
     "name": "stdout",
     "output_type": "stream",
     "text": [
      "CPU times: user 276 µs, sys: 36 µs, total: 312 µs\n",
      "Wall time: 317 µs\n"
     ]
    }
   ],
   "source": [
    "%%time\n",
    "test_ensemble = pd.DataFrame()"
   ]
  },
  {
   "cell_type": "code",
   "execution_count": 7,
   "metadata": {},
   "outputs": [],
   "source": [
    "coef_lgb = 0.75\n",
    "coef_mlp = 0.25"
   ]
  },
  {
   "cell_type": "code",
   "execution_count": 8,
   "metadata": {},
   "outputs": [
    {
     "name": "stdout",
     "output_type": "stream",
     "text": [
      "CPU times: user 286 ms, sys: 558 ms, total: 845 ms\n",
      "Wall time: 843 ms\n"
     ]
    }
   ],
   "source": [
    "%%time\n",
    "test_ensemble = pred1.iloc[:,1:]*coef_lgb + pred2.iloc[:,1:]*coef_mlp"
   ]
  },
  {
   "cell_type": "code",
   "execution_count": 9,
   "metadata": {},
   "outputs": [
    {
     "name": "stdout",
     "output_type": "stream",
     "text": [
      "(3492890, 15)\n"
     ]
    }
   ],
   "source": [
    "print(test_ensemble.shape)"
   ]
  },
  {
   "cell_type": "code",
   "execution_count": 10,
   "metadata": {},
   "outputs": [
    {
     "name": "stdout",
     "output_type": "stream",
     "text": [
      "(3492890, 16)\n"
     ]
    }
   ],
   "source": [
    "test_ensemble['object_id'] = pred1['object_id']\n",
    "print(test_ensemble.shape)"
   ]
  },
  {
   "cell_type": "code",
   "execution_count": 11,
   "metadata": {},
   "outputs": [],
   "source": [
    "test_ensemble = test_ensemble[list(pred1.columns)]"
   ]
  },
  {
   "cell_type": "code",
   "execution_count": 12,
   "metadata": {},
   "outputs": [
    {
     "data": {
      "text/html": [
       "<div>\n",
       "<style scoped>\n",
       "    .dataframe tbody tr th:only-of-type {\n",
       "        vertical-align: middle;\n",
       "    }\n",
       "\n",
       "    .dataframe tbody tr th {\n",
       "        vertical-align: top;\n",
       "    }\n",
       "\n",
       "    .dataframe thead th {\n",
       "        text-align: right;\n",
       "    }\n",
       "</style>\n",
       "<table border=\"1\" class=\"dataframe\">\n",
       "  <thead>\n",
       "    <tr style=\"text-align: right;\">\n",
       "      <th></th>\n",
       "      <th>object_id</th>\n",
       "      <th>class_6</th>\n",
       "      <th>class_15</th>\n",
       "      <th>class_16</th>\n",
       "      <th>class_42</th>\n",
       "      <th>class_52</th>\n",
       "      <th>class_53</th>\n",
       "      <th>class_62</th>\n",
       "      <th>class_64</th>\n",
       "      <th>class_65</th>\n",
       "      <th>class_67</th>\n",
       "      <th>class_88</th>\n",
       "      <th>class_90</th>\n",
       "      <th>class_92</th>\n",
       "      <th>class_95</th>\n",
       "      <th>class_99</th>\n",
       "    </tr>\n",
       "  </thead>\n",
       "  <tbody>\n",
       "    <tr>\n",
       "      <th>3492885</th>\n",
       "      <td>130787966</td>\n",
       "      <td>0.000162</td>\n",
       "      <td>0.363145</td>\n",
       "      <td>0.000329</td>\n",
       "      <td>0.198633</td>\n",
       "      <td>0.112030</td>\n",
       "      <td>0.000375</td>\n",
       "      <td>0.116565</td>\n",
       "      <td>0.000253</td>\n",
       "      <td>0.001393</td>\n",
       "      <td>0.015290</td>\n",
       "      <td>0.002222</td>\n",
       "      <td>0.188844</td>\n",
       "      <td>0.000242</td>\n",
       "      <td>0.000518</td>\n",
       "      <td>0.246076</td>\n",
       "    </tr>\n",
       "    <tr>\n",
       "      <th>3492886</th>\n",
       "      <td>130787971</td>\n",
       "      <td>0.000176</td>\n",
       "      <td>0.013725</td>\n",
       "      <td>0.000162</td>\n",
       "      <td>0.055945</td>\n",
       "      <td>0.175157</td>\n",
       "      <td>0.000211</td>\n",
       "      <td>0.022324</td>\n",
       "      <td>0.344901</td>\n",
       "      <td>0.000343</td>\n",
       "      <td>0.036548</td>\n",
       "      <td>0.000757</td>\n",
       "      <td>0.343566</td>\n",
       "      <td>0.000259</td>\n",
       "      <td>0.005926</td>\n",
       "      <td>0.232179</td>\n",
       "    </tr>\n",
       "    <tr>\n",
       "      <th>3492887</th>\n",
       "      <td>130787974</td>\n",
       "      <td>0.000720</td>\n",
       "      <td>0.022006</td>\n",
       "      <td>0.000130</td>\n",
       "      <td>0.842032</td>\n",
       "      <td>0.030621</td>\n",
       "      <td>0.000314</td>\n",
       "      <td>0.090330</td>\n",
       "      <td>0.000044</td>\n",
       "      <td>0.000134</td>\n",
       "      <td>0.001318</td>\n",
       "      <td>0.000340</td>\n",
       "      <td>0.009953</td>\n",
       "      <td>0.000178</td>\n",
       "      <td>0.001879</td>\n",
       "      <td>0.104914</td>\n",
       "    </tr>\n",
       "    <tr>\n",
       "      <th>3492888</th>\n",
       "      <td>130788053</td>\n",
       "      <td>0.000056</td>\n",
       "      <td>0.732645</td>\n",
       "      <td>0.000071</td>\n",
       "      <td>0.145626</td>\n",
       "      <td>0.003477</td>\n",
       "      <td>0.000106</td>\n",
       "      <td>0.010364</td>\n",
       "      <td>0.076132</td>\n",
       "      <td>0.000421</td>\n",
       "      <td>0.000383</td>\n",
       "      <td>0.000248</td>\n",
       "      <td>0.029685</td>\n",
       "      <td>0.000099</td>\n",
       "      <td>0.000686</td>\n",
       "      <td>0.158265</td>\n",
       "    </tr>\n",
       "    <tr>\n",
       "      <th>3492889</th>\n",
       "      <td>130788054</td>\n",
       "      <td>0.000184</td>\n",
       "      <td>0.081282</td>\n",
       "      <td>0.000271</td>\n",
       "      <td>0.405340</td>\n",
       "      <td>0.191037</td>\n",
       "      <td>0.000447</td>\n",
       "      <td>0.055281</td>\n",
       "      <td>0.000107</td>\n",
       "      <td>0.000482</td>\n",
       "      <td>0.020992</td>\n",
       "      <td>0.001068</td>\n",
       "      <td>0.242159</td>\n",
       "      <td>0.000595</td>\n",
       "      <td>0.000756</td>\n",
       "      <td>0.236731</td>\n",
       "    </tr>\n",
       "  </tbody>\n",
       "</table>\n",
       "</div>"
      ],
      "text/plain": [
       "         object_id   class_6  class_15  class_16  class_42  class_52  \\\n",
       "3492885  130787966  0.000162  0.363145  0.000329  0.198633  0.112030   \n",
       "3492886  130787971  0.000176  0.013725  0.000162  0.055945  0.175157   \n",
       "3492887  130787974  0.000720  0.022006  0.000130  0.842032  0.030621   \n",
       "3492888  130788053  0.000056  0.732645  0.000071  0.145626  0.003477   \n",
       "3492889  130788054  0.000184  0.081282  0.000271  0.405340  0.191037   \n",
       "\n",
       "         class_53  class_62  class_64  class_65  class_67  class_88  class_90  \\\n",
       "3492885  0.000375  0.116565  0.000253  0.001393  0.015290  0.002222  0.188844   \n",
       "3492886  0.000211  0.022324  0.344901  0.000343  0.036548  0.000757  0.343566   \n",
       "3492887  0.000314  0.090330  0.000044  0.000134  0.001318  0.000340  0.009953   \n",
       "3492888  0.000106  0.010364  0.076132  0.000421  0.000383  0.000248  0.029685   \n",
       "3492889  0.000447  0.055281  0.000107  0.000482  0.020992  0.001068  0.242159   \n",
       "\n",
       "         class_92  class_95  class_99  \n",
       "3492885  0.000242  0.000518  0.246076  \n",
       "3492886  0.000259  0.005926  0.232179  \n",
       "3492887  0.000178  0.001879  0.104914  \n",
       "3492888  0.000099  0.000686  0.158265  \n",
       "3492889  0.000595  0.000756  0.236731  "
      ]
     },
     "execution_count": 12,
     "metadata": {},
     "output_type": "execute_result"
    }
   ],
   "source": [
    "test_ensemble.tail()"
   ]
  },
  {
   "cell_type": "code",
   "execution_count": 13,
   "metadata": {},
   "outputs": [
    {
     "name": "stdout",
     "output_type": "stream",
     "text": [
      "CPU times: user 1min 28s, sys: 1.02 s, total: 1min 29s\n",
      "Wall time: 1min 29s\n"
     ]
    }
   ],
   "source": [
    "%%time\n",
    "test_ensemble.to_csv('test_pred_43.csv',index=False)"
   ]
  },
  {
   "cell_type": "code",
   "execution_count": 14,
   "metadata": {},
   "outputs": [
    {
     "data": {
      "text/plain": [
       "True"
      ]
     },
     "execution_count": 14,
     "metadata": {},
     "output_type": "execute_result"
    }
   ],
   "source": [
    "test_ensemble['object_id'].equals(pred1['object_id'])"
   ]
  },
  {
   "cell_type": "code",
   "execution_count": 15,
   "metadata": {},
   "outputs": [
    {
     "name": "stdout",
     "output_type": "stream",
     "text": [
      "100%|██████████████████████████████████████| 1.06G/1.06G [04:25<00:00, 4.30MB/s]\n",
      "Successfully submitted to PLAsTiCC Astronomical Classification"
     ]
    }
   ],
   "source": [
    "!kaggle competitions submit -c PLAsTiCC-2018 -f test_pred_43.csv -m \"Message\""
   ]
  },
  {
   "cell_type": "code",
   "execution_count": null,
   "metadata": {},
   "outputs": [],
   "source": []
  }
 ],
 "metadata": {
  "kernelspec": {
   "display_name": "Python 3",
   "language": "python",
   "name": "python3"
  },
  "language_info": {
   "codemirror_mode": {
    "name": "ipython",
    "version": 3
   },
   "file_extension": ".py",
   "mimetype": "text/x-python",
   "name": "python",
   "nbconvert_exporter": "python",
   "pygments_lexer": "ipython3",
   "version": "3.6.7"
  }
 },
 "nbformat": 4,
 "nbformat_minor": 2
}
